{
 "cells": [
  {
   "cell_type": "code",
   "execution_count": 1,
   "metadata": {},
   "outputs": [],
   "source": [
    "from IPython.display import Image"
   ]
  },
  {
   "cell_type": "markdown",
   "metadata": {},
   "source": [
    "### IBM Advanced Data Science Capstone Project\n",
    "#### Salvatore Salpietro\n",
    "\n",
    "<hr/>\n",
    "\n",
    "###### Purpose\n",
    "\n",
    "The scope pf this project is to build a classifier to detect diseased lung from chest x-ray images, where the disease is pneumonia.\n",
    "\n",
    "###### What is pneumonia\n",
    "\n",
    "Pneumonia is an inflammatory lung disease that affects the small air sacs called alvioli.  \n",
    "\n",
    "<img src=\"https://github.com/erotavlas/machine-learning/raw/main/IBMAdvancedDataScience_Capstone/images/pneumonia.jpg\" width=350 />\n",
    "\n",
    "###### Types\n",
    "There are three main classification of pneumonia by location in the lungs, these are,\n",
    "\n",
    "- Lobar and Multilobar pneumonia is an infection that involves one or more lobes, or section, of a lung. Lobar pneumonia is often due to Streptococcus pneumoniae (though Klebsiella pneumoniae is also possible.) Multilobar pneumonia involves more than one lobe, and it often causes a more severe illness.\n",
    "- Bronchial pneumonia affects the lungs in patches around the tubes (bronchi or bronchioles).\n",
    "- Interstitial pneumonia involves the areas in between the alveoli, and it may be called \"interstitial pneumonitis.\" It is more likely to be caused by viruses or by atypical bacteria.\n",
    "\n",
    "<img src=\"https://github.com/erotavlas/machine-learning/raw/main/IBMAdvancedDataScience_Capstone/images/types-of-pneumonia.jpeg\" width=350 />\n",
    "\n",
    "###### Symptoms\n",
    "People with this condition typically exhibit the following symptoms of variable severity \n",
    "- cough \n",
    "- chest pain \n",
    "- fever \n",
    "- difficulty breathing. \n",
    "\n",
    "###### Causes\n",
    "The causes are mainly due to viruses and bacteris but can also be from fungii, parasites or noninfectious causes.  \n",
    "\n",
    "<img src=\"https://github.com/erotavlas/machine-learning/raw/main/IBMAdvancedDataScience_Capstone/images/causes.jpg\" width=500>\n",
    "\n",
    "###### Diagnosis\n",
    "In order to verify a case of pneumonia in a patient, doctors rely on a combination of methods including observing physical signs, blood tests, and often a chest X-ray.  The chest X-ray is useful not only for diagnosis, but also to determine the extent of disease in the lungs.  \n",
    "\n",
    "###### How does a doctor determine if a lung is diseased or not from chest X-rays?  \n",
    "A chest X-ray is a radiology test that involves exposing the chest briefly to radiation to produce an image of the chest and the internal organs of the chest. An X-ray film is positioned against the body opposite the camera, which sends out a very small dose of a radiation beam. As the radiation penetrates the body, it is absorbed in varying amounts by different body tissues depending on the tissue's composition of air, water, blood, bone, or muscle. The X-ray image records these difference in penetration of the X-ray beam to produce an image of body tissue structures. The white shadows on chest X-ray represent areas where the beam is blocked by more dense or solid tissues, such as bone or heart.  The darker shadows on the chest X-ray represent areas where the x-ray beam penetrates more easily such as in air filled tissues like the lungs. \n",
    "\n",
    "Here is an example of chest x-rays for normal lung vs lung affected by pneumonia.\n",
    "<img src=\"https://github.com/erotavlas/machine-learning/raw/main/IBMAdvancedDataScience_Capstone/images/normal_vs_pneumonia.png\" width=500 />\n",
    "\n",
    "Doctors look for lighter areas in the lung indicating the precense of inflammation and fluid buildup.  This causes areas of the lung to become lighter on the x-ray image compared to the darker air filled areas of healthy lungs.\n",
    "\n",
    "###### Can AI assist in this process?\n",
    "In this project we will attempt to create a machine learning model that will effectively automate what the doctor is doing when they screen a patient for lung disease, in this case the disease is pneumonia. By training the model on a set of healthy and diseased lung X-ray images, it will be able to distinguish between the two types."
   ]
  },
  {
   "cell_type": "markdown",
   "metadata": {},
   "source": [
    "### Importing libraries"
   ]
  },
  {
   "cell_type": "code",
   "execution_count": 1,
   "metadata": {},
   "outputs": [],
   "source": [
    "# utilities \n",
    "import os\n",
    "import random\n",
    "import statistics\n",
    "from tqdm import tqdm\n",
    "from pathlib import Path\n",
    "from natsort import natsorted, ns # natural sorting\n",
    "from scipy.stats import norm\n",
    "import numpy as np\n",
    "import pandas as pd\n",
    "\n",
    "# plotting libraries\n",
    "import seaborn as sns\n",
    "import matplotlib.pyplot as plt\n",
    "from mlxtend.plotting import plot_confusion_matrix\n",
    "\n",
    "# skimage\n",
    "from skimage import io # allows to read images\n",
    "from skimage.color import rgb2gray\n",
    "from skimage.util import crop\n",
    "from skimage.transform import resize\n",
    "\n",
    "# sklearn\n",
    "from sklearn.ensemble import RandomForestClassifier\n",
    "from sklearn.ensemble import GradientBoostingClassifier\n",
    "from sklearn.dummy import DummyClassifier\n",
    "from sklearn.naive_bayes import GaussianNB\n",
    "from sklearn import tree\n",
    "from sklearn import svm\n",
    "\n",
    "# sklearn metrics\n",
    "from sklearn.metrics import classification_report, confusion_matrix, plot_roc_curve\n",
    "from sklearn.metrics import auc as metrics_auc\n",
    "from sklearn.model_selection import validation_curve, cross_val_score, cross_validate, StratifiedKFold, KFold\n",
    "\n",
    "# tensorflow / keras\n",
    "import tensorflow as tf\n",
    "from tensorflow.keras.mixed_precision import experimental as mixed_precision\n",
    "from keras.preprocessing.image import ImageDataGenerator\n",
    "from tensorflow.keras.models import load_model"
   ]
  },
  {
   "cell_type": "code",
   "execution_count": 3,
   "metadata": {},
   "outputs": [
    {
     "name": "stdout",
     "output_type": "stream",
     "text": [
      "2.4.0\n"
     ]
    }
   ],
   "source": [
    "print(tf.__version__)"
   ]
  },
  {
   "cell_type": "code",
   "execution_count": 4,
   "metadata": {},
   "outputs": [
    {
     "name": "stdout",
     "output_type": "stream",
     "text": [
      "INFO:tensorflow:Mixed precision compatibility check (mixed_float16): OK\n",
      "Your GPU will likely run quickly with dtype policy mixed_float16 as it has compute capability of at least 7.0. Your GPU: GeForce RTX 2060 SUPER, compute capability 7.5\n",
      "WARNING:tensorflow:From c:\\miniconda3\\envs\\capstone\\lib\\site-packages\\tensorflow\\python\\keras\\mixed_precision\\loss_scale.py:56: DynamicLossScale.__init__ (from tensorflow.python.training.experimental.loss_scale) is deprecated and will be removed in a future version.\n",
      "Instructions for updating:\n",
      "Use tf.keras.mixed_precision.LossScaleOptimizer instead. LossScaleOptimizer now has all the functionality of DynamicLossScale\n"
     ]
    }
   ],
   "source": [
    "policy = mixed_precision.Policy('mixed_float16')\n",
    "mixed_precision.set_policy(policy)"
   ]
  },
  {
   "cell_type": "code",
   "execution_count": 5,
   "metadata": {},
   "outputs": [
    {
     "name": "stdout",
     "output_type": "stream",
     "text": [
      "Compute dtype: float16\n",
      "Variable dtype: float32\n"
     ]
    }
   ],
   "source": [
    "print('Compute dtype: %s' % policy.compute_dtype)\n",
    "print('Variable dtype: %s' % policy.variable_dtype)"
   ]
  },
  {
   "cell_type": "code",
   "execution_count": 6,
   "metadata": {},
   "outputs": [
    {
     "name": "stdout",
     "output_type": "stream",
     "text": [
      "[PhysicalDevice(name='/physical_device:CPU:0', device_type='CPU'), PhysicalDevice(name='/physical_device:GPU:0', device_type='GPU')]\n",
      "Device Spec:  /job:localhost/replica:0/device:GPU:*\n"
     ]
    }
   ],
   "source": [
    "physical_devices = tf.config.list_physical_devices()\n",
    "print(physical_devices)\n",
    "device_spec = tf.DeviceSpec(job =\"localhost\", replica = 0, device_type = \"GPU\") \n",
    "print('Device Spec: ', device_spec.to_string()) "
   ]
  },
  {
   "cell_type": "markdown",
   "metadata": {},
   "source": [
    "### Data analysis step\n",
    "\n",
    "Determine the characteristics of the data and statistics "
   ]
  },
  {
   "cell_type": "markdown",
   "metadata": {},
   "source": [
    "#### 1. Data source\n",
    "\n",
    "Data was obtained from the following source \n",
    "https://data.mendeley.com/datasets/rscbjbr9sj/3\n",
    "\n",
    "We are provided with an archive file containing a set of chest x-rays.  Images are provided in two separate folders, test and train.  Within those folders images are separated into two classes - normal and pneumonia.  "
   ]
  },
  {
   "cell_type": "markdown",
   "metadata": {},
   "source": [
    "```text\n",
    "chest-xray\n",
    "|__test\n",
    "|  |__NORMAL\n",
    "|  |__PNEUMONIA\n",
    "|\n",
    "|__train\n",
    "   |__NORMAL\n",
    "   |__PNEUMONIA```"
   ]
  },
  {
   "cell_type": "markdown",
   "metadata": {},
   "source": [
    "#### 2. Characteristics of files"
   ]
  },
  {
   "cell_type": "code",
   "execution_count": 7,
   "metadata": {},
   "outputs": [],
   "source": [
    "sizes = [] # sizes in kb\n",
    "all_extensions = set([])\n",
    "filenum = []\n",
    "count = 0\n",
    "\n",
    "test_images = []\n",
    "test_labels = []\n",
    "\n",
    "train_images = []\n",
    "train_labels = []\n",
    "\n",
    "# training set folder\n",
    "for root, dirs, files in os.walk(\"E:\\COURSES\\Advanced Data Science With IBM\\Advanced Data Science Capstone\\\\assignment\\data\\chest_xray\\\\train\"):\n",
    "    #print('dirs', dirs)\n",
    "    for name in files:\n",
    "        #print('name', name)\n",
    "        #print(os.path.basename(root))\n",
    "        \n",
    "        file_name, file_extension = os.path.splitext(name)\n",
    "        all_extensions.add(file_extension)\n",
    "        \n",
    "        stats = os.stat(os.path.join(root, name))\n",
    "        count = count + 1\n",
    "        \n",
    "        sizes.append(stats.st_size/1000) \n",
    "        \n",
    "        #if(stats.st_size/1000 < 12):\n",
    "        #    discarded.append(os.path.join(root, name))\n",
    "        #else:\n",
    "        train_images.append(os.path.join(root, name))\n",
    "        train_labels.append(os.path.basename(root))\n",
    "        \n",
    "        filenum.append(count)\n",
    "\n",
    "# test set folder\n",
    "for root, dirs, files in os.walk(\"E:\\COURSES\\Advanced Data Science With IBM\\Advanced Data Science Capstone\\\\assignment\\data\\chest_xray\\\\test\"):\n",
    "    #print('dirs', dirs)\n",
    "    for name in files:\n",
    "        #print('name', name)\n",
    "        #print(os.path.basename(root))\n",
    "        \n",
    "        file_name, file_extension = os.path.splitext(name)\n",
    "        all_extensions.add(file_extension)\n",
    "\n",
    "        stats = os.stat(os.path.join(root, name))\n",
    "        count = count + 1\n",
    "        \n",
    "        sizes.append(stats.st_size/1000)\n",
    "        \n",
    "        #if(stats.st_size/1000 < 12):\n",
    "        #    discarded.append(os.path.join(root, name))\n",
    "        #else:\n",
    "        test_images.append(os.path.join(root, name))\n",
    "        test_labels.append(os.path.basename(root))\n",
    "        \n",
    "        filenum.append(count)"
   ]
  },
  {
   "cell_type": "markdown",
   "metadata": {},
   "source": [
    "##### 2.1. File names"
   ]
  },
  {
   "cell_type": "markdown",
   "metadata": {},
   "source": [
    "File names for images of dieases lungs contain a unique anonymized person number as well as the text 'bacteris' or 'virus' indicating if the pnemonia was caused by a virus or bacteris.  Example person426_virus_873\n",
    "\n",
    "File names for images of normal lungs contain the work 'NORMAL'. Example - NORMAL2-IM-1250-0001"
   ]
  },
  {
   "cell_type": "markdown",
   "metadata": {},
   "source": [
    "##### 2.2. File extensions"
   ]
  },
  {
   "cell_type": "code",
   "execution_count": 8,
   "metadata": {},
   "outputs": [
    {
     "name": "stdout",
     "output_type": "stream",
     "text": [
      "{'.jpeg'}\n"
     ]
    }
   ],
   "source": [
    "print(all_extensions)"
   ]
  },
  {
   "cell_type": "markdown",
   "metadata": {},
   "source": [
    "Files are of types - jpeg"
   ]
  },
  {
   "cell_type": "markdown",
   "metadata": {},
   "source": [
    "##### 2.3. Total number of image files"
   ]
  },
  {
   "cell_type": "code",
   "execution_count": 9,
   "metadata": {},
   "outputs": [],
   "source": [
    "total_image_files = len(train_images) + len(test_images)"
   ]
  },
  {
   "cell_type": "code",
   "execution_count": 10,
   "metadata": {},
   "outputs": [
    {
     "name": "stdout",
     "output_type": "stream",
     "text": [
      "5856\n"
     ]
    }
   ],
   "source": [
    "print(total_image_files)"
   ]
  },
  {
   "cell_type": "markdown",
   "metadata": {},
   "source": [
    "There are a total of 7197 files across both folders (test and train)"
   ]
  },
  {
   "cell_type": "markdown",
   "metadata": {},
   "source": [
    "##### 2.4. Distribution of image files in test and train folders"
   ]
  },
  {
   "cell_type": "code",
   "execution_count": 11,
   "metadata": {},
   "outputs": [
    {
     "data": {
      "text/plain": [
       "624"
      ]
     },
     "execution_count": 11,
     "metadata": {},
     "output_type": "execute_result"
    }
   ],
   "source": [
    "len(test_images)"
   ]
  },
  {
   "cell_type": "code",
   "execution_count": 12,
   "metadata": {},
   "outputs": [
    {
     "data": {
      "text/plain": [
       "5232"
      ]
     },
     "execution_count": 12,
     "metadata": {},
     "output_type": "execute_result"
    }
   ],
   "source": [
    "len(train_images)"
   ]
  },
  {
   "cell_type": "code",
   "execution_count": 13,
   "metadata": {},
   "outputs": [
    {
     "name": "stdout",
     "output_type": "stream",
     "text": [
      "Train / Test split is about  89.34426229508196  /  10.655737704918039\n"
     ]
    }
   ],
   "source": [
    "print('Train / Test split is about ', len(train_images) / total_image_files * 100, ' / ', 100 - len(train_images) / total_image_files * 100) "
   ]
  },
  {
   "cell_type": "markdown",
   "metadata": {},
   "source": [
    "##### 2.5 Class distribution for training set"
   ]
  },
  {
   "cell_type": "code",
   "execution_count": 14,
   "metadata": {},
   "outputs": [],
   "source": [
    "pneumonia = [i for i in train_labels if i == 'PNEUMONIA']\n",
    "normal = [i for i in train_labels if i == 'NORMAL']"
   ]
  },
  {
   "cell_type": "code",
   "execution_count": 15,
   "metadata": {},
   "outputs": [
    {
     "data": {
      "text/plain": [
       "1349"
      ]
     },
     "execution_count": 15,
     "metadata": {},
     "output_type": "execute_result"
    }
   ],
   "source": [
    "len(normal)"
   ]
  },
  {
   "cell_type": "code",
   "execution_count": 16,
   "metadata": {},
   "outputs": [
    {
     "data": {
      "text/plain": [
       "3883"
      ]
     },
     "execution_count": 16,
     "metadata": {},
     "output_type": "execute_result"
    }
   ],
   "source": [
    "len(pneumonia)"
   ]
  },
  {
   "cell_type": "code",
   "execution_count": 17,
   "metadata": {},
   "outputs": [
    {
     "name": "stdout",
     "output_type": "stream",
     "text": [
      "There are  2.878428465530022  more pneumonia images than normal images in the training set\n"
     ]
    }
   ],
   "source": [
    "print('There are ', len(pneumonia)/len(normal), ' more pneumonia images than normal images in the training set')"
   ]
  },
  {
   "cell_type": "code",
   "execution_count": 18,
   "metadata": {},
   "outputs": [
    {
     "data": {
      "image/png": "[encoded data removed]",
      "text/plain": [
       "<Figure size 432x288 with 1 Axes>"
      ]
     },
     "metadata": {},
     "output_type": "display_data"
    }
   ],
   "source": [
    "y = [len(normal), len(pneumonia)]\n",
    "l = [\"normal\", \"pneumonia\"]\n",
    "explode = (0.05, 0)  # explode 1st slice\n",
    "patches, texts = plt.pie(y, explode=explode,  shadow=True )\n",
    "plt.legend(patches, l, loc=\"best\")\n",
    "plt.show() "
   ]
  },
  {
   "cell_type": "markdown",
   "metadata": {},
   "source": [
    " "
   ]
  },
  {
   "cell_type": "markdown",
   "metadata": {},
   "source": [
    "##### 2.6 Image Histogram \n",
    "\n",
    "Lungs with pneumonia show up with areas that are lighter than lungs that are normal.  So we should expect there to be on average more light pixels in the pneumonia images and more dark pixels in the normal images. \n",
    "\n",
    "Here I am cropping the images by removing 20 pixels on all sides to isolate better the central portion of the lungs.  Then resizing to 128 x 128.  \n",
    "\n",
    "Pixel values for each image are normalized to between 0 and 1 where 0 is black and 1 is white.\n",
    "The average pixel intensity is taken for each image and a histogram is contructed for all images. \n"
   ]
  },
  {
   "cell_type": "code",
   "execution_count": 19,
   "metadata": {},
   "outputs": [
    {
     "name": "stderr",
     "output_type": "stream",
     "text": [
      "  0%|                                                                                         | 0/5232 [00:00<?, ?it/s]c:\\miniconda3\\envs\\capstone\\lib\\site-packages\\ipykernel_launcher.py:7: FutureWarning: The behavior of rgb2gray will change in scikit-image 0.19. Currently, rgb2gray allows 2D grayscale image to be passed as inputs and leaves them unmodified as outputs. Starting from version 0.19, 2D arrays will be treated as 1D images with 3 channels.\n",
      "  import sys\n",
      "100%|██████████████████████████████████████████████████████████████████████████████| 5232/5232 [05:07<00:00, 17.03it/s]\n"
     ]
    }
   ],
   "source": [
    "t_n = []\n",
    "t_p = []\n",
    "ty_n = []\n",
    "ty_p = []\n",
    "for i in tqdm(range(len(train_images))):\n",
    "    xray = resize(io.imread(train_images[i]),(128,128))\n",
    "    xray = rgb2gray(xray)\n",
    "    xray = crop(xray, (20), copy=False)\n",
    "    xray = resize(xray,(128,128))\n",
    "    \n",
    "    l = train_labels[i]\n",
    "    xray_flat = xray.flatten()\n",
    "    xray_flat = xray_flat\n",
    "    len_xray_flat = len(xray_flat)\n",
    "    if l == 'NORMAL':\n",
    "        lbl = 0\n",
    "        t_n.append(sum(xray_flat)/len_xray_flat)\n",
    "        ty_n.append(lbl)\n",
    "    else:\n",
    "        lbl = 1\n",
    "        t_p.append(sum(xray_flat)/len_xray_flat)\n",
    "        ty_p.append(lbl)        "
   ]
  },
  {
   "cell_type": "code",
   "execution_count": 20,
   "metadata": {},
   "outputs": [
    {
     "name": "stdout",
     "output_type": "stream",
     "text": [
      "0.5629677531311426\n",
      "0.539366948083682\n",
      "1349\n",
      "3883\n"
     ]
    }
   ],
   "source": [
    "print(statistics.mean(t_p))\n",
    "print(statistics.mean(t_n))\n",
    "print(len(t_n))\n",
    "print(len(t_p)) "
   ]
  },
  {
   "cell_type": "markdown",
   "metadata": {},
   "source": [
    "We can see the mean pixel intensity for pneumonia is 0.56 (slightly closer to white) and for normal images it is 0.54 (slightly closer to black).  "
   ]
  },
  {
   "cell_type": "code",
   "execution_count": 21,
   "metadata": {},
   "outputs": [],
   "source": [
    "df_hist = pd.DataFrame()\n",
    "df_hist['normal'] = t_n\n",
    "df_hist['pneumonia'] = random.sample(t_p, len(t_n)) # make the samples the same size (equal to the smaller of the two)"
   ]
  },
  {
   "cell_type": "code",
   "execution_count": 22,
   "metadata": {},
   "outputs": [
    {
     "data": {
      "text/plain": [
       "<AxesSubplot:ylabel='Count'>"
      ]
     },
     "execution_count": 22,
     "metadata": {},
     "output_type": "execute_result"
    },
    {
     "data": {
      "image/png": "[encoded data removed]",
      "text/plain": [
       "<Figure size 432x288 with 1 Axes>"
      ]
     },
     "metadata": {
      "needs_background": "light"
     },
     "output_type": "display_data"
    }
   ],
   "source": [
    "sns.histplot(df_hist, kde=False, bins=64, element=\"poly\")"
   ]
  },
  {
   "cell_type": "markdown",
   "metadata": {},
   "source": [
    "From the above histograms we can see that the pneumonia images are shifted in intensity towards the darker intensity, while the normal images are shifted toward the lighter pixel intensities.  "
   ]
  },
  {
   "cell_type": "code",
   "execution_count": null,
   "metadata": {},
   "outputs": [],
   "source": []
  },
  {
   "cell_type": "markdown",
   "metadata": {},
   "source": [
    "#### 4. Size of the images"
   ]
  },
  {
   "cell_type": "code",
   "execution_count": 23,
   "metadata": {},
   "outputs": [
    {
     "data": {
      "image/png": "[encoded data removed]",
      "text/plain": [
       "<Figure size 432x288 with 1 Axes>"
      ]
     },
     "metadata": {
      "needs_background": "light"
     },
     "output_type": "display_data"
    }
   ],
   "source": [
    "\n",
    "b = [i for i in range(0,2500,10)]\n",
    "\n",
    "plt.xlabel('file size (kb)')\n",
    "plt.ylabel('# of files')\n",
    "plt.hist(sizes, bins=b,  color='#184A45FF')\n",
    "plt.show()"
   ]
  },
  {
   "cell_type": "markdown",
   "metadata": {},
   "source": [
    "Above is a histogram plot to show the ditribution of file sizes.  Most of the files are of size less than 1000 kb."
   ]
  },
  {
   "cell_type": "code",
   "execution_count": 24,
   "metadata": {},
   "outputs": [
    {
     "name": "stdout",
     "output_type": "stream",
     "text": [
      "211.14802015027237\n"
     ]
    }
   ],
   "source": [
    "avg = sum(sizes)/len(sizes)\n",
    "print(avg)"
   ]
  },
  {
   "cell_type": "code",
   "execution_count": 25,
   "metadata": {},
   "outputs": [
    {
     "name": "stdout",
     "output_type": "stream",
     "text": [
      "95.839\n"
     ]
    }
   ],
   "source": [
    "print(statistics.median(sizes))"
   ]
  },
  {
   "cell_type": "code",
   "execution_count": 26,
   "metadata": {},
   "outputs": [
    {
     "name": "stdout",
     "output_type": "stream",
     "text": [
      "5.441\n"
     ]
    }
   ],
   "source": [
    "print(min(sizes))"
   ]
  },
  {
   "cell_type": "code",
   "execution_count": 27,
   "metadata": {},
   "outputs": [
    {
     "name": "stdout",
     "output_type": "stream",
     "text": [
      "2414.342\n"
     ]
    }
   ],
   "source": [
    "print(max(sizes))"
   ]
  },
  {
   "cell_type": "markdown",
   "metadata": {},
   "source": [
    "The mean file size is 211.148\n",
    "\n",
    "The median file size is 95.839\n",
    "\n",
    "The minimum file size observed is 5.441 kb\n",
    "\n",
    "The maximum file size observed is 2412.342 kb"
   ]
  },
  {
   "cell_type": "markdown",
   "metadata": {},
   "source": [
    "Sonce the file sizes are not all the same, some examination of the really small ans really large image files revealed that the really small images aspect ratio did not match those of the majority of images (i.e. they were longer in width than height and did not reveal the full chest/lung view).  These images might be considered outliers.  Further examination of the images below will attempt to exclude such outliers.  "
   ]
  },
  {
   "cell_type": "markdown",
   "metadata": {},
   "source": [
    "#### 4. Aspect ratio of the images"
   ]
  },
  {
   "cell_type": "markdown",
   "metadata": {},
   "source": [
    "The aspect ratio of an image is the ratio of its width to its height.\n",
    "The formula is width / height.\n",
    "\n",
    "Not all the images are of the same aspect ratio. On examining some of the images of smaller size, some did not show the full view of the chest and lungs.  We will remove these images.\n",
    "\n",
    "If the shape of the image is longer in the x axis than it is in the y axis by certain threshold, then discard those images as they only show a section of the full chest image.\n",
    "\n",
    "Choose something x/y must be less than or equal to 2 to constitute an acceptible image. (i.e. if the width is two or more times longer than the height then discard image)"
   ]
  },
  {
   "cell_type": "code",
   "execution_count": 28,
   "metadata": {},
   "outputs": [],
   "source": [
    "temp_train_images = []\n",
    "temp_train_labels = []\n",
    "\n",
    "temp_test_images = []\n",
    "temp_test_labels = []\n",
    "\n",
    "discarded = []\n",
    "\n",
    "for i in range(len(train_images)):\n",
    "    xray = io.imread(train_images[i])\n",
    "    y = xray.shape[0]\n",
    "    x = xray.shape[1]\n",
    "    ratio = x/y\n",
    "    if ratio <= 2:\n",
    "        temp_train_images.append(train_images[i])\n",
    "        temp_train_labels.append(train_labels[i])\n",
    "    else:\n",
    "        discarded.append(train_images[i])\n",
    "        \n",
    "for i in range(len(test_images)):\n",
    "    xray = io.imread(test_images[i])\n",
    "    y = xray.shape[0]\n",
    "    x = xray.shape[1]\n",
    "    ratio = x/y\n",
    "    if ratio <= 2:\n",
    "        temp_test_images.append(test_images[i])\n",
    "        temp_test_labels.append(test_labels[i])\n",
    "    else:\n",
    "        discarded.append(test_images[i])"
   ]
  },
  {
   "cell_type": "code",
   "execution_count": 29,
   "metadata": {},
   "outputs": [
    {
     "name": "stdout",
     "output_type": "stream",
     "text": [
      "updated train set, labels  5116 5116\n",
      "updated test set, labels  614 614\n",
      "discarded images  126\n"
     ]
    }
   ],
   "source": [
    "print('updated train set, labels ', len(temp_train_images), len(temp_train_labels))\n",
    "print('updated test set, labels ', len(temp_test_images), len(temp_test_labels))\n",
    "print('discarded images ', len(discarded))"
   ]
  },
  {
   "cell_type": "markdown",
   "metadata": {},
   "source": [
    "Compare a discarded image to a remaining image in train set."
   ]
  },
  {
   "cell_type": "code",
   "execution_count": 30,
   "metadata": {},
   "outputs": [
    {
     "data": {
      "image/png": "[encoded data removed]",
      "text/plain": [
       "<Figure size 432x288 with 1 Axes>"
      ]
     },
     "metadata": {
      "needs_background": "light"
     },
     "output_type": "display_data"
    },
    {
     "name": "stdout",
     "output_type": "stream",
     "text": [
      "(229, 549, 3)\n"
     ]
    }
   ],
   "source": [
    "import matplotlib.pyplot as plt\n",
    "im = io.imread(discarded[35])\n",
    "imgplot = plt.imshow(im, cmap=\"gray\")\n",
    "plt.show()\n",
    "print(im.shape)"
   ]
  },
  {
   "cell_type": "code",
   "execution_count": 31,
   "metadata": {},
   "outputs": [
    {
     "data": {
      "image/png": "[encoded data removed]",
      "text/plain": [
       "<Figure size 432x288 with 1 Axes>"
      ]
     },
     "metadata": {
      "needs_background": "light"
     },
     "output_type": "display_data"
    },
    {
     "name": "stdout",
     "output_type": "stream",
     "text": [
      "(1152, 1422)\n"
     ]
    }
   ],
   "source": [
    "im = io.imread(temp_train_images[1])\n",
    "imgplot = plt.imshow(im, cmap=\"gray\")\n",
    "plt.show()\n",
    "print(im.shape)"
   ]
  },
  {
   "cell_type": "markdown",
   "metadata": {},
   "source": [
    "#### 4. Redistribute data to a train/validation / test split of 85/15/15\n",
    "\n",
    "Now that the outliers have been removed, we can redistribute the data set to add some more images to the test set to bring the value up to 15%, and then split the remaining test set into a test and validation split of 85/15.\n",
    "\n",
    "We won't touch the images in the test set, rather we will simply move some of the ones from the train set into the test set.\n",
    "\n",
    "Using 15% instead of 20% because we son't have that many images to work with."
   ]
  },
  {
   "cell_type": "code",
   "execution_count": 32,
   "metadata": {},
   "outputs": [
    {
     "name": "stdout",
     "output_type": "stream",
     "text": [
      "total images =  5730\n",
      "percent test  10.715532286212914\n",
      "percent train  89.28446771378708\n"
     ]
    }
   ],
   "source": [
    "# new ratios after removing some outliers\n",
    "\n",
    "total = len(temp_train_images) + len(temp_test_images)\n",
    "print('total images = ', total)\n",
    "\n",
    "percent_test = len(temp_test_images)/total\n",
    "print('percent test ', percent_test*100)\n",
    "\n",
    "percent_train = len(temp_train_images)/total\n",
    "print('percent train ', percent_train*100)"
   ]
  },
  {
   "cell_type": "code",
   "execution_count": 33,
   "metadata": {},
   "outputs": [
    {
     "name": "stdout",
     "output_type": "stream",
     "text": [
      "859.5\n",
      "614\n",
      "need to add an additional  245.5  images\n"
     ]
    }
   ],
   "source": [
    "# calculate number of images to move from train set to test set\n",
    "\n",
    "needed = 0.15*total\n",
    "print(needed)\n",
    "\n",
    "have = len(temp_test_images)\n",
    "print(have)\n",
    "\n",
    "difference = needed - have\n",
    "print(\"need to add an additional \", difference, \" images\")"
   ]
  },
  {
   "cell_type": "code",
   "execution_count": 34,
   "metadata": {},
   "outputs": [],
   "source": [
    "# convert to pandas dataframe\n",
    "\n",
    "# train set\n",
    "data_train = {'file':temp_train_images,'label':temp_train_labels}\n",
    "train_df = pd.DataFrame(data_train)\n",
    "\n",
    "# test set\n",
    "data_test = {'file':temp_test_images,'label':temp_test_labels}\n",
    "test_df = pd.DataFrame(data_test)"
   ]
  },
  {
   "cell_type": "code",
   "execution_count": 35,
   "metadata": {},
   "outputs": [
    {
     "data": {
      "text/html": [
       "<div>\n",
       "<style scoped>\n",
       "    .dataframe tbody tr th:only-of-type {\n",
       "        vertical-align: middle;\n",
       "    }\n",
       "\n",
       "    .dataframe tbody tr th {\n",
       "        vertical-align: top;\n",
       "    }\n",
       "\n",
       "    .dataframe thead th {\n",
       "        text-align: right;\n",
       "    }\n",
       "</style>\n",
       "<table border=\"1\" class=\"dataframe\">\n",
       "  <thead>\n",
       "    <tr style=\"text-align: right;\">\n",
       "      <th></th>\n",
       "      <th>file</th>\n",
       "      <th>label</th>\n",
       "    </tr>\n",
       "  </thead>\n",
       "  <tbody>\n",
       "    <tr>\n",
       "      <th>0</th>\n",
       "      <td>E:\\COURSES\\Advanced Data Science With IBM\\Adva...</td>\n",
       "      <td>NORMAL</td>\n",
       "    </tr>\n",
       "    <tr>\n",
       "      <th>1</th>\n",
       "      <td>E:\\COURSES\\Advanced Data Science With IBM\\Adva...</td>\n",
       "      <td>NORMAL</td>\n",
       "    </tr>\n",
       "    <tr>\n",
       "      <th>2</th>\n",
       "      <td>E:\\COURSES\\Advanced Data Science With IBM\\Adva...</td>\n",
       "      <td>NORMAL</td>\n",
       "    </tr>\n",
       "    <tr>\n",
       "      <th>3</th>\n",
       "      <td>E:\\COURSES\\Advanced Data Science With IBM\\Adva...</td>\n",
       "      <td>NORMAL</td>\n",
       "    </tr>\n",
       "    <tr>\n",
       "      <th>4</th>\n",
       "      <td>E:\\COURSES\\Advanced Data Science With IBM\\Adva...</td>\n",
       "      <td>NORMAL</td>\n",
       "    </tr>\n",
       "    <tr>\n",
       "      <th>...</th>\n",
       "      <td>...</td>\n",
       "      <td>...</td>\n",
       "    </tr>\n",
       "    <tr>\n",
       "      <th>5111</th>\n",
       "      <td>E:\\COURSES\\Advanced Data Science With IBM\\Adva...</td>\n",
       "      <td>PNEUMONIA</td>\n",
       "    </tr>\n",
       "    <tr>\n",
       "      <th>5112</th>\n",
       "      <td>E:\\COURSES\\Advanced Data Science With IBM\\Adva...</td>\n",
       "      <td>PNEUMONIA</td>\n",
       "    </tr>\n",
       "    <tr>\n",
       "      <th>5113</th>\n",
       "      <td>E:\\COURSES\\Advanced Data Science With IBM\\Adva...</td>\n",
       "      <td>PNEUMONIA</td>\n",
       "    </tr>\n",
       "    <tr>\n",
       "      <th>5114</th>\n",
       "      <td>E:\\COURSES\\Advanced Data Science With IBM\\Adva...</td>\n",
       "      <td>PNEUMONIA</td>\n",
       "    </tr>\n",
       "    <tr>\n",
       "      <th>5115</th>\n",
       "      <td>E:\\COURSES\\Advanced Data Science With IBM\\Adva...</td>\n",
       "      <td>PNEUMONIA</td>\n",
       "    </tr>\n",
       "  </tbody>\n",
       "</table>\n",
       "<p>5116 rows × 2 columns</p>\n",
       "</div>"
      ],
      "text/plain": [
       "                                                   file      label\n",
       "0     E:\\COURSES\\Advanced Data Science With IBM\\Adva...     NORMAL\n",
       "1     E:\\COURSES\\Advanced Data Science With IBM\\Adva...     NORMAL\n",
       "2     E:\\COURSES\\Advanced Data Science With IBM\\Adva...     NORMAL\n",
       "3     E:\\COURSES\\Advanced Data Science With IBM\\Adva...     NORMAL\n",
       "4     E:\\COURSES\\Advanced Data Science With IBM\\Adva...     NORMAL\n",
       "...                                                 ...        ...\n",
       "5111  E:\\COURSES\\Advanced Data Science With IBM\\Adva...  PNEUMONIA\n",
       "5112  E:\\COURSES\\Advanced Data Science With IBM\\Adva...  PNEUMONIA\n",
       "5113  E:\\COURSES\\Advanced Data Science With IBM\\Adva...  PNEUMONIA\n",
       "5114  E:\\COURSES\\Advanced Data Science With IBM\\Adva...  PNEUMONIA\n",
       "5115  E:\\COURSES\\Advanced Data Science With IBM\\Adva...  PNEUMONIA\n",
       "\n",
       "[5116 rows x 2 columns]"
      ]
     },
     "execution_count": 35,
     "metadata": {},
     "output_type": "execute_result"
    }
   ],
   "source": [
    "train_df"
   ]
  },
  {
   "cell_type": "code",
   "execution_count": 36,
   "metadata": {},
   "outputs": [
    {
     "data": {
      "text/plain": [
       "('E:\\\\COURSES\\\\Advanced Data Science With IBM\\\\Advanced Data Science Capstone\\\\assignment\\\\data\\\\chest_xray\\\\train\\\\PNEUMONIA\\\\person1326_bacteria_3372.jpeg',\n",
       " 'PNEUMONIA')"
      ]
     },
     "execution_count": 36,
     "metadata": {},
     "output_type": "execute_result"
    }
   ],
   "source": [
    "train_df['file'][2000], train_df['label'][2000]"
   ]
  },
  {
   "cell_type": "code",
   "execution_count": 37,
   "metadata": {},
   "outputs": [
    {
     "data": {
      "text/plain": [
       "('E:\\\\COURSES\\\\Advanced Data Science With IBM\\\\Advanced Data Science Capstone\\\\assignment\\\\data\\\\chest_xray\\\\test\\\\NORMAL\\\\NORMAL2-IM-0340-0001.jpeg',\n",
       " 'NORMAL')"
      ]
     },
     "execution_count": 37,
     "metadata": {},
     "output_type": "execute_result"
    }
   ],
   "source": [
    "test_df['file'][200], test_df['label'][200]"
   ]
  },
  {
   "cell_type": "code",
   "execution_count": 38,
   "metadata": {},
   "outputs": [],
   "source": [
    "# first shuffle rows in train dataframe\n",
    "train_df = train_df.sample(n = len(train_df), random_state=200).reset_index(drop=True)"
   ]
  },
  {
   "cell_type": "code",
   "execution_count": 39,
   "metadata": {},
   "outputs": [],
   "source": [
    "# then move 245 rows from train dataframe to test dataframe\n",
    "transferdata_df = train_df.iloc[-446:, 0:]\n",
    "\n",
    "test_df = test_df.append(transferdata_df)\n",
    "\n",
    "train_df = train_df.drop(transferdata_df.index)"
   ]
  },
  {
   "cell_type": "code",
   "execution_count": 40,
   "metadata": {},
   "outputs": [],
   "source": [
    "# reset index of test_df\n",
    "test_df = test_df.reset_index(drop=True)"
   ]
  },
  {
   "cell_type": "code",
   "execution_count": 41,
   "metadata": {},
   "outputs": [
    {
     "data": {
      "text/html": [
       "<div>\n",
       "<style scoped>\n",
       "    .dataframe tbody tr th:only-of-type {\n",
       "        vertical-align: middle;\n",
       "    }\n",
       "\n",
       "    .dataframe tbody tr th {\n",
       "        vertical-align: top;\n",
       "    }\n",
       "\n",
       "    .dataframe thead th {\n",
       "        text-align: right;\n",
       "    }\n",
       "</style>\n",
       "<table border=\"1\" class=\"dataframe\">\n",
       "  <thead>\n",
       "    <tr style=\"text-align: right;\">\n",
       "      <th></th>\n",
       "      <th>file</th>\n",
       "      <th>label</th>\n",
       "    </tr>\n",
       "  </thead>\n",
       "  <tbody>\n",
       "    <tr>\n",
       "      <th>0</th>\n",
       "      <td>E:\\COURSES\\Advanced Data Science With IBM\\Adva...</td>\n",
       "      <td>PNEUMONIA</td>\n",
       "    </tr>\n",
       "    <tr>\n",
       "      <th>1</th>\n",
       "      <td>E:\\COURSES\\Advanced Data Science With IBM\\Adva...</td>\n",
       "      <td>PNEUMONIA</td>\n",
       "    </tr>\n",
       "    <tr>\n",
       "      <th>2</th>\n",
       "      <td>E:\\COURSES\\Advanced Data Science With IBM\\Adva...</td>\n",
       "      <td>PNEUMONIA</td>\n",
       "    </tr>\n",
       "    <tr>\n",
       "      <th>3</th>\n",
       "      <td>E:\\COURSES\\Advanced Data Science With IBM\\Adva...</td>\n",
       "      <td>PNEUMONIA</td>\n",
       "    </tr>\n",
       "    <tr>\n",
       "      <th>4</th>\n",
       "      <td>E:\\COURSES\\Advanced Data Science With IBM\\Adva...</td>\n",
       "      <td>PNEUMONIA</td>\n",
       "    </tr>\n",
       "    <tr>\n",
       "      <th>...</th>\n",
       "      <td>...</td>\n",
       "      <td>...</td>\n",
       "    </tr>\n",
       "    <tr>\n",
       "      <th>4665</th>\n",
       "      <td>E:\\COURSES\\Advanced Data Science With IBM\\Adva...</td>\n",
       "      <td>NORMAL</td>\n",
       "    </tr>\n",
       "    <tr>\n",
       "      <th>4666</th>\n",
       "      <td>E:\\COURSES\\Advanced Data Science With IBM\\Adva...</td>\n",
       "      <td>PNEUMONIA</td>\n",
       "    </tr>\n",
       "    <tr>\n",
       "      <th>4667</th>\n",
       "      <td>E:\\COURSES\\Advanced Data Science With IBM\\Adva...</td>\n",
       "      <td>PNEUMONIA</td>\n",
       "    </tr>\n",
       "    <tr>\n",
       "      <th>4668</th>\n",
       "      <td>E:\\COURSES\\Advanced Data Science With IBM\\Adva...</td>\n",
       "      <td>PNEUMONIA</td>\n",
       "    </tr>\n",
       "    <tr>\n",
       "      <th>4669</th>\n",
       "      <td>E:\\COURSES\\Advanced Data Science With IBM\\Adva...</td>\n",
       "      <td>PNEUMONIA</td>\n",
       "    </tr>\n",
       "  </tbody>\n",
       "</table>\n",
       "<p>4670 rows × 2 columns</p>\n",
       "</div>"
      ],
      "text/plain": [
       "                                                   file      label\n",
       "0     E:\\COURSES\\Advanced Data Science With IBM\\Adva...  PNEUMONIA\n",
       "1     E:\\COURSES\\Advanced Data Science With IBM\\Adva...  PNEUMONIA\n",
       "2     E:\\COURSES\\Advanced Data Science With IBM\\Adva...  PNEUMONIA\n",
       "3     E:\\COURSES\\Advanced Data Science With IBM\\Adva...  PNEUMONIA\n",
       "4     E:\\COURSES\\Advanced Data Science With IBM\\Adva...  PNEUMONIA\n",
       "...                                                 ...        ...\n",
       "4665  E:\\COURSES\\Advanced Data Science With IBM\\Adva...     NORMAL\n",
       "4666  E:\\COURSES\\Advanced Data Science With IBM\\Adva...  PNEUMONIA\n",
       "4667  E:\\COURSES\\Advanced Data Science With IBM\\Adva...  PNEUMONIA\n",
       "4668  E:\\COURSES\\Advanced Data Science With IBM\\Adva...  PNEUMONIA\n",
       "4669  E:\\COURSES\\Advanced Data Science With IBM\\Adva...  PNEUMONIA\n",
       "\n",
       "[4670 rows x 2 columns]"
      ]
     },
     "execution_count": 41,
     "metadata": {},
     "output_type": "execute_result"
    }
   ],
   "source": [
    "train_df"
   ]
  },
  {
   "cell_type": "code",
   "execution_count": 42,
   "metadata": {},
   "outputs": [
    {
     "data": {
      "text/html": [
       "<div>\n",
       "<style scoped>\n",
       "    .dataframe tbody tr th:only-of-type {\n",
       "        vertical-align: middle;\n",
       "    }\n",
       "\n",
       "    .dataframe tbody tr th {\n",
       "        vertical-align: top;\n",
       "    }\n",
       "\n",
       "    .dataframe thead th {\n",
       "        text-align: right;\n",
       "    }\n",
       "</style>\n",
       "<table border=\"1\" class=\"dataframe\">\n",
       "  <thead>\n",
       "    <tr style=\"text-align: right;\">\n",
       "      <th></th>\n",
       "      <th>file</th>\n",
       "      <th>label</th>\n",
       "    </tr>\n",
       "  </thead>\n",
       "  <tbody>\n",
       "    <tr>\n",
       "      <th>0</th>\n",
       "      <td>E:\\COURSES\\Advanced Data Science With IBM\\Adva...</td>\n",
       "      <td>NORMAL</td>\n",
       "    </tr>\n",
       "    <tr>\n",
       "      <th>1</th>\n",
       "      <td>E:\\COURSES\\Advanced Data Science With IBM\\Adva...</td>\n",
       "      <td>NORMAL</td>\n",
       "    </tr>\n",
       "    <tr>\n",
       "      <th>2</th>\n",
       "      <td>E:\\COURSES\\Advanced Data Science With IBM\\Adva...</td>\n",
       "      <td>NORMAL</td>\n",
       "    </tr>\n",
       "    <tr>\n",
       "      <th>3</th>\n",
       "      <td>E:\\COURSES\\Advanced Data Science With IBM\\Adva...</td>\n",
       "      <td>NORMAL</td>\n",
       "    </tr>\n",
       "    <tr>\n",
       "      <th>4</th>\n",
       "      <td>E:\\COURSES\\Advanced Data Science With IBM\\Adva...</td>\n",
       "      <td>NORMAL</td>\n",
       "    </tr>\n",
       "    <tr>\n",
       "      <th>...</th>\n",
       "      <td>...</td>\n",
       "      <td>...</td>\n",
       "    </tr>\n",
       "    <tr>\n",
       "      <th>1055</th>\n",
       "      <td>E:\\COURSES\\Advanced Data Science With IBM\\Adva...</td>\n",
       "      <td>NORMAL</td>\n",
       "    </tr>\n",
       "    <tr>\n",
       "      <th>1056</th>\n",
       "      <td>E:\\COURSES\\Advanced Data Science With IBM\\Adva...</td>\n",
       "      <td>PNEUMONIA</td>\n",
       "    </tr>\n",
       "    <tr>\n",
       "      <th>1057</th>\n",
       "      <td>E:\\COURSES\\Advanced Data Science With IBM\\Adva...</td>\n",
       "      <td>NORMAL</td>\n",
       "    </tr>\n",
       "    <tr>\n",
       "      <th>1058</th>\n",
       "      <td>E:\\COURSES\\Advanced Data Science With IBM\\Adva...</td>\n",
       "      <td>PNEUMONIA</td>\n",
       "    </tr>\n",
       "    <tr>\n",
       "      <th>1059</th>\n",
       "      <td>E:\\COURSES\\Advanced Data Science With IBM\\Adva...</td>\n",
       "      <td>PNEUMONIA</td>\n",
       "    </tr>\n",
       "  </tbody>\n",
       "</table>\n",
       "<p>1060 rows × 2 columns</p>\n",
       "</div>"
      ],
      "text/plain": [
       "                                                   file      label\n",
       "0     E:\\COURSES\\Advanced Data Science With IBM\\Adva...     NORMAL\n",
       "1     E:\\COURSES\\Advanced Data Science With IBM\\Adva...     NORMAL\n",
       "2     E:\\COURSES\\Advanced Data Science With IBM\\Adva...     NORMAL\n",
       "3     E:\\COURSES\\Advanced Data Science With IBM\\Adva...     NORMAL\n",
       "4     E:\\COURSES\\Advanced Data Science With IBM\\Adva...     NORMAL\n",
       "...                                                 ...        ...\n",
       "1055  E:\\COURSES\\Advanced Data Science With IBM\\Adva...     NORMAL\n",
       "1056  E:\\COURSES\\Advanced Data Science With IBM\\Adva...  PNEUMONIA\n",
       "1057  E:\\COURSES\\Advanced Data Science With IBM\\Adva...     NORMAL\n",
       "1058  E:\\COURSES\\Advanced Data Science With IBM\\Adva...  PNEUMONIA\n",
       "1059  E:\\COURSES\\Advanced Data Science With IBM\\Adva...  PNEUMONIA\n",
       "\n",
       "[1060 rows x 2 columns]"
      ]
     },
     "execution_count": 42,
     "metadata": {},
     "output_type": "execute_result"
    }
   ],
   "source": [
    "test_df"
   ]
  },
  {
   "cell_type": "code",
   "execution_count": 43,
   "metadata": {},
   "outputs": [],
   "source": [
    "# split train set further into train and validation set\n",
    "\n",
    "newtrain_df = train_df.sample(frac=0.85,random_state=200) #random state is a seed value\n",
    "validation_df = train_df.drop(newtrain_df.index)"
   ]
  },
  {
   "cell_type": "code",
   "execution_count": 44,
   "metadata": {},
   "outputs": [],
   "source": [
    "train_df = newtrain_df.reset_index(drop=True)\n",
    "validation_df = validation_df.reset_index(drop=True)"
   ]
  },
  {
   "cell_type": "code",
   "execution_count": 45,
   "metadata": {},
   "outputs": [
    {
     "data": {
      "text/html": [
       "<div>\n",
       "<style scoped>\n",
       "    .dataframe tbody tr th:only-of-type {\n",
       "        vertical-align: middle;\n",
       "    }\n",
       "\n",
       "    .dataframe tbody tr th {\n",
       "        vertical-align: top;\n",
       "    }\n",
       "\n",
       "    .dataframe thead th {\n",
       "        text-align: right;\n",
       "    }\n",
       "</style>\n",
       "<table border=\"1\" class=\"dataframe\">\n",
       "  <thead>\n",
       "    <tr style=\"text-align: right;\">\n",
       "      <th></th>\n",
       "      <th>file</th>\n",
       "      <th>label</th>\n",
       "    </tr>\n",
       "  </thead>\n",
       "  <tbody>\n",
       "    <tr>\n",
       "      <th>0</th>\n",
       "      <td>E:\\COURSES\\Advanced Data Science With IBM\\Adva...</td>\n",
       "      <td>PNEUMONIA</td>\n",
       "    </tr>\n",
       "    <tr>\n",
       "      <th>1</th>\n",
       "      <td>E:\\COURSES\\Advanced Data Science With IBM\\Adva...</td>\n",
       "      <td>PNEUMONIA</td>\n",
       "    </tr>\n",
       "    <tr>\n",
       "      <th>2</th>\n",
       "      <td>E:\\COURSES\\Advanced Data Science With IBM\\Adva...</td>\n",
       "      <td>PNEUMONIA</td>\n",
       "    </tr>\n",
       "    <tr>\n",
       "      <th>3</th>\n",
       "      <td>E:\\COURSES\\Advanced Data Science With IBM\\Adva...</td>\n",
       "      <td>PNEUMONIA</td>\n",
       "    </tr>\n",
       "    <tr>\n",
       "      <th>4</th>\n",
       "      <td>E:\\COURSES\\Advanced Data Science With IBM\\Adva...</td>\n",
       "      <td>NORMAL</td>\n",
       "    </tr>\n",
       "    <tr>\n",
       "      <th>...</th>\n",
       "      <td>...</td>\n",
       "      <td>...</td>\n",
       "    </tr>\n",
       "    <tr>\n",
       "      <th>3965</th>\n",
       "      <td>E:\\COURSES\\Advanced Data Science With IBM\\Adva...</td>\n",
       "      <td>PNEUMONIA</td>\n",
       "    </tr>\n",
       "    <tr>\n",
       "      <th>3966</th>\n",
       "      <td>E:\\COURSES\\Advanced Data Science With IBM\\Adva...</td>\n",
       "      <td>PNEUMONIA</td>\n",
       "    </tr>\n",
       "    <tr>\n",
       "      <th>3967</th>\n",
       "      <td>E:\\COURSES\\Advanced Data Science With IBM\\Adva...</td>\n",
       "      <td>PNEUMONIA</td>\n",
       "    </tr>\n",
       "    <tr>\n",
       "      <th>3968</th>\n",
       "      <td>E:\\COURSES\\Advanced Data Science With IBM\\Adva...</td>\n",
       "      <td>NORMAL</td>\n",
       "    </tr>\n",
       "    <tr>\n",
       "      <th>3969</th>\n",
       "      <td>E:\\COURSES\\Advanced Data Science With IBM\\Adva...</td>\n",
       "      <td>PNEUMONIA</td>\n",
       "    </tr>\n",
       "  </tbody>\n",
       "</table>\n",
       "<p>3970 rows × 2 columns</p>\n",
       "</div>"
      ],
      "text/plain": [
       "                                                   file      label\n",
       "0     E:\\COURSES\\Advanced Data Science With IBM\\Adva...  PNEUMONIA\n",
       "1     E:\\COURSES\\Advanced Data Science With IBM\\Adva...  PNEUMONIA\n",
       "2     E:\\COURSES\\Advanced Data Science With IBM\\Adva...  PNEUMONIA\n",
       "3     E:\\COURSES\\Advanced Data Science With IBM\\Adva...  PNEUMONIA\n",
       "4     E:\\COURSES\\Advanced Data Science With IBM\\Adva...     NORMAL\n",
       "...                                                 ...        ...\n",
       "3965  E:\\COURSES\\Advanced Data Science With IBM\\Adva...  PNEUMONIA\n",
       "3966  E:\\COURSES\\Advanced Data Science With IBM\\Adva...  PNEUMONIA\n",
       "3967  E:\\COURSES\\Advanced Data Science With IBM\\Adva...  PNEUMONIA\n",
       "3968  E:\\COURSES\\Advanced Data Science With IBM\\Adva...     NORMAL\n",
       "3969  E:\\COURSES\\Advanced Data Science With IBM\\Adva...  PNEUMONIA\n",
       "\n",
       "[3970 rows x 2 columns]"
      ]
     },
     "execution_count": 45,
     "metadata": {},
     "output_type": "execute_result"
    }
   ],
   "source": [
    "train_df"
   ]
  },
  {
   "cell_type": "code",
   "execution_count": 46,
   "metadata": {},
   "outputs": [
    {
     "data": {
      "text/html": [
       "<div>\n",
       "<style scoped>\n",
       "    .dataframe tbody tr th:only-of-type {\n",
       "        vertical-align: middle;\n",
       "    }\n",
       "\n",
       "    .dataframe tbody tr th {\n",
       "        vertical-align: top;\n",
       "    }\n",
       "\n",
       "    .dataframe thead th {\n",
       "        text-align: right;\n",
       "    }\n",
       "</style>\n",
       "<table border=\"1\" class=\"dataframe\">\n",
       "  <thead>\n",
       "    <tr style=\"text-align: right;\">\n",
       "      <th></th>\n",
       "      <th>file</th>\n",
       "      <th>label</th>\n",
       "    </tr>\n",
       "  </thead>\n",
       "  <tbody>\n",
       "    <tr>\n",
       "      <th>0</th>\n",
       "      <td>E:\\COURSES\\Advanced Data Science With IBM\\Adva...</td>\n",
       "      <td>PNEUMONIA</td>\n",
       "    </tr>\n",
       "    <tr>\n",
       "      <th>1</th>\n",
       "      <td>E:\\COURSES\\Advanced Data Science With IBM\\Adva...</td>\n",
       "      <td>NORMAL</td>\n",
       "    </tr>\n",
       "    <tr>\n",
       "      <th>2</th>\n",
       "      <td>E:\\COURSES\\Advanced Data Science With IBM\\Adva...</td>\n",
       "      <td>PNEUMONIA</td>\n",
       "    </tr>\n",
       "    <tr>\n",
       "      <th>3</th>\n",
       "      <td>E:\\COURSES\\Advanced Data Science With IBM\\Adva...</td>\n",
       "      <td>NORMAL</td>\n",
       "    </tr>\n",
       "    <tr>\n",
       "      <th>4</th>\n",
       "      <td>E:\\COURSES\\Advanced Data Science With IBM\\Adva...</td>\n",
       "      <td>PNEUMONIA</td>\n",
       "    </tr>\n",
       "    <tr>\n",
       "      <th>...</th>\n",
       "      <td>...</td>\n",
       "      <td>...</td>\n",
       "    </tr>\n",
       "    <tr>\n",
       "      <th>695</th>\n",
       "      <td>E:\\COURSES\\Advanced Data Science With IBM\\Adva...</td>\n",
       "      <td>NORMAL</td>\n",
       "    </tr>\n",
       "    <tr>\n",
       "      <th>696</th>\n",
       "      <td>E:\\COURSES\\Advanced Data Science With IBM\\Adva...</td>\n",
       "      <td>PNEUMONIA</td>\n",
       "    </tr>\n",
       "    <tr>\n",
       "      <th>697</th>\n",
       "      <td>E:\\COURSES\\Advanced Data Science With IBM\\Adva...</td>\n",
       "      <td>NORMAL</td>\n",
       "    </tr>\n",
       "    <tr>\n",
       "      <th>698</th>\n",
       "      <td>E:\\COURSES\\Advanced Data Science With IBM\\Adva...</td>\n",
       "      <td>PNEUMONIA</td>\n",
       "    </tr>\n",
       "    <tr>\n",
       "      <th>699</th>\n",
       "      <td>E:\\COURSES\\Advanced Data Science With IBM\\Adva...</td>\n",
       "      <td>PNEUMONIA</td>\n",
       "    </tr>\n",
       "  </tbody>\n",
       "</table>\n",
       "<p>700 rows × 2 columns</p>\n",
       "</div>"
      ],
      "text/plain": [
       "                                                  file      label\n",
       "0    E:\\COURSES\\Advanced Data Science With IBM\\Adva...  PNEUMONIA\n",
       "1    E:\\COURSES\\Advanced Data Science With IBM\\Adva...     NORMAL\n",
       "2    E:\\COURSES\\Advanced Data Science With IBM\\Adva...  PNEUMONIA\n",
       "3    E:\\COURSES\\Advanced Data Science With IBM\\Adva...     NORMAL\n",
       "4    E:\\COURSES\\Advanced Data Science With IBM\\Adva...  PNEUMONIA\n",
       "..                                                 ...        ...\n",
       "695  E:\\COURSES\\Advanced Data Science With IBM\\Adva...     NORMAL\n",
       "696  E:\\COURSES\\Advanced Data Science With IBM\\Adva...  PNEUMONIA\n",
       "697  E:\\COURSES\\Advanced Data Science With IBM\\Adva...     NORMAL\n",
       "698  E:\\COURSES\\Advanced Data Science With IBM\\Adva...  PNEUMONIA\n",
       "699  E:\\COURSES\\Advanced Data Science With IBM\\Adva...  PNEUMONIA\n",
       "\n",
       "[700 rows x 2 columns]"
      ]
     },
     "execution_count": 46,
     "metadata": {},
     "output_type": "execute_result"
    }
   ],
   "source": [
    "validation_df"
   ]
  },
  {
   "cell_type": "markdown",
   "metadata": {},
   "source": [
    "We now have three data sets\n",
    "- train_df (training set)\n",
    "- validation_df (validation set)\n",
    "\n",
    "- test_df (final test set)"
   ]
  },
  {
   "cell_type": "markdown",
   "metadata": {},
   "source": [
    "#### 5. Shape and color of images"
   ]
  },
  {
   "cell_type": "code",
   "execution_count": 47,
   "metadata": {},
   "outputs": [],
   "source": [
    "# Retrieving the geometry of the image and the number of pixels\n",
    "# Images in scikit-image are represented by NumPy ndarrays. \n",
    "# Hence, many common operations can be achieved using standard NumPy methods for manipulating arrays\n",
    "\n",
    "x = []\n",
    "y = []\n",
    "z = []\n",
    "listofdataframes = [train_df, validation_df, test_df]\n",
    "\n",
    "for df in listofdataframes:\n",
    "    for index, row in df.iterrows():\n",
    "        image = row['file']\n",
    "        s = io.imread(image)\n",
    "        x.append(s.shape[0])\n",
    "        y.append(s.shape[1])\n",
    "        if(len(s.shape) == 3):\n",
    "            z.append(1)\n",
    "        else:\n",
    "            z.append(0)"
   ]
  },
  {
   "cell_type": "code",
   "execution_count": 48,
   "metadata": {},
   "outputs": [],
   "source": [
    "df = pd.DataFrame({'x': x,\n",
    "                   'y': y,\n",
    "                   'z': z})"
   ]
  },
  {
   "cell_type": "code",
   "execution_count": 49,
   "metadata": {},
   "outputs": [
    {
     "data": {
      "image/png": "[encoded data removed]",
      "text/plain": [
       "<Figure size 432x288 with 1 Axes>"
      ]
     },
     "metadata": {
      "needs_background": "light"
     },
     "output_type": "display_data"
    }
   ],
   "source": [
    "area = 2\n",
    "plt.scatter(x, y, c=df.z, s=area,  alpha=0.5)\n",
    "plt.title('Image sizes and color')\n",
    "plt.xlabel('x (width)')\n",
    "plt.ylabel('y (height)')\n",
    "classes = [ 'Greyscale', 'RGB']\n",
    "groups = df.groupby('z')\n",
    "for name, group in groups:\n",
    "    name = classes[0] if name == 0 else classes[1]\n",
    "    plt.plot(group.x, group.y, marker='.', linestyle='', markersize=1, label=name)\n",
    "\n",
    "plt.legend(title=\"color\", markerscale=10)\n",
    "\n",
    "plt.show()"
   ]
  },
  {
   "cell_type": "markdown",
   "metadata": {},
   "source": [
    " Since all the images are of different sizes, it will be necessary to reshape them to the same size.\n",
    " Also some are greyscale while other are RGB, so it will be necessary to normalize all images to the same color space (greyscale) "
   ]
  },
  {
   "cell_type": "markdown",
   "metadata": {},
   "source": [
    "## Data Preprocessing\n",
    "\n",
    "The following steps need to be done in the data preprocessing step\n",
    "\n",
    "- convert to greyscale\n",
    "- grayscale normalization - to reduce the effect of illumination's differences.\n",
    "Divide values by 255 to get a value between 0 and 1. NOTE: this already seems to be done automatically by scikit image\n",
    "\n",
    "- image resize - to the same size - training, validation, and test set\n"
   ]
  },
  {
   "cell_type": "code",
   "execution_count": 50,
   "metadata": {},
   "outputs": [
    {
     "name": "stderr",
     "output_type": "stream",
     "text": [
      "100%|██████████████████████████████████████████████████████████████████████████████| 3970/3970 [03:02<00:00, 21.70it/s]\n"
     ]
    }
   ],
   "source": [
    "x_train_img = []\n",
    "y_train_img = []\n",
    "\n",
    "for i in tqdm(range(len(train_df))):\n",
    "    img = resize(io.imread(train_df.loc[i,'file']), (128,128))\n",
    "    x_train_img.append(img)\n",
    "    y_train_img.append(0 if train_df.loc[i,'label'] == 'NORMAL' else 1)"
   ]
  },
  {
   "cell_type": "code",
   "execution_count": 51,
   "metadata": {},
   "outputs": [
    {
     "name": "stderr",
     "output_type": "stream",
     "text": [
      "100%|████████████████████████████████████████████████████████████████████████████████| 700/700 [00:33<00:00, 21.13it/s]\n"
     ]
    }
   ],
   "source": [
    "x_val_img = []\n",
    "y_val_img = []\n",
    "\n",
    "for i in tqdm(range(len(validation_df))):\n",
    "    img = resize(io.imread(validation_df.loc[i,'file']), (128,128))\n",
    "    x_val_img.append(img)\n",
    "    y_val_img.append(0 if validation_df.loc[i,'label'] == 'NORMAL' else 1)"
   ]
  },
  {
   "cell_type": "code",
   "execution_count": 52,
   "metadata": {},
   "outputs": [
    {
     "name": "stderr",
     "output_type": "stream",
     "text": [
      "100%|██████████████████████████████████████████████████████████████████████████████| 1060/1060 [00:54<00:00, 19.63it/s]\n"
     ]
    }
   ],
   "source": [
    "x_test_img = []\n",
    "y_test_img = []\n",
    "\n",
    "for i in tqdm(range(len(test_df))):\n",
    "    img = resize(io.imread(test_df.loc[i,'file']), (128,128))\n",
    "    x_test_img.append(img)\n",
    "    y_test_img.append(0 if test_df.loc[i,'label'] == 'NORMAL' else 1)"
   ]
  },
  {
   "cell_type": "code",
   "execution_count": 53,
   "metadata": {},
   "outputs": [
    {
     "name": "stderr",
     "output_type": "stream",
     "text": [
      "  0%|                                                                                         | 0/3970 [00:00<?, ?it/s]c:\\miniconda3\\envs\\capstone\\lib\\site-packages\\ipykernel_launcher.py:2: FutureWarning: The behavior of rgb2gray will change in scikit-image 0.19. Currently, rgb2gray allows 2D grayscale image to be passed as inputs and leaves them unmodified as outputs. Starting from version 0.19, 2D arrays will be treated as 1D images with 3 channels.\n",
      "  \n",
      "100%|██████████████████████████████████████████████████████████████████████████| 3970/3970 [00:00<00:00, 147037.31it/s]\n",
      "  0%|                                                                                          | 0/700 [00:00<?, ?it/s]c:\\miniconda3\\envs\\capstone\\lib\\site-packages\\ipykernel_launcher.py:5: FutureWarning: The behavior of rgb2gray will change in scikit-image 0.19. Currently, rgb2gray allows 2D grayscale image to be passed as inputs and leaves them unmodified as outputs. Starting from version 0.19, 2D arrays will be treated as 1D images with 3 channels.\n",
      "  \"\"\"\n",
      "100%|████████████████████████████████████████████████████████████████████████████| 700/700 [00:00<00:00, 139983.45it/s]\n",
      "  0%|                                                                                         | 0/1060 [00:00<?, ?it/s]c:\\miniconda3\\envs\\capstone\\lib\\site-packages\\ipykernel_launcher.py:8: FutureWarning: The behavior of rgb2gray will change in scikit-image 0.19. Currently, rgb2gray allows 2D grayscale image to be passed as inputs and leaves them unmodified as outputs. Starting from version 0.19, 2D arrays will be treated as 1D images with 3 channels.\n",
      "  \n",
      "100%|██████████████████████████████████████████████████████████████████████████| 1060/1060 [00:00<00:00, 264940.24it/s]\n"
     ]
    }
   ],
   "source": [
    "for i in tqdm(range(len(x_train_img))):\n",
    "    x_train_img[i] = rgb2gray(x_train_img[i])\n",
    "    \n",
    "for i in tqdm(range(len(x_val_img))):\n",
    "    x_val_img[i] = rgb2gray(x_val_img[i])\n",
    "\n",
    "for i in tqdm(range(len(x_test_img))):\n",
    "    x_test_img[i] = rgb2gray(x_test_img[i])\n"
   ]
  },
  {
   "cell_type": "markdown",
   "metadata": {},
   "source": [
    "## Image Augmentation"
   ]
  },
  {
   "cell_type": "markdown",
   "metadata": {},
   "source": [
    "- In order to avoid overfitting problem, alter the training data with small transformations. \n",
    "- Some popular augmentations people use are horizontal flips, vertical flips, random crops, color jitters, translations, rotations, etc. \n",
    "- By applying just a couple of these transformations to our training data, we can easily double or triple the number of training examples and create a very robust model."
   ]
  },
  {
   "cell_type": "markdown",
   "metadata": {},
   "source": [
    "Flip images horizontally"
   ]
  },
  {
   "cell_type": "code",
   "execution_count": 54,
   "metadata": {},
   "outputs": [],
   "source": [
    "x_train_img_fl = [np.flip(img,-1) for img in x_train_img]\n",
    "x_val_img_fl = [np.flip(img,-1) for img in x_val_img]"
   ]
  },
  {
   "cell_type": "code",
   "execution_count": 55,
   "metadata": {},
   "outputs": [
    {
     "data": {
      "text/plain": [
       "<matplotlib.image.AxesImage at 0x13f73fcb908>"
      ]
     },
     "execution_count": 55,
     "metadata": {},
     "output_type": "execute_result"
    },
    {
     "data": {
      "image/png": "[encoded data removed]",
      "text/plain": [
       "<Figure size 432x288 with 1 Axes>"
      ]
     },
     "metadata": {
      "needs_background": "light"
     },
     "output_type": "display_data"
    }
   ],
   "source": [
    "# verify flipped\n",
    "io.imshow(x_train_img[0])"
   ]
  },
  {
   "cell_type": "code",
   "execution_count": 56,
   "metadata": {},
   "outputs": [
    {
     "data": {
      "text/plain": [
       "<matplotlib.image.AxesImage at 0x13f740374a8>"
      ]
     },
     "execution_count": 56,
     "metadata": {},
     "output_type": "execute_result"
    },
    {
     "data": {
      "image/png": "[encoded data removed]",
      "text/plain": [
       "<Figure size 432x288 with 1 Axes>"
      ]
     },
     "metadata": {
      "needs_background": "light"
     },
     "output_type": "display_data"
    }
   ],
   "source": [
    "io.imshow(x_train_img_fl[0])"
   ]
  },
  {
   "cell_type": "code",
   "execution_count": null,
   "metadata": {},
   "outputs": [],
   "source": []
  },
  {
   "cell_type": "markdown",
   "metadata": {},
   "source": [
    "Crop then resize (simulate zoom)"
   ]
  },
  {
   "cell_type": "code",
   "execution_count": 57,
   "metadata": {},
   "outputs": [],
   "source": [
    "x_train_img_cr = [resize(crop(i, (10), copy=False),(128,128)) for i in x_train_img]\n",
    "x_val_img_cr = [resize(crop(i, (10), copy=False),(128,128)) for i in x_val_img]"
   ]
  },
  {
   "cell_type": "code",
   "execution_count": 58,
   "metadata": {},
   "outputs": [],
   "source": [
    "# append zoomed images to train and validation sets\n",
    "\n",
    "x_train_img = x_train_img + x_train_img_cr + x_train_img_fl\n",
    "y_train_img = y_train_img + y_train_img + y_train_img\n",
    "x_val_img = x_val_img + x_val_img_cr + x_val_img_fl\n",
    "y_val_img = y_val_img + y_val_img + y_val_img\n"
   ]
  },
  {
   "cell_type": "markdown",
   "metadata": {},
   "source": [
    "###  Calculate class weights\n",
    "\n",
    "We will use the class_weights to correct for class imbalance to avoid a bias towards the majority class.\n",
    "\n",
    "Formula to calculate the weight for a class\n",
    "\n",
    "wj=n_samples / (n_classes * n_samplesj)"
   ]
  },
  {
   "cell_type": "markdown",
   "metadata": {},
   "source": [
    "```text\n",
    "wj is the weight for class j\n",
    "\n",
    "n_samples is the total number of samples or rows in the dataset\n",
    "\n",
    "n_classes is the total number of unique classes in the target\n",
    "\n",
    "n_samplesj is the total number of rows of the respective class\n",
    "```"
   ]
  },
  {
   "cell_type": "code",
   "execution_count": 59,
   "metadata": {},
   "outputs": [
    {
     "name": "stdout",
     "output_type": "stream",
     "text": [
      "3684\n",
      "10326\n"
     ]
    }
   ],
   "source": [
    "normals = [i for i in y_train_img + y_val_img if i == 0]\n",
    "print(len(normals))\n",
    "pneumonias = [i for i in y_train_img + y_val_img if i == 1]\n",
    "print(len(pneumonias))"
   ]
  },
  {
   "cell_type": "code",
   "execution_count": 60,
   "metadata": {},
   "outputs": [
    {
     "name": "stdout",
     "output_type": "stream",
     "text": [
      "Number of pneumonia  10326  and Number of normal  3684\n",
      "weights: pneumonia =  0.678384660081348 , normal =  1.9014657980456027\n"
     ]
    }
   ],
   "source": [
    "n_samples = len(x_train_img) + len(x_val_img)\n",
    "n_classes = 2\n",
    "n_pneumonia = len(pneumonias)\n",
    "n_normal = len(normals)\n",
    "\n",
    "w_pneumonia = n_samples/(n_classes*n_pneumonia)\n",
    "w_normal = n_samples/(n_classes*n_normal)\n",
    "\n",
    "print(\"Number of pneumonia \", n_pneumonia, \" and Number of normal \", n_normal)\n",
    "print(\"weights: pneumonia = \", w_pneumonia, \", normal = \", w_normal)\n",
    "\n",
    "# assign the class weights calculated above\n",
    "# we will use this in the fit() method below\n",
    "\n",
    "class_weight = {0: w_normal, 1: w_pneumonia}\n"
   ]
  },
  {
   "cell_type": "code",
   "execution_count": null,
   "metadata": {},
   "outputs": [],
   "source": []
  },
  {
   "cell_type": "code",
   "execution_count": 61,
   "metadata": {},
   "outputs": [],
   "source": [
    "def crossvalidate_roc(X, y, classifier, folds):\n",
    "    tprs = []\n",
    "    aucs = []\n",
    "    mean_fpr = np.linspace(0, 1, 100)\n",
    "    cv = StratifiedKFold(n_splits=folds)\n",
    "    X = np.array(X)\n",
    "    y = np.array(y)\n",
    "    \n",
    "    fig, ax = plt.subplots()\n",
    "    for i, (train, test) in enumerate(cv.split(X, y)):\n",
    "        classifier.fit(X[train], y[train])\n",
    "        viz = plot_roc_curve(classifier, X[test], y[test],\n",
    "                             name='ROC fold {}'.format(i),\n",
    "                             alpha=0.3, lw=1, ax=ax)\n",
    "        interp_tpr = np.interp(mean_fpr, viz.fpr, viz.tpr)\n",
    "        interp_tpr[0] = 0.0\n",
    "        tprs.append(interp_tpr)\n",
    "        aucs.append(viz.roc_auc)\n",
    "\n",
    "    ax.plot([0, 1], [0, 1], linestyle='--', lw=2, color='r',\n",
    "            label='Chance', alpha=.8)\n",
    "\n",
    "    mean_tpr = np.mean(tprs, axis=0)\n",
    "    mean_tpr[-1] = 1.0\n",
    "    mean_auc = metrics_auc(mean_fpr, mean_tpr)\n",
    "    std_auc = np.std(aucs)\n",
    "    ax.plot(mean_fpr, mean_tpr, color='b',\n",
    "            label=r'Mean ROC (AUC = %0.2f $\\pm$ %0.2f)' % (mean_auc, std_auc),\n",
    "            lw=2, alpha=.8)\n",
    "\n",
    "    std_tpr = np.std(tprs, axis=0)\n",
    "    tprs_upper = np.minimum(mean_tpr + std_tpr, 1)\n",
    "    tprs_lower = np.maximum(mean_tpr - std_tpr, 0)\n",
    "    ax.fill_between(mean_fpr, tprs_lower, tprs_upper, color='grey', alpha=.2,\n",
    "                    label=r'$\\pm$ 1 std. dev.')\n",
    "\n",
    "    ax.set(xlim=[-0.05, 1.05], ylim=[-0.05, 1.05],\n",
    "           title=\"Receiver operating characteristic\")\n",
    "    ax.legend(loc=\"lower right\")\n",
    "    plt.show()\n",
    "    \n",
    "    return mean_fpr, mean_tpr, mean_auc\n"
   ]
  },
  {
   "cell_type": "markdown",
   "metadata": {},
   "source": [
    "## Model Selection Phase"
   ]
  },
  {
   "cell_type": "code",
   "execution_count": 62,
   "metadata": {},
   "outputs": [],
   "source": [
    "x_train_img_flat = [np.array(i).flatten() for i in x_train_img]\n",
    "x_val_img_flat = [np.array(i).flatten() for i in x_val_img]\n",
    "x_test_img_flat = [np.array(i).flatten() for i in x_test_img]"
   ]
  },
  {
   "cell_type": "code",
   "execution_count": 63,
   "metadata": {},
   "outputs": [],
   "source": [
    "# reduce dimensionality of the data using PCA to\n",
    "# this will speed up training for classifiers like SVM which takes a long time\n",
    "\n",
    "from sklearn.decomposition import PCA\n",
    "n_components = 150\n",
    "pca = PCA(n_components=n_components, svd_solver='randomized', whiten=True).fit(x_train_img_flat + x_val_img_flat)\n",
    "X_train_pca = pca.transform(x_train_img_flat + x_val_img_flat)"
   ]
  },
  {
   "cell_type": "code",
   "execution_count": 64,
   "metadata": {},
   "outputs": [],
   "source": [
    "X_test_pca = pca.transform(x_test_img_flat)"
   ]
  },
  {
   "cell_type": "code",
   "execution_count": 65,
   "metadata": {},
   "outputs": [],
   "source": [
    "x_tr = x_train_img_flat\n",
    "x_val = x_val_img_flat\n",
    "y_tr = y_train_img\n",
    "y_val = y_val_img"
   ]
  },
  {
   "cell_type": "markdown",
   "metadata": {},
   "source": [
    "### Baseline Model"
   ]
  },
  {
   "cell_type": "code",
   "execution_count": 66,
   "metadata": {},
   "outputs": [],
   "source": [
    "# dictionary to hold fpr and tpr\n",
    "roc = {}"
   ]
  },
  {
   "cell_type": "code",
   "execution_count": 67,
   "metadata": {},
   "outputs": [],
   "source": [
    "clf_baseline = DummyClassifier(strategy=\"stratified\")"
   ]
  },
  {
   "cell_type": "code",
   "execution_count": 68,
   "metadata": {},
   "outputs": [
    {
     "name": "stdout",
     "output_type": "stream",
     "text": [
      "fit_time 0.008199834823608398 0.00039951802367148737\n",
      "score_time 0.007999897003173828 2.132480599880018e-07\n",
      "test_accuracy 0.6134189864382583 0.0057696760536648664\n",
      "test_precision_weighted 0.6130475982048484 0.006772347085709433\n",
      "test_recall_weighted 0.6134189864382583 0.0057696760536648664\n",
      "test_f1_weighted 0.6132041621488822 0.006031020691385023\n",
      "test_roc_auc 0.4986144988770246 0.007246236690405696\n"
     ]
    }
   ],
   "source": [
    "scoring = ['accuracy', 'precision_weighted', 'recall_weighted', 'f1_weighted', 'roc_auc']\n",
    "scores = cross_validate(clf_baseline, X_train_pca, y_tr + y_val, scoring=scoring, cv=5)\n",
    "for key, value in scores.items():\n",
    "    print(key, value.mean(), value.std())"
   ]
  },
  {
   "cell_type": "code",
   "execution_count": 69,
   "metadata": {},
   "outputs": [
    {
     "data": {
      "image/png": "[encoded data removed]",
      "text/plain": [
       "<Figure size 432x288 with 1 Axes>"
      ]
     },
     "metadata": {
      "needs_background": "light"
     },
     "output_type": "display_data"
    }
   ],
   "source": [
    "fpr, tpr, auc = crossvalidate_roc(X_train_pca, y_tr + y_val, clf_baseline, 5)\n",
    "roc['baseline'] = [fpr,tpr,auc]"
   ]
  },
  {
   "cell_type": "markdown",
   "metadata": {},
   "source": [
    "### Naive Bayes Classifier"
   ]
  },
  {
   "cell_type": "code",
   "execution_count": 70,
   "metadata": {},
   "outputs": [],
   "source": [
    "clf_naive = GaussianNB()"
   ]
  },
  {
   "cell_type": "code",
   "execution_count": 71,
   "metadata": {},
   "outputs": [
    {
     "name": "stdout",
     "output_type": "stream",
     "text": [
      "fit_time 0.03139944076538086 0.0004901160333038509\n",
      "score_time 0.022200822830200195 0.0003997088438569229\n",
      "test_precision_weighted 0.8079765411519073 0.014023155969113457\n",
      "test_recall_weighted 0.7862241256245539 0.025860957903330584\n",
      "test_f1_weighted 0.7928998723336901 0.022246444876753767\n",
      "test_roc_auc 0.8565039289471251 0.02451134314502878\n"
     ]
    }
   ],
   "source": [
    "scoring = ['precision_weighted', 'recall_weighted', 'f1_weighted', 'roc_auc']\n",
    "scores = cross_validate(clf_naive, X_train_pca, y_tr+y_val, scoring=scoring, cv=5)\n",
    "for key, value in scores.items():\n",
    "    print(key, value.mean(), value.std())"
   ]
  },
  {
   "cell_type": "code",
   "execution_count": 72,
   "metadata": {},
   "outputs": [
    {
     "data": {
      "image/png": "[encoded data removed]",
      "text/plain": [
       "<Figure size 432x288 with 1 Axes>"
      ]
     },
     "metadata": {
      "needs_background": "light"
     },
     "output_type": "display_data"
    }
   ],
   "source": [
    "fpr, tpr, auc = crossvalidate_roc(X_train_pca, y_tr + y_val, clf_naive, 5)\n",
    "roc['naive'] = [fpr,tpr,auc]"
   ]
  },
  {
   "cell_type": "markdown",
   "metadata": {},
   "source": [
    "### Decision Tree Classifier"
   ]
  },
  {
   "cell_type": "code",
   "execution_count": 73,
   "metadata": {},
   "outputs": [],
   "source": [
    "clf_dtree = tree.DecisionTreeClassifier()"
   ]
  },
  {
   "cell_type": "code",
   "execution_count": 74,
   "metadata": {},
   "outputs": [
    {
     "name": "stdout",
     "output_type": "stream",
     "text": [
      "fit_time 2.868800735473633 0.17470808078773029\n",
      "score_time 0.010200881958007812 0.0004009564175735913\n",
      "test_precision_weighted 0.8469858398119765 0.004917544073547946\n",
      "test_recall_weighted 0.8470378301213419 0.004022556118088609\n",
      "test_f1_weighted 0.8468249214418055 0.004260306037003358\n",
      "test_roc_auc 0.8016916555308926 0.00996666560745735\n"
     ]
    }
   ],
   "source": [
    "scoring = ['precision_weighted', 'recall_weighted', 'f1_weighted','roc_auc']\n",
    "scores = cross_validate(clf_dtree, X_train_pca, y_tr+y_val, scoring=scoring, cv=5)\n",
    "for key, value in scores.items():\n",
    "    print(key, value.mean(), value.std())"
   ]
  },
  {
   "cell_type": "code",
   "execution_count": 75,
   "metadata": {},
   "outputs": [
    {
     "data": {
      "image/png": "[encoded data removed]",
      "text/plain": [
       "<Figure size 432x288 with 1 Axes>"
      ]
     },
     "metadata": {
      "needs_background": "light"
     },
     "output_type": "display_data"
    }
   ],
   "source": [
    "fpr, tpr, auc = crossvalidate_roc(X_train_pca, y_tr + y_val, clf_dtree, 5)\n",
    "roc['decision tree'] = [fpr,tpr,auc]"
   ]
  },
  {
   "cell_type": "markdown",
   "metadata": {},
   "source": [
    "### Random Forest Classifier"
   ]
  },
  {
   "cell_type": "code",
   "execution_count": 76,
   "metadata": {},
   "outputs": [],
   "source": [
    "clf_randomforest = RandomForestClassifier(max_depth=2, random_state=0)"
   ]
  },
  {
   "cell_type": "code",
   "execution_count": 77,
   "metadata": {},
   "outputs": [
    {
     "name": "stderr",
     "output_type": "stream",
     "text": [
      "c:\\miniconda3\\envs\\capstone\\lib\\site-packages\\sklearn\\metrics\\_classification.py:1245: UndefinedMetricWarning: Precision is ill-defined and being set to 0.0 in labels with no predicted samples. Use `zero_division` parameter to control this behavior.\n",
      "  _warn_prf(average, modifier, msg_start, len(result))\n",
      "c:\\miniconda3\\envs\\capstone\\lib\\site-packages\\sklearn\\metrics\\_classification.py:1245: UndefinedMetricWarning: Precision is ill-defined and being set to 0.0 in labels with no predicted samples. Use `zero_division` parameter to control this behavior.\n",
      "  _warn_prf(average, modifier, msg_start, len(result))\n",
      "c:\\miniconda3\\envs\\capstone\\lib\\site-packages\\sklearn\\metrics\\_classification.py:1245: UndefinedMetricWarning: Precision is ill-defined and being set to 0.0 in labels with no predicted samples. Use `zero_division` parameter to control this behavior.\n",
      "  _warn_prf(average, modifier, msg_start, len(result))\n",
      "c:\\miniconda3\\envs\\capstone\\lib\\site-packages\\sklearn\\metrics\\_classification.py:1245: UndefinedMetricWarning: Precision is ill-defined and being set to 0.0 in labels with no predicted samples. Use `zero_division` parameter to control this behavior.\n",
      "  _warn_prf(average, modifier, msg_start, len(result))\n"
     ]
    },
    {
     "name": "stdout",
     "output_type": "stream",
     "text": [
      "fit_time 1.8136003017425537 0.015666141776928315\n",
      "score_time 0.04600028991699219 0.0006319583213095967\n",
      "test_precision_weighted 0.5432353050563965 0.00021046453512099105\n",
      "test_recall_weighted 0.7370449678800857 0.0001427551748751199\n",
      "test_f1_weighted 0.6254706141470875 0.00019089835432009039\n",
      "test_roc_auc 0.9046031442995718 0.008391651247864153\n"
     ]
    },
    {
     "name": "stderr",
     "output_type": "stream",
     "text": [
      "c:\\miniconda3\\envs\\capstone\\lib\\site-packages\\sklearn\\metrics\\_classification.py:1245: UndefinedMetricWarning: Precision is ill-defined and being set to 0.0 in labels with no predicted samples. Use `zero_division` parameter to control this behavior.\n",
      "  _warn_prf(average, modifier, msg_start, len(result))\n"
     ]
    }
   ],
   "source": [
    "scoring = ['precision_weighted', 'recall_weighted', 'f1_weighted','roc_auc']\n",
    "scores = cross_validate(clf_randomforest, X_train_pca, y_tr+y_val, scoring=scoring, cv=5)\n",
    "for key, value in scores.items():\n",
    "    print(key, value.mean(), value.std())"
   ]
  },
  {
   "cell_type": "code",
   "execution_count": 78,
   "metadata": {},
   "outputs": [
    {
     "data": {
      "image/png": "[encoded data removed]",
      "text/plain": [
       "<Figure size 432x288 with 1 Axes>"
      ]
     },
     "metadata": {
      "needs_background": "light"
     },
     "output_type": "display_data"
    }
   ],
   "source": [
    "fpr, tpr, auc = crossvalidate_roc(X_train_pca, y_tr + y_val, clf_randomforest, 5)\n",
    "roc['random forest'] = [fpr,tpr,auc]"
   ]
  },
  {
   "cell_type": "markdown",
   "metadata": {},
   "source": [
    "### Support Vector Machine"
   ]
  },
  {
   "cell_type": "code",
   "execution_count": 79,
   "metadata": {},
   "outputs": [],
   "source": [
    "clf_svm = svm.SVC()"
   ]
  },
  {
   "cell_type": "code",
   "execution_count": 80,
   "metadata": {},
   "outputs": [
    {
     "name": "stdout",
     "output_type": "stream",
     "text": [
      "fit_time 3.4651748657226564 0.1051435602780949\n",
      "score_time 2.5480029582977295 0.015138404548266739\n",
      "test_precision_weighted 0.962372615796597 0.005232777754099495\n",
      "test_recall_weighted 0.9624553890078517 0.0051934246291452674\n",
      "test_f1_weighted 0.9622148967342674 0.0053863228095644925\n",
      "test_roc_auc 0.9921136055618838 0.001189827631574711\n"
     ]
    }
   ],
   "source": [
    "scoring = ['precision_weighted', 'recall_weighted', 'f1_weighted', 'roc_auc']\n",
    "scores = cross_validate(clf_svm, X_train_pca, y_tr+y_val, scoring=scoring, cv=5)\n",
    "for key, value in scores.items():\n",
    "    print(key, value.mean(), value.std())"
   ]
  },
  {
   "cell_type": "code",
   "execution_count": 81,
   "metadata": {},
   "outputs": [
    {
     "data": {
      "image/png": "[encoded data removed]",
      "text/plain": [
       "<Figure size 432x288 with 1 Axes>"
      ]
     },
     "metadata": {
      "needs_background": "light"
     },
     "output_type": "display_data"
    }
   ],
   "source": [
    "fpr, tpr, auc = crossvalidate_roc(X_train_pca, y_tr + y_val, clf_svm, 5)\n",
    "roc['support vector machine'] = [fpr,tpr,auc]"
   ]
  },
  {
   "cell_type": "markdown",
   "metadata": {},
   "source": [
    "### Plot combined ROC curves"
   ]
  },
  {
   "cell_type": "code",
   "execution_count": 82,
   "metadata": {},
   "outputs": [
    {
     "data": {
      "image/png": "[encoded data removed]",
      "text/plain": [
       "<Figure size 720x576 with 1 Axes>"
      ]
     },
     "metadata": {
      "needs_background": "light"
     },
     "output_type": "display_data"
    }
   ],
   "source": [
    "plt.figure(figsize=(10,8))\n",
    "for key, value in roc.items():\n",
    "    plt.plot(value[0], value[1], label='%s ROC (area = %0.2f)' % (key, value[2]))\n",
    "\n",
    "plt.legend()\n",
    "plt.xlabel(\"FPR\")\n",
    "plt.ylabel(\"TPR\")\n",
    "plt.title('Receiver Operating Characteristic (mean)')\n",
    "plt.show()"
   ]
  },
  {
   "cell_type": "markdown",
   "metadata": {},
   "source": [
    "### Model Selected - Support Vector Machine\n",
    "\n",
    "From the above we can see that the model based on Support Vector Machine had the best performance on the validation set.  We will choose this model, perform hyper parameter tuning and then make a final evaluation on the test set."
   ]
  },
  {
   "cell_type": "markdown",
   "metadata": {},
   "source": [
    "## Hyperparameter tuning"
   ]
  },
  {
   "cell_type": "code",
   "execution_count": 83,
   "metadata": {},
   "outputs": [
    {
     "name": "stdout",
     "output_type": "stream",
     "text": [
      "{'C': 10, 'kernel': 'rbf'}\n"
     ]
    }
   ],
   "source": [
    "from sklearn.model_selection import GridSearchCV\n",
    "parameters = {'kernel':('linear', 'rbf'), 'C':[0.5, 1.0, 1.5, 1.75, 2, 2.25, 2.5, 5, 10]}\n",
    "clf_ = GridSearchCV(svm.SVC(class_weight='balanced'), parameters, cv=5)\n",
    "search = clf_.fit(X_train_pca, y_tr + y_val)\n",
    "print(search.best_params_)"
   ]
  },
  {
   "cell_type": "markdown",
   "metadata": {},
   "source": [
    "### Evaluate Final Model on Test Set"
   ]
  },
  {
   "cell_type": "code",
   "execution_count": 84,
   "metadata": {},
   "outputs": [],
   "source": [
    "clf_svm_final = svm.SVC(C=search.best_params_['C'], kernel=search.best_params_['kernel'], class_weight='balanced')"
   ]
  },
  {
   "cell_type": "code",
   "execution_count": 85,
   "metadata": {},
   "outputs": [
    {
     "data": {
      "text/plain": [
       "SVC(C=10, class_weight='balanced')"
      ]
     },
     "execution_count": 85,
     "metadata": {},
     "output_type": "execute_result"
    }
   ],
   "source": [
    "clf_svm_final.fit(X_train_pca, y_tr + y_val)"
   ]
  },
  {
   "cell_type": "code",
   "execution_count": 86,
   "metadata": {},
   "outputs": [
    {
     "name": "stdout",
     "output_type": "stream",
     "text": [
      "              precision    recall  f1-score   support\n",
      "\n",
      "           0       0.95      0.56      0.70       353\n",
      "           1       0.82      0.98      0.89       707\n",
      "\n",
      "    accuracy                           0.84      1060\n",
      "   macro avg       0.88      0.77      0.80      1060\n",
      "weighted avg       0.86      0.84      0.83      1060\n",
      "\n"
     ]
    }
   ],
   "source": [
    "#p = np.array(clf_svm_final.decision_function(x_test))\n",
    "#prob = np.exp(p)/np.sum(np.exp(p), keepdims=True)\n",
    "pred_svm_final = clf_svm.predict(X_test_pca)\n",
    "print(classification_report(y_test_img, pred_svm_final))"
   ]
  },
  {
   "cell_type": "code",
   "execution_count": 87,
   "metadata": {},
   "outputs": [
    {
     "name": "stdout",
     "output_type": "stream",
     "text": [
      "confusion matrix\n",
      "[[197 156]\n",
      " [ 11 696]]\n"
     ]
    },
    {
     "data": {
      "image/png": "[encoded data removed]",
      "text/plain": [
       "<Figure size 360x360 with 1 Axes>"
      ]
     },
     "metadata": {
      "needs_background": "light"
     },
     "output_type": "display_data"
    }
   ],
   "source": [
    "#CM_svm_final = confusion_matrix(test_set.classes, np.argmax(pred_svm_final, axis=1))\n",
    "CM_svm_final = confusion_matrix(y_test_img, pred_svm_final)\n",
    "print(\"confusion matrix\")\n",
    "print(CM_svm_final)\n",
    "fig, ax = plot_confusion_matrix(conf_mat=CM_svm_final ,  figsize=(5, 5))\n",
    "plt.show()"
   ]
  },
  {
   "cell_type": "code",
   "execution_count": null,
   "metadata": {},
   "outputs": [],
   "source": []
  },
  {
   "cell_type": "markdown",
   "metadata": {},
   "source": [
    "## Deep Neural Nets"
   ]
  },
  {
   "cell_type": "markdown",
   "metadata": {},
   "source": [
    "### Define Metrics"
   ]
  },
  {
   "cell_type": "code",
   "execution_count": 88,
   "metadata": {},
   "outputs": [],
   "source": [
    "METRICS = [\n",
    "        'accuracy',\n",
    "        tf.keras.metrics.Precision(name='precision'),\n",
    "        tf.keras.metrics.Recall(name='recall'),\n",
    "        tf.keras.metrics.AUC(name='auc')\n",
    "    ]"
   ]
  },
  {
   "cell_type": "markdown",
   "metadata": {},
   "source": [
    "### Define Cross validation function"
   ]
  },
  {
   "cell_type": "code",
   "execution_count": 89,
   "metadata": {},
   "outputs": [],
   "source": [
    "def kfoldcrossval(x, y, folds, epochs, model):\n",
    "    \n",
    "    losses = {}\n",
    "    val_losses = {}\n",
    "    accuracies = {}\n",
    "    val_accuracies = {}\n",
    "    \n",
    "    val_auc = [] # val_auc for each fold\n",
    "    \n",
    "    skf = StratifiedKFold(n_splits=folds, random_state=0, shuffle=True)\n",
    "    for train, test in skf.split(x,y):\n",
    "        #print(\"TRAIN:\", train, \"TeST: \", test)\n",
    "        \n",
    "        train_x = list();\n",
    "        train_y = list();\n",
    "        test_x = list();\n",
    "        test_y = list();\n",
    "        \n",
    "        for train_index in train:\n",
    "            train_x.append(x[train_index])\n",
    "            train_y.append(y[train_index])\n",
    "        \n",
    "        for test_index in test:\n",
    "            test_x.append(x[test_index])\n",
    "            test_y.append(y[test_index])            \n",
    "        \n",
    "        with tf.device(device_spec):\n",
    "            history = model.fit(np.array(train_x), np.array(train_y), batch_size=32, epochs=epochs, class_weight=class_weight, validation_data=(np.array(test_x), np.array(test_y)), verbose=1)\n",
    "        \n",
    "            val_auc.append(history.history['val_auc'][len(history.history['val_auc']) - 1])\n",
    "            \n",
    "            history_df = pd.DataFrame(history.history)\n",
    "\n",
    "            for i in range(0, len(history_df)):\n",
    "\n",
    "                if i in losses:\n",
    "                    losses[i].append(history_df['loss'][i])\n",
    "                else:\n",
    "                    losses[i] = []\n",
    "                    losses[i].append(history_df['loss'][i])\n",
    "\n",
    "                if i in val_losses:\n",
    "                    val_losses[i].append(history_df['val_loss'][i])\n",
    "                else:\n",
    "                    val_losses[i] = []\n",
    "                    val_losses[i].append(history_df['val_loss'][i])\n",
    "\n",
    "                if i in accuracies:\n",
    "                    accuracies[i].append(history_df['accuracy'][i])\n",
    "                else:\n",
    "                    accuracies[i] = []\n",
    "                    accuracies[i].append(history_df['accuracy'][i])\n",
    "\n",
    "                if i in val_accuracies:\n",
    "                    val_accuracies[i].append(history_df['val_accuracy'][i])\n",
    "                else:\n",
    "                    val_accuracies[i] = []\n",
    "                    val_accuracies[i].append(history_df['val_accuracy'][i])                \n",
    "        \n",
    "    return losses, val_losses, accuracies, val_accuracies, val_auc\n"
   ]
  },
  {
   "cell_type": "markdown",
   "metadata": {},
   "source": [
    "### Building CNN-1"
   ]
  },
  {
   "cell_type": "code",
   "execution_count": 90,
   "metadata": {},
   "outputs": [],
   "source": [
    "cnn_1 = tf.keras.models.Sequential(name='cnn_1')\n",
    "#cnn_1.add(tf.keras.layers.Cropping2D(cropping=((8, 8), (8, 8)), input_shape=(256,256,1)))"
   ]
  },
  {
   "cell_type": "markdown",
   "metadata": {},
   "source": [
    "#### 1. Convolution and Pooling"
   ]
  },
  {
   "cell_type": "code",
   "execution_count": 91,
   "metadata": {},
   "outputs": [],
   "source": [
    "#cnn_1.add(tf.keras.layers.Conv2D(filters=8, kernel_size=3, activation='relu' ))\n",
    "cnn_1.add(tf.keras.layers.Conv2D(filters=16, kernel_size=3, activation='relu', input_shape=(128,128, 1) ))\n",
    "#cnn_1.add(tf.keras.layers.BatchNormalization())\n",
    "cnn_1.add(tf.keras.layers.MaxPool2D(pool_size=2, strides=2, padding = 'same'))\n",
    "#cnn_1.add(tf.keras.layers.BatchNormalization())"
   ]
  },
  {
   "cell_type": "markdown",
   "metadata": {},
   "source": [
    "#### 3. Add a additional Convolutional and Pooling Layer"
   ]
  },
  {
   "cell_type": "code",
   "execution_count": 92,
   "metadata": {},
   "outputs": [],
   "source": [
    "#cnn.add(tf.keras.layers.Conv2D(filters = 16, kernel_size = 3, activation='relu'))\n",
    "#cnn.add(tf.keras.layers.MaxPool2D(pool_size=2, strides=2, padding = 'same'))\n",
    "cnn_1.add(tf.keras.layers.Dropout(0.2))\n",
    "\n",
    "cnn_1.add(tf.keras.layers.Conv2D(filters = 32, kernel_size = 3, activation = 'relu'))\n",
    "#cnn_1.add(tf.keras.layers.BatchNormalization())\n",
    "cnn_1.add(tf.keras.layers.MaxPool2D(pool_size=2, strides=2, padding = 'same'))\n",
    "#cnn_1.add(tf.keras.layers.BatchNormalization())\n",
    "cnn_1.add(tf.keras.layers.Conv2D(filters = 128, kernel_size = 3, activation = 'relu'))\n",
    "#cnn_1.add(tf.keras.layers.BatchNormalization())\n",
    "cnn_1.add(tf.keras.layers.MaxPool2D(pool_size=2, strides=2, padding = 'same'))"
   ]
  },
  {
   "cell_type": "markdown",
   "metadata": {},
   "source": [
    "#### 4. Flattening"
   ]
  },
  {
   "cell_type": "code",
   "execution_count": 93,
   "metadata": {},
   "outputs": [],
   "source": [
    "cnn_1.add(tf.keras.layers.Flatten())"
   ]
  },
  {
   "cell_type": "markdown",
   "metadata": {},
   "source": [
    "#### 5. Full Connection"
   ]
  },
  {
   "cell_type": "code",
   "execution_count": 94,
   "metadata": {},
   "outputs": [],
   "source": [
    "#units = number of hidden neurons - larger number better for images\n",
    "cnn_1.add(tf.keras.layers.Dense(units=128, activation='relu', kernel_regularizer=tf.keras.regularizers.l1(l=0.01)))\n",
    "#cnn_1.add(tf.keras.layers.BatchNormalization())\n",
    "cnn_1.add(tf.keras.layers.Dropout(0.5))"
   ]
  },
  {
   "cell_type": "markdown",
   "metadata": {},
   "source": [
    "#### 6. Output Layer"
   ]
  },
  {
   "cell_type": "code",
   "execution_count": 95,
   "metadata": {},
   "outputs": [],
   "source": [
    "#units = 1 for binary classification\n",
    "cnn_1.add(tf.keras.layers.Dense(units=1, activation='sigmoid'))"
   ]
  },
  {
   "cell_type": "markdown",
   "metadata": {},
   "source": [
    "#### 7. Compiling the CNN"
   ]
  },
  {
   "cell_type": "code",
   "execution_count": 96,
   "metadata": {},
   "outputs": [
    {
     "name": "stdout",
     "output_type": "stream",
     "text": [
      "WARNING:tensorflow:tf.keras.mixed_precision.experimental.LossScaleOptimizer is deprecated. Please use tf.keras.mixed_precision.LossScaleOptimizer instead. Note that the non-experimental LossScaleOptimizer does not take a DynamicLossScale but instead takes the dynamic configuration directly in the constructor. For example:\n",
      "  opt = tf.keras.mixed_precision.experimental.LossScaleOptimizer(opt)\n",
      "\n",
      "Model: \"cnn_1\"\n",
      "_________________________________________________________________\n",
      "Layer (type)                 Output Shape              Param #   \n",
      "=================================================================\n",
      "conv2d (Conv2D)              (None, 126, 126, 16)      160       \n",
      "_________________________________________________________________\n",
      "max_pooling2d (MaxPooling2D) (None, 63, 63, 16)        0         \n",
      "_________________________________________________________________\n",
      "dropout (Dropout)            (None, 63, 63, 16)        0         \n",
      "_________________________________________________________________\n",
      "conv2d_1 (Conv2D)            (None, 61, 61, 32)        4640      \n",
      "_________________________________________________________________\n",
      "max_pooling2d_1 (MaxPooling2 (None, 31, 31, 32)        0         \n",
      "_________________________________________________________________\n",
      "conv2d_2 (Conv2D)            (None, 29, 29, 128)       36992     \n",
      "_________________________________________________________________\n",
      "max_pooling2d_2 (MaxPooling2 (None, 15, 15, 128)       0         \n",
      "_________________________________________________________________\n",
      "flatten (Flatten)            (None, 28800)             0         \n",
      "_________________________________________________________________\n",
      "dense (Dense)                (None, 128)               3686528   \n",
      "_________________________________________________________________\n",
      "dropout_1 (Dropout)          (None, 128)               0         \n",
      "_________________________________________________________________\n",
      "dense_1 (Dense)              (None, 1)                 129       \n",
      "=================================================================\n",
      "Total params: 3,728,449\n",
      "Trainable params: 3,728,449\n",
      "Non-trainable params: 0\n",
      "_________________________________________________________________\n"
     ]
    }
   ],
   "source": [
    "cnn_1.compile(optimizer='adam', loss='binary_crossentropy', metrics=METRICS)\n",
    "cnn_1.summary()"
   ]
  },
  {
   "cell_type": "markdown",
   "metadata": {},
   "source": [
    " "
   ]
  },
  {
   "cell_type": "markdown",
   "metadata": {},
   "source": [
    "### Building CNN-2"
   ]
  },
  {
   "cell_type": "code",
   "execution_count": 97,
   "metadata": {},
   "outputs": [
    {
     "name": "stdout",
     "output_type": "stream",
     "text": [
      "WARNING:tensorflow:tf.keras.mixed_precision.experimental.LossScaleOptimizer is deprecated. Please use tf.keras.mixed_precision.LossScaleOptimizer instead. Note that the non-experimental LossScaleOptimizer does not take a DynamicLossScale but instead takes the dynamic configuration directly in the constructor. For example:\n",
      "  opt = tf.keras.mixed_precision.experimental.LossScaleOptimizer(opt)\n",
      "\n",
      "Model: \"cnn_2\"\n",
      "_________________________________________________________________\n",
      "Layer (type)                 Output Shape              Param #   \n",
      "=================================================================\n",
      "conv2d_3 (Conv2D)            (None, 128, 128, 32)      320       \n",
      "_________________________________________________________________\n",
      "max_pooling2d_3 (MaxPooling2 (None, 64, 64, 32)        0         \n",
      "_________________________________________________________________\n",
      "conv2d_4 (Conv2D)            (None, 64, 64, 64)        18496     \n",
      "_________________________________________________________________\n",
      "dropout_2 (Dropout)          (None, 64, 64, 64)        0         \n",
      "_________________________________________________________________\n",
      "max_pooling2d_4 (MaxPooling2 (None, 32, 32, 64)        0         \n",
      "_________________________________________________________________\n",
      "conv2d_5 (Conv2D)            (None, 32, 32, 64)        36928     \n",
      "_________________________________________________________________\n",
      "max_pooling2d_5 (MaxPooling2 (None, 16, 16, 64)        0         \n",
      "_________________________________________________________________\n",
      "conv2d_6 (Conv2D)            (None, 16, 16, 128)       73856     \n",
      "_________________________________________________________________\n",
      "dropout_3 (Dropout)          (None, 16, 16, 128)       0         \n",
      "_________________________________________________________________\n",
      "max_pooling2d_6 (MaxPooling2 (None, 8, 8, 128)         0         \n",
      "_________________________________________________________________\n",
      "conv2d_7 (Conv2D)            (None, 8, 8, 256)         295168    \n",
      "_________________________________________________________________\n",
      "dropout_4 (Dropout)          (None, 8, 8, 256)         0         \n",
      "_________________________________________________________________\n",
      "max_pooling2d_7 (MaxPooling2 (None, 4, 4, 256)         0         \n",
      "_________________________________________________________________\n",
      "flatten_1 (Flatten)          (None, 4096)              0         \n",
      "_________________________________________________________________\n",
      "dense_2 (Dense)              (None, 128)               524416    \n",
      "_________________________________________________________________\n",
      "dropout_5 (Dropout)          (None, 128)               0         \n",
      "_________________________________________________________________\n",
      "dense_3 (Dense)              (None, 1)                 129       \n",
      "=================================================================\n",
      "Total params: 949,313\n",
      "Trainable params: 949,313\n",
      "Non-trainable params: 0\n",
      "_________________________________________________________________\n"
     ]
    }
   ],
   "source": [
    "cnn_2 = tf.keras.models.Sequential(name='cnn_2')\n",
    "#cnn_2.add(tf.keras.layers.Cropping2D(cropping=((8, 8), (8, 8)), input_shape=(256,256,1)))\n",
    "cnn_2.add(tf.keras.layers.Conv2D(32 , (3,3) , strides = 1 , padding = 'same' , activation = 'relu', input_shape=(128,128,1) ))\n",
    "\n",
    "cnn_2.add(tf.keras.layers.MaxPool2D((2,2) , strides = 2 , padding = 'same'))\n",
    "cnn_2.add(tf.keras.layers.Conv2D(64 , (3,3) , strides = 1 , padding = 'same' , activation = 'relu'))\n",
    "cnn_2.add(tf.keras.layers.Dropout(0.1))\n",
    "\n",
    "cnn_2.add(tf.keras.layers.MaxPool2D((2,2) , strides = 2 , padding = 'same'))\n",
    "cnn_2.add(tf.keras.layers.Conv2D(64 , (3,3) , strides = 1 , padding = 'same' , activation = 'relu'))\n",
    "\n",
    "cnn_2.add(tf.keras.layers.MaxPool2D((2,2) , strides = 2 , padding = 'same'))\n",
    "cnn_2.add(tf.keras.layers.Conv2D(128 , (3,3) , strides = 1 , padding = 'same' , activation = 'relu'))\n",
    "cnn_2.add(tf.keras.layers.Dropout(0.3))\n",
    "\n",
    "cnn_2.add(tf.keras.layers.MaxPool2D((2,2) , strides = 2 , padding = 'same'))\n",
    "cnn_2.add(tf.keras.layers.Conv2D(256 , (3,3) , strides = 1 , padding = 'same' , activation = 'relu'))\n",
    "cnn_2.add(tf.keras.layers.Dropout(0.3))\n",
    "\n",
    "cnn_2.add(tf.keras.layers.MaxPool2D((2,2) , strides = 2 , padding = 'same'))\n",
    "cnn_2.add(tf.keras.layers.Flatten())\n",
    "\n",
    "cnn_2.add(tf.keras.layers.Dense(units = 128 , activation = 'relu', kernel_regularizer=tf.keras.regularizers.l2(l=0.007)))\n",
    "cnn_2.add(tf.keras.layers.Dropout(0.5))\n",
    "\n",
    "a = tf.keras.layers.Activation('sigmoid', dtype='float32', name='predictions')\n",
    "cnn_2.add(tf.keras.layers.Dense(units = 1 , activation = a))\n",
    "cnn_2.compile(optimizer = \"adam\" , loss = 'binary_crossentropy' , metrics = METRICS)\n",
    "cnn_2.summary()"
   ]
  },
  {
   "cell_type": "code",
   "execution_count": 98,
   "metadata": {},
   "outputs": [],
   "source": [
    "# reshape the images to fit the input  layers"
   ]
  },
  {
   "cell_type": "code",
   "execution_count": 99,
   "metadata": {},
   "outputs": [],
   "source": [
    "xtr = [resize(img, (128,128,1)) for img in x_train_img]"
   ]
  },
  {
   "cell_type": "code",
   "execution_count": 100,
   "metadata": {},
   "outputs": [],
   "source": [
    "xval = [resize(img, (128,128,1)) for img in x_val_img]"
   ]
  },
  {
   "cell_type": "code",
   "execution_count": null,
   "metadata": {},
   "outputs": [],
   "source": []
  },
  {
   "cell_type": "markdown",
   "metadata": {},
   "source": [
    "#### 3.1 Training CNN-1"
   ]
  },
  {
   "cell_type": "code",
   "execution_count": 101,
   "metadata": {
    "scrolled": false
   },
   "outputs": [
    {
     "name": "stdout",
     "output_type": "stream",
     "text": [
      "Epoch 1/50\n",
      "351/351 [==============================] - 12s 25ms/step - loss: 29.8794 - accuracy: 0.5437 - precision: 0.7324 - recall: 0.5895 - auc: 0.5061 - val_loss: 5.3279 - val_accuracy: 0.2627 - val_precision: 0.0000e+00 - val_recall: 0.0000e+00 - val_auc: 0.5000\n",
      "Epoch 2/50\n",
      "351/351 [==============================] - 8s 23ms/step - loss: 5.2498 - accuracy: 0.3935 - precision: 0.7413 - recall: 0.2715 - auc: 0.4971 - val_loss: 5.3707 - val_accuracy: 0.7373 - val_precision: 0.7373 - val_recall: 1.0000 - val_auc: 0.5004\n",
      "Epoch 3/50\n",
      "351/351 [==============================] - 8s 22ms/step - loss: 5.2481 - accuracy: 0.5546 - precision: 0.7407 - recall: 0.6042 - auc: 0.5128 - val_loss: 5.1590 - val_accuracy: 0.7373 - val_precision: 0.7373 - val_recall: 1.0000 - val_auc: 0.5000\n",
      "Epoch 4/50\n",
      "351/351 [==============================] - 8s 22ms/step - loss: 5.2019 - accuracy: 0.6225 - precision: 0.7355 - recall: 0.7614 - auc: 0.5022 - val_loss: 5.2040 - val_accuracy: 0.2637 - val_precision: 1.0000 - val_recall: 0.0015 - val_auc: 0.5000\n",
      "Epoch 5/50\n",
      "351/351 [==============================] - 8s 24ms/step - loss: 5.1897 - accuracy: 0.4881 - precision: 0.7502 - recall: 0.4616 - auc: 0.5071 - val_loss: 5.1301 - val_accuracy: 0.2627 - val_precision: 0.0000e+00 - val_recall: 0.0000e+00 - val_auc: 0.5000\n",
      "Epoch 6/50\n",
      "351/351 [==============================] - 9s 24ms/step - loss: 5.1697 - accuracy: 0.3281 - precision: 0.7186 - recall: 0.1468 - auc: 0.4954 - val_loss: 5.1959 - val_accuracy: 0.2627 - val_precision: 0.0000e+00 - val_recall: 0.0000e+00 - val_auc: 0.5000\n",
      "Epoch 7/50\n",
      "351/351 [==============================] - 8s 24ms/step - loss: 5.1773 - accuracy: 0.3704 - precision: 0.7125 - recall: 0.2411 - auc: 0.4814 - val_loss: 5.0678 - val_accuracy: 0.7373 - val_precision: 0.7373 - val_recall: 1.0000 - val_auc: 0.5000\n",
      "Epoch 8/50\n",
      "351/351 [==============================] - 8s 24ms/step - loss: 5.1674 - accuracy: 0.5650 - precision: 0.7391 - recall: 0.6354 - auc: 0.4842 - val_loss: 5.1993 - val_accuracy: 0.7373 - val_precision: 0.7373 - val_recall: 1.0000 - val_auc: 0.5000\n",
      "Epoch 9/50\n",
      "351/351 [==============================] - 8s 24ms/step - loss: 5.1728 - accuracy: 0.5344 - precision: 0.7374 - recall: 0.5735 - auc: 0.5051 - val_loss: 5.1899 - val_accuracy: 0.2627 - val_precision: 0.0000e+00 - val_recall: 0.0000e+00 - val_auc: 0.5000\n",
      "Epoch 10/50\n",
      "351/351 [==============================] - 8s 24ms/step - loss: 5.1718 - accuracy: 0.4893 - precision: 0.7219 - recall: 0.4982 - auc: 0.4954 - val_loss: 5.2297 - val_accuracy: 0.2627 - val_precision: 0.0000e+00 - val_recall: 0.0000e+00 - val_auc: 0.5000\n",
      "Epoch 11/50\n",
      "351/351 [==============================] - 8s 24ms/step - loss: 5.1684 - accuracy: 0.5890 - precision: 0.7406 - recall: 0.6921 - auc: 0.4924 - val_loss: 5.0373 - val_accuracy: 0.2627 - val_precision: 0.0000e+00 - val_recall: 0.0000e+00 - val_auc: 0.5000\n",
      "Epoch 12/50\n",
      "351/351 [==============================] - 8s 24ms/step - loss: 5.1659 - accuracy: 0.3211 - precision: 0.5970 - recall: 0.1302 - auc: 0.5028 - val_loss: 5.2065 - val_accuracy: 0.2627 - val_precision: 0.0000e+00 - val_recall: 0.0000e+00 - val_auc: 0.5000\n",
      "Epoch 13/50\n",
      "351/351 [==============================] - 8s 23ms/step - loss: 5.1697 - accuracy: 0.5059 - precision: 0.7325 - recall: 0.5175 - auc: 0.4950 - val_loss: 5.1129 - val_accuracy: 0.2627 - val_precision: 0.0000e+00 - val_recall: 0.0000e+00 - val_auc: 0.5000\n",
      "Epoch 14/50\n",
      "351/351 [==============================] - 8s 22ms/step - loss: 5.1727 - accuracy: 0.2989 - precision: 0.7151 - recall: 0.0781 - auc: 0.4957 - val_loss: 5.1584 - val_accuracy: 0.2627 - val_precision: 0.0000e+00 - val_recall: 0.0000e+00 - val_auc: 0.5000\n",
      "Epoch 15/50\n",
      "351/351 [==============================] - 8s 23ms/step - loss: 5.1745 - accuracy: 0.3713 - precision: 0.5452 - recall: 0.2253 - auc: 0.5000 - val_loss: 5.2017 - val_accuracy: 0.7373 - val_precision: 0.7373 - val_recall: 1.0000 - val_auc: 0.5000\n",
      "Epoch 16/50\n",
      "351/351 [==============================] - 8s 23ms/step - loss: 5.1701 - accuracy: 0.3617 - precision: 0.7392 - recall: 0.2057 - auc: 0.4994 - val_loss: 5.3018 - val_accuracy: 0.2627 - val_precision: 0.0000e+00 - val_recall: 0.0000e+00 - val_auc: 0.5000\n",
      "Epoch 17/50\n",
      "351/351 [==============================] - 8s 23ms/step - loss: 5.1765 - accuracy: 0.3374 - precision: 0.4974 - recall: 0.1546 - auc: 0.4981 - val_loss: 5.1796 - val_accuracy: 0.2627 - val_precision: 0.0000e+00 - val_recall: 0.0000e+00 - val_auc: 0.5000\n",
      "Epoch 18/50\n",
      "351/351 [==============================] - 8s 23ms/step - loss: 5.1787 - accuracy: 0.2840 - precision: 0.7197 - recall: 0.0307 - auc: 0.4971 - val_loss: 5.1590 - val_accuracy: 0.7373 - val_precision: 0.7373 - val_recall: 1.0000 - val_auc: 0.5000\n",
      "Epoch 19/50\n",
      "351/351 [==============================] - 8s 22ms/step - loss: 5.1676 - accuracy: 0.7189 - precision: 0.7357 - recall: 0.9653 - auc: 0.4975 - val_loss: 5.2713 - val_accuracy: 0.7373 - val_precision: 0.7373 - val_recall: 1.0000 - val_auc: 0.5000\n",
      "Epoch 20/50\n",
      "351/351 [==============================] - 8s 23ms/step - loss: 5.1767 - accuracy: 0.3422 - precision: 0.7158 - recall: 0.1686 - auc: 0.5000 - val_loss: 5.0508 - val_accuracy: 0.7373 - val_precision: 0.7373 - val_recall: 1.0000 - val_auc: 0.5000\n",
      "Epoch 21/50\n",
      "351/351 [==============================] - 8s 22ms/step - loss: 5.1736 - accuracy: 0.4605 - precision: 0.7166 - recall: 0.4360 - auc: 0.4992 - val_loss: 5.1790 - val_accuracy: 0.7373 - val_precision: 0.7373 - val_recall: 1.0000 - val_auc: 0.5000\n",
      "Epoch 22/50\n",
      "351/351 [==============================] - 8s 23ms/step - loss: 5.1717 - accuracy: 0.3782 - precision: 0.7372 - recall: 0.2398 - auc: 0.4994 - val_loss: 5.1437 - val_accuracy: 0.7373 - val_precision: 0.7373 - val_recall: 1.0000 - val_auc: 0.5000\n",
      "Epoch 23/50\n",
      "351/351 [==============================] - 8s 22ms/step - loss: 5.1679 - accuracy: 0.5615 - precision: 0.7363 - recall: 0.6316 - auc: 0.5012 - val_loss: 5.1864 - val_accuracy: 0.2627 - val_precision: 0.0000e+00 - val_recall: 0.0000e+00 - val_auc: 0.5000\n",
      "Epoch 24/50\n",
      "351/351 [==============================] - 8s 22ms/step - loss: 5.1765 - accuracy: 0.4979 - precision: 0.7314 - recall: 0.4996 - auc: 0.4983 - val_loss: 5.0429 - val_accuracy: 0.7373 - val_precision: 0.7373 - val_recall: 1.0000 - val_auc: 0.5000\n",
      "Epoch 25/50\n",
      "351/351 [==============================] - 8s 22ms/step - loss: 5.1659 - accuracy: 0.6668 - precision: 0.7341 - recall: 0.8577 - auc: 0.5004 - val_loss: 5.2772 - val_accuracy: 0.7373 - val_precision: 0.7373 - val_recall: 1.0000 - val_auc: 0.5000\n",
      "Epoch 26/50\n",
      "351/351 [==============================] - 8s 22ms/step - loss: 5.1660 - accuracy: 0.7307 - precision: 0.7484 - recall: 0.9682 - auc: 0.4952 - val_loss: 5.1456 - val_accuracy: 0.2627 - val_precision: 0.0000e+00 - val_recall: 0.0000e+00 - val_auc: 0.5000cy: 0.7251  - ETA: 0s - loss: 5.1656 - accuracy: 0.7322 - precision: 0.7493 - recall: 0.9699 - a\n",
      "Epoch 27/50\n",
      "351/351 [==============================] - 8s 23ms/step - loss: 5.1682 - accuracy: 0.2601 - precision: 0.0000e+00 - recall: 0.0000e+00 - auc: 0.5000 - val_loss: 5.2327 - val_accuracy: 0.2627 - val_precision: 0.0000e+00 - val_recall: 0.0000e+00 - val_auc: 0.5000\n",
      "Epoch 28/50\n",
      "351/351 [==============================] - 8s 23ms/step - loss: 5.1740 - accuracy: 0.2683 - precision: 0.1640 - recall: 0.0027 - auc: 0.4960 - val_loss: 5.0803 - val_accuracy: 0.7373 - val_precision: 0.7373 - val_recall: 1.0000 - val_auc: 0.5000\n",
      "Epoch 29/50\n",
      "351/351 [==============================] - 8s 23ms/step - loss: 5.1684 - accuracy: 0.3901 - precision: 0.7197 - recall: 0.2756 - auc: 0.5000 - val_loss: 5.2060 - val_accuracy: 0.7373 - val_precision: 0.7373 - val_recall: 1.0000 - val_auc: 0.5000\n",
      "Epoch 30/50\n",
      "351/351 [==============================] - 8s 23ms/step - loss: 5.1690 - accuracy: 0.6508 - precision: 0.7380 - recall: 0.8155 - auc: 0.4933 - val_loss: 5.0953 - val_accuracy: 0.2627 - val_precision: 0.0000e+00 - val_recall: 0.0000e+00 - val_auc: 0.5000\n",
      "Epoch 31/50\n",
      "351/351 [==============================] - 8s 23ms/step - loss: 5.1719 - accuracy: 0.4672 - precision: 0.7203 - recall: 0.4357 - auc: 0.4951 - val_loss: 5.0992 - val_accuracy: 0.7373 - val_precision: 0.7373 - val_recall: 1.0000 - val_auc: 0.5000\n"
     ]
    },
    {
     "name": "stdout",
     "output_type": "stream",
     "text": [
      "Epoch 32/50\n",
      "351/351 [==============================] - 8s 22ms/step - loss: 5.1653 - accuracy: 0.7061 - precision: 0.7394 - recall: 0.9315 - auc: 0.4970 - val_loss: 5.1393 - val_accuracy: 0.2627 - val_precision: 0.0000e+00 - val_recall: 0.0000e+00 - val_auc: 0.5000\n",
      "Epoch 33/50\n",
      "351/351 [==============================] - 8s 23ms/step - loss: 5.1688 - accuracy: 0.3762 - precision: 0.6971 - recall: 0.2504 - auc: 0.5000 - val_loss: 5.2048 - val_accuracy: 0.2627 - val_precision: 0.0000e+00 - val_recall: 0.0000e+00 - val_auc: 0.5000\n",
      "Epoch 34/50\n",
      "351/351 [==============================] - 8s 22ms/step - loss: 5.1731 - accuracy: 0.5037 - precision: 0.6262 - recall: 0.5089 - auc: 0.5000 - val_loss: 5.1259 - val_accuracy: 0.2627 - val_precision: 0.0000e+00 - val_recall: 0.0000e+00 - val_auc: 0.5000\n",
      "Epoch 35/50\n",
      "351/351 [==============================] - 8s 23ms/step - loss: 5.1690 - accuracy: 0.5003 - precision: 0.6018 - recall: 0.4975 - auc: 0.4964 - val_loss: 5.1698 - val_accuracy: 0.2627 - val_precision: 0.0000e+00 - val_recall: 0.0000e+00 - val_auc: 0.5000\n",
      "Epoch 36/50\n",
      "351/351 [==============================] - 8s 23ms/step - loss: 5.1689 - accuracy: 0.3705 - precision: 0.6364 - recall: 0.2338 - auc: 0.5000 - val_loss: 5.2618 - val_accuracy: 0.2627 - val_precision: 0.0000e+00 - val_recall: 0.0000e+00 - val_auc: 0.5000\n",
      "Epoch 37/50\n",
      "351/351 [==============================] - 8s 23ms/step - loss: 5.1782 - accuracy: 0.2684 - precision: 0.0159 - recall: 1.3013e-04 - auc: 0.4936 - val_loss: 5.0961 - val_accuracy: 0.7373 - val_precision: 0.7373 - val_recall: 1.0000 - val_auc: 0.5000\n",
      "Epoch 38/50\n",
      "351/351 [==============================] - 8s 23ms/step - loss: 5.1658 - accuracy: 0.6138 - precision: 0.7350 - recall: 0.7486 - auc: 0.4986 - val_loss: 5.2564 - val_accuracy: 0.2627 - val_precision: 0.0000e+00 - val_recall: 0.0000e+00 - val_auc: 0.5000\n",
      "Epoch 39/50\n",
      "351/351 [==============================] - 8s 23ms/step - loss: 5.1630 - accuracy: 0.6411 - precision: 0.7371 - recall: 0.8055 - auc: 0.4992 - val_loss: 5.1635 - val_accuracy: 0.2627 - val_precision: 0.0000e+00 - val_recall: 0.0000e+00 - val_auc: 0.5000\n",
      "Epoch 40/50\n",
      "351/351 [==============================] - 8s 23ms/step - loss: 5.1712 - accuracy: 0.2635 - precision: 0.0000e+00 - recall: 0.0000e+00 - auc: 0.4994 - val_loss: 5.2393 - val_accuracy: 0.2627 - val_precision: 0.0000e+00 - val_recall: 0.0000e+00 - val_auc: 0.5000\n",
      "Epoch 41/50\n",
      "351/351 [==============================] - 8s 23ms/step - loss: 5.1706 - accuracy: 0.3014 - precision: 0.5034 - recall: 0.0806 - auc: 0.5000 - val_loss: 5.0729 - val_accuracy: 0.2627 - val_precision: 0.0000e+00 - val_recall: 0.0000e+00 - val_auc: 0.5000\n",
      "Epoch 42/50\n",
      "351/351 [==============================] - 8s 23ms/step - loss: 5.1664 - accuracy: 0.3072 - precision: 0.6847 - recall: 0.0897 - auc: 0.5000 - val_loss: 5.2451 - val_accuracy: 0.2627 - val_precision: 0.0000e+00 - val_recall: 0.0000e+00 - val_auc: 0.5000\n",
      "Epoch 43/50\n",
      "351/351 [==============================] - 8s 23ms/step - loss: 5.1746 - accuracy: 0.4230 - precision: 0.7140 - recall: 0.3405 - auc: 0.5000 - val_loss: 5.1807 - val_accuracy: 0.2627 - val_precision: 0.0000e+00 - val_recall: 0.0000e+00 - val_auc: 0.5000\n",
      "Epoch 44/50\n",
      "351/351 [==============================] - 8s 24ms/step - loss: 5.1658 - accuracy: 0.6360 - precision: 0.7245 - recall: 0.7928 - auc: 0.4967 - val_loss: 5.2063 - val_accuracy: 0.2627 - val_precision: 0.0000e+00 - val_recall: 0.0000e+00 - val_auc: 0.5000\n",
      "Epoch 45/50\n",
      "351/351 [==============================] - 8s 23ms/step - loss: 5.1642 - accuracy: 0.6824 - precision: 0.7329 - recall: 0.8793 - auc: 0.4923 - val_loss: 5.0966 - val_accuracy: 0.2627 - val_precision: 0.0000e+00 - val_recall: 0.0000e+00 - val_auc: 0.5000\n",
      "Epoch 46/50\n",
      "351/351 [==============================] - 8s 23ms/step - loss: 5.1678 - accuracy: 0.3837 - precision: 0.5489 - recall: 0.2577 - auc: 0.5000 - val_loss: 5.1289 - val_accuracy: 0.2627 - val_precision: 0.0000e+00 - val_recall: 0.0000e+00 - val_auc: 0.5000\n",
      "Epoch 47/50\n",
      "351/351 [==============================] - 8s 23ms/step - loss: 5.1704 - accuracy: 0.3308 - precision: 0.3893 - recall: 0.1428 - auc: 0.4993 - val_loss: 5.0686 - val_accuracy: 0.2627 - val_precision: 0.0000e+00 - val_recall: 0.0000e+00 - val_auc: 0.5000\n",
      "Epoch 48/50\n",
      "351/351 [==============================] - 8s 23ms/step - loss: 5.1734 - accuracy: 0.2802 - precision: 0.3481 - recall: 0.0205 - auc: 0.4840 - val_loss: 5.1544 - val_accuracy: 0.7373 - val_precision: 0.7373 - val_recall: 1.0000 - val_auc: 0.5000\n",
      "Epoch 49/50\n",
      "351/351 [==============================] - 8s 23ms/step - loss: 5.1736 - accuracy: 0.4563 - precision: 0.7374 - recall: 0.4049 - auc: 0.5000 - val_loss: 5.1986 - val_accuracy: 0.7373 - val_precision: 0.7373 - val_recall: 1.0000 - val_auc: 0.5000\n",
      "Epoch 50/50\n",
      "351/351 [==============================] - 8s 23ms/step - loss: 5.1662 - accuracy: 0.5526 - precision: 0.7388 - recall: 0.6133 - auc: 0.4994 - val_loss: 5.2572 - val_accuracy: 0.2627 - val_precision: 0.0000e+00 - val_recall: 0.0000e+00 - val_auc: 0.5000\n",
      "Epoch 1/50\n",
      "351/351 [==============================] - 8s 23ms/step - loss: 5.1697 - accuracy: 0.4804 - precision: 0.7343 - recall: 0.4623 - auc: 0.4974 - val_loss: 5.2363 - val_accuracy: 0.7370 - val_precision: 0.7370 - val_recall: 1.0000 - val_auc: 0.5000\n",
      "Epoch 2/50\n",
      "351/351 [==============================] - 8s 23ms/step - loss: 5.1681 - accuracy: 0.4858 - precision: 0.7395 - recall: 0.4668 - auc: 0.5013 - val_loss: 5.1797 - val_accuracy: 0.2630 - val_precision: 0.0000e+00 - val_recall: 0.0000e+00 - val_auc: 0.5000\n",
      "Epoch 3/50\n",
      "351/351 [==============================] - 8s 24ms/step - loss: 5.1691 - accuracy: 0.3856 - precision: 0.7386 - recall: 0.2576 - auc: 0.5025 - val_loss: 5.2172 - val_accuracy: 0.7370 - val_precision: 0.7370 - val_recall: 1.0000 - val_auc: 0.5000\n",
      "Epoch 4/50\n",
      "351/351 [==============================] - 8s 23ms/step - loss: 5.1693 - accuracy: 0.4971 - precision: 0.7346 - recall: 0.4973 - auc: 0.4928 - val_loss: 5.0421 - val_accuracy: 0.7370 - val_precision: 0.7370 - val_recall: 1.0000 - val_auc: 0.5000\n",
      "Epoch 5/50\n",
      "351/351 [==============================] - 8s 23ms/step - loss: 5.1685 - accuracy: 0.4284 - precision: 0.7365 - recall: 0.3496 - auc: 0.4993 - val_loss: 5.1860 - val_accuracy: 0.2630 - val_precision: 0.0000e+00 - val_recall: 0.0000e+00 - val_auc: 0.5000\n",
      "Epoch 6/50\n",
      "351/351 [==============================] - 8s 23ms/step - loss: 5.1683 - accuracy: 0.3477 - precision: 0.7111 - recall: 0.1937 - auc: 0.4961 - val_loss: 5.1236 - val_accuracy: 0.2630 - val_precision: 0.0000e+00 - val_recall: 0.0000e+00 - val_auc: 0.5000\n",
      "Epoch 7/50\n",
      "351/351 [==============================] - 8s 23ms/step - loss: 5.1690 - accuracy: 0.4452 - precision: 0.7336 - recall: 0.3883 - auc: 0.5016 - val_loss: 5.2072 - val_accuracy: 0.7370 - val_precision: 0.7370 - val_recall: 1.0000 - val_auc: 0.5000\n",
      "Epoch 8/50\n",
      "351/351 [==============================] - 8s 23ms/step - loss: 5.1688 - accuracy: 0.4683 - precision: 0.7340 - recall: 0.4370 - auc: 0.4964 - val_loss: 5.1042 - val_accuracy: 0.2630 - val_precision: 0.0000e+00 - val_recall: 0.0000e+00 - val_auc: 0.5000\n",
      "Epoch 9/50\n",
      "351/351 [==============================] - 8s 23ms/step - loss: 5.1675 - accuracy: 0.2644 - precision: 0.6600 - recall: 0.0040 - auc: 0.4939 - val_loss: 5.1831 - val_accuracy: 0.2630 - val_precision: 0.0000e+00 - val_recall: 0.0000e+00 - val_auc: 0.5000\n",
      "Epoch 10/50\n",
      "351/351 [==============================] - 8s 23ms/step - loss: 5.1697 - accuracy: 0.4726 - precision: 0.7403 - recall: 0.4382 - auc: 0.4998 - val_loss: 5.1369 - val_accuracy: 0.2630 - val_precision: 0.0000e+00 - val_recall: 0.0000e+00 - val_auc: 0.5000\n",
      "Epoch 11/50\n",
      "351/351 [==============================] - 8s 23ms/step - loss: 5.1681 - accuracy: 0.4807 - precision: 0.7337 - recall: 0.4639 - auc: 0.4977 - val_loss: 5.2737 - val_accuracy: 0.7370 - val_precision: 0.7370 - val_recall: 1.0000 - val_auc: 0.5000\n",
      "Epoch 12/50\n",
      "351/351 [==============================] - 8s 23ms/step - loss: 5.1684 - accuracy: 0.4259 - precision: 0.7264 - recall: 0.3548 - auc: 0.4881 - val_loss: 5.1245 - val_accuracy: 0.2630 - val_precision: 0.0000e+00 - val_recall: 0.0000e+00 - val_auc: 0.5000\n",
      "Epoch 13/50\n"
     ]
    },
    {
     "name": "stdout",
     "output_type": "stream",
     "text": [
      "351/351 [==============================] - 8s 22ms/step - loss: 5.1681 - accuracy: 0.3400 - precision: 0.7291 - recall: 0.1664 - auc: 0.4997 - val_loss: 5.2014 - val_accuracy: 0.7370 - val_precision: 0.7370 - val_recall: 1.0000 - val_auc: 0.5000\n",
      "Epoch 14/50\n",
      "351/351 [==============================] - 8s 23ms/step - loss: 5.1689 - accuracy: 0.4648 - precision: 0.7284 - recall: 0.4369 - auc: 0.4998 - val_loss: 5.1945 - val_accuracy: 0.2630 - val_precision: 0.0000e+00 - val_recall: 0.0000e+00 - val_auc: 0.5000\n",
      "Epoch 15/50\n",
      "351/351 [==============================] - 8s 23ms/step - loss: 5.1668 - accuracy: 0.4175 - precision: 0.7379 - recall: 0.3251 - auc: 0.4916 - val_loss: 5.1184 - val_accuracy: 0.7370 - val_precision: 0.7370 - val_recall: 1.0000 - val_auc: 0.5000\n",
      "Epoch 16/50\n",
      "351/351 [==============================] - 8s 23ms/step - loss: 5.1691 - accuracy: 0.5701 - precision: 0.7383 - recall: 0.6456 - auc: 0.4975 - val_loss: 5.1089 - val_accuracy: 0.2630 - val_precision: 0.0000e+00 - val_recall: 0.0000e+00 - val_auc: 0.5000\n",
      "Epoch 17/50\n",
      "351/351 [==============================] - 8s 23ms/step - loss: 5.1675 - accuracy: 0.3572 - precision: 0.7308 - recall: 0.2024 - auc: 0.4956 - val_loss: 5.2506 - val_accuracy: 0.2630 - val_precision: 0.0000e+00 - val_recall: 0.0000e+00 - val_auc: 0.5000\n",
      "Epoch 18/50\n",
      "351/351 [==============================] - 8s 23ms/step - loss: 5.1682 - accuracy: 0.4186 - precision: 0.7388 - recall: 0.3267 - auc: 0.4942 - val_loss: 5.1561 - val_accuracy: 0.2630 - val_precision: 0.0000e+00 - val_recall: 0.0000e+00 - val_auc: 0.5000\n",
      "Epoch 19/50\n",
      "351/351 [==============================] - 8s 23ms/step - loss: 5.1609 - accuracy: 0.6374 - precision: 0.8205 - recall: 0.6503 - auc: 0.6772 - val_loss: 5.1355 - val_accuracy: 0.8555 - val_precision: 0.9787 - val_recall: 0.8218 - val_auc: 0.9550\n",
      "Epoch 20/50\n",
      "351/351 [==============================] - 8s 23ms/step - loss: 5.0385 - accuracy: 0.8522 - precision: 0.9441 - recall: 0.8499 - auc: 0.9198 - val_loss: 4.8415 - val_accuracy: 0.9290 - val_precision: 0.9665 - val_recall: 0.9361 - val_auc: 0.9754\n",
      "Epoch 21/50\n",
      "351/351 [==============================] - 8s 23ms/step - loss: 4.9277 - accuracy: 0.8836 - precision: 0.9552 - recall: 0.8834 - auc: 0.9476 - val_loss: 4.9016 - val_accuracy: 0.9233 - val_precision: 0.9788 - val_recall: 0.9157 - val_auc: 0.9769\n",
      "Epoch 22/50\n",
      "351/351 [==============================] - 8s 23ms/step - loss: 4.9147 - accuracy: 0.8862 - precision: 0.9567 - recall: 0.8856 - auc: 0.9506 - val_loss: 4.8325 - val_accuracy: 0.8869 - val_precision: 0.9943 - val_recall: 0.8513 - val_auc: 0.9778\n",
      "Epoch 23/50\n",
      "351/351 [==============================] - 8s 23ms/step - loss: 4.8937 - accuracy: 0.8860 - precision: 0.9537 - recall: 0.8884 - auc: 0.9509 - val_loss: 4.9177 - val_accuracy: 0.9254 - val_precision: 0.9663 - val_recall: 0.9312 - val_auc: 0.9763\n",
      "Epoch 24/50\n",
      "351/351 [==============================] - 8s 23ms/step - loss: 4.8794 - accuracy: 0.8930 - precision: 0.9587 - recall: 0.8934 - auc: 0.9556 - val_loss: 4.8115 - val_accuracy: 0.9268 - val_precision: 0.9631 - val_recall: 0.9366 - val_auc: 0.9782\n",
      "Epoch 25/50\n",
      "351/351 [==============================] - 8s 23ms/step - loss: 4.8847 - accuracy: 0.8942 - precision: 0.9606 - recall: 0.8931 - auc: 0.9564 - val_loss: 4.8391 - val_accuracy: 0.9272 - val_precision: 0.9750 - val_recall: 0.9249 - val_auc: 0.9805\n",
      "Epoch 26/50\n",
      "351/351 [==============================] - 8s 23ms/step - loss: 4.8755 - accuracy: 0.8941 - precision: 0.9608 - recall: 0.8927 - auc: 0.9567 - val_loss: 4.6569 - val_accuracy: 0.9347 - val_precision: 0.9590 - val_recall: 0.9521 - val_auc: 0.9806\n",
      "Epoch 27/50\n",
      "351/351 [==============================] - 8s 23ms/step - loss: 4.8599 - accuracy: 0.8985 - precision: 0.9633 - recall: 0.8964 - auc: 0.9581 - val_loss: 4.9163 - val_accuracy: 0.8926 - val_precision: 0.9851 - val_recall: 0.8673 - val_auc: 0.9794\n",
      "Epoch 28/50\n",
      "351/351 [==============================] - 8s 23ms/step - loss: 4.8551 - accuracy: 0.8956 - precision: 0.9638 - recall: 0.8919 - auc: 0.9597 - val_loss: 4.7703 - val_accuracy: 0.9222 - val_precision: 0.9729 - val_recall: 0.9201 - val_auc: 0.9770\n",
      "Epoch 29/50\n",
      "351/351 [==============================] - 8s 23ms/step - loss: 4.8524 - accuracy: 0.8961 - precision: 0.9648 - recall: 0.8917 - auc: 0.9604 - val_loss: 4.7997 - val_accuracy: 0.9204 - val_precision: 0.9767 - val_recall: 0.9138 - val_auc: 0.9793\n",
      "Epoch 30/50\n",
      "351/351 [==============================] - 8s 23ms/step - loss: 4.8538 - accuracy: 0.8936 - precision: 0.9646 - recall: 0.8881 - auc: 0.9598 - val_loss: 4.8861 - val_accuracy: 0.9001 - val_precision: 0.9811 - val_recall: 0.8814 - val_auc: 0.9779\n",
      "Epoch 31/50\n",
      "351/351 [==============================] - 8s 24ms/step - loss: 4.8384 - accuracy: 0.8970 - precision: 0.9674 - recall: 0.8903 - auc: 0.9594 - val_loss: 4.7935 - val_accuracy: 0.9311 - val_precision: 0.9699 - val_recall: 0.9356 - val_auc: 0.9809\n",
      "Epoch 32/50\n",
      "351/351 [==============================] - 8s 23ms/step - loss: 4.8413 - accuracy: 0.8979 - precision: 0.9669 - recall: 0.8920 - auc: 0.9615 - val_loss: 4.7719 - val_accuracy: 0.9236 - val_precision: 0.9705 - val_recall: 0.9245 - val_auc: 0.9796\n",
      "Epoch 33/50\n",
      "351/351 [==============================] - 8s 23ms/step - loss: 4.8190 - accuracy: 0.9035 - precision: 0.9688 - recall: 0.8980 - auc: 0.9644 - val_loss: 4.6693 - val_accuracy: 0.9404 - val_precision: 0.9769 - val_recall: 0.9414 - val_auc: 0.9841\n",
      "Epoch 34/50\n",
      "351/351 [==============================] - 8s 23ms/step - loss: 4.8248 - accuracy: 0.8961 - precision: 0.9675 - recall: 0.8890 - auc: 0.9635 - val_loss: 4.8249 - val_accuracy: 0.9265 - val_precision: 0.9750 - val_recall: 0.9240 - val_auc: 0.9811\n",
      "Epoch 35/50\n",
      "351/351 [==============================] - 8s 23ms/step - loss: 4.8309 - accuracy: 0.9036 - precision: 0.9662 - recall: 0.9007 - auc: 0.9642 - val_loss: 4.6723 - val_accuracy: 0.8911 - val_precision: 0.9883 - val_recall: 0.8625 - val_auc: 0.9832\n",
      "Epoch 36/50\n",
      "351/351 [==============================] - 8s 23ms/step - loss: 4.8297 - accuracy: 0.9043 - precision: 0.9681 - recall: 0.8998 - auc: 0.9638 - val_loss: 4.7754 - val_accuracy: 0.9183 - val_precision: 0.9862 - val_recall: 0.9017 - val_auc: 0.9837\n",
      "Epoch 37/50\n",
      "351/351 [==============================] - 8s 23ms/step - loss: 4.8230 - accuracy: 0.8981 - precision: 0.9708 - recall: 0.8885 - auc: 0.9643 - val_loss: 4.7047 - val_accuracy: 0.9161 - val_precision: 0.9872 - val_recall: 0.8978 - val_auc: 0.9846\n",
      "Epoch 38/50\n",
      "351/351 [==============================] - 8s 23ms/step - loss: 4.8258 - accuracy: 0.9049 - precision: 0.9719 - recall: 0.8969 - auc: 0.9662 - val_loss: 5.0552 - val_accuracy: 0.8776 - val_precision: 0.9937 - val_recall: 0.8392 - val_auc: 0.9843\n",
      "Epoch 39/50\n",
      "351/351 [==============================] - 8s 23ms/step - loss: 4.8537 - accuracy: 0.9054 - precision: 0.9696 - recall: 0.8999 - auc: 0.9655 - val_loss: 4.7113 - val_accuracy: 0.9268 - val_precision: 0.9784 - val_recall: 0.9211 - val_auc: 0.9849\n",
      "Epoch 40/50\n",
      "351/351 [==============================] - 8s 23ms/step - loss: 4.8167 - accuracy: 0.9063 - precision: 0.9725 - recall: 0.8983 - auc: 0.9676 - val_loss: 4.9452 - val_accuracy: 0.9097 - val_precision: 0.9871 - val_recall: 0.8891 - val_auc: 0.9844\n",
      "Epoch 41/50\n",
      "351/351 [==============================] - 8s 23ms/step - loss: 4.8253 - accuracy: 0.9058 - precision: 0.9701 - recall: 0.8999 - auc: 0.9685 - val_loss: 4.7861 - val_accuracy: 0.9051 - val_precision: 0.9897 - val_recall: 0.8804 - val_auc: 0.9851\n",
      "Epoch 42/50\n",
      "351/351 [==============================] - 8s 23ms/step - loss: 4.8111 - accuracy: 0.9077 - precision: 0.9714 - recall: 0.9012 - auc: 0.9678 - val_loss: 4.7486 - val_accuracy: 0.9443 - val_precision: 0.9640 - val_recall: 0.9603 - val_auc: 0.9847\n",
      "Epoch 43/50\n",
      "351/351 [==============================] - 8s 23ms/step - loss: 4.8157 - accuracy: 0.9083 - precision: 0.9722 - recall: 0.9013 - auc: 0.9696 - val_loss: 4.6556 - val_accuracy: 0.9400 - val_precision: 0.9731 - val_recall: 0.9448 - val_auc: 0.9844\n",
      "Epoch 44/50\n",
      "351/351 [==============================] - 9s 25ms/step - loss: 4.8087 - accuracy: 0.9084 - precision: 0.9717 - recall: 0.9019 - auc: 0.9683 - val_loss: 4.7643 - val_accuracy: 0.9365 - val_precision: 0.9826 - val_recall: 0.9303 - val_auc: 0.9875\n"
     ]
    },
    {
     "name": "stdout",
     "output_type": "stream",
     "text": [
      "Epoch 45/50\n",
      "351/351 [==============================] - 8s 23ms/step - loss: 4.8130 - accuracy: 0.9109 - precision: 0.9708 - recall: 0.9063 - auc: 0.9707 - val_loss: 4.7596 - val_accuracy: 0.9268 - val_precision: 0.9854 - val_recall: 0.9143 - val_auc: 0.9855\n",
      "Epoch 46/50\n",
      "351/351 [==============================] - 8s 23ms/step - loss: 4.8341 - accuracy: 0.9078 - precision: 0.9716 - recall: 0.9013 - auc: 0.9690 - val_loss: 4.7105 - val_accuracy: 0.9318 - val_precision: 0.9865 - val_recall: 0.9201 - val_auc: 0.9874\n",
      "Epoch 47/50\n",
      "351/351 [==============================] - 8s 23ms/step - loss: 4.7997 - accuracy: 0.9148 - precision: 0.9720 - recall: 0.9107 - auc: 0.9715 - val_loss: 4.7434 - val_accuracy: 0.9340 - val_precision: 0.9825 - val_recall: 0.9269 - val_auc: 0.9864\n",
      "Epoch 48/50\n",
      "351/351 [==============================] - 8s 23ms/step - loss: 4.8010 - accuracy: 0.9125 - precision: 0.9725 - recall: 0.9069 - auc: 0.9721 - val_loss: 4.6956 - val_accuracy: 0.9365 - val_precision: 0.9836 - val_recall: 0.9293 - val_auc: 0.9879\n",
      "Epoch 49/50\n",
      "351/351 [==============================] - 8s 23ms/step - loss: 4.8236 - accuracy: 0.9074 - precision: 0.9712 - recall: 0.9011 - auc: 0.9700 - val_loss: 4.7547 - val_accuracy: 0.9472 - val_precision: 0.9687 - val_recall: 0.9593 - val_auc: 0.9862\n",
      "Epoch 50/50\n",
      "351/351 [==============================] - 8s 23ms/step - loss: 4.7998 - accuracy: 0.9102 - precision: 0.9719 - recall: 0.9042 - auc: 0.9721 - val_loss: 4.7414 - val_accuracy: 0.9251 - val_precision: 0.9859 - val_recall: 0.9114 - val_auc: 0.9851\n",
      "Epoch 1/50\n",
      "351/351 [==============================] - 8s 23ms/step - loss: 4.8112 - accuracy: 0.9103 - precision: 0.9715 - recall: 0.9049 - auc: 0.9709 - val_loss: 4.7793 - val_accuracy: 0.9290 - val_precision: 0.9693 - val_recall: 0.9332 - val_auc: 0.9794\n",
      "Epoch 2/50\n",
      "351/351 [==============================] - 8s 23ms/step - loss: 4.7965 - accuracy: 0.9123 - precision: 0.9731 - recall: 0.9061 - auc: 0.9707 - val_loss: 4.7849 - val_accuracy: 0.9165 - val_precision: 0.9796 - val_recall: 0.9056 - val_auc: 0.9793\n",
      "Epoch 3/50\n",
      "351/351 [==============================] - 8s 23ms/step - loss: 4.7886 - accuracy: 0.9135 - precision: 0.9729 - recall: 0.9079 - auc: 0.9727 - val_loss: 4.9105 - val_accuracy: 0.8933 - val_precision: 0.9868 - val_recall: 0.8668 - val_auc: 0.9823\n",
      "Epoch 4/50\n",
      "351/351 [==============================] - 8s 23ms/step - loss: 4.7942 - accuracy: 0.9133 - precision: 0.9741 - recall: 0.9064 - auc: 0.9715 - val_loss: 4.7578 - val_accuracy: 0.9168 - val_precision: 0.9847 - val_recall: 0.9012 - val_auc: 0.9841\n",
      "Epoch 5/50\n",
      "351/351 [==============================] - 8s 23ms/step - loss: 4.8097 - accuracy: 0.9101 - precision: 0.9741 - recall: 0.9019 - auc: 0.9712 - val_loss: 4.8541 - val_accuracy: 0.9415 - val_precision: 0.9662 - val_recall: 0.9540 - val_auc: 0.9837\n",
      "Epoch 6/50\n",
      "351/351 [==============================] - 8s 23ms/step - loss: 4.8037 - accuracy: 0.9080 - precision: 0.9743 - recall: 0.8989 - auc: 0.9697 - val_loss: 4.7080 - val_accuracy: 0.9186 - val_precision: 0.9822 - val_recall: 0.9061 - val_auc: 0.9822\n",
      "Epoch 7/50\n",
      "351/351 [==============================] - 8s 23ms/step - loss: 4.7778 - accuracy: 0.9183 - precision: 0.9743 - recall: 0.9132 - auc: 0.9742 - val_loss: 4.7904 - val_accuracy: 0.9176 - val_precision: 0.9741 - val_recall: 0.9123 - val_auc: 0.9794\n",
      "Epoch 8/50\n",
      "351/351 [==============================] - 8s 23ms/step - loss: 4.8225 - accuracy: 0.9135 - precision: 0.9745 - recall: 0.9064 - auc: 0.9708 - val_loss: 4.7374 - val_accuracy: 0.9197 - val_precision: 0.9847 - val_recall: 0.9051 - val_auc: 0.9836\n",
      "Epoch 9/50\n",
      "351/351 [==============================] - 8s 23ms/step - loss: 4.8029 - accuracy: 0.9130 - precision: 0.9746 - recall: 0.9056 - auc: 0.9713 - val_loss: 4.8325 - val_accuracy: 0.9154 - val_precision: 0.9811 - val_recall: 0.9027 - val_auc: 0.9818\n",
      "Epoch 10/50\n",
      "351/351 [==============================] - 8s 23ms/step - loss: 4.8008 - accuracy: 0.9102 - precision: 0.9745 - recall: 0.9017 - auc: 0.9709 - val_loss: 4.7424 - val_accuracy: 0.9143 - val_precision: 0.9790 - val_recall: 0.9031 - val_auc: 0.9810\n",
      "Epoch 11/50\n",
      "351/351 [==============================] - 8s 23ms/step - loss: 4.7884 - accuracy: 0.9146 - precision: 0.9735 - recall: 0.9088 - auc: 0.9730 - val_loss: 4.7425 - val_accuracy: 0.9276 - val_precision: 0.9712 - val_recall: 0.9293 - val_auc: 0.9821\n",
      "Epoch 12/50\n",
      "351/351 [==============================] - 8s 23ms/step - loss: 4.7802 - accuracy: 0.9139 - precision: 0.9752 - recall: 0.9062 - auc: 0.9725 - val_loss: 4.7604 - val_accuracy: 0.9347 - val_precision: 0.9586 - val_recall: 0.9525 - val_auc: 0.9802\n",
      "Epoch 13/50\n",
      "351/351 [==============================] - 8s 23ms/step - loss: 4.8055 - accuracy: 0.9094 - precision: 0.9730 - recall: 0.9022 - auc: 0.9708 - val_loss: 4.8644 - val_accuracy: 0.9243 - val_precision: 0.9677 - val_recall: 0.9283 - val_auc: 0.9785\n",
      "Epoch 14/50\n",
      "351/351 [==============================] - 8s 23ms/step - loss: 4.7747 - accuracy: 0.9183 - precision: 0.9760 - recall: 0.9115 - auc: 0.9746 - val_loss: 4.7868 - val_accuracy: 0.9158 - val_precision: 0.9795 - val_recall: 0.9046 - val_auc: 0.9821\n",
      "Epoch 15/50\n",
      "351/351 [==============================] - 8s 23ms/step - loss: 4.7991 - accuracy: 0.9149 - precision: 0.9742 - recall: 0.9086 - auc: 0.9727 - val_loss: 4.7986 - val_accuracy: 0.9436 - val_precision: 0.9775 - val_recall: 0.9453 - val_auc: 0.9861\n",
      "Epoch 16/50\n",
      "351/351 [==============================] - 8s 23ms/step - loss: 4.7910 - accuracy: 0.9171 - precision: 0.9752 - recall: 0.9107 - auc: 0.9742 - val_loss: 4.7318 - val_accuracy: 0.9393 - val_precision: 0.9450 - val_recall: 0.9743 - val_auc: 0.9828\n",
      "Epoch 17/50\n",
      "351/351 [==============================] - 8s 23ms/step - loss: 4.8014 - accuracy: 0.9148 - precision: 0.9736 - recall: 0.9091 - auc: 0.9731 - val_loss: 4.7667 - val_accuracy: 0.9097 - val_precision: 0.9778 - val_recall: 0.8978 - val_auc: 0.9788\n",
      "Epoch 18/50\n",
      "351/351 [==============================] - 8s 23ms/step - loss: 4.7817 - accuracy: 0.9177 - precision: 0.9766 - recall: 0.9102 - auc: 0.9741 - val_loss: 4.7112 - val_accuracy: 0.9147 - val_precision: 0.9826 - val_recall: 0.9002 - val_auc: 0.9830\n",
      "Epoch 19/50\n",
      "351/351 [==============================] - 8s 23ms/step - loss: 4.7951 - accuracy: 0.9158 - precision: 0.9768 - recall: 0.9073 - auc: 0.9737 - val_loss: 4.7183 - val_accuracy: 0.9468 - val_precision: 0.9527 - val_recall: 0.9763 - val_auc: 0.9864\n",
      "Epoch 20/50\n",
      "351/351 [==============================] - 8s 23ms/step - loss: 4.7956 - accuracy: 0.9143 - precision: 0.9758 - recall: 0.9062 - auc: 0.9725 - val_loss: 4.8048 - val_accuracy: 0.8947 - val_precision: 0.9810 - val_recall: 0.8741 - val_auc: 0.9767\n",
      "Epoch 21/50\n",
      "351/351 [==============================] - 8s 23ms/step - loss: 4.7902 - accuracy: 0.9187 - precision: 0.9775 - recall: 0.9107 - auc: 0.9746 - val_loss: 4.7109 - val_accuracy: 0.9486 - val_precision: 0.9638 - val_recall: 0.9666 - val_auc: 0.9858\n",
      "Epoch 22/50\n",
      "351/351 [==============================] - 8s 23ms/step - loss: 4.8014 - accuracy: 0.9135 - precision: 0.9752 - recall: 0.9057 - auc: 0.9733 - val_loss: 4.7626 - val_accuracy: 0.9443 - val_precision: 0.9640 - val_recall: 0.9603 - val_auc: 0.9862\n",
      "Epoch 23/50\n",
      "351/351 [==============================] - 8s 22ms/step - loss: 4.8084 - accuracy: 0.9185 - precision: 0.9744 - recall: 0.9133 - auc: 0.9747 - val_loss: 4.6719 - val_accuracy: 0.9372 - val_precision: 0.9730 - val_recall: 0.9409 - val_auc: 0.9834\n",
      "Epoch 24/50\n",
      "351/351 [==============================] - 8s 23ms/step - loss: 4.7983 - accuracy: 0.9151 - precision: 0.9744 - recall: 0.9086 - auc: 0.9741 - val_loss: 4.7350 - val_accuracy: 0.9400 - val_precision: 0.9735 - val_recall: 0.9443 - val_auc: 0.9846\n",
      "Epoch 25/50\n",
      "351/351 [==============================] - 8s 23ms/step - loss: 4.8085 - accuracy: 0.9137 - precision: 0.9752 - recall: 0.9059 - auc: 0.9734 - val_loss: 4.7563 - val_accuracy: 0.9183 - val_precision: 0.9826 - val_recall: 0.9051 - val_auc: 0.9819\n",
      "Epoch 26/50\n",
      "351/351 [==============================] - 8s 23ms/step - loss: 4.7930 - accuracy: 0.9142 - precision: 0.9754 - recall: 0.9064 - auc: 0.9720 - val_loss: 4.8315 - val_accuracy: 0.9361 - val_precision: 0.9710 - val_recall: 0.9414 - val_auc: 0.9833\n"
     ]
    },
    {
     "name": "stdout",
     "output_type": "stream",
     "text": [
      "Epoch 27/50\n",
      "351/351 [==============================] - 8s 23ms/step - loss: 4.8082 - accuracy: 0.9188 - precision: 0.9781 - recall: 0.9102 - auc: 0.9738 - val_loss: 4.6723 - val_accuracy: 0.9443 - val_precision: 0.9709 - val_recall: 0.9530 - val_auc: 0.9860\n",
      "Epoch 28/50\n",
      "351/351 [==============================] - 8s 22ms/step - loss: 4.7855 - accuracy: 0.9213 - precision: 0.9780 - recall: 0.9138 - auc: 0.9747 - val_loss: 4.7537 - val_accuracy: 0.9168 - val_precision: 0.9836 - val_recall: 0.9022 - val_auc: 0.9837\n",
      "Epoch 29/50\n",
      "351/351 [==============================] - 8s 23ms/step - loss: 4.8084 - accuracy: 0.9176 - precision: 0.9769 - recall: 0.9097 - auc: 0.9748 - val_loss: 4.7138 - val_accuracy: 0.9411 - val_precision: 0.9703 - val_recall: 0.9492 - val_auc: 0.9846\n",
      "Epoch 30/50\n",
      "351/351 [==============================] - 8s 23ms/step - loss: 4.7805 - accuracy: 0.9209 - precision: 0.9783 - recall: 0.9130 - auc: 0.9763 - val_loss: 4.9289 - val_accuracy: 0.9215 - val_precision: 0.9858 - val_recall: 0.9065 - val_auc: 0.9842\n",
      "Epoch 31/50\n",
      "351/351 [==============================] - 8s 22ms/step - loss: 4.8023 - accuracy: 0.9146 - precision: 0.9760 - recall: 0.9064 - auc: 0.9740 - val_loss: 4.6861 - val_accuracy: 0.9454 - val_precision: 0.9632 - val_recall: 0.9627 - val_auc: 0.9861\n",
      "Epoch 32/50\n",
      "351/351 [==============================] - 8s 24ms/step - loss: 4.7792 - accuracy: 0.9211 - precision: 0.9781 - recall: 0.9134 - auc: 0.9775 - val_loss: 4.7952 - val_accuracy: 0.9101 - val_precision: 0.9830 - val_recall: 0.8935 - val_auc: 0.9809\n",
      "Epoch 33/50\n",
      "351/351 [==============================] - 8s 24ms/step - loss: 4.7752 - accuracy: 0.9200 - precision: 0.9784 - recall: 0.9115 - auc: 0.9756 - val_loss: 4.7033 - val_accuracy: 0.9383 - val_precision: 0.9730 - val_recall: 0.9424 - val_auc: 0.9833\n",
      "Epoch 34/50\n",
      "351/351 [==============================] - 8s 24ms/step - loss: 4.7857 - accuracy: 0.9178 - precision: 0.9770 - recall: 0.9099 - auc: 0.9759 - val_loss: 4.7459 - val_accuracy: 0.9465 - val_precision: 0.9562 - val_recall: 0.9719 - val_auc: 0.9853\n",
      "Epoch 35/50\n",
      "351/351 [==============================] - 8s 24ms/step - loss: 4.8214 - accuracy: 0.9183 - precision: 0.9779 - recall: 0.9097 - auc: 0.9748 - val_loss: 4.6611 - val_accuracy: 0.9372 - val_precision: 0.9782 - val_recall: 0.9356 - val_auc: 0.9858\n",
      "Epoch 36/50\n",
      "351/351 [==============================] - 8s 23ms/step - loss: 4.7830 - accuracy: 0.9160 - precision: 0.9786 - recall: 0.9059 - auc: 0.9749 - val_loss: 4.8276 - val_accuracy: 0.9368 - val_precision: 0.9673 - val_recall: 0.9462 - val_auc: 0.9812\n",
      "Epoch 37/50\n",
      "351/351 [==============================] - 8s 23ms/step - loss: 4.7911 - accuracy: 0.9152 - precision: 0.9765 - recall: 0.9068 - auc: 0.9745 - val_loss: 4.8012 - val_accuracy: 0.9272 - val_precision: 0.9789 - val_recall: 0.9211 - val_auc: 0.9823\n",
      "Epoch 38/50\n",
      "351/351 [==============================] - 8s 23ms/step - loss: 4.7946 - accuracy: 0.9201 - precision: 0.9793 - recall: 0.9108 - auc: 0.9766 - val_loss: 4.7861 - val_accuracy: 0.9397 - val_precision: 0.9624 - val_recall: 0.9554 - val_auc: 0.9838\n",
      "Epoch 39/50\n",
      "351/351 [==============================] - 8s 23ms/step - loss: 4.8144 - accuracy: 0.9159 - precision: 0.9772 - recall: 0.9070 - auc: 0.9750 - val_loss: 4.7867 - val_accuracy: 0.9433 - val_precision: 0.9681 - val_recall: 0.9545 - val_auc: 0.9845\n",
      "Epoch 40/50\n",
      "351/351 [==============================] - 8s 23ms/step - loss: 4.7926 - accuracy: 0.9210 - precision: 0.9786 - recall: 0.9128 - auc: 0.9757 - val_loss: 4.7351 - val_accuracy: 0.9468 - val_precision: 0.9610 - val_recall: 0.9671 - val_auc: 0.9860\n",
      "Epoch 41/50\n",
      "351/351 [==============================] - 8s 23ms/step - loss: 4.8080 - accuracy: 0.9210 - precision: 0.9782 - recall: 0.9132 - auc: 0.9767 - val_loss: 4.6891 - val_accuracy: 0.9204 - val_precision: 0.9807 - val_recall: 0.9099 - val_auc: 0.9844\n",
      "Epoch 42/50\n",
      "351/351 [==============================] - 8s 23ms/step - loss: 4.7903 - accuracy: 0.9165 - precision: 0.9777 - recall: 0.9074 - auc: 0.9742 - val_loss: 4.7875 - val_accuracy: 0.8986 - val_precision: 0.9874 - val_recall: 0.8736 - val_auc: 0.9843\n",
      "Epoch 43/50\n",
      "351/351 [==============================] - 8s 23ms/step - loss: 4.7730 - accuracy: 0.9193 - precision: 0.9799 - recall: 0.9091 - auc: 0.9761 - val_loss: 4.7653 - val_accuracy: 0.9368 - val_precision: 0.9777 - val_recall: 0.9356 - val_auc: 0.9828\n",
      "Epoch 44/50\n",
      "351/351 [==============================] - 8s 23ms/step - loss: 4.7768 - accuracy: 0.9192 - precision: 0.9778 - recall: 0.9110 - auc: 0.9767 - val_loss: 4.6365 - val_accuracy: 0.9340 - val_precision: 0.9816 - val_recall: 0.9278 - val_auc: 0.9860\n",
      "Epoch 45/50\n",
      "351/351 [==============================] - 8s 23ms/step - loss: 4.7900 - accuracy: 0.9207 - precision: 0.9775 - recall: 0.9134 - auc: 0.9774 - val_loss: 4.7275 - val_accuracy: 0.9361 - val_precision: 0.9801 - val_recall: 0.9322 - val_auc: 0.9863\n",
      "Epoch 46/50\n",
      "351/351 [==============================] - 8s 23ms/step - loss: 4.7699 - accuracy: 0.9209 - precision: 0.9785 - recall: 0.9128 - auc: 0.9782 - val_loss: 4.8068 - val_accuracy: 0.9240 - val_precision: 0.9858 - val_recall: 0.9099 - val_auc: 0.9858\n",
      "Epoch 47/50\n",
      "351/351 [==============================] - 8s 23ms/step - loss: 4.8199 - accuracy: 0.9172 - precision: 0.9783 - recall: 0.9078 - auc: 0.9745 - val_loss: 4.9521 - val_accuracy: 0.9151 - val_precision: 0.9856 - val_recall: 0.8978 - val_auc: 0.9847\n",
      "Epoch 48/50\n",
      "351/351 [==============================] - 8s 23ms/step - loss: 4.7873 - accuracy: 0.9201 - precision: 0.9797 - recall: 0.9104 - auc: 0.9763 - val_loss: 4.7011 - val_accuracy: 0.9425 - val_precision: 0.9755 - val_recall: 0.9458 - val_auc: 0.9874\n",
      "Epoch 49/50\n",
      "351/351 [==============================] - 8s 23ms/step - loss: 4.7746 - accuracy: 0.9244 - precision: 0.9804 - recall: 0.9157 - auc: 0.9776 - val_loss: 4.7398 - val_accuracy: 0.9329 - val_precision: 0.9786 - val_recall: 0.9293 - val_auc: 0.9840\n",
      "Epoch 50/50\n",
      "351/351 [==============================] - 8s 23ms/step - loss: 4.8035 - accuracy: 0.9185 - precision: 0.9788 - recall: 0.9092 - auc: 0.9766 - val_loss: 4.7285 - val_accuracy: 0.9450 - val_precision: 0.9761 - val_recall: 0.9487 - val_auc: 0.9879\n",
      "Epoch 1/50\n",
      "351/351 [==============================] - 8s 23ms/step - loss: 4.8000 - accuracy: 0.9187 - precision: 0.9789 - recall: 0.9093 - auc: 0.9758 - val_loss: 4.7328 - val_accuracy: 0.9461 - val_precision: 0.9705 - val_recall: 0.9559 - val_auc: 0.9866\n",
      "Epoch 2/50\n",
      "351/351 [==============================] - 8s 23ms/step - loss: 4.7987 - accuracy: 0.9179 - precision: 0.9781 - recall: 0.9090 - auc: 0.9762 - val_loss: 4.6470 - val_accuracy: 0.9429 - val_precision: 0.9582 - val_recall: 0.9646 - val_auc: 0.9849\n",
      "Epoch 3/50\n",
      "351/351 [==============================] - 8s 23ms/step - loss: 4.8047 - accuracy: 0.9202 - precision: 0.9779 - recall: 0.9124 - auc: 0.9778 - val_loss: 4.7804 - val_accuracy: 0.9408 - val_precision: 0.9798 - val_recall: 0.9390 - val_auc: 0.9864\n",
      "Epoch 4/50\n",
      "351/351 [==============================] - 8s 23ms/step - loss: 4.8123 - accuracy: 0.9247 - precision: 0.9788 - recall: 0.9177 - auc: 0.9779 - val_loss: 4.8458 - val_accuracy: 0.9204 - val_precision: 0.9883 - val_recall: 0.9027 - val_auc: 0.9865\n",
      "Epoch 5/50\n",
      "351/351 [==============================] - 8s 23ms/step - loss: 4.8026 - accuracy: 0.9232 - precision: 0.9804 - recall: 0.9141 - auc: 0.9766 - val_loss: 4.7643 - val_accuracy: 0.9368 - val_precision: 0.9768 - val_recall: 0.9366 - val_auc: 0.9844\n",
      "Epoch 6/50\n",
      "351/351 [==============================] - 8s 23ms/step - loss: 4.8114 - accuracy: 0.9242 - precision: 0.9793 - recall: 0.9165 - auc: 0.9786 - val_loss: 4.7302 - val_accuracy: 0.9429 - val_precision: 0.9736 - val_recall: 0.9482 - val_auc: 0.9851\n",
      "Epoch 7/50\n",
      "351/351 [==============================] - 8s 23ms/step - loss: 4.7934 - accuracy: 0.9249 - precision: 0.9786 - recall: 0.9182 - auc: 0.9774 - val_loss: 4.7886 - val_accuracy: 0.9454 - val_precision: 0.9535 - val_recall: 0.9734 - val_auc: 0.9851\n",
      "Epoch 8/50\n",
      "351/351 [==============================] - 8s 23ms/step - loss: 4.8147 - accuracy: 0.9226 - precision: 0.9786 - recall: 0.9150 - auc: 0.9771 - val_loss: 4.7170 - val_accuracy: 0.9500 - val_precision: 0.9815 - val_recall: 0.9501 - val_auc: 0.9881\n"
     ]
    },
    {
     "name": "stdout",
     "output_type": "stream",
     "text": [
      "Epoch 9/50\n",
      "351/351 [==============================] - 8s 23ms/step - loss: 4.7907 - accuracy: 0.9252 - precision: 0.9787 - recall: 0.9185 - auc: 0.9769 - val_loss: 4.8225 - val_accuracy: 0.9397 - val_precision: 0.9721 - val_recall: 0.9453 - val_auc: 0.9869\n",
      "Epoch 10/50\n",
      "351/351 [==============================] - 8s 23ms/step - loss: 4.7854 - accuracy: 0.9237 - precision: 0.9794 - recall: 0.9157 - auc: 0.9786 - val_loss: 4.6513 - val_accuracy: 0.9507 - val_precision: 0.9730 - val_recall: 0.9598 - val_auc: 0.9883\n",
      "Epoch 11/50\n",
      "351/351 [==============================] - 8s 23ms/step - loss: 4.7849 - accuracy: 0.9201 - precision: 0.9778 - recall: 0.9124 - auc: 0.9767 - val_loss: 4.8341 - val_accuracy: 0.9297 - val_precision: 0.9865 - val_recall: 0.9172 - val_auc: 0.9874\n",
      "Epoch 12/50\n",
      "351/351 [==============================] - 8s 23ms/step - loss: 4.8006 - accuracy: 0.9230 - precision: 0.9785 - recall: 0.9156 - auc: 0.9787 - val_loss: 4.8064 - val_accuracy: 0.9400 - val_precision: 0.9832 - val_recall: 0.9346 - val_auc: 0.9886\n",
      "Epoch 13/50\n",
      "351/351 [==============================] - 8s 22ms/step - loss: 4.8083 - accuracy: 0.9169 - precision: 0.9805 - recall: 0.9053 - auc: 0.9763 - val_loss: 4.8595 - val_accuracy: 0.9318 - val_precision: 0.9850 - val_recall: 0.9215 - val_auc: 0.9844\n",
      "Epoch 14/50\n",
      "351/351 [==============================] - 8s 23ms/step - loss: 4.8128 - accuracy: 0.9211 - precision: 0.9801 - recall: 0.9115 - auc: 0.9774 - val_loss: 4.8216 - val_accuracy: 0.9293 - val_precision: 0.9880 - val_recall: 0.9153 - val_auc: 0.9864\n",
      "Epoch 15/50\n",
      "351/351 [==============================] - 8s 23ms/step - loss: 4.7672 - accuracy: 0.9273 - precision: 0.9810 - recall: 0.9191 - auc: 0.9796 - val_loss: 4.7797 - val_accuracy: 0.9447 - val_precision: 0.9799 - val_recall: 0.9443 - val_auc: 0.9874\n",
      "Epoch 16/50\n",
      "351/351 [==============================] - 8s 23ms/step - loss: 4.7860 - accuracy: 0.9244 - precision: 0.9793 - recall: 0.9168 - auc: 0.9783 - val_loss: 4.7413 - val_accuracy: 0.9311 - val_precision: 0.9850 - val_recall: 0.9206 - val_auc: 0.9877\n",
      "Epoch 17/50\n",
      "351/351 [==============================] - 8s 23ms/step - loss: 4.7976 - accuracy: 0.9254 - precision: 0.9801 - recall: 0.9174 - auc: 0.9800 - val_loss: 4.7281 - val_accuracy: 0.9472 - val_precision: 0.9719 - val_recall: 0.9559 - val_auc: 0.9879\n",
      "Epoch 18/50\n",
      "351/351 [==============================] - 8s 23ms/step - loss: 4.7801 - accuracy: 0.9246 - precision: 0.9798 - recall: 0.9166 - auc: 0.9780 - val_loss: 4.6524 - val_accuracy: 0.9540 - val_precision: 0.9754 - val_recall: 0.9617 - val_auc: 0.9882\n",
      "Epoch 19/50\n",
      "351/351 [==============================] - 8s 23ms/step - loss: 4.7722 - accuracy: 0.9244 - precision: 0.9799 - recall: 0.9162 - auc: 0.9798 - val_loss: 4.7181 - val_accuracy: 0.9361 - val_precision: 0.9881 - val_recall: 0.9245 - val_auc: 0.9873\n",
      "Epoch 20/50\n",
      "351/351 [==============================] - 8s 23ms/step - loss: 4.7952 - accuracy: 0.9212 - precision: 0.9796 - recall: 0.9121 - auc: 0.9772 - val_loss: 4.7915 - val_accuracy: 0.9500 - val_precision: 0.9834 - val_recall: 0.9482 - val_auc: 0.9874\n",
      "Epoch 21/50\n",
      "351/351 [==============================] - 8s 24ms/step - loss: 4.7775 - accuracy: 0.9239 - precision: 0.9808 - recall: 0.9147 - auc: 0.9781 - val_loss: 4.8103 - val_accuracy: 0.9425 - val_precision: 0.9746 - val_recall: 0.9467 - val_auc: 0.9853\n",
      "Epoch 22/50\n",
      "351/351 [==============================] - 8s 23ms/step - loss: 4.7773 - accuracy: 0.9275 - precision: 0.9815 - recall: 0.9189 - auc: 0.9795 - val_loss: 4.8148 - val_accuracy: 0.9475 - val_precision: 0.9752 - val_recall: 0.9530 - val_auc: 0.9885\n",
      "Epoch 23/50\n",
      "351/351 [==============================] - 8s 23ms/step - loss: 4.8152 - accuracy: 0.9243 - precision: 0.9802 - recall: 0.9159 - auc: 0.9788 - val_loss: 4.7574 - val_accuracy: 0.9497 - val_precision: 0.9791 - val_recall: 0.9521 - val_auc: 0.9878\n",
      "Epoch 24/50\n",
      "351/351 [==============================] - 8s 23ms/step - loss: 4.8150 - accuracy: 0.9256 - precision: 0.9797 - recall: 0.9180 - auc: 0.9781 - val_loss: 4.8075 - val_accuracy: 0.9418 - val_precision: 0.9671 - val_recall: 0.9535 - val_auc: 0.9853\n",
      "Epoch 25/50\n",
      "351/351 [==============================] - 8s 24ms/step - loss: 4.7677 - accuracy: 0.9283 - precision: 0.9803 - recall: 0.9212 - auc: 0.9808 - val_loss: 4.7146 - val_accuracy: 0.9440 - val_precision: 0.9780 - val_recall: 0.9453 - val_auc: 0.9895\n",
      "Epoch 26/50\n",
      "351/351 [==============================] - 8s 24ms/step - loss: 4.7780 - accuracy: 0.9281 - precision: 0.9818 - recall: 0.9195 - auc: 0.9805 - val_loss: 4.7802 - val_accuracy: 0.9518 - val_precision: 0.9608 - val_recall: 0.9743 - val_auc: 0.9895\n",
      "Epoch 27/50\n",
      "351/351 [==============================] - 8s 23ms/step - loss: 4.7712 - accuracy: 0.9333 - precision: 0.9830 - recall: 0.9254 - auc: 0.9826 - val_loss: 4.6332 - val_accuracy: 0.9440 - val_precision: 0.9613 - val_recall: 0.9627 - val_auc: 0.9836\n",
      "Epoch 28/50\n",
      "351/351 [==============================] - 8s 23ms/step - loss: 4.7720 - accuracy: 0.9310 - precision: 0.9814 - recall: 0.9240 - auc: 0.9808 - val_loss: 4.6849 - val_accuracy: 0.9490 - val_precision: 0.9585 - val_recall: 0.9729 - val_auc: 0.9882\n",
      "Epoch 29/50\n",
      "351/351 [==============================] - 8s 23ms/step - loss: 4.7955 - accuracy: 0.9300 - precision: 0.9810 - recall: 0.9229 - auc: 0.9809 - val_loss: 4.7369 - val_accuracy: 0.9572 - val_precision: 0.9798 - val_recall: 0.9617 - val_auc: 0.9899\n",
      "Epoch 30/50\n",
      "351/351 [==============================] - 8s 22ms/step - loss: 4.7931 - accuracy: 0.9267 - precision: 0.9801 - recall: 0.9193 - auc: 0.9807 - val_loss: 4.8060 - val_accuracy: 0.9411 - val_precision: 0.9887 - val_recall: 0.9308 - val_auc: 0.9899\n",
      "Epoch 31/50\n",
      "351/351 [==============================] - 8s 23ms/step - loss: 4.7732 - accuracy: 0.9313 - precision: 0.9814 - recall: 0.9243 - auc: 0.9815 - val_loss: 4.5920 - val_accuracy: 0.9532 - val_precision: 0.9654 - val_recall: 0.9714 - val_auc: 0.9906\n",
      "Epoch 32/50\n",
      "351/351 [==============================] - 8s 23ms/step - loss: 4.7606 - accuracy: 0.9355 - precision: 0.9832 - recall: 0.9283 - auc: 0.9828 - val_loss: 4.7734 - val_accuracy: 0.9579 - val_precision: 0.9841 - val_recall: 0.9584 - val_auc: 0.9908\n",
      "Epoch 33/50\n",
      "351/351 [==============================] - 8s 23ms/step - loss: 4.7861 - accuracy: 0.9312 - precision: 0.9820 - recall: 0.9236 - auc: 0.9808 - val_loss: 4.7153 - val_accuracy: 0.9325 - val_precision: 0.9870 - val_recall: 0.9206 - val_auc: 0.9875\n",
      "Epoch 34/50\n",
      "351/351 [==============================] - 8s 23ms/step - loss: 4.7749 - accuracy: 0.9353 - precision: 0.9841 - recall: 0.9272 - auc: 0.9824 - val_loss: 4.8625 - val_accuracy: 0.9365 - val_precision: 0.9876 - val_recall: 0.9254 - val_auc: 0.9882\n",
      "Epoch 35/50\n",
      "351/351 [==============================] - 8s 23ms/step - loss: 4.7706 - accuracy: 0.9330 - precision: 0.9823 - recall: 0.9258 - auc: 0.9816 - val_loss: 4.6523 - val_accuracy: 0.9590 - val_precision: 0.9756 - val_recall: 0.9685 - val_auc: 0.9893\n",
      "Epoch 36/50\n",
      "351/351 [==============================] - 8s 23ms/step - loss: 4.7895 - accuracy: 0.9343 - precision: 0.9824 - recall: 0.9275 - auc: 0.9830 - val_loss: 4.8083 - val_accuracy: 0.9511 - val_precision: 0.9854 - val_recall: 0.9477 - val_auc: 0.9899\n",
      "Epoch 37/50\n",
      "351/351 [==============================] - 8s 23ms/step - loss: 4.7793 - accuracy: 0.9293 - precision: 0.9846 - recall: 0.9185 - auc: 0.9806 - val_loss: 4.7132 - val_accuracy: 0.9547 - val_precision: 0.9745 - val_recall: 0.9637 - val_auc: 0.9897\n",
      "Epoch 38/50\n",
      "351/351 [==============================] - 8s 23ms/step - loss: 4.7736 - accuracy: 0.9310 - precision: 0.9827 - recall: 0.9226 - auc: 0.9830 - val_loss: 4.6916 - val_accuracy: 0.9490 - val_precision: 0.9858 - val_recall: 0.9443 - val_auc: 0.9901\n",
      "Epoch 39/50\n",
      "351/351 [==============================] - 8s 22ms/step - loss: 4.7666 - accuracy: 0.9357 - precision: 0.9828 - recall: 0.9289 - auc: 0.9829 - val_loss: 4.7014 - val_accuracy: 0.9507 - val_precision: 0.9859 - val_recall: 0.9467 - val_auc: 0.9901\n",
      "Epoch 40/50\n",
      "351/351 [==============================] - 8s 23ms/step - loss: 4.7545 - accuracy: 0.9355 - precision: 0.9823 - recall: 0.9292 - auc: 0.9840 - val_loss: 4.6668 - val_accuracy: 0.9354 - val_precision: 0.9891 - val_recall: 0.9225 - val_auc: 0.9885\n",
      "Epoch 41/50\n",
      "351/351 [==============================] - 8s 23ms/step - loss: 4.7737 - accuracy: 0.9340 - precision: 0.9819 - recall: 0.9275 - auc: 0.9840 - val_loss: 4.7107 - val_accuracy: 0.9590 - val_precision: 0.9846 - val_recall: 0.9593 - val_auc: 0.9918\n",
      "Epoch 42/50\n",
      "351/351 [==============================] - 8s 23ms/step - loss: 4.7678 - accuracy: 0.9335 - precision: 0.9834 - recall: 0.9254 - auc: 0.9835 - val_loss: 4.7003 - val_accuracy: 0.9461 - val_precision: 0.9814 - val_recall: 0.9448 - val_auc: 0.9898\n",
      "Epoch 43/50\n",
      "351/351 [==============================] - 8s 23ms/step - loss: 4.7777 - accuracy: 0.9334 - precision: 0.9825 - recall: 0.9260 - auc: 0.9836 - val_loss: 4.8484 - val_accuracy: 0.9418 - val_precision: 0.9877 - val_recall: 0.9327 - val_auc: 0.9905\n",
      "Epoch 44/50\n",
      "351/351 [==============================] - 8s 23ms/step - loss: 4.7876 - accuracy: 0.9350 - precision: 0.9822 - recall: 0.9287 - auc: 0.9820 - val_loss: 4.6751 - val_accuracy: 0.9575 - val_precision: 0.9742 - val_recall: 0.9680 - val_auc: 0.9899\n",
      "Epoch 45/50\n",
      "351/351 [==============================] - 8s 23ms/step - loss: 4.7796 - accuracy: 0.9363 - precision: 0.9832 - recall: 0.9294 - auc: 0.9830 - val_loss: 4.8151 - val_accuracy: 0.9475 - val_precision: 0.9888 - val_recall: 0.9395 - val_auc: 0.9914\n",
      "Epoch 46/50\n",
      "351/351 [==============================] - 8s 23ms/step - loss: 4.7757 - accuracy: 0.9350 - precision: 0.9833 - recall: 0.9275 - auc: 0.9835 - val_loss: 4.7387 - val_accuracy: 0.9540 - val_precision: 0.9570 - val_recall: 0.9816 - val_auc: 0.9885\n",
      "Epoch 47/50\n",
      "351/351 [==============================] - 8s 23ms/step - loss: 4.7673 - accuracy: 0.9364 - precision: 0.9829 - recall: 0.9299 - auc: 0.9833 - val_loss: 4.7489 - val_accuracy: 0.9657 - val_precision: 0.9795 - val_recall: 0.9738 - val_auc: 0.9914\n",
      "Epoch 48/50\n",
      "351/351 [==============================] - 8s 23ms/step - loss: 4.7736 - accuracy: 0.9367 - precision: 0.9836 - recall: 0.9295 - auc: 0.9845 - val_loss: 4.5902 - val_accuracy: 0.9475 - val_precision: 0.9477 - val_recall: 0.9831 - val_auc: 0.9901\n",
      "Epoch 49/50\n",
      "351/351 [==============================] - 8s 23ms/step - loss: 4.7690 - accuracy: 0.9387 - precision: 0.9844 - recall: 0.9316 - auc: 0.9838 - val_loss: 4.6914 - val_accuracy: 0.9611 - val_precision: 0.9766 - val_recall: 0.9705 - val_auc: 0.9916\n",
      "Epoch 50/50\n",
      "351/351 [==============================] - 8s 23ms/step - loss: 4.7426 - accuracy: 0.9383 - precision: 0.9851 - recall: 0.9303 - auc: 0.9846 - val_loss: 4.6169 - val_accuracy: 0.9575 - val_precision: 0.9817 - val_recall: 0.9603 - val_auc: 0.9920\n",
      "Epoch 1/50\n",
      "351/351 [==============================] - 8s 24ms/step - loss: 4.7670 - accuracy: 0.9359 - precision: 0.9832 - recall: 0.9289 - auc: 0.9842 - val_loss: 4.8419 - val_accuracy: 0.9611 - val_precision: 0.9890 - val_recall: 0.9579 - val_auc: 0.9931\n",
      "Epoch 2/50\n",
      "351/351 [==============================] - 8s 23ms/step - loss: 4.7597 - accuracy: 0.9402 - precision: 0.9848 - recall: 0.9333 - auc: 0.9859 - val_loss: 4.6464 - val_accuracy: 0.9629 - val_precision: 0.9676 - val_recall: 0.9826 - val_auc: 0.9930\n",
      "Epoch 3/50\n",
      "351/351 [==============================] - 8s 22ms/step - loss: 4.7790 - accuracy: 0.9375 - precision: 0.9840 - recall: 0.9304 - auc: 0.9833 - val_loss: 4.8366 - val_accuracy: 0.9393 - val_precision: 0.9927 - val_recall: 0.9245 - val_auc: 0.9903\n",
      "Epoch 4/50\n",
      "351/351 [==============================] - 8s 23ms/step - loss: 4.7787 - accuracy: 0.9356 - precision: 0.9843 - recall: 0.9274 - auc: 0.9835 - val_loss: 4.6764 - val_accuracy: 0.9543 - val_precision: 0.9588 - val_recall: 0.9801 - val_auc: 0.9923\n",
      "Epoch 5/50\n",
      "351/351 [==============================] - 8s 23ms/step - loss: 4.7599 - accuracy: 0.9416 - precision: 0.9838 - recall: 0.9361 - auc: 0.9848 - val_loss: 4.8222 - val_accuracy: 0.9550 - val_precision: 0.9904 - val_recall: 0.9482 - val_auc: 0.9919\n",
      "Epoch 6/50\n",
      "351/351 [==============================] - 8s 23ms/step - loss: 4.7729 - accuracy: 0.9425 - precision: 0.9861 - recall: 0.9351 - auc: 0.9844 - val_loss: 4.6573 - val_accuracy: 0.9522 - val_precision: 0.9854 - val_recall: 0.9492 - val_auc: 0.9918\n",
      "Epoch 7/50\n",
      "351/351 [==============================] - 8s 23ms/step - loss: 4.7570 - accuracy: 0.9368 - precision: 0.9851 - recall: 0.9283 - auc: 0.9841 - val_loss: 4.7909 - val_accuracy: 0.9461 - val_precision: 0.9928 - val_recall: 0.9337 - val_auc: 0.9917\n",
      "Epoch 8/50\n",
      "351/351 [==============================] - 8s 23ms/step - loss: 4.7556 - accuracy: 0.9338 - precision: 0.9834 - recall: 0.9258 - auc: 0.9838 - val_loss: 4.7037 - val_accuracy: 0.9604 - val_precision: 0.9870 - val_recall: 0.9588 - val_auc: 0.9931\n",
      "Epoch 9/50\n",
      "351/351 [==============================] - 8s 23ms/step - loss: 4.7805 - accuracy: 0.9342 - precision: 0.9843 - recall: 0.9256 - auc: 0.9834 - val_loss: 4.6693 - val_accuracy: 0.9679 - val_precision: 0.9877 - val_recall: 0.9685 - val_auc: 0.9946\n",
      "Epoch 10/50\n",
      "351/351 [==============================] - 8s 23ms/step - loss: 4.7666 - accuracy: 0.9401 - precision: 0.9853 - recall: 0.9327 - auc: 0.9848 - val_loss: 4.7824 - val_accuracy: 0.9272 - val_precision: 0.9921 - val_recall: 0.9085 - val_auc: 0.9905\n",
      "Epoch 11/50\n",
      "351/351 [==============================] - 8s 23ms/step - loss: 4.7910 - accuracy: 0.9405 - precision: 0.9849 - recall: 0.9335 - auc: 0.9844 - val_loss: 4.7219 - val_accuracy: 0.9525 - val_precision: 0.9929 - val_recall: 0.9424 - val_auc: 0.9925\n",
      "Epoch 12/50\n",
      "351/351 [==============================] - 8s 22ms/step - loss: 4.7679 - accuracy: 0.9379 - precision: 0.9844 - recall: 0.9305 - auc: 0.9839 - val_loss: 4.7961 - val_accuracy: 0.9579 - val_precision: 0.9909 - val_recall: 0.9516 - val_auc: 0.9927\n",
      "Epoch 13/50\n",
      "351/351 [==============================] - 8s 23ms/step - loss: 4.7808 - accuracy: 0.9366 - precision: 0.9848 - recall: 0.9282 - auc: 0.9846 - val_loss: 4.6913 - val_accuracy: 0.9618 - val_precision: 0.9666 - val_recall: 0.9821 - val_auc: 0.9934\n",
      "Epoch 14/50\n",
      "351/351 [==============================] - 8s 23ms/step - loss: 4.7655 - accuracy: 0.9373 - precision: 0.9837 - recall: 0.9303 - auc: 0.9845 - val_loss: 4.7520 - val_accuracy: 0.9618 - val_precision: 0.9776 - val_recall: 0.9705 - val_auc: 0.9924\n",
      "Epoch 15/50\n",
      "351/351 [==============================] - 8s 23ms/step - loss: 4.7760 - accuracy: 0.9358 - precision: 0.9837 - recall: 0.9283 - auc: 0.9839 - val_loss: 4.6526 - val_accuracy: 0.9604 - val_precision: 0.9895 - val_recall: 0.9564 - val_auc: 0.9921\n",
      "Epoch 16/50\n",
      "351/351 [==============================] - 8s 23ms/step - loss: 4.7648 - accuracy: 0.9373 - precision: 0.9854 - recall: 0.9287 - auc: 0.9844 - val_loss: 4.7345 - val_accuracy: 0.9561 - val_precision: 0.9889 - val_recall: 0.9511 - val_auc: 0.9926\n",
      "Epoch 17/50\n",
      "351/351 [==============================] - 8s 23ms/step - loss: 4.7478 - accuracy: 0.9422 - precision: 0.9863 - recall: 0.9345 - auc: 0.9857 - val_loss: 4.7049 - val_accuracy: 0.9647 - val_precision: 0.9838 - val_recall: 0.9680 - val_auc: 0.9934\n",
      "Epoch 18/50\n",
      "351/351 [==============================] - 8s 23ms/step - loss: 4.7405 - accuracy: 0.9413 - precision: 0.9862 - recall: 0.9334 - auc: 0.9859 - val_loss: 4.8294 - val_accuracy: 0.9622 - val_precision: 0.9748 - val_recall: 0.9738 - val_auc: 0.9926\n",
      "Epoch 19/50\n",
      "351/351 [==============================] - 8s 23ms/step - loss: 4.7781 - accuracy: 0.9324 - precision: 0.9835 - recall: 0.9237 - auc: 0.9828 - val_loss: 4.6852 - val_accuracy: 0.9522 - val_precision: 0.9869 - val_recall: 0.9477 - val_auc: 0.9909\n",
      "Epoch 20/50\n",
      "351/351 [==============================] - 8s 23ms/step - loss: 4.7462 - accuracy: 0.9378 - precision: 0.9856 - recall: 0.9292 - auc: 0.9841 - val_loss: 4.8145 - val_accuracy: 0.9076 - val_precision: 0.9967 - val_recall: 0.8775 - val_auc: 0.9899\n",
      "Epoch 21/50\n"
     ]
    },
    {
     "name": "stdout",
     "output_type": "stream",
     "text": [
      "351/351 [==============================] - 8s 23ms/step - loss: 4.7696 - accuracy: 0.9392 - precision: 0.9855 - recall: 0.9312 - auc: 0.9852 - val_loss: 4.6868 - val_accuracy: 0.9525 - val_precision: 0.9909 - val_recall: 0.9443 - val_auc: 0.9922\n",
      "Epoch 22/50\n",
      "351/351 [==============================] - 8s 23ms/step - loss: 4.7587 - accuracy: 0.9409 - precision: 0.9863 - recall: 0.9328 - auc: 0.9846 - val_loss: 4.8179 - val_accuracy: 0.9590 - val_precision: 0.9895 - val_recall: 0.9545 - val_auc: 0.9940\n",
      "Epoch 23/50\n",
      "351/351 [==============================] - 8s 23ms/step - loss: 4.7693 - accuracy: 0.9398 - precision: 0.9855 - recall: 0.9320 - auc: 0.9856 - val_loss: 4.6237 - val_accuracy: 0.9647 - val_precision: 0.9842 - val_recall: 0.9676 - val_auc: 0.9921\n",
      "Epoch 24/50\n",
      "351/351 [==============================] - 8s 23ms/step - loss: 4.7809 - accuracy: 0.9377 - precision: 0.9852 - recall: 0.9294 - auc: 0.9836 - val_loss: 4.7561 - val_accuracy: 0.9532 - val_precision: 0.9859 - val_recall: 0.9501 - val_auc: 0.9918\n",
      "Epoch 25/50\n",
      "351/351 [==============================] - 8s 23ms/step - loss: 4.7610 - accuracy: 0.9400 - precision: 0.9853 - recall: 0.9326 - auc: 0.9850 - val_loss: 4.6703 - val_accuracy: 0.9557 - val_precision: 0.9563 - val_recall: 0.9850 - val_auc: 0.9929\n",
      "Epoch 26/50\n",
      "351/351 [==============================] - 8s 23ms/step - loss: 4.7728 - accuracy: 0.9418 - precision: 0.9867 - recall: 0.9337 - auc: 0.9855 - val_loss: 4.7650 - val_accuracy: 0.9472 - val_precision: 0.9923 - val_recall: 0.9356 - val_auc: 0.9915\n",
      "Epoch 27/50\n",
      "351/351 [==============================] - 8s 23ms/step - loss: 4.7600 - accuracy: 0.9392 - precision: 0.9856 - recall: 0.9310 - auc: 0.9865 - val_loss: 4.8335 - val_accuracy: 0.8954 - val_precision: 0.9978 - val_recall: 0.8600 - val_auc: 0.9931\n",
      "Epoch 28/50\n",
      "351/351 [==============================] - 8s 23ms/step - loss: 4.7743 - accuracy: 0.9394 - precision: 0.9855 - recall: 0.9315 - auc: 0.9856 - val_loss: 4.8829 - val_accuracy: 0.9540 - val_precision: 0.9768 - val_recall: 0.9603 - val_auc: 0.9903\n",
      "Epoch 29/50\n",
      "351/351 [==============================] - 8s 23ms/step - loss: 4.7751 - accuracy: 0.9401 - precision: 0.9864 - recall: 0.9316 - auc: 0.9850 - val_loss: 4.7497 - val_accuracy: 0.9568 - val_precision: 0.9899 - val_recall: 0.9511 - val_auc: 0.9920\n",
      "Epoch 30/50\n",
      "351/351 [==============================] - 8s 24ms/step - loss: 4.7762 - accuracy: 0.9382 - precision: 0.9855 - recall: 0.9298 - auc: 0.9856 - val_loss: 4.7136 - val_accuracy: 0.9643 - val_precision: 0.9881 - val_recall: 0.9632 - val_auc: 0.9927\n",
      "Epoch 31/50\n",
      "351/351 [==============================] - 8s 23ms/step - loss: 4.7720 - accuracy: 0.9433 - precision: 0.9864 - recall: 0.9360 - auc: 0.9854 - val_loss: 4.7640 - val_accuracy: 0.9511 - val_precision: 0.9918 - val_recall: 0.9414 - val_auc: 0.9922\n",
      "Epoch 32/50\n",
      "351/351 [==============================] - 8s 23ms/step - loss: 4.7705 - accuracy: 0.9400 - precision: 0.9865 - recall: 0.9312 - auc: 0.9857 - val_loss: 4.7223 - val_accuracy: 0.9615 - val_precision: 0.9875 - val_recall: 0.9598 - val_auc: 0.9932\n",
      "Epoch 33/50\n",
      "351/351 [==============================] - 8s 23ms/step - loss: 4.7436 - accuracy: 0.9435 - precision: 0.9867 - recall: 0.9360 - auc: 0.9868 - val_loss: 4.7153 - val_accuracy: 0.9618 - val_precision: 0.9832 - val_recall: 0.9646 - val_auc: 0.9924\n",
      "Epoch 34/50\n",
      "351/351 [==============================] - 8s 23ms/step - loss: 4.7994 - accuracy: 0.9341 - precision: 0.9845 - recall: 0.9251 - auc: 0.9846 - val_loss: 4.7073 - val_accuracy: 0.9532 - val_precision: 0.9939 - val_recall: 0.9424 - val_auc: 0.9920\n",
      "Epoch 35/50\n",
      "351/351 [==============================] - 8s 23ms/step - loss: 4.7425 - accuracy: 0.9447 - precision: 0.9876 - recall: 0.9367 - auc: 0.9876 - val_loss: 4.7952 - val_accuracy: 0.9665 - val_precision: 0.9727 - val_recall: 0.9821 - val_auc: 0.9934\n",
      "Epoch 36/50\n",
      "351/351 [==============================] - 8s 23ms/step - loss: 4.7690 - accuracy: 0.9412 - precision: 0.9869 - recall: 0.9326 - auc: 0.9852 - val_loss: 4.7949 - val_accuracy: 0.9447 - val_precision: 0.9814 - val_recall: 0.9429 - val_auc: 0.9888\n",
      "Epoch 37/50\n",
      "351/351 [==============================] - 8s 23ms/step - loss: 4.7712 - accuracy: 0.9421 - precision: 0.9863 - recall: 0.9344 - auc: 0.9850 - val_loss: 4.7696 - val_accuracy: 0.9529 - val_precision: 0.9874 - val_recall: 0.9482 - val_auc: 0.9901\n",
      "Epoch 38/50\n",
      "351/351 [==============================] - 8s 23ms/step - loss: 4.7346 - accuracy: 0.9464 - precision: 0.9873 - recall: 0.9394 - auc: 0.9869 - val_loss: 4.7329 - val_accuracy: 0.9304 - val_precision: 0.9942 - val_recall: 0.9109 - val_auc: 0.9924\n",
      "Epoch 39/50\n",
      "351/351 [==============================] - 8s 23ms/step - loss: 4.7481 - accuracy: 0.9410 - precision: 0.9854 - recall: 0.9338 - auc: 0.9859 - val_loss: 4.7884 - val_accuracy: 0.9493 - val_precision: 0.9913 - val_recall: 0.9395 - val_auc: 0.9919\n",
      "Epoch 40/50\n",
      "351/351 [==============================] - 8s 23ms/step - loss: 4.7368 - accuracy: 0.9441 - precision: 0.9876 - recall: 0.9360 - auc: 0.9875 - val_loss: 4.6849 - val_accuracy: 0.9572 - val_precision: 0.9865 - val_recall: 0.9550 - val_auc: 0.9915\n",
      "Epoch 41/50\n",
      "351/351 [==============================] - 8s 23ms/step - loss: 4.7669 - accuracy: 0.9421 - precision: 0.9865 - recall: 0.9343 - auc: 0.9848 - val_loss: 4.7578 - val_accuracy: 0.9632 - val_precision: 0.9910 - val_recall: 0.9588 - val_auc: 0.9939\n",
      "Epoch 42/50\n",
      "351/351 [==============================] - 8s 23ms/step - loss: 4.7459 - accuracy: 0.9441 - precision: 0.9872 - recall: 0.9362 - auc: 0.9863 - val_loss: 4.7178 - val_accuracy: 0.9582 - val_precision: 0.9924 - val_recall: 0.9506 - val_auc: 0.9931\n",
      "Epoch 43/50\n",
      "351/351 [==============================] - 8s 23ms/step - loss: 4.7593 - accuracy: 0.9422 - precision: 0.9868 - recall: 0.9340 - auc: 0.9876 - val_loss: 4.7187 - val_accuracy: 0.9575 - val_precision: 0.9865 - val_recall: 0.9554 - val_auc: 0.9928\n",
      "Epoch 44/50\n",
      "351/351 [==============================] - 8s 23ms/step - loss: 4.7621 - accuracy: 0.9451 - precision: 0.9868 - recall: 0.9381 - auc: 0.9869 - val_loss: 4.6924 - val_accuracy: 0.9515 - val_precision: 0.9835 - val_recall: 0.9501 - val_auc: 0.9905\n",
      "Epoch 45/50\n",
      "351/351 [==============================] - 8s 23ms/step - loss: 4.7433 - accuracy: 0.9445 - precision: 0.9872 - recall: 0.9368 - auc: 0.9864 - val_loss: 4.7872 - val_accuracy: 0.9507 - val_precision: 0.9928 - val_recall: 0.9400 - val_auc: 0.9911\n",
      "Epoch 46/50\n",
      "351/351 [==============================] - 8s 23ms/step - loss: 4.7458 - accuracy: 0.9425 - precision: 0.9865 - recall: 0.9349 - auc: 0.9859 - val_loss: 4.6497 - val_accuracy: 0.9561 - val_precision: 0.9774 - val_recall: 0.9627 - val_auc: 0.9908\n",
      "Epoch 47/50\n",
      "351/351 [==============================] - 8s 22ms/step - loss: 4.7361 - accuracy: 0.9472 - precision: 0.9888 - recall: 0.9390 - auc: 0.9873 - val_loss: 4.6909 - val_accuracy: 0.9493 - val_precision: 0.9903 - val_recall: 0.9404 - val_auc: 0.9912\n",
      "Epoch 48/50\n",
      "351/351 [==============================] - 8s 23ms/step - loss: 4.7617 - accuracy: 0.9383 - precision: 0.9880 - recall: 0.9276 - auc: 0.9842 - val_loss: 4.7123 - val_accuracy: 0.9554 - val_precision: 0.9831 - val_recall: 0.9559 - val_auc: 0.9913\n",
      "Epoch 49/50\n",
      "351/351 [==============================] - 8s 23ms/step - loss: 4.7506 - accuracy: 0.9419 - precision: 0.9881 - recall: 0.9325 - auc: 0.9861 - val_loss: 4.8840 - val_accuracy: 0.8894 - val_precision: 0.9966 - val_recall: 0.8528 - val_auc: 0.9901\n",
      "Epoch 50/50\n",
      "351/351 [==============================] - 8s 22ms/step - loss: 4.7613 - accuracy: 0.9403 - precision: 0.9877 - recall: 0.9306 - auc: 0.9862 - val_loss: 4.7415 - val_accuracy: 0.9600 - val_precision: 0.9808 - val_recall: 0.9646 - val_auc: 0.9911\n"
     ]
    }
   ],
   "source": [
    "# NOTE - cannot use the validation_split when using data set generators so need to split the dataframe manually\n",
    "# into train and validation set. This was done above\n",
    "\n",
    "#callback = tf.keras.callbacks.EarlyStopping(monitor='loss', mode=\"min\", patience=3, restore_best_weights=True)\n",
    "#history = cnn.fit(x = train_set, class_weight=class_weight, validation_data = validation_set, epochs=100, callbacks=[callback] )\n",
    "\n",
    "#history_cnn_1 = cnn_1.fit(x = train_set, class_weight=class_weight, validation_data = validation_set, epochs=50 )\n",
    "\n",
    "losses_1, val_losses_1, accuracies_1, val_accuracies_1, val_auc_1 = kfoldcrossval(xtr + xval, y_tr + y_val, 5, 50, cnn_1)"
   ]
  },
  {
   "cell_type": "markdown",
   "metadata": {},
   "source": [
    "#### 3.2 Train CNN-2"
   ]
  },
  {
   "cell_type": "code",
   "execution_count": 102,
   "metadata": {},
   "outputs": [],
   "source": [
    "#history_cnn_2 = cnn_2.fit(x = train_set, class_weight=class_weight, validation_data = validation_set, epochs=50 )"
   ]
  },
  {
   "cell_type": "code",
   "execution_count": 103,
   "metadata": {},
   "outputs": [
    {
     "name": "stdout",
     "output_type": "stream",
     "text": [
      "Epoch 1/50\n",
      "351/351 [==============================] - 11s 26ms/step - loss: 0.9846 - accuracy: 0.5816 - precision: 0.8414 - recall: 0.8191 - auc: 0.7863 - val_loss: 0.8029 - val_accuracy: 0.2830 - val_precision: 0.9672 - val_recall: 0.0286 - val_auc: 0.7224\n",
      "Epoch 2/50\n",
      "351/351 [==============================] - 8s 24ms/step - loss: 0.6637 - accuracy: 0.6730 - precision: 0.8034 - recall: 0.7357 - auc: 0.6830 - val_loss: 0.3262 - val_accuracy: 0.8929 - val_precision: 0.9566 - val_recall: 0.8955 - val_auc: 0.9545\n",
      "Epoch 3/50\n",
      "351/351 [==============================] - 8s 24ms/step - loss: 0.3909 - accuracy: 0.8671 - precision: 0.9560 - recall: 0.8583 - auc: 0.9331 - val_loss: 0.2121 - val_accuracy: 0.9397 - val_precision: 0.9754 - val_recall: 0.9419 - val_auc: 0.9841\n",
      "Epoch 4/50\n",
      "351/351 [==============================] - 9s 25ms/step - loss: 0.2681 - accuracy: 0.9294 - precision: 0.9756 - recall: 0.9274 - auc: 0.9702 - val_loss: 0.1838 - val_accuracy: 0.9418 - val_precision: 0.9892 - val_recall: 0.9313 - val_auc: 0.9890\n",
      "Epoch 5/50\n",
      "351/351 [==============================] - 8s 24ms/step - loss: 0.2277 - accuracy: 0.9416 - precision: 0.9803 - recall: 0.9403 - auc: 0.9788 - val_loss: 0.1565 - val_accuracy: 0.9590 - val_precision: 0.9747 - val_recall: 0.9695 - val_auc: 0.9913\n",
      "Epoch 6/50\n",
      "351/351 [==============================] - 8s 24ms/step - loss: 0.1942 - accuracy: 0.9480 - precision: 0.9831 - recall: 0.9460 - auc: 0.9845 - val_loss: 0.1713 - val_accuracy: 0.9543 - val_precision: 0.9864 - val_recall: 0.9511 - val_auc: 0.9921\n",
      "Epoch 7/50\n",
      "351/351 [==============================] - 9s 25ms/step - loss: 0.1647 - accuracy: 0.9550 - precision: 0.9856 - recall: 0.9526 - auc: 0.9892 - val_loss: 0.1355 - val_accuracy: 0.9650 - val_precision: 0.9852 - val_recall: 0.9671 - val_auc: 0.9938\n",
      "Epoch 8/50\n",
      "351/351 [==============================] - 9s 25ms/step - loss: 0.1688 - accuracy: 0.9506 - precision: 0.9848 - recall: 0.9473 - auc: 0.9885 - val_loss: 0.1260 - val_accuracy: 0.9643 - val_precision: 0.9895 - val_recall: 0.9618 - val_auc: 0.9949\n",
      "Epoch 9/50\n",
      "351/351 [==============================] - 8s 24ms/step - loss: 0.1375 - accuracy: 0.9614 - precision: 0.9895 - recall: 0.9579 - auc: 0.9923 - val_loss: 0.1343 - val_accuracy: 0.9622 - val_precision: 0.9965 - val_recall: 0.9521 - val_auc: 0.9957\n",
      "Epoch 10/50\n",
      "351/351 [==============================] - 9s 24ms/step - loss: 0.1171 - accuracy: 0.9660 - precision: 0.9919 - recall: 0.9620 - auc: 0.9941 - val_loss: 0.1087 - val_accuracy: 0.9697 - val_precision: 0.9887 - val_recall: 0.9700 - val_auc: 0.9960\n",
      "Epoch 11/50\n",
      "351/351 [==============================] - 8s 24ms/step - loss: 0.1202 - accuracy: 0.9672 - precision: 0.9900 - recall: 0.9654 - auc: 0.9940 - val_loss: 0.1253 - val_accuracy: 0.9622 - val_precision: 0.9945 - val_recall: 0.9540 - val_auc: 0.9964\n",
      "Epoch 12/50\n",
      "351/351 [==============================] - 8s 24ms/step - loss: 0.1033 - accuracy: 0.9718 - precision: 0.9931 - recall: 0.9685 - auc: 0.9960 - val_loss: 0.1055 - val_accuracy: 0.9711 - val_precision: 0.9853 - val_recall: 0.9753 - val_auc: 0.9944\n",
      "Epoch 13/50\n",
      "351/351 [==============================] - 9s 26ms/step - loss: 0.1065 - accuracy: 0.9730 - precision: 0.9935 - recall: 0.9696 - auc: 0.9960 - val_loss: 0.1011 - val_accuracy: 0.9714 - val_precision: 0.9887 - val_recall: 0.9724 - val_auc: 0.9964\n",
      "Epoch 14/50\n",
      "351/351 [==============================] - 9s 24ms/step - loss: 0.0995 - accuracy: 0.9750 - precision: 0.9940 - recall: 0.9722 - auc: 0.9957 - val_loss: 0.1171 - val_accuracy: 0.9622 - val_precision: 0.9935 - val_recall: 0.9550 - val_auc: 0.9964\n",
      "Epoch 15/50\n",
      "351/351 [==============================] - 9s 25ms/step - loss: 0.0977 - accuracy: 0.9742 - precision: 0.9937 - recall: 0.9709 - auc: 0.9961 - val_loss: 0.0934 - val_accuracy: 0.9722 - val_precision: 0.9854 - val_recall: 0.9768 - val_auc: 0.9956\n",
      "Epoch 16/50\n",
      "351/351 [==============================] - 9s 25ms/step - loss: 0.0989 - accuracy: 0.9765 - precision: 0.9940 - recall: 0.9739 - auc: 0.9959 - val_loss: 0.1102 - val_accuracy: 0.9672 - val_precision: 0.9950 - val_recall: 0.9603 - val_auc: 0.9964\n",
      "Epoch 17/50\n",
      "351/351 [==============================] - 9s 25ms/step - loss: 0.0827 - accuracy: 0.9797 - precision: 0.9955 - recall: 0.9769 - auc: 0.9976 - val_loss: 0.1038 - val_accuracy: 0.9693 - val_precision: 0.9916 - val_recall: 0.9666 - val_auc: 0.9962\n",
      "Epoch 18/50\n",
      "351/351 [==============================] - 9s 24ms/step - loss: 0.0832 - accuracy: 0.9810 - precision: 0.9955 - recall: 0.9787 - auc: 0.9975 - val_loss: 0.1036 - val_accuracy: 0.9700 - val_precision: 0.9916 - val_recall: 0.9676 - val_auc: 0.9957\n",
      "Epoch 19/50\n",
      "351/351 [==============================] - 8s 24ms/step - loss: 0.0779 - accuracy: 0.9804 - precision: 0.9954 - recall: 0.9781 - auc: 0.9974 - val_loss: 0.1210 - val_accuracy: 0.9643 - val_precision: 0.9965 - val_recall: 0.9550 - val_auc: 0.9970\n",
      "Epoch 20/50\n",
      "351/351 [==============================] - 8s 24ms/step - loss: 0.0739 - accuracy: 0.9816 - precision: 0.9963 - recall: 0.9786 - auc: 0.9980 - val_loss: 0.0921 - val_accuracy: 0.9764 - val_precision: 0.9897 - val_recall: 0.9782 - val_auc: 0.9957\n",
      "Epoch 21/50\n",
      "351/351 [==============================] - 8s 24ms/step - loss: 0.0719 - accuracy: 0.9806 - precision: 0.9958 - recall: 0.9782 - auc: 0.9985 - val_loss: 0.0873 - val_accuracy: 0.9779 - val_precision: 0.9878 - val_recall: 0.9821 - val_auc: 0.9964\n",
      "Epoch 22/50\n",
      "351/351 [==============================] - 9s 24ms/step - loss: 0.0610 - accuracy: 0.9865 - precision: 0.9965 - recall: 0.9853 - auc: 0.9987 - val_loss: 0.0905 - val_accuracy: 0.9761 - val_precision: 0.9931 - val_recall: 0.9743 - val_auc: 0.9971\n",
      "Epoch 23/50\n",
      "351/351 [==============================] - 9s 25ms/step - loss: 0.0551 - accuracy: 0.9876 - precision: 0.9976 - recall: 0.9855 - auc: 0.9990 - val_loss: 0.0891 - val_accuracy: 0.9764 - val_precision: 0.9845 - val_recall: 0.9835 - val_auc: 0.9958\n",
      "Epoch 24/50\n",
      "351/351 [==============================] - 9s 25ms/step - loss: 0.0597 - accuracy: 0.9887 - precision: 0.9972 - recall: 0.9875 - auc: 0.9985 - val_loss: 0.1320 - val_accuracy: 0.9590 - val_precision: 0.9975 - val_recall: 0.9468 - val_auc: 0.9969\n",
      "Epoch 25/50\n",
      "351/351 [==============================] - 9s 25ms/step - loss: 0.0683 - accuracy: 0.9833 - precision: 0.9956 - recall: 0.9815 - auc: 0.9987 - val_loss: 0.0930 - val_accuracy: 0.9754 - val_precision: 0.9803 - val_recall: 0.9864 - val_auc: 0.9935\n",
      "Epoch 26/50\n",
      "351/351 [==============================] - 9s 24ms/step - loss: 0.0601 - accuracy: 0.9864 - precision: 0.9964 - recall: 0.9850 - auc: 0.9987 - val_loss: 0.0841 - val_accuracy: 0.9786 - val_precision: 0.9874 - val_recall: 0.9835 - val_auc: 0.9970\n",
      "Epoch 27/50\n",
      "351/351 [==============================] - 9s 25ms/step - loss: 0.0573 - accuracy: 0.9876 - precision: 0.9963 - recall: 0.9869 - auc: 0.9991 - val_loss: 0.1002 - val_accuracy: 0.9693 - val_precision: 0.9955 - val_recall: 0.9627 - val_auc: 0.9972\n",
      "Epoch 28/50\n",
      "351/351 [==============================] - 9s 25ms/step - loss: 0.0583 - accuracy: 0.9876 - precision: 0.9966 - recall: 0.9864 - auc: 0.9987 - val_loss: 0.0922 - val_accuracy: 0.9779 - val_precision: 0.9827 - val_recall: 0.9874 - val_auc: 0.9945\n",
      "Epoch 29/50\n",
      "351/351 [==============================] - 9s 25ms/step - loss: 0.0475 - accuracy: 0.9916 - precision: 0.9976 - recall: 0.9910 - auc: 0.9994 - val_loss: 0.0916 - val_accuracy: 0.9750 - val_precision: 0.9907 - val_recall: 0.9753 - val_auc: 0.9967\n",
      "Epoch 30/50\n",
      "351/351 [==============================] - 9s 25ms/step - loss: 0.0628 - accuracy: 0.9860 - precision: 0.9962 - recall: 0.9847 - auc: 0.9984 - val_loss: 0.0858 - val_accuracy: 0.9764 - val_precision: 0.9888 - val_recall: 0.9792 - val_auc: 0.9963\n",
      "Epoch 31/50\n",
      "351/351 [==============================] - 9s 26ms/step - loss: 0.0449 - accuracy: 0.9924 - precision: 0.9983 - recall: 0.9914 - auc: 0.9992 - val_loss: 0.0836 - val_accuracy: 0.9797 - val_precision: 0.9860 - val_recall: 0.9864 - val_auc: 0.9962\n",
      "Epoch 32/50\n",
      "351/351 [==============================] - 9s 25ms/step - loss: 0.0507 - accuracy: 0.9887 - precision: 0.9968 - recall: 0.9879 - auc: 0.9988 - val_loss: 0.1087 - val_accuracy: 0.9729 - val_precision: 0.9970 - val_recall: 0.9661 - val_auc: 0.9969\n"
     ]
    },
    {
     "name": "stdout",
     "output_type": "stream",
     "text": [
      "Epoch 33/50\n",
      "351/351 [==============================] - 9s 25ms/step - loss: 0.0471 - accuracy: 0.9913 - precision: 0.9983 - recall: 0.9899 - auc: 0.9991 - val_loss: 0.0893 - val_accuracy: 0.9782 - val_precision: 0.9917 - val_recall: 0.9787 - val_auc: 0.9968\n",
      "Epoch 34/50\n",
      "351/351 [==============================] - 9s 25ms/step - loss: 0.0528 - accuracy: 0.9902 - precision: 0.9980 - recall: 0.9888 - auc: 0.9989 - val_loss: 0.1275 - val_accuracy: 0.9682 - val_precision: 0.9960 - val_recall: 0.9608 - val_auc: 0.9953\n",
      "Epoch 35/50\n",
      "351/351 [==============================] - 9s 25ms/step - loss: 0.0460 - accuracy: 0.9910 - precision: 0.9964 - recall: 0.9914 - auc: 0.9994 - val_loss: 0.1230 - val_accuracy: 0.9625 - val_precision: 0.9955 - val_recall: 0.9535 - val_auc: 0.9957\n",
      "Epoch 36/50\n",
      "351/351 [==============================] - 9s 25ms/step - loss: 0.0559 - accuracy: 0.9886 - precision: 0.9976 - recall: 0.9870 - auc: 0.9992 - val_loss: 0.0991 - val_accuracy: 0.9786 - val_precision: 0.9841 - val_recall: 0.9869 - val_auc: 0.9955\n",
      "Epoch 37/50\n",
      "351/351 [==============================] - 9s 25ms/step - loss: 0.0515 - accuracy: 0.9922 - precision: 0.9982 - recall: 0.9912 - auc: 0.9996 - val_loss: 0.0816 - val_accuracy: 0.9772 - val_precision: 0.9912 - val_recall: 0.9777 - val_auc: 0.9974\n",
      "Epoch 38/50\n",
      "351/351 [==============================] - 9s 25ms/step - loss: 0.0446 - accuracy: 0.9923 - precision: 0.9977 - recall: 0.9918 - auc: 0.9995 - val_loss: 0.0967 - val_accuracy: 0.9786 - val_precision: 0.9808 - val_recall: 0.9903 - val_auc: 0.9929\n",
      "Epoch 39/50\n",
      "351/351 [==============================] - 9s 25ms/step - loss: 0.0448 - accuracy: 0.9918 - precision: 0.9976 - recall: 0.9913 - auc: 0.9995 - val_loss: 0.0903 - val_accuracy: 0.9757 - val_precision: 0.9883 - val_recall: 0.9787 - val_auc: 0.9954\n",
      "Epoch 40/50\n",
      "351/351 [==============================] - 9s 25ms/step - loss: 0.0391 - accuracy: 0.9935 - precision: 0.9989 - recall: 0.9924 - auc: 0.9992 - val_loss: 0.1039 - val_accuracy: 0.9729 - val_precision: 0.9945 - val_recall: 0.9685 - val_auc: 0.9965\n",
      "Epoch 41/50\n",
      "351/351 [==============================] - 9s 26ms/step - loss: 0.0424 - accuracy: 0.9934 - precision: 0.9985 - recall: 0.9925 - auc: 0.9995 - val_loss: 0.1003 - val_accuracy: 0.9732 - val_precision: 0.9906 - val_recall: 0.9729 - val_auc: 0.9968\n",
      "Epoch 42/50\n",
      "351/351 [==============================] - 9s 25ms/step - loss: 0.0663 - accuracy: 0.9853 - precision: 0.9961 - recall: 0.9840 - auc: 0.9981 - val_loss: 0.0889 - val_accuracy: 0.9786 - val_precision: 0.9878 - val_recall: 0.9831 - val_auc: 0.9962\n",
      "Epoch 43/50\n",
      "351/351 [==============================] - 9s 26ms/step - loss: 0.0496 - accuracy: 0.9928 - precision: 0.9983 - recall: 0.9919 - auc: 0.9989 - val_loss: 0.0911 - val_accuracy: 0.9772 - val_precision: 0.9869 - val_recall: 0.9821 - val_auc: 0.9961\n",
      "Epoch 44/50\n",
      "351/351 [==============================] - 9s 25ms/step - loss: 0.0429 - accuracy: 0.9918 - precision: 0.9978 - recall: 0.9911 - auc: 0.9996 - val_loss: 0.0910 - val_accuracy: 0.9739 - val_precision: 0.9882 - val_recall: 0.9763 - val_auc: 0.9966\n",
      "Epoch 45/50\n",
      "351/351 [==============================] - 9s 25ms/step - loss: 0.0348 - accuracy: 0.9950 - precision: 0.9989 - recall: 0.9944 - auc: 0.9998 - val_loss: 0.1048 - val_accuracy: 0.9754 - val_precision: 0.9859 - val_recall: 0.9806 - val_auc: 0.9933\n",
      "Epoch 46/50\n",
      "351/351 [==============================] - 9s 25ms/step - loss: 0.0534 - accuracy: 0.9901 - precision: 0.9975 - recall: 0.9889 - auc: 0.9985 - val_loss: 0.0859 - val_accuracy: 0.9800 - val_precision: 0.9941 - val_recall: 0.9787 - val_auc: 0.9964\n",
      "Epoch 47/50\n",
      "351/351 [==============================] - 9s 25ms/step - loss: 0.0290 - accuracy: 0.9962 - precision: 0.9993 - recall: 0.9956 - auc: 0.9997 - val_loss: 0.0857 - val_accuracy: 0.9768 - val_precision: 0.9785 - val_recall: 0.9903 - val_auc: 0.9954\n",
      "Epoch 48/50\n",
      "351/351 [==============================] - 9s 25ms/step - loss: 0.0479 - accuracy: 0.9906 - precision: 0.9972 - recall: 0.9901 - auc: 0.9994 - val_loss: 0.0832 - val_accuracy: 0.9814 - val_precision: 0.9922 - val_recall: 0.9826 - val_auc: 0.9959\n",
      "Epoch 49/50\n",
      "351/351 [==============================] - 9s 26ms/step - loss: 0.0358 - accuracy: 0.9944 - precision: 0.9990 - recall: 0.9933 - auc: 0.9994 - val_loss: 0.0913 - val_accuracy: 0.9797 - val_precision: 0.9888 - val_recall: 0.9835 - val_auc: 0.9949\n",
      "Epoch 50/50\n",
      "351/351 [==============================] - 9s 25ms/step - loss: 0.0364 - accuracy: 0.9941 - precision: 0.9982 - recall: 0.9938 - auc: 0.9997 - val_loss: 0.0938 - val_accuracy: 0.9779 - val_precision: 0.9781 - val_recall: 0.9923 - val_auc: 0.9945\n",
      "Epoch 1/50\n",
      "351/351 [==============================] - 9s 25ms/step - loss: 0.0830 - accuracy: 0.9825 - precision: 0.9952 - recall: 0.9810 - auc: 0.9972 - val_loss: 0.0615 - val_accuracy: 0.9889 - val_precision: 1.0000 - val_recall: 0.9850 - val_auc: 1.0000\n",
      "Epoch 2/50\n",
      "351/351 [==============================] - 9s 25ms/step - loss: 0.0733 - accuracy: 0.9863 - precision: 0.9962 - recall: 0.9851 - auc: 0.9978 - val_loss: 0.0604 - val_accuracy: 0.9897 - val_precision: 1.0000 - val_recall: 0.9860 - val_auc: 0.9998\n",
      "Epoch 3/50\n",
      "351/351 [==============================] - 9s 25ms/step - loss: 0.0551 - accuracy: 0.9884 - precision: 0.9976 - recall: 0.9867 - auc: 0.9990 - val_loss: 0.0307 - val_accuracy: 0.9979 - val_precision: 0.9985 - val_recall: 0.9985 - val_auc: 1.0000\n",
      "Epoch 4/50\n",
      "351/351 [==============================] - 9s 26ms/step - loss: 0.0461 - accuracy: 0.9906 - precision: 0.9971 - recall: 0.9902 - auc: 0.9994 - val_loss: 0.0491 - val_accuracy: 0.9921 - val_precision: 1.0000 - val_recall: 0.9893 - val_auc: 0.9999\n",
      "Epoch 5/50\n",
      "351/351 [==============================] - 9s 26ms/step - loss: 0.0442 - accuracy: 0.9906 - precision: 0.9979 - recall: 0.9893 - auc: 0.9992 - val_loss: 0.0304 - val_accuracy: 0.9979 - val_precision: 0.9990 - val_recall: 0.9981 - val_auc: 1.0000\n",
      "Epoch 6/50\n",
      "351/351 [==============================] - 9s 25ms/step - loss: 0.0451 - accuracy: 0.9916 - precision: 0.9971 - recall: 0.9915 - auc: 0.9994 - val_loss: 0.0281 - val_accuracy: 0.9986 - val_precision: 0.9995 - val_recall: 0.9985 - val_auc: 1.0000\n",
      "Epoch 7/50\n",
      "351/351 [==============================] - 9s 25ms/step - loss: 0.0462 - accuracy: 0.9921 - precision: 0.9977 - recall: 0.9915 - auc: 0.9994 - val_loss: 0.0388 - val_accuracy: 0.9925 - val_precision: 0.9904 - val_recall: 0.9995 - val_auc: 1.0000\n",
      "Epoch 8/50\n",
      "351/351 [==============================] - 9s 25ms/step - loss: 0.0411 - accuracy: 0.9926 - precision: 0.9978 - recall: 0.9921 - auc: 0.9994 - val_loss: 0.0294 - val_accuracy: 0.9975 - val_precision: 0.9990 - val_recall: 0.9976 - val_auc: 0.9999\n",
      "Epoch 9/50\n",
      "351/351 [==============================] - 9s 25ms/step - loss: 0.0447 - accuracy: 0.9917 - precision: 0.9982 - recall: 0.9906 - auc: 0.9991 - val_loss: 0.0371 - val_accuracy: 0.9957 - val_precision: 0.9966 - val_recall: 0.9976 - val_auc: 0.9999\n",
      "Epoch 10/50\n",
      "351/351 [==============================] - 9s 25ms/step - loss: 0.0384 - accuracy: 0.9943 - precision: 0.9979 - recall: 0.9943 - auc: 0.9992 - val_loss: 0.0397 - val_accuracy: 0.9936 - val_precision: 0.9981 - val_recall: 0.9932 - val_auc: 0.9999\n",
      "Epoch 11/50\n",
      "351/351 [==============================] - 8s 24ms/step - loss: 0.0450 - accuracy: 0.9919 - precision: 0.9976 - recall: 0.9914 - auc: 0.9994 - val_loss: 0.0440 - val_accuracy: 0.9936 - val_precision: 0.9981 - val_recall: 0.9932 - val_auc: 0.9998\n",
      "Epoch 12/50\n",
      "351/351 [==============================] - 9s 24ms/step - loss: 0.0420 - accuracy: 0.9932 - precision: 0.9979 - recall: 0.9929 - auc: 0.9995 - val_loss: 0.0472 - val_accuracy: 0.9889 - val_precision: 0.9995 - val_recall: 0.9855 - val_auc: 0.9999\n",
      "Epoch 13/50\n",
      "351/351 [==============================] - 9s 25ms/step - loss: 0.0397 - accuracy: 0.9935 - precision: 0.9982 - recall: 0.9930 - auc: 0.9993 - val_loss: 0.0427 - val_accuracy: 0.9929 - val_precision: 0.9990 - val_recall: 0.9913 - val_auc: 0.9998\n",
      "Epoch 14/50\n",
      "351/351 [==============================] - 9s 25ms/step - loss: 0.0453 - accuracy: 0.9925 - precision: 0.9978 - recall: 0.9920 - auc: 0.9994 - val_loss: 0.0591 - val_accuracy: 0.9914 - val_precision: 0.9956 - val_recall: 0.9927 - val_auc: 0.9991\n"
     ]
    },
    {
     "name": "stdout",
     "output_type": "stream",
     "text": [
      "Epoch 15/50\n",
      "351/351 [==============================] - 8s 24ms/step - loss: 0.0397 - accuracy: 0.9941 - precision: 0.9984 - recall: 0.9936 - auc: 0.9998 - val_loss: 0.0394 - val_accuracy: 0.9943 - val_precision: 0.9952 - val_recall: 0.9971 - val_auc: 0.9997\n",
      "Epoch 16/50\n",
      "351/351 [==============================] - 8s 24ms/step - loss: 0.0412 - accuracy: 0.9929 - precision: 0.9977 - recall: 0.9926 - auc: 0.9996 - val_loss: 0.0377 - val_accuracy: 0.9936 - val_precision: 0.9942 - val_recall: 0.9971 - val_auc: 0.9996\n",
      "Epoch 17/50\n",
      "351/351 [==============================] - 8s 24ms/step - loss: 0.0376 - accuracy: 0.9944 - precision: 0.9982 - recall: 0.9942 - auc: 0.9994 - val_loss: 0.0492 - val_accuracy: 0.9907 - val_precision: 0.9985 - val_recall: 0.9889 - val_auc: 0.9990\n",
      "Epoch 18/50\n",
      "351/351 [==============================] - 8s 24ms/step - loss: 0.0474 - accuracy: 0.9917 - precision: 0.9976 - recall: 0.9912 - auc: 0.9991 - val_loss: 0.0363 - val_accuracy: 0.9950 - val_precision: 0.9990 - val_recall: 0.9942 - val_auc: 0.9999\n",
      "Epoch 19/50\n",
      "351/351 [==============================] - 9s 24ms/step - loss: 0.0438 - accuracy: 0.9927 - precision: 0.9977 - recall: 0.9924 - auc: 0.9994 - val_loss: 0.0458 - val_accuracy: 0.9946 - val_precision: 0.9942 - val_recall: 0.9985 - val_auc: 0.9998\n",
      "Epoch 20/50\n",
      "351/351 [==============================] - 8s 24ms/step - loss: 0.0356 - accuracy: 0.9954 - precision: 0.9985 - recall: 0.9952 - auc: 0.9997 - val_loss: 0.0309 - val_accuracy: 0.9954 - val_precision: 0.9995 - val_recall: 0.9942 - val_auc: 0.9999\n",
      "Epoch 21/50\n",
      "351/351 [==============================] - 9s 24ms/step - loss: 0.0406 - accuracy: 0.9931 - precision: 0.9977 - recall: 0.9930 - auc: 0.9994 - val_loss: 0.0328 - val_accuracy: 0.9961 - val_precision: 0.9995 - val_recall: 0.9952 - val_auc: 0.9999\n",
      "Epoch 22/50\n",
      "351/351 [==============================] - 8s 24ms/step - loss: 0.0444 - accuracy: 0.9933 - precision: 0.9982 - recall: 0.9927 - auc: 0.9993 - val_loss: 0.0403 - val_accuracy: 0.9939 - val_precision: 0.9976 - val_recall: 0.9942 - val_auc: 0.9991\n",
      "Epoch 23/50\n",
      "351/351 [==============================] - 9s 24ms/step - loss: 0.0211 - accuracy: 0.9980 - precision: 0.9998 - recall: 0.9976 - auc: 0.9999 - val_loss: 0.0270 - val_accuracy: 0.9943 - val_precision: 0.9966 - val_recall: 0.9956 - val_auc: 0.9996\n",
      "Epoch 24/50\n",
      "351/351 [==============================] - 9s 24ms/step - loss: 0.0270 - accuracy: 0.9962 - precision: 0.9987 - recall: 0.9961 - auc: 0.9996 - val_loss: 0.0473 - val_accuracy: 0.9929 - val_precision: 0.9909 - val_recall: 0.9995 - val_auc: 0.9999\n",
      "Epoch 25/50\n",
      "351/351 [==============================] - 8s 24ms/step - loss: 0.0504 - accuracy: 0.9921 - precision: 0.9977 - recall: 0.9916 - auc: 0.9988 - val_loss: 0.0683 - val_accuracy: 0.9854 - val_precision: 0.9990 - val_recall: 0.9811 - val_auc: 0.9986\n",
      "Epoch 26/50\n",
      "351/351 [==============================] - 8s 24ms/step - loss: 0.0422 - accuracy: 0.9952 - precision: 0.9988 - recall: 0.9947 - auc: 0.9991 - val_loss: 0.0494 - val_accuracy: 0.9929 - val_precision: 0.9942 - val_recall: 0.9961 - val_auc: 0.9987\n",
      "Epoch 27/50\n",
      "351/351 [==============================] - 8s 24ms/step - loss: 0.0457 - accuracy: 0.9940 - precision: 0.9979 - recall: 0.9939 - auc: 0.9995 - val_loss: 0.0464 - val_accuracy: 0.9914 - val_precision: 0.9980 - val_recall: 0.9903 - val_auc: 0.9996\n",
      "Epoch 28/50\n",
      "351/351 [==============================] - 8s 24ms/step - loss: 0.0339 - accuracy: 0.9955 - precision: 0.9988 - recall: 0.9952 - auc: 0.9999 - val_loss: 0.0431 - val_accuracy: 0.9911 - val_precision: 0.9880 - val_recall: 1.0000 - val_auc: 0.9998\n",
      "Epoch 29/50\n",
      "351/351 [==============================] - 8s 24ms/step - loss: 0.0336 - accuracy: 0.9963 - precision: 0.9989 - recall: 0.9961 - auc: 0.9994 - val_loss: 0.0424 - val_accuracy: 0.9925 - val_precision: 0.9976 - val_recall: 0.9923 - val_auc: 0.9997\n",
      "Epoch 30/50\n",
      "351/351 [==============================] - 9s 25ms/step - loss: 0.0281 - accuracy: 0.9963 - precision: 0.9990 - recall: 0.9960 - auc: 0.9998 - val_loss: 0.0519 - val_accuracy: 0.9900 - val_precision: 0.9918 - val_recall: 0.9947 - val_auc: 0.9981\n",
      "Epoch 31/50\n",
      "351/351 [==============================] - 9s 25ms/step - loss: 0.0395 - accuracy: 0.9931 - precision: 0.9981 - recall: 0.9926 - auc: 0.9995 - val_loss: 0.0523 - val_accuracy: 0.9872 - val_precision: 0.9903 - val_recall: 0.9923 - val_auc: 0.9993\n",
      "Epoch 32/50\n",
      "351/351 [==============================] - 9s 25ms/step - loss: 0.0380 - accuracy: 0.9933 - precision: 0.9982 - recall: 0.9927 - auc: 0.9996 - val_loss: 0.0475 - val_accuracy: 0.9918 - val_precision: 0.9918 - val_recall: 0.9971 - val_auc: 0.9990\n",
      "Epoch 33/50\n",
      "351/351 [==============================] - 9s 25ms/step - loss: 0.0302 - accuracy: 0.9966 - precision: 0.9989 - recall: 0.9965 - auc: 0.9999 - val_loss: 0.0979 - val_accuracy: 0.9764 - val_precision: 0.9995 - val_recall: 0.9685 - val_auc: 0.9971\n",
      "Epoch 34/50\n",
      "351/351 [==============================] - 9s 25ms/step - loss: 0.0365 - accuracy: 0.9944 - precision: 0.9987 - recall: 0.9937 - auc: 0.9995 - val_loss: 0.0528 - val_accuracy: 0.9900 - val_precision: 0.9947 - val_recall: 0.9918 - val_auc: 0.9988\n",
      "Epoch 35/50\n",
      "351/351 [==============================] - 8s 24ms/step - loss: 0.0341 - accuracy: 0.9952 - precision: 0.9988 - recall: 0.9947 - auc: 0.9996 - val_loss: 0.0432 - val_accuracy: 0.9918 - val_precision: 0.9976 - val_recall: 0.9913 - val_auc: 0.9986\n",
      "Epoch 36/50\n",
      "351/351 [==============================] - 8s 24ms/step - loss: 0.0370 - accuracy: 0.9950 - precision: 0.9982 - recall: 0.9950 - auc: 0.9997 - val_loss: 0.0412 - val_accuracy: 0.9918 - val_precision: 0.9932 - val_recall: 0.9956 - val_auc: 0.9997\n",
      "Epoch 37/50\n",
      "351/351 [==============================] - 8s 24ms/step - loss: 0.0326 - accuracy: 0.9959 - precision: 0.9989 - recall: 0.9955 - auc: 0.9996 - val_loss: 0.0374 - val_accuracy: 0.9921 - val_precision: 0.9932 - val_recall: 0.9961 - val_auc: 0.9998\n",
      "Epoch 38/50\n",
      "351/351 [==============================] - 9s 24ms/step - loss: 0.0268 - accuracy: 0.9968 - precision: 0.9992 - recall: 0.9965 - auc: 0.9995 - val_loss: 0.0363 - val_accuracy: 0.9921 - val_precision: 0.9928 - val_recall: 0.9966 - val_auc: 0.9997\n",
      "Epoch 39/50\n",
      "351/351 [==============================] - 8s 24ms/step - loss: 0.0266 - accuracy: 0.9969 - precision: 0.9992 - recall: 0.9966 - auc: 0.9996 - val_loss: 0.0380 - val_accuracy: 0.9904 - val_precision: 0.9923 - val_recall: 0.9947 - val_auc: 0.9990\n",
      "Epoch 40/50\n",
      "351/351 [==============================] - 8s 24ms/step - loss: 0.0322 - accuracy: 0.9959 - precision: 0.9983 - recall: 0.9961 - auc: 0.9995 - val_loss: 0.0477 - val_accuracy: 0.9893 - val_precision: 0.9976 - val_recall: 0.9879 - val_auc: 0.9994\n",
      "Epoch 41/50\n",
      "351/351 [==============================] - 8s 24ms/step - loss: 0.0274 - accuracy: 0.9966 - precision: 0.9993 - recall: 0.9961 - auc: 0.9998 - val_loss: 0.0484 - val_accuracy: 0.9900 - val_precision: 0.9918 - val_recall: 0.9947 - val_auc: 0.9980\n",
      "Epoch 42/50\n",
      "351/351 [==============================] - 8s 24ms/step - loss: 0.0325 - accuracy: 0.9954 - precision: 0.9984 - recall: 0.9953 - auc: 0.9998 - val_loss: 0.0512 - val_accuracy: 0.9939 - val_precision: 0.9947 - val_recall: 0.9971 - val_auc: 0.9997\n",
      "Epoch 43/50\n",
      "351/351 [==============================] - 8s 24ms/step - loss: 0.0383 - accuracy: 0.9958 - precision: 0.9984 - recall: 0.9959 - auc: 0.9996 - val_loss: 0.0469 - val_accuracy: 0.9911 - val_precision: 0.9976 - val_recall: 0.9903 - val_auc: 0.9995\n",
      "Epoch 44/50\n",
      "351/351 [==============================] - 8s 24ms/step - loss: 0.0449 - accuracy: 0.9936 - precision: 0.9978 - recall: 0.9935 - auc: 0.9991 - val_loss: 0.0559 - val_accuracy: 0.9904 - val_precision: 0.9985 - val_recall: 0.9884 - val_auc: 0.9993\n",
      "Epoch 45/50\n",
      "351/351 [==============================] - 8s 24ms/step - loss: 0.0330 - accuracy: 0.9971 - precision: 0.9993 - recall: 0.9969 - auc: 0.9996 - val_loss: 0.0507 - val_accuracy: 0.9897 - val_precision: 0.9880 - val_recall: 0.9981 - val_auc: 0.9984\n",
      "Epoch 46/50\n",
      "351/351 [==============================] - 8s 24ms/step - loss: 0.0244 - accuracy: 0.9971 - precision: 0.9992 - recall: 0.9970 - auc: 1.0000 - val_loss: 0.0342 - val_accuracy: 0.9939 - val_precision: 0.9966 - val_recall: 0.9952 - val_auc: 0.9989\n"
     ]
    },
    {
     "name": "stdout",
     "output_type": "stream",
     "text": [
      "Epoch 47/50\n",
      "351/351 [==============================] - 8s 24ms/step - loss: 0.0343 - accuracy: 0.9948 - precision: 0.9982 - recall: 0.9948 - auc: 0.9996 - val_loss: 0.0393 - val_accuracy: 0.9914 - val_precision: 0.9947 - val_recall: 0.9937 - val_auc: 0.9998\n",
      "Epoch 48/50\n",
      "351/351 [==============================] - 8s 24ms/step - loss: 0.0261 - accuracy: 0.9970 - precision: 0.9989 - recall: 0.9970 - auc: 0.9999 - val_loss: 0.0403 - val_accuracy: 0.9911 - val_precision: 0.9932 - val_recall: 0.9947 - val_auc: 0.9990\n",
      "Epoch 49/50\n",
      "351/351 [==============================] - 8s 24ms/step - loss: 0.0423 - accuracy: 0.9947 - precision: 0.9981 - recall: 0.9948 - auc: 0.9989 - val_loss: 0.0526 - val_accuracy: 0.9918 - val_precision: 0.9966 - val_recall: 0.9923 - val_auc: 0.9982\n",
      "Epoch 50/50\n",
      "351/351 [==============================] - 8s 24ms/step - loss: 0.0353 - accuracy: 0.9964 - precision: 0.9991 - recall: 0.9960 - auc: 0.9996 - val_loss: 0.0387 - val_accuracy: 0.9925 - val_precision: 0.9956 - val_recall: 0.9942 - val_auc: 0.9997\n",
      "Epoch 1/50\n",
      "351/351 [==============================] - 8s 24ms/step - loss: 0.0443 - accuracy: 0.9930 - precision: 0.9978 - recall: 0.9926 - auc: 0.9992 - val_loss: 0.0514 - val_accuracy: 0.9921 - val_precision: 1.0000 - val_recall: 0.9893 - val_auc: 1.0000\n",
      "Epoch 2/50\n",
      "351/351 [==============================] - 8s 24ms/step - loss: 0.0511 - accuracy: 0.9925 - precision: 0.9978 - recall: 0.9920 - auc: 0.9994 - val_loss: 0.0384 - val_accuracy: 0.9989 - val_precision: 1.0000 - val_recall: 0.9985 - val_auc: 1.0000\n",
      "Epoch 3/50\n",
      "351/351 [==============================] - 8s 24ms/step - loss: 0.0422 - accuracy: 0.9939 - precision: 0.9984 - recall: 0.9933 - auc: 0.9996 - val_loss: 0.0250 - val_accuracy: 0.9996 - val_precision: 1.0000 - val_recall: 0.9995 - val_auc: 1.0000\n",
      "Epoch 4/50\n",
      "351/351 [==============================] - 8s 24ms/step - loss: 0.0300 - accuracy: 0.9968 - precision: 0.9989 - recall: 0.9967 - auc: 0.9997 - val_loss: 0.0344 - val_accuracy: 0.9954 - val_precision: 0.9937 - val_recall: 1.0000 - val_auc: 1.0000\n",
      "Epoch 5/50\n",
      "351/351 [==============================] - 8s 24ms/step - loss: 0.0556 - accuracy: 0.9900 - precision: 0.9968 - recall: 0.9896 - auc: 0.9992 - val_loss: 0.0391 - val_accuracy: 0.9968 - val_precision: 1.0000 - val_recall: 0.9956 - val_auc: 1.0000\n",
      "Epoch 6/50\n",
      "351/351 [==============================] - 8s 24ms/step - loss: 0.0330 - accuracy: 0.9966 - precision: 0.9993 - recall: 0.9961 - auc: 0.9999 - val_loss: 0.0217 - val_accuracy: 0.9993 - val_precision: 1.0000 - val_recall: 0.9990 - val_auc: 1.0000\n",
      "Epoch 7/50\n",
      "351/351 [==============================] - 8s 24ms/step - loss: 0.0305 - accuracy: 0.9965 - precision: 0.9990 - recall: 0.9962 - auc: 0.9993 - val_loss: 0.0185 - val_accuracy: 1.0000 - val_precision: 1.0000 - val_recall: 1.0000 - val_auc: 1.0000\n",
      "Epoch 8/50\n",
      "351/351 [==============================] - 8s 24ms/step - loss: 0.0341 - accuracy: 0.9952 - precision: 0.9985 - recall: 0.9949 - auc: 0.9996 - val_loss: 0.0280 - val_accuracy: 0.9979 - val_precision: 1.0000 - val_recall: 0.9971 - val_auc: 1.0000\n",
      "Epoch 9/50\n",
      "351/351 [==============================] - 9s 24ms/step - loss: 0.0379 - accuracy: 0.9947 - precision: 0.9985 - recall: 0.9943 - auc: 0.9996 - val_loss: 0.0360 - val_accuracy: 0.9975 - val_precision: 0.9981 - val_recall: 0.9985 - val_auc: 1.0000\n",
      "Epoch 10/50\n",
      "351/351 [==============================] - 8s 24ms/step - loss: 0.0336 - accuracy: 0.9949 - precision: 0.9985 - recall: 0.9946 - auc: 0.9998 - val_loss: 0.0244 - val_accuracy: 0.9996 - val_precision: 1.0000 - val_recall: 0.9995 - val_auc: 1.0000\n",
      "Epoch 11/50\n",
      "351/351 [==============================] - 8s 24ms/step - loss: 0.0288 - accuracy: 0.9963 - precision: 0.9988 - recall: 0.9962 - auc: 0.9997 - val_loss: 0.0343 - val_accuracy: 0.9954 - val_precision: 1.0000 - val_recall: 0.9937 - val_auc: 0.9999\n",
      "Epoch 12/50\n",
      "351/351 [==============================] - 8s 24ms/step - loss: 0.0355 - accuracy: 0.9943 - precision: 0.9983 - recall: 0.9939 - auc: 0.9996 - val_loss: 0.0299 - val_accuracy: 0.9971 - val_precision: 1.0000 - val_recall: 0.9961 - val_auc: 1.0000\n",
      "Epoch 13/50\n",
      "351/351 [==============================] - 8s 24ms/step - loss: 0.0381 - accuracy: 0.9949 - precision: 0.9981 - recall: 0.9950 - auc: 0.9996 - val_loss: 0.0250 - val_accuracy: 0.9996 - val_precision: 1.0000 - val_recall: 0.9995 - val_auc: 1.0000\n",
      "Epoch 14/50\n",
      "351/351 [==============================] - 8s 24ms/step - loss: 0.0203 - accuracy: 0.9986 - precision: 0.9996 - recall: 0.9984 - auc: 1.0000 - val_loss: 0.0213 - val_accuracy: 0.9975 - val_precision: 1.0000 - val_recall: 0.9966 - val_auc: 1.0000\n",
      "Epoch 15/50\n",
      "351/351 [==============================] - 8s 24ms/step - loss: 0.0250 - accuracy: 0.9968 - precision: 0.9988 - recall: 0.9969 - auc: 0.9998 - val_loss: 0.0263 - val_accuracy: 0.9971 - val_precision: 0.9995 - val_recall: 0.9966 - val_auc: 1.0000\n",
      "Epoch 16/50\n",
      "351/351 [==============================] - 8s 24ms/step - loss: 0.0494 - accuracy: 0.9915 - precision: 0.9976 - recall: 0.9909 - auc: 0.9993 - val_loss: 0.0469 - val_accuracy: 0.9950 - val_precision: 0.9942 - val_recall: 0.9990 - val_auc: 0.9992\n",
      "Epoch 17/50\n",
      "351/351 [==============================] - 8s 24ms/step - loss: 0.0421 - accuracy: 0.9956 - precision: 0.9987 - recall: 0.9954 - auc: 0.9992 - val_loss: 0.0260 - val_accuracy: 0.9989 - val_precision: 1.0000 - val_recall: 0.9985 - val_auc: 1.0000\n",
      "Epoch 18/50\n",
      "351/351 [==============================] - 8s 24ms/step - loss: 0.0271 - accuracy: 0.9968 - precision: 0.9992 - recall: 0.9965 - auc: 0.9999 - val_loss: 0.0212 - val_accuracy: 0.9993 - val_precision: 1.0000 - val_recall: 0.9990 - val_auc: 1.0000\n",
      "Epoch 19/50\n",
      "351/351 [==============================] - 8s 24ms/step - loss: 0.0337 - accuracy: 0.9953 - precision: 0.9984 - recall: 0.9952 - auc: 0.9995 - val_loss: 0.0368 - val_accuracy: 0.9964 - val_precision: 0.9995 - val_recall: 0.9956 - val_auc: 1.0000\n",
      "Epoch 20/50\n",
      "351/351 [==============================] - 8s 24ms/step - loss: 0.0415 - accuracy: 0.9947 - precision: 0.9983 - recall: 0.9946 - auc: 0.9994 - val_loss: 0.0311 - val_accuracy: 0.9982 - val_precision: 1.0000 - val_recall: 0.9976 - val_auc: 1.0000\n",
      "Epoch 21/50\n",
      "351/351 [==============================] - 8s 24ms/step - loss: 0.0342 - accuracy: 0.9963 - precision: 0.9991 - recall: 0.9959 - auc: 0.9997 - val_loss: 0.0250 - val_accuracy: 0.9993 - val_precision: 0.9995 - val_recall: 0.9995 - val_auc: 1.0000\n",
      "Epoch 22/50\n",
      "351/351 [==============================] - 9s 24ms/step - loss: 0.0286 - accuracy: 0.9968 - precision: 0.9990 - recall: 0.9966 - auc: 0.9997 - val_loss: 0.0172 - val_accuracy: 0.9996 - val_precision: 1.0000 - val_recall: 0.9995 - val_auc: 1.0000\n",
      "Epoch 23/50\n",
      "351/351 [==============================] - 8s 24ms/step - loss: 0.0224 - accuracy: 0.9972 - precision: 0.9992 - recall: 0.9971 - auc: 0.9998 - val_loss: 0.0203 - val_accuracy: 0.9982 - val_precision: 1.0000 - val_recall: 0.9976 - val_auc: 1.0000\n",
      "Epoch 24/50\n",
      "351/351 [==============================] - 8s 24ms/step - loss: 0.0206 - accuracy: 0.9979 - precision: 0.9994 - recall: 0.9977 - auc: 1.0000 - val_loss: 0.0204 - val_accuracy: 0.9989 - val_precision: 1.0000 - val_recall: 0.9985 - val_auc: 1.0000\n",
      "Epoch 25/50\n",
      "351/351 [==============================] - 8s 24ms/step - loss: 0.0357 - accuracy: 0.9959 - precision: 0.9990 - recall: 0.9954 - auc: 0.9993 - val_loss: 0.0279 - val_accuracy: 0.9982 - val_precision: 0.9985 - val_recall: 0.9990 - val_auc: 1.0000\n",
      "Epoch 26/50\n",
      "351/351 [==============================] - 8s 24ms/step - loss: 0.0268 - accuracy: 0.9973 - precision: 0.9990 - recall: 0.9973 - auc: 0.9998 - val_loss: 0.0288 - val_accuracy: 0.9989 - val_precision: 1.0000 - val_recall: 0.9985 - val_auc: 1.0000\n",
      "Epoch 27/50\n",
      "351/351 [==============================] - 8s 24ms/step - loss: 0.0365 - accuracy: 0.9969 - precision: 0.9993 - recall: 0.9965 - auc: 0.9994 - val_loss: 0.0217 - val_accuracy: 0.9986 - val_precision: 0.9995 - val_recall: 0.9985 - val_auc: 1.0000\n",
      "Epoch 28/50\n",
      "351/351 [==============================] - 8s 24ms/step - loss: 0.0308 - accuracy: 0.9965 - precision: 0.9990 - recall: 0.9962 - auc: 0.9996 - val_loss: 0.0270 - val_accuracy: 0.9975 - val_precision: 0.9971 - val_recall: 0.9995 - val_auc: 1.0000\n"
     ]
    },
    {
     "name": "stdout",
     "output_type": "stream",
     "text": [
      "Epoch 29/50\n",
      "351/351 [==============================] - 8s 24ms/step - loss: 0.0384 - accuracy: 0.9948 - precision: 0.9984 - recall: 0.9946 - auc: 0.9997 - val_loss: 0.0427 - val_accuracy: 0.9957 - val_precision: 1.0000 - val_recall: 0.9942 - val_auc: 1.0000\n",
      "Epoch 30/50\n",
      "351/351 [==============================] - 8s 24ms/step - loss: 0.0275 - accuracy: 0.9972 - precision: 0.9994 - recall: 0.9969 - auc: 0.9998 - val_loss: 0.0242 - val_accuracy: 0.9979 - val_precision: 0.9995 - val_recall: 0.9976 - val_auc: 1.0000\n",
      "Epoch 31/50\n",
      "351/351 [==============================] - 9s 25ms/step - loss: 0.0521 - accuracy: 0.9923 - precision: 0.9979 - recall: 0.9916 - auc: 0.9988 - val_loss: 0.0532 - val_accuracy: 0.9914 - val_precision: 0.9985 - val_recall: 0.9898 - val_auc: 0.9999\n",
      "Epoch 32/50\n",
      "351/351 [==============================] - 9s 25ms/step - loss: 0.0317 - accuracy: 0.9970 - precision: 0.9992 - recall: 0.9967 - auc: 0.9999 - val_loss: 0.0334 - val_accuracy: 0.9964 - val_precision: 0.9995 - val_recall: 0.9956 - val_auc: 1.0000\n",
      "Epoch 33/50\n",
      "351/351 [==============================] - 9s 25ms/step - loss: 0.0201 - accuracy: 0.9991 - precision: 0.9999 - recall: 0.9989 - auc: 1.0000 - val_loss: 0.0152 - val_accuracy: 0.9989 - val_precision: 1.0000 - val_recall: 0.9985 - val_auc: 1.0000\n",
      "Epoch 34/50\n",
      "351/351 [==============================] - 9s 25ms/step - loss: 0.0325 - accuracy: 0.9963 - precision: 0.9985 - recall: 0.9964 - auc: 0.9994 - val_loss: 0.0391 - val_accuracy: 0.9971 - val_precision: 0.9990 - val_recall: 0.9971 - val_auc: 1.0000\n",
      "Epoch 35/50\n",
      "351/351 [==============================] - 8s 24ms/step - loss: 0.0397 - accuracy: 0.9952 - precision: 0.9985 - recall: 0.9949 - auc: 0.9996 - val_loss: 0.0443 - val_accuracy: 0.9957 - val_precision: 0.9947 - val_recall: 0.9995 - val_auc: 0.9993\n",
      "Epoch 36/50\n",
      "351/351 [==============================] - 9s 24ms/step - loss: 0.0324 - accuracy: 0.9971 - precision: 0.9992 - recall: 0.9969 - auc: 0.9998 - val_loss: 0.0230 - val_accuracy: 0.9982 - val_precision: 0.9976 - val_recall: 1.0000 - val_auc: 1.0000\n",
      "Epoch 37/50\n",
      "351/351 [==============================] - 8s 24ms/step - loss: 0.0135 - accuracy: 0.9996 - precision: 0.9999 - recall: 0.9995 - auc: 1.0000 - val_loss: 0.0107 - val_accuracy: 1.0000 - val_precision: 1.0000 - val_recall: 1.0000 - val_auc: 1.0000\n",
      "Epoch 38/50\n",
      "351/351 [==============================] - 8s 24ms/step - loss: 0.0133 - accuracy: 0.9988 - precision: 0.9996 - recall: 0.9987 - auc: 0.9999 - val_loss: 0.0228 - val_accuracy: 0.9982 - val_precision: 0.9995 - val_recall: 0.9981 - val_auc: 1.0000\n",
      "Epoch 39/50\n",
      "351/351 [==============================] - 8s 24ms/step - loss: 0.0387 - accuracy: 0.9946 - precision: 0.9985 - recall: 0.9941 - auc: 0.9995 - val_loss: 0.0489 - val_accuracy: 0.9911 - val_precision: 1.0000 - val_recall: 0.9879 - val_auc: 1.0000\n",
      "Epoch 40/50\n",
      "351/351 [==============================] - 8s 24ms/step - loss: 0.0233 - accuracy: 0.9980 - precision: 0.9995 - recall: 0.9978 - auc: 0.9999 - val_loss: 0.0206 - val_accuracy: 0.9986 - val_precision: 0.9981 - val_recall: 1.0000 - val_auc: 1.0000\n",
      "Epoch 41/50\n",
      "351/351 [==============================] - 8s 24ms/step - loss: 0.0200 - accuracy: 0.9979 - precision: 0.9995 - recall: 0.9977 - auc: 0.9999 - val_loss: 0.0174 - val_accuracy: 0.9989 - val_precision: 1.0000 - val_recall: 0.9985 - val_auc: 1.0000\n",
      "Epoch 42/50\n",
      "351/351 [==============================] - 8s 24ms/step - loss: 0.0213 - accuracy: 0.9980 - precision: 0.9994 - recall: 0.9979 - auc: 0.9997 - val_loss: 0.0189 - val_accuracy: 0.9986 - val_precision: 1.0000 - val_recall: 0.9981 - val_auc: 1.0000\n",
      "Epoch 43/50\n",
      "351/351 [==============================] - 9s 24ms/step - loss: 0.0228 - accuracy: 0.9981 - precision: 0.9993 - recall: 0.9982 - auc: 0.9995 - val_loss: 0.0211 - val_accuracy: 0.9961 - val_precision: 1.0000 - val_recall: 0.9947 - val_auc: 1.0000\n",
      "Epoch 44/50\n",
      "351/351 [==============================] - 9s 24ms/step - loss: 0.0374 - accuracy: 0.9940 - precision: 0.9984 - recall: 0.9935 - auc: 0.9994 - val_loss: 0.0454 - val_accuracy: 0.9939 - val_precision: 0.9956 - val_recall: 0.9961 - val_auc: 0.9998\n",
      "Epoch 45/50\n",
      "351/351 [==============================] - 8s 24ms/step - loss: 0.0348 - accuracy: 0.9963 - precision: 0.9988 - recall: 0.9961 - auc: 0.9998 - val_loss: 0.0290 - val_accuracy: 0.9971 - val_precision: 0.9981 - val_recall: 0.9981 - val_auc: 0.9993\n",
      "Epoch 46/50\n",
      "351/351 [==============================] - 8s 24ms/step - loss: 0.0245 - accuracy: 0.9975 - precision: 0.9990 - recall: 0.9976 - auc: 0.9999 - val_loss: 0.0246 - val_accuracy: 0.9975 - val_precision: 0.9990 - val_recall: 0.9976 - val_auc: 0.9999\n",
      "Epoch 47/50\n",
      "351/351 [==============================] - 8s 24ms/step - loss: 0.0279 - accuracy: 0.9966 - precision: 0.9989 - recall: 0.9965 - auc: 0.9994 - val_loss: 0.0317 - val_accuracy: 0.9961 - val_precision: 0.9990 - val_recall: 0.9956 - val_auc: 0.9999\n",
      "Epoch 48/50\n",
      "351/351 [==============================] - 8s 24ms/step - loss: 0.0252 - accuracy: 0.9979 - precision: 0.9994 - recall: 0.9978 - auc: 0.9998 - val_loss: 0.0214 - val_accuracy: 0.9971 - val_precision: 0.9990 - val_recall: 0.9971 - val_auc: 1.0000\n",
      "Epoch 49/50\n",
      "351/351 [==============================] - 9s 25ms/step - loss: 0.0179 - accuracy: 0.9985 - precision: 0.9995 - recall: 0.9984 - auc: 0.9996 - val_loss: 0.0188 - val_accuracy: 0.9961 - val_precision: 0.9990 - val_recall: 0.9956 - val_auc: 1.0000\n",
      "Epoch 50/50\n",
      "351/351 [==============================] - 9s 25ms/step - loss: 0.0310 - accuracy: 0.9948 - precision: 0.9987 - recall: 0.9943 - auc: 0.9994 - val_loss: 0.0591 - val_accuracy: 0.9914 - val_precision: 0.9961 - val_recall: 0.9923 - val_auc: 0.9996\n",
      "Epoch 1/50\n",
      "351/351 [==============================] - 9s 25ms/step - loss: 0.0552 - accuracy: 0.9920 - precision: 0.9978 - recall: 0.9913 - auc: 0.9994 - val_loss: 0.0276 - val_accuracy: 1.0000 - val_precision: 1.0000 - val_recall: 1.0000 - val_auc: 1.0000\n",
      "Epoch 2/50\n",
      "351/351 [==============================] - 9s 25ms/step - loss: 0.0348 - accuracy: 0.9961 - precision: 0.9989 - recall: 0.9958 - auc: 0.9995 - val_loss: 0.0294 - val_accuracy: 1.0000 - val_precision: 1.0000 - val_recall: 1.0000 - val_auc: 1.0000\n",
      "Epoch 3/50\n",
      "351/351 [==============================] - 8s 24ms/step - loss: 0.0385 - accuracy: 0.9954 - precision: 0.9983 - recall: 0.9954 - auc: 0.9997 - val_loss: 0.0223 - val_accuracy: 0.9996 - val_precision: 1.0000 - val_recall: 0.9995 - val_auc: 1.0000\n",
      "Epoch 4/50\n",
      "351/351 [==============================] - 8s 24ms/step - loss: 0.0333 - accuracy: 0.9962 - precision: 0.9988 - recall: 0.9960 - auc: 0.9992 - val_loss: 0.0335 - val_accuracy: 0.9989 - val_precision: 0.9985 - val_recall: 1.0000 - val_auc: 1.0000\n",
      "Epoch 5/50\n",
      "351/351 [==============================] - 8s 24ms/step - loss: 0.0367 - accuracy: 0.9959 - precision: 0.9987 - recall: 0.9958 - auc: 0.9996 - val_loss: 0.0207 - val_accuracy: 0.9996 - val_precision: 1.0000 - val_recall: 0.9995 - val_auc: 1.0000\n",
      "Epoch 6/50\n",
      "351/351 [==============================] - 9s 25ms/step - loss: 0.0281 - accuracy: 0.9971 - precision: 0.9992 - recall: 0.9970 - auc: 0.9998 - val_loss: 0.0249 - val_accuracy: 0.9975 - val_precision: 1.0000 - val_recall: 0.9966 - val_auc: 0.9998\n",
      "Epoch 7/50\n",
      "351/351 [==============================] - 9s 25ms/step - loss: 0.0327 - accuracy: 0.9971 - precision: 0.9989 - recall: 0.9972 - auc: 0.9994 - val_loss: 0.0204 - val_accuracy: 1.0000 - val_precision: 1.0000 - val_recall: 1.0000 - val_auc: 1.0000\n",
      "Epoch 8/50\n",
      "351/351 [==============================] - 9s 25ms/step - loss: 0.0353 - accuracy: 0.9950 - precision: 0.9984 - recall: 0.9948 - auc: 0.9994 - val_loss: 0.0290 - val_accuracy: 0.9989 - val_precision: 0.9985 - val_recall: 1.0000 - val_auc: 1.0000\n",
      "Epoch 9/50\n",
      "351/351 [==============================] - 8s 24ms/step - loss: 0.0248 - accuracy: 0.9977 - precision: 0.9995 - recall: 0.9973 - auc: 1.0000 - val_loss: 0.0183 - val_accuracy: 1.0000 - val_precision: 1.0000 - val_recall: 1.0000 - val_auc: 1.0000\n",
      "Epoch 10/50\n",
      "351/351 [==============================] - 9s 24ms/step - loss: 0.0178 - accuracy: 0.9988 - precision: 0.9996 - recall: 0.9987 - auc: 0.9999 - val_loss: 0.0202 - val_accuracy: 0.9993 - val_precision: 0.9995 - val_recall: 0.9995 - val_auc: 1.0000\n"
     ]
    },
    {
     "name": "stdout",
     "output_type": "stream",
     "text": [
      "Epoch 11/50\n",
      "351/351 [==============================] - 9s 25ms/step - loss: 0.0323 - accuracy: 0.9962 - precision: 0.9985 - recall: 0.9962 - auc: 0.9998 - val_loss: 0.0280 - val_accuracy: 0.9986 - val_precision: 0.9985 - val_recall: 0.9995 - val_auc: 1.0000\n",
      "Epoch 12/50\n",
      "351/351 [==============================] - 9s 25ms/step - loss: 0.0399 - accuracy: 0.9959 - precision: 0.9988 - recall: 0.9956 - auc: 0.9994 - val_loss: 0.0290 - val_accuracy: 0.9996 - val_precision: 0.9995 - val_recall: 1.0000 - val_auc: 1.0000\n",
      "Epoch 13/50\n",
      "351/351 [==============================] - 8s 24ms/step - loss: 0.0381 - accuracy: 0.9960 - precision: 0.9985 - recall: 0.9960 - auc: 0.9994 - val_loss: 0.0207 - val_accuracy: 0.9996 - val_precision: 0.9995 - val_recall: 1.0000 - val_auc: 1.0000\n",
      "Epoch 14/50\n",
      "351/351 [==============================] - 8s 24ms/step - loss: 0.0239 - accuracy: 0.9971 - precision: 0.9987 - recall: 0.9975 - auc: 0.9999 - val_loss: 0.0207 - val_accuracy: 0.9996 - val_precision: 0.9995 - val_recall: 1.0000 - val_auc: 1.0000\n",
      "Epoch 15/50\n",
      "351/351 [==============================] - 9s 24ms/step - loss: 0.0267 - accuracy: 0.9971 - precision: 0.9990 - recall: 0.9971 - auc: 0.9995 - val_loss: 0.0285 - val_accuracy: 0.9968 - val_precision: 1.0000 - val_recall: 0.9956 - val_auc: 1.0000\n",
      "Epoch 16/50\n",
      "351/351 [==============================] - 8s 24ms/step - loss: 0.0334 - accuracy: 0.9957 - precision: 0.9985 - recall: 0.9956 - auc: 0.9996 - val_loss: 0.0398 - val_accuracy: 0.9979 - val_precision: 1.0000 - val_recall: 0.9971 - val_auc: 1.0000\n",
      "Epoch 17/50\n",
      "351/351 [==============================] - 9s 24ms/step - loss: 0.0371 - accuracy: 0.9966 - precision: 0.9989 - recall: 0.9965 - auc: 0.9997 - val_loss: 0.0347 - val_accuracy: 0.9968 - val_precision: 0.9957 - val_recall: 1.0000 - val_auc: 1.0000\n",
      "Epoch 18/50\n",
      "351/351 [==============================] - 9s 24ms/step - loss: 0.0458 - accuracy: 0.9938 - precision: 0.9977 - recall: 0.9939 - auc: 0.9993 - val_loss: 0.0335 - val_accuracy: 0.9996 - val_precision: 1.0000 - val_recall: 0.9995 - val_auc: 1.0000\n",
      "Epoch 19/50\n",
      "351/351 [==============================] - 8s 24ms/step - loss: 0.0266 - accuracy: 0.9979 - precision: 0.9995 - recall: 0.9976 - auc: 0.9999 - val_loss: 0.0148 - val_accuracy: 1.0000 - val_precision: 1.0000 - val_recall: 1.0000 - val_auc: 1.0000\n",
      "Epoch 20/50\n",
      "351/351 [==============================] - 8s 24ms/step - loss: 0.0201 - accuracy: 0.9987 - precision: 0.9996 - recall: 0.9985 - auc: 0.9998 - val_loss: 0.0160 - val_accuracy: 0.9993 - val_precision: 1.0000 - val_recall: 0.9990 - val_auc: 1.0000\n",
      "Epoch 21/50\n",
      "351/351 [==============================] - 8s 24ms/step - loss: 0.0181 - accuracy: 0.9988 - precision: 0.9995 - recall: 0.9988 - auc: 0.9997 - val_loss: 0.0336 - val_accuracy: 0.9950 - val_precision: 1.0000 - val_recall: 0.9932 - val_auc: 0.9995\n",
      "Epoch 22/50\n",
      "351/351 [==============================] - 8s 24ms/step - loss: 0.0270 - accuracy: 0.9966 - precision: 0.9988 - recall: 0.9966 - auc: 0.9997 - val_loss: 0.0433 - val_accuracy: 0.9918 - val_precision: 1.0000 - val_recall: 0.9889 - val_auc: 0.9997\n",
      "Epoch 23/50\n",
      "351/351 [==============================] - 9s 25ms/step - loss: 0.0315 - accuracy: 0.9963 - precision: 0.9989 - recall: 0.9960 - auc: 0.9996 - val_loss: 0.0485 - val_accuracy: 0.9914 - val_precision: 1.0000 - val_recall: 0.9884 - val_auc: 1.0000\n",
      "Epoch 24/50\n",
      "351/351 [==============================] - 9s 25ms/step - loss: 0.0348 - accuracy: 0.9963 - precision: 0.9989 - recall: 0.9961 - auc: 0.9997 - val_loss: 0.0277 - val_accuracy: 0.9982 - val_precision: 1.0000 - val_recall: 0.9976 - val_auc: 1.0000\n",
      "Epoch 25/50\n",
      "351/351 [==============================] - 9s 24ms/step - loss: 0.0282 - accuracy: 0.9974 - precision: 0.9992 - recall: 0.9973 - auc: 1.0000 - val_loss: 0.0207 - val_accuracy: 0.9993 - val_precision: 1.0000 - val_recall: 0.9990 - val_auc: 1.0000\n",
      "Epoch 26/50\n",
      "351/351 [==============================] - 8s 24ms/step - loss: 0.0222 - accuracy: 0.9979 - precision: 0.9992 - recall: 0.9981 - auc: 0.9999 - val_loss: 0.0215 - val_accuracy: 0.9993 - val_precision: 1.0000 - val_recall: 0.9990 - val_auc: 1.0000\n",
      "Epoch 27/50\n",
      "351/351 [==============================] - 8s 24ms/step - loss: 0.0210 - accuracy: 0.9979 - precision: 0.9994 - recall: 0.9978 - auc: 0.9998 - val_loss: 0.0194 - val_accuracy: 0.9986 - val_precision: 0.9990 - val_recall: 0.9990 - val_auc: 1.0000\n",
      "Epoch 28/50\n",
      "351/351 [==============================] - 9s 24ms/step - loss: 0.0300 - accuracy: 0.9955 - precision: 0.9987 - recall: 0.9953 - auc: 0.9997 - val_loss: 0.0233 - val_accuracy: 0.9982 - val_precision: 0.9985 - val_recall: 0.9990 - val_auc: 0.9993\n",
      "Epoch 29/50\n",
      "351/351 [==============================] - 8s 24ms/step - loss: 0.0309 - accuracy: 0.9971 - precision: 0.9987 - recall: 0.9973 - auc: 0.9994 - val_loss: 0.0188 - val_accuracy: 0.9993 - val_precision: 0.9990 - val_recall: 1.0000 - val_auc: 1.0000\n",
      "Epoch 30/50\n",
      "351/351 [==============================] - 8s 24ms/step - loss: 0.0278 - accuracy: 0.9965 - precision: 0.9989 - recall: 0.9964 - auc: 0.9997 - val_loss: 0.0154 - val_accuracy: 0.9993 - val_precision: 1.0000 - val_recall: 0.9990 - val_auc: 1.0000\n",
      "Epoch 31/50\n",
      "351/351 [==============================] - 9s 24ms/step - loss: 0.0261 - accuracy: 0.9971 - precision: 0.9987 - recall: 0.9975 - auc: 0.9998 - val_loss: 0.0286 - val_accuracy: 0.9975 - val_precision: 0.9995 - val_recall: 0.9971 - val_auc: 1.0000\n",
      "Epoch 32/50\n",
      "351/351 [==============================] - 8s 24ms/step - loss: 0.0242 - accuracy: 0.9980 - precision: 0.9995 - recall: 0.9978 - auc: 0.9999 - val_loss: 0.0184 - val_accuracy: 0.9982 - val_precision: 0.9990 - val_recall: 0.9985 - val_auc: 1.0000\n",
      "Epoch 33/50\n",
      "351/351 [==============================] - 9s 24ms/step - loss: 0.0270 - accuracy: 0.9978 - precision: 0.9992 - recall: 0.9978 - auc: 0.9999 - val_loss: 0.0217 - val_accuracy: 0.9989 - val_precision: 1.0000 - val_recall: 0.9985 - val_auc: 1.0000\n",
      "Epoch 34/50\n",
      "351/351 [==============================] - 9s 25ms/step - loss: 0.0161 - accuracy: 0.9989 - precision: 0.9995 - recall: 0.9990 - auc: 1.0000 - val_loss: 0.0129 - val_accuracy: 0.9996 - val_precision: 0.9995 - val_recall: 1.0000 - val_auc: 1.0000\n",
      "Epoch 35/50\n",
      "351/351 [==============================] - 9s 25ms/step - loss: 0.0228 - accuracy: 0.9980 - precision: 0.9994 - recall: 0.9979 - auc: 0.9999 - val_loss: 0.0220 - val_accuracy: 0.9982 - val_precision: 0.9985 - val_recall: 0.9990 - val_auc: 1.0000\n",
      "Epoch 36/50\n",
      "351/351 [==============================] - 8s 24ms/step - loss: 0.0476 - accuracy: 0.9931 - precision: 0.9977 - recall: 0.9930 - auc: 0.9993 - val_loss: 0.0424 - val_accuracy: 0.9961 - val_precision: 0.9995 - val_recall: 0.9952 - val_auc: 0.9999\n",
      "Epoch 37/50\n",
      "351/351 [==============================] - 8s 24ms/step - loss: 0.0414 - accuracy: 0.9960 - precision: 0.9984 - recall: 0.9961 - auc: 0.9995 - val_loss: 0.0289 - val_accuracy: 0.9986 - val_precision: 0.9995 - val_recall: 0.9985 - val_auc: 1.0000\n",
      "Epoch 38/50\n",
      "351/351 [==============================] - 9s 24ms/step - loss: 0.0232 - accuracy: 0.9986 - precision: 0.9996 - recall: 0.9984 - auc: 0.9999 - val_loss: 0.0202 - val_accuracy: 0.9975 - val_precision: 1.0000 - val_recall: 0.9966 - val_auc: 0.9998\n",
      "Epoch 39/50\n",
      "351/351 [==============================] - 8s 24ms/step - loss: 0.0183 - accuracy: 0.9983 - precision: 0.9996 - recall: 0.9981 - auc: 0.9999 - val_loss: 0.0198 - val_accuracy: 0.9979 - val_precision: 0.9990 - val_recall: 0.9981 - val_auc: 1.0000\n",
      "Epoch 40/50\n",
      "351/351 [==============================] - 9s 24ms/step - loss: 0.0116 - accuracy: 0.9997 - precision: 1.0000 - recall: 0.9996 - auc: 1.0000 - val_loss: 0.0079 - val_accuracy: 0.9996 - val_precision: 1.0000 - val_recall: 0.9995 - val_auc: 1.0000\n",
      "Epoch 41/50\n",
      "351/351 [==============================] - 8s 24ms/step - loss: 0.0074 - accuracy: 0.9996 - precision: 0.9999 - recall: 0.9996 - auc: 1.0000 - val_loss: 0.0121 - val_accuracy: 0.9982 - val_precision: 0.9995 - val_recall: 0.9981 - val_auc: 1.0000\n",
      "Epoch 42/50\n",
      "351/351 [==============================] - 8s 24ms/step - loss: 0.0432 - accuracy: 0.9944 - precision: 0.9978 - recall: 0.9946 - auc: 0.9987 - val_loss: 0.0423 - val_accuracy: 0.9986 - val_precision: 1.0000 - val_recall: 0.9981 - val_auc: 1.0000\n"
     ]
    },
    {
     "name": "stdout",
     "output_type": "stream",
     "text": [
      "Epoch 43/50\n",
      "351/351 [==============================] - 8s 24ms/step - loss: 0.0264 - accuracy: 0.9980 - precision: 0.9994 - recall: 0.9979 - auc: 1.0000 - val_loss: 0.0166 - val_accuracy: 1.0000 - val_precision: 1.0000 - val_recall: 1.0000 - val_auc: 1.0000\n",
      "Epoch 44/50\n",
      "351/351 [==============================] - 8s 24ms/step - loss: 0.0216 - accuracy: 0.9980 - precision: 0.9992 - recall: 0.9982 - auc: 0.9996 - val_loss: 0.0448 - val_accuracy: 0.9904 - val_precision: 1.0000 - val_recall: 0.9869 - val_auc: 0.9997\n",
      "Epoch 45/50\n",
      "351/351 [==============================] - 8s 24ms/step - loss: 0.0336 - accuracy: 0.9948 - precision: 0.9985 - recall: 0.9944 - auc: 0.9998 - val_loss: 0.0277 - val_accuracy: 0.9982 - val_precision: 0.9995 - val_recall: 0.9981 - val_auc: 1.0000\n",
      "Epoch 46/50\n",
      "351/351 [==============================] - 8s 24ms/step - loss: 0.0206 - accuracy: 0.9980 - precision: 0.9996 - recall: 0.9977 - auc: 1.0000 - val_loss: 0.0277 - val_accuracy: 0.9975 - val_precision: 0.9990 - val_recall: 0.9976 - val_auc: 1.0000\n",
      "Epoch 47/50\n",
      "351/351 [==============================] - 8s 24ms/step - loss: 0.0236 - accuracy: 0.9983 - precision: 0.9996 - recall: 0.9981 - auc: 0.9999 - val_loss: 0.0204 - val_accuracy: 0.9993 - val_precision: 0.9995 - val_recall: 0.9995 - val_auc: 1.0000\n",
      "Epoch 48/50\n",
      "351/351 [==============================] - 9s 24ms/step - loss: 0.0366 - accuracy: 0.9954 - precision: 0.9977 - recall: 0.9960 - auc: 0.9994 - val_loss: 0.0403 - val_accuracy: 0.9957 - val_precision: 1.0000 - val_recall: 0.9942 - val_auc: 1.0000\n",
      "Epoch 49/50\n",
      "351/351 [==============================] - 9s 24ms/step - loss: 0.0247 - accuracy: 0.9985 - precision: 0.9998 - recall: 0.9982 - auc: 0.9998 - val_loss: 0.0402 - val_accuracy: 0.9943 - val_precision: 1.0000 - val_recall: 0.9923 - val_auc: 0.9990\n",
      "Epoch 50/50\n",
      "351/351 [==============================] - 8s 24ms/step - loss: 0.0362 - accuracy: 0.9954 - precision: 0.9985 - recall: 0.9953 - auc: 0.9993 - val_loss: 0.0364 - val_accuracy: 0.9957 - val_precision: 0.9985 - val_recall: 0.9956 - val_auc: 0.9999\n",
      "Epoch 1/50\n",
      "351/351 [==============================] - 9s 24ms/step - loss: 0.0287 - accuracy: 0.9972 - precision: 0.9993 - recall: 0.9970 - auc: 0.9997 - val_loss: 0.0161 - val_accuracy: 1.0000 - val_precision: 1.0000 - val_recall: 1.0000 - val_auc: 1.0000\n",
      "Epoch 2/50\n",
      "351/351 [==============================] - 8s 24ms/step - loss: 0.0296 - accuracy: 0.9965 - precision: 0.9987 - recall: 0.9966 - auc: 0.9997 - val_loss: 0.0194 - val_accuracy: 0.9996 - val_precision: 1.0000 - val_recall: 0.9995 - val_auc: 1.0000\n",
      "Epoch 3/50\n",
      "351/351 [==============================] - 8s 24ms/step - loss: 0.0200 - accuracy: 0.9983 - precision: 0.9995 - recall: 0.9982 - auc: 0.9998 - val_loss: 0.0182 - val_accuracy: 0.9993 - val_precision: 0.9990 - val_recall: 1.0000 - val_auc: 1.0000\n",
      "Epoch 4/50\n",
      "351/351 [==============================] - 8s 24ms/step - loss: 0.0265 - accuracy: 0.9972 - precision: 0.9989 - recall: 0.9973 - auc: 0.9997 - val_loss: 0.0254 - val_accuracy: 1.0000 - val_precision: 1.0000 - val_recall: 1.0000 - val_auc: 1.0000\n",
      "Epoch 5/50\n",
      "351/351 [==============================] - 9s 25ms/step - loss: 0.0286 - accuracy: 0.9975 - precision: 0.9989 - recall: 0.9977 - auc: 0.9997 - val_loss: 0.0276 - val_accuracy: 1.0000 - val_precision: 1.0000 - val_recall: 1.0000 - val_auc: 1.0000\n",
      "Epoch 6/50\n",
      "351/351 [==============================] - 9s 24ms/step - loss: 0.0338 - accuracy: 0.9968 - precision: 0.9990 - recall: 0.9966 - auc: 0.9994 - val_loss: 0.0159 - val_accuracy: 1.0000 - val_precision: 1.0000 - val_recall: 1.0000 - val_auc: 1.0000\n",
      "Epoch 7/50\n",
      "351/351 [==============================] - 8s 24ms/step - loss: 0.0156 - accuracy: 0.9990 - precision: 0.9998 - recall: 0.9989 - auc: 1.0000 - val_loss: 0.0174 - val_accuracy: 0.9986 - val_precision: 0.9981 - val_recall: 1.0000 - val_auc: 1.0000\n",
      "Epoch 8/50\n",
      "351/351 [==============================] - 8s 24ms/step - loss: 0.0531 - accuracy: 0.9924 - precision: 0.9974 - recall: 0.9923 - auc: 0.9993 - val_loss: 0.0350 - val_accuracy: 1.0000 - val_precision: 1.0000 - val_recall: 1.0000 - val_auc: 1.0000\n",
      "Epoch 9/50\n",
      "351/351 [==============================] - 9s 24ms/step - loss: 0.0296 - accuracy: 0.9982 - precision: 0.9995 - recall: 0.9981 - auc: 0.9999 - val_loss: 0.0184 - val_accuracy: 1.0000 - val_precision: 1.0000 - val_recall: 1.0000 - val_auc: 1.0000\n",
      "Epoch 10/50\n",
      "351/351 [==============================] - 9s 25ms/step - loss: 0.0293 - accuracy: 0.9979 - precision: 0.9992 - recall: 0.9979 - auc: 0.9995 - val_loss: 0.0189 - val_accuracy: 0.9993 - val_precision: 1.0000 - val_recall: 0.9990 - val_auc: 1.0000\n",
      "Epoch 11/50\n",
      "351/351 [==============================] - 9s 25ms/step - loss: 0.0140 - accuracy: 0.9993 - precision: 0.9999 - recall: 0.9992 - auc: 1.0000 - val_loss: 0.0149 - val_accuracy: 0.9993 - val_precision: 0.9995 - val_recall: 0.9995 - val_auc: 1.0000\n",
      "Epoch 12/50\n",
      "351/351 [==============================] - 9s 24ms/step - loss: 0.0212 - accuracy: 0.9981 - precision: 0.9993 - recall: 0.9982 - auc: 0.9997 - val_loss: 0.0168 - val_accuracy: 0.9996 - val_precision: 0.9995 - val_recall: 1.0000 - val_auc: 1.0000\n",
      "Epoch 13/50\n",
      "351/351 [==============================] - 8s 24ms/step - loss: 0.0348 - accuracy: 0.9963 - precision: 0.9989 - recall: 0.9960 - auc: 0.9996 - val_loss: 0.0286 - val_accuracy: 0.9989 - val_precision: 1.0000 - val_recall: 0.9985 - val_auc: 1.0000\n",
      "Epoch 14/50\n",
      "351/351 [==============================] - 9s 25ms/step - loss: 0.0433 - accuracy: 0.9960 - precision: 0.9985 - recall: 0.9960 - auc: 0.9993 - val_loss: 0.0225 - val_accuracy: 1.0000 - val_precision: 1.0000 - val_recall: 1.0000 - val_auc: 1.0000\n",
      "Epoch 15/50\n",
      "351/351 [==============================] - 9s 25ms/step - loss: 0.0216 - accuracy: 0.9988 - precision: 0.9996 - recall: 0.9987 - auc: 0.9998 - val_loss: 0.0187 - val_accuracy: 0.9996 - val_precision: 1.0000 - val_recall: 0.9995 - val_auc: 1.0000\n",
      "Epoch 16/50\n",
      "351/351 [==============================] - 8s 24ms/step - loss: 0.0316 - accuracy: 0.9963 - precision: 0.9987 - recall: 0.9962 - auc: 0.9997 - val_loss: 0.0240 - val_accuracy: 0.9996 - val_precision: 1.0000 - val_recall: 0.9995 - val_auc: 1.0000\n",
      "Epoch 17/50\n",
      "351/351 [==============================] - 9s 24ms/step - loss: 0.0179 - accuracy: 0.9994 - precision: 0.9999 - recall: 0.9993 - auc: 1.0000 - val_loss: 0.0110 - val_accuracy: 1.0000 - val_precision: 1.0000 - val_recall: 1.0000 - val_auc: 1.0000\n",
      "Epoch 18/50\n",
      "351/351 [==============================] - 9s 25ms/step - loss: 0.0127 - accuracy: 0.9993 - precision: 0.9996 - recall: 0.9994 - auc: 1.0000 - val_loss: 0.0083 - val_accuracy: 1.0000 - val_precision: 1.0000 - val_recall: 1.0000 - val_auc: 1.0000\n",
      "Epoch 19/50\n",
      "351/351 [==============================] - 9s 24ms/step - loss: 0.0254 - accuracy: 0.9976 - precision: 0.9990 - recall: 0.9977 - auc: 0.9997 - val_loss: 0.0242 - val_accuracy: 0.9964 - val_precision: 0.9952 - val_recall: 1.0000 - val_auc: 1.0000\n",
      "Epoch 20/50\n",
      "351/351 [==============================] - 9s 24ms/step - loss: 0.0520 - accuracy: 0.9945 - precision: 0.9979 - recall: 0.9946 - auc: 0.9989 - val_loss: 0.0259 - val_accuracy: 1.0000 - val_precision: 1.0000 - val_recall: 1.0000 - val_auc: 1.0000\n",
      "Epoch 21/50\n",
      "351/351 [==============================] - 9s 24ms/step - loss: 0.0368 - accuracy: 0.9965 - precision: 0.9988 - recall: 0.9965 - auc: 0.9994 - val_loss: 0.0239 - val_accuracy: 0.9993 - val_precision: 1.0000 - val_recall: 0.9990 - val_auc: 1.0000\n",
      "Epoch 22/50\n",
      "351/351 [==============================] - 9s 24ms/step - loss: 0.0174 - accuracy: 0.9995 - precision: 0.9999 - recall: 0.9994 - auc: 1.0000 - val_loss: 0.0155 - val_accuracy: 0.9993 - val_precision: 1.0000 - val_recall: 0.9990 - val_auc: 0.9997\n",
      "Epoch 23/50\n",
      "351/351 [==============================] - 9s 24ms/step - loss: 0.0126 - accuracy: 0.9988 - precision: 0.9994 - recall: 0.9990 - auc: 1.0000 - val_loss: 0.0188 - val_accuracy: 0.9993 - val_precision: 1.0000 - val_recall: 0.9990 - val_auc: 1.0000\n",
      "Epoch 24/50\n",
      "351/351 [==============================] - 9s 24ms/step - loss: 0.0269 - accuracy: 0.9963 - precision: 0.9987 - recall: 0.9964 - auc: 0.9998 - val_loss: 0.0419 - val_accuracy: 0.9950 - val_precision: 1.0000 - val_recall: 0.9932 - val_auc: 1.0000\n"
     ]
    },
    {
     "name": "stdout",
     "output_type": "stream",
     "text": [
      "Epoch 25/50\n",
      "351/351 [==============================] - 8s 24ms/step - loss: 0.0395 - accuracy: 0.9954 - precision: 0.9984 - recall: 0.9953 - auc: 0.9995 - val_loss: 0.0415 - val_accuracy: 0.9939 - val_precision: 1.0000 - val_recall: 0.9918 - val_auc: 0.9995\n",
      "Epoch 26/50\n",
      "351/351 [==============================] - 9s 24ms/step - loss: 0.0200 - accuracy: 0.9992 - precision: 1.0000 - recall: 0.9989 - auc: 0.9999 - val_loss: 0.0160 - val_accuracy: 0.9993 - val_precision: 1.0000 - val_recall: 0.9990 - val_auc: 0.9998\n",
      "Epoch 27/50\n",
      "351/351 [==============================] - 8s 24ms/step - loss: 0.0177 - accuracy: 0.9984 - precision: 0.9995 - recall: 0.9983 - auc: 0.9999 - val_loss: 0.0141 - val_accuracy: 0.9993 - val_precision: 1.0000 - val_recall: 0.9990 - val_auc: 0.9998\n",
      "Epoch 28/50\n",
      "351/351 [==============================] - 8s 24ms/step - loss: 0.0115 - accuracy: 0.9993 - precision: 0.9998 - recall: 0.9993 - auc: 1.0000 - val_loss: 0.0118 - val_accuracy: 0.9989 - val_precision: 0.9995 - val_recall: 0.9990 - val_auc: 1.0000\n",
      "Epoch 29/50\n",
      "351/351 [==============================] - 8s 24ms/step - loss: 0.0138 - accuracy: 0.9990 - precision: 0.9998 - recall: 0.9989 - auc: 1.0000 - val_loss: 0.0135 - val_accuracy: 0.9993 - val_precision: 1.0000 - val_recall: 0.9990 - val_auc: 0.9998\n",
      "Epoch 30/50\n",
      "351/351 [==============================] - 9s 24ms/step - loss: 0.0119 - accuracy: 0.9986 - precision: 0.9994 - recall: 0.9987 - auc: 0.9999 - val_loss: 0.0257 - val_accuracy: 0.9982 - val_precision: 0.9995 - val_recall: 0.9981 - val_auc: 1.0000\n",
      "Epoch 31/50\n",
      "351/351 [==============================] - 8s 24ms/step - loss: 0.0424 - accuracy: 0.9957 - precision: 0.9987 - recall: 0.9955 - auc: 0.9995 - val_loss: 0.0270 - val_accuracy: 0.9989 - val_precision: 1.0000 - val_recall: 0.9985 - val_auc: 1.0000\n",
      "Epoch 32/50\n",
      "351/351 [==============================] - 8s 24ms/step - loss: 0.0185 - accuracy: 0.9993 - precision: 0.9999 - recall: 0.9992 - auc: 1.0000 - val_loss: 0.0124 - val_accuracy: 0.9993 - val_precision: 1.0000 - val_recall: 0.9990 - val_auc: 1.0000\n",
      "Epoch 33/50\n",
      "351/351 [==============================] - 8s 24ms/step - loss: 0.0149 - accuracy: 0.9988 - precision: 0.9996 - recall: 0.9987 - auc: 0.9998 - val_loss: 0.0344 - val_accuracy: 0.9939 - val_precision: 0.9918 - val_recall: 1.0000 - val_auc: 0.9993\n",
      "Epoch 34/50\n",
      "351/351 [==============================] - 9s 24ms/step - loss: 0.0302 - accuracy: 0.9974 - precision: 0.9993 - recall: 0.9972 - auc: 0.9997 - val_loss: 0.0194 - val_accuracy: 0.9996 - val_precision: 1.0000 - val_recall: 0.9995 - val_auc: 1.0000\n",
      "Epoch 35/50\n",
      "351/351 [==============================] - 8s 24ms/step - loss: 0.0263 - accuracy: 0.9980 - precision: 0.9993 - recall: 0.9981 - auc: 0.9997 - val_loss: 0.0274 - val_accuracy: 0.9989 - val_precision: 0.9995 - val_recall: 0.9990 - val_auc: 0.9997\n",
      "Epoch 36/50\n",
      "351/351 [==============================] - 8s 24ms/step - loss: 0.0193 - accuracy: 0.9992 - precision: 1.0000 - recall: 0.9989 - auc: 0.9999 - val_loss: 0.0259 - val_accuracy: 0.9971 - val_precision: 0.9961 - val_recall: 1.0000 - val_auc: 0.9986\n",
      "Epoch 37/50\n",
      "351/351 [==============================] - 8s 24ms/step - loss: 0.0166 - accuracy: 0.9990 - precision: 0.9998 - recall: 0.9989 - auc: 0.9999 - val_loss: 0.0119 - val_accuracy: 1.0000 - val_precision: 1.0000 - val_recall: 1.0000 - val_auc: 1.0000\n",
      "Epoch 38/50\n",
      "351/351 [==============================] - 8s 24ms/step - loss: 0.0246 - accuracy: 0.9975 - precision: 0.9990 - recall: 0.9976 - auc: 0.9996 - val_loss: 0.0178 - val_accuracy: 0.9996 - val_precision: 1.0000 - val_recall: 0.9995 - val_auc: 1.0000\n",
      "Epoch 39/50\n",
      "351/351 [==============================] - 8s 24ms/step - loss: 0.0257 - accuracy: 0.9979 - precision: 0.9993 - recall: 0.9978 - auc: 0.9995 - val_loss: 0.0174 - val_accuracy: 0.9996 - val_precision: 0.9995 - val_recall: 1.0000 - val_auc: 1.0000\n",
      "Epoch 40/50\n",
      "351/351 [==============================] - 8s 24ms/step - loss: 0.0321 - accuracy: 0.9963 - precision: 0.9988 - recall: 0.9961 - auc: 0.9995 - val_loss: 0.0281 - val_accuracy: 0.9986 - val_precision: 1.0000 - val_recall: 0.9981 - val_auc: 1.0000\n",
      "Epoch 41/50\n",
      "351/351 [==============================] - 9s 24ms/step - loss: 0.0303 - accuracy: 0.9975 - precision: 0.9992 - recall: 0.9975 - auc: 0.9997 - val_loss: 0.0255 - val_accuracy: 0.9996 - val_precision: 1.0000 - val_recall: 0.9995 - val_auc: 1.0000\n",
      "Epoch 42/50\n",
      "351/351 [==============================] - 8s 24ms/step - loss: 0.0172 - accuracy: 0.9994 - precision: 0.9999 - recall: 0.9993 - auc: 0.9999 - val_loss: 0.0122 - val_accuracy: 0.9996 - val_precision: 1.0000 - val_recall: 0.9995 - val_auc: 1.0000\n",
      "Epoch 43/50\n",
      "351/351 [==============================] - 8s 24ms/step - loss: 0.0177 - accuracy: 0.9979 - precision: 0.9993 - recall: 0.9978 - auc: 0.9998 - val_loss: 0.0406 - val_accuracy: 0.9954 - val_precision: 0.9937 - val_recall: 1.0000 - val_auc: 0.9993\n",
      "Epoch 44/50\n",
      "351/351 [==============================] - 9s 24ms/step - loss: 0.0342 - accuracy: 0.9971 - precision: 0.9984 - recall: 0.9976 - auc: 0.9992 - val_loss: 0.1165 - val_accuracy: 0.9786 - val_precision: 0.9722 - val_recall: 0.9995 - val_auc: 0.9876\n",
      "Epoch 45/50\n",
      "351/351 [==============================] - 9s 24ms/step - loss: 0.0262 - accuracy: 0.9983 - precision: 0.9999 - recall: 0.9978 - auc: 0.9999 - val_loss: 0.0191 - val_accuracy: 0.9979 - val_precision: 0.9971 - val_recall: 1.0000 - val_auc: 0.9993\n",
      "Epoch 46/50\n",
      "351/351 [==============================] - 8s 24ms/step - loss: 0.0177 - accuracy: 0.9988 - precision: 0.9996 - recall: 0.9988 - auc: 0.9999 - val_loss: 0.0167 - val_accuracy: 0.9989 - val_precision: 0.9985 - val_recall: 1.0000 - val_auc: 1.0000\n",
      "Epoch 47/50\n",
      "351/351 [==============================] - 9s 24ms/step - loss: 0.0161 - accuracy: 0.9991 - precision: 0.9996 - recall: 0.9992 - auc: 0.9998 - val_loss: 0.0171 - val_accuracy: 0.9993 - val_precision: 0.9990 - val_recall: 1.0000 - val_auc: 1.0000\n",
      "Epoch 48/50\n",
      "351/351 [==============================] - 9s 24ms/step - loss: 0.0282 - accuracy: 0.9964 - precision: 0.9985 - recall: 0.9966 - auc: 0.9995 - val_loss: 0.0635 - val_accuracy: 0.9872 - val_precision: 1.0000 - val_recall: 0.9826 - val_auc: 0.9993\n",
      "Epoch 49/50\n",
      "351/351 [==============================] - 8s 24ms/step - loss: 0.0472 - accuracy: 0.9955 - precision: 0.9987 - recall: 0.9953 - auc: 0.9991 - val_loss: 0.0293 - val_accuracy: 0.9982 - val_precision: 0.9985 - val_recall: 0.9990 - val_auc: 1.0000\n",
      "Epoch 50/50\n",
      "351/351 [==============================] - 9s 24ms/step - loss: 0.0273 - accuracy: 0.9979 - precision: 0.9995 - recall: 0.9977 - auc: 0.9998 - val_loss: 0.0195 - val_accuracy: 0.9996 - val_precision: 1.0000 - val_recall: 0.9995 - val_auc: 1.0000\n"
     ]
    }
   ],
   "source": [
    "losses_2, val_losses_2, accuracies_2, val_accuracies_2, val_auc_2  = kfoldcrossval(xtr + xval, y_tr + y_val, 5, 50, cnn_2)"
   ]
  },
  {
   "cell_type": "markdown",
   "metadata": {},
   "source": [
    "### Evaluating"
   ]
  },
  {
   "cell_type": "markdown",
   "metadata": {},
   "source": [
    "#### 1. Examine the loss and accuracy curves"
   ]
  },
  {
   "cell_type": "code",
   "execution_count": 104,
   "metadata": {},
   "outputs": [],
   "source": [
    "def getAverages(losses, val_losses, accuracies, val_accuracies):\n",
    "    avg_losses = []\n",
    "    max_losses = []\n",
    "    avg_val_losses = []\n",
    "\n",
    "    for i in range(len(losses)):\n",
    "        avg_losses.append(statistics.mean(losses[i]))\n",
    "        max_losses.append(max(losses[i]))\n",
    "        avg_val_losses.append(statistics.mean(val_losses[i])) \n",
    "\n",
    "    avg_accuracies = []\n",
    "    avg_val_accuracies = []\n",
    "\n",
    "    for i in range(len(accuracies)):\n",
    "        avg_accuracies.append(statistics.mean(accuracies[i]))\n",
    "        avg_val_accuracies.append(statistics.mean(val_accuracies[i])) \n",
    "    \n",
    "    return avg_losses, avg_val_losses, avg_accuracies, avg_val_accuracies"
   ]
  },
  {
   "cell_type": "code",
   "execution_count": 105,
   "metadata": {},
   "outputs": [],
   "source": [
    "def plotLossAccuracyCurves(avg_losses, avg_val_losses, avg_accuracies, avg_val_accuracies):\n",
    "    plt.figure(figsize=(20,5))\n",
    "    \n",
    "    e = [i for i in range(len(avg_losses))]\n",
    "\n",
    "    # plot loss & val loss\n",
    "    plt.subplot(1,2,1)\n",
    "    sns.lineplot(x=e, y=avg_losses, color='red', label='avg train Loss')\n",
    "    sns.lineplot(x=e, y=avg_val_losses, color='orange', label='avg val Loss')\n",
    "    plt.title('avg Loss on train vs validation')\n",
    "    plt.legend(loc='best')\n",
    "\n",
    "    # plot accuracy and val accuracy\n",
    "    plt.subplot(1,2,2)\n",
    "    sns.lineplot(x=e, y=avg_accuracies, color='blue', label='avg Train Accuracy')\n",
    "    sns.lineplot(x=e, y=avg_val_accuracies, color='green', label='avg Val Accuracy')\n",
    "    plt.title('avg Accuracy on train vs validation')\n",
    "    plt.legend(loc='best')\n",
    "\n",
    "    plt.xlabel('epoch')\n",
    "    plt.ylabel('loss')\n",
    "    plt.show()"
   ]
  },
  {
   "cell_type": "code",
   "execution_count": 106,
   "metadata": {},
   "outputs": [
    {
     "data": {
      "image/png": "[encoded data removed]",
      "text/plain": [
       "<Figure size 1440x360 with 2 Axes>"
      ]
     },
     "metadata": {
      "needs_background": "light"
     },
     "output_type": "display_data"
    }
   ],
   "source": [
    "l, vl, a, va = getAverages(losses_1, val_losses_1, accuracies_1, val_accuracies_1)\n",
    "plotLossAccuracyCurves(l, vl, a, va)"
   ]
  },
  {
   "cell_type": "code",
   "execution_count": 107,
   "metadata": {},
   "outputs": [
    {
     "data": {
      "image/png": "[encoded data removed]",
      "text/plain": [
       "<Figure size 1440x360 with 2 Axes>"
      ]
     },
     "metadata": {
      "needs_background": "light"
     },
     "output_type": "display_data"
    }
   ],
   "source": [
    "l, vl, a, va = getAverages(losses_2, val_losses_2, accuracies_2, val_accuracies_2)\n",
    "plotLossAccuracyCurves(l, vl, a, va)"
   ]
  },
  {
   "cell_type": "markdown",
   "metadata": {},
   "source": [
    "#### 1.2 AUC Values"
   ]
  },
  {
   "cell_type": "code",
   "execution_count": 108,
   "metadata": {},
   "outputs": [
    {
     "name": "stdout",
     "output_type": "stream",
     "text": [
      "mean val_auc_1:  0.8912331461906433\n",
      "mean val_auc_2:  0.9987475156784058\n"
     ]
    }
   ],
   "source": [
    "# cnn_1 avg val auc \n",
    "print(\"mean val_auc_1: \" , statistics.mean(val_auc_1))\n",
    "\n",
    "# cnn_2 avg val auc\n",
    "print(\"mean val_auc_2: \" , statistics.mean(val_auc_2))\n"
   ]
  },
  {
   "cell_type": "markdown",
   "metadata": {},
   "source": [
    "### Model Selection / Final Training\n",
    "\n",
    "Selection CNN-2 based on the above performance.  Less overfitting, does better overall on both classes. AUC of CNN-2 is higher.\n",
    "\n",
    "Train on all the data (except test set)"
   ]
  },
  {
   "cell_type": "code",
   "execution_count": 109,
   "metadata": {},
   "outputs": [
    {
     "name": "stdout",
     "output_type": "stream",
     "text": [
      "Epoch 1/50\n",
      "438/438 [==============================] - 10s 24ms/step - loss: 0.0264 - accuracy: 0.9971 - precision: 0.9992 - recall: 0.9968 - auc: 0.9996 - val_loss: 1.7912 - val_accuracy: 0.8821 - val_precision: 0.8557 - val_recall: 0.9901 - val_auc: 0.8729\n",
      "Epoch 2/50\n",
      "438/438 [==============================] - 10s 23ms/step - loss: 0.0293 - accuracy: 0.9974 - precision: 0.9992 - recall: 0.9972 - auc: 0.9997 - val_loss: 1.5820 - val_accuracy: 0.8802 - val_precision: 0.8545 - val_recall: 0.9887 - val_auc: 0.8851\n",
      "Epoch 3/50\n",
      "438/438 [==============================] - 10s 23ms/step - loss: 0.0186 - accuracy: 0.9986 - precision: 0.9995 - recall: 0.9986 - auc: 0.9999 - val_loss: 1.5356 - val_accuracy: 0.8811 - val_precision: 0.8538 - val_recall: 0.9915 - val_auc: 0.8777\n",
      "Epoch 4/50\n",
      "438/438 [==============================] - 10s 23ms/step - loss: 0.0102 - accuracy: 0.9996 - precision: 0.9999 - recall: 0.9996 - auc: 0.9999 - val_loss: 1.8397 - val_accuracy: 0.8698 - val_precision: 0.8407 - val_recall: 0.9929 - val_auc: 0.8614\n",
      "Epoch 5/50\n",
      "438/438 [==============================] - 10s 23ms/step - loss: 0.0183 - accuracy: 0.9986 - precision: 0.9995 - recall: 0.9985 - auc: 1.0000 - val_loss: 2.8393 - val_accuracy: 0.8528 - val_precision: 0.8215 - val_recall: 0.9958 - val_auc: 0.8330\n",
      "Epoch 6/50\n",
      "438/438 [==============================] - 10s 22ms/step - loss: 0.0280 - accuracy: 0.9969 - precision: 0.9989 - recall: 0.9968 - auc: 0.9997 - val_loss: 1.6604 - val_accuracy: 0.8925 - val_precision: 0.8692 - val_recall: 0.9873 - val_auc: 0.8908\n",
      "Epoch 7/50\n",
      "438/438 [==============================] - 10s 23ms/step - loss: 0.0222 - accuracy: 0.9987 - precision: 0.9997 - recall: 0.9985 - auc: 0.9997 - val_loss: 2.8690 - val_accuracy: 0.8472 - val_precision: 0.8165 - val_recall: 0.9943 - val_auc: 0.8194\n",
      "Epoch 8/50\n",
      "438/438 [==============================] - 10s 22ms/step - loss: 0.0288 - accuracy: 0.9976 - precision: 0.9990 - recall: 0.9978 - auc: 0.9995 - val_loss: 1.7396 - val_accuracy: 0.8821 - val_precision: 0.8540 - val_recall: 0.9929 - val_auc: 0.8749\n",
      "Epoch 9/50\n",
      "438/438 [==============================] - 10s 22ms/step - loss: 0.0333 - accuracy: 0.9958 - precision: 0.9985 - recall: 0.9957 - auc: 0.9995 - val_loss: 1.5698 - val_accuracy: 0.8821 - val_precision: 0.8575 - val_recall: 0.9873 - val_auc: 0.8823\n",
      "Epoch 10/50\n",
      "438/438 [==============================] - 10s 23ms/step - loss: 0.0287 - accuracy: 0.9979 - precision: 0.9995 - recall: 0.9977 - auc: 0.9998 - val_loss: 2.3144 - val_accuracy: 0.8726 - val_precision: 0.8429 - val_recall: 0.9943 - val_auc: 0.8518\n",
      "Epoch 11/50\n",
      "438/438 [==============================] - 10s 23ms/step - loss: 0.0235 - accuracy: 0.9978 - precision: 0.9996 - recall: 0.9974 - auc: 0.9998 - val_loss: 1.6495 - val_accuracy: 0.8755 - val_precision: 0.8493 - val_recall: 0.9887 - val_auc: 0.8768\n",
      "Epoch 12/50\n",
      "438/438 [==============================] - 10s 22ms/step - loss: 0.0147 - accuracy: 0.9993 - precision: 0.9999 - recall: 0.9991 - auc: 0.9999 - val_loss: 1.6492 - val_accuracy: 0.8802 - val_precision: 0.8528 - val_recall: 0.9915 - val_auc: 0.8791\n",
      "Epoch 13/50\n",
      "438/438 [==============================] - 10s 22ms/step - loss: 0.0225 - accuracy: 0.9976 - precision: 0.9992 - recall: 0.9976 - auc: 0.9999 - val_loss: 2.2417 - val_accuracy: 0.8689 - val_precision: 0.8389 - val_recall: 0.9943 - val_auc: 0.8522\n",
      "Epoch 14/50\n",
      "438/438 [==============================] - 10s 23ms/step - loss: 0.0238 - accuracy: 0.9984 - precision: 0.9995 - recall: 0.9984 - auc: 0.9996 - val_loss: 2.2996 - val_accuracy: 0.8557 - val_precision: 0.8267 - val_recall: 0.9915 - val_auc: 0.8382\n",
      "Epoch 15/50\n",
      "438/438 [==============================] - 10s 23ms/step - loss: 0.0278 - accuracy: 0.9973 - precision: 0.9991 - recall: 0.9972 - auc: 0.9996 - val_loss: 1.4097 - val_accuracy: 0.8972 - val_precision: 0.8747 - val_recall: 0.9873 - val_auc: 0.8995\n",
      "Epoch 16/50\n",
      "438/438 [==============================] - 10s 22ms/step - loss: 0.0263 - accuracy: 0.9981 - precision: 0.9992 - recall: 0.9983 - auc: 0.9998 - val_loss: 2.3053 - val_accuracy: 0.8726 - val_precision: 0.8454 - val_recall: 0.9901 - val_auc: 0.8526\n",
      "Epoch 17/50\n",
      "438/438 [==============================] - 10s 23ms/step - loss: 0.0356 - accuracy: 0.9970 - precision: 0.9989 - recall: 0.9970 - auc: 0.9996 - val_loss: 1.9643 - val_accuracy: 0.8736 - val_precision: 0.8456 - val_recall: 0.9915 - val_auc: 0.8520\n",
      "Epoch 18/50\n",
      "438/438 [==============================] - 10s 22ms/step - loss: 0.0216 - accuracy: 0.9987 - precision: 0.9996 - recall: 0.9986 - auc: 0.9999 - val_loss: 1.9654 - val_accuracy: 0.8811 - val_precision: 0.8556 - val_recall: 0.9887 - val_auc: 0.8652\n",
      "Epoch 19/50\n",
      "438/438 [==============================] - 10s 22ms/step - loss: 0.0236 - accuracy: 0.9982 - precision: 0.9992 - recall: 0.9984 - auc: 0.9999 - val_loss: 2.4307 - val_accuracy: 0.8698 - val_precision: 0.8415 - val_recall: 0.9915 - val_auc: 0.8460\n",
      "Epoch 20/50\n",
      "438/438 [==============================] - 10s 23ms/step - loss: 0.0270 - accuracy: 0.9969 - precision: 0.9988 - recall: 0.9970 - auc: 0.9998 - val_loss: 1.3422 - val_accuracy: 0.9038 - val_precision: 0.8903 - val_recall: 0.9760 - val_auc: 0.9034\n",
      "Epoch 21/50\n",
      "438/438 [==============================] - 10s 23ms/step - loss: 0.0409 - accuracy: 0.9961 - precision: 0.9987 - recall: 0.9960 - auc: 0.9995 - val_loss: 3.0935 - val_accuracy: 0.8406 - val_precision: 0.8092 - val_recall: 0.9958 - val_auc: 0.8194\n",
      "Epoch 22/50\n",
      "438/438 [==============================] - 10s 23ms/step - loss: 0.0257 - accuracy: 0.9986 - precision: 0.9995 - recall: 0.9985 - auc: 0.9999 - val_loss: 1.3773 - val_accuracy: 0.8953 - val_precision: 0.8706 - val_recall: 0.9901 - val_auc: 0.8896\n",
      "Epoch 23/50\n",
      "438/438 [==============================] - 10s 23ms/step - loss: 0.0350 - accuracy: 0.9972 - precision: 0.9991 - recall: 0.9971 - auc: 0.9993 - val_loss: 1.8866 - val_accuracy: 0.8698 - val_precision: 0.8399 - val_recall: 0.9943 - val_auc: 0.8701\n",
      "Epoch 24/50\n",
      "438/438 [==============================] - 10s 23ms/step - loss: 0.0273 - accuracy: 0.9978 - precision: 0.9994 - recall: 0.9976 - auc: 0.9996 - val_loss: 0.8951 - val_accuracy: 0.8849 - val_precision: 0.8571 - val_recall: 0.9929 - val_auc: 0.9103\n",
      "Epoch 25/50\n",
      "438/438 [==============================] - 10s 22ms/step - loss: 0.0291 - accuracy: 0.9984 - precision: 0.9993 - recall: 0.9985 - auc: 0.9997 - val_loss: 1.6678 - val_accuracy: 0.8764 - val_precision: 0.8495 - val_recall: 0.9901 - val_auc: 0.8810\n",
      "Epoch 26/50\n",
      "438/438 [==============================] - 10s 22ms/step - loss: 0.0258 - accuracy: 0.9984 - precision: 0.9993 - recall: 0.9985 - auc: 0.9999 - val_loss: 1.7914 - val_accuracy: 0.8726 - val_precision: 0.8446 - val_recall: 0.9915 - val_auc: 0.8717\n",
      "Epoch 27/50\n",
      "438/438 [==============================] - 10s 23ms/step - loss: 0.0189 - accuracy: 0.9988 - precision: 0.9995 - recall: 0.9988 - auc: 1.0000 - val_loss: 1.5822 - val_accuracy: 0.8868 - val_precision: 0.8655 - val_recall: 0.9830 - val_auc: 0.8808\n",
      "Epoch 28/50\n",
      "438/438 [==============================] - 10s 23ms/step - loss: 0.0316 - accuracy: 0.9964 - precision: 0.9986 - recall: 0.9964 - auc: 0.9997 - val_loss: 1.4711 - val_accuracy: 0.8962 - val_precision: 0.8708 - val_recall: 0.9915 - val_auc: 0.8857\n",
      "Epoch 29/50\n",
      "438/438 [==============================] - 10s 23ms/step - loss: 0.0245 - accuracy: 0.9977 - precision: 0.9994 - recall: 0.9975 - auc: 0.9997 - val_loss: 2.2316 - val_accuracy: 0.8689 - val_precision: 0.8405 - val_recall: 0.9915 - val_auc: 0.8542\n",
      "Epoch 30/50\n",
      "438/438 [==============================] - 10s 22ms/step - loss: 0.0413 - accuracy: 0.9950 - precision: 0.9983 - recall: 0.9949 - auc: 0.9992 - val_loss: 1.1505 - val_accuracy: 0.8896 - val_precision: 0.8687 - val_recall: 0.9830 - val_auc: 0.9050\n",
      "Epoch 31/50\n",
      "438/438 [==============================] - 10s 22ms/step - loss: 0.0263 - accuracy: 0.9979 - precision: 0.9991 - recall: 0.9981 - auc: 0.9999 - val_loss: 1.1652 - val_accuracy: 0.9123 - val_precision: 0.8987 - val_recall: 0.9788 - val_auc: 0.9191\n",
      "Epoch 32/50\n",
      "438/438 [==============================] - 10s 22ms/step - loss: 0.0306 - accuracy: 0.9974 - precision: 0.9994 - recall: 0.9970 - auc: 0.9997 - val_loss: 1.9261 - val_accuracy: 0.8726 - val_precision: 0.8446 - val_recall: 0.9915 - val_auc: 0.8686\n"
     ]
    },
    {
     "name": "stdout",
     "output_type": "stream",
     "text": [
      "Epoch 33/50\n",
      "438/438 [==============================] - 10s 22ms/step - loss: 0.0219 - accuracy: 0.9988 - precision: 0.9995 - recall: 0.9988 - auc: 0.9998 - val_loss: 0.9685 - val_accuracy: 0.8962 - val_precision: 0.8745 - val_recall: 0.9859 - val_auc: 0.9158\n",
      "Epoch 34/50\n",
      "438/438 [==============================] - 10s 22ms/step - loss: 0.0196 - accuracy: 0.9990 - precision: 0.9997 - recall: 0.9989 - auc: 0.9999 - val_loss: 2.2345 - val_accuracy: 0.8774 - val_precision: 0.8514 - val_recall: 0.9887 - val_auc: 0.8592\n",
      "Epoch 35/50\n",
      "438/438 [==============================] - 10s 22ms/step - loss: 0.0274 - accuracy: 0.9983 - precision: 0.9994 - recall: 0.9983 - auc: 0.9998 - val_loss: 1.7105 - val_accuracy: 0.8792 - val_precision: 0.8543 - val_recall: 0.9873 - val_auc: 0.8781\n",
      "Epoch 36/50\n",
      "438/438 [==============================] - 10s 23ms/step - loss: 0.0225 - accuracy: 0.9979 - precision: 0.9992 - recall: 0.9980 - auc: 0.9999 - val_loss: 1.7511 - val_accuracy: 0.8830 - val_precision: 0.8568 - val_recall: 0.9901 - val_auc: 0.8762\n",
      "Epoch 37/50\n",
      "438/438 [==============================] - 10s 22ms/step - loss: 0.0302 - accuracy: 0.9967 - precision: 0.9987 - recall: 0.9968 - auc: 0.9993 - val_loss: 1.8167 - val_accuracy: 0.8670 - val_precision: 0.8401 - val_recall: 0.9887 - val_auc: 0.8760\n",
      "Epoch 38/50\n",
      "438/438 [==============================] - 10s 23ms/step - loss: 0.0206 - accuracy: 0.9987 - precision: 0.9996 - recall: 0.9986 - auc: 0.9999 - val_loss: 2.3202 - val_accuracy: 0.8868 - val_precision: 0.8601 - val_recall: 0.9915 - val_auc: 0.8664\n",
      "Epoch 39/50\n",
      "438/438 [==============================] - 10s 23ms/step - loss: 0.0305 - accuracy: 0.9984 - precision: 0.9996 - recall: 0.9983 - auc: 0.9998 - val_loss: 1.9489 - val_accuracy: 0.8858 - val_precision: 0.8591 - val_recall: 0.9915 - val_auc: 0.8710\n",
      "Epoch 40/50\n",
      "438/438 [==============================] - 10s 23ms/step - loss: 0.0163 - accuracy: 0.9989 - precision: 0.9995 - recall: 0.9990 - auc: 0.9999 - val_loss: 1.6014 - val_accuracy: 0.9038 - val_precision: 0.8854 - val_recall: 0.9830 - val_auc: 0.8977\n",
      "Epoch 41/50\n",
      "438/438 [==============================] - 10s 23ms/step - loss: 0.0207 - accuracy: 0.9988 - precision: 0.9996 - recall: 0.9987 - auc: 0.9999 - val_loss: 2.7208 - val_accuracy: 0.8679 - val_precision: 0.8387 - val_recall: 0.9929 - val_auc: 0.8410\n",
      "Epoch 42/50\n",
      "438/438 [==============================] - 10s 23ms/step - loss: 0.0300 - accuracy: 0.9974 - precision: 0.9992 - recall: 0.9973 - auc: 0.9997 - val_loss: 2.0758 - val_accuracy: 0.8764 - val_precision: 0.8495 - val_recall: 0.9901 - val_auc: 0.8573\n",
      "Epoch 43/50\n",
      "438/438 [==============================] - 10s 24ms/step - loss: 0.0286 - accuracy: 0.9969 - precision: 0.9988 - recall: 0.9970 - auc: 0.9997 - val_loss: 1.3170 - val_accuracy: 0.8943 - val_precision: 0.8723 - val_recall: 0.9859 - val_auc: 0.9041\n",
      "Epoch 44/50\n",
      "438/438 [==============================] - 10s 23ms/step - loss: 0.0312 - accuracy: 0.9974 - precision: 0.9993 - recall: 0.9972 - auc: 0.9996 - val_loss: 1.7363 - val_accuracy: 0.8632 - val_precision: 0.8353 - val_recall: 0.9901 - val_auc: 0.8697\n",
      "Epoch 45/50\n",
      "438/438 [==============================] - 10s 22ms/step - loss: 0.0172 - accuracy: 0.9993 - precision: 1.0000 - recall: 0.9990 - auc: 0.9999 - val_loss: 2.2841 - val_accuracy: 0.8651 - val_precision: 0.8365 - val_recall: 0.9915 - val_auc: 0.8448\n",
      "Epoch 46/50\n",
      "438/438 [==============================] - 10s 22ms/step - loss: 0.0184 - accuracy: 0.9986 - precision: 0.9994 - recall: 0.9986 - auc: 0.9998 - val_loss: 2.5263 - val_accuracy: 0.8670 - val_precision: 0.8393 - val_recall: 0.9901 - val_auc: 0.8448\n",
      "Epoch 47/50\n",
      "438/438 [==============================] - 10s 23ms/step - loss: 0.0269 - accuracy: 0.9976 - precision: 0.9991 - recall: 0.9977 - auc: 0.9996 - val_loss: 1.4917 - val_accuracy: 0.8887 - val_precision: 0.8714 - val_recall: 0.9774 - val_auc: 0.8881\n",
      "Epoch 48/50\n",
      "438/438 [==============================] - 10s 23ms/step - loss: 0.0225 - accuracy: 0.9979 - precision: 0.9995 - recall: 0.9976 - auc: 0.9999 - val_loss: 1.7970 - val_accuracy: 0.8840 - val_precision: 0.8570 - val_recall: 0.9915 - val_auc: 0.8762\n",
      "Epoch 49/50\n",
      "438/438 [==============================] - 10s 23ms/step - loss: 0.0238 - accuracy: 0.9981 - precision: 0.9993 - recall: 0.9982 - auc: 0.9998 - val_loss: 1.6968 - val_accuracy: 0.8858 - val_precision: 0.8608 - val_recall: 0.9887 - val_auc: 0.8761\n",
      "Epoch 50/50\n",
      "438/438 [==============================] - 10s 22ms/step - loss: 0.0292 - accuracy: 0.9976 - precision: 0.9992 - recall: 0.9976 - auc: 0.9997 - val_loss: 2.5768 - val_accuracy: 0.8679 - val_precision: 0.8403 - val_recall: 0.9901 - val_auc: 0.8568\n"
     ]
    }
   ],
   "source": [
    "history = cnn_2.fit(np.array(xtr + xval), np.array(y_tr + y_val), batch_size=32, epochs=50, class_weight=class_weight, validation_data=(np.array(x_test_img).reshape(1060, 128, 128,1), np.array(y_test_img)), verbose=1)"
   ]
  },
  {
   "cell_type": "markdown",
   "metadata": {},
   "source": [
    "#### 2.1 Evaluate performance of the CNN-1 model on the test set"
   ]
  },
  {
   "cell_type": "code",
   "execution_count": 110,
   "metadata": {},
   "outputs": [
    {
     "data": {
      "text/plain": [
       "(1060, 128, 128, 1)"
      ]
     },
     "execution_count": 110,
     "metadata": {},
     "output_type": "execute_result"
    }
   ],
   "source": [
    "t = np.array(x_test_img).reshape(1060, 128, 128,1)\n",
    "t = t.reshape(1060, 128, 128,1)\n",
    "t.shape"
   ]
  },
  {
   "cell_type": "code",
   "execution_count": 111,
   "metadata": {},
   "outputs": [
    {
     "data": {
      "text/plain": [
       "(1060,)"
      ]
     },
     "execution_count": 111,
     "metadata": {},
     "output_type": "execute_result"
    }
   ],
   "source": [
    "y_test = np.array(y_test_img)\n",
    "y_test.shape"
   ]
  },
  {
   "cell_type": "code",
   "execution_count": 112,
   "metadata": {},
   "outputs": [
    {
     "name": "stdout",
     "output_type": "stream",
     "text": [
      "metrics on validation set\n",
      "34/34 [==============================] - 0s 9ms/step - loss: 5.4130 - accuracy: 0.8547 - precision: 0.8443 - recall: 0.9590 - auc: 0.9094    \n",
      "[5.413041114807129, 0.854716956615448, 0.8443337678909302, 0.9589816331863403, 0.9093805551528931]\n"
     ]
    }
   ],
   "source": [
    "print(\"metrics on validation set\")\n",
    "test_accu = cnn_1.evaluate(t, np.array(y_test_img))\n",
    "print(test_accu)"
   ]
  },
  {
   "cell_type": "code",
   "execution_count": 113,
   "metadata": {},
   "outputs": [],
   "source": [
    "test_labels = y_test_img"
   ]
  },
  {
   "cell_type": "code",
   "execution_count": 114,
   "metadata": {},
   "outputs": [
    {
     "name": "stdout",
     "output_type": "stream",
     "text": [
      "predicting...\n",
      "34/34 [==============================] - 0s 4ms/step\n",
      "number of predictions  1060\n",
      "classification report\n",
      "              precision    recall  f1-score   support\n",
      "\n",
      "           0       0.89      0.65      0.75       353\n",
      "           1       0.84      0.96      0.90       707\n",
      "\n",
      "    accuracy                           0.85      1060\n",
      "   macro avg       0.87      0.80      0.82      1060\n",
      "weighted avg       0.86      0.85      0.85      1060\n",
      "\n",
      "confusion matrix\n",
      "[[228 125]\n",
      " [ 29 678]]\n"
     ]
    },
    {
     "data": {
      "image/png": "[encoded data removed]",
      "text/plain": [
       "<Figure size 360x360 with 1 Axes>"
      ]
     },
     "metadata": {
      "needs_background": "light"
     },
     "output_type": "display_data"
    }
   ],
   "source": [
    "# predict the probability distribution of the data\n",
    "\n",
    "# WARNING:tensorflow:From <ipython-input-72-9913226a8330>:3: Sequential.predict_classes (from tensorflow.python.keras.engine.sequential) is deprecated and will be removed after 2021-01-01.\n",
    "# Instructions for updating:\n",
    "# Please use instead:* \n",
    "# `np.argmax(model.predict(x), axis=-1)`,   if your model does multi-class classification   (e.g. if it uses a `softmax` last-layer activation).* \n",
    "# `(model.predict(x) > 0.5).astype(\"int32\")`,   if your model does binary classification   (e.g. if it uses a `sigmoid` last-layer activation).\n",
    "\n",
    "print(\"predicting...\")\n",
    "predictions_cnn_1 = (cnn_1.predict(t, verbose=1) > 0.5).astype(\"int32\")\n",
    "print(\"number of predictions \", len(predictions_cnn_1))\n",
    "\n",
    "# get the class with highest probability for each sample\n",
    "#y_pred = (predictions > 0.5).astype(\"int32\")\n",
    "\n",
    "# get the classification report\n",
    "print(\"classification report\")\n",
    "print(classification_report(test_labels, predictions_cnn_1))\n",
    "#print(classification_report(train_set.labels, predictions, target_names = ['Pneumonia (Class 0)','Normal (Class 1)']))\n",
    "\n",
    "CM = confusion_matrix(test_labels, predictions_cnn_1)\n",
    "print(\"confusion matrix\")\n",
    "print(CM)\n",
    "\n",
    "fig, ax = plot_confusion_matrix(conf_mat=CM ,  figsize=(5, 5))\n",
    "plt.show()"
   ]
  },
  {
   "cell_type": "code",
   "execution_count": null,
   "metadata": {},
   "outputs": [],
   "source": []
  },
  {
   "cell_type": "markdown",
   "metadata": {},
   "source": [
    "#### 2.2 Evaluate performance of CNN-2 model on Test Set"
   ]
  },
  {
   "cell_type": "code",
   "execution_count": 115,
   "metadata": {},
   "outputs": [
    {
     "name": "stdout",
     "output_type": "stream",
     "text": [
      "cnn2 metrics on test set\n",
      "34/34 [==============================] - 0s 10ms/step - loss: 2.5768 - accuracy: 0.8679 - precision: 0.8403 - recall: 0.9901 - auc: 0.8568   \n",
      "[2.576789617538452, 0.8679245114326477, 0.8403361439704895, 0.9900990128517151, 0.856804370880127]\n"
     ]
    }
   ],
   "source": [
    "print(\"cnn2 metrics on test set\")\n",
    "test_accu = cnn_2.evaluate(t, np.array(y_test_img))\n",
    "print(test_accu)"
   ]
  },
  {
   "cell_type": "code",
   "execution_count": 116,
   "metadata": {},
   "outputs": [
    {
     "name": "stdout",
     "output_type": "stream",
     "text": [
      "predicting...\n",
      "34/34 [==============================] - 0s 5ms/step\n",
      "number of predictions  1060\n",
      "classification report\n",
      "              precision    recall  f1-score   support\n",
      "\n",
      "           0       0.97      0.62      0.76       353\n",
      "           1       0.84      0.99      0.91       707\n",
      "\n",
      "    accuracy                           0.87      1060\n",
      "   macro avg       0.90      0.81      0.83      1060\n",
      "weighted avg       0.88      0.87      0.86      1060\n",
      "\n",
      "confusion matrix\n",
      "[[220 133]\n",
      " [  7 700]]\n"
     ]
    },
    {
     "data": {
      "image/png": "[encoded data removed]",
      "text/plain": [
       "<Figure size 360x360 with 1 Axes>"
      ]
     },
     "metadata": {
      "needs_background": "light"
     },
     "output_type": "display_data"
    }
   ],
   "source": [
    "print(\"predicting...\")\n",
    "predictions_cnn_2 = (cnn_2.predict(t, verbose=1) > 0.5).astype(\"int32\")\n",
    "print(\"number of predictions \", len(predictions_cnn_2))\n",
    "\n",
    "# get the class with highest probability for each sample\n",
    "#y_pred = (predictions > 0.5).astype(\"int32\")\n",
    "\n",
    "# get the classification report\n",
    "print(\"classification report\")\n",
    "print(classification_report(test_labels, predictions_cnn_2))\n",
    "#print(classification_report(train_set.labels, predictions, target_names = ['Pneumonia (Class 0)','Normal (Class 1)']))\n",
    "\n",
    "CM = confusion_matrix(test_labels, predictions_cnn_2)\n",
    "print(\"confusion matrix\")\n",
    "print(CM)\n",
    "\n",
    "fig, ax = plot_confusion_matrix(conf_mat=CM ,  figsize=(5, 5))\n",
    "plt.show()"
   ]
  },
  {
   "cell_type": "code",
   "execution_count": null,
   "metadata": {},
   "outputs": [],
   "source": []
  },
  {
   "cell_type": "code",
   "execution_count": null,
   "metadata": {},
   "outputs": [],
   "source": []
  },
  {
   "cell_type": "markdown",
   "metadata": {},
   "source": [
    "### Make a Prediction"
   ]
  },
  {
   "cell_type": "code",
   "execution_count": 117,
   "metadata": {},
   "outputs": [
    {
     "name": "stderr",
     "output_type": "stream",
     "text": [
      "c:\\miniconda3\\envs\\capstone\\lib\\site-packages\\ipykernel_launcher.py:9: FutureWarning: The behavior of rgb2gray will change in scikit-image 0.19. Currently, rgb2gray allows 2D grayscale image to be passed as inputs and leaves them unmodified as outputs. Starting from version 0.19, 2D arrays will be treated as 1D images with 3 channels.\n",
      "  if __name__ == '__main__':\n"
     ]
    }
   ],
   "source": [
    "#from PIL import Image\n",
    "import numpy as np\n",
    "from skimage import transform\n",
    "from skimage import io\n",
    "from skimage.color import rgb2gray\n",
    "def load(filename):\n",
    "    #np_image = Image.open(filename)\n",
    "    np_image = io.imread(filename)\n",
    "    np_image = rgb2gray(np_image)/255\n",
    "    #np_image = np.array(np_image).astype('float32')\n",
    "\n",
    "    np_image = transform.resize(np_image, (128, 128, 1))\n",
    "    np_image = np.expand_dims(np_image, axis=0)\n",
    "    return np_image\n",
    "\n",
    "image = load(r'E:\\COURSES\\Advanced Data Science With IBM\\Advanced Data Science Capstone\\assignment\\data\\chest_xray\\train\\PNEUMONIA\\person438_bacteria_1889.jpeg')"
   ]
  },
  {
   "cell_type": "code",
   "execution_count": 118,
   "metadata": {},
   "outputs": [
    {
     "name": "stdout",
     "output_type": "stream",
     "text": [
      "[[1]] [[100.]] %\n"
     ]
    },
    {
     "name": "stderr",
     "output_type": "stream",
     "text": [
      "c:\\miniconda3\\envs\\capstone\\lib\\site-packages\\tensorflow\\python\\keras\\engine\\sequential.py:450: UserWarning: `model.predict_classes()` is deprecated and will be removed after 2021-01-01. Please use instead:* `np.argmax(model.predict(x), axis=-1)`,   if your model does multi-class classification   (e.g. if it uses a `softmax` last-layer activation).* `(model.predict(x) > 0.5).astype(\"int32\")`,   if your model does binary classification   (e.g. if it uses a `sigmoid` last-layer activation).\n",
      "  warnings.warn('`model.predict_classes()` is deprecated and '\n",
      "c:\\miniconda3\\envs\\capstone\\lib\\site-packages\\tensorflow\\python\\keras\\engine\\sequential.py:425: UserWarning: `model.predict_proba()` is deprecated and will be removed after 2021-01-01. Please use `model.predict()` instead.\n",
      "  warnings.warn('`model.predict_proba()` is deprecated and '\n"
     ]
    }
   ],
   "source": [
    "print( cnn_2.predict_classes(image), cnn_2.predict_proba(image)*100, '%')\n",
    "\n",
    "# The predicted probability is taken as the likelihood of the observation belonging to class 1, or inverted (1 – probability) to give the probability for class 0."
   ]
  },
  {
   "cell_type": "markdown",
   "metadata": {},
   "source": [
    "In the case of a two-class (binary) classification problem, the sigmoid activation function is often used in the output layer. The predicted probability is taken as the likelihood of the observation belonging to class 1, or inverted (1 – probability) to give the probability for class 0"
   ]
  },
  {
   "cell_type": "code",
   "execution_count": null,
   "metadata": {},
   "outputs": [],
   "source": []
  },
  {
   "cell_type": "markdown",
   "metadata": {},
   "source": [
    "### Save model for deployment"
   ]
  },
  {
   "cell_type": "code",
   "execution_count": 124,
   "metadata": {},
   "outputs": [
    {
     "name": "stderr",
     "output_type": "stream",
     "text": [
      "WARNING:absl:Found untraced functions such as predictions_layer_call_and_return_conditional_losses, predictions_layer_call_fn, predictions_layer_call_fn, predictions_layer_call_and_return_conditional_losses, predictions_layer_call_and_return_conditional_losses while saving (showing 5 of 5). These functions will not be directly callable after loading.\n",
      "WARNING:absl:Found untraced functions such as predictions_layer_call_and_return_conditional_losses, predictions_layer_call_fn, predictions_layer_call_fn, predictions_layer_call_and_return_conditional_losses, predictions_layer_call_and_return_conditional_losses while saving (showing 5 of 5). These functions will not be directly callable after loading.\n"
     ]
    },
    {
     "name": "stdout",
     "output_type": "stream",
     "text": [
      "INFO:tensorflow:Assets written to: cnn_2.ml\\assets\n"
     ]
    },
    {
     "name": "stderr",
     "output_type": "stream",
     "text": [
      "INFO:tensorflow:Assets written to: cnn_2.ml\\assets\n"
     ]
    }
   ],
   "source": [
    "cnn_2.save(\"cnn_2.ml\")"
   ]
  },
  {
   "cell_type": "code",
   "execution_count": null,
   "metadata": {},
   "outputs": [],
   "source": []
  },
  {
   "cell_type": "code",
   "execution_count": 126,
   "metadata": {},
   "outputs": [],
   "source": [
    "test_model = load_model(\"cnn_2.ml\")"
   ]
  },
  {
   "cell_type": "code",
   "execution_count": 128,
   "metadata": {},
   "outputs": [
    {
     "name": "stdout",
     "output_type": "stream",
     "text": [
      "[[1]] [[100.]] %\n"
     ]
    }
   ],
   "source": [
    "# use loaded model to make prediction\n",
    "\n",
    "print( test_model.predict_classes(image), test_model.predict_proba(image)*100, '%')\n"
   ]
  },
  {
   "cell_type": "code",
   "execution_count": null,
   "metadata": {},
   "outputs": [],
   "source": []
  }
 ],
 "metadata": {
  "kernelspec": {
   "display_name": "Python 3",
   "language": "python",
   "name": "python3"
  },
  "language_info": {
   "codemirror_mode": {
    "name": "ipython",
    "version": 3
   },
   "file_extension": ".py",
   "mimetype": "text/x-python",
   "name": "python",
   "nbconvert_exporter": "python",
   "pygments_lexer": "ipython3",
   "version": "3.6.8"
  }
 },
 "nbformat": 4,
 "nbformat_minor": 4
}
