{
 "cells": [
  {
   "cell_type": "code",
   "execution_count": 1,
   "metadata": {},
   "outputs": [],
   "source": [
    "from IPython.display import Image"
   ]
  },
  {
   "cell_type": "markdown",
   "metadata": {},
   "source": [
    "### IBM Advanced Data Science Capstone Project\n",
    "#### Salvatore Salpietro\n",
    "\n",
    "<hr/>\n",
    "\n",
    "###### Purpose\n",
    "\n",
    "The scope pf this project is to build a classifier to detect diseased lung from chest x-ray images, where the disease is pneumonia.\n",
    "\n",
    "###### What is pneumonia\n",
    "\n",
    "Pneumonia is an inflammatory lung disease that affects the small air sacs called alvioli.  \n",
    "\n",
    "<img src=\"https://github.com/erotavlas/machine-learning/raw/main/IBMAdvancedDataScience_Capstone/images/pneumonia.jpg\" width=350 />\n",
    "\n",
    "###### Types\n",
    "There are three main classification of pneumonia by location in the lungs, these are,\n",
    "\n",
    "- Lobar and Multilobar pneumonia is an infection that involves one or more lobes, or section, of a lung. Lobar pneumonia is often due to Streptococcus pneumoniae (though Klebsiella pneumoniae is also possible.) Multilobar pneumonia involves more than one lobe, and it often causes a more severe illness.\n",
    "- Bronchial pneumonia affects the lungs in patches around the tubes (bronchi or bronchioles).\n",
    "- Interstitial pneumonia involves the areas in between the alveoli, and it may be called \"interstitial pneumonitis.\" It is more likely to be caused by viruses or by atypical bacteria.\n",
    "\n",
    "<img src=\"https://github.com/erotavlas/machine-learning/raw/main/IBMAdvancedDataScience_Capstone/images/types-of-pneumonia.jpeg\" width=350 />\n",
    "\n",
    "###### Symptoms\n",
    "People with this condition typically exhibit the following symptoms of variable severity \n",
    "- cough \n",
    "- chest pain \n",
    "- fever \n",
    "- difficulty breathing. \n",
    "\n",
    "###### Causes\n",
    "The causes are mainly due to viruses and bacteris but can also be from fungii, parasites or noninfectious causes.  \n",
    "\n",
    "<img src=\"https://github.com/erotavlas/machine-learning/raw/main/IBMAdvancedDataScience_Capstone/images/causes.jpg\" width=500>\n",
    "\n",
    "###### Diagnosis\n",
    "In order to verify a case of pneumonia in a patient, doctors rely on a combination of methods including observing physical signs, blood tests, and often a chest X-ray.  The chest X-ray is useful not only for diagnosis, but also to determine the extent of disease in the lungs.  \n",
    "\n",
    "###### How does a doctor determine if a lung is diseased or not from chest X-rays?  \n",
    "A chest X-ray is a radiology test that involves exposing the chest briefly to radiation to produce an image of the chest and the internal organs of the chest. An X-ray film is positioned against the body opposite the camera, which sends out a very small dose of a radiation beam. As the radiation penetrates the body, it is absorbed in varying amounts by different body tissues depending on the tissue's composition of air, water, blood, bone, or muscle. The X-ray image records these difference in penetration of the X-ray beam to produce an image of body tissue structures. The white shadows on chest X-ray represent areas where the beam is blocked by more dense or solid tissues, such as bone or heart.  The darker shadows on the chest X-ray represent areas where the x-ray beam penetrates more easily such as in air filled tissues like the lungs. \n",
    "\n",
    "Here is an example of chest x-rays for normal lung vs lung affected by pneumonia.\n",
    "<img src=\"https://github.com/erotavlas/machine-learning/raw/main/IBMAdvancedDataScience_Capstone/images/normal_vs_pneumonia.png\" width=500 />\n",
    "\n",
    "Doctors look for lighter areas in the lung indicating the precense of inflammation and fluid buildup.  This causes areas of the lung to become lighter on the x-ray image compared to the darker air filled areas of healthy lungs.\n",
    "\n",
    "###### Can AI assist in this process?\n",
    "In this project we will attempt to create a machine learning model that will effectively automate what the doctor is doing when they screen a patient for lung disease, in this case the disease is pneumonia. By training the model on a set of healthy and diseased lung X-ray images, it will be able to distinguish between the two types."
   ]
  },
  {
   "cell_type": "markdown",
   "metadata": {},
   "source": [
    "### Importing libraries"
   ]
  },
  {
   "cell_type": "code",
   "execution_count": 149,
   "metadata": {},
   "outputs": [],
   "source": [
    "from skimage import io # allows to read images\n",
    "from matplotlib import pyplot\n",
    "from pathlib import Path\n",
    "from natsort import natsorted, ns # natural sorting\n",
    "from sklearn.metrics import classification_report, confusion_matrix, plot_roc_curve\n",
    "from sklearn.ensemble import RandomForestClassifier\n",
    "from sklearn.dummy import DummyClassifier\n",
    "from sklearn.naive_bayes import GaussianNB\n",
    "from sklearn import svm, metrics\n",
    "from mlxtend.plotting import plot_confusion_matrix\n",
    "from sklearn.model_selection import validation_curve\n",
    "\n",
    "import numpy as np\n",
    "import pandas as pd\n",
    "import statistics\n",
    "import random\n",
    "import os\n",
    "import seaborn as sns\n",
    "import matplotlib.pyplot as plt\n",
    "from tqdm import tqdm\n",
    "\n",
    "import tensorflow as tf\n",
    "from keras.preprocessing.image import ImageDataGenerator"
   ]
  },
  {
   "cell_type": "code",
   "execution_count": 3,
   "metadata": {},
   "outputs": [
    {
     "name": "stdout",
     "output_type": "stream",
     "text": [
      "2.4.0\n"
     ]
    }
   ],
   "source": [
    "print(tf.__version__)"
   ]
  },
  {
   "cell_type": "markdown",
   "metadata": {},
   "source": [
    "### Data analysis step\n",
    "\n",
    "Determine the characteristics of the data and statistics "
   ]
  },
  {
   "cell_type": "markdown",
   "metadata": {},
   "source": [
    "#### 1. Data source\n",
    "\n",
    "Data was obtained from the following source \n",
    "https://data.mendeley.com/datasets/rscbjbr9sj/3\n",
    "\n",
    "We are provided with an archive file containing a set of chest x-rays.  Images are provided in two separate folders, test and train.  Within those folders images are separated into two classes - normal and pneumonia.  "
   ]
  },
  {
   "cell_type": "markdown",
   "metadata": {},
   "source": [
    "```text\n",
    "chest-xray\n",
    "|__test\n",
    "|  |__NORMAL\n",
    "|  |__PNEUMONIA\n",
    "|\n",
    "|__train\n",
    "   |__NORMAL\n",
    "   |__PNEUMONIA```"
   ]
  },
  {
   "cell_type": "markdown",
   "metadata": {},
   "source": [
    "#### 2. Characteristics of files"
   ]
  },
  {
   "cell_type": "code",
   "execution_count": 4,
   "metadata": {},
   "outputs": [],
   "source": [
    "sizes = [] # sizes in kb\n",
    "all_extensions = set([])\n",
    "filenum = []\n",
    "count = 0\n",
    "\n",
    "test_images = []\n",
    "test_labels = []\n",
    "\n",
    "train_images = []\n",
    "train_labels = []\n",
    "\n",
    "# training set folder\n",
    "for root, dirs, files in os.walk(\"E:\\COURSES\\Advanced Data Science With IBM\\Advanced Data Science Capstone\\\\assignment\\data\\chest_xray\\\\train\"):\n",
    "    #print('dirs', dirs)\n",
    "    for name in files:\n",
    "        #print('name', name)\n",
    "        #print(os.path.basename(root))\n",
    "        \n",
    "        file_name, file_extension = os.path.splitext(name)\n",
    "        all_extensions.add(file_extension)\n",
    "        \n",
    "        stats = os.stat(os.path.join(root, name))\n",
    "        count = count + 1\n",
    "        \n",
    "        sizes.append(stats.st_size/1000) \n",
    "        \n",
    "        #if(stats.st_size/1000 < 12):\n",
    "        #    discarded.append(os.path.join(root, name))\n",
    "        #else:\n",
    "        train_images.append(os.path.join(root, name))\n",
    "        train_labels.append(os.path.basename(root))\n",
    "        \n",
    "        filenum.append(count)\n",
    "\n",
    "# test set folder\n",
    "for root, dirs, files in os.walk(\"E:\\COURSES\\Advanced Data Science With IBM\\Advanced Data Science Capstone\\\\assignment\\data\\chest_xray\\\\test\"):\n",
    "    #print('dirs', dirs)\n",
    "    for name in files:\n",
    "        #print('name', name)\n",
    "        #print(os.path.basename(root))\n",
    "        \n",
    "        file_name, file_extension = os.path.splitext(name)\n",
    "        all_extensions.add(file_extension)\n",
    "\n",
    "        stats = os.stat(os.path.join(root, name))\n",
    "        count = count + 1\n",
    "        \n",
    "        sizes.append(stats.st_size/1000)\n",
    "        \n",
    "        #if(stats.st_size/1000 < 12):\n",
    "        #    discarded.append(os.path.join(root, name))\n",
    "        #else:\n",
    "        test_images.append(os.path.join(root, name))\n",
    "        test_labels.append(os.path.basename(root))\n",
    "        \n",
    "        filenum.append(count)"
   ]
  },
  {
   "cell_type": "markdown",
   "metadata": {},
   "source": [
    "##### 2.1. File names"
   ]
  },
  {
   "cell_type": "markdown",
   "metadata": {},
   "source": [
    "File names for images of dieases lungs contain a unique anonymized person number as well as the text 'bacteris' or 'virus' indicating if the pnemonia was caused by a virus or bacteris.  Example person426_virus_873\n",
    "\n",
    "File names for images of normal lungs contain the work 'NORMAL'. Example - NORMAL2-IM-1250-0001"
   ]
  },
  {
   "cell_type": "markdown",
   "metadata": {},
   "source": [
    "##### 2.2. File extensions"
   ]
  },
  {
   "cell_type": "code",
   "execution_count": 5,
   "metadata": {},
   "outputs": [
    {
     "name": "stdout",
     "output_type": "stream",
     "text": [
      "{'.png', '.jpeg'}\n"
     ]
    }
   ],
   "source": [
    "print(all_extensions)"
   ]
  },
  {
   "cell_type": "markdown",
   "metadata": {},
   "source": [
    "Files are of types - png and jpeg"
   ]
  },
  {
   "cell_type": "markdown",
   "metadata": {},
   "source": [
    "##### 2.3. Total number of image files"
   ]
  },
  {
   "cell_type": "code",
   "execution_count": 6,
   "metadata": {},
   "outputs": [],
   "source": [
    "total_image_files = len(train_images) + len(test_images)"
   ]
  },
  {
   "cell_type": "code",
   "execution_count": 7,
   "metadata": {},
   "outputs": [
    {
     "name": "stdout",
     "output_type": "stream",
     "text": [
      "7197\n"
     ]
    }
   ],
   "source": [
    "print(total_image_files)"
   ]
  },
  {
   "cell_type": "markdown",
   "metadata": {},
   "source": [
    "There are a total of 7197 files across both folders (test and train)"
   ]
  },
  {
   "cell_type": "markdown",
   "metadata": {},
   "source": [
    "##### 2.4. Distribution of image files in test and train folders"
   ]
  },
  {
   "cell_type": "code",
   "execution_count": 8,
   "metadata": {},
   "outputs": [
    {
     "data": {
      "text/plain": [
       "624"
      ]
     },
     "execution_count": 8,
     "metadata": {},
     "output_type": "execute_result"
    }
   ],
   "source": [
    "len(test_images)"
   ]
  },
  {
   "cell_type": "code",
   "execution_count": 9,
   "metadata": {},
   "outputs": [
    {
     "data": {
      "text/plain": [
       "6573"
      ]
     },
     "execution_count": 9,
     "metadata": {},
     "output_type": "execute_result"
    }
   ],
   "source": [
    "len(train_images)"
   ]
  },
  {
   "cell_type": "code",
   "execution_count": 10,
   "metadata": {},
   "outputs": [
    {
     "name": "stdout",
     "output_type": "stream",
     "text": [
      "Train / Test split is about  91.3297207169654  /  8.670279283034603\n"
     ]
    }
   ],
   "source": [
    "print('Train / Test split is about ', len(train_images) / total_image_files * 100, ' / ', 100 - len(train_images) / total_image_files * 100) "
   ]
  },
  {
   "cell_type": "markdown",
   "metadata": {},
   "source": [
    "##### 2.5 Class distribution for training set"
   ]
  },
  {
   "cell_type": "code",
   "execution_count": 11,
   "metadata": {},
   "outputs": [],
   "source": [
    "pneumonia = [i for i in train_labels if i == 'PNEUMONIA']\n",
    "normal = [i for i in train_labels if i == 'NORMAL']"
   ]
  },
  {
   "cell_type": "code",
   "execution_count": 12,
   "metadata": {},
   "outputs": [
    {
     "data": {
      "text/plain": [
       "2690"
      ]
     },
     "execution_count": 12,
     "metadata": {},
     "output_type": "execute_result"
    }
   ],
   "source": [
    "len(normal)"
   ]
  },
  {
   "cell_type": "code",
   "execution_count": 13,
   "metadata": {},
   "outputs": [
    {
     "data": {
      "text/plain": [
       "3883"
      ]
     },
     "execution_count": 13,
     "metadata": {},
     "output_type": "execute_result"
    }
   ],
   "source": [
    "len(pneumonia)"
   ]
  },
  {
   "cell_type": "code",
   "execution_count": 14,
   "metadata": {},
   "outputs": [
    {
     "name": "stdout",
     "output_type": "stream",
     "text": [
      "There are  1.4434944237918215  more pneumonia images than normal images in the training set\n"
     ]
    }
   ],
   "source": [
    "print('There are ', len(pneumonia)/len(normal), ' more pneumonia images than normal images in the training set')"
   ]
  },
  {
   "cell_type": "code",
   "execution_count": 15,
   "metadata": {},
   "outputs": [
    {
     "data": {
      "image/png": "[encoded data removed]",
      "text/plain": [
       "<Figure size 432x288 with 1 Axes>"
      ]
     },
     "metadata": {},
     "output_type": "display_data"
    }
   ],
   "source": [
    "y = [2690, 3883]\n",
    "l = [\"normal\", \"pneumonia\"]\n",
    "explode = (0.05, 0)  # explode 1st slice\n",
    "patches, texts = plt.pie(y, explode=explode,  shadow=True )\n",
    "plt.legend(patches, l, loc=\"best\")\n",
    "plt.show() "
   ]
  },
  {
   "cell_type": "markdown",
   "metadata": {},
   "source": [
    "#### 4. Size of the images"
   ]
  },
  {
   "cell_type": "code",
   "execution_count": 16,
   "metadata": {},
   "outputs": [
    {
     "data": {
      "image/png": "[encoded data removed]",
      "text/plain": [
       "<Figure size 432x288 with 1 Axes>"
      ]
     },
     "metadata": {
      "needs_background": "light"
     },
     "output_type": "display_data"
    }
   ],
   "source": [
    "\n",
    "b = [i for i in range(0,2500,10)]\n",
    "\n",
    "plt.xlabel('file size (kb)')\n",
    "plt.ylabel('# of files')\n",
    "plt.hist(sizes, bins=b,  color='#184A45FF')\n",
    "plt.show()"
   ]
  },
  {
   "cell_type": "markdown",
   "metadata": {},
   "source": [
    "Above is a histogram plot to show the ditribution of file sizes.  Most of the files are of size less than 1000 kb."
   ]
  },
  {
   "cell_type": "code",
   "execution_count": 17,
   "metadata": {},
   "outputs": [
    {
     "name": "stdout",
     "output_type": "stream",
     "text": [
      "256.44553591774263\n"
     ]
    }
   ],
   "source": [
    "avg = sum(sizes)/len(sizes)\n",
    "print(avg)"
   ]
  },
  {
   "cell_type": "code",
   "execution_count": 18,
   "metadata": {},
   "outputs": [
    {
     "name": "stdout",
     "output_type": "stream",
     "text": [
      "125.716\n"
     ]
    }
   ],
   "source": [
    "print(statistics.median(sizes))"
   ]
  },
  {
   "cell_type": "code",
   "execution_count": 19,
   "metadata": {},
   "outputs": [
    {
     "name": "stdout",
     "output_type": "stream",
     "text": [
      "5.441\n"
     ]
    }
   ],
   "source": [
    "print(min(sizes))"
   ]
  },
  {
   "cell_type": "code",
   "execution_count": 20,
   "metadata": {},
   "outputs": [
    {
     "name": "stdout",
     "output_type": "stream",
     "text": [
      "2414.342\n"
     ]
    }
   ],
   "source": [
    "print(max(sizes))"
   ]
  },
  {
   "cell_type": "markdown",
   "metadata": {},
   "source": [
    "The mean file size is 211.148\n",
    "\n",
    "The median file size is 95.839\n",
    "\n",
    "The minimum file size observed is 5.441 kb\n",
    "\n",
    "The maximum file size observed is 2412.342 kb"
   ]
  },
  {
   "cell_type": "markdown",
   "metadata": {},
   "source": [
    "Sonce the file sizes are not all the same, some examination of the really small ans really large image files revealed that the really small images aspect ratio did not match those of the majority of images (i.e. they were longer in width than height and did not reveal the full chest/lung view).  These images might be considered outliers.  Further examination of the images below will attempt to exclude such outliers.  "
   ]
  },
  {
   "cell_type": "markdown",
   "metadata": {},
   "source": [
    "#### 4. Aspect ratio of the images"
   ]
  },
  {
   "cell_type": "markdown",
   "metadata": {},
   "source": [
    "The aspect ratio of an image is the ratio of its width to its height.\n",
    "The formula is width / height.\n",
    "\n",
    "Not all the images are of the same aspect ratio. On examining some of the images of smaller size, some did not show the full view of the chest and lungs.  We will remove these images.\n",
    "\n",
    "If the shape of the image is longer in the x axis than it is in the y axis by certain threshold, then discard those images as they only show a section of the full chest image.\n",
    "\n",
    "Choose something x/y must be less than or equal to 2 to constitute an acceptible image. (i.e. if the width is two or more times longer than the height then discard image)"
   ]
  },
  {
   "cell_type": "code",
   "execution_count": 21,
   "metadata": {},
   "outputs": [],
   "source": [
    "temp_train_images = []\n",
    "temp_train_labels = []\n",
    "\n",
    "temp_test_images = []\n",
    "temp_test_labels = []\n",
    "\n",
    "discarded = []\n",
    "\n",
    "for i in range(len(train_images)):\n",
    "    xray = io.imread(train_images[i])\n",
    "    y = xray.shape[0]\n",
    "    x = xray.shape[1]\n",
    "    ratio = x/y\n",
    "    if ratio <= 2:\n",
    "        temp_train_images.append(train_images[i])\n",
    "        temp_train_labels.append(train_labels[i])\n",
    "    else:\n",
    "        discarded.append(train_images[i])\n",
    "        \n",
    "for i in range(len(test_images)):\n",
    "    xray = io.imread(test_images[i])\n",
    "    y = xray.shape[0]\n",
    "    x = xray.shape[1]\n",
    "    ratio = x/y\n",
    "    if ratio <= 2:\n",
    "        temp_test_images.append(test_images[i])\n",
    "        temp_test_labels.append(test_labels[i])\n",
    "    else:\n",
    "        discarded.append(test_images[i])"
   ]
  },
  {
   "cell_type": "code",
   "execution_count": 22,
   "metadata": {},
   "outputs": [
    {
     "name": "stdout",
     "output_type": "stream",
     "text": [
      "updated train set, labels  6457 6457\n",
      "updated test set, labels  614 614\n",
      "discarded images  126\n"
     ]
    }
   ],
   "source": [
    "print('updated train set, labels ', len(temp_train_images), len(temp_train_labels))\n",
    "print('updated test set, labels ', len(temp_test_images), len(temp_test_labels))\n",
    "print('discarded images ', len(discarded))"
   ]
  },
  {
   "cell_type": "markdown",
   "metadata": {},
   "source": [
    "Compare a discarded image to a remaining image in train set."
   ]
  },
  {
   "cell_type": "code",
   "execution_count": 23,
   "metadata": {},
   "outputs": [
    {
     "data": {
      "image/png": "[encoded data removed]",
      "text/plain": [
       "<Figure size 432x288 with 1 Axes>"
      ]
     },
     "metadata": {
      "needs_background": "light"
     },
     "output_type": "display_data"
    },
    {
     "name": "stdout",
     "output_type": "stream",
     "text": [
      "(229, 549, 3)\n"
     ]
    }
   ],
   "source": [
    "import matplotlib.pyplot as plt\n",
    "im = io.imread(discarded[35])\n",
    "imgplot = plt.imshow(im, cmap=\"gray\")\n",
    "plt.show()\n",
    "print(im.shape)"
   ]
  },
  {
   "cell_type": "code",
   "execution_count": 24,
   "metadata": {},
   "outputs": [
    {
     "data": {
      "image/png": "[encoded data removed]",
      "text/plain": [
       "<Figure size 432x288 with 1 Axes>"
      ]
     },
     "metadata": {
      "needs_background": "light"
     },
     "output_type": "display_data"
    },
    {
     "name": "stdout",
     "output_type": "stream",
     "text": [
      "(1152, 1422)\n"
     ]
    }
   ],
   "source": [
    "im = io.imread(temp_train_images[1])\n",
    "imgplot = plt.imshow(im, cmap=\"gray\")\n",
    "plt.show()\n",
    "print(im.shape)"
   ]
  },
  {
   "cell_type": "markdown",
   "metadata": {},
   "source": [
    "#### 4. Redistribute data to a train/validation / test split of 85/15/15\n",
    "\n",
    "Now that the outliers have been removed, we can redistribute the data set to add some more images to the test set to bring the value up to 15%, and then split the remaining test set into a test and validation split of 85/15.\n",
    "\n",
    "We won't touch the images in the test set, rather we will simply move some of the ones from the train set into the test set.\n",
    "\n",
    "Using 15% instead of 20% because we son't have that many images to work with."
   ]
  },
  {
   "cell_type": "code",
   "execution_count": 25,
   "metadata": {},
   "outputs": [
    {
     "name": "stdout",
     "output_type": "stream",
     "text": [
      "total images =  7071\n",
      "percent test  8.683354546740206\n",
      "percent train  91.3166454532598\n"
     ]
    }
   ],
   "source": [
    "# new ratios after removing some outliers\n",
    "\n",
    "total = len(temp_train_images) + len(temp_test_images)\n",
    "print('total images = ', total)\n",
    "\n",
    "percent_test = len(temp_test_images)/total\n",
    "print('percent test ', percent_test*100)\n",
    "\n",
    "percent_train = len(temp_train_images)/total\n",
    "print('percent train ', percent_train*100)"
   ]
  },
  {
   "cell_type": "code",
   "execution_count": 26,
   "metadata": {},
   "outputs": [
    {
     "name": "stdout",
     "output_type": "stream",
     "text": [
      "1060.6499999999999\n",
      "614\n",
      "need to add an additional  446.64999999999986  images\n"
     ]
    }
   ],
   "source": [
    "# calculate number of images to move from train set to test set\n",
    "\n",
    "needed = 0.15*total\n",
    "print(needed)\n",
    "\n",
    "have = len(temp_test_images)\n",
    "print(have)\n",
    "\n",
    "difference = needed - have\n",
    "print(\"need to add an additional \", difference, \" images\")"
   ]
  },
  {
   "cell_type": "code",
   "execution_count": 27,
   "metadata": {},
   "outputs": [],
   "source": [
    "# convert to pandas dataframe\n",
    "\n",
    "# train set\n",
    "data_train = {'file':temp_train_images,'label':temp_train_labels}\n",
    "train_df = pd.DataFrame(data_train)\n",
    "\n",
    "# test set\n",
    "data_test = {'file':temp_test_images,'label':temp_test_labels}\n",
    "test_df = pd.DataFrame(data_test)"
   ]
  },
  {
   "cell_type": "code",
   "execution_count": 28,
   "metadata": {},
   "outputs": [
    {
     "data": {
      "text/html": [
       "<div>\n",
       "<style scoped>\n",
       "    .dataframe tbody tr th:only-of-type {\n",
       "        vertical-align: middle;\n",
       "    }\n",
       "\n",
       "    .dataframe tbody tr th {\n",
       "        vertical-align: top;\n",
       "    }\n",
       "\n",
       "    .dataframe thead th {\n",
       "        text-align: right;\n",
       "    }\n",
       "</style>\n",
       "<table border=\"1\" class=\"dataframe\">\n",
       "  <thead>\n",
       "    <tr style=\"text-align: right;\">\n",
       "      <th></th>\n",
       "      <th>file</th>\n",
       "      <th>label</th>\n",
       "    </tr>\n",
       "  </thead>\n",
       "  <tbody>\n",
       "    <tr>\n",
       "      <th>0</th>\n",
       "      <td>E:\\COURSES\\Advanced Data Science With IBM\\Adva...</td>\n",
       "      <td>NORMAL</td>\n",
       "    </tr>\n",
       "    <tr>\n",
       "      <th>1</th>\n",
       "      <td>E:\\COURSES\\Advanced Data Science With IBM\\Adva...</td>\n",
       "      <td>NORMAL</td>\n",
       "    </tr>\n",
       "    <tr>\n",
       "      <th>2</th>\n",
       "      <td>E:\\COURSES\\Advanced Data Science With IBM\\Adva...</td>\n",
       "      <td>NORMAL</td>\n",
       "    </tr>\n",
       "    <tr>\n",
       "      <th>3</th>\n",
       "      <td>E:\\COURSES\\Advanced Data Science With IBM\\Adva...</td>\n",
       "      <td>NORMAL</td>\n",
       "    </tr>\n",
       "    <tr>\n",
       "      <th>4</th>\n",
       "      <td>E:\\COURSES\\Advanced Data Science With IBM\\Adva...</td>\n",
       "      <td>NORMAL</td>\n",
       "    </tr>\n",
       "    <tr>\n",
       "      <th>...</th>\n",
       "      <td>...</td>\n",
       "      <td>...</td>\n",
       "    </tr>\n",
       "    <tr>\n",
       "      <th>6452</th>\n",
       "      <td>E:\\COURSES\\Advanced Data Science With IBM\\Adva...</td>\n",
       "      <td>PNEUMONIA</td>\n",
       "    </tr>\n",
       "    <tr>\n",
       "      <th>6453</th>\n",
       "      <td>E:\\COURSES\\Advanced Data Science With IBM\\Adva...</td>\n",
       "      <td>PNEUMONIA</td>\n",
       "    </tr>\n",
       "    <tr>\n",
       "      <th>6454</th>\n",
       "      <td>E:\\COURSES\\Advanced Data Science With IBM\\Adva...</td>\n",
       "      <td>PNEUMONIA</td>\n",
       "    </tr>\n",
       "    <tr>\n",
       "      <th>6455</th>\n",
       "      <td>E:\\COURSES\\Advanced Data Science With IBM\\Adva...</td>\n",
       "      <td>PNEUMONIA</td>\n",
       "    </tr>\n",
       "    <tr>\n",
       "      <th>6456</th>\n",
       "      <td>E:\\COURSES\\Advanced Data Science With IBM\\Adva...</td>\n",
       "      <td>PNEUMONIA</td>\n",
       "    </tr>\n",
       "  </tbody>\n",
       "</table>\n",
       "<p>6457 rows × 2 columns</p>\n",
       "</div>"
      ],
      "text/plain": [
       "                                                   file      label\n",
       "0     E:\\COURSES\\Advanced Data Science With IBM\\Adva...     NORMAL\n",
       "1     E:\\COURSES\\Advanced Data Science With IBM\\Adva...     NORMAL\n",
       "2     E:\\COURSES\\Advanced Data Science With IBM\\Adva...     NORMAL\n",
       "3     E:\\COURSES\\Advanced Data Science With IBM\\Adva...     NORMAL\n",
       "4     E:\\COURSES\\Advanced Data Science With IBM\\Adva...     NORMAL\n",
       "...                                                 ...        ...\n",
       "6452  E:\\COURSES\\Advanced Data Science With IBM\\Adva...  PNEUMONIA\n",
       "6453  E:\\COURSES\\Advanced Data Science With IBM\\Adva...  PNEUMONIA\n",
       "6454  E:\\COURSES\\Advanced Data Science With IBM\\Adva...  PNEUMONIA\n",
       "6455  E:\\COURSES\\Advanced Data Science With IBM\\Adva...  PNEUMONIA\n",
       "6456  E:\\COURSES\\Advanced Data Science With IBM\\Adva...  PNEUMONIA\n",
       "\n",
       "[6457 rows x 2 columns]"
      ]
     },
     "execution_count": 28,
     "metadata": {},
     "output_type": "execute_result"
    }
   ],
   "source": [
    "train_df"
   ]
  },
  {
   "cell_type": "code",
   "execution_count": 29,
   "metadata": {},
   "outputs": [
    {
     "data": {
      "text/plain": [
       "('E:\\\\COURSES\\\\Advanced Data Science With IBM\\\\Advanced Data Science Capstone\\\\assignment\\\\data\\\\chest_xray\\\\train\\\\NORMAL\\\\NORMAL2-IM-0460-0001.jpeg',\n",
       " 'NORMAL')"
      ]
     },
     "execution_count": 29,
     "metadata": {},
     "output_type": "execute_result"
    }
   ],
   "source": [
    "train_df['file'][2000], train_df['label'][2000]"
   ]
  },
  {
   "cell_type": "code",
   "execution_count": 30,
   "metadata": {},
   "outputs": [
    {
     "data": {
      "text/plain": [
       "('E:\\\\COURSES\\\\Advanced Data Science With IBM\\\\Advanced Data Science Capstone\\\\assignment\\\\data\\\\chest_xray\\\\test\\\\NORMAL\\\\NORMAL2-IM-0340-0001.jpeg',\n",
       " 'NORMAL')"
      ]
     },
     "execution_count": 30,
     "metadata": {},
     "output_type": "execute_result"
    }
   ],
   "source": [
    "test_df['file'][200], test_df['label'][200]"
   ]
  },
  {
   "cell_type": "code",
   "execution_count": 31,
   "metadata": {},
   "outputs": [],
   "source": [
    "# first shuffle rows in train dataframe\n",
    "train_df = train_df.sample(n = len(train_df), random_state=200).reset_index(drop=True)"
   ]
  },
  {
   "cell_type": "code",
   "execution_count": 32,
   "metadata": {},
   "outputs": [],
   "source": [
    "# then move 245 rows from train dataframe to test dataframe\n",
    "transferdata_df = train_df.iloc[-446:, 0:]\n",
    "\n",
    "test_df = test_df.append(transferdata_df)\n",
    "\n",
    "train_df = train_df.drop(transferdata_df.index)"
   ]
  },
  {
   "cell_type": "code",
   "execution_count": 33,
   "metadata": {},
   "outputs": [],
   "source": [
    "# reset index of test_df\n",
    "test_df = test_df.reset_index(drop=True)"
   ]
  },
  {
   "cell_type": "code",
   "execution_count": 34,
   "metadata": {},
   "outputs": [
    {
     "data": {
      "text/html": [
       "<div>\n",
       "<style scoped>\n",
       "    .dataframe tbody tr th:only-of-type {\n",
       "        vertical-align: middle;\n",
       "    }\n",
       "\n",
       "    .dataframe tbody tr th {\n",
       "        vertical-align: top;\n",
       "    }\n",
       "\n",
       "    .dataframe thead th {\n",
       "        text-align: right;\n",
       "    }\n",
       "</style>\n",
       "<table border=\"1\" class=\"dataframe\">\n",
       "  <thead>\n",
       "    <tr style=\"text-align: right;\">\n",
       "      <th></th>\n",
       "      <th>file</th>\n",
       "      <th>label</th>\n",
       "    </tr>\n",
       "  </thead>\n",
       "  <tbody>\n",
       "    <tr>\n",
       "      <th>0</th>\n",
       "      <td>E:\\COURSES\\Advanced Data Science With IBM\\Adva...</td>\n",
       "      <td>NORMAL</td>\n",
       "    </tr>\n",
       "    <tr>\n",
       "      <th>1</th>\n",
       "      <td>E:\\COURSES\\Advanced Data Science With IBM\\Adva...</td>\n",
       "      <td>PNEUMONIA</td>\n",
       "    </tr>\n",
       "    <tr>\n",
       "      <th>2</th>\n",
       "      <td>E:\\COURSES\\Advanced Data Science With IBM\\Adva...</td>\n",
       "      <td>PNEUMONIA</td>\n",
       "    </tr>\n",
       "    <tr>\n",
       "      <th>3</th>\n",
       "      <td>E:\\COURSES\\Advanced Data Science With IBM\\Adva...</td>\n",
       "      <td>NORMAL</td>\n",
       "    </tr>\n",
       "    <tr>\n",
       "      <th>4</th>\n",
       "      <td>E:\\COURSES\\Advanced Data Science With IBM\\Adva...</td>\n",
       "      <td>NORMAL</td>\n",
       "    </tr>\n",
       "    <tr>\n",
       "      <th>...</th>\n",
       "      <td>...</td>\n",
       "      <td>...</td>\n",
       "    </tr>\n",
       "    <tr>\n",
       "      <th>6006</th>\n",
       "      <td>E:\\COURSES\\Advanced Data Science With IBM\\Adva...</td>\n",
       "      <td>NORMAL</td>\n",
       "    </tr>\n",
       "    <tr>\n",
       "      <th>6007</th>\n",
       "      <td>E:\\COURSES\\Advanced Data Science With IBM\\Adva...</td>\n",
       "      <td>NORMAL</td>\n",
       "    </tr>\n",
       "    <tr>\n",
       "      <th>6008</th>\n",
       "      <td>E:\\COURSES\\Advanced Data Science With IBM\\Adva...</td>\n",
       "      <td>PNEUMONIA</td>\n",
       "    </tr>\n",
       "    <tr>\n",
       "      <th>6009</th>\n",
       "      <td>E:\\COURSES\\Advanced Data Science With IBM\\Adva...</td>\n",
       "      <td>PNEUMONIA</td>\n",
       "    </tr>\n",
       "    <tr>\n",
       "      <th>6010</th>\n",
       "      <td>E:\\COURSES\\Advanced Data Science With IBM\\Adva...</td>\n",
       "      <td>PNEUMONIA</td>\n",
       "    </tr>\n",
       "  </tbody>\n",
       "</table>\n",
       "<p>6011 rows × 2 columns</p>\n",
       "</div>"
      ],
      "text/plain": [
       "                                                   file      label\n",
       "0     E:\\COURSES\\Advanced Data Science With IBM\\Adva...     NORMAL\n",
       "1     E:\\COURSES\\Advanced Data Science With IBM\\Adva...  PNEUMONIA\n",
       "2     E:\\COURSES\\Advanced Data Science With IBM\\Adva...  PNEUMONIA\n",
       "3     E:\\COURSES\\Advanced Data Science With IBM\\Adva...     NORMAL\n",
       "4     E:\\COURSES\\Advanced Data Science With IBM\\Adva...     NORMAL\n",
       "...                                                 ...        ...\n",
       "6006  E:\\COURSES\\Advanced Data Science With IBM\\Adva...     NORMAL\n",
       "6007  E:\\COURSES\\Advanced Data Science With IBM\\Adva...     NORMAL\n",
       "6008  E:\\COURSES\\Advanced Data Science With IBM\\Adva...  PNEUMONIA\n",
       "6009  E:\\COURSES\\Advanced Data Science With IBM\\Adva...  PNEUMONIA\n",
       "6010  E:\\COURSES\\Advanced Data Science With IBM\\Adva...  PNEUMONIA\n",
       "\n",
       "[6011 rows x 2 columns]"
      ]
     },
     "execution_count": 34,
     "metadata": {},
     "output_type": "execute_result"
    }
   ],
   "source": [
    "train_df"
   ]
  },
  {
   "cell_type": "code",
   "execution_count": 35,
   "metadata": {},
   "outputs": [
    {
     "data": {
      "text/html": [
       "<div>\n",
       "<style scoped>\n",
       "    .dataframe tbody tr th:only-of-type {\n",
       "        vertical-align: middle;\n",
       "    }\n",
       "\n",
       "    .dataframe tbody tr th {\n",
       "        vertical-align: top;\n",
       "    }\n",
       "\n",
       "    .dataframe thead th {\n",
       "        text-align: right;\n",
       "    }\n",
       "</style>\n",
       "<table border=\"1\" class=\"dataframe\">\n",
       "  <thead>\n",
       "    <tr style=\"text-align: right;\">\n",
       "      <th></th>\n",
       "      <th>file</th>\n",
       "      <th>label</th>\n",
       "    </tr>\n",
       "  </thead>\n",
       "  <tbody>\n",
       "    <tr>\n",
       "      <th>0</th>\n",
       "      <td>E:\\COURSES\\Advanced Data Science With IBM\\Adva...</td>\n",
       "      <td>NORMAL</td>\n",
       "    </tr>\n",
       "    <tr>\n",
       "      <th>1</th>\n",
       "      <td>E:\\COURSES\\Advanced Data Science With IBM\\Adva...</td>\n",
       "      <td>NORMAL</td>\n",
       "    </tr>\n",
       "    <tr>\n",
       "      <th>2</th>\n",
       "      <td>E:\\COURSES\\Advanced Data Science With IBM\\Adva...</td>\n",
       "      <td>NORMAL</td>\n",
       "    </tr>\n",
       "    <tr>\n",
       "      <th>3</th>\n",
       "      <td>E:\\COURSES\\Advanced Data Science With IBM\\Adva...</td>\n",
       "      <td>NORMAL</td>\n",
       "    </tr>\n",
       "    <tr>\n",
       "      <th>4</th>\n",
       "      <td>E:\\COURSES\\Advanced Data Science With IBM\\Adva...</td>\n",
       "      <td>NORMAL</td>\n",
       "    </tr>\n",
       "    <tr>\n",
       "      <th>...</th>\n",
       "      <td>...</td>\n",
       "      <td>...</td>\n",
       "    </tr>\n",
       "    <tr>\n",
       "      <th>1055</th>\n",
       "      <td>E:\\COURSES\\Advanced Data Science With IBM\\Adva...</td>\n",
       "      <td>PNEUMONIA</td>\n",
       "    </tr>\n",
       "    <tr>\n",
       "      <th>1056</th>\n",
       "      <td>E:\\COURSES\\Advanced Data Science With IBM\\Adva...</td>\n",
       "      <td>PNEUMONIA</td>\n",
       "    </tr>\n",
       "    <tr>\n",
       "      <th>1057</th>\n",
       "      <td>E:\\COURSES\\Advanced Data Science With IBM\\Adva...</td>\n",
       "      <td>NORMAL</td>\n",
       "    </tr>\n",
       "    <tr>\n",
       "      <th>1058</th>\n",
       "      <td>E:\\COURSES\\Advanced Data Science With IBM\\Adva...</td>\n",
       "      <td>PNEUMONIA</td>\n",
       "    </tr>\n",
       "    <tr>\n",
       "      <th>1059</th>\n",
       "      <td>E:\\COURSES\\Advanced Data Science With IBM\\Adva...</td>\n",
       "      <td>NORMAL</td>\n",
       "    </tr>\n",
       "  </tbody>\n",
       "</table>\n",
       "<p>1060 rows × 2 columns</p>\n",
       "</div>"
      ],
      "text/plain": [
       "                                                   file      label\n",
       "0     E:\\COURSES\\Advanced Data Science With IBM\\Adva...     NORMAL\n",
       "1     E:\\COURSES\\Advanced Data Science With IBM\\Adva...     NORMAL\n",
       "2     E:\\COURSES\\Advanced Data Science With IBM\\Adva...     NORMAL\n",
       "3     E:\\COURSES\\Advanced Data Science With IBM\\Adva...     NORMAL\n",
       "4     E:\\COURSES\\Advanced Data Science With IBM\\Adva...     NORMAL\n",
       "...                                                 ...        ...\n",
       "1055  E:\\COURSES\\Advanced Data Science With IBM\\Adva...  PNEUMONIA\n",
       "1056  E:\\COURSES\\Advanced Data Science With IBM\\Adva...  PNEUMONIA\n",
       "1057  E:\\COURSES\\Advanced Data Science With IBM\\Adva...     NORMAL\n",
       "1058  E:\\COURSES\\Advanced Data Science With IBM\\Adva...  PNEUMONIA\n",
       "1059  E:\\COURSES\\Advanced Data Science With IBM\\Adva...     NORMAL\n",
       "\n",
       "[1060 rows x 2 columns]"
      ]
     },
     "execution_count": 35,
     "metadata": {},
     "output_type": "execute_result"
    }
   ],
   "source": [
    "test_df"
   ]
  },
  {
   "cell_type": "code",
   "execution_count": 36,
   "metadata": {},
   "outputs": [],
   "source": [
    "# split train set further into train and validation set\n",
    "\n",
    "newtrain_df = train_df.sample(frac=0.85,random_state=200) #random state is a seed value\n",
    "validation_df = train_df.drop(newtrain_df.index)"
   ]
  },
  {
   "cell_type": "code",
   "execution_count": 37,
   "metadata": {},
   "outputs": [],
   "source": [
    "train_df = newtrain_df.reset_index(drop=True)\n",
    "validation_df = validation_df.reset_index(drop=True)"
   ]
  },
  {
   "cell_type": "code",
   "execution_count": 38,
   "metadata": {},
   "outputs": [
    {
     "data": {
      "text/html": [
       "<div>\n",
       "<style scoped>\n",
       "    .dataframe tbody tr th:only-of-type {\n",
       "        vertical-align: middle;\n",
       "    }\n",
       "\n",
       "    .dataframe tbody tr th {\n",
       "        vertical-align: top;\n",
       "    }\n",
       "\n",
       "    .dataframe thead th {\n",
       "        text-align: right;\n",
       "    }\n",
       "</style>\n",
       "<table border=\"1\" class=\"dataframe\">\n",
       "  <thead>\n",
       "    <tr style=\"text-align: right;\">\n",
       "      <th></th>\n",
       "      <th>file</th>\n",
       "      <th>label</th>\n",
       "    </tr>\n",
       "  </thead>\n",
       "  <tbody>\n",
       "    <tr>\n",
       "      <th>0</th>\n",
       "      <td>E:\\COURSES\\Advanced Data Science With IBM\\Adva...</td>\n",
       "      <td>PNEUMONIA</td>\n",
       "    </tr>\n",
       "    <tr>\n",
       "      <th>1</th>\n",
       "      <td>E:\\COURSES\\Advanced Data Science With IBM\\Adva...</td>\n",
       "      <td>PNEUMONIA</td>\n",
       "    </tr>\n",
       "    <tr>\n",
       "      <th>2</th>\n",
       "      <td>E:\\COURSES\\Advanced Data Science With IBM\\Adva...</td>\n",
       "      <td>NORMAL</td>\n",
       "    </tr>\n",
       "    <tr>\n",
       "      <th>3</th>\n",
       "      <td>E:\\COURSES\\Advanced Data Science With IBM\\Adva...</td>\n",
       "      <td>NORMAL</td>\n",
       "    </tr>\n",
       "    <tr>\n",
       "      <th>4</th>\n",
       "      <td>E:\\COURSES\\Advanced Data Science With IBM\\Adva...</td>\n",
       "      <td>PNEUMONIA</td>\n",
       "    </tr>\n",
       "    <tr>\n",
       "      <th>...</th>\n",
       "      <td>...</td>\n",
       "      <td>...</td>\n",
       "    </tr>\n",
       "    <tr>\n",
       "      <th>5104</th>\n",
       "      <td>E:\\COURSES\\Advanced Data Science With IBM\\Adva...</td>\n",
       "      <td>PNEUMONIA</td>\n",
       "    </tr>\n",
       "    <tr>\n",
       "      <th>5105</th>\n",
       "      <td>E:\\COURSES\\Advanced Data Science With IBM\\Adva...</td>\n",
       "      <td>NORMAL</td>\n",
       "    </tr>\n",
       "    <tr>\n",
       "      <th>5106</th>\n",
       "      <td>E:\\COURSES\\Advanced Data Science With IBM\\Adva...</td>\n",
       "      <td>PNEUMONIA</td>\n",
       "    </tr>\n",
       "    <tr>\n",
       "      <th>5107</th>\n",
       "      <td>E:\\COURSES\\Advanced Data Science With IBM\\Adva...</td>\n",
       "      <td>PNEUMONIA</td>\n",
       "    </tr>\n",
       "    <tr>\n",
       "      <th>5108</th>\n",
       "      <td>E:\\COURSES\\Advanced Data Science With IBM\\Adva...</td>\n",
       "      <td>NORMAL</td>\n",
       "    </tr>\n",
       "  </tbody>\n",
       "</table>\n",
       "<p>5109 rows × 2 columns</p>\n",
       "</div>"
      ],
      "text/plain": [
       "                                                   file      label\n",
       "0     E:\\COURSES\\Advanced Data Science With IBM\\Adva...  PNEUMONIA\n",
       "1     E:\\COURSES\\Advanced Data Science With IBM\\Adva...  PNEUMONIA\n",
       "2     E:\\COURSES\\Advanced Data Science With IBM\\Adva...     NORMAL\n",
       "3     E:\\COURSES\\Advanced Data Science With IBM\\Adva...     NORMAL\n",
       "4     E:\\COURSES\\Advanced Data Science With IBM\\Adva...  PNEUMONIA\n",
       "...                                                 ...        ...\n",
       "5104  E:\\COURSES\\Advanced Data Science With IBM\\Adva...  PNEUMONIA\n",
       "5105  E:\\COURSES\\Advanced Data Science With IBM\\Adva...     NORMAL\n",
       "5106  E:\\COURSES\\Advanced Data Science With IBM\\Adva...  PNEUMONIA\n",
       "5107  E:\\COURSES\\Advanced Data Science With IBM\\Adva...  PNEUMONIA\n",
       "5108  E:\\COURSES\\Advanced Data Science With IBM\\Adva...     NORMAL\n",
       "\n",
       "[5109 rows x 2 columns]"
      ]
     },
     "execution_count": 38,
     "metadata": {},
     "output_type": "execute_result"
    }
   ],
   "source": [
    "train_df"
   ]
  },
  {
   "cell_type": "code",
   "execution_count": 39,
   "metadata": {},
   "outputs": [
    {
     "data": {
      "text/html": [
       "<div>\n",
       "<style scoped>\n",
       "    .dataframe tbody tr th:only-of-type {\n",
       "        vertical-align: middle;\n",
       "    }\n",
       "\n",
       "    .dataframe tbody tr th {\n",
       "        vertical-align: top;\n",
       "    }\n",
       "\n",
       "    .dataframe thead th {\n",
       "        text-align: right;\n",
       "    }\n",
       "</style>\n",
       "<table border=\"1\" class=\"dataframe\">\n",
       "  <thead>\n",
       "    <tr style=\"text-align: right;\">\n",
       "      <th></th>\n",
       "      <th>file</th>\n",
       "      <th>label</th>\n",
       "    </tr>\n",
       "  </thead>\n",
       "  <tbody>\n",
       "    <tr>\n",
       "      <th>0</th>\n",
       "      <td>E:\\COURSES\\Advanced Data Science With IBM\\Adva...</td>\n",
       "      <td>NORMAL</td>\n",
       "    </tr>\n",
       "    <tr>\n",
       "      <th>1</th>\n",
       "      <td>E:\\COURSES\\Advanced Data Science With IBM\\Adva...</td>\n",
       "      <td>NORMAL</td>\n",
       "    </tr>\n",
       "    <tr>\n",
       "      <th>2</th>\n",
       "      <td>E:\\COURSES\\Advanced Data Science With IBM\\Adva...</td>\n",
       "      <td>PNEUMONIA</td>\n",
       "    </tr>\n",
       "    <tr>\n",
       "      <th>3</th>\n",
       "      <td>E:\\COURSES\\Advanced Data Science With IBM\\Adva...</td>\n",
       "      <td>PNEUMONIA</td>\n",
       "    </tr>\n",
       "    <tr>\n",
       "      <th>4</th>\n",
       "      <td>E:\\COURSES\\Advanced Data Science With IBM\\Adva...</td>\n",
       "      <td>NORMAL</td>\n",
       "    </tr>\n",
       "    <tr>\n",
       "      <th>...</th>\n",
       "      <td>...</td>\n",
       "      <td>...</td>\n",
       "    </tr>\n",
       "    <tr>\n",
       "      <th>897</th>\n",
       "      <td>E:\\COURSES\\Advanced Data Science With IBM\\Adva...</td>\n",
       "      <td>NORMAL</td>\n",
       "    </tr>\n",
       "    <tr>\n",
       "      <th>898</th>\n",
       "      <td>E:\\COURSES\\Advanced Data Science With IBM\\Adva...</td>\n",
       "      <td>PNEUMONIA</td>\n",
       "    </tr>\n",
       "    <tr>\n",
       "      <th>899</th>\n",
       "      <td>E:\\COURSES\\Advanced Data Science With IBM\\Adva...</td>\n",
       "      <td>NORMAL</td>\n",
       "    </tr>\n",
       "    <tr>\n",
       "      <th>900</th>\n",
       "      <td>E:\\COURSES\\Advanced Data Science With IBM\\Adva...</td>\n",
       "      <td>PNEUMONIA</td>\n",
       "    </tr>\n",
       "    <tr>\n",
       "      <th>901</th>\n",
       "      <td>E:\\COURSES\\Advanced Data Science With IBM\\Adva...</td>\n",
       "      <td>NORMAL</td>\n",
       "    </tr>\n",
       "  </tbody>\n",
       "</table>\n",
       "<p>902 rows × 2 columns</p>\n",
       "</div>"
      ],
      "text/plain": [
       "                                                  file      label\n",
       "0    E:\\COURSES\\Advanced Data Science With IBM\\Adva...     NORMAL\n",
       "1    E:\\COURSES\\Advanced Data Science With IBM\\Adva...     NORMAL\n",
       "2    E:\\COURSES\\Advanced Data Science With IBM\\Adva...  PNEUMONIA\n",
       "3    E:\\COURSES\\Advanced Data Science With IBM\\Adva...  PNEUMONIA\n",
       "4    E:\\COURSES\\Advanced Data Science With IBM\\Adva...     NORMAL\n",
       "..                                                 ...        ...\n",
       "897  E:\\COURSES\\Advanced Data Science With IBM\\Adva...     NORMAL\n",
       "898  E:\\COURSES\\Advanced Data Science With IBM\\Adva...  PNEUMONIA\n",
       "899  E:\\COURSES\\Advanced Data Science With IBM\\Adva...     NORMAL\n",
       "900  E:\\COURSES\\Advanced Data Science With IBM\\Adva...  PNEUMONIA\n",
       "901  E:\\COURSES\\Advanced Data Science With IBM\\Adva...     NORMAL\n",
       "\n",
       "[902 rows x 2 columns]"
      ]
     },
     "execution_count": 39,
     "metadata": {},
     "output_type": "execute_result"
    }
   ],
   "source": [
    "validation_df"
   ]
  },
  {
   "cell_type": "markdown",
   "metadata": {},
   "source": [
    "We now have three data sets\n",
    "- train_df (training set)\n",
    "- validation_df (validation set)\n",
    "\n",
    "- test_df (final test set)"
   ]
  },
  {
   "cell_type": "markdown",
   "metadata": {},
   "source": [
    "#### 5. Shape and color of images"
   ]
  },
  {
   "cell_type": "code",
   "execution_count": 40,
   "metadata": {},
   "outputs": [],
   "source": [
    "# Retrieving the geometry of the image and the number of pixels\n",
    "# Images in scikit-image are represented by NumPy ndarrays. \n",
    "# Hence, many common operations can be achieved using standard NumPy methods for manipulating arrays\n",
    "\n",
    "x = []\n",
    "y = []\n",
    "z = []\n",
    "listofdataframes = [train_df, validation_df, test_df]\n",
    "\n",
    "for df in listofdataframes:\n",
    "    for index, row in df.iterrows():\n",
    "        image = row['file']\n",
    "        s = io.imread(image)\n",
    "        x.append(s.shape[0])\n",
    "        y.append(s.shape[1])\n",
    "        if(len(s.shape) == 3):\n",
    "            z.append(1)\n",
    "        else:\n",
    "            z.append(0)"
   ]
  },
  {
   "cell_type": "code",
   "execution_count": 41,
   "metadata": {},
   "outputs": [],
   "source": [
    "df = pd.DataFrame({'x': x,\n",
    "                   'y': y,\n",
    "                   'z': z})"
   ]
  },
  {
   "cell_type": "code",
   "execution_count": 42,
   "metadata": {},
   "outputs": [
    {
     "data": {
      "image/png": "[encoded data removed]",
      "text/plain": [
       "<Figure size 432x288 with 1 Axes>"
      ]
     },
     "metadata": {
      "needs_background": "light"
     },
     "output_type": "display_data"
    }
   ],
   "source": [
    "area = 2\n",
    "plt.scatter(x, y, c=df.z, s=area,  alpha=0.5)\n",
    "plt.title('Image sizes and color')\n",
    "plt.xlabel('x (width)')\n",
    "plt.ylabel('y (height)')\n",
    "classes = [ 'Greyscale', 'RGB']\n",
    "groups = df.groupby('z')\n",
    "for name, group in groups:\n",
    "    name = classes[0] if name == 0 else classes[1]\n",
    "    plt.plot(group.x, group.y, marker='.', linestyle='', markersize=1, label=name)\n",
    "\n",
    "plt.legend(title=\"color\", markerscale=10)\n",
    "\n",
    "plt.show()"
   ]
  },
  {
   "cell_type": "markdown",
   "metadata": {},
   "source": [
    " Since all the images are of different sizes, it will be necessary to reshape them to the same size.\n",
    " Also some are greyscale while other are RGB, so it will be necessary to normalize all images to the same color space (greyscale) "
   ]
  },
  {
   "cell_type": "markdown",
   "metadata": {},
   "source": [
    "## Data Preprocessing\n",
    "\n",
    "The following steps need to be done in the data preprocessing step\n",
    "\n",
    "\n",
    "We perform a grayscale normalization to reduce the effect of illumination's differences.\n",
    "Divide values by 255 to get a value between 0 and 1. \n",
    "\n",
    "#### Image Resize\n",
    "images need to be resized to the same size - both training and test set\n",
    "\n",
    "NOTE: this step will be done within train_datagen.flow_from_dataframe function by setting parameter 'target_size'"
   ]
  },
  {
   "cell_type": "markdown",
   "metadata": {},
   "source": [
    "This is an example using skimage (we are not using this here)"
   ]
  },
  {
   "cell_type": "code",
   "execution_count": 43,
   "metadata": {},
   "outputs": [
    {
     "data": {
      "image/png": "[encoded data removed]",
      "text/plain": [
       "<Figure size 432x288 with 1 Axes>"
      ]
     },
     "metadata": {
      "needs_background": "light"
     },
     "output_type": "display_data"
    },
    {
     "name": "stdout",
     "output_type": "stream",
     "text": [
      "(150, 150)\n"
     ]
    }
   ],
   "source": [
    "from skimage.transform import resize\n",
    "img = io.imread(train_df['file'][0])\n",
    "img_rescaled = resize(img, (150,150))\n",
    "\n",
    "imgplot = plt.imshow(img_rescaled, cmap=\"gray\")\n",
    "plt.show()\n",
    "print(img_rescaled.shape)"
   ]
  },
  {
   "cell_type": "markdown",
   "metadata": {},
   "source": [
    "### Image Augmentation Step"
   ]
  },
  {
   "cell_type": "markdown",
   "metadata": {},
   "source": [
    "In order to avoid overfitting problem, alter the training data with small transformations to reproduce the variations. Approaches that alter the training data in ways that change the array representation while keeping the label the same are known as data augmentation techniques. Some popular augmentations people use are grayscales, horizontal flips, vertical flips, random crops, color jitters, translations, rotations, and much more. By applying just a couple of these transformations to our training data, we can easily double or triple the number of training examples and create a very robust model."
   ]
  },
  {
   "cell_type": "code",
   "execution_count": null,
   "metadata": {},
   "outputs": [],
   "source": []
  },
  {
   "cell_type": "code",
   "execution_count": null,
   "metadata": {},
   "outputs": [],
   "source": []
  },
  {
   "cell_type": "markdown",
   "metadata": {},
   "source": [
    "#### 1. Preprocessing the Training Set\n",
    "\n",
    "Transformation on the images of the training set to avoid overfitting (data augmentation - see above)"
   ]
  },
  {
   "cell_type": "markdown",
   "metadata": {},
   "source": [
    "Randomly zoom by max 5% (zoom will vary randomly between 0 and 5%)\n",
    "\n",
    "Randomly shift images horizontally by max 5% of the width\n",
    "\n",
    "Randomly shift images vertically by max 5% of the height\n",
    "\n",
    "Randomly flip images horizontally. \n",
    "\n",
    "\n",
    "rescale=1./255 divides all the pixels by 255 so they end up between 0 and 1 - normalization"
   ]
  },
  {
   "cell_type": "code",
   "execution_count": 44,
   "metadata": {},
   "outputs": [],
   "source": [
    "#train_datagen = ImageDataGenerator(\n",
    "#        rescale=1./255,\n",
    "#        zoom_range=0.1,\n",
    "#        horizontal_flip=True,\n",
    "#        width_shift_range=0.1,\n",
    "#        height_shift_range=0.1)\n",
    "\n",
    "train_datagen = ImageDataGenerator(\n",
    "        rescale=1./255,\n",
    "        horizontal_flip=True,\n",
    "        width_shift_range=0.05,\n",
    "        height_shift_range=0.05)"
   ]
  },
  {
   "cell_type": "code",
   "execution_count": 45,
   "metadata": {},
   "outputs": [
    {
     "name": "stdout",
     "output_type": "stream",
     "text": [
      "Found 5109 validated image filenames belonging to 2 classes.\n"
     ]
    }
   ],
   "source": [
    "train_set = train_datagen.flow_from_dataframe(\n",
    "    train_df,\n",
    "    directory=None,\n",
    "    x_col=\"file\",\n",
    "    y_col=\"label\",\n",
    "    weight_col=None,\n",
    "    target_size=(128, 128),\n",
    "    color_mode=\"grayscale\",\n",
    "    classes=None,\n",
    "    class_mode=\"binary\",\n",
    "    batch_size=32,\n",
    "    shuffle=True,\n",
    "    seed=200,\n",
    "    save_to_dir=None,\n",
    "    save_prefix=\"\",\n",
    "    save_format=\"png\",\n",
    "    subset=None,\n",
    "    interpolation=\"nearest\",\n",
    ")"
   ]
  },
  {
   "cell_type": "markdown",
   "metadata": {},
   "source": [
    "#### 2. Preprocesing the validation and test set\n",
    "\n",
    "Here we need to keep the images as they were with no modifications but we have to feature scale the images to match the feature scaling done to the test images."
   ]
  },
  {
   "cell_type": "code",
   "execution_count": 46,
   "metadata": {},
   "outputs": [],
   "source": [
    "test_datagen = ImageDataGenerator(\n",
    "        rescale=1./255\n",
    "        )"
   ]
  },
  {
   "cell_type": "code",
   "execution_count": 47,
   "metadata": {},
   "outputs": [],
   "source": [
    "validation_datagen = ImageDataGenerator(\n",
    "        rescale=1./255\n",
    "        )"
   ]
  },
  {
   "cell_type": "code",
   "execution_count": 48,
   "metadata": {},
   "outputs": [
    {
     "name": "stdout",
     "output_type": "stream",
     "text": [
      "Found 902 validated image filenames belonging to 2 classes.\n"
     ]
    }
   ],
   "source": [
    "validation_set = validation_datagen.flow_from_dataframe(\n",
    "    validation_df,\n",
    "    directory=None,\n",
    "    x_col=\"file\",\n",
    "    y_col=\"label\",\n",
    "    weight_col=None,\n",
    "    target_size=(128, 128),\n",
    "    color_mode=\"grayscale\",\n",
    "    classes=None,\n",
    "    class_mode=\"binary\",\n",
    "    batch_size=32,\n",
    "    shuffle=False,\n",
    "    seed=None,\n",
    "    save_to_dir=None,\n",
    "    save_prefix=\"\",\n",
    "    save_format=\"png\",\n",
    "    subset=None,\n",
    "    interpolation=\"nearest\",\n",
    ")"
   ]
  },
  {
   "cell_type": "code",
   "execution_count": 49,
   "metadata": {},
   "outputs": [
    {
     "name": "stdout",
     "output_type": "stream",
     "text": [
      "Found 1060 validated image filenames belonging to 2 classes.\n"
     ]
    }
   ],
   "source": [
    "test_set = test_datagen.flow_from_dataframe(\n",
    "    test_df,\n",
    "    directory=None,\n",
    "    x_col=\"file\",\n",
    "    y_col=\"label\",\n",
    "    weight_col=None,\n",
    "    target_size=(128, 128),\n",
    "    color_mode=\"grayscale\",\n",
    "    classes=None,\n",
    "    class_mode=\"binary\",\n",
    "    batch_size=32,\n",
    "    shuffle=False,\n",
    "    seed=None,\n",
    "    save_to_dir=None,\n",
    "    save_prefix=\"\",\n",
    "    save_format=\"png\",\n",
    "    subset=None,\n",
    "    interpolation=\"nearest\",\n",
    ")"
   ]
  },
  {
   "cell_type": "markdown",
   "metadata": {},
   "source": [
    "###  Calculate class weights\n",
    "\n",
    "We will use the class_weights to correct for class imbalance to avoid a bias towards the majority class.\n",
    "\n",
    "Formula to calculate the weight for a class\n",
    "\n",
    "wj=n_samples / (n_classes * n_samplesj)"
   ]
  },
  {
   "cell_type": "markdown",
   "metadata": {},
   "source": [
    "wj is the weight for class j\n",
    "\n",
    "n_samples is the total number of samples or rows in the dataset\n",
    "\n",
    "n_classes is the total number of unique classes in the target\n",
    "\n",
    "n_samplesj is the total number of rows of the respective class"
   ]
  },
  {
   "cell_type": "code",
   "execution_count": 50,
   "metadata": {},
   "outputs": [
    {
     "name": "stdout",
     "output_type": "stream",
     "text": [
      "                                                   file      label\n",
      "0     E:\\COURSES\\Advanced Data Science With IBM\\Adva...  PNEUMONIA\n",
      "1     E:\\COURSES\\Advanced Data Science With IBM\\Adva...  PNEUMONIA\n",
      "4     E:\\COURSES\\Advanced Data Science With IBM\\Adva...  PNEUMONIA\n",
      "5     E:\\COURSES\\Advanced Data Science With IBM\\Adva...  PNEUMONIA\n",
      "6     E:\\COURSES\\Advanced Data Science With IBM\\Adva...  PNEUMONIA\n",
      "...                                                 ...        ...\n",
      "5101  E:\\COURSES\\Advanced Data Science With IBM\\Adva...  PNEUMONIA\n",
      "5103  E:\\COURSES\\Advanced Data Science With IBM\\Adva...  PNEUMONIA\n",
      "5104  E:\\COURSES\\Advanced Data Science With IBM\\Adva...  PNEUMONIA\n",
      "5106  E:\\COURSES\\Advanced Data Science With IBM\\Adva...  PNEUMONIA\n",
      "5107  E:\\COURSES\\Advanced Data Science With IBM\\Adva...  PNEUMONIA\n",
      "\n",
      "[3006 rows x 2 columns]\n",
      "                                                   file   label\n",
      "2     E:\\COURSES\\Advanced Data Science With IBM\\Adva...  NORMAL\n",
      "3     E:\\COURSES\\Advanced Data Science With IBM\\Adva...  NORMAL\n",
      "9     E:\\COURSES\\Advanced Data Science With IBM\\Adva...  NORMAL\n",
      "10    E:\\COURSES\\Advanced Data Science With IBM\\Adva...  NORMAL\n",
      "18    E:\\COURSES\\Advanced Data Science With IBM\\Adva...  NORMAL\n",
      "...                                                 ...     ...\n",
      "5098  E:\\COURSES\\Advanced Data Science With IBM\\Adva...  NORMAL\n",
      "5100  E:\\COURSES\\Advanced Data Science With IBM\\Adva...  NORMAL\n",
      "5102  E:\\COURSES\\Advanced Data Science With IBM\\Adva...  NORMAL\n",
      "5105  E:\\COURSES\\Advanced Data Science With IBM\\Adva...  NORMAL\n",
      "5108  E:\\COURSES\\Advanced Data Science With IBM\\Adva...  NORMAL\n",
      "\n",
      "[2103 rows x 2 columns]\n"
     ]
    }
   ],
   "source": [
    "pneumonia_df = train_df.loc[train_df['label'] == 'PNEUMONIA']\n",
    "print(pneumonia_df)\n",
    "\n",
    "normal_df = train_df.loc[train_df['label'] == 'NORMAL']\n",
    "print(normal_df)"
   ]
  },
  {
   "cell_type": "code",
   "execution_count": 51,
   "metadata": {},
   "outputs": [
    {
     "name": "stdout",
     "output_type": "stream",
     "text": [
      "Number of pneumonia  3006  and Number of normal  2103\n",
      "weights: pneumonia =  0.8498003992015968 , normal =  1.2146932952924394\n",
      "{'NORMAL': 0, 'PNEUMONIA': 1}\n"
     ]
    }
   ],
   "source": [
    "n_samples = len(train_df)\n",
    "n_classes = 2\n",
    "n_pneumonia = len(pneumonia_df)\n",
    "n_normal = len(normal_df)\n",
    "\n",
    "w_pneumonia = n_samples/(n_classes*n_pneumonia)\n",
    "w_normal = n_samples/(n_classes*n_normal)\n",
    "\n",
    "print(\"Number of pneumonia \", n_pneumonia, \" and Number of normal \", n_normal)\n",
    "print(\"weights: pneumonia = \", w_pneumonia, \", normal = \", w_normal)\n",
    "\n",
    "# get the class indices\n",
    "\n",
    "print(train_set.class_indices)\n",
    "\n",
    "# assign the class weights calculated above\n",
    "# we will use this in the fit() method below\n",
    "\n",
    "class_weight = {0: w_normal, 1: w_pneumonia}\n"
   ]
  },
  {
   "cell_type": "markdown",
   "metadata": {},
   "source": [
    "### Get Data for scikit learn"
   ]
  },
  {
   "cell_type": "code",
   "execution_count": 52,
   "metadata": {},
   "outputs": [
    {
     "name": "stderr",
     "output_type": "stream",
     "text": [
      " 99%|███████████████████████████████████████████████████████████████████████████████▌| 159/160 [00:29<00:00,  5.47it/s]\n"
     ]
    }
   ],
   "source": [
    "x_tr = []\n",
    "y_tr = []\n",
    "\n",
    "batches = 0\n",
    "\n",
    "for inputs,outputs in tqdm(train_set):   \n",
    "    batches += 1\n",
    "    for i in range(len(inputs)):\n",
    "        flat = inputs[i].flatten()\n",
    "        x_tr.append(flat)\n",
    "        y_tr.append(outputs[i])\n",
    "    \n",
    "    if batches >= len(train_df) / 32:\n",
    "    # we need to break the loop by hand because\n",
    "    # the generator loops indefinitely\n",
    "        break"
   ]
  },
  {
   "cell_type": "code",
   "execution_count": 53,
   "metadata": {},
   "outputs": [
    {
     "name": "stderr",
     "output_type": "stream",
     "text": [
      " 97%|███████████████████████████████████████████████████████████████████████████████▏  | 28/29 [00:04<00:00,  6.02it/s]\n"
     ]
    }
   ],
   "source": [
    "x_val = []\n",
    "y_val = []\n",
    "\n",
    "batches = 0\n",
    "\n",
    "for inputs,outputs in tqdm(validation_set):   \n",
    "    batches += 1\n",
    "    for i in range(len(inputs)):\n",
    "        flat = inputs[i].flatten()\n",
    "        x_val.append(flat)\n",
    "        y_val.append(outputs[i])\n",
    "    \n",
    "    if batches >= len(validation_df) / 32:\n",
    "    # we need to break the loop by hand because\n",
    "    # the generator loops indefinitely\n",
    "        break"
   ]
  },
  {
   "cell_type": "code",
   "execution_count": 54,
   "metadata": {},
   "outputs": [
    {
     "name": "stderr",
     "output_type": "stream",
     "text": [
      " 97%|███████████████████████████████████████████████████████████████████████████████▌  | 33/34 [00:04<00:00,  8.07it/s]\n"
     ]
    }
   ],
   "source": [
    "x_test = []\n",
    "y_test = []\n",
    "\n",
    "batches = 0\n",
    "\n",
    "for inputs,outputs in tqdm(test_set):   \n",
    "    batches += 1\n",
    "    for i in range(len(inputs)):\n",
    "        flat = inputs[i].flatten()\n",
    "        x_test.append(flat)\n",
    "        y_test.append(outputs[i])\n",
    "    \n",
    "    if batches >= len(test_df) / 32:\n",
    "    # we need to break the loop by hand because\n",
    "    # the generator loops indefinitely\n",
    "        break"
   ]
  },
  {
   "cell_type": "code",
   "execution_count": null,
   "metadata": {},
   "outputs": [],
   "source": []
  },
  {
   "cell_type": "markdown",
   "metadata": {},
   "source": [
    "## Baseline Model"
   ]
  },
  {
   "cell_type": "code",
   "execution_count": 81,
   "metadata": {},
   "outputs": [],
   "source": [
    "# dictionary to hold fpr and tpr\n",
    "\n",
    "roc = {}"
   ]
  },
  {
   "cell_type": "code",
   "execution_count": 55,
   "metadata": {},
   "outputs": [
    {
     "data": {
      "text/plain": [
       "DummyClassifier(strategy='stratified')"
      ]
     },
     "execution_count": 55,
     "metadata": {},
     "output_type": "execute_result"
    }
   ],
   "source": [
    "clf_baseline = DummyClassifier(strategy=\"stratified\")\n",
    "clf_baseline.fit(x_tr, y_tr)"
   ]
  },
  {
   "cell_type": "code",
   "execution_count": 56,
   "metadata": {},
   "outputs": [
    {
     "name": "stdout",
     "output_type": "stream",
     "text": [
      "confusion matrix\n",
      "[[152 247]\n",
      " [212 291]]\n"
     ]
    },
    {
     "data": {
      "image/png": "[encoded data removed]",
      "text/plain": [
       "<Figure size 360x360 with 1 Axes>"
      ]
     },
     "metadata": {
      "needs_background": "light"
     },
     "output_type": "display_data"
    }
   ],
   "source": [
    "pred_baseline = clf_baseline.predict_proba(x_val)\n",
    "CM_baseline = confusion_matrix(validation_set.classes, np.argmax(pred_baseline, axis=1))\n",
    "print(\"confusion matrix\")\n",
    "print(CM_baseline)\n",
    "fig, ax = plot_confusion_matrix(conf_mat=CM_baseline ,  figsize=(5, 5))\n",
    "plt.show()"
   ]
  },
  {
   "cell_type": "code",
   "execution_count": 82,
   "metadata": {},
   "outputs": [
    {
     "data": {
      "text/plain": [
       "<matplotlib.legend.Legend at 0x29b9315bb38>"
      ]
     },
     "execution_count": 82,
     "metadata": {},
     "output_type": "execute_result"
    },
    {
     "data": {
      "image/png": "[encoded data removed]",
      "text/plain": [
       "<Figure size 432x288 with 1 Axes>"
      ]
     },
     "metadata": {
      "needs_background": "light"
     },
     "output_type": "display_data"
    }
   ],
   "source": [
    "fpr, tpr, thresholds = metrics.roc_curve(y_val, pred_baseline[:,1])\n",
    "auc = metrics.roc_auc_score(y_val,pred_baseline[:,1])\n",
    "roc['baseline'] = [fpr,tpr,auc]\n",
    "\n",
    "plt.plot(fpr, tpr, label='%s ROC (area = %0.2f)' % ('baseline', auc))\n",
    "plt.legend(loc=0)"
   ]
  },
  {
   "cell_type": "code",
   "execution_count": null,
   "metadata": {},
   "outputs": [],
   "source": []
  },
  {
   "cell_type": "markdown",
   "metadata": {},
   "source": [
    "### Naive Bayes Classifier"
   ]
  },
  {
   "cell_type": "code",
   "execution_count": 58,
   "metadata": {},
   "outputs": [],
   "source": [
    "\n",
    "clf_naive = GaussianNB().fit(x_tr, y_tr)\n",
    "pred_naive = clf_naive.predict_proba(x_val)"
   ]
  },
  {
   "cell_type": "code",
   "execution_count": 59,
   "metadata": {},
   "outputs": [],
   "source": [
    "pred_naive_ = np.argmax(pred_naive, axis=1)"
   ]
  },
  {
   "cell_type": "code",
   "execution_count": 60,
   "metadata": {},
   "outputs": [
    {
     "name": "stdout",
     "output_type": "stream",
     "text": [
      "confusion matrix\n",
      "[[367  32]\n",
      " [118 385]]\n"
     ]
    },
    {
     "data": {
      "image/png": "[encoded data removed]",
      "text/plain": [
       "<Figure size 360x360 with 1 Axes>"
      ]
     },
     "metadata": {
      "needs_background": "light"
     },
     "output_type": "display_data"
    }
   ],
   "source": [
    "CM_naive = confusion_matrix(validation_set.classes, pred_naive_)\n",
    "print(\"confusion matrix\")\n",
    "print(CM_naive)\n",
    "fig, ax = plot_confusion_matrix(conf_mat=CM_naive ,  figsize=(5, 5))\n",
    "plt.show()"
   ]
  },
  {
   "cell_type": "code",
   "execution_count": 83,
   "metadata": {},
   "outputs": [],
   "source": [
    "fpr, tpr, thresholds = metrics.roc_curve(y_val, pred_naive[:,1])\n",
    "auc = metrics.roc_auc_score(y_val,pred_naive[:,1])\n",
    "roc['naive bayes'] = [fpr,tpr,auc]"
   ]
  },
  {
   "cell_type": "code",
   "execution_count": 62,
   "metadata": {},
   "outputs": [
    {
     "data": {
      "text/plain": [
       "<matplotlib.legend.Legend at 0x29b8ae396a0>"
      ]
     },
     "execution_count": 62,
     "metadata": {},
     "output_type": "execute_result"
    },
    {
     "data": {
      "image/png": "[encoded data removed]",
      "text/plain": [
       "<Figure size 432x288 with 1 Axes>"
      ]
     },
     "metadata": {
      "needs_background": "light"
     },
     "output_type": "display_data"
    }
   ],
   "source": [
    "plt.plot(fpr, tpr, label='%s ROC (area = %0.2f)' % ('naive', auc))\n",
    "plt.legend(loc=0)"
   ]
  },
  {
   "cell_type": "code",
   "execution_count": null,
   "metadata": {},
   "outputs": [],
   "source": []
  },
  {
   "cell_type": "markdown",
   "metadata": {},
   "source": [
    "### Random Forest Classifier"
   ]
  },
  {
   "cell_type": "code",
   "execution_count": 63,
   "metadata": {},
   "outputs": [],
   "source": [
    "clf_randomforest = RandomForestClassifier(max_depth=2, random_state=0)"
   ]
  },
  {
   "cell_type": "code",
   "execution_count": 64,
   "metadata": {},
   "outputs": [
    {
     "data": {
      "text/plain": [
       "RandomForestClassifier(max_depth=2, random_state=0)"
      ]
     },
     "execution_count": 64,
     "metadata": {},
     "output_type": "execute_result"
    }
   ],
   "source": [
    "clf_randomforest.fit(x_tr, y_tr)"
   ]
  },
  {
   "cell_type": "code",
   "execution_count": 65,
   "metadata": {},
   "outputs": [],
   "source": [
    "pred_randomforest = clf_randomforest.predict_proba(x_val)"
   ]
  },
  {
   "cell_type": "code",
   "execution_count": 66,
   "metadata": {},
   "outputs": [
    {
     "name": "stdout",
     "output_type": "stream",
     "text": [
      "              precision    recall  f1-score   support\n",
      "\n",
      "         0.0       0.74      0.84      0.79       399\n",
      "         1.0       0.86      0.77      0.81       503\n",
      "\n",
      "    accuracy                           0.80       902\n",
      "   macro avg       0.80      0.80      0.80       902\n",
      "weighted avg       0.81      0.80      0.80       902\n",
      "\n"
     ]
    }
   ],
   "source": [
    "print(classification_report(y_val, np.argmax(pred_randomforest, axis=1)))"
   ]
  },
  {
   "cell_type": "code",
   "execution_count": 67,
   "metadata": {},
   "outputs": [
    {
     "name": "stdout",
     "output_type": "stream",
     "text": [
      "confusion matrix\n",
      "[[335  64]\n",
      " [118 385]]\n"
     ]
    },
    {
     "data": {
      "image/png": "[encoded data removed]",
      "text/plain": [
       "<Figure size 360x360 with 1 Axes>"
      ]
     },
     "metadata": {
      "needs_background": "light"
     },
     "output_type": "display_data"
    }
   ],
   "source": [
    "CM_rfc = confusion_matrix(validation_set.classes, np.argmax(pred_randomforest, axis=1))\n",
    "print(\"confusion matrix\")\n",
    "print(CM_rfc)\n",
    "\n",
    "fig, ax = plot_confusion_matrix(conf_mat=CM_rfc ,  figsize=(5, 5))\n",
    "plt.show()"
   ]
  },
  {
   "cell_type": "code",
   "execution_count": 84,
   "metadata": {},
   "outputs": [
    {
     "data": {
      "text/plain": [
       "<matplotlib.legend.Legend at 0x29b8afda978>"
      ]
     },
     "execution_count": 84,
     "metadata": {},
     "output_type": "execute_result"
    },
    {
     "data": {
      "image/png": "[encoded data removed]",
      "text/plain": [
       "<Figure size 432x288 with 1 Axes>"
      ]
     },
     "metadata": {
      "needs_background": "light"
     },
     "output_type": "display_data"
    }
   ],
   "source": [
    "fpr, tpr, thresholds = metrics.roc_curve(y_val, pred_randomforest[:,1])\n",
    "auc = metrics.roc_auc_score(y_val,pred_randomforest[:,1])\n",
    "roc['random forest'] = [fpr,tpr,auc]\n",
    "\n",
    "plt.plot(fpr, tpr, label='%s ROC (area = %0.2f)' % ('rfc', auc))\n",
    "plt.legend(loc=0)"
   ]
  },
  {
   "cell_type": "markdown",
   "metadata": {},
   "source": [
    "### Support Vector Machine"
   ]
  },
  {
   "cell_type": "code",
   "execution_count": 88,
   "metadata": {},
   "outputs": [
    {
     "data": {
      "text/plain": [
       "SVC()"
      ]
     },
     "execution_count": 88,
     "metadata": {},
     "output_type": "execute_result"
    }
   ],
   "source": [
    "\n",
    "clf_svm = svm.SVC()\n",
    "clf_svm.fit(x_tr, y_tr)"
   ]
  },
  {
   "cell_type": "code",
   "execution_count": 89,
   "metadata": {},
   "outputs": [],
   "source": [
    "pred_svm = clf_svm.predict(x_val)"
   ]
  },
  {
   "cell_type": "code",
   "execution_count": 90,
   "metadata": {},
   "outputs": [],
   "source": [
    "p = np.array(clf_svm.decision_function(x_val))"
   ]
  },
  {
   "cell_type": "code",
   "execution_count": 91,
   "metadata": {},
   "outputs": [],
   "source": [
    "prob = np.exp(p)/np.sum(np.exp(p), keepdims=True)"
   ]
  },
  {
   "cell_type": "code",
   "execution_count": null,
   "metadata": {},
   "outputs": [],
   "source": []
  },
  {
   "cell_type": "code",
   "execution_count": 92,
   "metadata": {},
   "outputs": [
    {
     "name": "stdout",
     "output_type": "stream",
     "text": [
      "              precision    recall  f1-score   support\n",
      "\n",
      "         0.0       0.92      0.96      0.94       399\n",
      "         1.0       0.97      0.93      0.95       503\n",
      "\n",
      "    accuracy                           0.94       902\n",
      "   macro avg       0.94      0.95      0.94       902\n",
      "weighted avg       0.94      0.94      0.94       902\n",
      "\n"
     ]
    }
   ],
   "source": [
    "print(classification_report(y_val, pred_svm))"
   ]
  },
  {
   "cell_type": "code",
   "execution_count": 93,
   "metadata": {},
   "outputs": [
    {
     "name": "stdout",
     "output_type": "stream",
     "text": [
      "confusion matrix\n",
      "[[383  16]\n",
      " [ 35 468]]\n"
     ]
    },
    {
     "data": {
      "image/png": "[encoded data removed]",
      "text/plain": [
       "<Figure size 360x360 with 1 Axes>"
      ]
     },
     "metadata": {
      "needs_background": "light"
     },
     "output_type": "display_data"
    }
   ],
   "source": [
    "CM_svm = confusion_matrix(validation_set.classes, pred_svm)\n",
    "print(\"confusion matrix\")\n",
    "print(CM_svm)\n",
    "\n",
    "fig, ax = plot_confusion_matrix(conf_mat=CM_svm ,  figsize=(5, 5))\n",
    "plt.show()"
   ]
  },
  {
   "cell_type": "code",
   "execution_count": null,
   "metadata": {},
   "outputs": [],
   "source": []
  },
  {
   "cell_type": "code",
   "execution_count": 94,
   "metadata": {},
   "outputs": [
    {
     "data": {
      "text/plain": [
       "<matplotlib.legend.Legend at 0x29b931b7e80>"
      ]
     },
     "execution_count": 94,
     "metadata": {},
     "output_type": "execute_result"
    },
    {
     "data": {
      "image/png": "[encoded data removed]",
      "text/plain": [
       "<Figure size 432x288 with 1 Axes>"
      ]
     },
     "metadata": {
      "needs_background": "light"
     },
     "output_type": "display_data"
    }
   ],
   "source": [
    "fpr, tpr, thresholds = metrics.roc_curve(y_val, prob)\n",
    "auc = metrics.roc_auc_score(y_val,pred_svm)\n",
    "roc['svm'] = [fpr,tpr,auc]\n",
    "\n",
    "plt.plot(fpr, tpr, label='%s ROC (area = %0.2f)' % ('svm', auc))\n",
    "plt.legend(loc=0)"
   ]
  },
  {
   "cell_type": "markdown",
   "metadata": {},
   "source": [
    "### Plot combined ROC curves"
   ]
  },
  {
   "cell_type": "code",
   "execution_count": 95,
   "metadata": {},
   "outputs": [
    {
     "data": {
      "image/png": "[encoded data removed]",
      "text/plain": [
       "<Figure size 432x288 with 1 Axes>"
      ]
     },
     "metadata": {
      "needs_background": "light"
     },
     "output_type": "display_data"
    }
   ],
   "source": [
    "for key, value in roc.items():\n",
    "    plt.plot(value[0], value[1], label='%s ROC (area = %0.2f)' % (key, value[2]))\n",
    "\n",
    "plt.legend()\n",
    "plt.xlabel(\"FPR\")\n",
    "plt.ylabel(\"TPR\")\n",
    "plt.title('Receiver Operating Characteristic')\n",
    "plt.show()"
   ]
  },
  {
   "cell_type": "code",
   "execution_count": null,
   "metadata": {},
   "outputs": [],
   "source": [
    "param_range = np.logspace(-6, -1, 5)\n",
    "train_scores, valid_scores = validation_curve(svm.SVC(), x_tr, y_tr, param_name=\"gamma\", param_range=param_range, scoring=\"accuracy\", n_jobs=1)\n",
    "train_scores_mean = np.mean(train_scores, axis=1)\n",
    "train_scores_std = np.std(train_scores, axis=1)\n",
    "test_scores_mean = np.mean(test_scores, axis=1)\n",
    "test_scores_std = np.std(test_scores, axis=1)\n",
    "\n",
    "plt.title(\"Validation Curve with SVM\")\n",
    "plt.xlabel(r\"$\\gamma$\")\n",
    "plt.ylabel(\"Score\")\n",
    "plt.ylim(0.0, 1.1)\n",
    "lw = 2\n",
    "plt.semilogx(param_range, train_scores_mean, label=\"Training score\",\n",
    "             color=\"darkorange\", lw=lw)\n",
    "plt.fill_between(param_range, train_scores_mean - train_scores_std,\n",
    "                 train_scores_mean + train_scores_std, alpha=0.2,\n",
    "                 color=\"darkorange\", lw=lw)\n",
    "plt.semilogx(param_range, test_scores_mean, label=\"Cross-validation score\",\n",
    "             color=\"navy\", lw=lw)\n",
    "plt.fill_between(param_range, test_scores_mean - test_scores_std,\n",
    "                 test_scores_mean + test_scores_std, alpha=0.2,\n",
    "                 color=\"navy\", lw=lw)\n",
    "plt.legend(loc=\"best\")\n",
    "plt.show()"
   ]
  },
  {
   "cell_type": "markdown",
   "metadata": {},
   "source": [
    "## Deep Neural Nets"
   ]
  },
  {
   "cell_type": "markdown",
   "metadata": {},
   "source": [
    "### Define Metrics"
   ]
  },
  {
   "cell_type": "code",
   "execution_count": 135,
   "metadata": {},
   "outputs": [],
   "source": [
    "METRICS = [\n",
    "        'accuracy',\n",
    "        tf.keras.metrics.Precision(name='precision'),\n",
    "        tf.keras.metrics.Recall(name='recall'),\n",
    "        tf.keras.metrics.AUC(name='auc')\n",
    "    ]"
   ]
  },
  {
   "cell_type": "code",
   "execution_count": null,
   "metadata": {},
   "outputs": [],
   "source": []
  },
  {
   "cell_type": "markdown",
   "metadata": {},
   "source": [
    "### Building CNN-1"
   ]
  },
  {
   "cell_type": "code",
   "execution_count": 136,
   "metadata": {},
   "outputs": [],
   "source": [
    "cnn_1 = tf.keras.models.Sequential()\n",
    "#cnn_1.add(tf.keras.layers.Cropping2D(cropping=((8, 8), (8, 8)), input_shape=(256,256,1)))"
   ]
  },
  {
   "cell_type": "markdown",
   "metadata": {},
   "source": [
    "#### 1. Convolution and Pooling"
   ]
  },
  {
   "cell_type": "code",
   "execution_count": 137,
   "metadata": {},
   "outputs": [],
   "source": [
    "#cnn_1.add(tf.keras.layers.Conv2D(filters=8, kernel_size=3, activation='relu' ))\n",
    "cnn_1.add(tf.keras.layers.Conv2D(filters=8, kernel_size=3, activation='relu', input_shape=(128,128,1) ))\n",
    "\n",
    "cnn_1.add(tf.keras.layers.MaxPool2D(pool_size=2, strides=2, padding = 'same'))"
   ]
  },
  {
   "cell_type": "markdown",
   "metadata": {},
   "source": [
    "#### 3. Add a additional Convolutional and Pooling Layer"
   ]
  },
  {
   "cell_type": "code",
   "execution_count": 138,
   "metadata": {},
   "outputs": [],
   "source": [
    "#cnn.add(tf.keras.layers.Conv2D(filters = 16, kernel_size = 3, activation='relu'))\n",
    "#cnn.add(tf.keras.layers.MaxPool2D(pool_size=2, strides=2, padding = 'same'))\n",
    "\n",
    "cnn_1.add(tf.keras.layers.Conv2D(filters = 32, kernel_size = 3, activation = 'relu'))\n",
    "cnn_1.add(tf.keras.layers.MaxPool2D(pool_size=2, strides=2, padding = 'same'))\n",
    "\n",
    "cnn_1.add(tf.keras.layers.Conv2D(filters = 64, kernel_size = 3, activation = 'relu'))\n",
    "cnn_1.add(tf.keras.layers.MaxPool2D(pool_size=2, strides=2, padding = 'same'))"
   ]
  },
  {
   "cell_type": "markdown",
   "metadata": {},
   "source": [
    "#### 4. Flattening"
   ]
  },
  {
   "cell_type": "code",
   "execution_count": 139,
   "metadata": {},
   "outputs": [],
   "source": [
    "cnn_1.add(tf.keras.layers.Flatten())"
   ]
  },
  {
   "cell_type": "markdown",
   "metadata": {},
   "source": [
    "#### 5. Full Connection"
   ]
  },
  {
   "cell_type": "code",
   "execution_count": 140,
   "metadata": {},
   "outputs": [],
   "source": [
    "#units = number of hidden neurons - larger number better for images\n",
    "cnn_1.add(tf.keras.layers.Dense(units=128, activation='relu'))\n",
    "cnn_1.add(tf.keras.layers.Dropout(0.5))"
   ]
  },
  {
   "cell_type": "markdown",
   "metadata": {},
   "source": [
    "#### 6. Output Layer"
   ]
  },
  {
   "cell_type": "code",
   "execution_count": 141,
   "metadata": {},
   "outputs": [],
   "source": [
    "#units = 1 for binary classification\n",
    "cnn_1.add(tf.keras.layers.Dense(units=1, activation='sigmoid'))"
   ]
  },
  {
   "cell_type": "markdown",
   "metadata": {},
   "source": [
    "#### 7. Compiling the CNN"
   ]
  },
  {
   "cell_type": "code",
   "execution_count": 142,
   "metadata": {},
   "outputs": [
    {
     "name": "stdout",
     "output_type": "stream",
     "text": [
      "Model: \"sequential_8\"\n",
      "_________________________________________________________________\n",
      "Layer (type)                 Output Shape              Param #   \n",
      "=================================================================\n",
      "conv2d_27 (Conv2D)           (None, 126, 126, 8)       80        \n",
      "_________________________________________________________________\n",
      "max_pooling2d_27 (MaxPooling (None, 63, 63, 8)         0         \n",
      "_________________________________________________________________\n",
      "conv2d_28 (Conv2D)           (None, 61, 61, 32)        2336      \n",
      "_________________________________________________________________\n",
      "max_pooling2d_28 (MaxPooling (None, 31, 31, 32)        0         \n",
      "_________________________________________________________________\n",
      "conv2d_29 (Conv2D)           (None, 29, 29, 64)        18496     \n",
      "_________________________________________________________________\n",
      "max_pooling2d_29 (MaxPooling (None, 15, 15, 64)        0         \n",
      "_________________________________________________________________\n",
      "flatten_7 (Flatten)          (None, 14400)             0         \n",
      "_________________________________________________________________\n",
      "dense_14 (Dense)             (None, 128)               1843328   \n",
      "_________________________________________________________________\n",
      "dropout_16 (Dropout)         (None, 128)               0         \n",
      "_________________________________________________________________\n",
      "dense_15 (Dense)             (None, 1)                 129       \n",
      "=================================================================\n",
      "Total params: 1,864,369\n",
      "Trainable params: 1,864,369\n",
      "Non-trainable params: 0\n",
      "_________________________________________________________________\n"
     ]
    }
   ],
   "source": [
    "cnn_1.compile(optimizer='adam', loss='binary_crossentropy', metrics=METRICS)\n",
    "cnn_1.summary()"
   ]
  },
  {
   "cell_type": "markdown",
   "metadata": {},
   "source": [
    " "
   ]
  },
  {
   "cell_type": "markdown",
   "metadata": {},
   "source": [
    "### Building CNN-2"
   ]
  },
  {
   "cell_type": "code",
   "execution_count": 143,
   "metadata": {},
   "outputs": [
    {
     "name": "stdout",
     "output_type": "stream",
     "text": [
      "Model: \"sequential_9\"\n",
      "_________________________________________________________________\n",
      "Layer (type)                 Output Shape              Param #   \n",
      "=================================================================\n",
      "conv2d_30 (Conv2D)           (None, 128, 128, 32)      320       \n",
      "_________________________________________________________________\n",
      "max_pooling2d_30 (MaxPooling (None, 64, 64, 32)        0         \n",
      "_________________________________________________________________\n",
      "conv2d_31 (Conv2D)           (None, 64, 64, 64)        18496     \n",
      "_________________________________________________________________\n",
      "dropout_17 (Dropout)         (None, 64, 64, 64)        0         \n",
      "_________________________________________________________________\n",
      "max_pooling2d_31 (MaxPooling (None, 32, 32, 64)        0         \n",
      "_________________________________________________________________\n",
      "conv2d_32 (Conv2D)           (None, 32, 32, 64)        36928     \n",
      "_________________________________________________________________\n",
      "max_pooling2d_32 (MaxPooling (None, 16, 16, 64)        0         \n",
      "_________________________________________________________________\n",
      "conv2d_33 (Conv2D)           (None, 16, 16, 128)       73856     \n",
      "_________________________________________________________________\n",
      "dropout_18 (Dropout)         (None, 16, 16, 128)       0         \n",
      "_________________________________________________________________\n",
      "max_pooling2d_33 (MaxPooling (None, 8, 8, 128)         0         \n",
      "_________________________________________________________________\n",
      "conv2d_34 (Conv2D)           (None, 8, 8, 256)         295168    \n",
      "_________________________________________________________________\n",
      "dropout_19 (Dropout)         (None, 8, 8, 256)         0         \n",
      "_________________________________________________________________\n",
      "max_pooling2d_34 (MaxPooling (None, 4, 4, 256)         0         \n",
      "_________________________________________________________________\n",
      "flatten_8 (Flatten)          (None, 4096)              0         \n",
      "_________________________________________________________________\n",
      "dense_16 (Dense)             (None, 128)               524416    \n",
      "_________________________________________________________________\n",
      "dropout_20 (Dropout)         (None, 128)               0         \n",
      "_________________________________________________________________\n",
      "dense_17 (Dense)             (None, 1)                 129       \n",
      "=================================================================\n",
      "Total params: 949,313\n",
      "Trainable params: 949,313\n",
      "Non-trainable params: 0\n",
      "_________________________________________________________________\n"
     ]
    }
   ],
   "source": [
    "cnn_2 = tf.keras.models.Sequential()\n",
    "#cnn_2.add(tf.keras.layers.Cropping2D(cropping=((8, 8), (8, 8)), input_shape=(256,256,1)))\n",
    "cnn_2.add(tf.keras.layers.Conv2D(32 , (3,3) , strides = 1 , padding = 'same' , activation = 'relu', input_shape=(128,128,1) ))\n",
    "\n",
    "cnn_2.add(tf.keras.layers.MaxPool2D((2,2) , strides = 2 , padding = 'same'))\n",
    "cnn_2.add(tf.keras.layers.Conv2D(64 , (3,3) , strides = 1 , padding = 'same' , activation = 'relu'))\n",
    "cnn_2.add(tf.keras.layers.Dropout(0.1))\n",
    "\n",
    "cnn_2.add(tf.keras.layers.MaxPool2D((2,2) , strides = 2 , padding = 'same'))\n",
    "cnn_2.add(tf.keras.layers.Conv2D(64 , (3,3) , strides = 1 , padding = 'same' , activation = 'relu'))\n",
    "\n",
    "cnn_2.add(tf.keras.layers.MaxPool2D((2,2) , strides = 2 , padding = 'same'))\n",
    "cnn_2.add(tf.keras.layers.Conv2D(128 , (3,3) , strides = 1 , padding = 'same' , activation = 'relu'))\n",
    "cnn_2.add(tf.keras.layers.Dropout(0.2))\n",
    "\n",
    "cnn_2.add(tf.keras.layers.MaxPool2D((2,2) , strides = 2 , padding = 'same'))\n",
    "cnn_2.add(tf.keras.layers.Conv2D(256 , (3,3) , strides = 1 , padding = 'same' , activation = 'relu'))\n",
    "cnn_2.add(tf.keras.layers.Dropout(0.2))\n",
    "\n",
    "cnn_2.add(tf.keras.layers.MaxPool2D((2,2) , strides = 2 , padding = 'same'))\n",
    "cnn_2.add(tf.keras.layers.Flatten())\n",
    "cnn_2.add(tf.keras.layers.Dense(units = 128 , activation = 'relu'))\n",
    "cnn_2.add(tf.keras.layers.Dropout(0.2))\n",
    "cnn_2.add(tf.keras.layers.Dense(units = 1 , activation = 'sigmoid'))\n",
    "cnn_2.compile(optimizer = \"adam\" , loss = 'binary_crossentropy' , metrics = METRICS)\n",
    "cnn_2.summary()"
   ]
  },
  {
   "cell_type": "code",
   "execution_count": null,
   "metadata": {},
   "outputs": [],
   "source": []
  },
  {
   "cell_type": "markdown",
   "metadata": {},
   "source": [
    "#### 3.1 Training CNN-1"
   ]
  },
  {
   "cell_type": "code",
   "execution_count": 144,
   "metadata": {
    "scrolled": false
   },
   "outputs": [
    {
     "name": "stdout",
     "output_type": "stream",
     "text": [
      "Epoch 1/25\n",
      "160/160 [==============================] - 34s 206ms/step - loss: 0.5210 - accuracy: 0.7127 - precision: 0.7988 - recall: 0.6518 - auc: 0.8018 - val_loss: 0.1582 - val_accuracy: 0.9346 - val_precision: 0.9269 - val_recall: 0.9583 - val_auc: 0.9847\n",
      "Epoch 2/25\n",
      "160/160 [==============================] - 33s 203ms/step - loss: 0.1797 - accuracy: 0.9307 - precision: 0.9503 - recall: 0.9295 - auc: 0.9800 - val_loss: 0.1286 - val_accuracy: 0.9512 - val_precision: 0.9732 - val_recall: 0.9384 - val_auc: 0.9907\n",
      "Epoch 3/25\n",
      "160/160 [==============================] - 33s 204ms/step - loss: 0.1725 - accuracy: 0.9375 - precision: 0.9578 - recall: 0.9358 - auc: 0.9809 - val_loss: 0.1085 - val_accuracy: 0.9612 - val_precision: 0.9699 - val_recall: 0.9602 - val_auc: 0.9926\n",
      "Epoch 4/25\n",
      "160/160 [==============================] - 33s 204ms/step - loss: 0.1553 - accuracy: 0.9379 - precision: 0.9645 - recall: 0.9285 - auc: 0.9850 - val_loss: 0.1019 - val_accuracy: 0.9579 - val_precision: 0.9568 - val_recall: 0.9682 - val_auc: 0.9940\n",
      "Epoch 5/25\n",
      "160/160 [==============================] - 33s 205ms/step - loss: 0.1282 - accuracy: 0.9555 - precision: 0.9726 - recall: 0.9517 - auc: 0.9894 - val_loss: 0.1127 - val_accuracy: 0.9534 - val_precision: 0.9873 - val_recall: 0.9284 - val_auc: 0.9947- accuracy: 0.9563 - precision: 0.97\n",
      "Epoch 6/25\n",
      "160/160 [==============================] - 34s 212ms/step - loss: 0.1386 - accuracy: 0.9465 - precision: 0.9658 - recall: 0.9425 - auc: 0.9879 - val_loss: 0.0876 - val_accuracy: 0.9678 - val_precision: 0.9778 - val_recall: 0.9642 - val_auc: 0.9957\n",
      "Epoch 7/25\n",
      "160/160 [==============================] - 33s 208ms/step - loss: 0.1147 - accuracy: 0.9560 - precision: 0.9705 - recall: 0.9545 - auc: 0.9915 - val_loss: 0.0881 - val_accuracy: 0.9645 - val_precision: 0.9896 - val_recall: 0.9463 - val_auc: 0.9964\n",
      "Epoch 8/25\n",
      "160/160 [==============================] - 34s 211ms/step - loss: 0.1109 - accuracy: 0.9632 - precision: 0.9748 - recall: 0.9627 - auc: 0.9920 - val_loss: 0.0970 - val_accuracy: 0.9667 - val_precision: 0.9917 - val_recall: 0.9483 - val_auc: 0.9951\n",
      "Epoch 9/25\n",
      "160/160 [==============================] - 34s 210ms/step - loss: 0.0889 - accuracy: 0.9672 - precision: 0.9814 - recall: 0.9624 - auc: 0.9946 - val_loss: 0.0915 - val_accuracy: 0.9645 - val_precision: 0.9916 - val_recall: 0.9443 - val_auc: 0.9962\n",
      "Epoch 10/25\n",
      "160/160 [==============================] - 33s 207ms/step - loss: 0.0932 - accuracy: 0.9658 - precision: 0.9816 - recall: 0.9598 - auc: 0.9934 - val_loss: 0.0853 - val_accuracy: 0.9690 - val_precision: 0.9897 - val_recall: 0.9543 - val_auc: 0.9958\n",
      "Epoch 11/25\n",
      "160/160 [==============================] - 33s 209ms/step - loss: 0.0938 - accuracy: 0.9665 - precision: 0.9804 - recall: 0.9619 - auc: 0.9943 - val_loss: 0.0632 - val_accuracy: 0.9767 - val_precision: 0.9879 - val_recall: 0.9702 - val_auc: 0.9975\n",
      "Epoch 12/25\n",
      "160/160 [==============================] - 33s 207ms/step - loss: 0.0840 - accuracy: 0.9686 - precision: 0.9815 - recall: 0.9646 - auc: 0.9956 - val_loss: 0.0596 - val_accuracy: 0.9789 - val_precision: 0.9859 - val_recall: 0.9761 - val_auc: 0.9978\n",
      "Epoch 13/25\n",
      "160/160 [==============================] - 33s 209ms/step - loss: 0.0821 - accuracy: 0.9681 - precision: 0.9829 - recall: 0.9628 - auc: 0.9950 - val_loss: 0.1051 - val_accuracy: 0.9579 - val_precision: 1.0000 - val_recall: 0.9245 - val_auc: 0.9966\n",
      "Epoch 14/25\n",
      "160/160 [==============================] - 33s 206ms/step - loss: 0.0865 - accuracy: 0.9680 - precision: 0.9826 - recall: 0.9638 - auc: 0.9950 - val_loss: 0.0852 - val_accuracy: 0.9701 - val_precision: 0.9979 - val_recall: 0.9483 - val_auc: 0.9963\n",
      "Epoch 15/25\n",
      "160/160 [==============================] - 33s 207ms/step - loss: 0.0849 - accuracy: 0.9702 - precision: 0.9812 - recall: 0.9679 - auc: 0.9944 - val_loss: 0.0913 - val_accuracy: 0.9634 - val_precision: 0.9958 - val_recall: 0.9384 - val_auc: 0.9971\n",
      "Epoch 16/25\n",
      "160/160 [==============================] - 33s 207ms/step - loss: 0.0740 - accuracy: 0.9739 - precision: 0.9854 - recall: 0.9695 - auc: 0.9966 - val_loss: 0.0597 - val_accuracy: 0.9834 - val_precision: 0.9939 - val_recall: 0.9761 - val_auc: 0.9977\n",
      "Epoch 17/25\n",
      "160/160 [==============================] - 33s 206ms/step - loss: 0.0712 - accuracy: 0.9758 - precision: 0.9856 - recall: 0.9723 - auc: 0.9961 - val_loss: 0.0684 - val_accuracy: 0.9778 - val_precision: 0.9959 - val_recall: 0.9642 - val_auc: 0.9969\n",
      "Epoch 18/25\n",
      "160/160 [==============================] - 33s 207ms/step - loss: 0.0844 - accuracy: 0.9692 - precision: 0.9824 - recall: 0.9644 - auc: 0.9952 - val_loss: 0.0786 - val_accuracy: 0.9701 - val_precision: 0.9958 - val_recall: 0.9503 - val_auc: 0.9976\n",
      "Epoch 19/25\n",
      "160/160 [==============================] - 33s 206ms/step - loss: 0.0787 - accuracy: 0.9728 - precision: 0.9854 - recall: 0.9676 - auc: 0.9956 - val_loss: 0.0687 - val_accuracy: 0.9734 - val_precision: 0.9878 - val_recall: 0.9642 - val_auc: 0.9963\n",
      "Epoch 20/25\n",
      "160/160 [==============================] - 33s 206ms/step - loss: 0.0728 - accuracy: 0.9731 - precision: 0.9803 - recall: 0.9725 - auc: 0.9962 - val_loss: 0.0575 - val_accuracy: 0.9812 - val_precision: 0.9959 - val_recall: 0.9702 - val_auc: 0.9979\n",
      "Epoch 21/25\n",
      "160/160 [==============================] - 33s 206ms/step - loss: 0.0667 - accuracy: 0.9700 - precision: 0.9825 - recall: 0.9657 - auc: 0.9973 - val_loss: 0.0578 - val_accuracy: 0.9800 - val_precision: 0.9939 - val_recall: 0.9702 - val_auc: 0.9976\n",
      "Epoch 22/25\n",
      "160/160 [==============================] - 33s 206ms/step - loss: 0.0658 - accuracy: 0.9754 - precision: 0.9869 - recall: 0.9717 - auc: 0.9964 - val_loss: 0.0634 - val_accuracy: 0.9812 - val_precision: 0.9959 - val_recall: 0.9702 - val_auc: 0.9958\n",
      "Epoch 23/25\n",
      "160/160 [==============================] - 33s 206ms/step - loss: 0.0705 - accuracy: 0.9757 - precision: 0.9863 - recall: 0.9720 - auc: 0.9960 - val_loss: 0.0750 - val_accuracy: 0.9745 - val_precision: 0.9959 - val_recall: 0.9583 - val_auc: 0.9951\n",
      "Epoch 24/25\n",
      "160/160 [==============================] - 33s 207ms/step - loss: 0.0666 - accuracy: 0.9760 - precision: 0.9862 - recall: 0.9735 - auc: 0.9961 - val_loss: 0.0601 - val_accuracy: 0.9812 - val_precision: 0.9959 - val_recall: 0.9702 - val_auc: 0.9975\n",
      "Epoch 25/25\n",
      "160/160 [==============================] - 33s 206ms/step - loss: 0.0705 - accuracy: 0.9738 - precision: 0.9837 - recall: 0.9719 - auc: 0.9961 - val_loss: 0.0442 - val_accuracy: 0.9834 - val_precision: 0.9919 - val_recall: 0.9781 - val_auc: 0.9980\n"
     ]
    }
   ],
   "source": [
    "# NOTE - cannot use the validation_split when using data set generators so need to split the dataframe manually\n",
    "# into train and validation set. This was done above\n",
    "\n",
    "#callback = tf.keras.callbacks.EarlyStopping(monitor='loss', mode=\"min\", patience=3, restore_best_weights=True)\n",
    "#history = cnn.fit(x = train_set, class_weight=class_weight, validation_data = validation_set, epochs=100, callbacks=[callback] )\n",
    "history_cnn_1 = cnn_1.fit(x = train_set, class_weight=class_weight, validation_data = validation_set, epochs=25 )"
   ]
  },
  {
   "cell_type": "markdown",
   "metadata": {},
   "source": [
    "#### 3.2 Train CNN-2"
   ]
  },
  {
   "cell_type": "code",
   "execution_count": 145,
   "metadata": {},
   "outputs": [
    {
     "name": "stdout",
     "output_type": "stream",
     "text": [
      "Epoch 1/25\n",
      "160/160 [==============================] - 35s 211ms/step - loss: 0.5806 - accuracy: 0.5998 - precision: 0.8824 - recall: 0.6402 - auc: 0.8843 - val_loss: 0.1547 - val_accuracy: 0.9479 - val_precision: 0.9524 - val_recall: 0.9543 - val_auc: 0.9891\n",
      "Epoch 2/25\n",
      "160/160 [==============================] - 33s 205ms/step - loss: 0.2246 - accuracy: 0.9151 - precision: 0.9419 - recall: 0.9076 - auc: 0.9685 - val_loss: 0.1162 - val_accuracy: 0.9523 - val_precision: 0.9772 - val_recall: 0.9364 - val_auc: 0.9922\n",
      "Epoch 3/25\n",
      "160/160 [==============================] - 33s 205ms/step - loss: 0.1192 - accuracy: 0.9546 - precision: 0.9790 - recall: 0.9414 - auc: 0.9902 - val_loss: 0.1623 - val_accuracy: 0.9346 - val_precision: 0.9978 - val_recall: 0.8847 - val_auc: 0.9934\n",
      "Epoch 4/25\n",
      "160/160 [==============================] - 33s 206ms/step - loss: 0.1472 - accuracy: 0.9439 - precision: 0.9705 - recall: 0.9334 - auc: 0.9858 - val_loss: 0.1215 - val_accuracy: 0.9523 - val_precision: 0.9978 - val_recall: 0.9165 - val_auc: 0.9958\n",
      "Epoch 5/25\n",
      "160/160 [==============================] - 33s 206ms/step - loss: 0.1219 - accuracy: 0.9530 - precision: 0.9766 - recall: 0.9413 - auc: 0.9899 - val_loss: 0.0804 - val_accuracy: 0.9678 - val_precision: 0.9798 - val_recall: 0.9622 - val_auc: 0.9959\n",
      "Epoch 6/25\n",
      "160/160 [==============================] - 33s 207ms/step - loss: 0.1107 - accuracy: 0.9563 - precision: 0.9741 - recall: 0.9504 - auc: 0.9911 - val_loss: 0.0843 - val_accuracy: 0.9723 - val_precision: 0.9938 - val_recall: 0.9563 - val_auc: 0.9954\n",
      "Epoch 7/25\n",
      "160/160 [==============================] - 33s 206ms/step - loss: 0.0994 - accuracy: 0.9603 - precision: 0.9746 - recall: 0.9573 - auc: 0.9930 - val_loss: 0.0689 - val_accuracy: 0.9756 - val_precision: 0.9820 - val_recall: 0.9742 - val_auc: 0.9976\n",
      "Epoch 8/25\n",
      "160/160 [==============================] - 33s 207ms/step - loss: 0.0816 - accuracy: 0.9690 - precision: 0.9831 - recall: 0.9650 - auc: 0.9952 - val_loss: 0.0927 - val_accuracy: 0.9612 - val_precision: 0.9875 - val_recall: 0.9423 - val_auc: 0.9956\n",
      "Epoch 9/25\n",
      "160/160 [==============================] - 33s 206ms/step - loss: 0.1076 - accuracy: 0.9584 - precision: 0.9733 - recall: 0.9544 - auc: 0.9921 - val_loss: 0.0746 - val_accuracy: 0.9678 - val_precision: 0.9937 - val_recall: 0.9483 - val_auc: 0.9976\n",
      "Epoch 10/25\n",
      "160/160 [==============================] - 33s 207ms/step - loss: 0.0895 - accuracy: 0.9675 - precision: 0.9792 - recall: 0.9653 - auc: 0.9948 - val_loss: 0.0824 - val_accuracy: 0.9678 - val_precision: 1.0000 - val_recall: 0.9423 - val_auc: 0.9980\n",
      "Epoch 11/25\n",
      "160/160 [==============================] - 33s 206ms/step - loss: 0.0981 - accuracy: 0.9619 - precision: 0.9783 - recall: 0.9565 - auc: 0.9936 - val_loss: 0.0622 - val_accuracy: 0.9745 - val_precision: 0.9858 - val_recall: 0.9682 - val_auc: 0.9978\n",
      "Epoch 12/25\n",
      "160/160 [==============================] - 33s 206ms/step - loss: 0.0895 - accuracy: 0.9665 - precision: 0.9794 - recall: 0.9628 - auc: 0.9948 - val_loss: 0.0735 - val_accuracy: 0.9690 - val_precision: 0.9979 - val_recall: 0.9463 - val_auc: 0.9983\n",
      "Epoch 13/25\n",
      "160/160 [==============================] - 33s 206ms/step - loss: 0.0753 - accuracy: 0.9750 - precision: 0.9836 - recall: 0.9725 - auc: 0.9950 - val_loss: 0.0674 - val_accuracy: 0.9756 - val_precision: 1.0000 - val_recall: 0.9563 - val_auc: 0.9984\n",
      "Epoch 14/25\n",
      "160/160 [==============================] - 33s 206ms/step - loss: 0.0701 - accuracy: 0.9712 - precision: 0.9836 - recall: 0.9673 - auc: 0.9966 - val_loss: 0.0505 - val_accuracy: 0.9756 - val_precision: 0.9859 - val_recall: 0.9702 - val_auc: 0.9985\n",
      "Epoch 15/25\n",
      "160/160 [==============================] - 33s 206ms/step - loss: 0.0756 - accuracy: 0.9708 - precision: 0.9791 - recall: 0.9707 - auc: 0.9963 - val_loss: 0.0501 - val_accuracy: 0.9823 - val_precision: 0.9803 - val_recall: 0.9881 - val_auc: 0.9985\n",
      "Epoch 16/25\n",
      "160/160 [==============================] - 33s 206ms/step - loss: 0.0729 - accuracy: 0.9761 - precision: 0.9826 - recall: 0.9773 - auc: 0.9959 - val_loss: 0.0774 - val_accuracy: 0.9701 - val_precision: 1.0000 - val_recall: 0.9463 - val_auc: 0.9978\n",
      "Epoch 17/25\n",
      "160/160 [==============================] - 35s 217ms/step - loss: 0.0620 - accuracy: 0.9762 - precision: 0.9863 - recall: 0.9743 - auc: 0.9973 - val_loss: 0.0803 - val_accuracy: 0.9690 - val_precision: 1.0000 - val_recall: 0.9443 - val_auc: 0.9983\n",
      "Epoch 18/25\n",
      "160/160 [==============================] - 32s 200ms/step - loss: 0.0647 - accuracy: 0.9764 - precision: 0.9886 - recall: 0.9714 - auc: 0.9971 - val_loss: 0.0685 - val_accuracy: 0.9701 - val_precision: 0.9559 - val_recall: 0.9920 - val_auc: 0.9984\n",
      "Epoch 19/25\n",
      "160/160 [==============================] - 33s 207ms/step - loss: 0.0641 - accuracy: 0.9786 - precision: 0.9887 - recall: 0.9739 - auc: 0.9964 - val_loss: 0.0693 - val_accuracy: 0.9800 - val_precision: 0.9727 - val_recall: 0.9920 - val_auc: 0.9978\n",
      "Epoch 20/25\n",
      "160/160 [==============================] - 33s 206ms/step - loss: 0.0522 - accuracy: 0.9799 - precision: 0.9893 - recall: 0.9767 - auc: 0.9983 - val_loss: 0.0539 - val_accuracy: 0.9812 - val_precision: 0.9899 - val_recall: 0.9761 - val_auc: 0.9982\n",
      "Epoch 21/25\n",
      "160/160 [==============================] - 33s 206ms/step - loss: 0.0517 - accuracy: 0.9783 - precision: 0.9879 - recall: 0.9751 - auc: 0.9982 - val_loss: 0.0529 - val_accuracy: 0.9834 - val_precision: 0.9822 - val_recall: 0.9881 - val_auc: 0.9980\n",
      "Epoch 22/25\n",
      "160/160 [==============================] - 33s 206ms/step - loss: 0.0628 - accuracy: 0.9775 - precision: 0.9874 - recall: 0.9736 - auc: 0.9967 - val_loss: 0.0527 - val_accuracy: 0.9789 - val_precision: 0.9979 - val_recall: 0.9642 - val_auc: 0.9990\n",
      "Epoch 23/25\n",
      "160/160 [==============================] - 33s 206ms/step - loss: 0.0646 - accuracy: 0.9750 - precision: 0.9856 - recall: 0.9718 - auc: 0.9972 - val_loss: 0.0454 - val_accuracy: 0.9834 - val_precision: 0.9980 - val_recall: 0.9722 - val_auc: 0.9989\n",
      "Epoch 24/25\n",
      "160/160 [==============================] - 33s 205ms/step - loss: 0.0508 - accuracy: 0.9829 - precision: 0.9910 - recall: 0.9797 - auc: 0.9974 - val_loss: 0.0547 - val_accuracy: 0.9900 - val_precision: 0.9940 - val_recall: 0.9881 - val_auc: 0.9992\n",
      "Epoch 25/25\n",
      "160/160 [==============================] - 33s 205ms/step - loss: 0.0540 - accuracy: 0.9810 - precision: 0.9902 - recall: 0.9778 - auc: 0.9976 - val_loss: 0.0516 - val_accuracy: 0.9823 - val_precision: 1.0000 - val_recall: 0.9682 - val_auc: 0.9985\n"
     ]
    }
   ],
   "source": [
    "history_cnn_2 = cnn_2.fit(x = train_set, class_weight=class_weight, validation_data = validation_set, epochs=25 )"
   ]
  },
  {
   "cell_type": "code",
   "execution_count": null,
   "metadata": {},
   "outputs": [],
   "source": []
  },
  {
   "cell_type": "markdown",
   "metadata": {},
   "source": [
    "### Evaluating"
   ]
  },
  {
   "cell_type": "markdown",
   "metadata": {},
   "source": [
    "#### 1. Examine the loss and accuracy curves"
   ]
  },
  {
   "cell_type": "code",
   "execution_count": 146,
   "metadata": {},
   "outputs": [
    {
     "data": {
      "image/png": "[encoded data removed]",
      "text/plain": [
       "<Figure size 1440x720 with 2 Axes>"
      ]
     },
     "metadata": {
      "needs_background": "light"
     },
     "output_type": "display_data"
    }
   ],
   "source": [
    "plt.figure(figsize=(20,10))\n",
    "\n",
    "# plot loss & val loss\n",
    "plt.subplot(1,2,1)\n",
    "\n",
    "# cnn-1\n",
    "sns.lineplot(x=history_cnn_1.epoch, y=history_cnn_1.history['loss'], color='red', label='Train Loss')\n",
    "sns.lineplot(x=history_cnn_1.epoch, y=history_cnn_1.history['val_loss'], color='orange', label='Val Loss')\n",
    "# cnn-2\n",
    "sns.lineplot(x=history_cnn_2.epoch, y=history_cnn_2.history['loss'], color='purple', label='Train Loss')\n",
    "sns.lineplot(x=history_cnn_2.epoch, y=history_cnn_2.history['val_loss'], color='magenta', label='Val Loss')\n",
    "\n",
    "#plt.ylim(0, 3)\n",
    "plt.title('Loss on train vs validation')\n",
    "plt.legend(loc='best')\n",
    "plt.xlabel('epoch')\n",
    "plt.ylabel('loss')\n",
    "\n",
    "# plot accuracy and val accuracy\n",
    "plt.subplot(1,2,2)\n",
    "\n",
    "# cnn-1\n",
    "sns.lineplot(x=history_cnn_1.epoch, y=history_cnn_1.history['accuracy'], color='red', label='cnn1 Train Accuracy')\n",
    "sns.lineplot(x=history_cnn_1.epoch, y=history_cnn_1.history['val_accuracy'], color='orange', label='cnn1 Val Accuracy')\n",
    "# cnn-2\n",
    "sns.lineplot(x=history_cnn_2.epoch, y=history_cnn_2.history['accuracy'], color='purple', label='cnn2 Train Accuracy')\n",
    "sns.lineplot(x=history_cnn_2.epoch, y=history_cnn_2.history['val_accuracy'], color='magenta', label='cnn2 Val Accuracy')\n",
    "\n",
    "plt.title('Accuracy on train vs validation')\n",
    "plt.legend(loc='best')\n",
    "plt.xlabel('epoch')\n",
    "plt.ylabel('accuracy')\n",
    "\n",
    "plt.show()"
   ]
  },
  {
   "cell_type": "markdown",
   "metadata": {},
   "source": [
    "#### 2.1 Evaluate performance of the CNN-1 model on the test set"
   ]
  },
  {
   "cell_type": "code",
   "execution_count": null,
   "metadata": {},
   "outputs": [],
   "source": [
    "print(\"metrics on validation set\")\n",
    "validation_accu = cnn_1.evaluate(validation_set)\n",
    "print(validation_accu)\n",
    "\n",
    "print(\"metrics on test set\")\n",
    "test_accu = cnn_1.evaluate(test_set)\n",
    "print(test_accu)\n",
    "\n",
    "# get the ground truth of your data. \n",
    "train_labels = train_set.classes \n",
    "validation_labels = validation_set.classes\n",
    "test_labels = test_set.classes\n",
    "print(\"number of train labels \",len(train_labels))\n",
    "print(\"number of validation labels \",len(validation_labels))\n",
    "print(\"number of test labels \",len(test_labels))"
   ]
  },
  {
   "cell_type": "code",
   "execution_count": null,
   "metadata": {},
   "outputs": [],
   "source": []
  },
  {
   "cell_type": "code",
   "execution_count": null,
   "metadata": {},
   "outputs": [],
   "source": [
    "# predict the probability distribution of the data\n",
    "\n",
    "# WARNING:tensorflow:From <ipython-input-72-9913226a8330>:3: Sequential.predict_classes (from tensorflow.python.keras.engine.sequential) is deprecated and will be removed after 2021-01-01.\n",
    "# Instructions for updating:\n",
    "# Please use instead:* \n",
    "# `np.argmax(model.predict(x), axis=-1)`,   if your model does multi-class classification   (e.g. if it uses a `softmax` last-layer activation).* \n",
    "# `(model.predict(x) > 0.5).astype(\"int32\")`,   if your model does binary classification   (e.g. if it uses a `sigmoid` last-layer activation).\n",
    "\n",
    "print(\"predicting...\")\n",
    "predictions_cnn_1 = (cnn_1.predict(test_set, verbose=1) > 0.5).astype(\"int32\")\n",
    "print(\"number of predictions \", len(predictions_cnn_1))\n",
    "\n",
    "# get the class with highest probability for each sample\n",
    "#y_pred = (predictions > 0.5).astype(\"int32\")\n",
    "\n",
    "# get the classification report\n",
    "print(\"classification report\")\n",
    "print(classification_report(test_labels, predictions_cnn_1))\n",
    "#print(classification_report(train_set.labels, predictions, target_names = ['Pneumonia (Class 0)','Normal (Class 1)']))\n",
    "\n",
    "CM = confusion_matrix(test_set.classes, predictions_cnn_1)\n",
    "print(\"confusion matrix\")\n",
    "print(CM)\n",
    "\n",
    "fig, ax = plot_confusion_matrix(conf_mat=CM ,  figsize=(5, 5))\n",
    "plt.show()"
   ]
  },
  {
   "cell_type": "code",
   "execution_count": null,
   "metadata": {},
   "outputs": [],
   "source": [
    "print(\"predicting...\")\n",
    "predictions_cnn_2 = (cnn_2.predict(test_set, verbose=1) > 0.5).astype(\"int32\")\n",
    "print(\"number of predictions \", len(predictions_cnn_2))\n",
    "\n",
    "# get the class with highest probability for each sample\n",
    "#y_pred = (predictions > 0.5).astype(\"int32\")\n",
    "\n",
    "# get the classification report\n",
    "print(\"classification report\")\n",
    "print(classification_report(test_labels, predictions_cnn_2))\n",
    "#print(classification_report(train_set.labels, predictions, target_names = ['Pneumonia (Class 0)','Normal (Class 1)']))\n",
    "\n",
    "CM = confusion_matrix(test_set.classes, predictions_cnn_2)\n",
    "print(\"confusion matrix\")\n",
    "print(CM)\n",
    "\n",
    "fig, ax = plot_confusion_matrix(conf_mat=CM ,  figsize=(5, 5))\n",
    "plt.show()"
   ]
  },
  {
   "cell_type": "code",
   "execution_count": null,
   "metadata": {},
   "outputs": [],
   "source": []
  },
  {
   "cell_type": "code",
   "execution_count": null,
   "metadata": {},
   "outputs": [],
   "source": []
  },
  {
   "cell_type": "code",
   "execution_count": null,
   "metadata": {},
   "outputs": [],
   "source": []
  },
  {
   "cell_type": "code",
   "execution_count": null,
   "metadata": {},
   "outputs": [],
   "source": []
  }
 ],
 "metadata": {
  "kernelspec": {
   "display_name": "Python 3",
   "language": "python",
   "name": "python3"
  },
  "language_info": {
   "codemirror_mode": {
    "name": "ipython",
    "version": 3
   },
   "file_extension": ".py",
   "mimetype": "text/x-python",
   "name": "python",
   "nbconvert_exporter": "python",
   "pygments_lexer": "ipython3",
   "version": "3.6.8"
  }
 },
 "nbformat": 4,
 "nbformat_minor": 4
}
