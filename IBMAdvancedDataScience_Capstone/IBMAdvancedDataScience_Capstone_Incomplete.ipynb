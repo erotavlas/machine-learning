{
 "cells": [
  {
   "cell_type": "code",
   "execution_count": 1,
   "metadata": {},
   "outputs": [],
   "source": [
    "from IPython.display import Image"
   ]
  },
  {
   "cell_type": "markdown",
   "metadata": {},
   "source": [
    "### IBM Advanced Data Science Capstone Project\n",
    "#### Salvatore Salpietro\n",
    "\n",
    "<hr/>\n",
    "\n",
    "###### Purpose\n",
    "\n",
    "The scope pf this project is to build a classifier to detect diseased lung from chest x-ray images, where the disease is pneumonia.\n",
    "\n",
    "###### What is pneumonia\n",
    "\n",
    "Pneumonia is an inflammatory lung disease that affects the small air sacs called alvioli.  \n",
    "\n",
    "<img src=\"https://github.com/erotavlas/machine-learning/raw/main/IBMAdvancedDataScience_Capstone/images/pneumonia.jpg\" width=350 />\n",
    "\n",
    "###### Types\n",
    "There are three main classification of pneumonia by location in the lungs, these are,\n",
    "\n",
    "- Lobar and Multilobar pneumonia is an infection that involves one or more lobes, or section, of a lung. Lobar pneumonia is often due to Streptococcus pneumoniae (though Klebsiella pneumoniae is also possible.) Multilobar pneumonia involves more than one lobe, and it often causes a more severe illness.\n",
    "- Bronchial pneumonia affects the lungs in patches around the tubes (bronchi or bronchioles).\n",
    "- Interstitial pneumonia involves the areas in between the alveoli, and it may be called \"interstitial pneumonitis.\" It is more likely to be caused by viruses or by atypical bacteria.\n",
    "\n",
    "<img src=\"https://github.com/erotavlas/machine-learning/raw/main/IBMAdvancedDataScience_Capstone/images/types-of-pneumonia.jpeg\" width=350 />\n",
    "\n",
    "###### Symptoms\n",
    "People with this condition typically exhibit the following symptoms of variable severity \n",
    "- cough \n",
    "- chest pain \n",
    "- fever \n",
    "- difficulty breathing. \n",
    "\n",
    "###### Causes\n",
    "The causes are mainly due to viruses and bacteris but can also be from fungii, parasites or noninfectious causes.  \n",
    "\n",
    "<img src=\"https://github.com/erotavlas/machine-learning/raw/main/IBMAdvancedDataScience_Capstone/images/causes.jpg\" width=500>\n",
    "\n",
    "###### Diagnosis\n",
    "In order to verify a case of pneumonia in a patient, doctors rely on a combination of methods including observing physical signs, blood tests, and often a chest X-ray.  The chest X-ray is useful not only for diagnosis, but also to determine the extent of disease in the lungs.  \n",
    "\n",
    "###### How does a doctor determine if a lung is diseased or not from chest X-rays?  \n",
    "A chest X-ray is a radiology test that involves exposing the chest briefly to radiation to produce an image of the chest and the internal organs of the chest. An X-ray film is positioned against the body opposite the camera, which sends out a very small dose of a radiation beam. As the radiation penetrates the body, it is absorbed in varying amounts by different body tissues depending on the tissue's composition of air, water, blood, bone, or muscle. The X-ray image records these difference in penetration of the X-ray beam to produce an image of body tissue structures. The white shadows on chest X-ray represent areas where the beam is blocked by more dense or solid tissues, such as bone or heart.  The darker shadows on the chest X-ray represent areas where the x-ray beam penetrates more easily such as in air filled tissues like the lungs. \n",
    "\n",
    "Here is an example of chest x-rays for normal lung vs lung affected by pneumonia.\n",
    "<img src=\"https://github.com/erotavlas/machine-learning/raw/main/IBMAdvancedDataScience_Capstone/images/normal_vs_pneumonia.png\" width=500 />\n",
    "\n",
    "Doctors look for lighter areas in the lung indicating the precense of inflammation and fluid buildup.  This causes areas of the lung to become lighter on the x-ray image compared to the darker air filled areas of healthy lungs.\n",
    "\n",
    "###### Can AI assist in this process?\n",
    "In this project we will attempt to create a machine learning model that will effectively automate what the doctor is doing when they screen a patient for lung disease, in this case the disease is pneumonia. By training the model on a set of healthy and diseased lung X-ray images, it will be able to distinguish between the two types."
   ]
  },
  {
   "cell_type": "markdown",
   "metadata": {},
   "source": [
    "### Importing libraries"
   ]
  },
  {
   "cell_type": "code",
   "execution_count": 2,
   "metadata": {},
   "outputs": [],
   "source": [
    "from skimage import io # allows to read images\n",
    "from matplotlib import pyplot\n",
    "from pathlib import Path\n",
    "from natsort import natsorted, ns # natural sorting\n",
    "from sklearn.metrics import classification_report, confusion_matrix, plot_roc_curve\n",
    "from sklearn.ensemble import RandomForestClassifier\n",
    "from sklearn.ensemble import GradientBoostingClassifier\n",
    "from sklearn.dummy import DummyClassifier\n",
    "from sklearn.naive_bayes import GaussianNB\n",
    "from sklearn import tree\n",
    "from sklearn import svm, metrics\n",
    "from mlxtend.plotting import plot_confusion_matrix\n",
    "from sklearn.model_selection import validation_curve, cross_val_score, cross_validate, StratifiedKFold, KFold\n",
    "\n",
    "import numpy as np\n",
    "import pandas as pd\n",
    "import statistics\n",
    "import random\n",
    "import os\n",
    "import seaborn as sns\n",
    "import matplotlib.pyplot as plt\n",
    "from tqdm import tqdm\n",
    "\n",
    "import tensorflow as tf\n",
    "from tensorflow.keras.mixed_precision import experimental as mixed_precision\n",
    "from keras.preprocessing.image import ImageDataGenerator"
   ]
  },
  {
   "cell_type": "code",
   "execution_count": 3,
   "metadata": {},
   "outputs": [
    {
     "name": "stdout",
     "output_type": "stream",
     "text": [
      "2.4.0\n"
     ]
    }
   ],
   "source": [
    "print(tf.__version__)"
   ]
  },
  {
   "cell_type": "code",
   "execution_count": 4,
   "metadata": {},
   "outputs": [
    {
     "name": "stdout",
     "output_type": "stream",
     "text": [
      "INFO:tensorflow:Mixed precision compatibility check (mixed_float16): OK\n",
      "Your GPU will likely run quickly with dtype policy mixed_float16 as it has compute capability of at least 7.0. Your GPU: GeForce RTX 2060 SUPER, compute capability 7.5\n",
      "WARNING:tensorflow:From c:\\miniconda3\\envs\\capstone\\lib\\site-packages\\tensorflow\\python\\keras\\mixed_precision\\loss_scale.py:56: DynamicLossScale.__init__ (from tensorflow.python.training.experimental.loss_scale) is deprecated and will be removed in a future version.\n",
      "Instructions for updating:\n",
      "Use tf.keras.mixed_precision.LossScaleOptimizer instead. LossScaleOptimizer now has all the functionality of DynamicLossScale\n"
     ]
    }
   ],
   "source": [
    "policy = mixed_precision.Policy('mixed_float16')\n",
    "mixed_precision.set_policy(policy)"
   ]
  },
  {
   "cell_type": "code",
   "execution_count": 5,
   "metadata": {},
   "outputs": [
    {
     "name": "stdout",
     "output_type": "stream",
     "text": [
      "Compute dtype: float16\n",
      "Variable dtype: float32\n"
     ]
    }
   ],
   "source": [
    "print('Compute dtype: %s' % policy.compute_dtype)\n",
    "print('Variable dtype: %s' % policy.variable_dtype)"
   ]
  },
  {
   "cell_type": "code",
   "execution_count": 6,
   "metadata": {},
   "outputs": [
    {
     "name": "stdout",
     "output_type": "stream",
     "text": [
      "[PhysicalDevice(name='/physical_device:CPU:0', device_type='CPU'), PhysicalDevice(name='/physical_device:GPU:0', device_type='GPU')]\n",
      "Device Spec:  /job:localhost/replica:0/device:GPU:*\n"
     ]
    }
   ],
   "source": [
    "physical_devices = tf.config.list_physical_devices()\n",
    "print(physical_devices)\n",
    "device_spec = tf.DeviceSpec(job =\"localhost\", replica = 0, device_type = \"GPU\") \n",
    "print('Device Spec: ', device_spec.to_string()) "
   ]
  },
  {
   "cell_type": "markdown",
   "metadata": {},
   "source": [
    "### Data analysis step\n",
    "\n",
    "Determine the characteristics of the data and statistics "
   ]
  },
  {
   "cell_type": "markdown",
   "metadata": {},
   "source": [
    "#### 1. Data source\n",
    "\n",
    "Data was obtained from the following source \n",
    "https://data.mendeley.com/datasets/rscbjbr9sj/3\n",
    "\n",
    "We are provided with an archive file containing a set of chest x-rays.  Images are provided in two separate folders, test and train.  Within those folders images are separated into two classes - normal and pneumonia.  "
   ]
  },
  {
   "cell_type": "markdown",
   "metadata": {},
   "source": [
    "```text\n",
    "chest-xray\n",
    "|__test\n",
    "|  |__NORMAL\n",
    "|  |__PNEUMONIA\n",
    "|\n",
    "|__train\n",
    "   |__NORMAL\n",
    "   |__PNEUMONIA```"
   ]
  },
  {
   "cell_type": "markdown",
   "metadata": {},
   "source": [
    "#### 2. Characteristics of files"
   ]
  },
  {
   "cell_type": "code",
   "execution_count": 7,
   "metadata": {},
   "outputs": [],
   "source": [
    "sizes = [] # sizes in kb\n",
    "all_extensions = set([])\n",
    "filenum = []\n",
    "count = 0\n",
    "\n",
    "test_images = []\n",
    "test_labels = []\n",
    "\n",
    "train_images = []\n",
    "train_labels = []\n",
    "\n",
    "# training set folder\n",
    "for root, dirs, files in os.walk(\"E:\\COURSES\\Advanced Data Science With IBM\\Advanced Data Science Capstone\\\\assignment\\data\\chest_xray\\\\train\"):\n",
    "    #print('dirs', dirs)\n",
    "    for name in files:\n",
    "        #print('name', name)\n",
    "        #print(os.path.basename(root))\n",
    "        \n",
    "        file_name, file_extension = os.path.splitext(name)\n",
    "        all_extensions.add(file_extension)\n",
    "        \n",
    "        stats = os.stat(os.path.join(root, name))\n",
    "        count = count + 1\n",
    "        \n",
    "        sizes.append(stats.st_size/1000) \n",
    "        \n",
    "        #if(stats.st_size/1000 < 12):\n",
    "        #    discarded.append(os.path.join(root, name))\n",
    "        #else:\n",
    "        train_images.append(os.path.join(root, name))\n",
    "        train_labels.append(os.path.basename(root))\n",
    "        \n",
    "        filenum.append(count)\n",
    "\n",
    "# test set folder\n",
    "for root, dirs, files in os.walk(\"E:\\COURSES\\Advanced Data Science With IBM\\Advanced Data Science Capstone\\\\assignment\\data\\chest_xray\\\\test\"):\n",
    "    #print('dirs', dirs)\n",
    "    for name in files:\n",
    "        #print('name', name)\n",
    "        #print(os.path.basename(root))\n",
    "        \n",
    "        file_name, file_extension = os.path.splitext(name)\n",
    "        all_extensions.add(file_extension)\n",
    "\n",
    "        stats = os.stat(os.path.join(root, name))\n",
    "        count = count + 1\n",
    "        \n",
    "        sizes.append(stats.st_size/1000)\n",
    "        \n",
    "        #if(stats.st_size/1000 < 12):\n",
    "        #    discarded.append(os.path.join(root, name))\n",
    "        #else:\n",
    "        test_images.append(os.path.join(root, name))\n",
    "        test_labels.append(os.path.basename(root))\n",
    "        \n",
    "        filenum.append(count)"
   ]
  },
  {
   "cell_type": "markdown",
   "metadata": {},
   "source": [
    "##### 2.1. File names"
   ]
  },
  {
   "cell_type": "markdown",
   "metadata": {},
   "source": [
    "File names for images of dieases lungs contain a unique anonymized person number as well as the text 'bacteris' or 'virus' indicating if the pnemonia was caused by a virus or bacteris.  Example person426_virus_873\n",
    "\n",
    "File names for images of normal lungs contain the work 'NORMAL'. Example - NORMAL2-IM-1250-0001"
   ]
  },
  {
   "cell_type": "markdown",
   "metadata": {},
   "source": [
    "##### 2.2. File extensions"
   ]
  },
  {
   "cell_type": "code",
   "execution_count": 8,
   "metadata": {},
   "outputs": [
    {
     "name": "stdout",
     "output_type": "stream",
     "text": [
      "{'.jpeg'}\n"
     ]
    }
   ],
   "source": [
    "print(all_extensions)"
   ]
  },
  {
   "cell_type": "markdown",
   "metadata": {},
   "source": [
    "Files are of types - png and jpeg"
   ]
  },
  {
   "cell_type": "markdown",
   "metadata": {},
   "source": [
    "##### 2.3. Total number of image files"
   ]
  },
  {
   "cell_type": "code",
   "execution_count": 9,
   "metadata": {},
   "outputs": [],
   "source": [
    "total_image_files = len(train_images) + len(test_images)"
   ]
  },
  {
   "cell_type": "code",
   "execution_count": 10,
   "metadata": {},
   "outputs": [
    {
     "name": "stdout",
     "output_type": "stream",
     "text": [
      "5856\n"
     ]
    }
   ],
   "source": [
    "print(total_image_files)"
   ]
  },
  {
   "cell_type": "markdown",
   "metadata": {},
   "source": [
    "There are a total of 7197 files across both folders (test and train)"
   ]
  },
  {
   "cell_type": "markdown",
   "metadata": {},
   "source": [
    "##### 2.4. Distribution of image files in test and train folders"
   ]
  },
  {
   "cell_type": "code",
   "execution_count": 11,
   "metadata": {},
   "outputs": [
    {
     "data": {
      "text/plain": [
       "624"
      ]
     },
     "execution_count": 11,
     "metadata": {},
     "output_type": "execute_result"
    }
   ],
   "source": [
    "len(test_images)"
   ]
  },
  {
   "cell_type": "code",
   "execution_count": 12,
   "metadata": {},
   "outputs": [
    {
     "data": {
      "text/plain": [
       "5232"
      ]
     },
     "execution_count": 12,
     "metadata": {},
     "output_type": "execute_result"
    }
   ],
   "source": [
    "len(train_images)"
   ]
  },
  {
   "cell_type": "code",
   "execution_count": 13,
   "metadata": {},
   "outputs": [
    {
     "name": "stdout",
     "output_type": "stream",
     "text": [
      "Train / Test split is about  89.34426229508196  /  10.655737704918039\n"
     ]
    }
   ],
   "source": [
    "print('Train / Test split is about ', len(train_images) / total_image_files * 100, ' / ', 100 - len(train_images) / total_image_files * 100) "
   ]
  },
  {
   "cell_type": "markdown",
   "metadata": {},
   "source": [
    "##### 2.5 Class distribution for training set"
   ]
  },
  {
   "cell_type": "code",
   "execution_count": 14,
   "metadata": {},
   "outputs": [],
   "source": [
    "pneumonia = [i for i in train_labels if i == 'PNEUMONIA']\n",
    "normal = [i for i in train_labels if i == 'NORMAL']"
   ]
  },
  {
   "cell_type": "code",
   "execution_count": 15,
   "metadata": {},
   "outputs": [
    {
     "data": {
      "text/plain": [
       "1349"
      ]
     },
     "execution_count": 15,
     "metadata": {},
     "output_type": "execute_result"
    }
   ],
   "source": [
    "len(normal)"
   ]
  },
  {
   "cell_type": "code",
   "execution_count": 16,
   "metadata": {},
   "outputs": [
    {
     "data": {
      "text/plain": [
       "3883"
      ]
     },
     "execution_count": 16,
     "metadata": {},
     "output_type": "execute_result"
    }
   ],
   "source": [
    "len(pneumonia)"
   ]
  },
  {
   "cell_type": "code",
   "execution_count": 17,
   "metadata": {},
   "outputs": [
    {
     "name": "stdout",
     "output_type": "stream",
     "text": [
      "There are  2.878428465530022  more pneumonia images than normal images in the training set\n"
     ]
    }
   ],
   "source": [
    "print('There are ', len(pneumonia)/len(normal), ' more pneumonia images than normal images in the training set')"
   ]
  },
  {
   "cell_type": "code",
   "execution_count": 18,
   "metadata": {},
   "outputs": [
    {
     "data": {
      "image/png": "[encoded data removed]",
      "text/plain": [
       "<Figure size 432x288 with 1 Axes>"
      ]
     },
     "metadata": {},
     "output_type": "display_data"
    }
   ],
   "source": [
    "y = [len(normal), len(pneumonia)]\n",
    "l = [\"normal\", \"pneumonia\"]\n",
    "explode = (0.05, 0)  # explode 1st slice\n",
    "patches, texts = plt.pie(y, explode=explode,  shadow=True )\n",
    "plt.legend(patches, l, loc=\"best\")\n",
    "plt.show() "
   ]
  },
  {
   "cell_type": "markdown",
   "metadata": {},
   "source": [
    " "
   ]
  },
  {
   "cell_type": "markdown",
   "metadata": {},
   "source": [
    "#### 4. Size of the images"
   ]
  },
  {
   "cell_type": "code",
   "execution_count": 19,
   "metadata": {},
   "outputs": [
    {
     "data": {
      "image/png": "[encoded data removed]",
      "text/plain": [
       "<Figure size 432x288 with 1 Axes>"
      ]
     },
     "metadata": {
      "needs_background": "light"
     },
     "output_type": "display_data"
    }
   ],
   "source": [
    "\n",
    "b = [i for i in range(0,2500,10)]\n",
    "\n",
    "plt.xlabel('file size (kb)')\n",
    "plt.ylabel('# of files')\n",
    "plt.hist(sizes, bins=b,  color='#184A45FF')\n",
    "plt.show()"
   ]
  },
  {
   "cell_type": "markdown",
   "metadata": {},
   "source": [
    "Above is a histogram plot to show the ditribution of file sizes.  Most of the files are of size less than 1000 kb."
   ]
  },
  {
   "cell_type": "code",
   "execution_count": 20,
   "metadata": {},
   "outputs": [
    {
     "name": "stdout",
     "output_type": "stream",
     "text": [
      "211.14802015027237\n"
     ]
    }
   ],
   "source": [
    "avg = sum(sizes)/len(sizes)\n",
    "print(avg)"
   ]
  },
  {
   "cell_type": "code",
   "execution_count": 21,
   "metadata": {},
   "outputs": [
    {
     "name": "stdout",
     "output_type": "stream",
     "text": [
      "95.839\n"
     ]
    }
   ],
   "source": [
    "print(statistics.median(sizes))"
   ]
  },
  {
   "cell_type": "code",
   "execution_count": 22,
   "metadata": {},
   "outputs": [
    {
     "name": "stdout",
     "output_type": "stream",
     "text": [
      "5.441\n"
     ]
    }
   ],
   "source": [
    "print(min(sizes))"
   ]
  },
  {
   "cell_type": "code",
   "execution_count": 23,
   "metadata": {},
   "outputs": [
    {
     "name": "stdout",
     "output_type": "stream",
     "text": [
      "2414.342\n"
     ]
    }
   ],
   "source": [
    "print(max(sizes))"
   ]
  },
  {
   "cell_type": "markdown",
   "metadata": {},
   "source": [
    "The mean file size is 211.148\n",
    "\n",
    "The median file size is 95.839\n",
    "\n",
    "The minimum file size observed is 5.441 kb\n",
    "\n",
    "The maximum file size observed is 2412.342 kb"
   ]
  },
  {
   "cell_type": "markdown",
   "metadata": {},
   "source": [
    "Sonce the file sizes are not all the same, some examination of the really small ans really large image files revealed that the really small images aspect ratio did not match those of the majority of images (i.e. they were longer in width than height and did not reveal the full chest/lung view).  These images might be considered outliers.  Further examination of the images below will attempt to exclude such outliers.  "
   ]
  },
  {
   "cell_type": "markdown",
   "metadata": {},
   "source": [
    "#### 4. Aspect ratio of the images"
   ]
  },
  {
   "cell_type": "markdown",
   "metadata": {},
   "source": [
    "The aspect ratio of an image is the ratio of its width to its height.\n",
    "The formula is width / height.\n",
    "\n",
    "Not all the images are of the same aspect ratio. On examining some of the images of smaller size, some did not show the full view of the chest and lungs.  We will remove these images.\n",
    "\n",
    "If the shape of the image is longer in the x axis than it is in the y axis by certain threshold, then discard those images as they only show a section of the full chest image.\n",
    "\n",
    "Choose something x/y must be less than or equal to 2 to constitute an acceptible image. (i.e. if the width is two or more times longer than the height then discard image)"
   ]
  },
  {
   "cell_type": "code",
   "execution_count": 24,
   "metadata": {},
   "outputs": [],
   "source": [
    "temp_train_images = []\n",
    "temp_train_labels = []\n",
    "\n",
    "temp_test_images = []\n",
    "temp_test_labels = []\n",
    "\n",
    "discarded = []\n",
    "\n",
    "for i in range(len(train_images)):\n",
    "    xray = io.imread(train_images[i])\n",
    "    y = xray.shape[0]\n",
    "    x = xray.shape[1]\n",
    "    ratio = x/y\n",
    "    if ratio <= 2:\n",
    "        temp_train_images.append(train_images[i])\n",
    "        temp_train_labels.append(train_labels[i])\n",
    "    else:\n",
    "        discarded.append(train_images[i])\n",
    "        \n",
    "for i in range(len(test_images)):\n",
    "    xray = io.imread(test_images[i])\n",
    "    y = xray.shape[0]\n",
    "    x = xray.shape[1]\n",
    "    ratio = x/y\n",
    "    if ratio <= 2:\n",
    "        temp_test_images.append(test_images[i])\n",
    "        temp_test_labels.append(test_labels[i])\n",
    "    else:\n",
    "        discarded.append(test_images[i])"
   ]
  },
  {
   "cell_type": "code",
   "execution_count": 25,
   "metadata": {},
   "outputs": [
    {
     "name": "stdout",
     "output_type": "stream",
     "text": [
      "updated train set, labels  5116 5116\n",
      "updated test set, labels  614 614\n",
      "discarded images  126\n"
     ]
    }
   ],
   "source": [
    "print('updated train set, labels ', len(temp_train_images), len(temp_train_labels))\n",
    "print('updated test set, labels ', len(temp_test_images), len(temp_test_labels))\n",
    "print('discarded images ', len(discarded))"
   ]
  },
  {
   "cell_type": "markdown",
   "metadata": {},
   "source": [
    "Compare a discarded image to a remaining image in train set."
   ]
  },
  {
   "cell_type": "code",
   "execution_count": 26,
   "metadata": {},
   "outputs": [
    {
     "data": {
      "image/png": "[encoded data removed]",
      "text/plain": [
       "<Figure size 432x288 with 1 Axes>"
      ]
     },
     "metadata": {
      "needs_background": "light"
     },
     "output_type": "display_data"
    },
    {
     "name": "stdout",
     "output_type": "stream",
     "text": [
      "(229, 549, 3)\n"
     ]
    }
   ],
   "source": [
    "import matplotlib.pyplot as plt\n",
    "im = io.imread(discarded[35])\n",
    "imgplot = plt.imshow(im, cmap=\"gray\")\n",
    "plt.show()\n",
    "print(im.shape)"
   ]
  },
  {
   "cell_type": "code",
   "execution_count": 27,
   "metadata": {},
   "outputs": [
    {
     "data": {
      "image/png": "[encoded data removed]",
      "text/plain": [
       "<Figure size 432x288 with 1 Axes>"
      ]
     },
     "metadata": {
      "needs_background": "light"
     },
     "output_type": "display_data"
    },
    {
     "name": "stdout",
     "output_type": "stream",
     "text": [
      "(1152, 1422)\n"
     ]
    }
   ],
   "source": [
    "im = io.imread(temp_train_images[1])\n",
    "imgplot = plt.imshow(im, cmap=\"gray\")\n",
    "plt.show()\n",
    "print(im.shape)"
   ]
  },
  {
   "cell_type": "markdown",
   "metadata": {},
   "source": [
    "#### 4. Redistribute data to a train/validation / test split of 85/15/15\n",
    "\n",
    "Now that the outliers have been removed, we can redistribute the data set to add some more images to the test set to bring the value up to 15%, and then split the remaining test set into a test and validation split of 85/15.\n",
    "\n",
    "We won't touch the images in the test set, rather we will simply move some of the ones from the train set into the test set.\n",
    "\n",
    "Using 15% instead of 20% because we son't have that many images to work with."
   ]
  },
  {
   "cell_type": "code",
   "execution_count": 28,
   "metadata": {},
   "outputs": [
    {
     "name": "stdout",
     "output_type": "stream",
     "text": [
      "total images =  5730\n",
      "percent test  10.715532286212914\n",
      "percent train  89.28446771378708\n"
     ]
    }
   ],
   "source": [
    "# new ratios after removing some outliers\n",
    "\n",
    "total = len(temp_train_images) + len(temp_test_images)\n",
    "print('total images = ', total)\n",
    "\n",
    "percent_test = len(temp_test_images)/total\n",
    "print('percent test ', percent_test*100)\n",
    "\n",
    "percent_train = len(temp_train_images)/total\n",
    "print('percent train ', percent_train*100)"
   ]
  },
  {
   "cell_type": "code",
   "execution_count": 29,
   "metadata": {},
   "outputs": [
    {
     "name": "stdout",
     "output_type": "stream",
     "text": [
      "859.5\n",
      "614\n",
      "need to add an additional  245.5  images\n"
     ]
    }
   ],
   "source": [
    "# calculate number of images to move from train set to test set\n",
    "\n",
    "needed = 0.15*total\n",
    "print(needed)\n",
    "\n",
    "have = len(temp_test_images)\n",
    "print(have)\n",
    "\n",
    "difference = needed - have\n",
    "print(\"need to add an additional \", difference, \" images\")"
   ]
  },
  {
   "cell_type": "code",
   "execution_count": 30,
   "metadata": {},
   "outputs": [],
   "source": [
    "# convert to pandas dataframe\n",
    "\n",
    "# train set\n",
    "data_train = {'file':temp_train_images,'label':temp_train_labels}\n",
    "train_df = pd.DataFrame(data_train)\n",
    "\n",
    "# test set\n",
    "data_test = {'file':temp_test_images,'label':temp_test_labels}\n",
    "test_df = pd.DataFrame(data_test)"
   ]
  },
  {
   "cell_type": "code",
   "execution_count": 31,
   "metadata": {},
   "outputs": [
    {
     "data": {
      "text/html": [
       "<div>\n",
       "<style scoped>\n",
       "    .dataframe tbody tr th:only-of-type {\n",
       "        vertical-align: middle;\n",
       "    }\n",
       "\n",
       "    .dataframe tbody tr th {\n",
       "        vertical-align: top;\n",
       "    }\n",
       "\n",
       "    .dataframe thead th {\n",
       "        text-align: right;\n",
       "    }\n",
       "</style>\n",
       "<table border=\"1\" class=\"dataframe\">\n",
       "  <thead>\n",
       "    <tr style=\"text-align: right;\">\n",
       "      <th></th>\n",
       "      <th>file</th>\n",
       "      <th>label</th>\n",
       "    </tr>\n",
       "  </thead>\n",
       "  <tbody>\n",
       "    <tr>\n",
       "      <th>0</th>\n",
       "      <td>E:\\COURSES\\Advanced Data Science With IBM\\Adva...</td>\n",
       "      <td>NORMAL</td>\n",
       "    </tr>\n",
       "    <tr>\n",
       "      <th>1</th>\n",
       "      <td>E:\\COURSES\\Advanced Data Science With IBM\\Adva...</td>\n",
       "      <td>NORMAL</td>\n",
       "    </tr>\n",
       "    <tr>\n",
       "      <th>2</th>\n",
       "      <td>E:\\COURSES\\Advanced Data Science With IBM\\Adva...</td>\n",
       "      <td>NORMAL</td>\n",
       "    </tr>\n",
       "    <tr>\n",
       "      <th>3</th>\n",
       "      <td>E:\\COURSES\\Advanced Data Science With IBM\\Adva...</td>\n",
       "      <td>NORMAL</td>\n",
       "    </tr>\n",
       "    <tr>\n",
       "      <th>4</th>\n",
       "      <td>E:\\COURSES\\Advanced Data Science With IBM\\Adva...</td>\n",
       "      <td>NORMAL</td>\n",
       "    </tr>\n",
       "    <tr>\n",
       "      <th>...</th>\n",
       "      <td>...</td>\n",
       "      <td>...</td>\n",
       "    </tr>\n",
       "    <tr>\n",
       "      <th>5111</th>\n",
       "      <td>E:\\COURSES\\Advanced Data Science With IBM\\Adva...</td>\n",
       "      <td>PNEUMONIA</td>\n",
       "    </tr>\n",
       "    <tr>\n",
       "      <th>5112</th>\n",
       "      <td>E:\\COURSES\\Advanced Data Science With IBM\\Adva...</td>\n",
       "      <td>PNEUMONIA</td>\n",
       "    </tr>\n",
       "    <tr>\n",
       "      <th>5113</th>\n",
       "      <td>E:\\COURSES\\Advanced Data Science With IBM\\Adva...</td>\n",
       "      <td>PNEUMONIA</td>\n",
       "    </tr>\n",
       "    <tr>\n",
       "      <th>5114</th>\n",
       "      <td>E:\\COURSES\\Advanced Data Science With IBM\\Adva...</td>\n",
       "      <td>PNEUMONIA</td>\n",
       "    </tr>\n",
       "    <tr>\n",
       "      <th>5115</th>\n",
       "      <td>E:\\COURSES\\Advanced Data Science With IBM\\Adva...</td>\n",
       "      <td>PNEUMONIA</td>\n",
       "    </tr>\n",
       "  </tbody>\n",
       "</table>\n",
       "<p>5116 rows × 2 columns</p>\n",
       "</div>"
      ],
      "text/plain": [
       "                                                   file      label\n",
       "0     E:\\COURSES\\Advanced Data Science With IBM\\Adva...     NORMAL\n",
       "1     E:\\COURSES\\Advanced Data Science With IBM\\Adva...     NORMAL\n",
       "2     E:\\COURSES\\Advanced Data Science With IBM\\Adva...     NORMAL\n",
       "3     E:\\COURSES\\Advanced Data Science With IBM\\Adva...     NORMAL\n",
       "4     E:\\COURSES\\Advanced Data Science With IBM\\Adva...     NORMAL\n",
       "...                                                 ...        ...\n",
       "5111  E:\\COURSES\\Advanced Data Science With IBM\\Adva...  PNEUMONIA\n",
       "5112  E:\\COURSES\\Advanced Data Science With IBM\\Adva...  PNEUMONIA\n",
       "5113  E:\\COURSES\\Advanced Data Science With IBM\\Adva...  PNEUMONIA\n",
       "5114  E:\\COURSES\\Advanced Data Science With IBM\\Adva...  PNEUMONIA\n",
       "5115  E:\\COURSES\\Advanced Data Science With IBM\\Adva...  PNEUMONIA\n",
       "\n",
       "[5116 rows x 2 columns]"
      ]
     },
     "execution_count": 31,
     "metadata": {},
     "output_type": "execute_result"
    }
   ],
   "source": [
    "train_df"
   ]
  },
  {
   "cell_type": "code",
   "execution_count": 32,
   "metadata": {},
   "outputs": [
    {
     "data": {
      "text/plain": [
       "('E:\\\\COURSES\\\\Advanced Data Science With IBM\\\\Advanced Data Science Capstone\\\\assignment\\\\data\\\\chest_xray\\\\train\\\\PNEUMONIA\\\\person1326_bacteria_3372.jpeg',\n",
       " 'PNEUMONIA')"
      ]
     },
     "execution_count": 32,
     "metadata": {},
     "output_type": "execute_result"
    }
   ],
   "source": [
    "train_df['file'][2000], train_df['label'][2000]"
   ]
  },
  {
   "cell_type": "code",
   "execution_count": 33,
   "metadata": {},
   "outputs": [
    {
     "data": {
      "text/plain": [
       "('E:\\\\COURSES\\\\Advanced Data Science With IBM\\\\Advanced Data Science Capstone\\\\assignment\\\\data\\\\chest_xray\\\\test\\\\NORMAL\\\\NORMAL2-IM-0340-0001.jpeg',\n",
       " 'NORMAL')"
      ]
     },
     "execution_count": 33,
     "metadata": {},
     "output_type": "execute_result"
    }
   ],
   "source": [
    "test_df['file'][200], test_df['label'][200]"
   ]
  },
  {
   "cell_type": "code",
   "execution_count": 34,
   "metadata": {},
   "outputs": [],
   "source": [
    "# first shuffle rows in train dataframe\n",
    "train_df = train_df.sample(n = len(train_df), random_state=200).reset_index(drop=True)"
   ]
  },
  {
   "cell_type": "code",
   "execution_count": 35,
   "metadata": {},
   "outputs": [],
   "source": [
    "# then move 245 rows from train dataframe to test dataframe\n",
    "transferdata_df = train_df.iloc[-446:, 0:]\n",
    "\n",
    "test_df = test_df.append(transferdata_df)\n",
    "\n",
    "train_df = train_df.drop(transferdata_df.index)"
   ]
  },
  {
   "cell_type": "code",
   "execution_count": 36,
   "metadata": {},
   "outputs": [],
   "source": [
    "# reset index of test_df\n",
    "test_df = test_df.reset_index(drop=True)"
   ]
  },
  {
   "cell_type": "code",
   "execution_count": 37,
   "metadata": {},
   "outputs": [
    {
     "data": {
      "text/html": [
       "<div>\n",
       "<style scoped>\n",
       "    .dataframe tbody tr th:only-of-type {\n",
       "        vertical-align: middle;\n",
       "    }\n",
       "\n",
       "    .dataframe tbody tr th {\n",
       "        vertical-align: top;\n",
       "    }\n",
       "\n",
       "    .dataframe thead th {\n",
       "        text-align: right;\n",
       "    }\n",
       "</style>\n",
       "<table border=\"1\" class=\"dataframe\">\n",
       "  <thead>\n",
       "    <tr style=\"text-align: right;\">\n",
       "      <th></th>\n",
       "      <th>file</th>\n",
       "      <th>label</th>\n",
       "    </tr>\n",
       "  </thead>\n",
       "  <tbody>\n",
       "    <tr>\n",
       "      <th>0</th>\n",
       "      <td>E:\\COURSES\\Advanced Data Science With IBM\\Adva...</td>\n",
       "      <td>PNEUMONIA</td>\n",
       "    </tr>\n",
       "    <tr>\n",
       "      <th>1</th>\n",
       "      <td>E:\\COURSES\\Advanced Data Science With IBM\\Adva...</td>\n",
       "      <td>PNEUMONIA</td>\n",
       "    </tr>\n",
       "    <tr>\n",
       "      <th>2</th>\n",
       "      <td>E:\\COURSES\\Advanced Data Science With IBM\\Adva...</td>\n",
       "      <td>PNEUMONIA</td>\n",
       "    </tr>\n",
       "    <tr>\n",
       "      <th>3</th>\n",
       "      <td>E:\\COURSES\\Advanced Data Science With IBM\\Adva...</td>\n",
       "      <td>PNEUMONIA</td>\n",
       "    </tr>\n",
       "    <tr>\n",
       "      <th>4</th>\n",
       "      <td>E:\\COURSES\\Advanced Data Science With IBM\\Adva...</td>\n",
       "      <td>PNEUMONIA</td>\n",
       "    </tr>\n",
       "    <tr>\n",
       "      <th>...</th>\n",
       "      <td>...</td>\n",
       "      <td>...</td>\n",
       "    </tr>\n",
       "    <tr>\n",
       "      <th>4665</th>\n",
       "      <td>E:\\COURSES\\Advanced Data Science With IBM\\Adva...</td>\n",
       "      <td>NORMAL</td>\n",
       "    </tr>\n",
       "    <tr>\n",
       "      <th>4666</th>\n",
       "      <td>E:\\COURSES\\Advanced Data Science With IBM\\Adva...</td>\n",
       "      <td>PNEUMONIA</td>\n",
       "    </tr>\n",
       "    <tr>\n",
       "      <th>4667</th>\n",
       "      <td>E:\\COURSES\\Advanced Data Science With IBM\\Adva...</td>\n",
       "      <td>PNEUMONIA</td>\n",
       "    </tr>\n",
       "    <tr>\n",
       "      <th>4668</th>\n",
       "      <td>E:\\COURSES\\Advanced Data Science With IBM\\Adva...</td>\n",
       "      <td>PNEUMONIA</td>\n",
       "    </tr>\n",
       "    <tr>\n",
       "      <th>4669</th>\n",
       "      <td>E:\\COURSES\\Advanced Data Science With IBM\\Adva...</td>\n",
       "      <td>PNEUMONIA</td>\n",
       "    </tr>\n",
       "  </tbody>\n",
       "</table>\n",
       "<p>4670 rows × 2 columns</p>\n",
       "</div>"
      ],
      "text/plain": [
       "                                                   file      label\n",
       "0     E:\\COURSES\\Advanced Data Science With IBM\\Adva...  PNEUMONIA\n",
       "1     E:\\COURSES\\Advanced Data Science With IBM\\Adva...  PNEUMONIA\n",
       "2     E:\\COURSES\\Advanced Data Science With IBM\\Adva...  PNEUMONIA\n",
       "3     E:\\COURSES\\Advanced Data Science With IBM\\Adva...  PNEUMONIA\n",
       "4     E:\\COURSES\\Advanced Data Science With IBM\\Adva...  PNEUMONIA\n",
       "...                                                 ...        ...\n",
       "4665  E:\\COURSES\\Advanced Data Science With IBM\\Adva...     NORMAL\n",
       "4666  E:\\COURSES\\Advanced Data Science With IBM\\Adva...  PNEUMONIA\n",
       "4667  E:\\COURSES\\Advanced Data Science With IBM\\Adva...  PNEUMONIA\n",
       "4668  E:\\COURSES\\Advanced Data Science With IBM\\Adva...  PNEUMONIA\n",
       "4669  E:\\COURSES\\Advanced Data Science With IBM\\Adva...  PNEUMONIA\n",
       "\n",
       "[4670 rows x 2 columns]"
      ]
     },
     "execution_count": 37,
     "metadata": {},
     "output_type": "execute_result"
    }
   ],
   "source": [
    "train_df"
   ]
  },
  {
   "cell_type": "code",
   "execution_count": 38,
   "metadata": {},
   "outputs": [
    {
     "data": {
      "text/html": [
       "<div>\n",
       "<style scoped>\n",
       "    .dataframe tbody tr th:only-of-type {\n",
       "        vertical-align: middle;\n",
       "    }\n",
       "\n",
       "    .dataframe tbody tr th {\n",
       "        vertical-align: top;\n",
       "    }\n",
       "\n",
       "    .dataframe thead th {\n",
       "        text-align: right;\n",
       "    }\n",
       "</style>\n",
       "<table border=\"1\" class=\"dataframe\">\n",
       "  <thead>\n",
       "    <tr style=\"text-align: right;\">\n",
       "      <th></th>\n",
       "      <th>file</th>\n",
       "      <th>label</th>\n",
       "    </tr>\n",
       "  </thead>\n",
       "  <tbody>\n",
       "    <tr>\n",
       "      <th>0</th>\n",
       "      <td>E:\\COURSES\\Advanced Data Science With IBM\\Adva...</td>\n",
       "      <td>NORMAL</td>\n",
       "    </tr>\n",
       "    <tr>\n",
       "      <th>1</th>\n",
       "      <td>E:\\COURSES\\Advanced Data Science With IBM\\Adva...</td>\n",
       "      <td>NORMAL</td>\n",
       "    </tr>\n",
       "    <tr>\n",
       "      <th>2</th>\n",
       "      <td>E:\\COURSES\\Advanced Data Science With IBM\\Adva...</td>\n",
       "      <td>NORMAL</td>\n",
       "    </tr>\n",
       "    <tr>\n",
       "      <th>3</th>\n",
       "      <td>E:\\COURSES\\Advanced Data Science With IBM\\Adva...</td>\n",
       "      <td>NORMAL</td>\n",
       "    </tr>\n",
       "    <tr>\n",
       "      <th>4</th>\n",
       "      <td>E:\\COURSES\\Advanced Data Science With IBM\\Adva...</td>\n",
       "      <td>NORMAL</td>\n",
       "    </tr>\n",
       "    <tr>\n",
       "      <th>...</th>\n",
       "      <td>...</td>\n",
       "      <td>...</td>\n",
       "    </tr>\n",
       "    <tr>\n",
       "      <th>1055</th>\n",
       "      <td>E:\\COURSES\\Advanced Data Science With IBM\\Adva...</td>\n",
       "      <td>NORMAL</td>\n",
       "    </tr>\n",
       "    <tr>\n",
       "      <th>1056</th>\n",
       "      <td>E:\\COURSES\\Advanced Data Science With IBM\\Adva...</td>\n",
       "      <td>PNEUMONIA</td>\n",
       "    </tr>\n",
       "    <tr>\n",
       "      <th>1057</th>\n",
       "      <td>E:\\COURSES\\Advanced Data Science With IBM\\Adva...</td>\n",
       "      <td>NORMAL</td>\n",
       "    </tr>\n",
       "    <tr>\n",
       "      <th>1058</th>\n",
       "      <td>E:\\COURSES\\Advanced Data Science With IBM\\Adva...</td>\n",
       "      <td>PNEUMONIA</td>\n",
       "    </tr>\n",
       "    <tr>\n",
       "      <th>1059</th>\n",
       "      <td>E:\\COURSES\\Advanced Data Science With IBM\\Adva...</td>\n",
       "      <td>PNEUMONIA</td>\n",
       "    </tr>\n",
       "  </tbody>\n",
       "</table>\n",
       "<p>1060 rows × 2 columns</p>\n",
       "</div>"
      ],
      "text/plain": [
       "                                                   file      label\n",
       "0     E:\\COURSES\\Advanced Data Science With IBM\\Adva...     NORMAL\n",
       "1     E:\\COURSES\\Advanced Data Science With IBM\\Adva...     NORMAL\n",
       "2     E:\\COURSES\\Advanced Data Science With IBM\\Adva...     NORMAL\n",
       "3     E:\\COURSES\\Advanced Data Science With IBM\\Adva...     NORMAL\n",
       "4     E:\\COURSES\\Advanced Data Science With IBM\\Adva...     NORMAL\n",
       "...                                                 ...        ...\n",
       "1055  E:\\COURSES\\Advanced Data Science With IBM\\Adva...     NORMAL\n",
       "1056  E:\\COURSES\\Advanced Data Science With IBM\\Adva...  PNEUMONIA\n",
       "1057  E:\\COURSES\\Advanced Data Science With IBM\\Adva...     NORMAL\n",
       "1058  E:\\COURSES\\Advanced Data Science With IBM\\Adva...  PNEUMONIA\n",
       "1059  E:\\COURSES\\Advanced Data Science With IBM\\Adva...  PNEUMONIA\n",
       "\n",
       "[1060 rows x 2 columns]"
      ]
     },
     "execution_count": 38,
     "metadata": {},
     "output_type": "execute_result"
    }
   ],
   "source": [
    "test_df"
   ]
  },
  {
   "cell_type": "code",
   "execution_count": 39,
   "metadata": {},
   "outputs": [],
   "source": [
    "# split train set further into train and validation set\n",
    "\n",
    "newtrain_df = train_df.sample(frac=0.85,random_state=200) #random state is a seed value\n",
    "validation_df = train_df.drop(newtrain_df.index)"
   ]
  },
  {
   "cell_type": "code",
   "execution_count": 40,
   "metadata": {},
   "outputs": [],
   "source": [
    "train_df = newtrain_df.reset_index(drop=True)\n",
    "validation_df = validation_df.reset_index(drop=True)"
   ]
  },
  {
   "cell_type": "code",
   "execution_count": 41,
   "metadata": {},
   "outputs": [
    {
     "data": {
      "text/html": [
       "<div>\n",
       "<style scoped>\n",
       "    .dataframe tbody tr th:only-of-type {\n",
       "        vertical-align: middle;\n",
       "    }\n",
       "\n",
       "    .dataframe tbody tr th {\n",
       "        vertical-align: top;\n",
       "    }\n",
       "\n",
       "    .dataframe thead th {\n",
       "        text-align: right;\n",
       "    }\n",
       "</style>\n",
       "<table border=\"1\" class=\"dataframe\">\n",
       "  <thead>\n",
       "    <tr style=\"text-align: right;\">\n",
       "      <th></th>\n",
       "      <th>file</th>\n",
       "      <th>label</th>\n",
       "    </tr>\n",
       "  </thead>\n",
       "  <tbody>\n",
       "    <tr>\n",
       "      <th>0</th>\n",
       "      <td>E:\\COURSES\\Advanced Data Science With IBM\\Adva...</td>\n",
       "      <td>PNEUMONIA</td>\n",
       "    </tr>\n",
       "    <tr>\n",
       "      <th>1</th>\n",
       "      <td>E:\\COURSES\\Advanced Data Science With IBM\\Adva...</td>\n",
       "      <td>PNEUMONIA</td>\n",
       "    </tr>\n",
       "    <tr>\n",
       "      <th>2</th>\n",
       "      <td>E:\\COURSES\\Advanced Data Science With IBM\\Adva...</td>\n",
       "      <td>PNEUMONIA</td>\n",
       "    </tr>\n",
       "    <tr>\n",
       "      <th>3</th>\n",
       "      <td>E:\\COURSES\\Advanced Data Science With IBM\\Adva...</td>\n",
       "      <td>PNEUMONIA</td>\n",
       "    </tr>\n",
       "    <tr>\n",
       "      <th>4</th>\n",
       "      <td>E:\\COURSES\\Advanced Data Science With IBM\\Adva...</td>\n",
       "      <td>NORMAL</td>\n",
       "    </tr>\n",
       "    <tr>\n",
       "      <th>...</th>\n",
       "      <td>...</td>\n",
       "      <td>...</td>\n",
       "    </tr>\n",
       "    <tr>\n",
       "      <th>3965</th>\n",
       "      <td>E:\\COURSES\\Advanced Data Science With IBM\\Adva...</td>\n",
       "      <td>PNEUMONIA</td>\n",
       "    </tr>\n",
       "    <tr>\n",
       "      <th>3966</th>\n",
       "      <td>E:\\COURSES\\Advanced Data Science With IBM\\Adva...</td>\n",
       "      <td>PNEUMONIA</td>\n",
       "    </tr>\n",
       "    <tr>\n",
       "      <th>3967</th>\n",
       "      <td>E:\\COURSES\\Advanced Data Science With IBM\\Adva...</td>\n",
       "      <td>PNEUMONIA</td>\n",
       "    </tr>\n",
       "    <tr>\n",
       "      <th>3968</th>\n",
       "      <td>E:\\COURSES\\Advanced Data Science With IBM\\Adva...</td>\n",
       "      <td>NORMAL</td>\n",
       "    </tr>\n",
       "    <tr>\n",
       "      <th>3969</th>\n",
       "      <td>E:\\COURSES\\Advanced Data Science With IBM\\Adva...</td>\n",
       "      <td>PNEUMONIA</td>\n",
       "    </tr>\n",
       "  </tbody>\n",
       "</table>\n",
       "<p>3970 rows × 2 columns</p>\n",
       "</div>"
      ],
      "text/plain": [
       "                                                   file      label\n",
       "0     E:\\COURSES\\Advanced Data Science With IBM\\Adva...  PNEUMONIA\n",
       "1     E:\\COURSES\\Advanced Data Science With IBM\\Adva...  PNEUMONIA\n",
       "2     E:\\COURSES\\Advanced Data Science With IBM\\Adva...  PNEUMONIA\n",
       "3     E:\\COURSES\\Advanced Data Science With IBM\\Adva...  PNEUMONIA\n",
       "4     E:\\COURSES\\Advanced Data Science With IBM\\Adva...     NORMAL\n",
       "...                                                 ...        ...\n",
       "3965  E:\\COURSES\\Advanced Data Science With IBM\\Adva...  PNEUMONIA\n",
       "3966  E:\\COURSES\\Advanced Data Science With IBM\\Adva...  PNEUMONIA\n",
       "3967  E:\\COURSES\\Advanced Data Science With IBM\\Adva...  PNEUMONIA\n",
       "3968  E:\\COURSES\\Advanced Data Science With IBM\\Adva...     NORMAL\n",
       "3969  E:\\COURSES\\Advanced Data Science With IBM\\Adva...  PNEUMONIA\n",
       "\n",
       "[3970 rows x 2 columns]"
      ]
     },
     "execution_count": 41,
     "metadata": {},
     "output_type": "execute_result"
    }
   ],
   "source": [
    "train_df"
   ]
  },
  {
   "cell_type": "code",
   "execution_count": 42,
   "metadata": {},
   "outputs": [
    {
     "data": {
      "text/html": [
       "<div>\n",
       "<style scoped>\n",
       "    .dataframe tbody tr th:only-of-type {\n",
       "        vertical-align: middle;\n",
       "    }\n",
       "\n",
       "    .dataframe tbody tr th {\n",
       "        vertical-align: top;\n",
       "    }\n",
       "\n",
       "    .dataframe thead th {\n",
       "        text-align: right;\n",
       "    }\n",
       "</style>\n",
       "<table border=\"1\" class=\"dataframe\">\n",
       "  <thead>\n",
       "    <tr style=\"text-align: right;\">\n",
       "      <th></th>\n",
       "      <th>file</th>\n",
       "      <th>label</th>\n",
       "    </tr>\n",
       "  </thead>\n",
       "  <tbody>\n",
       "    <tr>\n",
       "      <th>0</th>\n",
       "      <td>E:\\COURSES\\Advanced Data Science With IBM\\Adva...</td>\n",
       "      <td>PNEUMONIA</td>\n",
       "    </tr>\n",
       "    <tr>\n",
       "      <th>1</th>\n",
       "      <td>E:\\COURSES\\Advanced Data Science With IBM\\Adva...</td>\n",
       "      <td>NORMAL</td>\n",
       "    </tr>\n",
       "    <tr>\n",
       "      <th>2</th>\n",
       "      <td>E:\\COURSES\\Advanced Data Science With IBM\\Adva...</td>\n",
       "      <td>PNEUMONIA</td>\n",
       "    </tr>\n",
       "    <tr>\n",
       "      <th>3</th>\n",
       "      <td>E:\\COURSES\\Advanced Data Science With IBM\\Adva...</td>\n",
       "      <td>NORMAL</td>\n",
       "    </tr>\n",
       "    <tr>\n",
       "      <th>4</th>\n",
       "      <td>E:\\COURSES\\Advanced Data Science With IBM\\Adva...</td>\n",
       "      <td>PNEUMONIA</td>\n",
       "    </tr>\n",
       "    <tr>\n",
       "      <th>...</th>\n",
       "      <td>...</td>\n",
       "      <td>...</td>\n",
       "    </tr>\n",
       "    <tr>\n",
       "      <th>695</th>\n",
       "      <td>E:\\COURSES\\Advanced Data Science With IBM\\Adva...</td>\n",
       "      <td>NORMAL</td>\n",
       "    </tr>\n",
       "    <tr>\n",
       "      <th>696</th>\n",
       "      <td>E:\\COURSES\\Advanced Data Science With IBM\\Adva...</td>\n",
       "      <td>PNEUMONIA</td>\n",
       "    </tr>\n",
       "    <tr>\n",
       "      <th>697</th>\n",
       "      <td>E:\\COURSES\\Advanced Data Science With IBM\\Adva...</td>\n",
       "      <td>NORMAL</td>\n",
       "    </tr>\n",
       "    <tr>\n",
       "      <th>698</th>\n",
       "      <td>E:\\COURSES\\Advanced Data Science With IBM\\Adva...</td>\n",
       "      <td>PNEUMONIA</td>\n",
       "    </tr>\n",
       "    <tr>\n",
       "      <th>699</th>\n",
       "      <td>E:\\COURSES\\Advanced Data Science With IBM\\Adva...</td>\n",
       "      <td>PNEUMONIA</td>\n",
       "    </tr>\n",
       "  </tbody>\n",
       "</table>\n",
       "<p>700 rows × 2 columns</p>\n",
       "</div>"
      ],
      "text/plain": [
       "                                                  file      label\n",
       "0    E:\\COURSES\\Advanced Data Science With IBM\\Adva...  PNEUMONIA\n",
       "1    E:\\COURSES\\Advanced Data Science With IBM\\Adva...     NORMAL\n",
       "2    E:\\COURSES\\Advanced Data Science With IBM\\Adva...  PNEUMONIA\n",
       "3    E:\\COURSES\\Advanced Data Science With IBM\\Adva...     NORMAL\n",
       "4    E:\\COURSES\\Advanced Data Science With IBM\\Adva...  PNEUMONIA\n",
       "..                                                 ...        ...\n",
       "695  E:\\COURSES\\Advanced Data Science With IBM\\Adva...     NORMAL\n",
       "696  E:\\COURSES\\Advanced Data Science With IBM\\Adva...  PNEUMONIA\n",
       "697  E:\\COURSES\\Advanced Data Science With IBM\\Adva...     NORMAL\n",
       "698  E:\\COURSES\\Advanced Data Science With IBM\\Adva...  PNEUMONIA\n",
       "699  E:\\COURSES\\Advanced Data Science With IBM\\Adva...  PNEUMONIA\n",
       "\n",
       "[700 rows x 2 columns]"
      ]
     },
     "execution_count": 42,
     "metadata": {},
     "output_type": "execute_result"
    }
   ],
   "source": [
    "validation_df"
   ]
  },
  {
   "cell_type": "markdown",
   "metadata": {},
   "source": [
    "We now have three data sets\n",
    "- train_df (training set)\n",
    "- validation_df (validation set)\n",
    "\n",
    "- test_df (final test set)"
   ]
  },
  {
   "cell_type": "markdown",
   "metadata": {},
   "source": [
    "#### 5. Shape and color of images"
   ]
  },
  {
   "cell_type": "code",
   "execution_count": 43,
   "metadata": {},
   "outputs": [],
   "source": [
    "# Retrieving the geometry of the image and the number of pixels\n",
    "# Images in scikit-image are represented by NumPy ndarrays. \n",
    "# Hence, many common operations can be achieved using standard NumPy methods for manipulating arrays\n",
    "\n",
    "x = []\n",
    "y = []\n",
    "z = []\n",
    "listofdataframes = [train_df, validation_df, test_df]\n",
    "\n",
    "for df in listofdataframes:\n",
    "    for index, row in df.iterrows():\n",
    "        image = row['file']\n",
    "        s = io.imread(image)\n",
    "        x.append(s.shape[0])\n",
    "        y.append(s.shape[1])\n",
    "        if(len(s.shape) == 3):\n",
    "            z.append(1)\n",
    "        else:\n",
    "            z.append(0)"
   ]
  },
  {
   "cell_type": "code",
   "execution_count": 44,
   "metadata": {},
   "outputs": [],
   "source": [
    "df = pd.DataFrame({'x': x,\n",
    "                   'y': y,\n",
    "                   'z': z})"
   ]
  },
  {
   "cell_type": "code",
   "execution_count": 45,
   "metadata": {},
   "outputs": [
    {
     "data": {
      "image/png": "[encoded data removed]",
      "text/plain": [
       "<Figure size 432x288 with 1 Axes>"
      ]
     },
     "metadata": {
      "needs_background": "light"
     },
     "output_type": "display_data"
    }
   ],
   "source": [
    "area = 2\n",
    "plt.scatter(x, y, c=df.z, s=area,  alpha=0.5)\n",
    "plt.title('Image sizes and color')\n",
    "plt.xlabel('x (width)')\n",
    "plt.ylabel('y (height)')\n",
    "classes = [ 'Greyscale', 'RGB']\n",
    "groups = df.groupby('z')\n",
    "for name, group in groups:\n",
    "    name = classes[0] if name == 0 else classes[1]\n",
    "    plt.plot(group.x, group.y, marker='.', linestyle='', markersize=1, label=name)\n",
    "\n",
    "plt.legend(title=\"color\", markerscale=10)\n",
    "\n",
    "plt.show()"
   ]
  },
  {
   "cell_type": "markdown",
   "metadata": {},
   "source": [
    " Since all the images are of different sizes, it will be necessary to reshape them to the same size.\n",
    " Also some are greyscale while other are RGB, so it will be necessary to normalize all images to the same color space (greyscale) "
   ]
  },
  {
   "cell_type": "markdown",
   "metadata": {},
   "source": [
    "## Data Preprocessing\n",
    "\n",
    "The following steps need to be done in the data preprocessing step\n",
    "\n",
    "- convert to greyscale\n",
    "- grayscale normalization - to reduce the effect of illumination's differences.\n",
    "Divide values by 255 to get a value between 0 and 1. NOTE: this already seems to be done automatically by scikit image\n",
    "\n",
    "- image resize - to the same size - training, validation, and test set\n"
   ]
  },
  {
   "cell_type": "code",
   "execution_count": 46,
   "metadata": {},
   "outputs": [
    {
     "name": "stderr",
     "output_type": "stream",
     "text": [
      "100%|██████████████████████████████████████████████████████████████████████████████| 3970/3970 [03:00<00:00, 22.02it/s]\n"
     ]
    }
   ],
   "source": [
    "from skimage.transform import resize\n",
    "\n",
    "x_train_img = []\n",
    "y_train_img = []\n",
    "\n",
    "for i in tqdm(range(len(train_df))):\n",
    "    img = resize(io.imread(train_df.loc[i,'file']), (128,128))\n",
    "    x_train_img.append(img)\n",
    "    y_train_img.append(0 if train_df.loc[i,'label'] == 'NORMAL' else 1)"
   ]
  },
  {
   "cell_type": "code",
   "execution_count": 47,
   "metadata": {},
   "outputs": [
    {
     "name": "stderr",
     "output_type": "stream",
     "text": [
      "100%|████████████████████████████████████████████████████████████████████████████████| 700/700 [00:32<00:00, 21.79it/s]\n"
     ]
    }
   ],
   "source": [
    "x_val_img = []\n",
    "y_val_img = []\n",
    "\n",
    "for i in tqdm(range(len(validation_df))):\n",
    "    img = resize(io.imread(validation_df.loc[i,'file']), (128,128))\n",
    "    x_val_img.append(img)\n",
    "    y_val_img.append(0 if validation_df.loc[i,'label'] == 'NORMAL' else 1)"
   ]
  },
  {
   "cell_type": "code",
   "execution_count": 48,
   "metadata": {},
   "outputs": [
    {
     "name": "stderr",
     "output_type": "stream",
     "text": [
      "100%|██████████████████████████████████████████████████████████████████████████████| 1060/1060 [00:53<00:00, 19.93it/s]\n"
     ]
    }
   ],
   "source": [
    "x_test_img = []\n",
    "y_test_img = []\n",
    "\n",
    "for i in tqdm(range(len(test_df))):\n",
    "    img = resize(io.imread(test_df.loc[i,'file']), (128,128))\n",
    "    x_test_img.append(img)\n",
    "    y_test_img.append(0 if test_df.loc[i,'label'] == 'NORMAL' else 1)"
   ]
  },
  {
   "cell_type": "code",
   "execution_count": 49,
   "metadata": {},
   "outputs": [
    {
     "name": "stderr",
     "output_type": "stream",
     "text": [
      "  0%|                                                                                         | 0/3970 [00:00<?, ?it/s]c:\\miniconda3\\envs\\capstone\\lib\\site-packages\\ipykernel_launcher.py:4: FutureWarning: The behavior of rgb2gray will change in scikit-image 0.19. Currently, rgb2gray allows 2D grayscale image to be passed as inputs and leaves them unmodified as outputs. Starting from version 0.19, 2D arrays will be treated as 1D images with 3 channels.\n",
      "  after removing the cwd from sys.path.\n",
      "100%|██████████████████████████████████████████████████████████████████████████| 3970/3970 [00:00<00:00, 147052.89it/s]\n",
      "  0%|                                                                                          | 0/700 [00:00<?, ?it/s]c:\\miniconda3\\envs\\capstone\\lib\\site-packages\\ipykernel_launcher.py:7: FutureWarning: The behavior of rgb2gray will change in scikit-image 0.19. Currently, rgb2gray allows 2D grayscale image to be passed as inputs and leaves them unmodified as outputs. Starting from version 0.19, 2D arrays will be treated as 1D images with 3 channels.\n",
      "  import sys\n",
      "100%|████████████████████████████████████████████████████████████████████████████| 700/700 [00:00<00:00, 175012.68it/s]\n",
      "  0%|                                                                                         | 0/1060 [00:00<?, ?it/s]c:\\miniconda3\\envs\\capstone\\lib\\site-packages\\ipykernel_launcher.py:10: FutureWarning: The behavior of rgb2gray will change in scikit-image 0.19. Currently, rgb2gray allows 2D grayscale image to be passed as inputs and leaves them unmodified as outputs. Starting from version 0.19, 2D arrays will be treated as 1D images with 3 channels.\n",
      "  # Remove the CWD from sys.path while we load stuff.\n",
      "100%|██████████████████████████████████████████████████████████████████████████| 1060/1060 [00:00<00:00, 212015.37it/s]\n"
     ]
    }
   ],
   "source": [
    "\n",
    "from skimage.color import rgb2gray\n",
    "\n",
    "for i in tqdm(range(len(x_train_img))):\n",
    "    x_train_img[i] = rgb2gray(x_train_img[i])\n",
    "    \n",
    "for i in tqdm(range(len(x_val_img))):\n",
    "    x_val_img[i] = rgb2gray(x_val_img[i])\n",
    "\n",
    "for i in tqdm(range(len(x_test_img))):\n",
    "    x_test_img[i] = rgb2gray(x_test_img[i])\n"
   ]
  },
  {
   "cell_type": "code",
   "execution_count": null,
   "metadata": {},
   "outputs": [],
   "source": []
  },
  {
   "cell_type": "code",
   "execution_count": null,
   "metadata": {},
   "outputs": [],
   "source": []
  },
  {
   "cell_type": "markdown",
   "metadata": {},
   "source": [
    "## Image Augmentation"
   ]
  },
  {
   "cell_type": "markdown",
   "metadata": {},
   "source": [
    "- In order to avoid overfitting problem, alter the training data with small transformations. \n",
    "- Some popular augmentations people use are horizontal flips, vertical flips, random crops, color jitters, translations, rotations, etc. \n",
    "- By applying just a couple of these transformations to our training data, we can easily double or triple the number of training examples and create a very robust model."
   ]
  },
  {
   "cell_type": "markdown",
   "metadata": {},
   "source": [
    "Flip images horizontally"
   ]
  },
  {
   "cell_type": "code",
   "execution_count": 50,
   "metadata": {},
   "outputs": [],
   "source": [
    "x_train_img_fl = [np.flip(img,-1) for img in x_train_img]\n",
    "x_val_img_fl = [np.flip(img,-1) for img in x_val_img]"
   ]
  },
  {
   "cell_type": "code",
   "execution_count": 51,
   "metadata": {},
   "outputs": [
    {
     "data": {
      "text/plain": [
       "<matplotlib.image.AxesImage at 0x2c7fdda0208>"
      ]
     },
     "execution_count": 51,
     "metadata": {},
     "output_type": "execute_result"
    },
    {
     "data": {
      "image/png": "[encoded data removed]",
      "text/plain": [
       "<Figure size 432x288 with 1 Axes>"
      ]
     },
     "metadata": {
      "needs_background": "light"
     },
     "output_type": "display_data"
    }
   ],
   "source": [
    "# verify flipped\n",
    "io.imshow(x_train_img[0])"
   ]
  },
  {
   "cell_type": "code",
   "execution_count": 52,
   "metadata": {},
   "outputs": [
    {
     "data": {
      "text/plain": [
       "<matplotlib.image.AxesImage at 0x2c7fddee668>"
      ]
     },
     "execution_count": 52,
     "metadata": {},
     "output_type": "execute_result"
    },
    {
     "data": {
      "image/png": "[encoded data removed]",
      "text/plain": [
       "<Figure size 432x288 with 1 Axes>"
      ]
     },
     "metadata": {
      "needs_background": "light"
     },
     "output_type": "display_data"
    }
   ],
   "source": [
    "io.imshow(x_train_img_fl[0])"
   ]
  },
  {
   "cell_type": "code",
   "execution_count": null,
   "metadata": {},
   "outputs": [],
   "source": []
  },
  {
   "cell_type": "markdown",
   "metadata": {},
   "source": [
    "Crop then resize (simulate zoom)"
   ]
  },
  {
   "cell_type": "code",
   "execution_count": 53,
   "metadata": {},
   "outputs": [],
   "source": [
    "from skimage.util import crop\n",
    "\n",
    "x_train_img_cr = [resize(crop(i, (10), copy=False),(128,128)) for i in x_train_img]\n",
    "x_val_img_cr = [resize(crop(i, (10), copy=False),(128,128)) for i in x_val_img]"
   ]
  },
  {
   "cell_type": "code",
   "execution_count": 54,
   "metadata": {},
   "outputs": [],
   "source": [
    "# append zoomed images to train and validation sets\n",
    "\n",
    "x_train_img = x_train_img + x_train_img_cr + x_train_img_fl\n",
    "y_train_img = y_train_img + y_train_img + y_train_img\n",
    "x_val_img = x_val_img + x_val_img_cr + x_val_img_fl\n",
    "y_val_img = y_val_img + y_val_img + y_val_img\n"
   ]
  },
  {
   "cell_type": "markdown",
   "metadata": {},
   "source": [
    "###  Calculate class weights\n",
    "\n",
    "We will use the class_weights to correct for class imbalance to avoid a bias towards the majority class.\n",
    "\n",
    "Formula to calculate the weight for a class\n",
    "\n",
    "wj=n_samples / (n_classes * n_samplesj)"
   ]
  },
  {
   "cell_type": "markdown",
   "metadata": {},
   "source": [
    "```text\n",
    "wj is the weight for class j\n",
    "\n",
    "n_samples is the total number of samples or rows in the dataset\n",
    "\n",
    "n_classes is the total number of unique classes in the target\n",
    "\n",
    "n_samplesj is the total number of rows of the respective class\n",
    "```"
   ]
  },
  {
   "cell_type": "code",
   "execution_count": 55,
   "metadata": {},
   "outputs": [
    {
     "name": "stdout",
     "output_type": "stream",
     "text": [
      "3684\n",
      "10326\n"
     ]
    }
   ],
   "source": [
    "normals = [i for i in y_train_img + y_val_img if i == 0]\n",
    "print(len(normals))\n",
    "pneumonias = [i for i in y_train_img + y_val_img if i == 1]\n",
    "print(len(pneumonias))"
   ]
  },
  {
   "cell_type": "code",
   "execution_count": 56,
   "metadata": {},
   "outputs": [
    {
     "name": "stdout",
     "output_type": "stream",
     "text": [
      "Number of pneumonia  10326  and Number of normal  3684\n",
      "weights: pneumonia =  0.678384660081348 , normal =  1.9014657980456027\n"
     ]
    }
   ],
   "source": [
    "n_samples = len(x_train_img) + len(x_val_img)\n",
    "n_classes = 2\n",
    "n_pneumonia = len(pneumonias)\n",
    "n_normal = len(normals)\n",
    "\n",
    "w_pneumonia = n_samples/(n_classes*n_pneumonia)\n",
    "w_normal = n_samples/(n_classes*n_normal)\n",
    "\n",
    "print(\"Number of pneumonia \", n_pneumonia, \" and Number of normal \", n_normal)\n",
    "print(\"weights: pneumonia = \", w_pneumonia, \", normal = \", w_normal)\n",
    "\n",
    "# assign the class weights calculated above\n",
    "# we will use this in the fit() method below\n",
    "\n",
    "class_weight = {0: w_normal, 1: w_pneumonia}\n"
   ]
  },
  {
   "cell_type": "code",
   "execution_count": null,
   "metadata": {},
   "outputs": [],
   "source": []
  },
  {
   "cell_type": "code",
   "execution_count": 57,
   "metadata": {},
   "outputs": [],
   "source": [
    "def crossvalidate_roc(X, y, classifier, folds):\n",
    "    tprs = []\n",
    "    aucs = []\n",
    "    mean_fpr = np.linspace(0, 1, 100)\n",
    "    cv = StratifiedKFold(n_splits=folds)\n",
    "    X = np.array(X)\n",
    "    y = np.array(y)\n",
    "    \n",
    "    fig, ax = plt.subplots()\n",
    "    for i, (train, test) in enumerate(cv.split(X, y)):\n",
    "        classifier.fit(X[train], y[train])\n",
    "        viz = plot_roc_curve(classifier, X[test], y[test],\n",
    "                             name='ROC fold {}'.format(i),\n",
    "                             alpha=0.3, lw=1, ax=ax)\n",
    "        interp_tpr = np.interp(mean_fpr, viz.fpr, viz.tpr)\n",
    "        interp_tpr[0] = 0.0\n",
    "        tprs.append(interp_tpr)\n",
    "        aucs.append(viz.roc_auc)\n",
    "\n",
    "    ax.plot([0, 1], [0, 1], linestyle='--', lw=2, color='r',\n",
    "            label='Chance', alpha=.8)\n",
    "\n",
    "    mean_tpr = np.mean(tprs, axis=0)\n",
    "    mean_tpr[-1] = 1.0\n",
    "    mean_auc = metrics.auc(mean_fpr, mean_tpr)\n",
    "    std_auc = np.std(aucs)\n",
    "    ax.plot(mean_fpr, mean_tpr, color='b',\n",
    "            label=r'Mean ROC (AUC = %0.2f $\\pm$ %0.2f)' % (mean_auc, std_auc),\n",
    "            lw=2, alpha=.8)\n",
    "\n",
    "    std_tpr = np.std(tprs, axis=0)\n",
    "    tprs_upper = np.minimum(mean_tpr + std_tpr, 1)\n",
    "    tprs_lower = np.maximum(mean_tpr - std_tpr, 0)\n",
    "    ax.fill_between(mean_fpr, tprs_lower, tprs_upper, color='grey', alpha=.2,\n",
    "                    label=r'$\\pm$ 1 std. dev.')\n",
    "\n",
    "    ax.set(xlim=[-0.05, 1.05], ylim=[-0.05, 1.05],\n",
    "           title=\"Receiver operating characteristic\")\n",
    "    ax.legend(loc=\"lower right\")\n",
    "    plt.show()\n",
    "    \n",
    "    return mean_fpr, mean_tpr, mean_auc\n"
   ]
  },
  {
   "cell_type": "markdown",
   "metadata": {},
   "source": [
    "## Model Selection Phase"
   ]
  },
  {
   "cell_type": "code",
   "execution_count": 58,
   "metadata": {},
   "outputs": [],
   "source": [
    "x_train_img_flat = [np.array(i).flatten() for i in x_train_img]\n",
    "x_val_img_flat = [np.array(i).flatten() for i in x_val_img]\n",
    "x_test_img_flat = [np.array(i).flatten() for i in x_test_img]"
   ]
  },
  {
   "cell_type": "code",
   "execution_count": 59,
   "metadata": {},
   "outputs": [],
   "source": [
    "# reduce dimensionality of the data using PCA to\n",
    "# this will speed up training for classifiers like SVM which takes a long time\n",
    "\n",
    "from sklearn.decomposition import PCA\n",
    "n_components = 150\n",
    "pca = PCA(n_components=n_components, svd_solver='randomized', whiten=True).fit(x_train_img_flat + x_val_img_flat)\n",
    "X_train_pca = pca.transform(x_train_img_flat + x_val_img_flat)"
   ]
  },
  {
   "cell_type": "code",
   "execution_count": 60,
   "metadata": {},
   "outputs": [],
   "source": [
    "X_test_pca = pca.transform(x_test_img_flat)"
   ]
  },
  {
   "cell_type": "code",
   "execution_count": 61,
   "metadata": {},
   "outputs": [],
   "source": [
    "x_tr = x_train_img_flat\n",
    "x_val = x_val_img_flat\n",
    "y_tr = y_train_img\n",
    "y_val = y_val_img"
   ]
  },
  {
   "cell_type": "markdown",
   "metadata": {},
   "source": [
    "### Baseline Model"
   ]
  },
  {
   "cell_type": "code",
   "execution_count": 62,
   "metadata": {},
   "outputs": [],
   "source": [
    "# dictionary to hold fpr and tpr\n",
    "roc = {}"
   ]
  },
  {
   "cell_type": "code",
   "execution_count": 63,
   "metadata": {},
   "outputs": [],
   "source": [
    "clf_baseline = DummyClassifier(strategy=\"stratified\")"
   ]
  },
  {
   "cell_type": "code",
   "execution_count": 64,
   "metadata": {},
   "outputs": [
    {
     "name": "stdout",
     "output_type": "stream",
     "text": [
      "fit_time 0.009198713302612304 0.000748189417326653\n",
      "score_time 0.009200000762939453 0.0003998761810491959\n",
      "test_accuracy 0.6135617416131334 0.006918104894483049\n",
      "test_precision_weighted 0.611866687067218 0.006697088633300963\n",
      "test_recall_weighted 0.6135617416131334 0.006918104894483049\n",
      "test_f1_weighted 0.6126977744882692 0.006719285273896329\n",
      "test_roc_auc 0.5010095988112526 0.014324572752920045\n"
     ]
    }
   ],
   "source": [
    "scoring = ['accuracy', 'precision_weighted', 'recall_weighted', 'f1_weighted', 'roc_auc']\n",
    "scores = cross_validate(clf_baseline, X_train_pca, y_tr + y_val, scoring=scoring, cv=5)\n",
    "for key, value in scores.items():\n",
    "    print(key, value.mean(), value.std())"
   ]
  },
  {
   "cell_type": "code",
   "execution_count": 65,
   "metadata": {},
   "outputs": [
    {
     "data": {
      "image/png": "[encoded data removed]",
      "text/plain": [
       "<Figure size 432x288 with 1 Axes>"
      ]
     },
     "metadata": {
      "needs_background": "light"
     },
     "output_type": "display_data"
    }
   ],
   "source": [
    "fpr, tpr, auc = crossvalidate_roc(X_train_pca, y_tr + y_val, clf_baseline, 5)\n",
    "roc['baseline'] = [fpr,tpr,auc]"
   ]
  },
  {
   "cell_type": "markdown",
   "metadata": {},
   "source": [
    "### Naive Bayes Classifier"
   ]
  },
  {
   "cell_type": "code",
   "execution_count": 66,
   "metadata": {},
   "outputs": [],
   "source": [
    "clf_naive = GaussianNB()"
   ]
  },
  {
   "cell_type": "code",
   "execution_count": 67,
   "metadata": {},
   "outputs": [
    {
     "name": "stdout",
     "output_type": "stream",
     "text": [
      "fit_time 0.034799051284790036 0.0017211059721265163\n",
      "score_time 0.023999929428100586 0.0018986117591910728\n",
      "test_precision_weighted 0.80875118450832 0.014140841036164711\n",
      "test_recall_weighted 0.7871520342612419 0.025429461384154566\n",
      "test_f1_weighted 0.7937694628394223 0.02191972872644647\n",
      "test_roc_auc 0.8579328110349442 0.02329141056295873\n"
     ]
    }
   ],
   "source": [
    "scoring = ['precision_weighted', 'recall_weighted', 'f1_weighted', 'roc_auc']\n",
    "scores = cross_validate(clf_naive, X_train_pca, y_tr+y_val, scoring=scoring, cv=5)\n",
    "for key, value in scores.items():\n",
    "    print(key, value.mean(), value.std())"
   ]
  },
  {
   "cell_type": "code",
   "execution_count": 68,
   "metadata": {},
   "outputs": [
    {
     "data": {
      "image/png": "[encoded data removed]",
      "text/plain": [
       "<Figure size 432x288 with 1 Axes>"
      ]
     },
     "metadata": {
      "needs_background": "light"
     },
     "output_type": "display_data"
    }
   ],
   "source": [
    "fpr, tpr, auc = crossvalidate_roc(X_train_pca, y_tr + y_val, clf_naive, 5)\n",
    "roc['naive'] = [fpr,tpr,auc]"
   ]
  },
  {
   "cell_type": "markdown",
   "metadata": {},
   "source": [
    "### Decision Tree Classifier"
   ]
  },
  {
   "cell_type": "code",
   "execution_count": 69,
   "metadata": {},
   "outputs": [],
   "source": [
    "clf_dtree = tree.DecisionTreeClassifier()"
   ]
  },
  {
   "cell_type": "code",
   "execution_count": 70,
   "metadata": {},
   "outputs": [
    {
     "name": "stdout",
     "output_type": "stream",
     "text": [
      "fit_time 2.8399120807647704 0.16816741535210153\n",
      "score_time 0.011034870147705078 0.0019833061707864317\n",
      "test_precision_weighted 0.8439546253841927 0.004196802536456492\n",
      "test_recall_weighted 0.844039971448965 0.0033479056101523574\n",
      "test_f1_weighted 0.8438319530949542 0.0035129838805332716\n",
      "test_roc_auc 0.7978253435630149 0.008806034594056072\n"
     ]
    }
   ],
   "source": [
    "scoring = ['precision_weighted', 'recall_weighted', 'f1_weighted','roc_auc']\n",
    "scores = cross_validate(clf_dtree, X_train_pca, y_tr+y_val, scoring=scoring, cv=5)\n",
    "for key, value in scores.items():\n",
    "    print(key, value.mean(), value.std())"
   ]
  },
  {
   "cell_type": "code",
   "execution_count": 71,
   "metadata": {},
   "outputs": [
    {
     "data": {
      "image/png": "[encoded data removed]",
      "text/plain": [
       "<Figure size 432x288 with 1 Axes>"
      ]
     },
     "metadata": {
      "needs_background": "light"
     },
     "output_type": "display_data"
    }
   ],
   "source": [
    "fpr, tpr, auc = crossvalidate_roc(X_train_pca, y_tr + y_val, clf_dtree, 5)\n",
    "roc['decision tree'] = [fpr,tpr,auc]"
   ]
  },
  {
   "cell_type": "markdown",
   "metadata": {},
   "source": [
    "### Random Forest Classifier"
   ]
  },
  {
   "cell_type": "code",
   "execution_count": 72,
   "metadata": {},
   "outputs": [],
   "source": [
    "clf_randomforest = RandomForestClassifier(max_depth=2, random_state=0)"
   ]
  },
  {
   "cell_type": "code",
   "execution_count": 73,
   "metadata": {},
   "outputs": [
    {
     "name": "stderr",
     "output_type": "stream",
     "text": [
      "c:\\miniconda3\\envs\\capstone\\lib\\site-packages\\sklearn\\metrics\\_classification.py:1245: UndefinedMetricWarning: Precision is ill-defined and being set to 0.0 in labels with no predicted samples. Use `zero_division` parameter to control this behavior.\n",
      "  _warn_prf(average, modifier, msg_start, len(result))\n",
      "c:\\miniconda3\\envs\\capstone\\lib\\site-packages\\sklearn\\metrics\\_classification.py:1245: UndefinedMetricWarning: Precision is ill-defined and being set to 0.0 in labels with no predicted samples. Use `zero_division` parameter to control this behavior.\n",
      "  _warn_prf(average, modifier, msg_start, len(result))\n",
      "c:\\miniconda3\\envs\\capstone\\lib\\site-packages\\sklearn\\metrics\\_classification.py:1245: UndefinedMetricWarning: Precision is ill-defined and being set to 0.0 in labels with no predicted samples. Use `zero_division` parameter to control this behavior.\n",
      "  _warn_prf(average, modifier, msg_start, len(result))\n",
      "c:\\miniconda3\\envs\\capstone\\lib\\site-packages\\sklearn\\metrics\\_classification.py:1245: UndefinedMetricWarning: Precision is ill-defined and being set to 0.0 in labels with no predicted samples. Use `zero_division` parameter to control this behavior.\n",
      "  _warn_prf(average, modifier, msg_start, len(result))\n"
     ]
    },
    {
     "name": "stdout",
     "output_type": "stream",
     "text": [
      "fit_time 1.7894690990448 0.010446459037804773\n",
      "score_time 0.0445587158203125 0.004052222485541183\n",
      "test_precision_weighted 0.5432353050563965 0.00021046453512099105\n",
      "test_recall_weighted 0.7370449678800857 0.0001427551748751199\n",
      "test_f1_weighted 0.6254706141470875 0.00019089835432009039\n",
      "test_roc_auc 0.9072613428444625 0.00659152338886443\n"
     ]
    },
    {
     "name": "stderr",
     "output_type": "stream",
     "text": [
      "c:\\miniconda3\\envs\\capstone\\lib\\site-packages\\sklearn\\metrics\\_classification.py:1245: UndefinedMetricWarning: Precision is ill-defined and being set to 0.0 in labels with no predicted samples. Use `zero_division` parameter to control this behavior.\n",
      "  _warn_prf(average, modifier, msg_start, len(result))\n"
     ]
    }
   ],
   "source": [
    "scoring = ['precision_weighted', 'recall_weighted', 'f1_weighted','roc_auc']\n",
    "scores = cross_validate(clf_randomforest, X_train_pca, y_tr+y_val, scoring=scoring, cv=5)\n",
    "for key, value in scores.items():\n",
    "    print(key, value.mean(), value.std())"
   ]
  },
  {
   "cell_type": "code",
   "execution_count": 74,
   "metadata": {},
   "outputs": [
    {
     "data": {
      "image/png": "[encoded data removed]",
      "text/plain": [
       "<Figure size 432x288 with 1 Axes>"
      ]
     },
     "metadata": {
      "needs_background": "light"
     },
     "output_type": "display_data"
    }
   ],
   "source": [
    "fpr, tpr, auc = crossvalidate_roc(X_train_pca, y_tr + y_val, clf_randomforest, 5)\n",
    "roc['random forest'] = [fpr,tpr,auc]"
   ]
  },
  {
   "cell_type": "markdown",
   "metadata": {},
   "source": [
    "### Support Vector Machine"
   ]
  },
  {
   "cell_type": "code",
   "execution_count": 75,
   "metadata": {},
   "outputs": [],
   "source": [
    "clf_svm = svm.SVC()"
   ]
  },
  {
   "cell_type": "code",
   "execution_count": 76,
   "metadata": {},
   "outputs": [
    {
     "name": "stdout",
     "output_type": "stream",
     "text": [
      "fit_time 3.1661684036254885 0.014314348970370488\n",
      "score_time 2.7357316970825196 0.017735524193781053\n",
      "test_precision_weighted 0.9623690278578018 0.0042907807373868765\n",
      "test_recall_weighted 0.9624553890078517 0.0042552058703180145\n",
      "test_f1_weighted 0.9622185907340743 0.0044521559314755765\n",
      "test_roc_auc 0.992043275164092 0.001133149198596408\n"
     ]
    }
   ],
   "source": [
    "scoring = ['precision_weighted', 'recall_weighted', 'f1_weighted', 'roc_auc']\n",
    "scores = cross_validate(clf_svm, X_train_pca, y_tr+y_val, scoring=scoring, cv=5)\n",
    "for key, value in scores.items():\n",
    "    print(key, value.mean(), value.std())"
   ]
  },
  {
   "cell_type": "code",
   "execution_count": 77,
   "metadata": {},
   "outputs": [
    {
     "data": {
      "image/png": "[encoded data removed]",
      "text/plain": [
       "<Figure size 432x288 with 1 Axes>"
      ]
     },
     "metadata": {
      "needs_background": "light"
     },
     "output_type": "display_data"
    }
   ],
   "source": [
    "fpr, tpr, auc = crossvalidate_roc(X_train_pca, y_tr + y_val, clf_svm, 5)\n",
    "roc['support vector machine'] = [fpr,tpr,auc]"
   ]
  },
  {
   "cell_type": "markdown",
   "metadata": {},
   "source": [
    "### Plot combined ROC curves"
   ]
  },
  {
   "cell_type": "code",
   "execution_count": 78,
   "metadata": {},
   "outputs": [
    {
     "data": {
      "image/png": "[encoded data removed]",
      "text/plain": [
       "<Figure size 720x576 with 1 Axes>"
      ]
     },
     "metadata": {
      "needs_background": "light"
     },
     "output_type": "display_data"
    }
   ],
   "source": [
    "plt.figure(figsize=(10,8))\n",
    "for key, value in roc.items():\n",
    "    plt.plot(value[0], value[1], label='%s ROC (area = %0.2f)' % (key, value[2]))\n",
    "\n",
    "plt.legend()\n",
    "plt.xlabel(\"FPR\")\n",
    "plt.ylabel(\"TPR\")\n",
    "plt.title('Receiver Operating Characteristic (mean)')\n",
    "plt.show()"
   ]
  },
  {
   "cell_type": "markdown",
   "metadata": {},
   "source": [
    "## Hyperparameter tuning"
   ]
  },
  {
   "cell_type": "code",
   "execution_count": 79,
   "metadata": {},
   "outputs": [
    {
     "name": "stdout",
     "output_type": "stream",
     "text": [
      "{'C': 10, 'kernel': 'rbf'}\n"
     ]
    }
   ],
   "source": [
    "from sklearn.model_selection import GridSearchCV\n",
    "parameters = {'kernel':('linear', 'rbf'), 'C':[0.5, 1.0, 1.5, 1.75, 2, 2.25, 2.5, 5, 10]}\n",
    "clf_ = GridSearchCV(svm.SVC(class_weight='balanced'), parameters, cv=5)\n",
    "search = clf_.fit(X_train_pca, y_tr + y_val)\n",
    "print(search.best_params_)"
   ]
  },
  {
   "cell_type": "markdown",
   "metadata": {},
   "source": [
    "### Evaluate Final Model on Test Set"
   ]
  },
  {
   "cell_type": "code",
   "execution_count": 80,
   "metadata": {},
   "outputs": [],
   "source": [
    "clf_svm_final = svm.SVC(C=search.best_params_['C'], kernel=search.best_params_['kernel'], class_weight='balanced')"
   ]
  },
  {
   "cell_type": "code",
   "execution_count": 81,
   "metadata": {},
   "outputs": [
    {
     "data": {
      "text/plain": [
       "SVC(C=10, class_weight='balanced')"
      ]
     },
     "execution_count": 81,
     "metadata": {},
     "output_type": "execute_result"
    }
   ],
   "source": [
    "clf_svm_final.fit(X_train_pca, y_tr + y_val)"
   ]
  },
  {
   "cell_type": "code",
   "execution_count": 82,
   "metadata": {},
   "outputs": [
    {
     "name": "stdout",
     "output_type": "stream",
     "text": [
      "              precision    recall  f1-score   support\n",
      "\n",
      "           0       0.97      0.55      0.70       353\n",
      "           1       0.82      0.99      0.89       707\n",
      "\n",
      "    accuracy                           0.84      1060\n",
      "   macro avg       0.89      0.77      0.80      1060\n",
      "weighted avg       0.87      0.84      0.83      1060\n",
      "\n"
     ]
    }
   ],
   "source": [
    "#p = np.array(clf_svm_final.decision_function(x_test))\n",
    "#prob = np.exp(p)/np.sum(np.exp(p), keepdims=True)\n",
    "pred_svm_final = clf_svm.predict(X_test_pca)\n",
    "print(classification_report(y_test_img, pred_svm_final))"
   ]
  },
  {
   "cell_type": "code",
   "execution_count": 83,
   "metadata": {},
   "outputs": [
    {
     "name": "stdout",
     "output_type": "stream",
     "text": [
      "confusion matrix\n",
      "[[195 158]\n",
      " [  7 700]]\n"
     ]
    },
    {
     "data": {
      "image/png": "[encoded data removed]",
      "text/plain": [
       "<Figure size 360x360 with 1 Axes>"
      ]
     },
     "metadata": {
      "needs_background": "light"
     },
     "output_type": "display_data"
    }
   ],
   "source": [
    "#CM_svm_final = confusion_matrix(test_set.classes, np.argmax(pred_svm_final, axis=1))\n",
    "CM_svm_final = confusion_matrix(y_test_img, pred_svm_final)\n",
    "print(\"confusion matrix\")\n",
    "print(CM_svm_final)\n",
    "fig, ax = plot_confusion_matrix(conf_mat=CM_svm_final ,  figsize=(5, 5))\n",
    "plt.show()"
   ]
  },
  {
   "cell_type": "code",
   "execution_count": 84,
   "metadata": {},
   "outputs": [],
   "source": [
    "#pred_svm = clf_svm.predict(x_test)\n",
    "# example to get probablitites for SVM\n",
    "#p = np.array(clf_svm.decision_function(x_test))\n",
    "#prob = np.exp(p)/np.sum(np.exp(p), keepdims=True)\n",
    "\n",
    "#fpr, tpr, thresholds = metrics.roc_curve(y_test, prob)  # you have to pass the probabilities here\n",
    "#auc = metrics.roc_auc_score(y_test, pred_svm)\n",
    "#roc['svm'] = [fpr,tpr,auc]\n",
    "\n",
    "#plt.plot(fpr, tpr, label='%s ROC (area = %0.2f)' % ('svm', auc))\n",
    "#plt.legend(loc=0)"
   ]
  },
  {
   "cell_type": "markdown",
   "metadata": {},
   "source": [
    "## Deep Neural Nets"
   ]
  },
  {
   "cell_type": "markdown",
   "metadata": {},
   "source": [
    "### Define Metrics"
   ]
  },
  {
   "cell_type": "code",
   "execution_count": 85,
   "metadata": {},
   "outputs": [],
   "source": [
    "METRICS = [\n",
    "        'accuracy',\n",
    "        tf.keras.metrics.Precision(name='precision'),\n",
    "        tf.keras.metrics.Recall(name='recall'),\n",
    "        tf.keras.metrics.AUC(name='auc')\n",
    "    ]"
   ]
  },
  {
   "cell_type": "markdown",
   "metadata": {},
   "source": [
    "### Define Cross validation function"
   ]
  },
  {
   "cell_type": "code",
   "execution_count": 86,
   "metadata": {},
   "outputs": [],
   "source": [
    "def kfoldcrossval(x, y, folds, epochs, model):\n",
    "    \n",
    "    losses = {}\n",
    "    val_losses = {}\n",
    "    accuracies = {}\n",
    "    val_accuracies = {}\n",
    "    \n",
    "    skf = StratifiedKFold(n_splits=folds, random_state=0, shuffle=True)\n",
    "    for train, test in skf.split(x,y):\n",
    "        #print(\"TRAIN:\", train, \"TeST: \", test)\n",
    "        \n",
    "        train_x = list();\n",
    "        train_y = list();\n",
    "        test_x = list();\n",
    "        test_y = list();\n",
    "        \n",
    "        for train_index in train:\n",
    "            train_x.append(x[train_index])\n",
    "            train_y.append(y[train_index])\n",
    "        \n",
    "        for test_index in test:\n",
    "            test_x.append(x[test_index])\n",
    "            test_y.append(y[test_index])            \n",
    "        \n",
    "        with tf.device(device_spec):\n",
    "            history = model.fit(np.array(train_x), np.array(train_y), batch_size=32, epochs=epochs, class_weight=class_weight, validation_data=(np.array(test_x), np.array(test_y)), verbose=1)\n",
    "        \n",
    "            history_df = pd.DataFrame(history.history)\n",
    "\n",
    "            for i in range(0, len(history_df)):\n",
    "\n",
    "                if i in losses:\n",
    "                    losses[i].append(history_df['loss'][i])\n",
    "                else:\n",
    "                    losses[i] = []\n",
    "                    losses[i].append(history_df['loss'][i])\n",
    "\n",
    "                if i in val_losses:\n",
    "                    val_losses[i].append(history_df['val_loss'][i])\n",
    "                else:\n",
    "                    val_losses[i] = []\n",
    "                    val_losses[i].append(history_df['val_loss'][i])\n",
    "\n",
    "                if i in accuracies:\n",
    "                    accuracies[i].append(history_df['accuracy'][i])\n",
    "                else:\n",
    "                    accuracies[i] = []\n",
    "                    accuracies[i].append(history_df['accuracy'][i])\n",
    "\n",
    "                if i in val_accuracies:\n",
    "                    val_accuracies[i].append(history_df['val_accuracy'][i])\n",
    "                else:\n",
    "                    val_accuracies[i] = []\n",
    "                    val_accuracies[i].append(history_df['val_accuracy'][i])                \n",
    "        \n",
    "    return losses, val_losses, accuracies, val_accuracies\n"
   ]
  },
  {
   "cell_type": "markdown",
   "metadata": {},
   "source": [
    "### Building CNN-1"
   ]
  },
  {
   "cell_type": "code",
   "execution_count": 165,
   "metadata": {},
   "outputs": [],
   "source": [
    "cnn_1 = tf.keras.models.Sequential(name='cnn_1')\n",
    "#cnn_1.add(tf.keras.layers.Cropping2D(cropping=((8, 8), (8, 8)), input_shape=(256,256,1)))"
   ]
  },
  {
   "cell_type": "markdown",
   "metadata": {},
   "source": [
    "#### 1. Convolution and Pooling"
   ]
  },
  {
   "cell_type": "code",
   "execution_count": 166,
   "metadata": {},
   "outputs": [],
   "source": [
    "#cnn_1.add(tf.keras.layers.Conv2D(filters=8, kernel_size=3, activation='relu' ))\n",
    "cnn_1.add(tf.keras.layers.Conv2D(filters=16, kernel_size=3, activation='relu', input_shape=(128,128, 1) ))\n",
    "#cnn_1.add(tf.keras.layers.BatchNormalization())\n",
    "cnn_1.add(tf.keras.layers.MaxPool2D(pool_size=2, strides=2, padding = 'same'))\n",
    "#cnn_1.add(tf.keras.layers.BatchNormalization())"
   ]
  },
  {
   "cell_type": "markdown",
   "metadata": {},
   "source": [
    "#### 3. Add a additional Convolutional and Pooling Layer"
   ]
  },
  {
   "cell_type": "code",
   "execution_count": 167,
   "metadata": {},
   "outputs": [],
   "source": [
    "#cnn.add(tf.keras.layers.Conv2D(filters = 16, kernel_size = 3, activation='relu'))\n",
    "#cnn.add(tf.keras.layers.MaxPool2D(pool_size=2, strides=2, padding = 'same'))\n",
    "cnn_1.add(tf.keras.layers.Dropout(0.2))\n",
    "\n",
    "cnn_1.add(tf.keras.layers.Conv2D(filters = 32, kernel_size = 3, activation = 'relu'))\n",
    "#cnn_1.add(tf.keras.layers.BatchNormalization())\n",
    "cnn_1.add(tf.keras.layers.MaxPool2D(pool_size=2, strides=2, padding = 'same'))\n",
    "#cnn_1.add(tf.keras.layers.BatchNormalization())\n",
    "cnn_1.add(tf.keras.layers.Conv2D(filters = 128, kernel_size = 3, activation = 'relu'))\n",
    "#cnn_1.add(tf.keras.layers.BatchNormalization())\n",
    "cnn_1.add(tf.keras.layers.MaxPool2D(pool_size=2, strides=2, padding = 'same'))"
   ]
  },
  {
   "cell_type": "markdown",
   "metadata": {},
   "source": [
    "#### 4. Flattening"
   ]
  },
  {
   "cell_type": "code",
   "execution_count": 168,
   "metadata": {},
   "outputs": [],
   "source": [
    "cnn_1.add(tf.keras.layers.Flatten())"
   ]
  },
  {
   "cell_type": "markdown",
   "metadata": {},
   "source": [
    "#### 5. Full Connection"
   ]
  },
  {
   "cell_type": "code",
   "execution_count": 169,
   "metadata": {},
   "outputs": [],
   "source": [
    "#units = number of hidden neurons - larger number better for images\n",
    "cnn_1.add(tf.keras.layers.Dense(units=128, activation='relu', kernel_regularizer=tf.keras.regularizers.l1(l=0.01)))\n",
    "#cnn_1.add(tf.keras.layers.BatchNormalization())\n",
    "cnn_1.add(tf.keras.layers.Dropout(0.5))"
   ]
  },
  {
   "cell_type": "markdown",
   "metadata": {},
   "source": [
    "#### 6. Output Layer"
   ]
  },
  {
   "cell_type": "code",
   "execution_count": 170,
   "metadata": {},
   "outputs": [],
   "source": [
    "#units = 1 for binary classification\n",
    "cnn_1.add(tf.keras.layers.Dense(units=1, activation='sigmoid'))"
   ]
  },
  {
   "cell_type": "markdown",
   "metadata": {},
   "source": [
    "#### 7. Compiling the CNN"
   ]
  },
  {
   "cell_type": "code",
   "execution_count": 171,
   "metadata": {},
   "outputs": [
    {
     "name": "stdout",
     "output_type": "stream",
     "text": [
      "WARNING:tensorflow:tf.keras.mixed_precision.experimental.LossScaleOptimizer is deprecated. Please use tf.keras.mixed_precision.LossScaleOptimizer instead. Note that the non-experimental LossScaleOptimizer does not take a DynamicLossScale but instead takes the dynamic configuration directly in the constructor. For example:\n",
      "  opt = tf.keras.mixed_precision.experimental.LossScaleOptimizer(opt)\n",
      "\n",
      "Model: \"cnn_1\"\n",
      "_________________________________________________________________\n",
      "Layer (type)                 Output Shape              Param #   \n",
      "=================================================================\n",
      "conv2d_11 (Conv2D)           (None, 126, 126, 16)      160       \n",
      "_________________________________________________________________\n",
      "max_pooling2d_11 (MaxPooling (None, 63, 63, 16)        0         \n",
      "_________________________________________________________________\n",
      "dropout_8 (Dropout)          (None, 63, 63, 16)        0         \n",
      "_________________________________________________________________\n",
      "conv2d_12 (Conv2D)           (None, 61, 61, 32)        4640      \n",
      "_________________________________________________________________\n",
      "max_pooling2d_12 (MaxPooling (None, 31, 31, 32)        0         \n",
      "_________________________________________________________________\n",
      "conv2d_13 (Conv2D)           (None, 29, 29, 128)       36992     \n",
      "_________________________________________________________________\n",
      "max_pooling2d_13 (MaxPooling (None, 15, 15, 128)       0         \n",
      "_________________________________________________________________\n",
      "flatten_3 (Flatten)          (None, 28800)             0         \n",
      "_________________________________________________________________\n",
      "dense_6 (Dense)              (None, 128)               3686528   \n",
      "_________________________________________________________________\n",
      "dropout_9 (Dropout)          (None, 128)               0         \n",
      "_________________________________________________________________\n",
      "dense_7 (Dense)              (None, 1)                 129       \n",
      "=================================================================\n",
      "Total params: 3,728,449\n",
      "Trainable params: 3,728,449\n",
      "Non-trainable params: 0\n",
      "_________________________________________________________________\n"
     ]
    }
   ],
   "source": [
    "cnn_1.compile(optimizer='adam', loss='binary_crossentropy', metrics=METRICS)\n",
    "cnn_1.summary()"
   ]
  },
  {
   "cell_type": "markdown",
   "metadata": {},
   "source": [
    " "
   ]
  },
  {
   "cell_type": "markdown",
   "metadata": {},
   "source": [
    "### Building CNN-2"
   ]
  },
  {
   "cell_type": "code",
   "execution_count": 94,
   "metadata": {},
   "outputs": [
    {
     "name": "stdout",
     "output_type": "stream",
     "text": [
      "WARNING:tensorflow:tf.keras.mixed_precision.experimental.LossScaleOptimizer is deprecated. Please use tf.keras.mixed_precision.LossScaleOptimizer instead. Note that the non-experimental LossScaleOptimizer does not take a DynamicLossScale but instead takes the dynamic configuration directly in the constructor. For example:\n",
      "  opt = tf.keras.mixed_precision.experimental.LossScaleOptimizer(opt)\n",
      "\n",
      "Model: \"cnn_2\"\n",
      "_________________________________________________________________\n",
      "Layer (type)                 Output Shape              Param #   \n",
      "=================================================================\n",
      "conv2d_3 (Conv2D)            (None, 128, 128, 32)      320       \n",
      "_________________________________________________________________\n",
      "max_pooling2d_3 (MaxPooling2 (None, 64, 64, 32)        0         \n",
      "_________________________________________________________________\n",
      "conv2d_4 (Conv2D)            (None, 64, 64, 64)        18496     \n",
      "_________________________________________________________________\n",
      "dropout_2 (Dropout)          (None, 64, 64, 64)        0         \n",
      "_________________________________________________________________\n",
      "max_pooling2d_4 (MaxPooling2 (None, 32, 32, 64)        0         \n",
      "_________________________________________________________________\n",
      "conv2d_5 (Conv2D)            (None, 32, 32, 64)        36928     \n",
      "_________________________________________________________________\n",
      "max_pooling2d_5 (MaxPooling2 (None, 16, 16, 64)        0         \n",
      "_________________________________________________________________\n",
      "conv2d_6 (Conv2D)            (None, 16, 16, 128)       73856     \n",
      "_________________________________________________________________\n",
      "dropout_3 (Dropout)          (None, 16, 16, 128)       0         \n",
      "_________________________________________________________________\n",
      "max_pooling2d_6 (MaxPooling2 (None, 8, 8, 128)         0         \n",
      "_________________________________________________________________\n",
      "conv2d_7 (Conv2D)            (None, 8, 8, 256)         295168    \n",
      "_________________________________________________________________\n",
      "dropout_4 (Dropout)          (None, 8, 8, 256)         0         \n",
      "_________________________________________________________________\n",
      "max_pooling2d_7 (MaxPooling2 (None, 4, 4, 256)         0         \n",
      "_________________________________________________________________\n",
      "flatten_1 (Flatten)          (None, 4096)              0         \n",
      "_________________________________________________________________\n",
      "dense_2 (Dense)              (None, 128)               524416    \n",
      "_________________________________________________________________\n",
      "dropout_5 (Dropout)          (None, 128)               0         \n",
      "_________________________________________________________________\n",
      "dense_3 (Dense)              (None, 1)                 129       \n",
      "=================================================================\n",
      "Total params: 949,313\n",
      "Trainable params: 949,313\n",
      "Non-trainable params: 0\n",
      "_________________________________________________________________\n"
     ]
    }
   ],
   "source": [
    "cnn_2 = tf.keras.models.Sequential(name='cnn_2')\n",
    "#cnn_2.add(tf.keras.layers.Cropping2D(cropping=((8, 8), (8, 8)), input_shape=(256,256,1)))\n",
    "cnn_2.add(tf.keras.layers.Conv2D(32 , (3,3) , strides = 1 , padding = 'same' , activation = 'relu', input_shape=(128,128,1) ))\n",
    "\n",
    "cnn_2.add(tf.keras.layers.MaxPool2D((2,2) , strides = 2 , padding = 'same'))\n",
    "cnn_2.add(tf.keras.layers.Conv2D(64 , (3,3) , strides = 1 , padding = 'same' , activation = 'relu'))\n",
    "cnn_2.add(tf.keras.layers.Dropout(0.1))\n",
    "\n",
    "cnn_2.add(tf.keras.layers.MaxPool2D((2,2) , strides = 2 , padding = 'same'))\n",
    "cnn_2.add(tf.keras.layers.Conv2D(64 , (3,3) , strides = 1 , padding = 'same' , activation = 'relu'))\n",
    "\n",
    "cnn_2.add(tf.keras.layers.MaxPool2D((2,2) , strides = 2 , padding = 'same'))\n",
    "cnn_2.add(tf.keras.layers.Conv2D(128 , (3,3) , strides = 1 , padding = 'same' , activation = 'relu'))\n",
    "cnn_2.add(tf.keras.layers.Dropout(0.3))\n",
    "\n",
    "cnn_2.add(tf.keras.layers.MaxPool2D((2,2) , strides = 2 , padding = 'same'))\n",
    "cnn_2.add(tf.keras.layers.Conv2D(256 , (3,3) , strides = 1 , padding = 'same' , activation = 'relu'))\n",
    "cnn_2.add(tf.keras.layers.Dropout(0.3))\n",
    "\n",
    "cnn_2.add(tf.keras.layers.MaxPool2D((2,2) , strides = 2 , padding = 'same'))\n",
    "cnn_2.add(tf.keras.layers.Flatten())\n",
    "\n",
    "cnn_2.add(tf.keras.layers.Dense(units = 128 , activation = 'relu', kernel_regularizer=tf.keras.regularizers.l2(l=0.007)))\n",
    "cnn_2.add(tf.keras.layers.Dropout(0.5))\n",
    "\n",
    "a = tf.keras.layers.Activation('sigmoid', dtype='float32', name='predictions')\n",
    "cnn_2.add(tf.keras.layers.Dense(units = 1 , activation = a))\n",
    "cnn_2.compile(optimizer = \"adam\" , loss = 'binary_crossentropy' , metrics = METRICS)\n",
    "cnn_2.summary()"
   ]
  },
  {
   "cell_type": "code",
   "execution_count": 95,
   "metadata": {},
   "outputs": [],
   "source": [
    "# reshape the images to fit the input  layers"
   ]
  },
  {
   "cell_type": "code",
   "execution_count": 96,
   "metadata": {},
   "outputs": [],
   "source": [
    "xtr = [resize(img, (128,128,1)) for img in x_train_img]"
   ]
  },
  {
   "cell_type": "code",
   "execution_count": 97,
   "metadata": {},
   "outputs": [],
   "source": [
    "xval = [resize(img, (128,128,1)) for img in x_val_img]"
   ]
  },
  {
   "cell_type": "markdown",
   "metadata": {},
   "source": [
    "#### 3.1 Training CNN-1"
   ]
  },
  {
   "cell_type": "code",
   "execution_count": 172,
   "metadata": {
    "scrolled": false
   },
   "outputs": [
    {
     "name": "stdout",
     "output_type": "stream",
     "text": [
      "Epoch 1/25\n",
      "351/351 [==============================] - 10s 27ms/step - loss: 29.8830 - accuracy: 0.5053 - precision: 0.7701 - recall: 0.5934 - auc: 0.6252 - val_loss: 5.2531 - val_accuracy: 0.7373 - val_precision: 0.7373 - val_recall: 1.0000 - val_auc: 0.5000\n",
      "Epoch 2/25\n",
      "351/351 [==============================] - 9s 26ms/step - loss: 5.1795 - accuracy: 0.6647 - precision: 0.7423 - recall: 0.8411 - auc: 0.4924 - val_loss: 5.2597 - val_accuracy: 0.2627 - val_precision: 0.0000e+00 - val_recall: 0.0000e+00 - val_auc: 0.5000\n",
      "Epoch 3/25\n",
      "351/351 [==============================] - 9s 26ms/step - loss: 5.1380 - accuracy: 0.4919 - precision: 0.7386 - recall: 0.4878 - auc: 0.4944 - val_loss: 5.0804 - val_accuracy: 0.2627 - val_precision: 0.0000e+00 - val_recall: 0.0000e+00 - val_auc: 0.6107\n",
      "Epoch 4/25\n",
      "351/351 [==============================] - 9s 26ms/step - loss: 5.1071 - accuracy: 0.4386 - precision: 0.7357 - recall: 0.3691 - auc: 0.4956 - val_loss: 5.0953 - val_accuracy: 0.7373 - val_precision: 0.7373 - val_recall: 1.0000 - val_auc: 0.5000\n",
      "Epoch 5/25\n",
      "351/351 [==============================] - 9s 25ms/step - loss: 5.0857 - accuracy: 0.5800 - precision: 0.7404 - recall: 0.6651 - auc: 0.4929 - val_loss: 5.0409 - val_accuracy: 0.2627 - val_precision: 0.0000e+00 - val_recall: 0.0000e+00 - val_auc: 0.5000\n",
      "Epoch 6/25\n",
      "351/351 [==============================] - 9s 25ms/step - loss: 5.0803 - accuracy: 0.5283 - precision: 0.7368 - recall: 0.5616 - auc: 0.5014 - val_loss: 5.1085 - val_accuracy: 0.2627 - val_precision: 0.0000e+00 - val_recall: 0.0000e+00 - val_auc: 0.5000\n",
      "Epoch 7/25\n",
      "351/351 [==============================] - 9s 26ms/step - loss: 5.0896 - accuracy: 0.3432 - precision: 0.7279 - recall: 0.1651 - auc: 0.4833 - val_loss: 4.9896 - val_accuracy: 0.2627 - val_precision: 0.0000e+00 - val_recall: 0.0000e+00 - val_auc: 0.5000\n",
      "Epoch 8/25\n",
      "351/351 [==============================] - 9s 26ms/step - loss: 5.1064 - accuracy: 0.3430 - precision: 0.7130 - recall: 0.1580 - auc: 0.4918 - val_loss: 5.1177 - val_accuracy: 0.7373 - val_precision: 0.7373 - val_recall: 1.0000 - val_auc: 0.5336\n",
      "Epoch 9/25\n",
      "351/351 [==============================] - 9s 26ms/step - loss: 5.0988 - accuracy: 0.6872 - precision: 0.7543 - recall: 0.8590 - auc: 0.5357 - val_loss: 5.4770 - val_accuracy: 0.6635 - val_precision: 0.9699 - val_recall: 0.5610 - val_auc: 0.9052\n",
      "Epoch 10/25\n",
      "351/351 [==============================] - 9s 26ms/step - loss: 5.1072 - accuracy: 0.7907 - precision: 0.9209 - recall: 0.7814 - auc: 0.8777 - val_loss: 5.0273 - val_accuracy: 0.7812 - val_precision: 0.9733 - val_recall: 0.7231 - val_auc: 0.9465\n",
      "Epoch 11/25\n",
      "351/351 [==============================] - 9s 25ms/step - loss: 4.9536 - accuracy: 0.8341 - precision: 0.9400 - recall: 0.8279 - auc: 0.9072 - val_loss: 4.7640 - val_accuracy: 0.9072 - val_precision: 0.9379 - val_recall: 0.9361 - val_auc: 0.9496\n",
      "Epoch 12/25\n",
      "351/351 [==============================] - 9s 25ms/step - loss: 4.8369 - accuracy: 0.8669 - precision: 0.9435 - recall: 0.8724 - auc: 0.9317 - val_loss: 4.7886 - val_accuracy: 0.8997 - val_precision: 0.9524 - val_recall: 0.9095 - val_auc: 0.9563\n",
      "Epoch 13/25\n",
      "351/351 [==============================] - 9s 25ms/step - loss: 4.8075 - accuracy: 0.8827 - precision: 0.9538 - recall: 0.8841 - auc: 0.9439 - val_loss: 4.7969 - val_accuracy: 0.8890 - val_precision: 0.9631 - val_recall: 0.8833 - val_auc: 0.9646\n",
      "Epoch 14/25\n",
      "351/351 [==============================] - 9s 25ms/step - loss: 4.7977 - accuracy: 0.8847 - precision: 0.9535 - recall: 0.8854 - auc: 0.9472 - val_loss: 4.7406 - val_accuracy: 0.8890 - val_precision: 0.9761 - val_recall: 0.8708 - val_auc: 0.9731\n",
      "Epoch 15/25\n",
      "351/351 [==============================] - 9s 25ms/step - loss: 4.7847 - accuracy: 0.8865 - precision: 0.9560 - recall: 0.8870 - auc: 0.9505 - val_loss: 4.8127 - val_accuracy: 0.8837 - val_precision: 0.9708 - val_recall: 0.8683 - val_auc: 0.9676\n",
      "Epoch 16/25\n",
      "351/351 [==============================] - 9s 25ms/step - loss: 4.7822 - accuracy: 0.8924 - precision: 0.9557 - recall: 0.8961 - auc: 0.9539 - val_loss: 4.6750 - val_accuracy: 0.9147 - val_precision: 0.9454 - val_recall: 0.9385 - val_auc: 0.9650\n",
      "Epoch 17/25\n",
      "351/351 [==============================] - 9s 25ms/step - loss: 4.7822 - accuracy: 0.8871 - precision: 0.9522 - recall: 0.8907 - auc: 0.9509 - val_loss: 4.7589 - val_accuracy: 0.8865 - val_precision: 0.9786 - val_recall: 0.8650 - val_auc: 0.9714\n",
      "Epoch 18/25\n",
      "351/351 [==============================] - 9s 25ms/step - loss: 4.7529 - accuracy: 0.8998 - precision: 0.9595 - recall: 0.9015 - auc: 0.9585 - val_loss: 4.8043 - val_accuracy: 0.8762 - val_precision: 0.9804 - val_recall: 0.8490 - val_auc: 0.9721\n",
      "Epoch 19/25\n",
      "351/351 [==============================] - 9s 25ms/step - loss: 4.7423 - accuracy: 0.8969 - precision: 0.9585 - recall: 0.8996 - auc: 0.9604 - val_loss: 4.7438 - val_accuracy: 0.9136 - val_precision: 0.9775 - val_recall: 0.9037 - val_auc: 0.9746\n",
      "Epoch 20/25\n",
      "351/351 [==============================] - 9s 25ms/step - loss: 4.7545 - accuracy: 0.8942 - precision: 0.9561 - recall: 0.8988 - auc: 0.9577 - val_loss: 4.6068 - val_accuracy: 0.9340 - val_precision: 0.9550 - val_recall: 0.9555 - val_auc: 0.9768\n",
      "Epoch 21/25\n",
      "351/351 [==============================] - 9s 25ms/step - loss: 4.7393 - accuracy: 0.8982 - precision: 0.9589 - recall: 0.9022 - auc: 0.9578 - val_loss: 4.7110 - val_accuracy: 0.9115 - val_precision: 0.9734 - val_recall: 0.9046 - val_auc: 0.9739\n",
      "Epoch 22/25\n",
      "351/351 [==============================] - 9s 25ms/step - loss: 4.7548 - accuracy: 0.8897 - precision: 0.9532 - recall: 0.8934 - auc: 0.9578 - val_loss: 4.6688 - val_accuracy: 0.9308 - val_precision: 0.9535 - val_recall: 0.9526 - val_auc: 0.9743\n",
      "Epoch 23/25\n",
      "351/351 [==============================] - 9s 25ms/step - loss: 4.7289 - accuracy: 0.9018 - precision: 0.9626 - recall: 0.9021 - auc: 0.9630 - val_loss: 4.7917 - val_accuracy: 0.8847 - val_precision: 0.9844 - val_recall: 0.8572 - val_auc: 0.9724\n",
      "Epoch 24/25\n",
      "351/351 [==============================] - 9s 25ms/step - loss: 4.7329 - accuracy: 0.9006 - precision: 0.9601 - recall: 0.9035 - auc: 0.9605 - val_loss: 4.7054 - val_accuracy: 0.8890 - val_precision: 0.9878 - val_recall: 0.8601 - val_auc: 0.9769\n",
      "Epoch 25/25\n",
      "351/351 [==============================] - 9s 25ms/step - loss: 4.7254 - accuracy: 0.9062 - precision: 0.9634 - recall: 0.9064 - auc: 0.9617 - val_loss: 4.6745 - val_accuracy: 0.9372 - val_precision: 0.9683 - val_recall: 0.9458 - val_auc: 0.9756\n",
      "Epoch 1/25\n",
      "351/351 [==============================] - 9s 25ms/step - loss: 4.7198 - accuracy: 0.9069 - precision: 0.9621 - recall: 0.9095 - auc: 0.9635 - val_loss: 4.6463 - val_accuracy: 0.9211 - val_precision: 0.9723 - val_recall: 0.9191 - val_auc: 0.9783\n",
      "Epoch 2/25\n",
      "351/351 [==============================] - 9s 25ms/step - loss: 4.7136 - accuracy: 0.9069 - precision: 0.9645 - recall: 0.9072 - auc: 0.9648 - val_loss: 4.7343 - val_accuracy: 0.9097 - val_precision: 0.9824 - val_recall: 0.8935 - val_auc: 0.9788\n",
      "Epoch 3/25\n",
      "351/351 [==============================] - 9s 26ms/step - loss: 4.7119 - accuracy: 0.9085 - precision: 0.9642 - recall: 0.9096 - auc: 0.9657 - val_loss: 4.7142 - val_accuracy: 0.9386 - val_precision: 0.9588 - val_recall: 0.9579 - val_auc: 0.9808\n",
      "Epoch 4/25\n",
      "351/351 [==============================] - 9s 25ms/step - loss: 4.7103 - accuracy: 0.9069 - precision: 0.9638 - recall: 0.9079 - auc: 0.9663 - val_loss: 4.7169 - val_accuracy: 0.9076 - val_precision: 0.9783 - val_recall: 0.8944 - val_auc: 0.9793\n",
      "Epoch 5/25\n",
      "351/351 [==============================] - 9s 25ms/step - loss: 4.7103 - accuracy: 0.9109 - precision: 0.9638 - recall: 0.9133 - auc: 0.9654 - val_loss: 4.6065 - val_accuracy: 0.9361 - val_precision: 0.9710 - val_recall: 0.9414 - val_auc: 0.9837\n",
      "Epoch 6/25\n",
      "351/351 [==============================] - 9s 25ms/step - loss: 4.6982 - accuracy: 0.9133 - precision: 0.9656 - recall: 0.9149 - auc: 0.9687 - val_loss: 4.6057 - val_accuracy: 0.9201 - val_precision: 0.9787 - val_recall: 0.9114 - val_auc: 0.9829\n",
      "Epoch 7/25\n",
      "351/351 [==============================] - 9s 26ms/step - loss: 4.6934 - accuracy: 0.9160 - precision: 0.9694 - recall: 0.9150 - auc: 0.9698 - val_loss: 4.6567 - val_accuracy: 0.9440 - val_precision: 0.9631 - val_recall: 0.9608 - val_auc: 0.9845\n"
     ]
    },
    {
     "name": "stdout",
     "output_type": "stream",
     "text": [
      "Epoch 8/25\n",
      "351/351 [==============================] - 9s 26ms/step - loss: 4.6981 - accuracy: 0.9179 - precision: 0.9690 - recall: 0.9180 - auc: 0.9716 - val_loss: 4.5518 - val_accuracy: 0.9268 - val_precision: 0.9750 - val_recall: 0.9245 - val_auc: 0.9843\n",
      "Epoch 9/25\n",
      "351/351 [==============================] - 9s 25ms/step - loss: 4.6917 - accuracy: 0.9163 - precision: 0.9683 - recall: 0.9165 - auc: 0.9716 - val_loss: 4.6570 - val_accuracy: 0.9361 - val_precision: 0.9734 - val_recall: 0.9390 - val_auc: 0.9847\n",
      "Epoch 10/25\n",
      "351/351 [==============================] - 9s 25ms/step - loss: 4.6981 - accuracy: 0.9139 - precision: 0.9654 - recall: 0.9160 - auc: 0.9704 - val_loss: 4.7696 - val_accuracy: 0.8779 - val_precision: 0.9931 - val_recall: 0.8402 - val_auc: 0.9841\n",
      "Epoch 11/25\n",
      "351/351 [==============================] - 9s 25ms/step - loss: 4.6871 - accuracy: 0.9159 - precision: 0.9691 - recall: 0.9150 - auc: 0.9727 - val_loss: 4.6546 - val_accuracy: 0.9411 - val_precision: 0.9803 - val_recall: 0.9390 - val_auc: 0.9872\n",
      "Epoch 12/25\n",
      "351/351 [==============================] - 9s 25ms/step - loss: 4.6910 - accuracy: 0.9170 - precision: 0.9693 - recall: 0.9165 - auc: 0.9719 - val_loss: 4.5418 - val_accuracy: 0.9507 - val_precision: 0.9739 - val_recall: 0.9588 - val_auc: 0.9885\n",
      "Epoch 13/25\n",
      "351/351 [==============================] - 9s 25ms/step - loss: 4.6955 - accuracy: 0.9200 - precision: 0.9716 - recall: 0.9183 - auc: 0.9727 - val_loss: 4.7190 - val_accuracy: 0.9325 - val_precision: 0.9781 - val_recall: 0.9293 - val_auc: 0.9855\n",
      "Epoch 14/25\n",
      "351/351 [==============================] - 9s 27ms/step - loss: 4.6926 - accuracy: 0.9203 - precision: 0.9712 - recall: 0.9191 - auc: 0.9726 - val_loss: 4.6291 - val_accuracy: 0.9293 - val_precision: 0.9795 - val_recall: 0.9235 - val_auc: 0.9853\n",
      "Epoch 15/25\n",
      "351/351 [==============================] - 9s 26ms/step - loss: 4.6769 - accuracy: 0.9232 - precision: 0.9722 - recall: 0.9222 - auc: 0.9754 - val_loss: 4.6584 - val_accuracy: 0.9436 - val_precision: 0.9741 - val_recall: 0.9487 - val_auc: 0.9859\n",
      "Epoch 16/25\n",
      "351/351 [==============================] - 9s 25ms/step - loss: 4.6713 - accuracy: 0.9261 - precision: 0.9735 - recall: 0.9249 - auc: 0.9767 - val_loss: 4.6722 - val_accuracy: 0.9329 - val_precision: 0.9801 - val_recall: 0.9278 - val_auc: 0.9866\n",
      "Epoch 17/25\n",
      "351/351 [==============================] - 9s 25ms/step - loss: 4.6924 - accuracy: 0.9205 - precision: 0.9711 - recall: 0.9195 - auc: 0.9737 - val_loss: 4.6636 - val_accuracy: 0.9418 - val_precision: 0.9399 - val_recall: 0.9840 - val_auc: 0.9854\n",
      "Epoch 18/25\n",
      "351/351 [==============================] - 9s 25ms/step - loss: 4.6797 - accuracy: 0.9234 - precision: 0.9710 - recall: 0.9237 - auc: 0.9748 - val_loss: 4.6066 - val_accuracy: 0.9379 - val_precision: 0.9802 - val_recall: 0.9346 - val_auc: 0.9875\n",
      "Epoch 19/25\n",
      "351/351 [==============================] - 9s 25ms/step - loss: 4.6730 - accuracy: 0.9240 - precision: 0.9735 - recall: 0.9219 - auc: 0.9763 - val_loss: 4.6222 - val_accuracy: 0.9418 - val_precision: 0.9746 - val_recall: 0.9458 - val_auc: 0.9851\n",
      "Epoch 20/25\n",
      "351/351 [==============================] - 9s 25ms/step - loss: 4.6666 - accuracy: 0.9285 - precision: 0.9748 - recall: 0.9270 - auc: 0.9780 - val_loss: 4.6240 - val_accuracy: 0.9483 - val_precision: 0.9660 - val_recall: 0.9637 - val_auc: 0.9875\n",
      "Epoch 21/25\n",
      "351/351 [==============================] - 9s 25ms/step - loss: 4.6813 - accuracy: 0.9234 - precision: 0.9735 - recall: 0.9212 - auc: 0.9761 - val_loss: 4.5822 - val_accuracy: 0.9550 - val_precision: 0.9759 - val_recall: 0.9627 - val_auc: 0.9885\n",
      "Epoch 22/25\n",
      "351/351 [==============================] - 9s 26ms/step - loss: 4.6738 - accuracy: 0.9204 - precision: 0.9735 - recall: 0.9170 - auc: 0.9761 - val_loss: 4.5870 - val_accuracy: 0.9525 - val_precision: 0.9676 - val_recall: 0.9680 - val_auc: 0.9874\n",
      "Epoch 23/25\n",
      "351/351 [==============================] - 9s 25ms/step - loss: 4.6766 - accuracy: 0.9264 - precision: 0.9752 - recall: 0.9236 - auc: 0.9775 - val_loss: 4.5713 - val_accuracy: 0.9532 - val_precision: 0.9609 - val_recall: 0.9763 - val_auc: 0.9888\n",
      "Epoch 24/25\n",
      "351/351 [==============================] - 9s 25ms/step - loss: 4.6741 - accuracy: 0.9235 - precision: 0.9734 - recall: 0.9214 - auc: 0.9763 - val_loss: 4.6465 - val_accuracy: 0.9411 - val_precision: 0.9808 - val_recall: 0.9385 - val_auc: 0.9880\n",
      "Epoch 25/25\n",
      "351/351 [==============================] - 9s 25ms/step - loss: 4.6643 - accuracy: 0.9270 - precision: 0.9768 - recall: 0.9229 - auc: 0.9781 - val_loss: 4.5747 - val_accuracy: 0.9504 - val_precision: 0.9670 - val_recall: 0.9656 - val_auc: 0.9864\n",
      "Epoch 1/25\n",
      "351/351 [==============================] - 9s 26ms/step - loss: 4.6704 - accuracy: 0.9251 - precision: 0.9761 - recall: 0.9210 - auc: 0.9773 - val_loss: 4.6956 - val_accuracy: 0.9408 - val_precision: 0.9812 - val_recall: 0.9375 - val_auc: 0.9870\n",
      "Epoch 2/25\n",
      "351/351 [==============================] - 9s 26ms/step - loss: 4.6549 - accuracy: 0.9296 - precision: 0.9763 - recall: 0.9270 - auc: 0.9797 - val_loss: 4.6122 - val_accuracy: 0.9393 - val_precision: 0.9536 - val_recall: 0.9646 - val_auc: 0.9846\n",
      "Epoch 3/25\n",
      "351/351 [==============================] - 9s 26ms/step - loss: 4.6705 - accuracy: 0.9269 - precision: 0.9758 - recall: 0.9237 - auc: 0.9776 - val_loss: 4.6306 - val_accuracy: 0.9429 - val_precision: 0.9722 - val_recall: 0.9496 - val_auc: 0.9861\n",
      "Epoch 4/25\n",
      "351/351 [==============================] - 9s 25ms/step - loss: 4.6639 - accuracy: 0.9263 - precision: 0.9765 - recall: 0.9222 - auc: 0.9785 - val_loss: 4.5361 - val_accuracy: 0.9529 - val_precision: 0.9759 - val_recall: 0.9598 - val_auc: 0.9894\n",
      "Epoch 5/25\n",
      "351/351 [==============================] - 9s 25ms/step - loss: 4.6682 - accuracy: 0.9276 - precision: 0.9760 - recall: 0.9246 - auc: 0.9778 - val_loss: 4.7718 - val_accuracy: 0.8940 - val_precision: 0.9939 - val_recall: 0.8615 - val_auc: 0.9868\n",
      "Epoch 6/25\n",
      "351/351 [==============================] - 9s 25ms/step - loss: 4.6577 - accuracy: 0.9312 - precision: 0.9776 - recall: 0.9280 - auc: 0.9789 - val_loss: 4.5935 - val_accuracy: 0.9450 - val_precision: 0.9828 - val_recall: 0.9419 - val_auc: 0.9896\n",
      "Epoch 7/25\n",
      "351/351 [==============================] - 9s 25ms/step - loss: 4.6675 - accuracy: 0.9284 - precision: 0.9780 - recall: 0.9236 - auc: 0.9789 - val_loss: 4.5896 - val_accuracy: 0.9425 - val_precision: 0.9803 - val_recall: 0.9409 - val_auc: 0.9882\n",
      "Epoch 8/25\n",
      "351/351 [==============================] - 9s 25ms/step - loss: 4.6683 - accuracy: 0.9257 - precision: 0.9775 - recall: 0.9203 - auc: 0.9787 - val_loss: 4.5714 - val_accuracy: 0.9433 - val_precision: 0.9828 - val_recall: 0.9395 - val_auc: 0.9863\n",
      "Epoch 9/25\n",
      "351/351 [==============================] - 9s 26ms/step - loss: 4.6736 - accuracy: 0.9251 - precision: 0.9769 - recall: 0.9201 - auc: 0.9768 - val_loss: 4.6409 - val_accuracy: 0.9383 - val_precision: 0.9896 - val_recall: 0.9259 - val_auc: 0.9881\n",
      "Epoch 10/25\n",
      "351/351 [==============================] - 9s 26ms/step - loss: 4.6582 - accuracy: 0.9317 - precision: 0.9778 - recall: 0.9285 - auc: 0.9801 - val_loss: 4.5802 - val_accuracy: 0.9540 - val_precision: 0.9759 - val_recall: 0.9613 - val_auc: 0.9887\n",
      "Epoch 11/25\n",
      "351/351 [==============================] - 9s 26ms/step - loss: 4.6545 - accuracy: 0.9330 - precision: 0.9791 - recall: 0.9289 - auc: 0.9805 - val_loss: 4.6355 - val_accuracy: 0.9415 - val_precision: 0.9892 - val_recall: 0.9308 - val_auc: 0.9900\n",
      "Epoch 12/25\n",
      "351/351 [==============================] - 9s 26ms/step - loss: 4.6531 - accuracy: 0.9290 - precision: 0.9794 - recall: 0.9230 - auc: 0.9808 - val_loss: 4.7168 - val_accuracy: 0.9308 - val_precision: 0.9885 - val_recall: 0.9167 - val_auc: 0.9865\n",
      "Epoch 13/25\n",
      "351/351 [==============================] - 9s 26ms/step - loss: 4.6595 - accuracy: 0.9260 - precision: 0.9789 - recall: 0.9195 - auc: 0.9793 - val_loss: 4.6431 - val_accuracy: 0.9479 - val_precision: 0.9839 - val_recall: 0.9448 - val_auc: 0.9889\n",
      "Epoch 14/25\n",
      "351/351 [==============================] - 9s 25ms/step - loss: 4.6603 - accuracy: 0.9296 - precision: 0.9782 - recall: 0.9251 - auc: 0.9807 - val_loss: 4.5832 - val_accuracy: 0.9565 - val_precision: 0.9788 - val_recall: 0.9617 - val_auc: 0.9894\n"
     ]
    },
    {
     "name": "stdout",
     "output_type": "stream",
     "text": [
      "Epoch 15/25\n",
      "351/351 [==============================] - 9s 25ms/step - loss: 4.6675 - accuracy: 0.9309 - precision: 0.9790 - recall: 0.9262 - auc: 0.9801 - val_loss: 4.5929 - val_accuracy: 0.9468 - val_precision: 0.9733 - val_recall: 0.9540 - val_auc: 0.9860\n",
      "Epoch 16/25\n",
      "351/351 [==============================] - 9s 25ms/step - loss: 4.6522 - accuracy: 0.9324 - precision: 0.9803 - recall: 0.9269 - auc: 0.9812 - val_loss: 4.5610 - val_accuracy: 0.9493 - val_precision: 0.9810 - val_recall: 0.9496 - val_auc: 0.9895\n",
      "Epoch 17/25\n",
      "351/351 [==============================] - 9s 25ms/step - loss: 4.6605 - accuracy: 0.9291 - precision: 0.9792 - recall: 0.9234 - auc: 0.9801 - val_loss: 4.6495 - val_accuracy: 0.9554 - val_precision: 0.9727 - val_recall: 0.9666 - val_auc: 0.9905\n",
      "Epoch 18/25\n",
      "351/351 [==============================] - 9s 25ms/step - loss: 4.6568 - accuracy: 0.9292 - precision: 0.9790 - recall: 0.9237 - auc: 0.9805 - val_loss: 4.6323 - val_accuracy: 0.9379 - val_precision: 0.9866 - val_recall: 0.9283 - val_auc: 0.9863\n",
      "Epoch 19/25\n",
      "351/351 [==============================] - 9s 25ms/step - loss: 4.6433 - accuracy: 0.9331 - precision: 0.9804 - recall: 0.9277 - auc: 0.9819 - val_loss: 4.5874 - val_accuracy: 0.9468 - val_precision: 0.9838 - val_recall: 0.9433 - val_auc: 0.9898\n",
      "Epoch 20/25\n",
      "351/351 [==============================] - 9s 25ms/step - loss: 4.6529 - accuracy: 0.9326 - precision: 0.9807 - recall: 0.9269 - auc: 0.9808 - val_loss: 4.6537 - val_accuracy: 0.9429 - val_precision: 0.9408 - val_recall: 0.9845 - val_auc: 0.9871\n",
      "Epoch 21/25\n",
      "351/351 [==============================] - 9s 26ms/step - loss: 4.6409 - accuracy: 0.9359 - precision: 0.9810 - recall: 0.9311 - auc: 0.9827 - val_loss: 4.5572 - val_accuracy: 0.9557 - val_precision: 0.9788 - val_recall: 0.9608 - val_auc: 0.9900\n",
      "Epoch 22/25\n",
      "351/351 [==============================] - 9s 25ms/step - loss: 4.6519 - accuracy: 0.9317 - precision: 0.9796 - recall: 0.9265 - auc: 0.9805 - val_loss: 4.6453 - val_accuracy: 0.9325 - val_precision: 0.9896 - val_recall: 0.9182 - val_auc: 0.9905\n",
      "Epoch 23/25\n",
      "351/351 [==============================] - 9s 26ms/step - loss: 4.6456 - accuracy: 0.9310 - precision: 0.9796 - recall: 0.9257 - auc: 0.9816 - val_loss: 4.6107 - val_accuracy: 0.9511 - val_precision: 0.9844 - val_recall: 0.9487 - val_auc: 0.9889\n",
      "Epoch 24/25\n",
      "351/351 [==============================] - 9s 25ms/step - loss: 4.6532 - accuracy: 0.9309 - precision: 0.9786 - recall: 0.9264 - auc: 0.9802 - val_loss: 4.7552 - val_accuracy: 0.9069 - val_precision: 0.9929 - val_recall: 0.8799 - val_auc: 0.9902\n",
      "Epoch 25/25\n",
      "351/351 [==============================] - 9s 25ms/step - loss: 4.6465 - accuracy: 0.9325 - precision: 0.9803 - recall: 0.9271 - auc: 0.9821 - val_loss: 4.6102 - val_accuracy: 0.9308 - val_precision: 0.9885 - val_recall: 0.9167 - val_auc: 0.9882\n",
      "Epoch 1/25\n",
      "351/351 [==============================] - 9s 25ms/step - loss: 4.6527 - accuracy: 0.9326 - precision: 0.9803 - recall: 0.9272 - auc: 0.9801 - val_loss: 4.7085 - val_accuracy: 0.9215 - val_precision: 0.9946 - val_recall: 0.8983 - val_auc: 0.9909\n",
      "Epoch 2/25\n",
      "351/351 [==============================] - 9s 25ms/step - loss: 4.6460 - accuracy: 0.9314 - precision: 0.9815 - recall: 0.9243 - auc: 0.9807 - val_loss: 4.5944 - val_accuracy: 0.9525 - val_precision: 0.9889 - val_recall: 0.9462 - val_auc: 0.9931\n",
      "Epoch 3/25\n",
      "351/351 [==============================] - 9s 25ms/step - loss: 4.6476 - accuracy: 0.9294 - precision: 0.9803 - recall: 0.9228 - auc: 0.9814 - val_loss: 4.6002 - val_accuracy: 0.9647 - val_precision: 0.9790 - val_recall: 0.9729 - val_auc: 0.9923\n",
      "Epoch 4/25\n",
      "351/351 [==============================] - 9s 25ms/step - loss: 4.6578 - accuracy: 0.9292 - precision: 0.9795 - recall: 0.9234 - auc: 0.9790 - val_loss: 4.5376 - val_accuracy: 0.9490 - val_precision: 0.9913 - val_recall: 0.9390 - val_auc: 0.9925\n",
      "Epoch 5/25\n",
      "351/351 [==============================] - 9s 25ms/step - loss: 4.6526 - accuracy: 0.9322 - precision: 0.9814 - recall: 0.9256 - auc: 0.9801 - val_loss: 4.5718 - val_accuracy: 0.9640 - val_precision: 0.9781 - val_recall: 0.9729 - val_auc: 0.9927\n",
      "Epoch 6/25\n",
      "351/351 [==============================] - 9s 25ms/step - loss: 4.6551 - accuracy: 0.9292 - precision: 0.9811 - recall: 0.9217 - auc: 0.9806 - val_loss: 4.5568 - val_accuracy: 0.9497 - val_precision: 0.9873 - val_recall: 0.9438 - val_auc: 0.9917\n",
      "Epoch 7/25\n",
      "351/351 [==============================] - 9s 25ms/step - loss: 4.6635 - accuracy: 0.9264 - precision: 0.9801 - recall: 0.9188 - auc: 0.9803 - val_loss: 4.5445 - val_accuracy: 0.9657 - val_precision: 0.9708 - val_recall: 0.9831 - val_auc: 0.9924\n",
      "Epoch 8/25\n",
      "351/351 [==============================] - 9s 26ms/step - loss: 4.6544 - accuracy: 0.9276 - precision: 0.9819 - recall: 0.9188 - auc: 0.9796 - val_loss: 4.5407 - val_accuracy: 0.9700 - val_precision: 0.9751 - val_recall: 0.9845 - val_auc: 0.9932\n",
      "Epoch 9/25\n",
      "351/351 [==============================] - 9s 26ms/step - loss: 4.6408 - accuracy: 0.9332 - precision: 0.9818 - recall: 0.9265 - auc: 0.9814 - val_loss: 4.6496 - val_accuracy: 0.9632 - val_precision: 0.9842 - val_recall: 0.9656 - val_auc: 0.9915\n",
      "Epoch 10/25\n",
      "351/351 [==============================] - 9s 25ms/step - loss: 4.6561 - accuracy: 0.9282 - precision: 0.9807 - recall: 0.9207 - auc: 0.9792 - val_loss: 4.6203 - val_accuracy: 0.9604 - val_precision: 0.9738 - val_recall: 0.9724 - val_auc: 0.9896\n",
      "Epoch 11/25\n",
      "351/351 [==============================] - 9s 26ms/step - loss: 4.6405 - accuracy: 0.9343 - precision: 0.9814 - recall: 0.9285 - auc: 0.9831 - val_loss: 4.6107 - val_accuracy: 0.9597 - val_precision: 0.9856 - val_recall: 0.9593 - val_auc: 0.9929\n",
      "Epoch 12/25\n",
      "351/351 [==============================] - 9s 25ms/step - loss: 4.6432 - accuracy: 0.9345 - precision: 0.9827 - recall: 0.9275 - auc: 0.9805 - val_loss: 4.6175 - val_accuracy: 0.9657 - val_precision: 0.9772 - val_recall: 0.9763 - val_auc: 0.9925\n",
      "Epoch 13/25\n",
      "351/351 [==============================] - 9s 25ms/step - loss: 4.6477 - accuracy: 0.9302 - precision: 0.9831 - recall: 0.9212 - auc: 0.9795 - val_loss: 4.5559 - val_accuracy: 0.9497 - val_precision: 0.9883 - val_recall: 0.9429 - val_auc: 0.9923\n",
      "Epoch 14/25\n",
      "351/351 [==============================] - 9s 25ms/step - loss: 4.6410 - accuracy: 0.9304 - precision: 0.9818 - recall: 0.9226 - auc: 0.9817 - val_loss: 4.5381 - val_accuracy: 0.9625 - val_precision: 0.9730 - val_recall: 0.9763 - val_auc: 0.9924\n",
      "Epoch 15/25\n",
      "351/351 [==============================] - 9s 25ms/step - loss: 4.6436 - accuracy: 0.9315 - precision: 0.9826 - recall: 0.9234 - auc: 0.9813 - val_loss: 4.5243 - val_accuracy: 0.9690 - val_precision: 0.9848 - val_recall: 0.9729 - val_auc: 0.9920\n",
      "Epoch 16/25\n",
      "351/351 [==============================] - 9s 25ms/step - loss: 4.6481 - accuracy: 0.9284 - precision: 0.9818 - recall: 0.9199 - auc: 0.9803 - val_loss: 4.6616 - val_accuracy: 0.9532 - val_precision: 0.9879 - val_recall: 0.9482 - val_auc: 0.9921\n",
      "Epoch 17/25\n",
      "351/351 [==============================] - 9s 25ms/step - loss: 4.6399 - accuracy: 0.9377 - precision: 0.9833 - recall: 0.9314 - auc: 0.9819 - val_loss: 4.5366 - val_accuracy: 0.9425 - val_precision: 0.9933 - val_recall: 0.9283 - val_auc: 0.9921\n",
      "Epoch 18/25\n",
      "351/351 [==============================] - 9s 25ms/step - loss: 4.6359 - accuracy: 0.9321 - precision: 0.9835 - recall: 0.9234 - auc: 0.9819 - val_loss: 4.5712 - val_accuracy: 0.9693 - val_precision: 0.9820 - val_recall: 0.9763 - val_auc: 0.9935\n",
      "Epoch 19/25\n",
      "351/351 [==============================] - 9s 26ms/step - loss: 4.6485 - accuracy: 0.9315 - precision: 0.9827 - recall: 0.9233 - auc: 0.9805 - val_loss: 4.5673 - val_accuracy: 0.9532 - val_precision: 0.9879 - val_recall: 0.9482 - val_auc: 0.9919\n",
      "Epoch 20/25\n",
      "351/351 [==============================] - 9s 27ms/step - loss: 4.6395 - accuracy: 0.9344 - precision: 0.9819 - recall: 0.9281 - auc: 0.9821 - val_loss: 4.6310 - val_accuracy: 0.9682 - val_precision: 0.9782 - val_recall: 0.9787 - val_auc: 0.9932\n",
      "Epoch 21/25\n"
     ]
    },
    {
     "name": "stdout",
     "output_type": "stream",
     "text": [
      "351/351 [==============================] - 9s 27ms/step - loss: 4.6486 - accuracy: 0.9315 - precision: 0.9816 - recall: 0.9243 - auc: 0.9808 - val_loss: 4.4833 - val_accuracy: 0.9643 - val_precision: 0.9842 - val_recall: 0.9671 - val_auc: 0.9927\n",
      "Epoch 22/25\n",
      "351/351 [==============================] - 9s 26ms/step - loss: 4.6392 - accuracy: 0.9343 - precision: 0.9842 - recall: 0.9258 - auc: 0.9815 - val_loss: 4.7213 - val_accuracy: 0.9240 - val_precision: 0.9915 - val_recall: 0.9046 - val_auc: 0.9905\n",
      "Epoch 23/25\n",
      "351/351 [==============================] - 9s 26ms/step - loss: 4.6395 - accuracy: 0.9336 - precision: 0.9835 - recall: 0.9254 - auc: 0.9822 - val_loss: 4.5818 - val_accuracy: 0.9479 - val_precision: 0.9848 - val_recall: 0.9438 - val_auc: 0.9898\n",
      "Epoch 24/25\n",
      "351/351 [==============================] - 9s 26ms/step - loss: 4.6357 - accuracy: 0.9312 - precision: 0.9827 - recall: 0.9229 - auc: 0.9822 - val_loss: 4.6357 - val_accuracy: 0.9665 - val_precision: 0.9727 - val_recall: 0.9821 - val_auc: 0.9928\n",
      "Epoch 25/25\n",
      "351/351 [==============================] - 9s 26ms/step - loss: 4.6382 - accuracy: 0.9298 - precision: 0.9827 - recall: 0.9210 - auc: 0.9824 - val_loss: 4.5324 - val_accuracy: 0.9561 - val_precision: 0.9826 - val_recall: 0.9574 - val_auc: 0.9909\n",
      "Epoch 1/25\n",
      "351/351 [==============================] - 9s 27ms/step - loss: 4.6408 - accuracy: 0.9348 - precision: 0.9826 - recall: 0.9280 - auc: 0.9831 - val_loss: 4.6378 - val_accuracy: 0.9604 - val_precision: 0.9711 - val_recall: 0.9753 - val_auc: 0.9913\n",
      "Epoch 2/25\n",
      "351/351 [==============================] - 9s 26ms/step - loss: 4.6402 - accuracy: 0.9325 - precision: 0.9830 - recall: 0.9243 - auc: 0.9817 - val_loss: 4.5585 - val_accuracy: 0.9557 - val_precision: 0.9826 - val_recall: 0.9569 - val_auc: 0.9909\n",
      "Epoch 3/25\n",
      "351/351 [==============================] - 9s 25ms/step - loss: 4.6441 - accuracy: 0.9348 - precision: 0.9826 - recall: 0.9280 - auc: 0.9826 - val_loss: 4.5895 - val_accuracy: 0.9472 - val_precision: 0.9878 - val_recall: 0.9400 - val_auc: 0.9891\n",
      "Epoch 4/25\n",
      "351/351 [==============================] - 9s 25ms/step - loss: 4.6410 - accuracy: 0.9343 - precision: 0.9835 - recall: 0.9264 - auc: 0.9816 - val_loss: 4.5761 - val_accuracy: 0.9425 - val_precision: 0.9842 - val_recall: 0.9370 - val_auc: 0.9880\n",
      "Epoch 5/25\n",
      "351/351 [==============================] - 9s 25ms/step - loss: 4.6305 - accuracy: 0.9360 - precision: 0.9832 - recall: 0.9291 - auc: 0.9845 - val_loss: 4.6214 - val_accuracy: 0.9468 - val_precision: 0.9933 - val_recall: 0.9341 - val_auc: 0.9924\n",
      "Epoch 6/25\n",
      "351/351 [==============================] - 9s 25ms/step - loss: 4.6346 - accuracy: 0.9393 - precision: 0.9847 - recall: 0.9322 - auc: 0.9838 - val_loss: 4.6170 - val_accuracy: 0.9354 - val_precision: 0.9937 - val_recall: 0.9182 - val_auc: 0.9893\n",
      "Epoch 7/25\n",
      "351/351 [==============================] - 9s 25ms/step - loss: 4.6361 - accuracy: 0.9346 - precision: 0.9836 - recall: 0.9268 - auc: 0.9829 - val_loss: 4.5612 - val_accuracy: 0.9586 - val_precision: 0.9827 - val_recall: 0.9608 - val_auc: 0.9900\n",
      "Epoch 8/25\n",
      "351/351 [==============================] - 9s 25ms/step - loss: 4.6342 - accuracy: 0.9334 - precision: 0.9837 - recall: 0.9249 - auc: 0.9824 - val_loss: 4.6240 - val_accuracy: 0.9475 - val_precision: 0.9913 - val_recall: 0.9370 - val_auc: 0.9907\n",
      "Epoch 9/25\n",
      "351/351 [==============================] - 9s 25ms/step - loss: 4.6380 - accuracy: 0.9344 - precision: 0.9838 - recall: 0.9263 - auc: 0.9827 - val_loss: 4.5812 - val_accuracy: 0.9611 - val_precision: 0.9832 - val_recall: 0.9637 - val_auc: 0.9914\n",
      "Epoch 10/25\n",
      "351/351 [==============================] - 9s 25ms/step - loss: 4.6424 - accuracy: 0.9334 - precision: 0.9845 - recall: 0.9241 - auc: 0.9822 - val_loss: 4.6811 - val_accuracy: 0.9497 - val_precision: 0.9893 - val_recall: 0.9419 - val_auc: 0.9900\n",
      "Epoch 11/25\n",
      "351/351 [==============================] - 9s 25ms/step - loss: 4.6348 - accuracy: 0.9350 - precision: 0.9827 - recall: 0.9281 - auc: 0.9822 - val_loss: 4.6320 - val_accuracy: 0.9483 - val_precision: 0.9893 - val_recall: 0.9400 - val_auc: 0.9884\n",
      "Epoch 12/25\n",
      "351/351 [==============================] - 8s 24ms/step - loss: 4.6323 - accuracy: 0.9341 - precision: 0.9852 - recall: 0.9245 - auc: 0.9821 - val_loss: 4.6410 - val_accuracy: 0.9511 - val_precision: 0.9888 - val_recall: 0.9443 - val_auc: 0.9917\n",
      "Epoch 13/25\n",
      "351/351 [==============================] - 9s 25ms/step - loss: 4.6291 - accuracy: 0.9372 - precision: 0.9845 - recall: 0.9294 - auc: 0.9823 - val_loss: 4.4890 - val_accuracy: 0.9593 - val_precision: 0.9775 - val_recall: 0.9671 - val_auc: 0.9913\n",
      "Epoch 14/25\n",
      "351/351 [==============================] - 9s 25ms/step - loss: 4.6276 - accuracy: 0.9369 - precision: 0.9842 - recall: 0.9293 - auc: 0.9829 - val_loss: 4.6563 - val_accuracy: 0.9333 - val_precision: 0.9937 - val_recall: 0.9153 - val_auc: 0.9899\n",
      "Epoch 15/25\n",
      "351/351 [==============================] - 8s 24ms/step - loss: 4.6296 - accuracy: 0.9339 - precision: 0.9838 - recall: 0.9256 - auc: 0.9832 - val_loss: 4.5323 - val_accuracy: 0.9504 - val_precision: 0.9908 - val_recall: 0.9414 - val_auc: 0.9922\n",
      "Epoch 16/25\n",
      "351/351 [==============================] - 9s 25ms/step - loss: 4.6322 - accuracy: 0.9352 - precision: 0.9849 - recall: 0.9263 - auc: 0.9821 - val_loss: 4.6625 - val_accuracy: 0.9629 - val_precision: 0.9876 - val_recall: 0.9617 - val_auc: 0.9926\n",
      "Epoch 17/25\n",
      "351/351 [==============================] - 8s 24ms/step - loss: 4.6377 - accuracy: 0.9344 - precision: 0.9849 - recall: 0.9252 - auc: 0.9818 - val_loss: 4.5410 - val_accuracy: 0.9579 - val_precision: 0.9875 - val_recall: 0.9550 - val_auc: 0.9915\n",
      "Epoch 18/25\n",
      "351/351 [==============================] - 8s 24ms/step - loss: 4.6241 - accuracy: 0.9368 - precision: 0.9835 - recall: 0.9299 - auc: 0.9844 - val_loss: 4.5705 - val_accuracy: 0.9572 - val_precision: 0.9831 - val_recall: 0.9584 - val_auc: 0.9922\n",
      "Epoch 19/25\n",
      "351/351 [==============================] - 8s 24ms/step - loss: 4.6406 - accuracy: 0.9322 - precision: 0.9832 - recall: 0.9237 - auc: 0.9830 - val_loss: 4.5866 - val_accuracy: 0.9590 - val_precision: 0.9880 - val_recall: 0.9559 - val_auc: 0.9918\n",
      "Epoch 20/25\n",
      "351/351 [==============================] - 8s 24ms/step - loss: 4.6293 - accuracy: 0.9353 - precision: 0.9843 - recall: 0.9270 - auc: 0.9835 - val_loss: 4.6624 - val_accuracy: 0.9582 - val_precision: 0.9742 - val_recall: 0.9690 - val_auc: 0.9888\n",
      "Epoch 21/25\n",
      "351/351 [==============================] - 9s 25ms/step - loss: 4.6420 - accuracy: 0.9307 - precision: 0.9828 - recall: 0.9220 - auc: 0.9813 - val_loss: 4.5495 - val_accuracy: 0.9629 - val_precision: 0.9781 - val_recall: 0.9714 - val_auc: 0.9910\n",
      "Epoch 22/25\n",
      "351/351 [==============================] - 9s 24ms/step - loss: 4.6212 - accuracy: 0.9342 - precision: 0.9842 - recall: 0.9257 - auc: 0.9838 - val_loss: 4.6005 - val_accuracy: 0.9600 - val_precision: 0.9905 - val_recall: 0.9550 - val_auc: 0.9934\n",
      "Epoch 23/25\n",
      "351/351 [==============================] - 8s 24ms/step - loss: 4.6204 - accuracy: 0.9402 - precision: 0.9862 - recall: 0.9320 - auc: 0.9849 - val_loss: 4.5357 - val_accuracy: 0.9597 - val_precision: 0.9851 - val_recall: 0.9598 - val_auc: 0.9906\n",
      "Epoch 24/25\n",
      "351/351 [==============================] - 8s 24ms/step - loss: 4.6158 - accuracy: 0.9387 - precision: 0.9859 - recall: 0.9302 - auc: 0.9844 - val_loss: 4.6242 - val_accuracy: 0.9361 - val_precision: 0.9953 - val_recall: 0.9177 - val_auc: 0.9908\n",
      "Epoch 25/25\n",
      "351/351 [==============================] - 8s 23ms/step - loss: 4.6349 - accuracy: 0.9310 - precision: 0.9837 - recall: 0.9217 - auc: 0.9823 - val_loss: 4.5564 - val_accuracy: 0.9575 - val_precision: 0.9919 - val_recall: 0.9501 - val_auc: 0.9928\n"
     ]
    }
   ],
   "source": [
    "# NOTE - cannot use the validation_split when using data set generators so need to split the dataframe manually\n",
    "# into train and validation set. This was done above\n",
    "\n",
    "#callback = tf.keras.callbacks.EarlyStopping(monitor='loss', mode=\"min\", patience=3, restore_best_weights=True)\n",
    "#history = cnn.fit(x = train_set, class_weight=class_weight, validation_data = validation_set, epochs=100, callbacks=[callback] )\n",
    "\n",
    "#history_cnn_1 = cnn_1.fit(x = train_set, class_weight=class_weight, validation_data = validation_set, epochs=50 )\n",
    "\n",
    "losses_1, val_losses_1, accuracies_1, val_accuracies_1 = kfoldcrossval(xtr + xval, y_tr + y_val, 5, 25, cnn_1)"
   ]
  },
  {
   "cell_type": "markdown",
   "metadata": {},
   "source": [
    "#### 3.2 Train CNN-2"
   ]
  },
  {
   "cell_type": "code",
   "execution_count": 99,
   "metadata": {},
   "outputs": [],
   "source": [
    "#history_cnn_2 = cnn_2.fit(x = train_set, class_weight=class_weight, validation_data = validation_set, epochs=50 )"
   ]
  },
  {
   "cell_type": "code",
   "execution_count": 100,
   "metadata": {},
   "outputs": [
    {
     "name": "stdout",
     "output_type": "stream",
     "text": [
      "Epoch 1/50\n",
      "351/351 [==============================] - 12s 29ms/step - loss: 0.8262 - accuracy: 0.5984 - precision: 0.8763 - recall: 0.3328 - auc: 0.6963 - val_loss: 0.3126 - val_accuracy: 0.9133 - val_precision: 0.9053 - val_recall: 0.9855 - val_auc: 0.9758\n",
      "Epoch 2/50\n",
      "351/351 [==============================] - 9s 27ms/step - loss: 0.2200 - accuracy: 0.9308 - precision: 0.9804 - recall: 0.9249 - auc: 0.9808 - val_loss: 0.2150 - val_accuracy: 0.9336 - val_precision: 0.9942 - val_recall: 0.9153 - val_auc: 0.9930\n",
      "Epoch 3/50\n",
      "351/351 [==============================] - 9s 27ms/step - loss: 0.1653 - accuracy: 0.9519 - precision: 0.9857 - recall: 0.9483 - auc: 0.9895 - val_loss: 0.1379 - val_accuracy: 0.9661 - val_precision: 0.9843 - val_recall: 0.9695 - val_auc: 0.9940\n",
      "Epoch 4/50\n",
      "351/351 [==============================] - 10s 28ms/step - loss: 0.1664 - accuracy: 0.9488 - precision: 0.9825 - recall: 0.9476 - auc: 0.9889 - val_loss: 0.1389 - val_accuracy: 0.9682 - val_precision: 0.9935 - val_recall: 0.9632 - val_auc: 0.9958\n",
      "Epoch 5/50\n",
      "351/351 [==============================] - 9s 27ms/step - loss: 0.1477 - accuracy: 0.9596 - precision: 0.9863 - recall: 0.9590 - auc: 0.9915 - val_loss: 0.1379 - val_accuracy: 0.9625 - val_precision: 0.9905 - val_recall: 0.9584 - val_auc: 0.9950\n",
      "Epoch 6/50\n",
      "351/351 [==============================] - 9s 27ms/step - loss: 0.1334 - accuracy: 0.9628 - precision: 0.9869 - recall: 0.9618 - auc: 0.9934 - val_loss: 0.1211 - val_accuracy: 0.9732 - val_precision: 0.9863 - val_recall: 0.9773 - val_auc: 0.9959\n",
      "Epoch 7/50\n",
      "351/351 [==============================] - 10s 27ms/step - loss: 0.1063 - accuracy: 0.9742 - precision: 0.9925 - recall: 0.9725 - auc: 0.9958 - val_loss: 0.1126 - val_accuracy: 0.9704 - val_precision: 0.9940 - val_recall: 0.9656 - val_auc: 0.9971\n",
      "Epoch 8/50\n",
      "351/351 [==============================] - 9s 27ms/step - loss: 0.1092 - accuracy: 0.9716 - precision: 0.9926 - recall: 0.9688 - auc: 0.9954 - val_loss: 0.0965 - val_accuracy: 0.9772 - val_precision: 0.9826 - val_recall: 0.9864 - val_auc: 0.9971\n",
      "Epoch 9/50\n",
      "351/351 [==============================] - 9s 27ms/step - loss: 0.1050 - accuracy: 0.9726 - precision: 0.9914 - recall: 0.9710 - auc: 0.9959 - val_loss: 0.1180 - val_accuracy: 0.9675 - val_precision: 0.9965 - val_recall: 0.9593 - val_auc: 0.9968\n",
      "Epoch 10/50\n",
      "351/351 [==============================] - 9s 27ms/step - loss: 0.0989 - accuracy: 0.9741 - precision: 0.9936 - recall: 0.9709 - auc: 0.9968 - val_loss: 0.1143 - val_accuracy: 0.9707 - val_precision: 0.9930 - val_recall: 0.9671 - val_auc: 0.9967\n",
      "Epoch 11/50\n",
      "351/351 [==============================] - 9s 27ms/step - loss: 0.1000 - accuracy: 0.9720 - precision: 0.9914 - recall: 0.9704 - auc: 0.9962 - val_loss: 0.0954 - val_accuracy: 0.9718 - val_precision: 0.9916 - val_recall: 0.9700 - val_auc: 0.9969\n",
      "Epoch 12/50\n",
      "351/351 [==============================] - 9s 27ms/step - loss: 0.1055 - accuracy: 0.9713 - precision: 0.9936 - recall: 0.9672 - auc: 0.9959 - val_loss: 0.0994 - val_accuracy: 0.9743 - val_precision: 0.9921 - val_recall: 0.9729 - val_auc: 0.9967\n",
      "Epoch 13/50\n",
      "351/351 [==============================] - 9s 27ms/step - loss: 0.0808 - accuracy: 0.9797 - precision: 0.9952 - recall: 0.9770 - auc: 0.9979 - val_loss: 0.1122 - val_accuracy: 0.9682 - val_precision: 0.9881 - val_recall: 0.9685 - val_auc: 0.9967\n",
      "Epoch 14/50\n",
      "351/351 [==============================] - 9s 27ms/step - loss: 0.0868 - accuracy: 0.9781 - precision: 0.9940 - recall: 0.9759 - auc: 0.9974 - val_loss: 0.0985 - val_accuracy: 0.9750 - val_precision: 0.9883 - val_recall: 0.9777 - val_auc: 0.9965\n",
      "Epoch 15/50\n",
      "351/351 [==============================] - 9s 27ms/step - loss: 0.0813 - accuracy: 0.9813 - precision: 0.9948 - recall: 0.9794 - auc: 0.9976 - val_loss: 0.0851 - val_accuracy: 0.9786 - val_precision: 0.9912 - val_recall: 0.9797 - val_auc: 0.9968\n",
      "Epoch 16/50\n",
      "351/351 [==============================] - 9s 27ms/step - loss: 0.0774 - accuracy: 0.9825 - precision: 0.9948 - recall: 0.9814 - auc: 0.9978 - val_loss: 0.0885 - val_accuracy: 0.9793 - val_precision: 0.9917 - val_recall: 0.9802 - val_auc: 0.9974\n",
      "Epoch 17/50\n",
      "351/351 [==============================] - 9s 27ms/step - loss: 0.0808 - accuracy: 0.9810 - precision: 0.9937 - recall: 0.9806 - auc: 0.9978 - val_loss: 0.0948 - val_accuracy: 0.9747 - val_precision: 0.9926 - val_recall: 0.9729 - val_auc: 0.9971\n",
      "Epoch 18/50\n",
      "351/351 [==============================] - 10s 27ms/step - loss: 0.0613 - accuracy: 0.9875 - precision: 0.9968 - recall: 0.9862 - auc: 0.9987 - val_loss: 0.1045 - val_accuracy: 0.9690 - val_precision: 0.9935 - val_recall: 0.9642 - val_auc: 0.9971\n",
      "Epoch 19/50\n",
      "351/351 [==============================] - 9s 27ms/step - loss: 0.0747 - accuracy: 0.9809 - precision: 0.9949 - recall: 0.9791 - auc: 0.9980 - val_loss: 0.0849 - val_accuracy: 0.9829 - val_precision: 0.9870 - val_recall: 0.9898 - val_auc: 0.9961\n",
      "Epoch 20/50\n",
      "351/351 [==============================] - 9s 27ms/step - loss: 0.0643 - accuracy: 0.9861 - precision: 0.9957 - recall: 0.9854 - auc: 0.9986 - val_loss: 0.0995 - val_accuracy: 0.9725 - val_precision: 0.9926 - val_recall: 0.9700 - val_auc: 0.9967\n",
      "Epoch 21/50\n",
      "351/351 [==============================] - 9s 27ms/step - loss: 0.0803 - accuracy: 0.9828 - precision: 0.9966 - recall: 0.9799 - auc: 0.9969 - val_loss: 0.0921 - val_accuracy: 0.9754 - val_precision: 0.9916 - val_recall: 0.9748 - val_auc: 0.9967\n",
      "Epoch 22/50\n",
      "351/351 [==============================] - 9s 27ms/step - loss: 0.0632 - accuracy: 0.9862 - precision: 0.9973 - recall: 0.9839 - auc: 0.9984 - val_loss: 0.0798 - val_accuracy: 0.9800 - val_precision: 0.9827 - val_recall: 0.9903 - val_auc: 0.9971\n",
      "Epoch 23/50\n",
      "351/351 [==============================] - 10s 27ms/step - loss: 0.0621 - accuracy: 0.9879 - precision: 0.9951 - recall: 0.9884 - auc: 0.9986 - val_loss: 0.0846 - val_accuracy: 0.9782 - val_precision: 0.9841 - val_recall: 0.9864 - val_auc: 0.9954\n",
      "Epoch 24/50\n",
      "351/351 [==============================] - 10s 27ms/step - loss: 0.0555 - accuracy: 0.9899 - precision: 0.9975 - recall: 0.9887 - auc: 0.9991 - val_loss: 0.0898 - val_accuracy: 0.9754 - val_precision: 0.9921 - val_recall: 0.9743 - val_auc: 0.9968\n",
      "Epoch 25/50\n",
      "351/351 [==============================] - 9s 27ms/step - loss: 0.0509 - accuracy: 0.9904 - precision: 0.9979 - recall: 0.9890 - auc: 0.9991 - val_loss: 0.0786 - val_accuracy: 0.9811 - val_precision: 0.9907 - val_recall: 0.9835 - val_auc: 0.9976\n",
      "Epoch 26/50\n",
      "351/351 [==============================] - 9s 27ms/step - loss: 0.0521 - accuracy: 0.9912 - precision: 0.9966 - recall: 0.9915 - auc: 0.9991 - val_loss: 0.0791 - val_accuracy: 0.9800 - val_precision: 0.9888 - val_recall: 0.9840 - val_auc: 0.9967\n",
      "Epoch 27/50\n",
      "351/351 [==============================] - 9s 27ms/step - loss: 0.0438 - accuracy: 0.9922 - precision: 0.9978 - recall: 0.9915 - auc: 0.9992 - val_loss: 0.1005 - val_accuracy: 0.9754 - val_precision: 0.9916 - val_recall: 0.9748 - val_auc: 0.9969\n",
      "Epoch 28/50\n",
      "351/351 [==============================] - 10s 27ms/step - loss: 0.0563 - accuracy: 0.9900 - precision: 0.9972 - recall: 0.9892 - auc: 0.9991 - val_loss: 0.0855 - val_accuracy: 0.9775 - val_precision: 0.9902 - val_recall: 0.9792 - val_auc: 0.9963\n",
      "Epoch 29/50\n",
      "351/351 [==============================] - 10s 28ms/step - loss: 0.0698 - accuracy: 0.9875 - precision: 0.9955 - recall: 0.9874 - auc: 0.9980 - val_loss: 0.0908 - val_accuracy: 0.9768 - val_precision: 0.9936 - val_recall: 0.9748 - val_auc: 0.9968\n",
      "Epoch 30/50\n",
      "351/351 [==============================] - 9s 27ms/step - loss: 0.0375 - accuracy: 0.9946 - precision: 0.9987 - recall: 0.9940 - auc: 0.9997 - val_loss: 0.0829 - val_accuracy: 0.9761 - val_precision: 0.9883 - val_recall: 0.9792 - val_auc: 0.9971\n",
      "Epoch 31/50\n",
      "351/351 [==============================] - 9s 27ms/step - loss: 0.0492 - accuracy: 0.9907 - precision: 0.9971 - recall: 0.9902 - auc: 0.9994 - val_loss: 0.0897 - val_accuracy: 0.9779 - val_precision: 0.9785 - val_recall: 0.9918 - val_auc: 0.9973\n",
      "Epoch 32/50\n",
      "351/351 [==============================] - 10s 27ms/step - loss: 0.0606 - accuracy: 0.9894 - precision: 0.9960 - recall: 0.9895 - auc: 0.9983 - val_loss: 0.0841 - val_accuracy: 0.9772 - val_precision: 0.9744 - val_recall: 0.9952 - val_auc: 0.9949\n"
     ]
    },
    {
     "name": "stdout",
     "output_type": "stream",
     "text": [
      "Epoch 33/50\n",
      "351/351 [==============================] - 9s 27ms/step - loss: 0.0497 - accuracy: 0.9913 - precision: 0.9971 - recall: 0.9911 - auc: 0.9991 - val_loss: 0.0852 - val_accuracy: 0.9818 - val_precision: 0.9907 - val_recall: 0.9845 - val_auc: 0.9963\n",
      "Epoch 34/50\n",
      "351/351 [==============================] - 9s 27ms/step - loss: 0.0438 - accuracy: 0.9929 - precision: 0.9982 - recall: 0.9921 - auc: 0.9993 - val_loss: 0.1043 - val_accuracy: 0.9750 - val_precision: 0.9955 - val_recall: 0.9705 - val_auc: 0.9954\n",
      "Epoch 35/50\n",
      "351/351 [==============================] - 10s 27ms/step - loss: 0.0505 - accuracy: 0.9903 - precision: 0.9974 - recall: 0.9895 - auc: 0.9994 - val_loss: 0.0745 - val_accuracy: 0.9825 - val_precision: 0.9828 - val_recall: 0.9937 - val_auc: 0.9963\n",
      "Epoch 36/50\n",
      "351/351 [==============================] - 9s 27ms/step - loss: 0.0341 - accuracy: 0.9945 - precision: 0.9984 - recall: 0.9942 - auc: 0.9997 - val_loss: 0.1130 - val_accuracy: 0.9693 - val_precision: 0.9960 - val_recall: 0.9622 - val_auc: 0.9958\n",
      "Epoch 37/50\n",
      "351/351 [==============================] - 9s 27ms/step - loss: 0.0590 - accuracy: 0.9896 - precision: 0.9973 - recall: 0.9887 - auc: 0.9987 - val_loss: 0.1116 - val_accuracy: 0.9722 - val_precision: 0.9950 - val_recall: 0.9671 - val_auc: 0.9962\n",
      "Epoch 38/50\n",
      "351/351 [==============================] - 9s 27ms/step - loss: 0.0470 - accuracy: 0.9937 - precision: 0.9982 - recall: 0.9933 - auc: 0.9992 - val_loss: 0.0844 - val_accuracy: 0.9757 - val_precision: 0.9878 - val_recall: 0.9792 - val_auc: 0.9966\n",
      "Epoch 39/50\n",
      "351/351 [==============================] - 10s 27ms/step - loss: 0.0388 - accuracy: 0.9945 - precision: 0.9988 - recall: 0.9937 - auc: 0.9997 - val_loss: 0.1449 - val_accuracy: 0.9643 - val_precision: 0.9960 - val_recall: 0.9555 - val_auc: 0.9949\n",
      "Epoch 40/50\n",
      "351/351 [==============================] - 9s 27ms/step - loss: 0.0649 - accuracy: 0.9868 - precision: 0.9969 - recall: 0.9855 - auc: 0.9984 - val_loss: 0.0766 - val_accuracy: 0.9822 - val_precision: 0.9903 - val_recall: 0.9855 - val_auc: 0.9976\n",
      "Epoch 41/50\n",
      "351/351 [==============================] - 10s 27ms/step - loss: 0.0535 - accuracy: 0.9908 - precision: 0.9969 - recall: 0.9907 - auc: 0.9989 - val_loss: 0.0821 - val_accuracy: 0.9804 - val_precision: 0.9902 - val_recall: 0.9831 - val_auc: 0.9967\n",
      "Epoch 42/50\n",
      "351/351 [==============================] - 9s 27ms/step - loss: 0.0354 - accuracy: 0.9948 - precision: 0.9984 - recall: 0.9945 - auc: 0.9996 - val_loss: 0.0871 - val_accuracy: 0.9814 - val_precision: 0.9841 - val_recall: 0.9908 - val_auc: 0.9934\n",
      "Epoch 43/50\n",
      "351/351 [==============================] - 9s 27ms/step - loss: 0.0429 - accuracy: 0.9948 - precision: 0.9986 - recall: 0.9942 - auc: 0.9988 - val_loss: 0.0715 - val_accuracy: 0.9804 - val_precision: 0.9898 - val_recall: 0.9835 - val_auc: 0.9979\n",
      "Epoch 44/50\n",
      "351/351 [==============================] - 9s 27ms/step - loss: 0.0302 - accuracy: 0.9955 - precision: 0.9982 - recall: 0.9957 - auc: 0.9998 - val_loss: 0.0884 - val_accuracy: 0.9782 - val_precision: 0.9902 - val_recall: 0.9802 - val_auc: 0.9941\n",
      "Epoch 45/50\n",
      "351/351 [==============================] - 9s 27ms/step - loss: 0.0394 - accuracy: 0.9934 - precision: 0.9980 - recall: 0.9931 - auc: 0.9988 - val_loss: 0.1008 - val_accuracy: 0.9800 - val_precision: 0.9926 - val_recall: 0.9802 - val_auc: 0.9928\n",
      "Epoch 46/50\n",
      "351/351 [==============================] - 10s 27ms/step - loss: 0.0227 - accuracy: 0.9973 - precision: 0.9992 - recall: 0.9971 - auc: 0.9999 - val_loss: 0.0931 - val_accuracy: 0.9747 - val_precision: 0.9965 - val_recall: 0.9690 - val_auc: 0.9960\n",
      "Epoch 47/50\n",
      "351/351 [==============================] - 9s 27ms/step - loss: 0.0360 - accuracy: 0.9940 - precision: 0.9984 - recall: 0.9934 - auc: 0.9995 - val_loss: 0.0893 - val_accuracy: 0.9832 - val_precision: 0.9922 - val_recall: 0.9850 - val_auc: 0.9953\n",
      "Epoch 48/50\n",
      "351/351 [==============================] - 9s 27ms/step - loss: 0.0605 - accuracy: 0.9891 - precision: 0.9964 - recall: 0.9887 - auc: 0.9992 - val_loss: 0.0892 - val_accuracy: 0.9804 - val_precision: 0.9888 - val_recall: 0.9845 - val_auc: 0.9958\n",
      "Epoch 49/50\n",
      "351/351 [==============================] - 9s 27ms/step - loss: 0.0320 - accuracy: 0.9969 - precision: 0.9987 - recall: 0.9971 - auc: 0.9999 - val_loss: 0.0881 - val_accuracy: 0.9789 - val_precision: 0.9841 - val_recall: 0.9874 - val_auc: 0.9929\n",
      "Epoch 50/50\n",
      "351/351 [==============================] - 9s 27ms/step - loss: 0.0458 - accuracy: 0.9925 - precision: 0.9971 - recall: 0.9928 - auc: 0.9993 - val_loss: 0.0867 - val_accuracy: 0.9782 - val_precision: 0.9841 - val_recall: 0.9864 - val_auc: 0.9939\n",
      "Epoch 1/50\n",
      "351/351 [==============================] - 10s 28ms/step - loss: 0.0689 - accuracy: 0.9861 - precision: 0.9958 - recall: 0.9852 - auc: 0.9980 - val_loss: 0.0546 - val_accuracy: 0.9954 - val_precision: 1.0000 - val_recall: 0.9937 - val_auc: 1.0000\n",
      "Epoch 2/50\n",
      "351/351 [==============================] - 10s 27ms/step - loss: 0.0665 - accuracy: 0.9879 - precision: 0.9956 - recall: 0.9879 - auc: 0.9986 - val_loss: 0.0541 - val_accuracy: 0.9968 - val_precision: 1.0000 - val_recall: 0.9956 - val_auc: 1.0000\n",
      "Epoch 3/50\n",
      "351/351 [==============================] - 10s 27ms/step - loss: 0.0589 - accuracy: 0.9894 - precision: 0.9968 - recall: 0.9887 - auc: 0.9990 - val_loss: 0.0355 - val_accuracy: 0.9979 - val_precision: 0.9995 - val_recall: 0.9976 - val_auc: 1.0000\n",
      "Epoch 4/50\n",
      "351/351 [==============================] - 10s 27ms/step - loss: 0.0506 - accuracy: 0.9913 - precision: 0.9970 - recall: 0.9912 - auc: 0.9988 - val_loss: 0.0371 - val_accuracy: 0.9986 - val_precision: 1.0000 - val_recall: 0.9981 - val_auc: 1.0000\n",
      "Epoch 5/50\n",
      "351/351 [==============================] - 10s 27ms/step - loss: 0.0488 - accuracy: 0.9915 - precision: 0.9974 - recall: 0.9910 - auc: 0.9992 - val_loss: 0.0411 - val_accuracy: 0.9929 - val_precision: 1.0000 - val_recall: 0.9903 - val_auc: 1.0000\n",
      "Epoch 6/50\n",
      "351/351 [==============================] - 10s 27ms/step - loss: 0.0428 - accuracy: 0.9931 - precision: 0.9983 - recall: 0.9924 - auc: 0.9996 - val_loss: 0.0319 - val_accuracy: 0.9993 - val_precision: 0.9995 - val_recall: 0.9995 - val_auc: 1.0000\n",
      "Epoch 7/50\n",
      "351/351 [==============================] - 9s 27ms/step - loss: 0.0399 - accuracy: 0.9942 - precision: 0.9984 - recall: 0.9937 - auc: 0.9994 - val_loss: 0.0366 - val_accuracy: 0.9961 - val_precision: 0.9981 - val_recall: 0.9966 - val_auc: 0.9999\n",
      "Epoch 8/50\n",
      "351/351 [==============================] - 9s 27ms/step - loss: 0.0447 - accuracy: 0.9920 - precision: 0.9968 - recall: 0.9923 - auc: 0.9992 - val_loss: 0.0426 - val_accuracy: 0.9957 - val_precision: 0.9985 - val_recall: 0.9956 - val_auc: 0.9998\n",
      "Epoch 9/50\n",
      "351/351 [==============================] - 9s 27ms/step - loss: 0.0403 - accuracy: 0.9937 - precision: 0.9979 - recall: 0.9935 - auc: 0.9994 - val_loss: 0.0312 - val_accuracy: 0.9986 - val_precision: 0.9995 - val_recall: 0.9985 - val_auc: 1.0000\n",
      "Epoch 10/50\n",
      "351/351 [==============================] - 9s 27ms/step - loss: 0.0448 - accuracy: 0.9924 - precision: 0.9972 - recall: 0.9925 - auc: 0.9994 - val_loss: 0.0485 - val_accuracy: 0.9911 - val_precision: 0.9995 - val_recall: 0.9884 - val_auc: 0.9999\n",
      "Epoch 11/50\n",
      "351/351 [==============================] - 9s 27ms/step - loss: 0.0402 - accuracy: 0.9945 - precision: 0.9983 - recall: 0.9942 - auc: 0.9992 - val_loss: 0.0283 - val_accuracy: 0.9982 - val_precision: 0.9981 - val_recall: 0.9995 - val_auc: 1.0000\n",
      "Epoch 12/50\n",
      "351/351 [==============================] - 9s 27ms/step - loss: 0.0333 - accuracy: 0.9955 - precision: 0.9989 - recall: 0.9950 - auc: 0.9998 - val_loss: 0.0258 - val_accuracy: 0.9979 - val_precision: 0.9985 - val_recall: 0.9985 - val_auc: 1.0000\n",
      "Epoch 13/50\n",
      "351/351 [==============================] - 9s 27ms/step - loss: 0.0445 - accuracy: 0.9936 - precision: 0.9978 - recall: 0.9935 - auc: 0.9992 - val_loss: 0.0281 - val_accuracy: 0.9979 - val_precision: 0.9995 - val_recall: 0.9976 - val_auc: 1.0000\n",
      "Epoch 14/50\n",
      "351/351 [==============================] - 9s 27ms/step - loss: 0.0348 - accuracy: 0.9944 - precision: 0.9982 - recall: 0.9942 - auc: 0.9996 - val_loss: 0.0374 - val_accuracy: 0.9968 - val_precision: 0.9995 - val_recall: 0.9961 - val_auc: 1.0000\n"
     ]
    },
    {
     "name": "stdout",
     "output_type": "stream",
     "text": [
      "Epoch 15/50\n",
      "351/351 [==============================] - 9s 27ms/step - loss: 0.0376 - accuracy: 0.9946 - precision: 0.9982 - recall: 0.9944 - auc: 0.9996 - val_loss: 0.0326 - val_accuracy: 0.9975 - val_precision: 0.9985 - val_recall: 0.9981 - val_auc: 1.0000\n",
      "Epoch 16/50\n",
      "351/351 [==============================] - 9s 27ms/step - loss: 0.0413 - accuracy: 0.9933 - precision: 0.9978 - recall: 0.9931 - auc: 0.9994 - val_loss: 0.0376 - val_accuracy: 0.9939 - val_precision: 1.0000 - val_recall: 0.9918 - val_auc: 1.0000\n",
      "Epoch 17/50\n",
      "351/351 [==============================] - 10s 27ms/step - loss: 0.0330 - accuracy: 0.9956 - precision: 0.9987 - recall: 0.9954 - auc: 0.9998 - val_loss: 0.0383 - val_accuracy: 0.9907 - val_precision: 1.0000 - val_recall: 0.9874 - val_auc: 1.0000\n",
      "Epoch 18/50\n",
      "351/351 [==============================] - 9s 27ms/step - loss: 0.0355 - accuracy: 0.9942 - precision: 0.9982 - recall: 0.9939 - auc: 0.9996 - val_loss: 0.0397 - val_accuracy: 0.9911 - val_precision: 0.9923 - val_recall: 0.9956 - val_auc: 0.9991\n",
      "Epoch 19/50\n",
      "351/351 [==============================] - 9s 27ms/step - loss: 0.0435 - accuracy: 0.9925 - precision: 0.9979 - recall: 0.9919 - auc: 0.9994 - val_loss: 0.0394 - val_accuracy: 0.9936 - val_precision: 1.0000 - val_recall: 0.9913 - val_auc: 0.9999\n",
      "Epoch 20/50\n",
      "351/351 [==============================] - 9s 27ms/step - loss: 0.0265 - accuracy: 0.9971 - precision: 0.9992 - recall: 0.9969 - auc: 0.9997 - val_loss: 0.0516 - val_accuracy: 0.9854 - val_precision: 1.0000 - val_recall: 0.9801 - val_auc: 0.9996\n",
      "Epoch 21/50\n",
      "351/351 [==============================] - 9s 27ms/step - loss: 0.0341 - accuracy: 0.9946 - precision: 0.9984 - recall: 0.9942 - auc: 0.9996 - val_loss: 0.0292 - val_accuracy: 0.9968 - val_precision: 0.9981 - val_recall: 0.9976 - val_auc: 0.9999\n",
      "Epoch 22/50\n",
      "351/351 [==============================] - 9s 27ms/step - loss: 0.0346 - accuracy: 0.9952 - precision: 0.9988 - recall: 0.9947 - auc: 0.9996 - val_loss: 0.0323 - val_accuracy: 0.9946 - val_precision: 0.9981 - val_recall: 0.9947 - val_auc: 0.9999\n",
      "Epoch 23/50\n",
      "351/351 [==============================] - 9s 27ms/step - loss: 0.0332 - accuracy: 0.9963 - precision: 0.9989 - recall: 0.9960 - auc: 0.9996 - val_loss: 0.0293 - val_accuracy: 0.9954 - val_precision: 0.9952 - val_recall: 0.9985 - val_auc: 0.9999\n",
      "Epoch 24/50\n",
      "351/351 [==============================] - 9s 27ms/step - loss: 0.0223 - accuracy: 0.9972 - precision: 0.9990 - recall: 0.9972 - auc: 0.9998 - val_loss: 0.0362 - val_accuracy: 0.9939 - val_precision: 0.9966 - val_recall: 0.9952 - val_auc: 0.9999\n",
      "Epoch 25/50\n",
      "351/351 [==============================] - 9s 27ms/step - loss: 0.0372 - accuracy: 0.9945 - precision: 0.9984 - recall: 0.9941 - auc: 0.9995 - val_loss: 0.0477 - val_accuracy: 0.9911 - val_precision: 0.9890 - val_recall: 0.9990 - val_auc: 0.9998\n",
      "Epoch 26/50\n",
      "351/351 [==============================] - 9s 27ms/step - loss: 0.0351 - accuracy: 0.9946 - precision: 0.9981 - recall: 0.9947 - auc: 0.9997 - val_loss: 0.0291 - val_accuracy: 0.9968 - val_precision: 0.9995 - val_recall: 0.9961 - val_auc: 0.9999\n",
      "Epoch 27/50\n",
      "351/351 [==============================] - 9s 27ms/step - loss: 0.0340 - accuracy: 0.9954 - precision: 0.9984 - recall: 0.9954 - auc: 0.9994 - val_loss: 0.0438 - val_accuracy: 0.9911 - val_precision: 0.9961 - val_recall: 0.9918 - val_auc: 0.9997\n",
      "Epoch 28/50\n",
      "351/351 [==============================] - 9s 27ms/step - loss: 0.0316 - accuracy: 0.9951 - precision: 0.9982 - recall: 0.9952 - auc: 0.9997 - val_loss: 0.0641 - val_accuracy: 0.9868 - val_precision: 0.9995 - val_recall: 0.9826 - val_auc: 0.9993\n",
      "Epoch 29/50\n",
      "351/351 [==============================] - 9s 27ms/step - loss: 0.0398 - accuracy: 0.9947 - precision: 0.9982 - recall: 0.9947 - auc: 0.9994 - val_loss: 0.0466 - val_accuracy: 0.9904 - val_precision: 1.0000 - val_recall: 0.9869 - val_auc: 0.9995\n",
      "Epoch 30/50\n",
      "351/351 [==============================] - 10s 27ms/step - loss: 0.0425 - accuracy: 0.9938 - precision: 0.9981 - recall: 0.9935 - auc: 0.9993 - val_loss: 0.0391 - val_accuracy: 0.9950 - val_precision: 0.9990 - val_recall: 0.9942 - val_auc: 0.9996\n",
      "Epoch 31/50\n",
      "351/351 [==============================] - 10s 27ms/step - loss: 0.0340 - accuracy: 0.9963 - precision: 0.9988 - recall: 0.9962 - auc: 0.9996 - val_loss: 0.0382 - val_accuracy: 0.9946 - val_precision: 0.9976 - val_recall: 0.9952 - val_auc: 0.9998\n",
      "Epoch 32/50\n",
      "351/351 [==============================] - 9s 27ms/step - loss: 0.0271 - accuracy: 0.9971 - precision: 0.9989 - recall: 0.9971 - auc: 0.9999 - val_loss: 0.0481 - val_accuracy: 0.9914 - val_precision: 0.9894 - val_recall: 0.9990 - val_auc: 0.9970\n",
      "Epoch 33/50\n",
      "351/351 [==============================] - 9s 27ms/step - loss: 0.0350 - accuracy: 0.9954 - precision: 0.9984 - recall: 0.9954 - auc: 0.9995 - val_loss: 0.0394 - val_accuracy: 0.9936 - val_precision: 0.9966 - val_recall: 0.9947 - val_auc: 0.9995\n",
      "Epoch 34/50\n",
      "351/351 [==============================] - 9s 27ms/step - loss: 0.0439 - accuracy: 0.9930 - precision: 0.9976 - recall: 0.9929 - auc: 0.9993 - val_loss: 0.0379 - val_accuracy: 0.9943 - val_precision: 0.9981 - val_recall: 0.9942 - val_auc: 0.9998\n",
      "Epoch 35/50\n",
      "351/351 [==============================] - 10s 27ms/step - loss: 0.0285 - accuracy: 0.9976 - precision: 0.9992 - recall: 0.9976 - auc: 0.9995 - val_loss: 0.0317 - val_accuracy: 0.9946 - val_precision: 0.9947 - val_recall: 0.9981 - val_auc: 0.9999\n",
      "Epoch 36/50\n",
      "351/351 [==============================] - 9s 27ms/step - loss: 0.0391 - accuracy: 0.9948 - precision: 0.9983 - recall: 0.9947 - auc: 0.9994 - val_loss: 0.0835 - val_accuracy: 0.9825 - val_precision: 0.9809 - val_recall: 0.9956 - val_auc: 0.9988\n",
      "Epoch 37/50\n",
      "351/351 [==============================] - 9s 27ms/step - loss: 0.0533 - accuracy: 0.9945 - precision: 0.9979 - recall: 0.9946 - auc: 0.9996 - val_loss: 0.0454 - val_accuracy: 0.9932 - val_precision: 0.9961 - val_recall: 0.9947 - val_auc: 0.9996\n",
      "Epoch 38/50\n",
      "351/351 [==============================] - 9s 27ms/step - loss: 0.0286 - accuracy: 0.9979 - precision: 0.9993 - recall: 0.9978 - auc: 0.9996 - val_loss: 0.0362 - val_accuracy: 0.9936 - val_precision: 0.9981 - val_recall: 0.9932 - val_auc: 0.9998\n",
      "Epoch 39/50\n",
      "351/351 [==============================] - 10s 28ms/step - loss: 0.0281 - accuracy: 0.9977 - precision: 0.9989 - recall: 0.9979 - auc: 0.9997 - val_loss: 0.0358 - val_accuracy: 0.9939 - val_precision: 0.9981 - val_recall: 0.9937 - val_auc: 0.9996\n",
      "Epoch 40/50\n",
      "351/351 [==============================] - 10s 28ms/step - loss: 0.0313 - accuracy: 0.9953 - precision: 0.9990 - recall: 0.9946 - auc: 0.9998 - val_loss: 0.0396 - val_accuracy: 0.9932 - val_precision: 0.9952 - val_recall: 0.9956 - val_auc: 0.9998\n",
      "Epoch 41/50\n",
      "351/351 [==============================] - 10s 28ms/step - loss: 0.0347 - accuracy: 0.9956 - precision: 0.9985 - recall: 0.9955 - auc: 0.9995 - val_loss: 0.0533 - val_accuracy: 0.9911 - val_precision: 0.9990 - val_recall: 0.9889 - val_auc: 0.9993\n",
      "Epoch 42/50\n",
      "351/351 [==============================] - 10s 28ms/step - loss: 0.0267 - accuracy: 0.9979 - precision: 0.9994 - recall: 0.9977 - auc: 0.9997 - val_loss: 0.0301 - val_accuracy: 0.9932 - val_precision: 0.9956 - val_recall: 0.9952 - val_auc: 0.9996\n",
      "Epoch 43/50\n",
      "351/351 [==============================] - 10s 28ms/step - loss: 0.0297 - accuracy: 0.9963 - precision: 0.9984 - recall: 0.9966 - auc: 0.9997 - val_loss: 0.0367 - val_accuracy: 0.9921 - val_precision: 0.9980 - val_recall: 0.9913 - val_auc: 0.9995\n",
      "Epoch 44/50\n",
      "351/351 [==============================] - 10s 28ms/step - loss: 0.0313 - accuracy: 0.9956 - precision: 0.9985 - recall: 0.9955 - auc: 0.9995 - val_loss: 0.0577 - val_accuracy: 0.9897 - val_precision: 0.9923 - val_recall: 0.9937 - val_auc: 0.9992\n",
      "Epoch 45/50\n",
      "351/351 [==============================] - 10s 28ms/step - loss: 0.0325 - accuracy: 0.9963 - precision: 0.9989 - recall: 0.9961 - auc: 0.9998 - val_loss: 0.0580 - val_accuracy: 0.9897 - val_precision: 0.9904 - val_recall: 0.9956 - val_auc: 0.9976\n",
      "Epoch 46/50\n"
     ]
    },
    {
     "name": "stdout",
     "output_type": "stream",
     "text": [
      "351/351 [==============================] - 10s 27ms/step - loss: 0.0326 - accuracy: 0.9968 - precision: 0.9990 - recall: 0.9966 - auc: 0.9997 - val_loss: 0.0294 - val_accuracy: 0.9943 - val_precision: 0.9985 - val_recall: 0.9937 - val_auc: 0.9999\n",
      "Epoch 47/50\n",
      "351/351 [==============================] - 9s 27ms/step - loss: 0.0422 - accuracy: 0.9945 - precision: 0.9981 - recall: 0.9944 - auc: 0.9991 - val_loss: 0.0603 - val_accuracy: 0.9893 - val_precision: 0.9947 - val_recall: 0.9908 - val_auc: 0.9991\n",
      "Epoch 48/50\n",
      "351/351 [==============================] - 10s 27ms/step - loss: 0.0276 - accuracy: 0.9978 - precision: 0.9993 - recall: 0.9977 - auc: 0.9999 - val_loss: 0.0577 - val_accuracy: 0.9875 - val_precision: 0.9980 - val_recall: 0.9850 - val_auc: 0.9986\n",
      "Epoch 49/50\n",
      "351/351 [==============================] - 10s 27ms/step - loss: 0.0296 - accuracy: 0.9969 - precision: 0.9992 - recall: 0.9966 - auc: 0.9997 - val_loss: 0.0407 - val_accuracy: 0.9929 - val_precision: 0.9976 - val_recall: 0.9927 - val_auc: 0.9989\n",
      "Epoch 50/50\n",
      "351/351 [==============================] - 10s 27ms/step - loss: 0.0299 - accuracy: 0.9963 - precision: 0.9989 - recall: 0.9960 - auc: 0.9998 - val_loss: 0.0410 - val_accuracy: 0.9936 - val_precision: 0.9981 - val_recall: 0.9932 - val_auc: 0.9996\n",
      "Epoch 1/50\n",
      "351/351 [==============================] - 10s 28ms/step - loss: 0.0481 - accuracy: 0.9928 - precision: 0.9978 - recall: 0.9924 - auc: 0.9986 - val_loss: 0.0383 - val_accuracy: 0.9975 - val_precision: 0.9995 - val_recall: 0.9971 - val_auc: 1.0000\n",
      "Epoch 2/50\n",
      "351/351 [==============================] - 10s 27ms/step - loss: 0.0393 - accuracy: 0.9954 - precision: 0.9985 - recall: 0.9953 - auc: 0.9997 - val_loss: 0.0217 - val_accuracy: 0.9993 - val_precision: 0.9990 - val_recall: 1.0000 - val_auc: 1.0000\n",
      "Epoch 3/50\n",
      "351/351 [==============================] - 10s 27ms/step - loss: 0.0375 - accuracy: 0.9945 - precision: 0.9982 - recall: 0.9943 - auc: 0.9993 - val_loss: 0.0372 - val_accuracy: 0.9968 - val_precision: 0.9957 - val_recall: 1.0000 - val_auc: 1.0000\n",
      "Epoch 4/50\n",
      "351/351 [==============================] - 10s 27ms/step - loss: 0.0359 - accuracy: 0.9950 - precision: 0.9983 - recall: 0.9949 - auc: 0.9998 - val_loss: 0.0238 - val_accuracy: 0.9993 - val_precision: 1.0000 - val_recall: 0.9990 - val_auc: 1.0000\n",
      "Epoch 5/50\n",
      "351/351 [==============================] - 10s 28ms/step - loss: 0.0417 - accuracy: 0.9943 - precision: 0.9984 - recall: 0.9938 - auc: 0.9995 - val_loss: 0.0280 - val_accuracy: 0.9989 - val_precision: 1.0000 - val_recall: 0.9985 - val_auc: 1.0000\n",
      "Epoch 6/50\n",
      "351/351 [==============================] - 10s 28ms/step - loss: 0.0211 - accuracy: 0.9985 - precision: 0.9998 - recall: 0.9982 - auc: 1.0000 - val_loss: 0.0144 - val_accuracy: 1.0000 - val_precision: 1.0000 - val_recall: 1.0000 - val_auc: 1.0000\n",
      "Epoch 7/50\n",
      "351/351 [==============================] - 10s 28ms/step - loss: 0.0354 - accuracy: 0.9949 - precision: 0.9982 - recall: 0.9949 - auc: 0.9991 - val_loss: 0.0262 - val_accuracy: 0.9996 - val_precision: 0.9995 - val_recall: 1.0000 - val_auc: 1.0000\n",
      "Epoch 8/50\n",
      "351/351 [==============================] - 10s 29ms/step - loss: 0.0276 - accuracy: 0.9971 - precision: 0.9992 - recall: 0.9970 - auc: 0.9998 - val_loss: 0.0145 - val_accuracy: 0.9993 - val_precision: 0.9995 - val_recall: 0.9995 - val_auc: 1.0000\n",
      "Epoch 9/50\n",
      "351/351 [==============================] - 10s 28ms/step - loss: 0.0366 - accuracy: 0.9940 - precision: 0.9983 - recall: 0.9936 - auc: 0.9995 - val_loss: 0.0230 - val_accuracy: 0.9993 - val_precision: 1.0000 - val_recall: 0.9990 - val_auc: 1.0000\n",
      "Epoch 10/50\n",
      "351/351 [==============================] - 10s 28ms/step - loss: 0.0315 - accuracy: 0.9961 - precision: 0.9985 - recall: 0.9961 - auc: 0.9997 - val_loss: 0.0237 - val_accuracy: 0.9996 - val_precision: 1.0000 - val_recall: 0.9995 - val_auc: 1.0000\n",
      "Epoch 11/50\n",
      "351/351 [==============================] - 10s 28ms/step - loss: 0.0282 - accuracy: 0.9967 - precision: 0.9985 - recall: 0.9970 - auc: 0.9997 - val_loss: 0.0186 - val_accuracy: 1.0000 - val_precision: 1.0000 - val_recall: 1.0000 - val_auc: 1.0000\n",
      "Epoch 12/50\n",
      "351/351 [==============================] - 10s 28ms/step - loss: 0.0211 - accuracy: 0.9974 - precision: 0.9993 - recall: 0.9972 - auc: 1.0000 - val_loss: 0.0224 - val_accuracy: 0.9986 - val_precision: 1.0000 - val_recall: 0.9981 - val_auc: 1.0000\n",
      "Epoch 13/50\n",
      "351/351 [==============================] - 10s 28ms/step - loss: 0.0307 - accuracy: 0.9959 - precision: 0.9987 - recall: 0.9958 - auc: 0.9999 - val_loss: 0.0273 - val_accuracy: 1.0000 - val_precision: 1.0000 - val_recall: 1.0000 - val_auc: 1.0000\n",
      "Epoch 14/50\n",
      "351/351 [==============================] - 10s 28ms/step - loss: 0.0278 - accuracy: 0.9972 - precision: 0.9989 - recall: 0.9973 - auc: 0.9998 - val_loss: 0.0241 - val_accuracy: 0.9989 - val_precision: 0.9985 - val_recall: 1.0000 - val_auc: 1.0000\n",
      "Epoch 15/50\n",
      "351/351 [==============================] - 10s 28ms/step - loss: 0.0539 - accuracy: 0.9910 - precision: 0.9964 - recall: 0.9914 - auc: 0.9989 - val_loss: 0.0334 - val_accuracy: 0.9982 - val_precision: 1.0000 - val_recall: 0.9976 - val_auc: 1.0000\n",
      "Epoch 16/50\n",
      "351/351 [==============================] - 10s 28ms/step - loss: 0.0292 - accuracy: 0.9971 - precision: 0.9994 - recall: 0.9967 - auc: 0.9998 - val_loss: 0.0167 - val_accuracy: 1.0000 - val_precision: 1.0000 - val_recall: 1.0000 - val_auc: 1.0000\n",
      "Epoch 17/50\n",
      "351/351 [==============================] - 10s 28ms/step - loss: 0.0170 - accuracy: 0.9986 - precision: 0.9995 - recall: 0.9985 - auc: 0.9998 - val_loss: 0.0181 - val_accuracy: 0.9986 - val_precision: 0.9995 - val_recall: 0.9985 - val_auc: 1.0000\n",
      "Epoch 18/50\n",
      "351/351 [==============================] - 10s 28ms/step - loss: 0.0358 - accuracy: 0.9949 - precision: 0.9983 - recall: 0.9948 - auc: 0.9996 - val_loss: 0.0238 - val_accuracy: 0.9989 - val_precision: 1.0000 - val_recall: 0.9985 - val_auc: 1.0000\n",
      "Epoch 19/50\n",
      "351/351 [==============================] - 10s 28ms/step - loss: 0.0217 - accuracy: 0.9977 - precision: 0.9993 - recall: 0.9976 - auc: 1.0000 - val_loss: 0.0284 - val_accuracy: 0.9975 - val_precision: 0.9985 - val_recall: 0.9981 - val_auc: 0.9999\n",
      "Epoch 20/50\n",
      "351/351 [==============================] - 10s 28ms/step - loss: 0.0285 - accuracy: 0.9964 - precision: 0.9985 - recall: 0.9966 - auc: 0.9998 - val_loss: 0.0192 - val_accuracy: 0.9989 - val_precision: 0.9995 - val_recall: 0.9990 - val_auc: 1.0000\n",
      "Epoch 21/50\n",
      "351/351 [==============================] - 10s 28ms/step - loss: 0.0218 - accuracy: 0.9975 - precision: 0.9992 - recall: 0.9975 - auc: 0.9997 - val_loss: 0.0190 - val_accuracy: 0.9996 - val_precision: 0.9995 - val_recall: 1.0000 - val_auc: 1.0000\n",
      "Epoch 22/50\n",
      "351/351 [==============================] - 10s 27ms/step - loss: 0.0403 - accuracy: 0.9949 - precision: 0.9983 - recall: 0.9948 - auc: 0.9994 - val_loss: 0.0237 - val_accuracy: 0.9989 - val_precision: 0.9990 - val_recall: 0.9995 - val_auc: 1.0000\n",
      "Epoch 23/50\n",
      "351/351 [==============================] - 10s 27ms/step - loss: 0.0257 - accuracy: 0.9977 - precision: 0.9996 - recall: 0.9972 - auc: 0.9996 - val_loss: 0.0233 - val_accuracy: 0.9979 - val_precision: 0.9995 - val_recall: 0.9976 - val_auc: 1.0000\n",
      "Epoch 24/50\n",
      "351/351 [==============================] - 10s 28ms/step - loss: 0.0280 - accuracy: 0.9968 - precision: 0.9990 - recall: 0.9966 - auc: 0.9997 - val_loss: 0.0184 - val_accuracy: 0.9996 - val_precision: 1.0000 - val_recall: 0.9995 - val_auc: 1.0000\n",
      "Epoch 25/50\n",
      "351/351 [==============================] - 10s 27ms/step - loss: 0.0233 - accuracy: 0.9979 - precision: 0.9992 - recall: 0.9979 - auc: 0.9997 - val_loss: 0.0137 - val_accuracy: 1.0000 - val_precision: 1.0000 - val_recall: 1.0000 - val_auc: 1.0000\n",
      "Epoch 26/50\n",
      "351/351 [==============================] - 10s 27ms/step - loss: 0.0170 - accuracy: 0.9982 - precision: 0.9995 - recall: 0.9981 - auc: 0.9999 - val_loss: 0.0371 - val_accuracy: 0.9943 - val_precision: 0.9995 - val_recall: 0.9927 - val_auc: 0.9995\n",
      "Epoch 27/50\n",
      "351/351 [==============================] - 10s 28ms/step - loss: 0.0440 - accuracy: 0.9942 - precision: 0.9978 - recall: 0.9943 - auc: 0.9994 - val_loss: 0.0209 - val_accuracy: 0.9996 - val_precision: 0.9995 - val_recall: 1.0000 - val_auc: 1.0000\n"
     ]
    },
    {
     "name": "stdout",
     "output_type": "stream",
     "text": [
      "Epoch 28/50\n",
      "351/351 [==============================] - 10s 27ms/step - loss: 0.0254 - accuracy: 0.9975 - precision: 0.9990 - recall: 0.9976 - auc: 0.9998 - val_loss: 0.0214 - val_accuracy: 0.9989 - val_precision: 1.0000 - val_recall: 0.9985 - val_auc: 1.0000\n",
      "Epoch 29/50\n",
      "351/351 [==============================] - 10s 27ms/step - loss: 0.0138 - accuracy: 0.9993 - precision: 1.0000 - recall: 0.9990 - auc: 1.0000 - val_loss: 0.0106 - val_accuracy: 0.9993 - val_precision: 1.0000 - val_recall: 0.9990 - val_auc: 1.0000\n",
      "Epoch 30/50\n",
      "351/351 [==============================] - 10s 27ms/step - loss: 0.0212 - accuracy: 0.9967 - precision: 0.9987 - recall: 0.9969 - auc: 0.9999 - val_loss: 0.0246 - val_accuracy: 0.9982 - val_precision: 0.9995 - val_recall: 0.9981 - val_auc: 1.0000\n",
      "Epoch 31/50\n",
      "351/351 [==============================] - 10s 28ms/step - loss: 0.0341 - accuracy: 0.9963 - precision: 0.9987 - recall: 0.9964 - auc: 0.9997 - val_loss: 0.0397 - val_accuracy: 0.9961 - val_precision: 0.9957 - val_recall: 0.9990 - val_auc: 0.9993\n",
      "Epoch 32/50\n",
      "351/351 [==============================] - 10s 28ms/step - loss: 0.0366 - accuracy: 0.9968 - precision: 0.9990 - recall: 0.9966 - auc: 0.9993 - val_loss: 0.0239 - val_accuracy: 0.9996 - val_precision: 0.9995 - val_recall: 1.0000 - val_auc: 1.0000\n",
      "Epoch 33/50\n",
      "351/351 [==============================] - 10s 27ms/step - loss: 0.0208 - accuracy: 0.9978 - precision: 0.9992 - recall: 0.9978 - auc: 0.9999 - val_loss: 0.0250 - val_accuracy: 0.9971 - val_precision: 0.9990 - val_recall: 0.9971 - val_auc: 1.0000\n",
      "Epoch 34/50\n",
      "351/351 [==============================] - 10s 28ms/step - loss: 0.0295 - accuracy: 0.9972 - precision: 0.9989 - recall: 0.9973 - auc: 0.9994 - val_loss: 0.0379 - val_accuracy: 0.9932 - val_precision: 1.0000 - val_recall: 0.9908 - val_auc: 1.0000\n",
      "Epoch 35/50\n",
      "351/351 [==============================] - 10s 27ms/step - loss: 0.0433 - accuracy: 0.9947 - precision: 0.9982 - recall: 0.9947 - auc: 0.9996 - val_loss: 0.0301 - val_accuracy: 0.9961 - val_precision: 0.9990 - val_recall: 0.9956 - val_auc: 1.0000\n",
      "Epoch 36/50\n",
      "351/351 [==============================] - 10s 27ms/step - loss: 0.0238 - accuracy: 0.9981 - precision: 0.9994 - recall: 0.9981 - auc: 0.9997 - val_loss: 0.0210 - val_accuracy: 0.9982 - val_precision: 1.0000 - val_recall: 0.9976 - val_auc: 1.0000\n",
      "Epoch 37/50\n",
      "351/351 [==============================] - 10s 27ms/step - loss: 0.0134 - accuracy: 0.9993 - precision: 0.9999 - recall: 0.9992 - auc: 1.0000 - val_loss: 0.0122 - val_accuracy: 0.9989 - val_precision: 1.0000 - val_recall: 0.9985 - val_auc: 1.0000\n",
      "Epoch 38/50\n",
      "351/351 [==============================] - 10s 27ms/step - loss: 0.0194 - accuracy: 0.9982 - precision: 0.9993 - recall: 0.9983 - auc: 0.9996 - val_loss: 0.0171 - val_accuracy: 0.9986 - val_precision: 1.0000 - val_recall: 0.9981 - val_auc: 1.0000\n",
      "Epoch 39/50\n",
      "351/351 [==============================] - 10s 27ms/step - loss: 0.0268 - accuracy: 0.9968 - precision: 0.9987 - recall: 0.9970 - auc: 0.9993 - val_loss: 0.0304 - val_accuracy: 0.9957 - val_precision: 0.9985 - val_recall: 0.9956 - val_auc: 0.9997\n",
      "Epoch 40/50\n",
      "351/351 [==============================] - 10s 28ms/step - loss: 0.0335 - accuracy: 0.9963 - precision: 0.9990 - recall: 0.9960 - auc: 0.9994 - val_loss: 0.0210 - val_accuracy: 0.9979 - val_precision: 0.9995 - val_recall: 0.9976 - val_auc: 1.0000\n",
      "Epoch 41/50\n",
      "351/351 [==============================] - 10s 28ms/step - loss: 0.0246 - accuracy: 0.9972 - precision: 0.9988 - recall: 0.9975 - auc: 0.9996 - val_loss: 0.0399 - val_accuracy: 0.9939 - val_precision: 1.0000 - val_recall: 0.9918 - val_auc: 0.9997\n",
      "Epoch 42/50\n",
      "351/351 [==============================] - 10s 27ms/step - loss: 0.0297 - accuracy: 0.9966 - precision: 0.9988 - recall: 0.9966 - auc: 0.9998 - val_loss: 0.0238 - val_accuracy: 0.9986 - val_precision: 1.0000 - val_recall: 0.9981 - val_auc: 1.0000\n",
      "Epoch 43/50\n",
      "351/351 [==============================] - 10s 28ms/step - loss: 0.0168 - accuracy: 0.9990 - precision: 0.9999 - recall: 0.9988 - auc: 0.9999 - val_loss: 0.0117 - val_accuracy: 1.0000 - val_precision: 1.0000 - val_recall: 1.0000 - val_auc: 1.0000\n",
      "Epoch 44/50\n",
      "351/351 [==============================] - 10s 27ms/step - loss: 0.0233 - accuracy: 0.9970 - precision: 0.9988 - recall: 0.9971 - auc: 0.9994 - val_loss: 0.0330 - val_accuracy: 0.9961 - val_precision: 0.9966 - val_recall: 0.9981 - val_auc: 0.9998\n",
      "Epoch 45/50\n",
      "351/351 [==============================] - 10s 27ms/step - loss: 0.0230 - accuracy: 0.9979 - precision: 0.9990 - recall: 0.9981 - auc: 0.9999 - val_loss: 0.0327 - val_accuracy: 0.9964 - val_precision: 1.0000 - val_recall: 0.9952 - val_auc: 0.9995\n",
      "Epoch 46/50\n",
      "351/351 [==============================] - 10s 28ms/step - loss: 0.0335 - accuracy: 0.9963 - precision: 0.9984 - recall: 0.9966 - auc: 0.9993 - val_loss: 0.0586 - val_accuracy: 0.9900 - val_precision: 1.0000 - val_recall: 0.9864 - val_auc: 0.9985\n",
      "Epoch 47/50\n",
      "351/351 [==============================] - 10s 27ms/step - loss: 0.0472 - accuracy: 0.9940 - precision: 0.9983 - recall: 0.9936 - auc: 0.9989 - val_loss: 0.0284 - val_accuracy: 0.9982 - val_precision: 0.9985 - val_recall: 0.9990 - val_auc: 1.0000\n",
      "Epoch 48/50\n",
      "351/351 [==============================] - 10s 28ms/step - loss: 0.0258 - accuracy: 0.9979 - precision: 0.9992 - recall: 0.9979 - auc: 0.9996 - val_loss: 0.0359 - val_accuracy: 0.9957 - val_precision: 1.0000 - val_recall: 0.9942 - val_auc: 0.9997\n",
      "Epoch 49/50\n",
      "351/351 [==============================] - 10s 27ms/step - loss: 0.0180 - accuracy: 0.9990 - precision: 0.9998 - recall: 0.9989 - auc: 1.0000 - val_loss: 0.0147 - val_accuracy: 0.9993 - val_precision: 1.0000 - val_recall: 0.9990 - val_auc: 1.0000\n",
      "Epoch 50/50\n",
      "351/351 [==============================] - 10s 28ms/step - loss: 0.0090 - accuracy: 0.9998 - precision: 1.0000 - recall: 0.9998 - auc: 1.0000 - val_loss: 0.0080 - val_accuracy: 0.9989 - val_precision: 1.0000 - val_recall: 0.9985 - val_auc: 1.0000\n",
      "Epoch 1/50\n",
      "351/351 [==============================] - 10s 28ms/step - loss: 0.0367 - accuracy: 0.9948 - precision: 0.9984 - recall: 0.9946 - auc: 0.9993 - val_loss: 0.0210 - val_accuracy: 1.0000 - val_precision: 1.0000 - val_recall: 1.0000 - val_auc: 1.0000\n",
      "Epoch 2/50\n",
      "351/351 [==============================] - 10s 27ms/step - loss: 0.0243 - accuracy: 0.9976 - precision: 0.9993 - recall: 0.9975 - auc: 0.9999 - val_loss: 0.0205 - val_accuracy: 0.9979 - val_precision: 0.9976 - val_recall: 0.9995 - val_auc: 1.0000\n",
      "Epoch 3/50\n",
      "351/351 [==============================] - 10s 28ms/step - loss: 0.0390 - accuracy: 0.9951 - precision: 0.9984 - recall: 0.9949 - auc: 0.9992 - val_loss: 0.0268 - val_accuracy: 0.9996 - val_precision: 1.0000 - val_recall: 0.9995 - val_auc: 1.0000\n",
      "Epoch 4/50\n",
      "351/351 [==============================] - 10s 28ms/step - loss: 0.0232 - accuracy: 0.9982 - precision: 0.9995 - recall: 0.9981 - auc: 1.0000 - val_loss: 0.0146 - val_accuracy: 1.0000 - val_precision: 1.0000 - val_recall: 1.0000 - val_auc: 1.0000\n",
      "Epoch 5/50\n",
      "351/351 [==============================] - 10s 27ms/step - loss: 0.0262 - accuracy: 0.9964 - precision: 0.9990 - recall: 0.9961 - auc: 0.9997 - val_loss: 0.0222 - val_accuracy: 0.9986 - val_precision: 1.0000 - val_recall: 0.9981 - val_auc: 1.0000\n",
      "Epoch 6/50\n",
      "351/351 [==============================] - 10s 28ms/step - loss: 0.0232 - accuracy: 0.9974 - precision: 0.9992 - recall: 0.9973 - auc: 0.9997 - val_loss: 0.0191 - val_accuracy: 0.9996 - val_precision: 1.0000 - val_recall: 0.9995 - val_auc: 1.0000\n",
      "Epoch 7/50\n",
      "351/351 [==============================] - 10s 28ms/step - loss: 0.0250 - accuracy: 0.9974 - precision: 0.9994 - recall: 0.9971 - auc: 0.9998 - val_loss: 0.0224 - val_accuracy: 0.9989 - val_precision: 0.9985 - val_recall: 1.0000 - val_auc: 1.0000\n",
      "Epoch 8/50\n",
      "351/351 [==============================] - 10s 27ms/step - loss: 0.0404 - accuracy: 0.9949 - precision: 0.9982 - recall: 0.9949 - auc: 0.9993 - val_loss: 0.0224 - val_accuracy: 0.9989 - val_precision: 1.0000 - val_recall: 0.9985 - val_auc: 1.0000\n",
      "Epoch 9/50\n",
      "351/351 [==============================] - 10s 27ms/step - loss: 0.0304 - accuracy: 0.9967 - precision: 0.9992 - recall: 0.9964 - auc: 0.9996 - val_loss: 0.0193 - val_accuracy: 1.0000 - val_precision: 1.0000 - val_recall: 1.0000 - val_auc: 1.0000\n"
     ]
    },
    {
     "name": "stdout",
     "output_type": "stream",
     "text": [
      "Epoch 10/50\n",
      "351/351 [==============================] - 10s 27ms/step - loss: 0.0198 - accuracy: 0.9984 - precision: 0.9994 - recall: 0.9984 - auc: 0.9999 - val_loss: 0.0179 - val_accuracy: 0.9989 - val_precision: 0.9995 - val_recall: 0.9990 - val_auc: 1.0000\n",
      "Epoch 11/50\n",
      "351/351 [==============================] - 10s 27ms/step - loss: 0.0192 - accuracy: 0.9983 - precision: 0.9993 - recall: 0.9984 - auc: 0.9999 - val_loss: 0.0206 - val_accuracy: 1.0000 - val_precision: 1.0000 - val_recall: 1.0000 - val_auc: 1.0000\n",
      "Epoch 12/50\n",
      "351/351 [==============================] - 10s 27ms/step - loss: 0.0251 - accuracy: 0.9979 - precision: 0.9990 - recall: 0.9981 - auc: 0.9997 - val_loss: 0.0163 - val_accuracy: 1.0000 - val_precision: 1.0000 - val_recall: 1.0000 - val_auc: 1.0000\n",
      "Epoch 13/50\n",
      "351/351 [==============================] - 10s 27ms/step - loss: 0.0318 - accuracy: 0.9953 - precision: 0.9979 - recall: 0.9956 - auc: 0.9996 - val_loss: 0.0348 - val_accuracy: 0.9975 - val_precision: 1.0000 - val_recall: 0.9966 - val_auc: 1.0000\n",
      "Epoch 14/50\n",
      "351/351 [==============================] - 10s 27ms/step - loss: 0.0234 - accuracy: 0.9979 - precision: 0.9994 - recall: 0.9978 - auc: 1.0000 - val_loss: 0.0176 - val_accuracy: 0.9996 - val_precision: 1.0000 - val_recall: 0.9995 - val_auc: 1.0000\n",
      "Epoch 15/50\n",
      "351/351 [==============================] - 10s 27ms/step - loss: 0.0273 - accuracy: 0.9963 - precision: 0.9983 - recall: 0.9966 - auc: 0.9998 - val_loss: 0.0267 - val_accuracy: 0.9989 - val_precision: 1.0000 - val_recall: 0.9985 - val_auc: 1.0000\n",
      "Epoch 16/50\n",
      "351/351 [==============================] - 10s 27ms/step - loss: 0.0353 - accuracy: 0.9955 - precision: 0.9985 - recall: 0.9954 - auc: 0.9995 - val_loss: 0.0239 - val_accuracy: 0.9996 - val_precision: 0.9995 - val_recall: 1.0000 - val_auc: 1.0000\n",
      "Epoch 17/50\n",
      "351/351 [==============================] - 10s 27ms/step - loss: 0.0242 - accuracy: 0.9977 - precision: 0.9990 - recall: 0.9978 - auc: 0.9997 - val_loss: 0.0394 - val_accuracy: 0.9907 - val_precision: 1.0000 - val_recall: 0.9874 - val_auc: 0.9997\n",
      "Epoch 18/50\n",
      "351/351 [==============================] - 10s 28ms/step - loss: 0.0284 - accuracy: 0.9963 - precision: 0.9987 - recall: 0.9962 - auc: 0.9997 - val_loss: 0.0297 - val_accuracy: 0.9961 - val_precision: 1.0000 - val_recall: 0.9947 - val_auc: 1.0000\n",
      "Epoch 19/50\n",
      "351/351 [==============================] - 10s 27ms/step - loss: 0.0226 - accuracy: 0.9984 - precision: 0.9996 - recall: 0.9982 - auc: 0.9999 - val_loss: 0.0138 - val_accuracy: 1.0000 - val_precision: 1.0000 - val_recall: 1.0000 - val_auc: 1.0000\n",
      "Epoch 20/50\n",
      "351/351 [==============================] - 10s 27ms/step - loss: 0.0184 - accuracy: 0.9980 - precision: 0.9992 - recall: 0.9982 - auc: 0.9999 - val_loss: 0.0170 - val_accuracy: 1.0000 - val_precision: 1.0000 - val_recall: 1.0000 - val_auc: 1.0000\n",
      "Epoch 21/50\n",
      "351/351 [==============================] - 10s 27ms/step - loss: 0.0314 - accuracy: 0.9963 - precision: 0.9987 - recall: 0.9964 - auc: 0.9995 - val_loss: 0.0275 - val_accuracy: 0.9996 - val_precision: 1.0000 - val_recall: 0.9995 - val_auc: 1.0000\n",
      "Epoch 22/50\n",
      "351/351 [==============================] - 10s 27ms/step - loss: 0.0185 - accuracy: 0.9994 - precision: 0.9996 - recall: 0.9995 - auc: 0.9998 - val_loss: 0.0103 - val_accuracy: 1.0000 - val_precision: 1.0000 - val_recall: 1.0000 - val_auc: 1.0000\n",
      "Epoch 23/50\n",
      "351/351 [==============================] - 10s 27ms/step - loss: 0.0447 - accuracy: 0.9946 - precision: 0.9978 - recall: 0.9949 - auc: 0.9989 - val_loss: 0.0255 - val_accuracy: 0.9986 - val_precision: 0.9981 - val_recall: 1.0000 - val_auc: 1.0000\n",
      "Epoch 24/50\n",
      "351/351 [==============================] - 10s 27ms/step - loss: 0.0362 - accuracy: 0.9967 - precision: 0.9989 - recall: 0.9966 - auc: 0.9994 - val_loss: 0.0223 - val_accuracy: 1.0000 - val_precision: 1.0000 - val_recall: 1.0000 - val_auc: 1.0000\n",
      "Epoch 25/50\n",
      "351/351 [==============================] - 10s 27ms/step - loss: 0.0238 - accuracy: 0.9979 - precision: 0.9992 - recall: 0.9979 - auc: 0.9999 - val_loss: 0.0157 - val_accuracy: 0.9996 - val_precision: 1.0000 - val_recall: 0.9995 - val_auc: 1.0000\n",
      "Epoch 26/50\n",
      "351/351 [==============================] - 10s 27ms/step - loss: 0.0235 - accuracy: 0.9982 - precision: 0.9994 - recall: 0.9982 - auc: 0.9996 - val_loss: 0.0181 - val_accuracy: 0.9993 - val_precision: 1.0000 - val_recall: 0.9990 - val_auc: 1.0000\n",
      "Epoch 27/50\n",
      "351/351 [==============================] - 10s 27ms/step - loss: 0.0156 - accuracy: 0.9994 - precision: 1.0000 - recall: 0.9992 - auc: 1.0000 - val_loss: 0.0106 - val_accuracy: 1.0000 - val_precision: 1.0000 - val_recall: 1.0000 - val_auc: 1.0000\n",
      "Epoch 28/50\n",
      "351/351 [==============================] - 10s 28ms/step - loss: 0.0153 - accuracy: 0.9987 - precision: 0.9994 - recall: 0.9988 - auc: 0.9999 - val_loss: 0.0146 - val_accuracy: 0.9996 - val_precision: 1.0000 - val_recall: 0.9995 - val_auc: 1.0000\n",
      "Epoch 29/50\n",
      "351/351 [==============================] - 10s 28ms/step - loss: 0.0098 - accuracy: 0.9999 - precision: 1.0000 - recall: 0.9999 - auc: 1.0000 - val_loss: 0.0066 - val_accuracy: 0.9996 - val_precision: 1.0000 - val_recall: 0.9995 - val_auc: 1.00004 - accuracy: 0.9999 - precision: 1.0000 - reca\n",
      "Epoch 30/50\n",
      "351/351 [==============================] - 10s 27ms/step - loss: 0.0124 - accuracy: 0.9988 - precision: 0.9995 - recall: 0.9989 - auc: 1.0000 - val_loss: 0.0115 - val_accuracy: 1.0000 - val_precision: 1.0000 - val_recall: 1.0000 - val_auc: 1.0000\n",
      "Epoch 31/50\n",
      "351/351 [==============================] - 10s 28ms/step - loss: 0.0407 - accuracy: 0.9944 - precision: 0.9979 - recall: 0.9944 - auc: 0.9987 - val_loss: 0.0518 - val_accuracy: 0.9925 - val_precision: 0.9995 - val_recall: 0.9903 - val_auc: 0.9999\n",
      "Epoch 32/50\n",
      "351/351 [==============================] - 10s 28ms/step - loss: 0.0277 - accuracy: 0.9985 - precision: 0.9998 - recall: 0.9982 - auc: 0.9998 - val_loss: 0.0139 - val_accuracy: 1.0000 - val_precision: 1.0000 - val_recall: 1.0000 - val_auc: 1.0000\n",
      "Epoch 33/50\n",
      "351/351 [==============================] - 10s 28ms/step - loss: 0.0328 - accuracy: 0.9959 - precision: 0.9985 - recall: 0.9959 - auc: 0.9991 - val_loss: 0.0236 - val_accuracy: 0.9996 - val_precision: 1.0000 - val_recall: 0.9995 - val_auc: 1.0000\n",
      "Epoch 34/50\n",
      "351/351 [==============================] - 10s 28ms/step - loss: 0.0166 - accuracy: 0.9992 - precision: 0.9996 - recall: 0.9993 - auc: 1.0000 - val_loss: 0.0131 - val_accuracy: 0.9993 - val_precision: 1.0000 - val_recall: 0.9990 - val_auc: 1.0000\n",
      "Epoch 35/50\n",
      "351/351 [==============================] - 10s 28ms/step - loss: 0.0244 - accuracy: 0.9966 - precision: 0.9988 - recall: 0.9966 - auc: 0.9997 - val_loss: 0.0286 - val_accuracy: 0.9993 - val_precision: 1.0000 - val_recall: 0.9990 - val_auc: 1.0000\n",
      "Epoch 36/50\n",
      "351/351 [==============================] - 10s 27ms/step - loss: 0.0203 - accuracy: 0.9988 - precision: 0.9996 - recall: 0.9987 - auc: 0.9999 - val_loss: 0.0150 - val_accuracy: 0.9993 - val_precision: 0.9990 - val_recall: 1.0000 - val_auc: 1.0000\n",
      "Epoch 37/50\n",
      "351/351 [==============================] - 10s 28ms/step - loss: 0.0291 - accuracy: 0.9968 - precision: 0.9988 - recall: 0.9969 - auc: 0.9994 - val_loss: 0.0409 - val_accuracy: 0.9900 - val_precision: 1.0000 - val_recall: 0.9864 - val_auc: 0.9993\n",
      "Epoch 38/50\n",
      "351/351 [==============================] - 10s 27ms/step - loss: 0.0306 - accuracy: 0.9966 - precision: 0.9990 - recall: 0.9964 - auc: 0.9993 - val_loss: 0.0402 - val_accuracy: 0.9943 - val_precision: 1.0000 - val_recall: 0.9923 - val_auc: 0.9993\n",
      "Epoch 39/50\n",
      "351/351 [==============================] - 10s 27ms/step - loss: 0.0246 - accuracy: 0.9979 - precision: 0.9994 - recall: 0.9977 - auc: 0.9998 - val_loss: 0.0121 - val_accuracy: 1.0000 - val_precision: 1.0000 - val_recall: 1.0000 - val_auc: 1.0000\n",
      "Epoch 40/50\n",
      "351/351 [==============================] - 10s 27ms/step - loss: 0.0154 - accuracy: 0.9991 - precision: 0.9995 - recall: 0.9993 - auc: 0.9999 - val_loss: 0.0142 - val_accuracy: 0.9996 - val_precision: 1.0000 - val_recall: 0.9995 - val_auc: 1.0000\n",
      "Epoch 41/50\n"
     ]
    },
    {
     "name": "stdout",
     "output_type": "stream",
     "text": [
      "351/351 [==============================] - 10s 27ms/step - loss: 0.0123 - accuracy: 0.9993 - precision: 0.9998 - recall: 0.9993 - auc: 0.9999 - val_loss: 0.0161 - val_accuracy: 1.0000 - val_precision: 1.0000 - val_recall: 1.0000 - val_auc: 1.0000\n",
      "Epoch 42/50\n",
      "351/351 [==============================] - 10s 27ms/step - loss: 0.0215 - accuracy: 0.9981 - precision: 0.9990 - recall: 0.9984 - auc: 0.9997 - val_loss: 0.0230 - val_accuracy: 0.9986 - val_precision: 0.9995 - val_recall: 0.9985 - val_auc: 0.9997\n",
      "Epoch 43/50\n",
      "351/351 [==============================] - 10s 28ms/step - loss: 0.0226 - accuracy: 0.9973 - precision: 0.9989 - recall: 0.9975 - auc: 0.9998 - val_loss: 0.0365 - val_accuracy: 0.9946 - val_precision: 0.9928 - val_recall: 1.0000 - val_auc: 1.0000\n",
      "Epoch 44/50\n",
      "351/351 [==============================] - 10s 28ms/step - loss: 0.0265 - accuracy: 0.9980 - precision: 0.9994 - recall: 0.9979 - auc: 0.9995 - val_loss: 0.0135 - val_accuracy: 1.0000 - val_precision: 1.0000 - val_recall: 1.0000 - val_auc: 1.0000\n",
      "Epoch 45/50\n",
      "351/351 [==============================] - 10s 28ms/step - loss: 0.0135 - accuracy: 0.9987 - precision: 0.9996 - recall: 0.9985 - auc: 1.0000 - val_loss: 0.0316 - val_accuracy: 0.9939 - val_precision: 0.9976 - val_recall: 0.9942 - val_auc: 0.9999\n",
      "Epoch 46/50\n",
      "351/351 [==============================] - 10s 28ms/step - loss: 0.0390 - accuracy: 0.9967 - precision: 0.9985 - recall: 0.9970 - auc: 0.9994 - val_loss: 0.1486 - val_accuracy: 0.9707 - val_precision: 1.0000 - val_recall: 0.9603 - val_auc: 0.9942\n",
      "Epoch 47/50\n",
      "351/351 [==============================] - 10s 27ms/step - loss: 0.0268 - accuracy: 0.9962 - precision: 0.9989 - recall: 0.9959 - auc: 0.9998 - val_loss: 0.0202 - val_accuracy: 0.9979 - val_precision: 1.0000 - val_recall: 0.9971 - val_auc: 1.0000\n",
      "Epoch 48/50\n",
      "351/351 [==============================] - 10s 27ms/step - loss: 0.0194 - accuracy: 0.9979 - precision: 0.9995 - recall: 0.9977 - auc: 0.9999 - val_loss: 0.0170 - val_accuracy: 0.9989 - val_precision: 0.9985 - val_recall: 1.0000 - val_auc: 1.0000\n",
      "Epoch 49/50\n",
      "351/351 [==============================] - 10s 27ms/step - loss: 0.0302 - accuracy: 0.9968 - precision: 0.9988 - recall: 0.9969 - auc: 0.9998 - val_loss: 0.0297 - val_accuracy: 0.9979 - val_precision: 0.9976 - val_recall: 0.9995 - val_auc: 1.0000\n",
      "Epoch 50/50\n",
      "351/351 [==============================] - 10s 27ms/step - loss: 0.0304 - accuracy: 0.9969 - precision: 0.9989 - recall: 0.9969 - auc: 0.9995 - val_loss: 0.0356 - val_accuracy: 0.9968 - val_precision: 0.9990 - val_recall: 0.9966 - val_auc: 1.0000\n",
      "Epoch 1/50\n",
      "351/351 [==============================] - 10s 28ms/step - loss: 0.0358 - accuracy: 0.9966 - precision: 0.9990 - recall: 0.9964 - auc: 0.9993 - val_loss: 0.0167 - val_accuracy: 1.0000 - val_precision: 1.0000 - val_recall: 1.0000 - val_auc: 1.0000\n",
      "Epoch 2/50\n",
      "351/351 [==============================] - 10s 27ms/step - loss: 0.0186 - accuracy: 0.9984 - precision: 0.9993 - recall: 0.9985 - auc: 1.0000 - val_loss: 0.0133 - val_accuracy: 1.0000 - val_precision: 1.0000 - val_recall: 1.0000 - val_auc: 1.0000\n",
      "Epoch 3/50\n",
      "351/351 [==============================] - 10s 28ms/step - loss: 0.0216 - accuracy: 0.9977 - precision: 0.9992 - recall: 0.9977 - auc: 0.9998 - val_loss: 0.0169 - val_accuracy: 1.0000 - val_precision: 1.0000 - val_recall: 1.0000 - val_auc: 1.0000\n",
      "Epoch 4/50\n",
      "351/351 [==============================] - 10s 28ms/step - loss: 0.0230 - accuracy: 0.9980 - precision: 0.9993 - recall: 0.9981 - auc: 0.9997 - val_loss: 0.0144 - val_accuracy: 1.0000 - val_precision: 1.0000 - val_recall: 1.0000 - val_auc: 1.0000\n",
      "Epoch 5/50\n",
      "351/351 [==============================] - 10s 28ms/step - loss: 0.0158 - accuracy: 0.9990 - precision: 0.9996 - recall: 0.9990 - auc: 0.9999 - val_loss: 0.0137 - val_accuracy: 1.0000 - val_precision: 1.0000 - val_recall: 1.0000 - val_auc: 1.0000\n",
      "Epoch 6/50\n",
      "351/351 [==============================] - 10s 28ms/step - loss: 0.0185 - accuracy: 0.9983 - precision: 0.9994 - recall: 0.9983 - auc: 0.9998 - val_loss: 0.0211 - val_accuracy: 0.9996 - val_precision: 1.0000 - val_recall: 0.9995 - val_auc: 1.0000\n",
      "Epoch 7/50\n",
      "351/351 [==============================] - 10s 28ms/step - loss: 0.0305 - accuracy: 0.9968 - precision: 0.9990 - recall: 0.9966 - auc: 0.9998 - val_loss: 0.0202 - val_accuracy: 1.0000 - val_precision: 1.0000 - val_recall: 1.0000 - val_auc: 1.0000\n",
      "Epoch 8/50\n",
      "351/351 [==============================] - 10s 28ms/step - loss: 0.0294 - accuracy: 0.9972 - precision: 0.9990 - recall: 0.9972 - auc: 0.9996 - val_loss: 0.0188 - val_accuracy: 1.0000 - val_precision: 1.0000 - val_recall: 1.0000 - val_auc: 1.0000\n",
      "Epoch 9/50\n",
      "351/351 [==============================] - 10s 28ms/step - loss: 0.0154 - accuracy: 0.9991 - precision: 0.9996 - recall: 0.9992 - auc: 1.0000 - val_loss: 0.0129 - val_accuracy: 0.9996 - val_precision: 1.0000 - val_recall: 0.9995 - val_auc: 1.0000\n",
      "Epoch 10/50\n",
      "351/351 [==============================] - 10s 28ms/step - loss: 0.0230 - accuracy: 0.9975 - precision: 0.9993 - recall: 0.9973 - auc: 0.9997 - val_loss: 0.0187 - val_accuracy: 1.0000 - val_precision: 1.0000 - val_recall: 1.0000 - val_auc: 1.0000\n",
      "Epoch 11/50\n",
      "351/351 [==============================] - 9s 27ms/step - loss: 0.0246 - accuracy: 0.9979 - precision: 0.9995 - recall: 0.9977 - auc: 0.9995 - val_loss: 0.0150 - val_accuracy: 1.0000 - val_precision: 1.0000 - val_recall: 1.0000 - val_auc: 1.0000\n",
      "Epoch 12/50\n",
      "351/351 [==============================] - 10s 28ms/step - loss: 0.0219 - accuracy: 0.9977 - precision: 0.9989 - recall: 0.9979 - auc: 0.9999 - val_loss: 0.0205 - val_accuracy: 0.9968 - val_precision: 1.0000 - val_recall: 0.9956 - val_auc: 1.0000\n",
      "Epoch 13/50\n",
      "351/351 [==============================] - 10s 28ms/step - loss: 0.0236 - accuracy: 0.9978 - precision: 0.9993 - recall: 0.9977 - auc: 1.0000 - val_loss: 0.0158 - val_accuracy: 1.0000 - val_precision: 1.0000 - val_recall: 1.0000 - val_auc: 1.0000\n",
      "Epoch 14/50\n",
      "351/351 [==============================] - 10s 28ms/step - loss: 0.0126 - accuracy: 0.9996 - precision: 0.9998 - recall: 0.9996 - auc: 1.0000 - val_loss: 0.0099 - val_accuracy: 1.0000 - val_precision: 1.0000 - val_recall: 1.0000 - val_auc: 1.0000\n",
      "Epoch 15/50\n",
      "351/351 [==============================] - 10s 28ms/step - loss: 0.0070 - accuracy: 0.9999 - precision: 1.0000 - recall: 0.9999 - auc: 1.0000 - val_loss: 0.0060 - val_accuracy: 1.0000 - val_precision: 1.0000 - val_recall: 1.0000 - val_auc: 1.0000\n",
      "Epoch 16/50\n",
      "351/351 [==============================] - 10s 27ms/step - loss: 0.0134 - accuracy: 0.9985 - precision: 0.9994 - recall: 0.9985 - auc: 0.9999 - val_loss: 0.0300 - val_accuracy: 0.9957 - val_precision: 1.0000 - val_recall: 0.9942 - val_auc: 0.9998\n",
      "Epoch 17/50\n",
      "351/351 [==============================] - 10s 28ms/step - loss: 0.0396 - accuracy: 0.9950 - precision: 0.9981 - recall: 0.9952 - auc: 0.9992 - val_loss: 0.0329 - val_accuracy: 0.9971 - val_precision: 0.9995 - val_recall: 0.9966 - val_auc: 0.9997\n",
      "Epoch 18/50\n",
      "351/351 [==============================] - 10s 28ms/step - loss: 0.0289 - accuracy: 0.9975 - precision: 0.9990 - recall: 0.9976 - auc: 0.9996 - val_loss: 0.0142 - val_accuracy: 0.9996 - val_precision: 1.0000 - val_recall: 0.9995 - val_auc: 1.0000\n",
      "Epoch 19/50\n",
      "351/351 [==============================] - 10s 28ms/step - loss: 0.0181 - accuracy: 0.9985 - precision: 0.9994 - recall: 0.9985 - auc: 0.9999 - val_loss: 0.0177 - val_accuracy: 0.9996 - val_precision: 1.0000 - val_recall: 0.9995 - val_auc: 1.0000\n",
      "Epoch 20/50\n",
      "351/351 [==============================] - 10s 28ms/step - loss: 0.0216 - accuracy: 0.9979 - precision: 0.9993 - recall: 0.9978 - auc: 1.0000 - val_loss: 0.0136 - val_accuracy: 0.9996 - val_precision: 1.0000 - val_recall: 0.9995 - val_auc: 1.0000\n",
      "Epoch 21/50\n",
      "351/351 [==============================] - 10s 27ms/step - loss: 0.0255 - accuracy: 0.9975 - precision: 0.9990 - recall: 0.9976 - auc: 0.9994 - val_loss: 0.0280 - val_accuracy: 0.9993 - val_precision: 1.0000 - val_recall: 0.9990 - val_auc: 1.0000\n",
      "Epoch 22/50\n",
      "351/351 [==============================] - 10s 27ms/step - loss: 0.0250 - accuracy: 0.9975 - precision: 0.9994 - recall: 0.9972 - auc: 0.9999 - val_loss: 0.0251 - val_accuracy: 0.9989 - val_precision: 0.9995 - val_recall: 0.9990 - val_auc: 1.0000\n"
     ]
    },
    {
     "name": "stdout",
     "output_type": "stream",
     "text": [
      "Epoch 23/50\n",
      "351/351 [==============================] - 10s 27ms/step - loss: 0.0194 - accuracy: 0.9987 - precision: 0.9996 - recall: 0.9985 - auc: 1.0000 - val_loss: 0.0134 - val_accuracy: 0.9996 - val_precision: 1.0000 - val_recall: 0.9995 - val_auc: 1.0000\n",
      "Epoch 24/50\n",
      "351/351 [==============================] - 10s 27ms/step - loss: 0.0252 - accuracy: 0.9981 - precision: 0.9990 - recall: 0.9984 - auc: 0.9994 - val_loss: 0.0214 - val_accuracy: 0.9996 - val_precision: 0.9995 - val_recall: 1.0000 - val_auc: 1.0000\n",
      "Epoch 25/50\n",
      "351/351 [==============================] - 10s 27ms/step - loss: 0.0280 - accuracy: 0.9979 - precision: 0.9992 - recall: 0.9981 - auc: 0.9997 - val_loss: 0.0165 - val_accuracy: 0.9996 - val_precision: 0.9995 - val_recall: 1.0000 - val_auc: 1.0000\n",
      "Epoch 26/50\n",
      "351/351 [==============================] - 10s 27ms/step - loss: 0.0170 - accuracy: 0.9990 - precision: 0.9996 - recall: 0.9990 - auc: 1.0000 - val_loss: 0.0131 - val_accuracy: 0.9993 - val_precision: 0.9990 - val_recall: 1.0000 - val_auc: 1.0000\n",
      "Epoch 27/50\n",
      "351/351 [==============================] - 10s 28ms/step - loss: 0.0147 - accuracy: 0.9989 - precision: 0.9995 - recall: 0.9990 - auc: 0.9998 - val_loss: 0.0102 - val_accuracy: 1.0000 - val_precision: 1.0000 - val_recall: 1.0000 - val_auc: 1.0000\n",
      "Epoch 28/50\n",
      "351/351 [==============================] - 10s 28ms/step - loss: 0.0103 - accuracy: 0.9996 - precision: 0.9999 - recall: 0.9995 - auc: 0.9998 - val_loss: 0.0135 - val_accuracy: 0.9996 - val_precision: 0.9995 - val_recall: 1.0000 - val_auc: 1.0000\n",
      "Epoch 29/50\n",
      "351/351 [==============================] - 10s 27ms/step - loss: 0.0364 - accuracy: 0.9963 - precision: 0.9983 - recall: 0.9966 - auc: 0.9993 - val_loss: 0.0289 - val_accuracy: 1.0000 - val_precision: 1.0000 - val_recall: 1.0000 - val_auc: 1.0000\n",
      "Epoch 30/50\n",
      "351/351 [==============================] - 10s 27ms/step - loss: 0.0298 - accuracy: 0.9973 - precision: 0.9989 - recall: 0.9975 - auc: 0.9998 - val_loss: 0.0396 - val_accuracy: 0.9950 - val_precision: 1.0000 - val_recall: 0.9932 - val_auc: 0.9993\n",
      "Epoch 31/50\n",
      "351/351 [==============================] - 10s 27ms/step - loss: 0.0352 - accuracy: 0.9967 - precision: 0.9993 - recall: 0.9962 - auc: 0.9996 - val_loss: 0.0198 - val_accuracy: 0.9989 - val_precision: 0.9995 - val_recall: 0.9990 - val_auc: 1.0000\n",
      "Epoch 32/50\n",
      "351/351 [==============================] - 10s 27ms/step - loss: 0.0203 - accuracy: 0.9985 - precision: 0.9995 - recall: 0.9984 - auc: 0.9998 - val_loss: 0.0161 - val_accuracy: 0.9993 - val_precision: 1.0000 - val_recall: 0.9990 - val_auc: 1.0000\n",
      "Epoch 33/50\n",
      "351/351 [==============================] - 10s 27ms/step - loss: 0.0270 - accuracy: 0.9980 - precision: 0.9994 - recall: 0.9979 - auc: 0.9996 - val_loss: 0.0153 - val_accuracy: 0.9993 - val_precision: 1.0000 - val_recall: 0.9990 - val_auc: 1.0000\n",
      "Epoch 34/50\n",
      "351/351 [==============================] - 10s 27ms/step - loss: 0.0227 - accuracy: 0.9979 - precision: 0.9993 - recall: 0.9978 - auc: 0.9995 - val_loss: 0.0240 - val_accuracy: 0.9982 - val_precision: 0.9985 - val_recall: 0.9990 - val_auc: 1.0000\n",
      "Epoch 35/50\n",
      "351/351 [==============================] - 10s 27ms/step - loss: 0.0191 - accuracy: 0.9982 - precision: 0.9994 - recall: 0.9982 - auc: 1.0000 - val_loss: 0.0162 - val_accuracy: 0.9996 - val_precision: 1.0000 - val_recall: 0.9995 - val_auc: 1.0000\n",
      "Epoch 36/50\n",
      "351/351 [==============================] - 10s 27ms/step - loss: 0.0235 - accuracy: 0.9979 - precision: 0.9990 - recall: 0.9982 - auc: 0.9996 - val_loss: 0.0222 - val_accuracy: 1.0000 - val_precision: 1.0000 - val_recall: 1.0000 - val_auc: 1.0000\n",
      "Epoch 37/50\n",
      "351/351 [==============================] - 10s 27ms/step - loss: 0.0353 - accuracy: 0.9972 - precision: 0.9990 - recall: 0.9972 - auc: 0.9993 - val_loss: 0.0251 - val_accuracy: 0.9982 - val_precision: 0.9976 - val_recall: 1.0000 - val_auc: 0.9993\n",
      "Epoch 38/50\n",
      "351/351 [==============================] - 10s 27ms/step - loss: 0.0246 - accuracy: 0.9978 - precision: 0.9990 - recall: 0.9979 - auc: 0.9997 - val_loss: 0.0264 - val_accuracy: 0.9993 - val_precision: 0.9990 - val_recall: 1.0000 - val_auc: 1.0000\n",
      "Epoch 39/50\n",
      "351/351 [==============================] - 10s 27ms/step - loss: 0.0264 - accuracy: 0.9977 - precision: 0.9990 - recall: 0.9978 - auc: 1.0000 - val_loss: 0.0144 - val_accuracy: 0.9996 - val_precision: 0.9995 - val_recall: 1.0000 - val_auc: 1.0000\n",
      "Epoch 40/50\n",
      "351/351 [==============================] - 10s 27ms/step - loss: 0.0220 - accuracy: 0.9984 - precision: 0.9995 - recall: 0.9983 - auc: 0.9996 - val_loss: 0.0145 - val_accuracy: 0.9993 - val_precision: 0.9990 - val_recall: 1.0000 - val_auc: 1.0000\n",
      "Epoch 41/50\n",
      "351/351 [==============================] - 10s 28ms/step - loss: 0.0103 - accuracy: 0.9996 - precision: 0.9998 - recall: 0.9996 - auc: 1.0000 - val_loss: 0.0084 - val_accuracy: 1.0000 - val_precision: 1.0000 - val_recall: 1.0000 - val_auc: 1.0000\n",
      "Epoch 42/50\n",
      "351/351 [==============================] - 10s 27ms/step - loss: 0.0121 - accuracy: 0.9990 - precision: 0.9995 - recall: 0.9992 - auc: 1.0000 - val_loss: 0.0379 - val_accuracy: 0.9957 - val_precision: 0.9942 - val_recall: 1.0000 - val_auc: 0.9973\n",
      "Epoch 43/50\n",
      "351/351 [==============================] - 10s 27ms/step - loss: 0.0271 - accuracy: 0.9976 - precision: 0.9988 - recall: 0.9979 - auc: 0.9998 - val_loss: 0.0193 - val_accuracy: 0.9996 - val_precision: 0.9995 - val_recall: 1.0000 - val_auc: 1.0000\n",
      "Epoch 44/50\n",
      "351/351 [==============================] - 10s 27ms/step - loss: 0.0188 - accuracy: 0.9988 - precision: 0.9995 - recall: 0.9988 - auc: 0.9997 - val_loss: 0.0277 - val_accuracy: 0.9954 - val_precision: 1.0000 - val_recall: 0.9937 - val_auc: 1.0000\n",
      "Epoch 45/50\n",
      "351/351 [==============================] - 10s 27ms/step - loss: 0.0406 - accuracy: 0.9958 - precision: 0.9988 - recall: 0.9955 - auc: 0.9987 - val_loss: 0.0312 - val_accuracy: 0.9961 - val_precision: 1.0000 - val_recall: 0.9947 - val_auc: 0.9998\n",
      "Epoch 46/50\n",
      "351/351 [==============================] - 10s 27ms/step - loss: 0.0151 - accuracy: 0.9996 - precision: 0.9999 - recall: 0.9995 - auc: 1.0000 - val_loss: 0.0100 - val_accuracy: 1.0000 - val_precision: 1.0000 - val_recall: 1.0000 - val_auc: 1.0000\n",
      "Epoch 47/50\n",
      "351/351 [==============================] - 10s 27ms/step - loss: 0.0291 - accuracy: 0.9969 - precision: 0.9989 - recall: 0.9969 - auc: 0.9994 - val_loss: 0.0209 - val_accuracy: 0.9986 - val_precision: 1.0000 - val_recall: 0.9981 - val_auc: 1.0000\n",
      "Epoch 48/50\n",
      "351/351 [==============================] - 10s 27ms/step - loss: 0.0261 - accuracy: 0.9975 - precision: 0.9989 - recall: 0.9977 - auc: 0.9997 - val_loss: 0.0252 - val_accuracy: 0.9989 - val_precision: 0.9985 - val_recall: 1.0000 - val_auc: 1.0000\n",
      "Epoch 49/50\n",
      "351/351 [==============================] - 10s 28ms/step - loss: 0.0333 - accuracy: 0.9978 - precision: 0.9992 - recall: 0.9978 - auc: 0.9994 - val_loss: 0.0265 - val_accuracy: 0.9964 - val_precision: 1.0000 - val_recall: 0.9952 - val_auc: 0.9998\n",
      "Epoch 50/50\n",
      "351/351 [==============================] - 10s 28ms/step - loss: 0.0250 - accuracy: 0.9980 - precision: 0.9993 - recall: 0.9981 - auc: 0.9995 - val_loss: 0.0139 - val_accuracy: 0.9996 - val_precision: 0.9995 - val_recall: 1.0000 - val_auc: 1.0000\n"
     ]
    }
   ],
   "source": [
    "losses_2, val_losses_2, accuracies_2, val_accuracies_2 = kfoldcrossval(xtr + xval, y_tr + y_val, 5, 50, cnn_2)"
   ]
  },
  {
   "cell_type": "markdown",
   "metadata": {},
   "source": [
    "### Evaluating"
   ]
  },
  {
   "cell_type": "markdown",
   "metadata": {},
   "source": [
    "#### 1. Examine the loss and accuracy curves"
   ]
  },
  {
   "cell_type": "code",
   "execution_count": 101,
   "metadata": {},
   "outputs": [],
   "source": [
    "def getAverages(losses, val_losses, accuracies, val_accuracies):\n",
    "    avg_losses = []\n",
    "    max_losses = []\n",
    "    avg_val_losses = []\n",
    "\n",
    "    for i in range(len(losses)):\n",
    "        avg_losses.append(statistics.mean(losses[i]))\n",
    "        max_losses.append(max(losses[i]))\n",
    "        avg_val_losses.append(statistics.mean(val_losses[i])) \n",
    "\n",
    "    avg_accuracies = []\n",
    "    avg_val_accuracies = []\n",
    "\n",
    "    for i in range(len(accuracies)):\n",
    "        avg_accuracies.append(statistics.mean(accuracies[i]))\n",
    "        avg_val_accuracies.append(statistics.mean(val_accuracies[i])) \n",
    "    \n",
    "    return avg_losses, avg_val_losses, avg_accuracies, avg_val_accuracies"
   ]
  },
  {
   "cell_type": "code",
   "execution_count": 124,
   "metadata": {},
   "outputs": [],
   "source": [
    "def plotLossAccuracyCurves(avg_losses, avg_val_losses, avg_accuracies, avg_val_accuracies):\n",
    "    plt.figure(figsize=(20,5))\n",
    "    \n",
    "    e = [i for i in range(len(avg_losses))]\n",
    "\n",
    "    # plot loss & val loss\n",
    "    plt.subplot(1,2,1)\n",
    "    sns.lineplot(x=e, y=avg_losses, color='red', label='avg train Loss')\n",
    "    sns.lineplot(x=e, y=avg_val_losses, color='orange', label='avg val Loss')\n",
    "    plt.title('avg Loss on train vs validation')\n",
    "    plt.legend(loc='best')\n",
    "\n",
    "    # plot accuracy and val accuracy\n",
    "    plt.subplot(1,2,2)\n",
    "    sns.lineplot(x=e, y=avg_accuracies, color='blue', label='avg Train Accuracy')\n",
    "    sns.lineplot(x=e, y=avg_val_accuracies, color='green', label='avg Val Accuracy')\n",
    "    plt.title('avg Accuracy on train vs validation')\n",
    "    plt.legend(loc='best')\n",
    "\n",
    "    plt.xlabel('epoch')\n",
    "    plt.ylabel('loss')\n",
    "    plt.show()"
   ]
  },
  {
   "cell_type": "code",
   "execution_count": 173,
   "metadata": {},
   "outputs": [
    {
     "data": {
      "image/png": "[encoded data removed]",
      "text/plain": [
       "<Figure size 1440x360 with 2 Axes>"
      ]
     },
     "metadata": {
      "needs_background": "light"
     },
     "output_type": "display_data"
    }
   ],
   "source": [
    "l, vl, a, va = getAverages(losses_1, val_losses_1, accuracies_1, val_accuracies_1)\n",
    "plotLossAccuracyCurves(l, vl, a, va)"
   ]
  },
  {
   "cell_type": "code",
   "execution_count": 127,
   "metadata": {},
   "outputs": [
    {
     "data": {
      "image/png": "[encoded data removed]",
      "text/plain": [
       "<Figure size 1440x360 with 2 Axes>"
      ]
     },
     "metadata": {
      "needs_background": "light"
     },
     "output_type": "display_data"
    }
   ],
   "source": [
    "l, vl, a, va = getAverages(losses_2, val_losses_2, accuracies_2, val_accuracies_2)\n",
    "plotLossAccuracyCurves(l, vl, a, va)"
   ]
  },
  {
   "cell_type": "markdown",
   "metadata": {},
   "source": [
    "#### 2.1 Evaluate performance of the CNN-1 model on the test set"
   ]
  },
  {
   "cell_type": "code",
   "execution_count": 174,
   "metadata": {},
   "outputs": [
    {
     "data": {
      "text/plain": [
       "(1060, 128, 128, 1)"
      ]
     },
     "execution_count": 174,
     "metadata": {},
     "output_type": "execute_result"
    }
   ],
   "source": [
    "t = np.array(x_test_img)\n",
    "t = t.reshape(1060, 128, 128,1)\n",
    "t.shape"
   ]
  },
  {
   "cell_type": "code",
   "execution_count": 175,
   "metadata": {},
   "outputs": [
    {
     "name": "stdout",
     "output_type": "stream",
     "text": [
      "metrics on validation set\n",
      "34/34 [==============================] - 0s 9ms/step - loss: 4.9633 - accuracy: 0.8604 - precision: 0.8534 - recall: 0.9547 - auc: 0.9174    \n",
      "[4.9633097648620605, 0.8603773713111877, 0.8533501625061035, 0.9547383189201355, 0.9173981547355652]\n"
     ]
    }
   ],
   "source": [
    "print(\"metrics on validation set\")\n",
    "test_accu = cnn_1.evaluate(t, np.array(y_test_img))\n",
    "print(test_accu)"
   ]
  },
  {
   "cell_type": "code",
   "execution_count": 176,
   "metadata": {},
   "outputs": [],
   "source": [
    "test_labels = y_test_img"
   ]
  },
  {
   "cell_type": "code",
   "execution_count": 177,
   "metadata": {},
   "outputs": [
    {
     "name": "stdout",
     "output_type": "stream",
     "text": [
      "predicting...\n",
      "34/34 [==============================] - 0s 4ms/step\n",
      "number of predictions  1060\n",
      "classification report\n",
      "              precision    recall  f1-score   support\n",
      "\n",
      "           0       0.88      0.67      0.76       353\n",
      "           1       0.85      0.95      0.90       707\n",
      "\n",
      "    accuracy                           0.86      1060\n",
      "   macro avg       0.87      0.81      0.83      1060\n",
      "weighted avg       0.86      0.86      0.85      1060\n",
      "\n",
      "confusion matrix\n",
      "[[237 116]\n",
      " [ 32 675]]\n"
     ]
    },
    {
     "data": {
      "image/png": "[encoded data removed]",
      "text/plain": [
       "<Figure size 360x360 with 1 Axes>"
      ]
     },
     "metadata": {
      "needs_background": "light"
     },
     "output_type": "display_data"
    }
   ],
   "source": [
    "# predict the probability distribution of the data\n",
    "\n",
    "# WARNING:tensorflow:From <ipython-input-72-9913226a8330>:3: Sequential.predict_classes (from tensorflow.python.keras.engine.sequential) is deprecated and will be removed after 2021-01-01.\n",
    "# Instructions for updating:\n",
    "# Please use instead:* \n",
    "# `np.argmax(model.predict(x), axis=-1)`,   if your model does multi-class classification   (e.g. if it uses a `softmax` last-layer activation).* \n",
    "# `(model.predict(x) > 0.5).astype(\"int32\")`,   if your model does binary classification   (e.g. if it uses a `sigmoid` last-layer activation).\n",
    "\n",
    "print(\"predicting...\")\n",
    "predictions_cnn_1 = (cnn_1.predict(t, verbose=1) > 0.5).astype(\"int32\")\n",
    "print(\"number of predictions \", len(predictions_cnn_1))\n",
    "\n",
    "# get the class with highest probability for each sample\n",
    "#y_pred = (predictions > 0.5).astype(\"int32\")\n",
    "\n",
    "# get the classification report\n",
    "print(\"classification report\")\n",
    "print(classification_report(test_labels, predictions_cnn_1))\n",
    "#print(classification_report(train_set.labels, predictions, target_names = ['Pneumonia (Class 0)','Normal (Class 1)']))\n",
    "\n",
    "CM = confusion_matrix(test_labels, predictions_cnn_1)\n",
    "print(\"confusion matrix\")\n",
    "print(CM)\n",
    "\n",
    "fig, ax = plot_confusion_matrix(conf_mat=CM ,  figsize=(5, 5))\n",
    "plt.show()"
   ]
  },
  {
   "cell_type": "code",
   "execution_count": null,
   "metadata": {},
   "outputs": [],
   "source": []
  },
  {
   "cell_type": "markdown",
   "metadata": {},
   "source": [
    "#### 2.2 Evaluate performance of CNN-2 model on Test Set"
   ]
  },
  {
   "cell_type": "code",
   "execution_count": 151,
   "metadata": {},
   "outputs": [
    {
     "name": "stdout",
     "output_type": "stream",
     "text": [
      "cnn2 metrics on test set\n",
      "34/34 [==============================] - 0s 11ms/step - loss: 1.7946 - accuracy: 0.8840 - precision: 0.8561 - recall: 0.9929 - auc: 0.8694   \n",
      "[1.794611930847168, 0.8839622735977173, 0.8560975790023804, 0.9929278492927551, 0.8693798780441284]\n"
     ]
    }
   ],
   "source": [
    "print(\"cnn2 metrics on test set\")\n",
    "test_accu = cnn_2.evaluate(t, np.array(y_test_img))\n",
    "print(test_accu)"
   ]
  },
  {
   "cell_type": "code",
   "execution_count": 153,
   "metadata": {},
   "outputs": [
    {
     "name": "stdout",
     "output_type": "stream",
     "text": [
      "predicting...\n",
      "34/34 [==============================] - 0s 6ms/step\n",
      "number of predictions  1060\n",
      "classification report\n",
      "              precision    recall  f1-score   support\n",
      "\n",
      "           0       0.98      0.67      0.79       353\n",
      "           1       0.86      0.99      0.92       707\n",
      "\n",
      "    accuracy                           0.88      1060\n",
      "   macro avg       0.92      0.83      0.86      1060\n",
      "weighted avg       0.90      0.88      0.88      1060\n",
      "\n",
      "confusion matrix\n",
      "[[235 118]\n",
      " [  5 702]]\n"
     ]
    },
    {
     "data": {
      "image/png": "[encoded data removed]",
      "text/plain": [
       "<Figure size 360x360 with 1 Axes>"
      ]
     },
     "metadata": {
      "needs_background": "light"
     },
     "output_type": "display_data"
    }
   ],
   "source": [
    "print(\"predicting...\")\n",
    "predictions_cnn_2 = (cnn_2.predict(t, verbose=1) > 0.5).astype(\"int32\")\n",
    "print(\"number of predictions \", len(predictions_cnn_2))\n",
    "\n",
    "# get the class with highest probability for each sample\n",
    "#y_pred = (predictions > 0.5).astype(\"int32\")\n",
    "\n",
    "# get the classification report\n",
    "print(\"classification report\")\n",
    "print(classification_report(test_labels, predictions_cnn_2))\n",
    "#print(classification_report(train_set.labels, predictions, target_names = ['Pneumonia (Class 0)','Normal (Class 1)']))\n",
    "\n",
    "CM = confusion_matrix(test_labels, predictions_cnn_2)\n",
    "print(\"confusion matrix\")\n",
    "print(CM)\n",
    "\n",
    "fig, ax = plot_confusion_matrix(conf_mat=CM ,  figsize=(5, 5))\n",
    "plt.show()"
   ]
  },
  {
   "cell_type": "code",
   "execution_count": null,
   "metadata": {},
   "outputs": [],
   "source": []
  },
  {
   "cell_type": "markdown",
   "metadata": {},
   "source": [
    "### Make a Prediction"
   ]
  },
  {
   "cell_type": "code",
   "execution_count": null,
   "metadata": {},
   "outputs": [],
   "source": [
    "#from PIL import Image\n",
    "import numpy as np\n",
    "from skimage import transform\n",
    "from skimage import io\n",
    "from skimage.color import rgb2gray\n",
    "def load(filename):\n",
    "    #np_image = Image.open(filename)\n",
    "    np_image = io.imread(filename)\n",
    "    np_image = rgb2gray(np_image)/255\n",
    "    #np_image = np.array(np_image).astype('float32')\n",
    "\n",
    "    np_image = transform.resize(np_image, (128, 128, 1))\n",
    "    np_image = np.expand_dims(np_image, axis=0)\n",
    "    return np_image\n",
    "\n",
    "image = load(r'E:\\COURSES\\Advanced Data Science With IBM\\Advanced Data Science Capstone\\assignment\\data\\chest_xray\\train\\PNEUMONIA\\person438_bacteria_1889.jpeg')"
   ]
  },
  {
   "cell_type": "code",
   "execution_count": null,
   "metadata": {},
   "outputs": [],
   "source": [
    "print( cnn_2.predict_classes(image), cnn_2.predict_proba(image)*100, '%')\n",
    "\n",
    "# The predicted probability is taken as the likelihood of the observation belonging to class 1, or inverted (1 – probability) to give the probability for class 0."
   ]
  },
  {
   "cell_type": "code",
   "execution_count": null,
   "metadata": {},
   "outputs": [],
   "source": []
  },
  {
   "cell_type": "code",
   "execution_count": null,
   "metadata": {},
   "outputs": [],
   "source": []
  }
 ],
 "metadata": {
  "kernelspec": {
   "display_name": "Python 3",
   "language": "python",
   "name": "python3"
  },
  "language_info": {
   "codemirror_mode": {
    "name": "ipython",
    "version": 3
   },
   "file_extension": ".py",
   "mimetype": "text/x-python",
   "name": "python",
   "nbconvert_exporter": "python",
   "pygments_lexer": "ipython3",
   "version": "3.6.8"
  }
 },
 "nbformat": 4,
 "nbformat_minor": 4
}
