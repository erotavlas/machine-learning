{
 "cells": [
  {
   "cell_type": "code",
   "execution_count": 1,
   "metadata": {},
   "outputs": [],
   "source": [
    "from IPython.display import Image"
   ]
  },
  {
   "cell_type": "markdown",
   "metadata": {},
   "source": [
    "### IBM Advanced Data Science Capstone Project\n",
    "#### Salvatore Salpietro\n",
    "\n",
    "<hr/>\n",
    "\n",
    "###### Purpose\n",
    "\n",
    "The scope pf this project is to build a classifier to detect diseased lung from chest x-ray images, where the disease is pneumonia.\n",
    "\n",
    "###### What is pneumonia\n",
    "\n",
    "Pneumonia is an inflammatory lung disease that affects the small air sacs called alvioli.  \n",
    "\n",
    "<img src=\"https://github.com/erotavlas/machine-learning/raw/main/IBMAdvancedDataScience_Capstone/images/pneumonia.jpg\" width=350 />\n",
    "\n",
    "###### Types\n",
    "There are three main classification of pneumonia by location in the lungs, these are,\n",
    "\n",
    "- Lobar and Multilobar pneumonia is an infection that involves one or more lobes, or section, of a lung. Lobar pneumonia is often due to Streptococcus pneumoniae (though Klebsiella pneumoniae is also possible.) Multilobar pneumonia involves more than one lobe, and it often causes a more severe illness.\n",
    "- Bronchial pneumonia affects the lungs in patches around the tubes (bronchi or bronchioles).\n",
    "- Interstitial pneumonia involves the areas in between the alveoli, and it may be called \"interstitial pneumonitis.\" It is more likely to be caused by viruses or by atypical bacteria.\n",
    "\n",
    "<img src=\"https://github.com/erotavlas/machine-learning/raw/main/IBMAdvancedDataScience_Capstone/images/types-of-pneumonia.jpeg\" width=350 />\n",
    "\n",
    "###### Symptoms\n",
    "People with this condition typically exhibit the following symptoms of variable severity \n",
    "- cough \n",
    "- chest pain \n",
    "- fever \n",
    "- difficulty breathing. \n",
    "\n",
    "###### Causes\n",
    "The causes are mainly due to viruses and bacteris but can also be from fungii, parasites or noninfectious causes.  \n",
    "\n",
    "<img src=\"https://github.com/erotavlas/machine-learning/raw/main/IBMAdvancedDataScience_Capstone/images/causes.jpg\" width=500>\n",
    "\n",
    "###### Diagnosis\n",
    "In order to verify a case of pneumonia in a patient, doctors rely on a combination of methods including observing physical signs, blood tests, and often a chest X-ray.  The chest X-ray is useful not only for diagnosis, but also to determine the extent of disease in the lungs.  \n",
    "\n",
    "###### How does a doctor determine if a lung is diseased or not from chest X-rays?  \n",
    "A chest X-ray is a radiology test that involves exposing the chest briefly to radiation to produce an image of the chest and the internal organs of the chest. An X-ray film is positioned against the body opposite the camera, which sends out a very small dose of a radiation beam. As the radiation penetrates the body, it is absorbed in varying amounts by different body tissues depending on the tissue's composition of air, water, blood, bone, or muscle. The X-ray image records these difference in penetration of the X-ray beam to produce an image of body tissue structures. The white shadows on chest X-ray represent areas where the beam is blocked by more dense or solid tissues, such as bone or heart.  The darker shadows on the chest X-ray represent areas where the x-ray beam penetrates more easily such as in air filled tissues like the lungs. \n",
    "\n",
    "Here is an example of chest x-rays for normal lung vs lung affected by pneumonia.\n",
    "<img src=\"https://github.com/erotavlas/machine-learning/raw/main/IBMAdvancedDataScience_Capstone/images/normal_vs_pneumonia.png\" width=500 />\n",
    "\n",
    "Doctors look for lighter areas in the lung indicating the precense of inflammation and fluid buildup.  This causes areas of the lung to become lighter on the x-ray image compared to the darker air filled areas of healthy lungs.\n",
    "\n",
    "###### Can AI assist in this process?\n",
    "In this project we will attempt to create a machine learning model that will effectively automate what the doctor is doing when they screen a patient for lung disease, in this case the disease is pneumonia. By training the model on a set of healthy and diseased lung X-ray images, it will be able to distinguish between the two types."
   ]
  },
  {
   "cell_type": "markdown",
   "metadata": {},
   "source": [
    "### Importing libraries"
   ]
  },
  {
   "cell_type": "code",
   "execution_count": 130,
   "metadata": {},
   "outputs": [],
   "source": [
    "from skimage import io # allows to read images\n",
    "from matplotlib import pyplot\n",
    "from pathlib import Path\n",
    "from natsort import natsorted, ns # natural sorting\n",
    "from sklearn.metrics import classification_report, confusion_matrix, plot_roc_curve\n",
    "from sklearn.ensemble import RandomForestClassifier\n",
    "from sklearn.ensemble import GradientBoostingClassifier\n",
    "from sklearn.dummy import DummyClassifier\n",
    "from sklearn.naive_bayes import GaussianNB\n",
    "from sklearn import svm, metrics\n",
    "from mlxtend.plotting import plot_confusion_matrix\n",
    "from sklearn.model_selection import validation_curve, cross_val_score, cross_validate\n",
    "\n",
    "import numpy as np\n",
    "import pandas as pd\n",
    "import statistics\n",
    "import random\n",
    "import os\n",
    "import seaborn as sns\n",
    "import matplotlib.pyplot as plt\n",
    "from tqdm import tqdm\n",
    "\n",
    "import tensorflow as tf\n",
    "from keras.preprocessing.image import ImageDataGenerator"
   ]
  },
  {
   "cell_type": "code",
   "execution_count": 3,
   "metadata": {},
   "outputs": [
    {
     "name": "stdout",
     "output_type": "stream",
     "text": [
      "2.4.0\n"
     ]
    }
   ],
   "source": [
    "print(tf.__version__)"
   ]
  },
  {
   "cell_type": "markdown",
   "metadata": {},
   "source": [
    "### Data analysis step\n",
    "\n",
    "Determine the characteristics of the data and statistics "
   ]
  },
  {
   "cell_type": "markdown",
   "metadata": {},
   "source": [
    "#### 1. Data source\n",
    "\n",
    "Data was obtained from the following source \n",
    "https://data.mendeley.com/datasets/rscbjbr9sj/3\n",
    "\n",
    "We are provided with an archive file containing a set of chest x-rays.  Images are provided in two separate folders, test and train.  Within those folders images are separated into two classes - normal and pneumonia.  "
   ]
  },
  {
   "cell_type": "markdown",
   "metadata": {},
   "source": [
    "```text\n",
    "chest-xray\n",
    "|__test\n",
    "|  |__NORMAL\n",
    "|  |__PNEUMONIA\n",
    "|\n",
    "|__train\n",
    "   |__NORMAL\n",
    "   |__PNEUMONIA```"
   ]
  },
  {
   "cell_type": "markdown",
   "metadata": {},
   "source": [
    "#### 2. Characteristics of files"
   ]
  },
  {
   "cell_type": "code",
   "execution_count": 4,
   "metadata": {},
   "outputs": [],
   "source": [
    "sizes = [] # sizes in kb\n",
    "all_extensions = set([])\n",
    "filenum = []\n",
    "count = 0\n",
    "\n",
    "test_images = []\n",
    "test_labels = []\n",
    "\n",
    "train_images = []\n",
    "train_labels = []\n",
    "\n",
    "# training set folder\n",
    "for root, dirs, files in os.walk(\"E:\\COURSES\\Advanced Data Science With IBM\\Advanced Data Science Capstone\\\\assignment\\data\\chest_xray\\\\train\"):\n",
    "    #print('dirs', dirs)\n",
    "    for name in files:\n",
    "        #print('name', name)\n",
    "        #print(os.path.basename(root))\n",
    "        \n",
    "        file_name, file_extension = os.path.splitext(name)\n",
    "        all_extensions.add(file_extension)\n",
    "        \n",
    "        stats = os.stat(os.path.join(root, name))\n",
    "        count = count + 1\n",
    "        \n",
    "        sizes.append(stats.st_size/1000) \n",
    "        \n",
    "        #if(stats.st_size/1000 < 12):\n",
    "        #    discarded.append(os.path.join(root, name))\n",
    "        #else:\n",
    "        train_images.append(os.path.join(root, name))\n",
    "        train_labels.append(os.path.basename(root))\n",
    "        \n",
    "        filenum.append(count)\n",
    "\n",
    "# test set folder\n",
    "for root, dirs, files in os.walk(\"E:\\COURSES\\Advanced Data Science With IBM\\Advanced Data Science Capstone\\\\assignment\\data\\chest_xray\\\\test\"):\n",
    "    #print('dirs', dirs)\n",
    "    for name in files:\n",
    "        #print('name', name)\n",
    "        #print(os.path.basename(root))\n",
    "        \n",
    "        file_name, file_extension = os.path.splitext(name)\n",
    "        all_extensions.add(file_extension)\n",
    "\n",
    "        stats = os.stat(os.path.join(root, name))\n",
    "        count = count + 1\n",
    "        \n",
    "        sizes.append(stats.st_size/1000)\n",
    "        \n",
    "        #if(stats.st_size/1000 < 12):\n",
    "        #    discarded.append(os.path.join(root, name))\n",
    "        #else:\n",
    "        test_images.append(os.path.join(root, name))\n",
    "        test_labels.append(os.path.basename(root))\n",
    "        \n",
    "        filenum.append(count)"
   ]
  },
  {
   "cell_type": "markdown",
   "metadata": {},
   "source": [
    "##### 2.1. File names"
   ]
  },
  {
   "cell_type": "markdown",
   "metadata": {},
   "source": [
    "File names for images of dieases lungs contain a unique anonymized person number as well as the text 'bacteris' or 'virus' indicating if the pnemonia was caused by a virus or bacteris.  Example person426_virus_873\n",
    "\n",
    "File names for images of normal lungs contain the work 'NORMAL'. Example - NORMAL2-IM-1250-0001"
   ]
  },
  {
   "cell_type": "markdown",
   "metadata": {},
   "source": [
    "##### 2.2. File extensions"
   ]
  },
  {
   "cell_type": "code",
   "execution_count": 5,
   "metadata": {},
   "outputs": [
    {
     "name": "stdout",
     "output_type": "stream",
     "text": [
      "{'.jpeg', '.png'}\n"
     ]
    }
   ],
   "source": [
    "print(all_extensions)"
   ]
  },
  {
   "cell_type": "markdown",
   "metadata": {},
   "source": [
    "Files are of types - png and jpeg"
   ]
  },
  {
   "cell_type": "markdown",
   "metadata": {},
   "source": [
    "##### 2.3. Total number of image files"
   ]
  },
  {
   "cell_type": "code",
   "execution_count": 6,
   "metadata": {},
   "outputs": [],
   "source": [
    "total_image_files = len(train_images) + len(test_images)"
   ]
  },
  {
   "cell_type": "code",
   "execution_count": 7,
   "metadata": {},
   "outputs": [
    {
     "name": "stdout",
     "output_type": "stream",
     "text": [
      "7197\n"
     ]
    }
   ],
   "source": [
    "print(total_image_files)"
   ]
  },
  {
   "cell_type": "markdown",
   "metadata": {},
   "source": [
    "There are a total of 7197 files across both folders (test and train)"
   ]
  },
  {
   "cell_type": "markdown",
   "metadata": {},
   "source": [
    "##### 2.4. Distribution of image files in test and train folders"
   ]
  },
  {
   "cell_type": "code",
   "execution_count": 8,
   "metadata": {},
   "outputs": [
    {
     "data": {
      "text/plain": [
       "624"
      ]
     },
     "execution_count": 8,
     "metadata": {},
     "output_type": "execute_result"
    }
   ],
   "source": [
    "len(test_images)"
   ]
  },
  {
   "cell_type": "code",
   "execution_count": 9,
   "metadata": {},
   "outputs": [
    {
     "data": {
      "text/plain": [
       "6573"
      ]
     },
     "execution_count": 9,
     "metadata": {},
     "output_type": "execute_result"
    }
   ],
   "source": [
    "len(train_images)"
   ]
  },
  {
   "cell_type": "code",
   "execution_count": 10,
   "metadata": {},
   "outputs": [
    {
     "name": "stdout",
     "output_type": "stream",
     "text": [
      "Train / Test split is about  91.3297207169654  /  8.670279283034603\n"
     ]
    }
   ],
   "source": [
    "print('Train / Test split is about ', len(train_images) / total_image_files * 100, ' / ', 100 - len(train_images) / total_image_files * 100) "
   ]
  },
  {
   "cell_type": "markdown",
   "metadata": {},
   "source": [
    "##### 2.5 Class distribution for training set"
   ]
  },
  {
   "cell_type": "code",
   "execution_count": 11,
   "metadata": {},
   "outputs": [],
   "source": [
    "pneumonia = [i for i in train_labels if i == 'PNEUMONIA']\n",
    "normal = [i for i in train_labels if i == 'NORMAL']"
   ]
  },
  {
   "cell_type": "code",
   "execution_count": 12,
   "metadata": {},
   "outputs": [
    {
     "data": {
      "text/plain": [
       "2690"
      ]
     },
     "execution_count": 12,
     "metadata": {},
     "output_type": "execute_result"
    }
   ],
   "source": [
    "len(normal)"
   ]
  },
  {
   "cell_type": "code",
   "execution_count": 13,
   "metadata": {},
   "outputs": [
    {
     "data": {
      "text/plain": [
       "3883"
      ]
     },
     "execution_count": 13,
     "metadata": {},
     "output_type": "execute_result"
    }
   ],
   "source": [
    "len(pneumonia)"
   ]
  },
  {
   "cell_type": "code",
   "execution_count": 14,
   "metadata": {},
   "outputs": [
    {
     "name": "stdout",
     "output_type": "stream",
     "text": [
      "There are  1.4434944237918215  more pneumonia images than normal images in the training set\n"
     ]
    }
   ],
   "source": [
    "print('There are ', len(pneumonia)/len(normal), ' more pneumonia images than normal images in the training set')"
   ]
  },
  {
   "cell_type": "code",
   "execution_count": 15,
   "metadata": {},
   "outputs": [
    {
     "data": {
      "image/png": "[encoded data removed]",
      "text/plain": [
       "<Figure size 432x288 with 1 Axes>"
      ]
     },
     "metadata": {},
     "output_type": "display_data"
    }
   ],
   "source": [
    "y = [2690, 3883]\n",
    "l = [\"normal\", \"pneumonia\"]\n",
    "explode = (0.05, 0)  # explode 1st slice\n",
    "patches, texts = plt.pie(y, explode=explode,  shadow=True )\n",
    "plt.legend(patches, l, loc=\"best\")\n",
    "plt.show() "
   ]
  },
  {
   "cell_type": "markdown",
   "metadata": {},
   "source": [
    "#### 4. Size of the images"
   ]
  },
  {
   "cell_type": "code",
   "execution_count": 16,
   "metadata": {},
   "outputs": [
    {
     "data": {
      "image/png": "[encoded data removed]",
      "text/plain": [
       "<Figure size 432x288 with 1 Axes>"
      ]
     },
     "metadata": {
      "needs_background": "light"
     },
     "output_type": "display_data"
    }
   ],
   "source": [
    "\n",
    "b = [i for i in range(0,2500,10)]\n",
    "\n",
    "plt.xlabel('file size (kb)')\n",
    "plt.ylabel('# of files')\n",
    "plt.hist(sizes, bins=b,  color='#184A45FF')\n",
    "plt.show()"
   ]
  },
  {
   "cell_type": "markdown",
   "metadata": {},
   "source": [
    "Above is a histogram plot to show the ditribution of file sizes.  Most of the files are of size less than 1000 kb."
   ]
  },
  {
   "cell_type": "code",
   "execution_count": 17,
   "metadata": {},
   "outputs": [
    {
     "name": "stdout",
     "output_type": "stream",
     "text": [
      "256.44553591774263\n"
     ]
    }
   ],
   "source": [
    "avg = sum(sizes)/len(sizes)\n",
    "print(avg)"
   ]
  },
  {
   "cell_type": "code",
   "execution_count": 18,
   "metadata": {},
   "outputs": [
    {
     "name": "stdout",
     "output_type": "stream",
     "text": [
      "125.716\n"
     ]
    }
   ],
   "source": [
    "print(statistics.median(sizes))"
   ]
  },
  {
   "cell_type": "code",
   "execution_count": 19,
   "metadata": {},
   "outputs": [
    {
     "name": "stdout",
     "output_type": "stream",
     "text": [
      "5.441\n"
     ]
    }
   ],
   "source": [
    "print(min(sizes))"
   ]
  },
  {
   "cell_type": "code",
   "execution_count": 20,
   "metadata": {},
   "outputs": [
    {
     "name": "stdout",
     "output_type": "stream",
     "text": [
      "2414.342\n"
     ]
    }
   ],
   "source": [
    "print(max(sizes))"
   ]
  },
  {
   "cell_type": "markdown",
   "metadata": {},
   "source": [
    "The mean file size is 211.148\n",
    "\n",
    "The median file size is 95.839\n",
    "\n",
    "The minimum file size observed is 5.441 kb\n",
    "\n",
    "The maximum file size observed is 2412.342 kb"
   ]
  },
  {
   "cell_type": "markdown",
   "metadata": {},
   "source": [
    "Sonce the file sizes are not all the same, some examination of the really small ans really large image files revealed that the really small images aspect ratio did not match those of the majority of images (i.e. they were longer in width than height and did not reveal the full chest/lung view).  These images might be considered outliers.  Further examination of the images below will attempt to exclude such outliers.  "
   ]
  },
  {
   "cell_type": "markdown",
   "metadata": {},
   "source": [
    "#### 4. Aspect ratio of the images"
   ]
  },
  {
   "cell_type": "markdown",
   "metadata": {},
   "source": [
    "The aspect ratio of an image is the ratio of its width to its height.\n",
    "The formula is width / height.\n",
    "\n",
    "Not all the images are of the same aspect ratio. On examining some of the images of smaller size, some did not show the full view of the chest and lungs.  We will remove these images.\n",
    "\n",
    "If the shape of the image is longer in the x axis than it is in the y axis by certain threshold, then discard those images as they only show a section of the full chest image.\n",
    "\n",
    "Choose something x/y must be less than or equal to 2 to constitute an acceptible image. (i.e. if the width is two or more times longer than the height then discard image)"
   ]
  },
  {
   "cell_type": "code",
   "execution_count": 21,
   "metadata": {},
   "outputs": [],
   "source": [
    "temp_train_images = []\n",
    "temp_train_labels = []\n",
    "\n",
    "temp_test_images = []\n",
    "temp_test_labels = []\n",
    "\n",
    "discarded = []\n",
    "\n",
    "for i in range(len(train_images)):\n",
    "    xray = io.imread(train_images[i])\n",
    "    y = xray.shape[0]\n",
    "    x = xray.shape[1]\n",
    "    ratio = x/y\n",
    "    if ratio <= 2:\n",
    "        temp_train_images.append(train_images[i])\n",
    "        temp_train_labels.append(train_labels[i])\n",
    "    else:\n",
    "        discarded.append(train_images[i])\n",
    "        \n",
    "for i in range(len(test_images)):\n",
    "    xray = io.imread(test_images[i])\n",
    "    y = xray.shape[0]\n",
    "    x = xray.shape[1]\n",
    "    ratio = x/y\n",
    "    if ratio <= 2:\n",
    "        temp_test_images.append(test_images[i])\n",
    "        temp_test_labels.append(test_labels[i])\n",
    "    else:\n",
    "        discarded.append(test_images[i])"
   ]
  },
  {
   "cell_type": "code",
   "execution_count": 22,
   "metadata": {},
   "outputs": [
    {
     "name": "stdout",
     "output_type": "stream",
     "text": [
      "updated train set, labels  6457 6457\n",
      "updated test set, labels  614 614\n",
      "discarded images  126\n"
     ]
    }
   ],
   "source": [
    "print('updated train set, labels ', len(temp_train_images), len(temp_train_labels))\n",
    "print('updated test set, labels ', len(temp_test_images), len(temp_test_labels))\n",
    "print('discarded images ', len(discarded))"
   ]
  },
  {
   "cell_type": "markdown",
   "metadata": {},
   "source": [
    "Compare a discarded image to a remaining image in train set."
   ]
  },
  {
   "cell_type": "code",
   "execution_count": 23,
   "metadata": {},
   "outputs": [
    {
     "data": {
      "image/png": "[encoded data removed]",
      "text/plain": [
       "<Figure size 432x288 with 1 Axes>"
      ]
     },
     "metadata": {
      "needs_background": "light"
     },
     "output_type": "display_data"
    },
    {
     "name": "stdout",
     "output_type": "stream",
     "text": [
      "(229, 549, 3)\n"
     ]
    }
   ],
   "source": [
    "import matplotlib.pyplot as plt\n",
    "im = io.imread(discarded[35])\n",
    "imgplot = plt.imshow(im, cmap=\"gray\")\n",
    "plt.show()\n",
    "print(im.shape)"
   ]
  },
  {
   "cell_type": "code",
   "execution_count": 24,
   "metadata": {},
   "outputs": [
    {
     "data": {
      "image/png": "[encoded data removed]",
      "text/plain": [
       "<Figure size 432x288 with 1 Axes>"
      ]
     },
     "metadata": {
      "needs_background": "light"
     },
     "output_type": "display_data"
    },
    {
     "name": "stdout",
     "output_type": "stream",
     "text": [
      "(1152, 1422)\n"
     ]
    }
   ],
   "source": [
    "im = io.imread(temp_train_images[1])\n",
    "imgplot = plt.imshow(im, cmap=\"gray\")\n",
    "plt.show()\n",
    "print(im.shape)"
   ]
  },
  {
   "cell_type": "markdown",
   "metadata": {},
   "source": [
    "#### 4. Redistribute data to a train/validation / test split of 85/15/15\n",
    "\n",
    "Now that the outliers have been removed, we can redistribute the data set to add some more images to the test set to bring the value up to 15%, and then split the remaining test set into a test and validation split of 85/15.\n",
    "\n",
    "We won't touch the images in the test set, rather we will simply move some of the ones from the train set into the test set.\n",
    "\n",
    "Using 15% instead of 20% because we son't have that many images to work with."
   ]
  },
  {
   "cell_type": "code",
   "execution_count": 25,
   "metadata": {},
   "outputs": [
    {
     "name": "stdout",
     "output_type": "stream",
     "text": [
      "total images =  7071\n",
      "percent test  8.683354546740206\n",
      "percent train  91.3166454532598\n"
     ]
    }
   ],
   "source": [
    "# new ratios after removing some outliers\n",
    "\n",
    "total = len(temp_train_images) + len(temp_test_images)\n",
    "print('total images = ', total)\n",
    "\n",
    "percent_test = len(temp_test_images)/total\n",
    "print('percent test ', percent_test*100)\n",
    "\n",
    "percent_train = len(temp_train_images)/total\n",
    "print('percent train ', percent_train*100)"
   ]
  },
  {
   "cell_type": "code",
   "execution_count": 26,
   "metadata": {},
   "outputs": [
    {
     "name": "stdout",
     "output_type": "stream",
     "text": [
      "1060.6499999999999\n",
      "614\n",
      "need to add an additional  446.64999999999986  images\n"
     ]
    }
   ],
   "source": [
    "# calculate number of images to move from train set to test set\n",
    "\n",
    "needed = 0.15*total\n",
    "print(needed)\n",
    "\n",
    "have = len(temp_test_images)\n",
    "print(have)\n",
    "\n",
    "difference = needed - have\n",
    "print(\"need to add an additional \", difference, \" images\")"
   ]
  },
  {
   "cell_type": "code",
   "execution_count": 27,
   "metadata": {},
   "outputs": [],
   "source": [
    "# convert to pandas dataframe\n",
    "\n",
    "# train set\n",
    "data_train = {'file':temp_train_images,'label':temp_train_labels}\n",
    "train_df = pd.DataFrame(data_train)\n",
    "\n",
    "# test set\n",
    "data_test = {'file':temp_test_images,'label':temp_test_labels}\n",
    "test_df = pd.DataFrame(data_test)"
   ]
  },
  {
   "cell_type": "code",
   "execution_count": 28,
   "metadata": {},
   "outputs": [
    {
     "data": {
      "text/html": [
       "<div>\n",
       "<style scoped>\n",
       "    .dataframe tbody tr th:only-of-type {\n",
       "        vertical-align: middle;\n",
       "    }\n",
       "\n",
       "    .dataframe tbody tr th {\n",
       "        vertical-align: top;\n",
       "    }\n",
       "\n",
       "    .dataframe thead th {\n",
       "        text-align: right;\n",
       "    }\n",
       "</style>\n",
       "<table border=\"1\" class=\"dataframe\">\n",
       "  <thead>\n",
       "    <tr style=\"text-align: right;\">\n",
       "      <th></th>\n",
       "      <th>file</th>\n",
       "      <th>label</th>\n",
       "    </tr>\n",
       "  </thead>\n",
       "  <tbody>\n",
       "    <tr>\n",
       "      <th>0</th>\n",
       "      <td>E:\\COURSES\\Advanced Data Science With IBM\\Adva...</td>\n",
       "      <td>NORMAL</td>\n",
       "    </tr>\n",
       "    <tr>\n",
       "      <th>1</th>\n",
       "      <td>E:\\COURSES\\Advanced Data Science With IBM\\Adva...</td>\n",
       "      <td>NORMAL</td>\n",
       "    </tr>\n",
       "    <tr>\n",
       "      <th>2</th>\n",
       "      <td>E:\\COURSES\\Advanced Data Science With IBM\\Adva...</td>\n",
       "      <td>NORMAL</td>\n",
       "    </tr>\n",
       "    <tr>\n",
       "      <th>3</th>\n",
       "      <td>E:\\COURSES\\Advanced Data Science With IBM\\Adva...</td>\n",
       "      <td>NORMAL</td>\n",
       "    </tr>\n",
       "    <tr>\n",
       "      <th>4</th>\n",
       "      <td>E:\\COURSES\\Advanced Data Science With IBM\\Adva...</td>\n",
       "      <td>NORMAL</td>\n",
       "    </tr>\n",
       "    <tr>\n",
       "      <th>...</th>\n",
       "      <td>...</td>\n",
       "      <td>...</td>\n",
       "    </tr>\n",
       "    <tr>\n",
       "      <th>6452</th>\n",
       "      <td>E:\\COURSES\\Advanced Data Science With IBM\\Adva...</td>\n",
       "      <td>PNEUMONIA</td>\n",
       "    </tr>\n",
       "    <tr>\n",
       "      <th>6453</th>\n",
       "      <td>E:\\COURSES\\Advanced Data Science With IBM\\Adva...</td>\n",
       "      <td>PNEUMONIA</td>\n",
       "    </tr>\n",
       "    <tr>\n",
       "      <th>6454</th>\n",
       "      <td>E:\\COURSES\\Advanced Data Science With IBM\\Adva...</td>\n",
       "      <td>PNEUMONIA</td>\n",
       "    </tr>\n",
       "    <tr>\n",
       "      <th>6455</th>\n",
       "      <td>E:\\COURSES\\Advanced Data Science With IBM\\Adva...</td>\n",
       "      <td>PNEUMONIA</td>\n",
       "    </tr>\n",
       "    <tr>\n",
       "      <th>6456</th>\n",
       "      <td>E:\\COURSES\\Advanced Data Science With IBM\\Adva...</td>\n",
       "      <td>PNEUMONIA</td>\n",
       "    </tr>\n",
       "  </tbody>\n",
       "</table>\n",
       "<p>6457 rows × 2 columns</p>\n",
       "</div>"
      ],
      "text/plain": [
       "                                                   file      label\n",
       "0     E:\\COURSES\\Advanced Data Science With IBM\\Adva...     NORMAL\n",
       "1     E:\\COURSES\\Advanced Data Science With IBM\\Adva...     NORMAL\n",
       "2     E:\\COURSES\\Advanced Data Science With IBM\\Adva...     NORMAL\n",
       "3     E:\\COURSES\\Advanced Data Science With IBM\\Adva...     NORMAL\n",
       "4     E:\\COURSES\\Advanced Data Science With IBM\\Adva...     NORMAL\n",
       "...                                                 ...        ...\n",
       "6452  E:\\COURSES\\Advanced Data Science With IBM\\Adva...  PNEUMONIA\n",
       "6453  E:\\COURSES\\Advanced Data Science With IBM\\Adva...  PNEUMONIA\n",
       "6454  E:\\COURSES\\Advanced Data Science With IBM\\Adva...  PNEUMONIA\n",
       "6455  E:\\COURSES\\Advanced Data Science With IBM\\Adva...  PNEUMONIA\n",
       "6456  E:\\COURSES\\Advanced Data Science With IBM\\Adva...  PNEUMONIA\n",
       "\n",
       "[6457 rows x 2 columns]"
      ]
     },
     "execution_count": 28,
     "metadata": {},
     "output_type": "execute_result"
    }
   ],
   "source": [
    "train_df"
   ]
  },
  {
   "cell_type": "code",
   "execution_count": 29,
   "metadata": {},
   "outputs": [
    {
     "data": {
      "text/plain": [
       "('E:\\\\COURSES\\\\Advanced Data Science With IBM\\\\Advanced Data Science Capstone\\\\assignment\\\\data\\\\chest_xray\\\\train\\\\NORMAL\\\\NORMAL2-IM-0460-0001.jpeg',\n",
       " 'NORMAL')"
      ]
     },
     "execution_count": 29,
     "metadata": {},
     "output_type": "execute_result"
    }
   ],
   "source": [
    "train_df['file'][2000], train_df['label'][2000]"
   ]
  },
  {
   "cell_type": "code",
   "execution_count": 30,
   "metadata": {},
   "outputs": [
    {
     "data": {
      "text/plain": [
       "('E:\\\\COURSES\\\\Advanced Data Science With IBM\\\\Advanced Data Science Capstone\\\\assignment\\\\data\\\\chest_xray\\\\test\\\\NORMAL\\\\NORMAL2-IM-0340-0001.jpeg',\n",
       " 'NORMAL')"
      ]
     },
     "execution_count": 30,
     "metadata": {},
     "output_type": "execute_result"
    }
   ],
   "source": [
    "test_df['file'][200], test_df['label'][200]"
   ]
  },
  {
   "cell_type": "code",
   "execution_count": 31,
   "metadata": {},
   "outputs": [],
   "source": [
    "# first shuffle rows in train dataframe\n",
    "train_df = train_df.sample(n = len(train_df), random_state=200).reset_index(drop=True)"
   ]
  },
  {
   "cell_type": "code",
   "execution_count": 32,
   "metadata": {},
   "outputs": [],
   "source": [
    "# then move 245 rows from train dataframe to test dataframe\n",
    "transferdata_df = train_df.iloc[-446:, 0:]\n",
    "\n",
    "test_df = test_df.append(transferdata_df)\n",
    "\n",
    "train_df = train_df.drop(transferdata_df.index)"
   ]
  },
  {
   "cell_type": "code",
   "execution_count": 33,
   "metadata": {},
   "outputs": [],
   "source": [
    "# reset index of test_df\n",
    "test_df = test_df.reset_index(drop=True)"
   ]
  },
  {
   "cell_type": "code",
   "execution_count": 34,
   "metadata": {},
   "outputs": [
    {
     "data": {
      "text/html": [
       "<div>\n",
       "<style scoped>\n",
       "    .dataframe tbody tr th:only-of-type {\n",
       "        vertical-align: middle;\n",
       "    }\n",
       "\n",
       "    .dataframe tbody tr th {\n",
       "        vertical-align: top;\n",
       "    }\n",
       "\n",
       "    .dataframe thead th {\n",
       "        text-align: right;\n",
       "    }\n",
       "</style>\n",
       "<table border=\"1\" class=\"dataframe\">\n",
       "  <thead>\n",
       "    <tr style=\"text-align: right;\">\n",
       "      <th></th>\n",
       "      <th>file</th>\n",
       "      <th>label</th>\n",
       "    </tr>\n",
       "  </thead>\n",
       "  <tbody>\n",
       "    <tr>\n",
       "      <th>0</th>\n",
       "      <td>E:\\COURSES\\Advanced Data Science With IBM\\Adva...</td>\n",
       "      <td>NORMAL</td>\n",
       "    </tr>\n",
       "    <tr>\n",
       "      <th>1</th>\n",
       "      <td>E:\\COURSES\\Advanced Data Science With IBM\\Adva...</td>\n",
       "      <td>PNEUMONIA</td>\n",
       "    </tr>\n",
       "    <tr>\n",
       "      <th>2</th>\n",
       "      <td>E:\\COURSES\\Advanced Data Science With IBM\\Adva...</td>\n",
       "      <td>PNEUMONIA</td>\n",
       "    </tr>\n",
       "    <tr>\n",
       "      <th>3</th>\n",
       "      <td>E:\\COURSES\\Advanced Data Science With IBM\\Adva...</td>\n",
       "      <td>NORMAL</td>\n",
       "    </tr>\n",
       "    <tr>\n",
       "      <th>4</th>\n",
       "      <td>E:\\COURSES\\Advanced Data Science With IBM\\Adva...</td>\n",
       "      <td>NORMAL</td>\n",
       "    </tr>\n",
       "    <tr>\n",
       "      <th>...</th>\n",
       "      <td>...</td>\n",
       "      <td>...</td>\n",
       "    </tr>\n",
       "    <tr>\n",
       "      <th>6006</th>\n",
       "      <td>E:\\COURSES\\Advanced Data Science With IBM\\Adva...</td>\n",
       "      <td>NORMAL</td>\n",
       "    </tr>\n",
       "    <tr>\n",
       "      <th>6007</th>\n",
       "      <td>E:\\COURSES\\Advanced Data Science With IBM\\Adva...</td>\n",
       "      <td>NORMAL</td>\n",
       "    </tr>\n",
       "    <tr>\n",
       "      <th>6008</th>\n",
       "      <td>E:\\COURSES\\Advanced Data Science With IBM\\Adva...</td>\n",
       "      <td>PNEUMONIA</td>\n",
       "    </tr>\n",
       "    <tr>\n",
       "      <th>6009</th>\n",
       "      <td>E:\\COURSES\\Advanced Data Science With IBM\\Adva...</td>\n",
       "      <td>PNEUMONIA</td>\n",
       "    </tr>\n",
       "    <tr>\n",
       "      <th>6010</th>\n",
       "      <td>E:\\COURSES\\Advanced Data Science With IBM\\Adva...</td>\n",
       "      <td>PNEUMONIA</td>\n",
       "    </tr>\n",
       "  </tbody>\n",
       "</table>\n",
       "<p>6011 rows × 2 columns</p>\n",
       "</div>"
      ],
      "text/plain": [
       "                                                   file      label\n",
       "0     E:\\COURSES\\Advanced Data Science With IBM\\Adva...     NORMAL\n",
       "1     E:\\COURSES\\Advanced Data Science With IBM\\Adva...  PNEUMONIA\n",
       "2     E:\\COURSES\\Advanced Data Science With IBM\\Adva...  PNEUMONIA\n",
       "3     E:\\COURSES\\Advanced Data Science With IBM\\Adva...     NORMAL\n",
       "4     E:\\COURSES\\Advanced Data Science With IBM\\Adva...     NORMAL\n",
       "...                                                 ...        ...\n",
       "6006  E:\\COURSES\\Advanced Data Science With IBM\\Adva...     NORMAL\n",
       "6007  E:\\COURSES\\Advanced Data Science With IBM\\Adva...     NORMAL\n",
       "6008  E:\\COURSES\\Advanced Data Science With IBM\\Adva...  PNEUMONIA\n",
       "6009  E:\\COURSES\\Advanced Data Science With IBM\\Adva...  PNEUMONIA\n",
       "6010  E:\\COURSES\\Advanced Data Science With IBM\\Adva...  PNEUMONIA\n",
       "\n",
       "[6011 rows x 2 columns]"
      ]
     },
     "execution_count": 34,
     "metadata": {},
     "output_type": "execute_result"
    }
   ],
   "source": [
    "train_df"
   ]
  },
  {
   "cell_type": "code",
   "execution_count": 35,
   "metadata": {},
   "outputs": [
    {
     "data": {
      "text/html": [
       "<div>\n",
       "<style scoped>\n",
       "    .dataframe tbody tr th:only-of-type {\n",
       "        vertical-align: middle;\n",
       "    }\n",
       "\n",
       "    .dataframe tbody tr th {\n",
       "        vertical-align: top;\n",
       "    }\n",
       "\n",
       "    .dataframe thead th {\n",
       "        text-align: right;\n",
       "    }\n",
       "</style>\n",
       "<table border=\"1\" class=\"dataframe\">\n",
       "  <thead>\n",
       "    <tr style=\"text-align: right;\">\n",
       "      <th></th>\n",
       "      <th>file</th>\n",
       "      <th>label</th>\n",
       "    </tr>\n",
       "  </thead>\n",
       "  <tbody>\n",
       "    <tr>\n",
       "      <th>0</th>\n",
       "      <td>E:\\COURSES\\Advanced Data Science With IBM\\Adva...</td>\n",
       "      <td>NORMAL</td>\n",
       "    </tr>\n",
       "    <tr>\n",
       "      <th>1</th>\n",
       "      <td>E:\\COURSES\\Advanced Data Science With IBM\\Adva...</td>\n",
       "      <td>NORMAL</td>\n",
       "    </tr>\n",
       "    <tr>\n",
       "      <th>2</th>\n",
       "      <td>E:\\COURSES\\Advanced Data Science With IBM\\Adva...</td>\n",
       "      <td>NORMAL</td>\n",
       "    </tr>\n",
       "    <tr>\n",
       "      <th>3</th>\n",
       "      <td>E:\\COURSES\\Advanced Data Science With IBM\\Adva...</td>\n",
       "      <td>NORMAL</td>\n",
       "    </tr>\n",
       "    <tr>\n",
       "      <th>4</th>\n",
       "      <td>E:\\COURSES\\Advanced Data Science With IBM\\Adva...</td>\n",
       "      <td>NORMAL</td>\n",
       "    </tr>\n",
       "    <tr>\n",
       "      <th>...</th>\n",
       "      <td>...</td>\n",
       "      <td>...</td>\n",
       "    </tr>\n",
       "    <tr>\n",
       "      <th>1055</th>\n",
       "      <td>E:\\COURSES\\Advanced Data Science With IBM\\Adva...</td>\n",
       "      <td>PNEUMONIA</td>\n",
       "    </tr>\n",
       "    <tr>\n",
       "      <th>1056</th>\n",
       "      <td>E:\\COURSES\\Advanced Data Science With IBM\\Adva...</td>\n",
       "      <td>PNEUMONIA</td>\n",
       "    </tr>\n",
       "    <tr>\n",
       "      <th>1057</th>\n",
       "      <td>E:\\COURSES\\Advanced Data Science With IBM\\Adva...</td>\n",
       "      <td>NORMAL</td>\n",
       "    </tr>\n",
       "    <tr>\n",
       "      <th>1058</th>\n",
       "      <td>E:\\COURSES\\Advanced Data Science With IBM\\Adva...</td>\n",
       "      <td>PNEUMONIA</td>\n",
       "    </tr>\n",
       "    <tr>\n",
       "      <th>1059</th>\n",
       "      <td>E:\\COURSES\\Advanced Data Science With IBM\\Adva...</td>\n",
       "      <td>NORMAL</td>\n",
       "    </tr>\n",
       "  </tbody>\n",
       "</table>\n",
       "<p>1060 rows × 2 columns</p>\n",
       "</div>"
      ],
      "text/plain": [
       "                                                   file      label\n",
       "0     E:\\COURSES\\Advanced Data Science With IBM\\Adva...     NORMAL\n",
       "1     E:\\COURSES\\Advanced Data Science With IBM\\Adva...     NORMAL\n",
       "2     E:\\COURSES\\Advanced Data Science With IBM\\Adva...     NORMAL\n",
       "3     E:\\COURSES\\Advanced Data Science With IBM\\Adva...     NORMAL\n",
       "4     E:\\COURSES\\Advanced Data Science With IBM\\Adva...     NORMAL\n",
       "...                                                 ...        ...\n",
       "1055  E:\\COURSES\\Advanced Data Science With IBM\\Adva...  PNEUMONIA\n",
       "1056  E:\\COURSES\\Advanced Data Science With IBM\\Adva...  PNEUMONIA\n",
       "1057  E:\\COURSES\\Advanced Data Science With IBM\\Adva...     NORMAL\n",
       "1058  E:\\COURSES\\Advanced Data Science With IBM\\Adva...  PNEUMONIA\n",
       "1059  E:\\COURSES\\Advanced Data Science With IBM\\Adva...     NORMAL\n",
       "\n",
       "[1060 rows x 2 columns]"
      ]
     },
     "execution_count": 35,
     "metadata": {},
     "output_type": "execute_result"
    }
   ],
   "source": [
    "test_df"
   ]
  },
  {
   "cell_type": "code",
   "execution_count": 36,
   "metadata": {},
   "outputs": [],
   "source": [
    "# split train set further into train and validation set\n",
    "\n",
    "newtrain_df = train_df.sample(frac=0.85,random_state=200) #random state is a seed value\n",
    "validation_df = train_df.drop(newtrain_df.index)"
   ]
  },
  {
   "cell_type": "code",
   "execution_count": 37,
   "metadata": {},
   "outputs": [],
   "source": [
    "train_df = newtrain_df.reset_index(drop=True)\n",
    "validation_df = validation_df.reset_index(drop=True)"
   ]
  },
  {
   "cell_type": "code",
   "execution_count": 38,
   "metadata": {},
   "outputs": [
    {
     "data": {
      "text/html": [
       "<div>\n",
       "<style scoped>\n",
       "    .dataframe tbody tr th:only-of-type {\n",
       "        vertical-align: middle;\n",
       "    }\n",
       "\n",
       "    .dataframe tbody tr th {\n",
       "        vertical-align: top;\n",
       "    }\n",
       "\n",
       "    .dataframe thead th {\n",
       "        text-align: right;\n",
       "    }\n",
       "</style>\n",
       "<table border=\"1\" class=\"dataframe\">\n",
       "  <thead>\n",
       "    <tr style=\"text-align: right;\">\n",
       "      <th></th>\n",
       "      <th>file</th>\n",
       "      <th>label</th>\n",
       "    </tr>\n",
       "  </thead>\n",
       "  <tbody>\n",
       "    <tr>\n",
       "      <th>0</th>\n",
       "      <td>E:\\COURSES\\Advanced Data Science With IBM\\Adva...</td>\n",
       "      <td>PNEUMONIA</td>\n",
       "    </tr>\n",
       "    <tr>\n",
       "      <th>1</th>\n",
       "      <td>E:\\COURSES\\Advanced Data Science With IBM\\Adva...</td>\n",
       "      <td>PNEUMONIA</td>\n",
       "    </tr>\n",
       "    <tr>\n",
       "      <th>2</th>\n",
       "      <td>E:\\COURSES\\Advanced Data Science With IBM\\Adva...</td>\n",
       "      <td>NORMAL</td>\n",
       "    </tr>\n",
       "    <tr>\n",
       "      <th>3</th>\n",
       "      <td>E:\\COURSES\\Advanced Data Science With IBM\\Adva...</td>\n",
       "      <td>NORMAL</td>\n",
       "    </tr>\n",
       "    <tr>\n",
       "      <th>4</th>\n",
       "      <td>E:\\COURSES\\Advanced Data Science With IBM\\Adva...</td>\n",
       "      <td>PNEUMONIA</td>\n",
       "    </tr>\n",
       "    <tr>\n",
       "      <th>...</th>\n",
       "      <td>...</td>\n",
       "      <td>...</td>\n",
       "    </tr>\n",
       "    <tr>\n",
       "      <th>5104</th>\n",
       "      <td>E:\\COURSES\\Advanced Data Science With IBM\\Adva...</td>\n",
       "      <td>PNEUMONIA</td>\n",
       "    </tr>\n",
       "    <tr>\n",
       "      <th>5105</th>\n",
       "      <td>E:\\COURSES\\Advanced Data Science With IBM\\Adva...</td>\n",
       "      <td>NORMAL</td>\n",
       "    </tr>\n",
       "    <tr>\n",
       "      <th>5106</th>\n",
       "      <td>E:\\COURSES\\Advanced Data Science With IBM\\Adva...</td>\n",
       "      <td>PNEUMONIA</td>\n",
       "    </tr>\n",
       "    <tr>\n",
       "      <th>5107</th>\n",
       "      <td>E:\\COURSES\\Advanced Data Science With IBM\\Adva...</td>\n",
       "      <td>PNEUMONIA</td>\n",
       "    </tr>\n",
       "    <tr>\n",
       "      <th>5108</th>\n",
       "      <td>E:\\COURSES\\Advanced Data Science With IBM\\Adva...</td>\n",
       "      <td>NORMAL</td>\n",
       "    </tr>\n",
       "  </tbody>\n",
       "</table>\n",
       "<p>5109 rows × 2 columns</p>\n",
       "</div>"
      ],
      "text/plain": [
       "                                                   file      label\n",
       "0     E:\\COURSES\\Advanced Data Science With IBM\\Adva...  PNEUMONIA\n",
       "1     E:\\COURSES\\Advanced Data Science With IBM\\Adva...  PNEUMONIA\n",
       "2     E:\\COURSES\\Advanced Data Science With IBM\\Adva...     NORMAL\n",
       "3     E:\\COURSES\\Advanced Data Science With IBM\\Adva...     NORMAL\n",
       "4     E:\\COURSES\\Advanced Data Science With IBM\\Adva...  PNEUMONIA\n",
       "...                                                 ...        ...\n",
       "5104  E:\\COURSES\\Advanced Data Science With IBM\\Adva...  PNEUMONIA\n",
       "5105  E:\\COURSES\\Advanced Data Science With IBM\\Adva...     NORMAL\n",
       "5106  E:\\COURSES\\Advanced Data Science With IBM\\Adva...  PNEUMONIA\n",
       "5107  E:\\COURSES\\Advanced Data Science With IBM\\Adva...  PNEUMONIA\n",
       "5108  E:\\COURSES\\Advanced Data Science With IBM\\Adva...     NORMAL\n",
       "\n",
       "[5109 rows x 2 columns]"
      ]
     },
     "execution_count": 38,
     "metadata": {},
     "output_type": "execute_result"
    }
   ],
   "source": [
    "train_df"
   ]
  },
  {
   "cell_type": "code",
   "execution_count": 39,
   "metadata": {},
   "outputs": [
    {
     "data": {
      "text/html": [
       "<div>\n",
       "<style scoped>\n",
       "    .dataframe tbody tr th:only-of-type {\n",
       "        vertical-align: middle;\n",
       "    }\n",
       "\n",
       "    .dataframe tbody tr th {\n",
       "        vertical-align: top;\n",
       "    }\n",
       "\n",
       "    .dataframe thead th {\n",
       "        text-align: right;\n",
       "    }\n",
       "</style>\n",
       "<table border=\"1\" class=\"dataframe\">\n",
       "  <thead>\n",
       "    <tr style=\"text-align: right;\">\n",
       "      <th></th>\n",
       "      <th>file</th>\n",
       "      <th>label</th>\n",
       "    </tr>\n",
       "  </thead>\n",
       "  <tbody>\n",
       "    <tr>\n",
       "      <th>0</th>\n",
       "      <td>E:\\COURSES\\Advanced Data Science With IBM\\Adva...</td>\n",
       "      <td>NORMAL</td>\n",
       "    </tr>\n",
       "    <tr>\n",
       "      <th>1</th>\n",
       "      <td>E:\\COURSES\\Advanced Data Science With IBM\\Adva...</td>\n",
       "      <td>NORMAL</td>\n",
       "    </tr>\n",
       "    <tr>\n",
       "      <th>2</th>\n",
       "      <td>E:\\COURSES\\Advanced Data Science With IBM\\Adva...</td>\n",
       "      <td>PNEUMONIA</td>\n",
       "    </tr>\n",
       "    <tr>\n",
       "      <th>3</th>\n",
       "      <td>E:\\COURSES\\Advanced Data Science With IBM\\Adva...</td>\n",
       "      <td>PNEUMONIA</td>\n",
       "    </tr>\n",
       "    <tr>\n",
       "      <th>4</th>\n",
       "      <td>E:\\COURSES\\Advanced Data Science With IBM\\Adva...</td>\n",
       "      <td>NORMAL</td>\n",
       "    </tr>\n",
       "    <tr>\n",
       "      <th>...</th>\n",
       "      <td>...</td>\n",
       "      <td>...</td>\n",
       "    </tr>\n",
       "    <tr>\n",
       "      <th>897</th>\n",
       "      <td>E:\\COURSES\\Advanced Data Science With IBM\\Adva...</td>\n",
       "      <td>NORMAL</td>\n",
       "    </tr>\n",
       "    <tr>\n",
       "      <th>898</th>\n",
       "      <td>E:\\COURSES\\Advanced Data Science With IBM\\Adva...</td>\n",
       "      <td>PNEUMONIA</td>\n",
       "    </tr>\n",
       "    <tr>\n",
       "      <th>899</th>\n",
       "      <td>E:\\COURSES\\Advanced Data Science With IBM\\Adva...</td>\n",
       "      <td>NORMAL</td>\n",
       "    </tr>\n",
       "    <tr>\n",
       "      <th>900</th>\n",
       "      <td>E:\\COURSES\\Advanced Data Science With IBM\\Adva...</td>\n",
       "      <td>PNEUMONIA</td>\n",
       "    </tr>\n",
       "    <tr>\n",
       "      <th>901</th>\n",
       "      <td>E:\\COURSES\\Advanced Data Science With IBM\\Adva...</td>\n",
       "      <td>NORMAL</td>\n",
       "    </tr>\n",
       "  </tbody>\n",
       "</table>\n",
       "<p>902 rows × 2 columns</p>\n",
       "</div>"
      ],
      "text/plain": [
       "                                                  file      label\n",
       "0    E:\\COURSES\\Advanced Data Science With IBM\\Adva...     NORMAL\n",
       "1    E:\\COURSES\\Advanced Data Science With IBM\\Adva...     NORMAL\n",
       "2    E:\\COURSES\\Advanced Data Science With IBM\\Adva...  PNEUMONIA\n",
       "3    E:\\COURSES\\Advanced Data Science With IBM\\Adva...  PNEUMONIA\n",
       "4    E:\\COURSES\\Advanced Data Science With IBM\\Adva...     NORMAL\n",
       "..                                                 ...        ...\n",
       "897  E:\\COURSES\\Advanced Data Science With IBM\\Adva...     NORMAL\n",
       "898  E:\\COURSES\\Advanced Data Science With IBM\\Adva...  PNEUMONIA\n",
       "899  E:\\COURSES\\Advanced Data Science With IBM\\Adva...     NORMAL\n",
       "900  E:\\COURSES\\Advanced Data Science With IBM\\Adva...  PNEUMONIA\n",
       "901  E:\\COURSES\\Advanced Data Science With IBM\\Adva...     NORMAL\n",
       "\n",
       "[902 rows x 2 columns]"
      ]
     },
     "execution_count": 39,
     "metadata": {},
     "output_type": "execute_result"
    }
   ],
   "source": [
    "validation_df"
   ]
  },
  {
   "cell_type": "markdown",
   "metadata": {},
   "source": [
    "We now have three data sets\n",
    "- train_df (training set)\n",
    "- validation_df (validation set)\n",
    "\n",
    "- test_df (final test set)"
   ]
  },
  {
   "cell_type": "markdown",
   "metadata": {},
   "source": [
    "#### 5. Shape and color of images"
   ]
  },
  {
   "cell_type": "code",
   "execution_count": 40,
   "metadata": {},
   "outputs": [],
   "source": [
    "# Retrieving the geometry of the image and the number of pixels\n",
    "# Images in scikit-image are represented by NumPy ndarrays. \n",
    "# Hence, many common operations can be achieved using standard NumPy methods for manipulating arrays\n",
    "\n",
    "x = []\n",
    "y = []\n",
    "z = []\n",
    "listofdataframes = [train_df, validation_df, test_df]\n",
    "\n",
    "for df in listofdataframes:\n",
    "    for index, row in df.iterrows():\n",
    "        image = row['file']\n",
    "        s = io.imread(image)\n",
    "        x.append(s.shape[0])\n",
    "        y.append(s.shape[1])\n",
    "        if(len(s.shape) == 3):\n",
    "            z.append(1)\n",
    "        else:\n",
    "            z.append(0)"
   ]
  },
  {
   "cell_type": "code",
   "execution_count": 41,
   "metadata": {},
   "outputs": [],
   "source": [
    "df = pd.DataFrame({'x': x,\n",
    "                   'y': y,\n",
    "                   'z': z})"
   ]
  },
  {
   "cell_type": "code",
   "execution_count": 42,
   "metadata": {},
   "outputs": [
    {
     "data": {
      "image/png": "[encoded data removed]",
      "text/plain": [
       "<Figure size 432x288 with 1 Axes>"
      ]
     },
     "metadata": {
      "needs_background": "light"
     },
     "output_type": "display_data"
    }
   ],
   "source": [
    "area = 2\n",
    "plt.scatter(x, y, c=df.z, s=area,  alpha=0.5)\n",
    "plt.title('Image sizes and color')\n",
    "plt.xlabel('x (width)')\n",
    "plt.ylabel('y (height)')\n",
    "classes = [ 'Greyscale', 'RGB']\n",
    "groups = df.groupby('z')\n",
    "for name, group in groups:\n",
    "    name = classes[0] if name == 0 else classes[1]\n",
    "    plt.plot(group.x, group.y, marker='.', linestyle='', markersize=1, label=name)\n",
    "\n",
    "plt.legend(title=\"color\", markerscale=10)\n",
    "\n",
    "plt.show()"
   ]
  },
  {
   "cell_type": "markdown",
   "metadata": {},
   "source": [
    " Since all the images are of different sizes, it will be necessary to reshape them to the same size.\n",
    " Also some are greyscale while other are RGB, so it will be necessary to normalize all images to the same color space (greyscale) "
   ]
  },
  {
   "cell_type": "markdown",
   "metadata": {},
   "source": [
    "## Data Preprocessing\n",
    "\n",
    "The following steps need to be done in the data preprocessing step\n",
    "\n",
    "\n",
    "We perform a grayscale normalization to reduce the effect of illumination's differences.\n",
    "Divide values by 255 to get a value between 0 and 1. \n",
    "\n",
    "#### Image Resize\n",
    "images need to be resized to the same size - both training and test set\n",
    "\n",
    "NOTE: this step will be done within train_datagen.flow_from_dataframe function by setting parameter 'target_size'"
   ]
  },
  {
   "cell_type": "markdown",
   "metadata": {},
   "source": [
    "This is an example using skimage (we are not using this here)"
   ]
  },
  {
   "cell_type": "code",
   "execution_count": 43,
   "metadata": {},
   "outputs": [
    {
     "data": {
      "image/png": "[encoded data removed]",
      "text/plain": [
       "<Figure size 432x288 with 1 Axes>"
      ]
     },
     "metadata": {
      "needs_background": "light"
     },
     "output_type": "display_data"
    },
    {
     "name": "stdout",
     "output_type": "stream",
     "text": [
      "(150, 150)\n"
     ]
    }
   ],
   "source": [
    "from skimage.transform import resize\n",
    "img = io.imread(train_df['file'][0])\n",
    "img_rescaled = resize(img, (150,150))\n",
    "\n",
    "imgplot = plt.imshow(img_rescaled, cmap=\"gray\")\n",
    "plt.show()\n",
    "print(img_rescaled.shape)"
   ]
  },
  {
   "cell_type": "markdown",
   "metadata": {},
   "source": [
    "### Image Augmentation Step"
   ]
  },
  {
   "cell_type": "markdown",
   "metadata": {},
   "source": [
    "In order to avoid overfitting problem, alter the training data with small transformations to reproduce the variations. Approaches that alter the training data in ways that change the array representation while keeping the label the same are known as data augmentation techniques. Some popular augmentations people use are grayscales, horizontal flips, vertical flips, random crops, color jitters, translations, rotations, and much more. By applying just a couple of these transformations to our training data, we can easily double or triple the number of training examples and create a very robust model."
   ]
  },
  {
   "cell_type": "code",
   "execution_count": null,
   "metadata": {},
   "outputs": [],
   "source": []
  },
  {
   "cell_type": "code",
   "execution_count": null,
   "metadata": {},
   "outputs": [],
   "source": []
  },
  {
   "cell_type": "markdown",
   "metadata": {},
   "source": [
    "#### 1. Preprocessing the Training Set\n",
    "\n",
    "Transformation on the images of the training set to avoid overfitting (data augmentation - see above)"
   ]
  },
  {
   "cell_type": "markdown",
   "metadata": {},
   "source": [
    "Randomly zoom by max 5% (zoom will vary randomly between 0 and 5%)\n",
    "\n",
    "Randomly shift images horizontally by max 5% of the width\n",
    "\n",
    "Randomly shift images vertically by max 5% of the height\n",
    "\n",
    "Randomly flip images horizontally. \n",
    "\n",
    "\n",
    "rescale=1./255 divides all the pixels by 255 so they end up between 0 and 1 - normalization"
   ]
  },
  {
   "cell_type": "code",
   "execution_count": 44,
   "metadata": {},
   "outputs": [],
   "source": [
    "#train_datagen = ImageDataGenerator(\n",
    "#        rescale=1./255,\n",
    "#        zoom_range=0.1,\n",
    "#        horizontal_flip=True,\n",
    "#        width_shift_range=0.1,\n",
    "#        height_shift_range=0.1)\n",
    "\n",
    "train_datagen = ImageDataGenerator(\n",
    "        rescale=1./255,\n",
    "        horizontal_flip=True,\n",
    "        width_shift_range=0.05,\n",
    "        height_shift_range=0.05)"
   ]
  },
  {
   "cell_type": "code",
   "execution_count": 45,
   "metadata": {},
   "outputs": [
    {
     "name": "stdout",
     "output_type": "stream",
     "text": [
      "Found 5109 validated image filenames belonging to 2 classes.\n"
     ]
    }
   ],
   "source": [
    "train_set = train_datagen.flow_from_dataframe(\n",
    "    train_df,\n",
    "    directory=None,\n",
    "    x_col=\"file\",\n",
    "    y_col=\"label\",\n",
    "    weight_col=None,\n",
    "    target_size=(128, 128),\n",
    "    color_mode=\"grayscale\",\n",
    "    classes=None,\n",
    "    class_mode=\"binary\",\n",
    "    batch_size=32,\n",
    "    shuffle=True,\n",
    "    seed=200,\n",
    "    save_to_dir=None,\n",
    "    save_prefix=\"\",\n",
    "    save_format=\"png\",\n",
    "    subset=None,\n",
    "    interpolation=\"nearest\",\n",
    ")"
   ]
  },
  {
   "cell_type": "markdown",
   "metadata": {},
   "source": [
    "#### 2. Preprocesing the validation and test set\n",
    "\n",
    "Here we need to keep the images as they were with no modifications but we have to feature scale the images to match the feature scaling done to the test images."
   ]
  },
  {
   "cell_type": "code",
   "execution_count": 46,
   "metadata": {},
   "outputs": [],
   "source": [
    "test_datagen = ImageDataGenerator(\n",
    "        rescale=1./255\n",
    "        )"
   ]
  },
  {
   "cell_type": "code",
   "execution_count": 47,
   "metadata": {},
   "outputs": [],
   "source": [
    "validation_datagen = ImageDataGenerator(\n",
    "        rescale=1./255\n",
    "        )"
   ]
  },
  {
   "cell_type": "code",
   "execution_count": 48,
   "metadata": {},
   "outputs": [
    {
     "name": "stdout",
     "output_type": "stream",
     "text": [
      "Found 902 validated image filenames belonging to 2 classes.\n"
     ]
    }
   ],
   "source": [
    "validation_set = validation_datagen.flow_from_dataframe(\n",
    "    validation_df,\n",
    "    directory=None,\n",
    "    x_col=\"file\",\n",
    "    y_col=\"label\",\n",
    "    weight_col=None,\n",
    "    target_size=(128, 128),\n",
    "    color_mode=\"grayscale\",\n",
    "    classes=None,\n",
    "    class_mode=\"binary\",\n",
    "    batch_size=32,\n",
    "    shuffle=False,\n",
    "    seed=None,\n",
    "    save_to_dir=None,\n",
    "    save_prefix=\"\",\n",
    "    save_format=\"png\",\n",
    "    subset=None,\n",
    "    interpolation=\"nearest\",\n",
    ")"
   ]
  },
  {
   "cell_type": "code",
   "execution_count": 49,
   "metadata": {},
   "outputs": [
    {
     "name": "stdout",
     "output_type": "stream",
     "text": [
      "Found 1060 validated image filenames belonging to 2 classes.\n"
     ]
    }
   ],
   "source": [
    "test_set = test_datagen.flow_from_dataframe(\n",
    "    test_df,\n",
    "    directory=None,\n",
    "    x_col=\"file\",\n",
    "    y_col=\"label\",\n",
    "    weight_col=None,\n",
    "    target_size=(128, 128),\n",
    "    color_mode=\"grayscale\",\n",
    "    classes=None,\n",
    "    class_mode=\"binary\",\n",
    "    batch_size=32,\n",
    "    shuffle=False,\n",
    "    seed=None,\n",
    "    save_to_dir=None,\n",
    "    save_prefix=\"\",\n",
    "    save_format=\"png\",\n",
    "    subset=None,\n",
    "    interpolation=\"nearest\",\n",
    ")"
   ]
  },
  {
   "cell_type": "markdown",
   "metadata": {},
   "source": [
    "###  Calculate class weights\n",
    "\n",
    "We will use the class_weights to correct for class imbalance to avoid a bias towards the majority class.\n",
    "\n",
    "Formula to calculate the weight for a class\n",
    "\n",
    "wj=n_samples / (n_classes * n_samplesj)"
   ]
  },
  {
   "cell_type": "markdown",
   "metadata": {},
   "source": [
    "wj is the weight for class j\n",
    "\n",
    "n_samples is the total number of samples or rows in the dataset\n",
    "\n",
    "n_classes is the total number of unique classes in the target\n",
    "\n",
    "n_samplesj is the total number of rows of the respective class"
   ]
  },
  {
   "cell_type": "code",
   "execution_count": 50,
   "metadata": {},
   "outputs": [
    {
     "name": "stdout",
     "output_type": "stream",
     "text": [
      "                                                   file      label\n",
      "0     E:\\COURSES\\Advanced Data Science With IBM\\Adva...  PNEUMONIA\n",
      "1     E:\\COURSES\\Advanced Data Science With IBM\\Adva...  PNEUMONIA\n",
      "4     E:\\COURSES\\Advanced Data Science With IBM\\Adva...  PNEUMONIA\n",
      "5     E:\\COURSES\\Advanced Data Science With IBM\\Adva...  PNEUMONIA\n",
      "6     E:\\COURSES\\Advanced Data Science With IBM\\Adva...  PNEUMONIA\n",
      "...                                                 ...        ...\n",
      "5101  E:\\COURSES\\Advanced Data Science With IBM\\Adva...  PNEUMONIA\n",
      "5103  E:\\COURSES\\Advanced Data Science With IBM\\Adva...  PNEUMONIA\n",
      "5104  E:\\COURSES\\Advanced Data Science With IBM\\Adva...  PNEUMONIA\n",
      "5106  E:\\COURSES\\Advanced Data Science With IBM\\Adva...  PNEUMONIA\n",
      "5107  E:\\COURSES\\Advanced Data Science With IBM\\Adva...  PNEUMONIA\n",
      "\n",
      "[3006 rows x 2 columns]\n",
      "                                                   file   label\n",
      "2     E:\\COURSES\\Advanced Data Science With IBM\\Adva...  NORMAL\n",
      "3     E:\\COURSES\\Advanced Data Science With IBM\\Adva...  NORMAL\n",
      "9     E:\\COURSES\\Advanced Data Science With IBM\\Adva...  NORMAL\n",
      "10    E:\\COURSES\\Advanced Data Science With IBM\\Adva...  NORMAL\n",
      "18    E:\\COURSES\\Advanced Data Science With IBM\\Adva...  NORMAL\n",
      "...                                                 ...     ...\n",
      "5098  E:\\COURSES\\Advanced Data Science With IBM\\Adva...  NORMAL\n",
      "5100  E:\\COURSES\\Advanced Data Science With IBM\\Adva...  NORMAL\n",
      "5102  E:\\COURSES\\Advanced Data Science With IBM\\Adva...  NORMAL\n",
      "5105  E:\\COURSES\\Advanced Data Science With IBM\\Adva...  NORMAL\n",
      "5108  E:\\COURSES\\Advanced Data Science With IBM\\Adva...  NORMAL\n",
      "\n",
      "[2103 rows x 2 columns]\n"
     ]
    }
   ],
   "source": [
    "pneumonia_df = train_df.loc[train_df['label'] == 'PNEUMONIA']\n",
    "print(pneumonia_df)\n",
    "\n",
    "normal_df = train_df.loc[train_df['label'] == 'NORMAL']\n",
    "print(normal_df)"
   ]
  },
  {
   "cell_type": "code",
   "execution_count": 51,
   "metadata": {},
   "outputs": [
    {
     "name": "stdout",
     "output_type": "stream",
     "text": [
      "Number of pneumonia  3006  and Number of normal  2103\n",
      "weights: pneumonia =  0.8498003992015968 , normal =  1.2146932952924394\n",
      "{'NORMAL': 0, 'PNEUMONIA': 1}\n"
     ]
    }
   ],
   "source": [
    "n_samples = len(train_df)\n",
    "n_classes = 2\n",
    "n_pneumonia = len(pneumonia_df)\n",
    "n_normal = len(normal_df)\n",
    "\n",
    "w_pneumonia = n_samples/(n_classes*n_pneumonia)\n",
    "w_normal = n_samples/(n_classes*n_normal)\n",
    "\n",
    "print(\"Number of pneumonia \", n_pneumonia, \" and Number of normal \", n_normal)\n",
    "print(\"weights: pneumonia = \", w_pneumonia, \", normal = \", w_normal)\n",
    "\n",
    "# get the class indices\n",
    "\n",
    "print(train_set.class_indices)\n",
    "\n",
    "# assign the class weights calculated above\n",
    "# we will use this in the fit() method below\n",
    "\n",
    "class_weight = {0: w_normal, 1: w_pneumonia}\n"
   ]
  },
  {
   "cell_type": "markdown",
   "metadata": {},
   "source": [
    "### Get Data for scikit learn"
   ]
  },
  {
   "cell_type": "code",
   "execution_count": 52,
   "metadata": {},
   "outputs": [
    {
     "name": "stderr",
     "output_type": "stream",
     "text": [
      " 99%|███████████████████████████████████████████████████████████████████████████████▌| 159/160 [00:28<00:00,  5.57it/s]\n"
     ]
    }
   ],
   "source": [
    "x_tr = []\n",
    "y_tr = []\n",
    "\n",
    "batches = 0\n",
    "\n",
    "for inputs,outputs in tqdm(train_set):   \n",
    "    batches += 1\n",
    "    for i in range(len(inputs)):\n",
    "        flat = inputs[i].flatten()\n",
    "        x_tr.append(flat)\n",
    "        y_tr.append(outputs[i])\n",
    "    \n",
    "    if batches >= len(train_df) / 32:\n",
    "    # we need to break the loop by hand because\n",
    "    # the generator loops indefinitely\n",
    "        break"
   ]
  },
  {
   "cell_type": "code",
   "execution_count": 53,
   "metadata": {},
   "outputs": [
    {
     "name": "stderr",
     "output_type": "stream",
     "text": [
      " 97%|███████████████████████████████████████████████████████████████████████████████▏  | 28/29 [00:04<00:00,  6.24it/s]\n"
     ]
    }
   ],
   "source": [
    "x_val = []\n",
    "y_val = []\n",
    "\n",
    "batches = 0\n",
    "\n",
    "for inputs,outputs in tqdm(validation_set):   \n",
    "    batches += 1\n",
    "    for i in range(len(inputs)):\n",
    "        flat = inputs[i].flatten()\n",
    "        x_val.append(flat)\n",
    "        y_val.append(outputs[i])\n",
    "    \n",
    "    if batches >= len(validation_df) / 32:\n",
    "    # we need to break the loop by hand because\n",
    "    # the generator loops indefinitely\n",
    "        break"
   ]
  },
  {
   "cell_type": "code",
   "execution_count": 54,
   "metadata": {},
   "outputs": [
    {
     "name": "stderr",
     "output_type": "stream",
     "text": [
      " 97%|███████████████████████████████████████████████████████████████████████████████▌  | 33/34 [00:03<00:00,  8.39it/s]\n"
     ]
    }
   ],
   "source": [
    "x_test = []\n",
    "y_test = []\n",
    "\n",
    "batches = 0\n",
    "\n",
    "for inputs,outputs in tqdm(test_set):   \n",
    "    batches += 1\n",
    "    for i in range(len(inputs)):\n",
    "        flat = inputs[i].flatten()\n",
    "        x_test.append(flat)\n",
    "        y_test.append(outputs[i])\n",
    "    \n",
    "    if batches >= len(test_df) / 32:\n",
    "    # we need to break the loop by hand because\n",
    "    # the generator loops indefinitely\n",
    "        break"
   ]
  },
  {
   "cell_type": "code",
   "execution_count": null,
   "metadata": {},
   "outputs": [],
   "source": []
  },
  {
   "cell_type": "markdown",
   "metadata": {},
   "source": [
    "## Baseline Model"
   ]
  },
  {
   "cell_type": "code",
   "execution_count": 109,
   "metadata": {},
   "outputs": [],
   "source": [
    "# dictionary to hold fpr and tpr\n",
    "\n",
    "roc = {}"
   ]
  },
  {
   "cell_type": "code",
   "execution_count": 110,
   "metadata": {},
   "outputs": [],
   "source": [
    "clf_baseline = DummyClassifier(strategy=\"stratified\")\n"
   ]
  },
  {
   "cell_type": "code",
   "execution_count": 111,
   "metadata": {},
   "outputs": [
    {
     "name": "stdout",
     "output_type": "stream",
     "text": [
      "fit_time 0.0023332436879475913 0.0004716514231259032\n",
      "score_time 0.004999876022338867 1.3626756826625066e-06\n",
      "test_precision_weighted 0.5090228197375589 0.016469237349259192\n",
      "test_recall_weighted 0.5098950044660221 0.015719533981817076\n",
      "test_f1_weighted 0.5094385484206986 0.01611896369125545\n"
     ]
    }
   ],
   "source": [
    "scoring = ['precision_weighted', 'recall_weighted', 'f1_weighted']\n",
    "scores = cross_validate(clf_baseline, x_tr+x_val, y_tr+y_val, scoring=scoring, cv=3)\n",
    "for key, value in scores.items():\n",
    "    print(key, value.mean(), value.std())"
   ]
  },
  {
   "cell_type": "code",
   "execution_count": 112,
   "metadata": {},
   "outputs": [
    {
     "data": {
      "text/plain": [
       "DummyClassifier(strategy='stratified')"
      ]
     },
     "execution_count": 112,
     "metadata": {},
     "output_type": "execute_result"
    }
   ],
   "source": [
    "clf_baseline.fit(x_tr + x_val, y_tr + y_val)"
   ]
  },
  {
   "cell_type": "code",
   "execution_count": 113,
   "metadata": {},
   "outputs": [
    {
     "name": "stdout",
     "output_type": "stream",
     "text": [
      "confusion matrix\n",
      "[[173 247]\n",
      " [266 374]]\n"
     ]
    },
    {
     "data": {
      "image/png": "[encoded data removed]",
      "text/plain": [
       "<Figure size 360x360 with 1 Axes>"
      ]
     },
     "metadata": {
      "needs_background": "light"
     },
     "output_type": "display_data"
    }
   ],
   "source": [
    "pred_baseline = clf_baseline.predict_proba(x_test)\n",
    "\n",
    "CM_baseline = confusion_matrix(test_set.classes, np.argmax(pred_baseline, axis=1))\n",
    "print(\"confusion matrix\")\n",
    "print(CM_baseline)\n",
    "fig, ax = plot_confusion_matrix(conf_mat=CM_baseline ,  figsize=(5, 5))\n",
    "plt.show()"
   ]
  },
  {
   "cell_type": "code",
   "execution_count": 114,
   "metadata": {},
   "outputs": [
    {
     "data": {
      "text/plain": [
       "<matplotlib.legend.Legend at 0x2289f157710>"
      ]
     },
     "execution_count": 114,
     "metadata": {},
     "output_type": "execute_result"
    },
    {
     "data": {
      "image/png": "[encoded data removed]",
      "text/plain": [
       "<Figure size 432x288 with 1 Axes>"
      ]
     },
     "metadata": {
      "needs_background": "light"
     },
     "output_type": "display_data"
    }
   ],
   "source": [
    "fpr, tpr, thresholds = metrics.roc_curve(y_test, pred_baseline[:,1])\n",
    "auc = metrics.roc_auc_score(y_test, pred_baseline[:,1])\n",
    "roc['baseline'] = [fpr,tpr,auc]\n",
    "\n",
    "plt.plot(fpr, tpr, label='%s ROC (area = %0.2f)' % ('baseline', auc))\n",
    "plt.legend(loc=0)"
   ]
  },
  {
   "cell_type": "code",
   "execution_count": null,
   "metadata": {},
   "outputs": [],
   "source": []
  },
  {
   "cell_type": "markdown",
   "metadata": {},
   "source": [
    "### Naive Bayes Classifier"
   ]
  },
  {
   "cell_type": "code",
   "execution_count": 115,
   "metadata": {},
   "outputs": [],
   "source": [
    "clf_naive = GaussianNB()"
   ]
  },
  {
   "cell_type": "code",
   "execution_count": 116,
   "metadata": {},
   "outputs": [
    {
     "name": "stdout",
     "output_type": "stream",
     "text": [
      "fit_time 0.570301373799642 0.0009221128478571399\n",
      "score_time 0.703296979268392 0.0057419448343530915\n",
      "test_precision_weighted 0.83612164327721 0.00842729168628948\n",
      "test_recall_weighted 0.8306447514357207 0.003981322774770283\n",
      "test_f1_weighted 0.8314326170440017 0.0042477151309347665\n"
     ]
    }
   ],
   "source": [
    "scoring = ['precision_weighted', 'recall_weighted', 'f1_weighted']\n",
    "scores = cross_validate(clf_naive, x_tr+x_val, y_tr+y_val, scoring=scoring, cv=3)\n",
    "for key, value in scores.items():\n",
    "    print(key, value.mean(), value.std())"
   ]
  },
  {
   "cell_type": "code",
   "execution_count": 117,
   "metadata": {},
   "outputs": [
    {
     "data": {
      "text/plain": [
       "GaussianNB()"
      ]
     },
     "execution_count": 117,
     "metadata": {},
     "output_type": "execute_result"
    }
   ],
   "source": [
    "clf_naive.fit(x_tr + x_val, y_tr + y_val)"
   ]
  },
  {
   "cell_type": "code",
   "execution_count": 118,
   "metadata": {},
   "outputs": [],
   "source": [
    "pred_naive = clf_naive.predict_proba(x_test)"
   ]
  },
  {
   "cell_type": "code",
   "execution_count": 119,
   "metadata": {},
   "outputs": [],
   "source": [
    "pred_naive_ = np.argmax(pred_naive, axis=1)"
   ]
  },
  {
   "cell_type": "code",
   "execution_count": 120,
   "metadata": {},
   "outputs": [
    {
     "name": "stdout",
     "output_type": "stream",
     "text": [
      "confusion matrix\n",
      "[[361  59]\n",
      " [170 470]]\n"
     ]
    },
    {
     "data": {
      "image/png": "[encoded data removed]",
      "text/plain": [
       "<Figure size 360x360 with 1 Axes>"
      ]
     },
     "metadata": {
      "needs_background": "light"
     },
     "output_type": "display_data"
    }
   ],
   "source": [
    "CM_naive = confusion_matrix(test_set.classes, pred_naive_)\n",
    "print(\"confusion matrix\")\n",
    "print(CM_naive)\n",
    "fig, ax = plot_confusion_matrix(conf_mat=CM_naive ,  figsize=(5, 5))\n",
    "plt.show()"
   ]
  },
  {
   "cell_type": "code",
   "execution_count": 121,
   "metadata": {},
   "outputs": [],
   "source": [
    "fpr, tpr, thresholds = metrics.roc_curve(y_test, pred_naive[:,1])\n",
    "auc = metrics.roc_auc_score(y_test,pred_naive[:,1])\n",
    "roc['naive bayes'] = [fpr,tpr,auc]"
   ]
  },
  {
   "cell_type": "code",
   "execution_count": 122,
   "metadata": {},
   "outputs": [
    {
     "data": {
      "text/plain": [
       "<matplotlib.legend.Legend at 0x2289f1a5908>"
      ]
     },
     "execution_count": 122,
     "metadata": {},
     "output_type": "execute_result"
    },
    {
     "data": {
      "image/png": "[encoded data removed]",
      "text/plain": [
       "<Figure size 432x288 with 1 Axes>"
      ]
     },
     "metadata": {
      "needs_background": "light"
     },
     "output_type": "display_data"
    }
   ],
   "source": [
    "plt.plot(fpr, tpr, label='%s ROC (area = %0.2f)' % ('naive', auc))\n",
    "plt.legend(loc=0)"
   ]
  },
  {
   "cell_type": "code",
   "execution_count": null,
   "metadata": {},
   "outputs": [],
   "source": []
  },
  {
   "cell_type": "markdown",
   "metadata": {},
   "source": [
    "### Random Forest Classifier"
   ]
  },
  {
   "cell_type": "code",
   "execution_count": 123,
   "metadata": {},
   "outputs": [],
   "source": [
    "clf_randomforest = RandomForestClassifier(max_depth=2, random_state=0)"
   ]
  },
  {
   "cell_type": "code",
   "execution_count": 124,
   "metadata": {},
   "outputs": [
    {
     "name": "stdout",
     "output_type": "stream",
     "text": [
      "fit_time 7.7119317054748535 0.11657486708169351\n",
      "score_time 0.09733494122823079 0.002054178857720815\n",
      "test_precision_weighted 0.8034135276031895 0.006249924980836681\n",
      "test_recall_weighted 0.7943777115431311 0.0031874397089177407\n",
      "test_f1_weighted 0.795693164809704 0.0032701558762297097\n"
     ]
    }
   ],
   "source": [
    "scoring = ['precision_weighted', 'recall_weighted', 'f1_weighted']\n",
    "scores = cross_validate(clf_randomforest, x_tr+x_val, y_tr+y_val, scoring=scoring, cv=3)\n",
    "for key, value in scores.items():\n",
    "    print(key, value.mean(), value.std())"
   ]
  },
  {
   "cell_type": "code",
   "execution_count": 125,
   "metadata": {},
   "outputs": [
    {
     "data": {
      "text/plain": [
       "RandomForestClassifier(max_depth=2, random_state=0)"
      ]
     },
     "execution_count": 125,
     "metadata": {},
     "output_type": "execute_result"
    }
   ],
   "source": [
    "clf_randomforest.fit(x_tr + x_val, y_tr + y_val)"
   ]
  },
  {
   "cell_type": "code",
   "execution_count": 126,
   "metadata": {},
   "outputs": [],
   "source": [
    "pred_randomforest = clf_randomforest.predict_proba(x_test)"
   ]
  },
  {
   "cell_type": "code",
   "execution_count": 127,
   "metadata": {},
   "outputs": [
    {
     "name": "stdout",
     "output_type": "stream",
     "text": [
      "              precision    recall  f1-score   support\n",
      "\n",
      "         0.0       0.63      0.70      0.66       420\n",
      "         1.0       0.79      0.73      0.76       640\n",
      "\n",
      "    accuracy                           0.72      1060\n",
      "   macro avg       0.71      0.72      0.71      1060\n",
      "weighted avg       0.73      0.72      0.72      1060\n",
      "\n"
     ]
    }
   ],
   "source": [
    "print(classification_report(y_test, np.argmax(pred_randomforest, axis=1)))"
   ]
  },
  {
   "cell_type": "code",
   "execution_count": 128,
   "metadata": {},
   "outputs": [
    {
     "name": "stdout",
     "output_type": "stream",
     "text": [
      "confusion matrix\n",
      "[[295 125]\n",
      " [173 467]]\n"
     ]
    },
    {
     "data": {
      "image/png": "[encoded data removed]",
      "text/plain": [
       "<Figure size 360x360 with 1 Axes>"
      ]
     },
     "metadata": {
      "needs_background": "light"
     },
     "output_type": "display_data"
    }
   ],
   "source": [
    "CM_rfc = confusion_matrix(test_set.classes, np.argmax(pred_randomforest, axis=1))\n",
    "print(\"confusion matrix\")\n",
    "print(CM_rfc)\n",
    "\n",
    "fig, ax = plot_confusion_matrix(conf_mat=CM_rfc ,  figsize=(5, 5))\n",
    "plt.show()"
   ]
  },
  {
   "cell_type": "code",
   "execution_count": 129,
   "metadata": {},
   "outputs": [
    {
     "data": {
      "text/plain": [
       "<matplotlib.legend.Legend at 0x2289f2662e8>"
      ]
     },
     "execution_count": 129,
     "metadata": {},
     "output_type": "execute_result"
    },
    {
     "data": {
      "image/png": "[encoded data removed]",
      "text/plain": [
       "<Figure size 432x288 with 1 Axes>"
      ]
     },
     "metadata": {
      "needs_background": "light"
     },
     "output_type": "display_data"
    }
   ],
   "source": [
    "fpr, tpr, thresholds = metrics.roc_curve(y_test, pred_randomforest[:,1])\n",
    "auc = metrics.roc_auc_score(y_test, pred_randomforest[:,1])\n",
    "roc['random forest'] = [fpr,tpr,auc]\n",
    "\n",
    "plt.plot(fpr, tpr, label='%s ROC (area = %0.2f)' % ('rfc', auc))\n",
    "plt.legend(loc=0)"
   ]
  },
  {
   "cell_type": "markdown",
   "metadata": {},
   "source": [
    "### Gradient Tree Boosting Classifier"
   ]
  },
  {
   "cell_type": "code",
   "execution_count": 131,
   "metadata": {},
   "outputs": [],
   "source": [
    "clf_gboost = GradientBoostingClassifier(n_estimators=100, learning_rate=1.0,max_depth=1, random_state=0)"
   ]
  },
  {
   "cell_type": "code",
   "execution_count": 132,
   "metadata": {},
   "outputs": [
    {
     "name": "stdout",
     "output_type": "stream",
     "text": [
      "fit_time 731.8967157999674 11.503637116626258\n",
      "score_time 0.10552136103312175 0.0020409941476427465\n",
      "test_precision_weighted 0.9083987031655759 0.005795374048705348\n",
      "test_recall_weighted 0.9083360156040059 0.0056016043083722865\n",
      "test_f1_weighted 0.908162607879674 0.00579828522287595\n"
     ]
    }
   ],
   "source": [
    "scoring = ['precision_weighted', 'recall_weighted', 'f1_weighted']\n",
    "scores = cross_validate(clf_gboost, x_tr+x_val, y_tr+y_val, scoring=scoring, cv=3)\n",
    "for key, value in scores.items():\n",
    "    print(key, value.mean(), value.std())"
   ]
  },
  {
   "cell_type": "code",
   "execution_count": 133,
   "metadata": {},
   "outputs": [
    {
     "data": {
      "text/plain": [
       "GradientBoostingClassifier(learning_rate=1.0, max_depth=1, random_state=0)"
      ]
     },
     "execution_count": 133,
     "metadata": {},
     "output_type": "execute_result"
    }
   ],
   "source": [
    "clf_gboost.fit(x_tr + x_val, y_tr + y_val)"
   ]
  },
  {
   "cell_type": "code",
   "execution_count": 134,
   "metadata": {},
   "outputs": [],
   "source": [
    "pred_gboost = clf_gboost.predict_proba(x_test)"
   ]
  },
  {
   "cell_type": "code",
   "execution_count": 135,
   "metadata": {},
   "outputs": [
    {
     "name": "stdout",
     "output_type": "stream",
     "text": [
      "              precision    recall  f1-score   support\n",
      "\n",
      "         0.0       0.86      0.67      0.75       420\n",
      "         1.0       0.81      0.93      0.87       640\n",
      "\n",
      "    accuracy                           0.83      1060\n",
      "   macro avg       0.84      0.80      0.81      1060\n",
      "weighted avg       0.83      0.83      0.82      1060\n",
      "\n"
     ]
    }
   ],
   "source": [
    "print(classification_report(y_test, np.argmax(pred_gboost, axis=1)))"
   ]
  },
  {
   "cell_type": "code",
   "execution_count": 136,
   "metadata": {},
   "outputs": [
    {
     "name": "stdout",
     "output_type": "stream",
     "text": [
      "confusion matrix\n",
      "[[280 140]\n",
      " [ 44 596]]\n"
     ]
    },
    {
     "data": {
      "image/png": "[encoded data removed]",
      "text/plain": [
       "<Figure size 360x360 with 1 Axes>"
      ]
     },
     "metadata": {
      "needs_background": "light"
     },
     "output_type": "display_data"
    }
   ],
   "source": [
    "CM_gboost = confusion_matrix(test_set.classes, np.argmax(pred_gboost, axis=1))\n",
    "print(\"confusion matrix\")\n",
    "print(CM_gboost)\n",
    "\n",
    "fig, ax = plot_confusion_matrix(conf_mat=CM_gboost ,  figsize=(5, 5))\n",
    "plt.show()"
   ]
  },
  {
   "cell_type": "code",
   "execution_count": 137,
   "metadata": {},
   "outputs": [
    {
     "data": {
      "text/plain": [
       "<matplotlib.legend.Legend at 0x22889d64470>"
      ]
     },
     "execution_count": 137,
     "metadata": {},
     "output_type": "execute_result"
    },
    {
     "data": {
      "image/png": "[encoded data removed]",
      "text/plain": [
       "<Figure size 432x288 with 1 Axes>"
      ]
     },
     "metadata": {
      "needs_background": "light"
     },
     "output_type": "display_data"
    }
   ],
   "source": [
    "fpr, tpr, thresholds = metrics.roc_curve(y_test, pred_gboost[:,1])\n",
    "auc = metrics.roc_auc_score(y_test, pred_gboost[:,1])\n",
    "roc['gradient tree boosting'] = [fpr,tpr,auc]\n",
    "\n",
    "plt.plot(fpr, tpr, label='%s ROC (area = %0.2f)' % ('rfc', auc))\n",
    "plt.legend(loc=0)"
   ]
  },
  {
   "cell_type": "markdown",
   "metadata": {},
   "source": [
    "### Support Vector Machine"
   ]
  },
  {
   "cell_type": "code",
   "execution_count": 139,
   "metadata": {},
   "outputs": [],
   "source": [
    "clf_svm = svm.SVC()"
   ]
  },
  {
   "cell_type": "code",
   "execution_count": 140,
   "metadata": {},
   "outputs": [
    {
     "name": "stdout",
     "output_type": "stream",
     "text": [
      "fit_time 379.0754765669505 7.0441401413055615\n",
      "score_time 248.3141303062439 3.536014910352856\n",
      "test_precision_weighted 0.9485530011439932 0.0013886249725537211\n",
      "test_recall_weighted 0.9482617391278353 0.000929065773589554\n",
      "test_f1_weighted 0.948293705855793 0.0010066698877343302\n"
     ]
    }
   ],
   "source": [
    "scoring = ['precision_weighted', 'recall_weighted', 'f1_weighted']\n",
    "scores = cross_validate(clf_svm, x_tr+x_val, y_tr+y_val, scoring=scoring, cv=3)\n",
    "for key, value in scores.items():\n",
    "    print(key, value.mean(), value.std())"
   ]
  },
  {
   "cell_type": "code",
   "execution_count": 141,
   "metadata": {},
   "outputs": [
    {
     "data": {
      "text/plain": [
       "SVC()"
      ]
     },
     "execution_count": 141,
     "metadata": {},
     "output_type": "execute_result"
    }
   ],
   "source": [
    "clf_svm.fit(x_tr + x_val, y_tr + y_val)"
   ]
  },
  {
   "cell_type": "code",
   "execution_count": 148,
   "metadata": {},
   "outputs": [],
   "source": [
    "pred_svm = clf_svm.predict(x_test)"
   ]
  },
  {
   "cell_type": "code",
   "execution_count": 149,
   "metadata": {},
   "outputs": [],
   "source": [
    "p = np.array(clf_svm.decision_function(x_test))"
   ]
  },
  {
   "cell_type": "code",
   "execution_count": 150,
   "metadata": {},
   "outputs": [],
   "source": [
    "prob = np.exp(p)/np.sum(np.exp(p), keepdims=True)"
   ]
  },
  {
   "cell_type": "code",
   "execution_count": null,
   "metadata": {},
   "outputs": [],
   "source": []
  },
  {
   "cell_type": "code",
   "execution_count": 151,
   "metadata": {},
   "outputs": [
    {
     "name": "stdout",
     "output_type": "stream",
     "text": [
      "              precision    recall  f1-score   support\n",
      "\n",
      "         0.0       0.92      0.72      0.81       420\n",
      "         1.0       0.84      0.96      0.90       640\n",
      "\n",
      "    accuracy                           0.87      1060\n",
      "   macro avg       0.88      0.84      0.85      1060\n",
      "weighted avg       0.87      0.87      0.86      1060\n",
      "\n"
     ]
    }
   ],
   "source": [
    "print(classification_report(y_test, pred_svm))"
   ]
  },
  {
   "cell_type": "code",
   "execution_count": 152,
   "metadata": {},
   "outputs": [
    {
     "name": "stdout",
     "output_type": "stream",
     "text": [
      "confusion matrix\n",
      "[[304 116]\n",
      " [ 27 613]]\n"
     ]
    },
    {
     "data": {
      "image/png": "[encoded data removed]",
      "text/plain": [
       "<Figure size 360x360 with 1 Axes>"
      ]
     },
     "metadata": {
      "needs_background": "light"
     },
     "output_type": "display_data"
    }
   ],
   "source": [
    "CM_svm = confusion_matrix(test_set.classes, pred_svm)\n",
    "print(\"confusion matrix\")\n",
    "print(CM_svm)\n",
    "\n",
    "fig, ax = plot_confusion_matrix(conf_mat=CM_svm ,  figsize=(5, 5))\n",
    "plt.show()"
   ]
  },
  {
   "cell_type": "code",
   "execution_count": null,
   "metadata": {},
   "outputs": [],
   "source": []
  },
  {
   "cell_type": "code",
   "execution_count": 153,
   "metadata": {},
   "outputs": [
    {
     "data": {
      "text/plain": [
       "<matplotlib.legend.Legend at 0x2289f1ce358>"
      ]
     },
     "execution_count": 153,
     "metadata": {},
     "output_type": "execute_result"
    },
    {
     "data": {
      "image/png": "[encoded data removed]",
      "text/plain": [
       "<Figure size 432x288 with 1 Axes>"
      ]
     },
     "metadata": {
      "needs_background": "light"
     },
     "output_type": "display_data"
    }
   ],
   "source": [
    "fpr, tpr, thresholds = metrics.roc_curve(y_test, prob)\n",
    "auc = metrics.roc_auc_score(y_test, pred_svm)\n",
    "roc['svm'] = [fpr,tpr,auc]\n",
    "\n",
    "plt.plot(fpr, tpr, label='%s ROC (area = %0.2f)' % ('svm', auc))\n",
    "plt.legend(loc=0)"
   ]
  },
  {
   "cell_type": "markdown",
   "metadata": {},
   "source": [
    "### Plot combined ROC curves"
   ]
  },
  {
   "cell_type": "code",
   "execution_count": 161,
   "metadata": {},
   "outputs": [
    {
     "data": {
      "image/png": "[encoded data removed]",
      "text/plain": [
       "<Figure size 720x576 with 1 Axes>"
      ]
     },
     "metadata": {
      "needs_background": "light"
     },
     "output_type": "display_data"
    }
   ],
   "source": [
    "plt.figure(figsize=(10,8))\n",
    "for key, value in roc.items():\n",
    "    plt.plot(value[0], value[1], label='%s ROC (area = %0.2f)' % (key, value[2]))\n",
    "\n",
    "plt.legend()\n",
    "plt.xlabel(\"FPR\")\n",
    "plt.ylabel(\"TPR\")\n",
    "plt.title('Receiver Operating Characteristic')\n",
    "plt.show()"
   ]
  },
  {
   "cell_type": "code",
   "execution_count": null,
   "metadata": {},
   "outputs": [],
   "source": []
  },
  {
   "cell_type": "markdown",
   "metadata": {},
   "source": [
    "## Deep Neural Nets"
   ]
  },
  {
   "cell_type": "markdown",
   "metadata": {},
   "source": [
    "### Define Metrics"
   ]
  },
  {
   "cell_type": "code",
   "execution_count": 179,
   "metadata": {},
   "outputs": [],
   "source": [
    "METRICS = [\n",
    "        'accuracy',\n",
    "        tf.keras.metrics.Precision(name='precision'),\n",
    "        tf.keras.metrics.Recall(name='recall'),\n",
    "        tf.keras.metrics.AUC(name='auc')\n",
    "    ]"
   ]
  },
  {
   "cell_type": "code",
   "execution_count": null,
   "metadata": {},
   "outputs": [],
   "source": []
  },
  {
   "cell_type": "markdown",
   "metadata": {},
   "source": [
    "### Building CNN-1"
   ]
  },
  {
   "cell_type": "code",
   "execution_count": 180,
   "metadata": {},
   "outputs": [],
   "source": [
    "cnn_1 = tf.keras.models.Sequential()\n",
    "#cnn_1.add(tf.keras.layers.Cropping2D(cropping=((8, 8), (8, 8)), input_shape=(256,256,1)))"
   ]
  },
  {
   "cell_type": "markdown",
   "metadata": {},
   "source": [
    "#### 1. Convolution and Pooling"
   ]
  },
  {
   "cell_type": "code",
   "execution_count": 181,
   "metadata": {},
   "outputs": [],
   "source": [
    "#cnn_1.add(tf.keras.layers.Conv2D(filters=8, kernel_size=3, activation='relu' ))\n",
    "cnn_1.add(tf.keras.layers.Conv2D(filters=8, kernel_size=3, activation='relu', input_shape=(128,128,1) ))\n",
    "\n",
    "cnn_1.add(tf.keras.layers.MaxPool2D(pool_size=2, strides=2, padding = 'same'))"
   ]
  },
  {
   "cell_type": "markdown",
   "metadata": {},
   "source": [
    "#### 3. Add a additional Convolutional and Pooling Layer"
   ]
  },
  {
   "cell_type": "code",
   "execution_count": 182,
   "metadata": {},
   "outputs": [],
   "source": [
    "#cnn.add(tf.keras.layers.Conv2D(filters = 16, kernel_size = 3, activation='relu'))\n",
    "#cnn.add(tf.keras.layers.MaxPool2D(pool_size=2, strides=2, padding = 'same'))\n",
    "\n",
    "cnn_1.add(tf.keras.layers.Conv2D(filters = 32, kernel_size = 3, activation = 'relu'))\n",
    "cnn_1.add(tf.keras.layers.MaxPool2D(pool_size=2, strides=2, padding = 'same'))\n",
    "\n",
    "cnn_1.add(tf.keras.layers.Conv2D(filters = 64, kernel_size = 3, activation = 'relu'))\n",
    "cnn_1.add(tf.keras.layers.MaxPool2D(pool_size=2, strides=2, padding = 'same'))"
   ]
  },
  {
   "cell_type": "markdown",
   "metadata": {},
   "source": [
    "#### 4. Flattening"
   ]
  },
  {
   "cell_type": "code",
   "execution_count": 183,
   "metadata": {},
   "outputs": [],
   "source": [
    "cnn_1.add(tf.keras.layers.Flatten())"
   ]
  },
  {
   "cell_type": "markdown",
   "metadata": {},
   "source": [
    "#### 5. Full Connection"
   ]
  },
  {
   "cell_type": "code",
   "execution_count": 184,
   "metadata": {},
   "outputs": [],
   "source": [
    "#units = number of hidden neurons - larger number better for images\n",
    "cnn_1.add(tf.keras.layers.Dense(units=128, activation='relu'))\n",
    "cnn_1.add(tf.keras.layers.Dropout(0.5))"
   ]
  },
  {
   "cell_type": "markdown",
   "metadata": {},
   "source": [
    "#### 6. Output Layer"
   ]
  },
  {
   "cell_type": "code",
   "execution_count": 185,
   "metadata": {},
   "outputs": [],
   "source": [
    "#units = 1 for binary classification\n",
    "cnn_1.add(tf.keras.layers.Dense(units=1, activation='sigmoid'))"
   ]
  },
  {
   "cell_type": "markdown",
   "metadata": {},
   "source": [
    "#### 7. Compiling the CNN"
   ]
  },
  {
   "cell_type": "code",
   "execution_count": 186,
   "metadata": {},
   "outputs": [
    {
     "name": "stdout",
     "output_type": "stream",
     "text": [
      "Model: \"sequential_2\"\n",
      "_________________________________________________________________\n",
      "Layer (type)                 Output Shape              Param #   \n",
      "=================================================================\n",
      "conv2d_8 (Conv2D)            (None, 126, 126, 8)       80        \n",
      "_________________________________________________________________\n",
      "max_pooling2d_8 (MaxPooling2 (None, 63, 63, 8)         0         \n",
      "_________________________________________________________________\n",
      "conv2d_9 (Conv2D)            (None, 61, 61, 32)        2336      \n",
      "_________________________________________________________________\n",
      "max_pooling2d_9 (MaxPooling2 (None, 31, 31, 32)        0         \n",
      "_________________________________________________________________\n",
      "conv2d_10 (Conv2D)           (None, 29, 29, 64)        18496     \n",
      "_________________________________________________________________\n",
      "max_pooling2d_10 (MaxPooling (None, 15, 15, 64)        0         \n",
      "_________________________________________________________________\n",
      "flatten_2 (Flatten)          (None, 14400)             0         \n",
      "_________________________________________________________________\n",
      "dense_4 (Dense)              (None, 128)               1843328   \n",
      "_________________________________________________________________\n",
      "dropout_5 (Dropout)          (None, 128)               0         \n",
      "_________________________________________________________________\n",
      "dense_5 (Dense)              (None, 1)                 129       \n",
      "=================================================================\n",
      "Total params: 1,864,369\n",
      "Trainable params: 1,864,369\n",
      "Non-trainable params: 0\n",
      "_________________________________________________________________\n"
     ]
    }
   ],
   "source": [
    "cnn_1.compile(optimizer='adam', loss='binary_crossentropy', metrics=METRICS)\n",
    "cnn_1.summary()"
   ]
  },
  {
   "cell_type": "markdown",
   "metadata": {},
   "source": [
    " "
   ]
  },
  {
   "cell_type": "markdown",
   "metadata": {},
   "source": [
    "### Building CNN-2"
   ]
  },
  {
   "cell_type": "code",
   "execution_count": 187,
   "metadata": {},
   "outputs": [
    {
     "name": "stdout",
     "output_type": "stream",
     "text": [
      "Model: \"sequential_3\"\n",
      "_________________________________________________________________\n",
      "Layer (type)                 Output Shape              Param #   \n",
      "=================================================================\n",
      "conv2d_11 (Conv2D)           (None, 128, 128, 32)      320       \n",
      "_________________________________________________________________\n",
      "max_pooling2d_11 (MaxPooling (None, 64, 64, 32)        0         \n",
      "_________________________________________________________________\n",
      "conv2d_12 (Conv2D)           (None, 64, 64, 64)        18496     \n",
      "_________________________________________________________________\n",
      "dropout_6 (Dropout)          (None, 64, 64, 64)        0         \n",
      "_________________________________________________________________\n",
      "max_pooling2d_12 (MaxPooling (None, 32, 32, 64)        0         \n",
      "_________________________________________________________________\n",
      "conv2d_13 (Conv2D)           (None, 32, 32, 64)        36928     \n",
      "_________________________________________________________________\n",
      "max_pooling2d_13 (MaxPooling (None, 16, 16, 64)        0         \n",
      "_________________________________________________________________\n",
      "conv2d_14 (Conv2D)           (None, 16, 16, 128)       73856     \n",
      "_________________________________________________________________\n",
      "dropout_7 (Dropout)          (None, 16, 16, 128)       0         \n",
      "_________________________________________________________________\n",
      "max_pooling2d_14 (MaxPooling (None, 8, 8, 128)         0         \n",
      "_________________________________________________________________\n",
      "conv2d_15 (Conv2D)           (None, 8, 8, 256)         295168    \n",
      "_________________________________________________________________\n",
      "dropout_8 (Dropout)          (None, 8, 8, 256)         0         \n",
      "_________________________________________________________________\n",
      "max_pooling2d_15 (MaxPooling (None, 4, 4, 256)         0         \n",
      "_________________________________________________________________\n",
      "flatten_3 (Flatten)          (None, 4096)              0         \n",
      "_________________________________________________________________\n",
      "dense_6 (Dense)              (None, 128)               524416    \n",
      "_________________________________________________________________\n",
      "dropout_9 (Dropout)          (None, 128)               0         \n",
      "_________________________________________________________________\n",
      "dense_7 (Dense)              (None, 1)                 129       \n",
      "=================================================================\n",
      "Total params: 949,313\n",
      "Trainable params: 949,313\n",
      "Non-trainable params: 0\n",
      "_________________________________________________________________\n"
     ]
    }
   ],
   "source": [
    "cnn_2 = tf.keras.models.Sequential()\n",
    "#cnn_2.add(tf.keras.layers.Cropping2D(cropping=((8, 8), (8, 8)), input_shape=(256,256,1)))\n",
    "cnn_2.add(tf.keras.layers.Conv2D(32 , (3,3) , strides = 1 , padding = 'same' , activation = 'relu', input_shape=(128,128,1) ))\n",
    "\n",
    "cnn_2.add(tf.keras.layers.MaxPool2D((2,2) , strides = 2 , padding = 'same'))\n",
    "cnn_2.add(tf.keras.layers.Conv2D(64 , (3,3) , strides = 1 , padding = 'same' , activation = 'relu'))\n",
    "cnn_2.add(tf.keras.layers.Dropout(0.1))\n",
    "\n",
    "cnn_2.add(tf.keras.layers.MaxPool2D((2,2) , strides = 2 , padding = 'same'))\n",
    "cnn_2.add(tf.keras.layers.Conv2D(64 , (3,3) , strides = 1 , padding = 'same' , activation = 'relu'))\n",
    "\n",
    "cnn_2.add(tf.keras.layers.MaxPool2D((2,2) , strides = 2 , padding = 'same'))\n",
    "cnn_2.add(tf.keras.layers.Conv2D(128 , (3,3) , strides = 1 , padding = 'same' , activation = 'relu'))\n",
    "cnn_2.add(tf.keras.layers.Dropout(0.2))\n",
    "\n",
    "cnn_2.add(tf.keras.layers.MaxPool2D((2,2) , strides = 2 , padding = 'same'))\n",
    "cnn_2.add(tf.keras.layers.Conv2D(256 , (3,3) , strides = 1 , padding = 'same' , activation = 'relu'))\n",
    "cnn_2.add(tf.keras.layers.Dropout(0.2))\n",
    "\n",
    "cnn_2.add(tf.keras.layers.MaxPool2D((2,2) , strides = 2 , padding = 'same'))\n",
    "cnn_2.add(tf.keras.layers.Flatten())\n",
    "cnn_2.add(tf.keras.layers.Dense(units = 128 , activation = 'relu'))\n",
    "cnn_2.add(tf.keras.layers.Dropout(0.2))\n",
    "cnn_2.add(tf.keras.layers.Dense(units = 1 , activation = 'sigmoid'))\n",
    "cnn_2.compile(optimizer = \"adam\" , loss = 'binary_crossentropy' , metrics = METRICS)\n",
    "cnn_2.summary()"
   ]
  },
  {
   "cell_type": "code",
   "execution_count": null,
   "metadata": {},
   "outputs": [],
   "source": []
  },
  {
   "cell_type": "markdown",
   "metadata": {},
   "source": [
    "#### 3.1 Training CNN-1"
   ]
  },
  {
   "cell_type": "code",
   "execution_count": 188,
   "metadata": {
    "scrolled": false
   },
   "outputs": [
    {
     "name": "stdout",
     "output_type": "stream",
     "text": [
      "Epoch 1/25\n",
      "160/160 [==============================] - 34s 208ms/step - loss: 0.4325 - accuracy: 0.7749 - precision: 0.8619 - recall: 0.7246 - auc: 0.8653 - val_loss: 0.1374 - val_accuracy: 0.9468 - val_precision: 0.9851 - val_recall: 0.9185 - val_auc: 0.9924\n",
      "Epoch 2/25\n",
      "160/160 [==============================] - 33s 205ms/step - loss: 0.1766 - accuracy: 0.9315 - precision: 0.9508 - recall: 0.9300 - auc: 0.9819 - val_loss: 0.1170 - val_accuracy: 0.9512 - val_precision: 0.9832 - val_recall: 0.9284 - val_auc: 0.9936\n",
      "Epoch 3/25\n",
      "160/160 [==============================] - 33s 205ms/step - loss: 0.1724 - accuracy: 0.9345 - precision: 0.9528 - recall: 0.9348 - auc: 0.9819 - val_loss: 0.1286 - val_accuracy: 0.9479 - val_precision: 0.9978 - val_recall: 0.9085 - val_auc: 0.9952\n",
      "Epoch 4/25\n",
      "160/160 [==============================] - 33s 205ms/step - loss: 0.1405 - accuracy: 0.9455 - precision: 0.9699 - recall: 0.9333 - auc: 0.9876 - val_loss: 0.0915 - val_accuracy: 0.9601 - val_precision: 0.9854 - val_recall: 0.9423 - val_auc: 0.9958\n",
      "Epoch 5/25\n",
      "160/160 [==============================] - 33s 208ms/step - loss: 0.1112 - accuracy: 0.9599 - precision: 0.9775 - recall: 0.9540 - auc: 0.9916 - val_loss: 0.0921 - val_accuracy: 0.9568 - val_precision: 0.9444 - val_recall: 0.9801 - val_auc: 0.9962\n",
      "Epoch 6/25\n",
      "160/160 [==============================] - 33s 209ms/step - loss: 0.1074 - accuracy: 0.9571 - precision: 0.9728 - recall: 0.9530 - auc: 0.9920 - val_loss: 0.0747 - val_accuracy: 0.9678 - val_precision: 0.9665 - val_recall: 0.9761 - val_auc: 0.9967\n",
      "Epoch 7/25\n",
      "160/160 [==============================] - 33s 206ms/step - loss: 0.1100 - accuracy: 0.9593 - precision: 0.9699 - recall: 0.9617 - auc: 0.9926 - val_loss: 0.1052 - val_accuracy: 0.9545 - val_precision: 0.9957 - val_recall: 0.9225 - val_auc: 0.9975\n",
      "Epoch 8/25\n",
      "160/160 [==============================] - 33s 206ms/step - loss: 0.1135 - accuracy: 0.9592 - precision: 0.9759 - recall: 0.9543 - auc: 0.9915 - val_loss: 0.0745 - val_accuracy: 0.9701 - val_precision: 0.9818 - val_recall: 0.9642 - val_auc: 0.9968\n",
      "Epoch 9/25\n",
      "160/160 [==============================] - 33s 207ms/step - loss: 0.0801 - accuracy: 0.9702 - precision: 0.9823 - recall: 0.9663 - auc: 0.9956 - val_loss: 0.0913 - val_accuracy: 0.9612 - val_precision: 0.9517 - val_recall: 0.9801 - val_auc: 0.9956\n",
      "Epoch 10/25\n",
      "160/160 [==============================] - 33s 207ms/step - loss: 0.0905 - accuracy: 0.9643 - precision: 0.9771 - recall: 0.9615 - auc: 0.9945 - val_loss: 0.0961 - val_accuracy: 0.9612 - val_precision: 0.9937 - val_recall: 0.9364 - val_auc: 0.9973\n",
      "Epoch 11/25\n",
      "160/160 [==============================] - 33s 209ms/step - loss: 0.0949 - accuracy: 0.9668 - precision: 0.9751 - recall: 0.9666 - auc: 0.9931 - val_loss: 0.0664 - val_accuracy: 0.9745 - val_precision: 0.9898 - val_recall: 0.9642 - val_auc: 0.9977\n",
      "Epoch 12/25\n",
      "160/160 [==============================] - 33s 209ms/step - loss: 0.0812 - accuracy: 0.9685 - precision: 0.9814 - recall: 0.9649 - auc: 0.9957 - val_loss: 0.0645 - val_accuracy: 0.9778 - val_precision: 0.9919 - val_recall: 0.9682 - val_auc: 0.9971\n",
      "Epoch 13/25\n",
      "160/160 [==============================] - 33s 207ms/step - loss: 0.0659 - accuracy: 0.9761 - precision: 0.9859 - recall: 0.9733 - auc: 0.9967 - val_loss: 0.0676 - val_accuracy: 0.9767 - val_precision: 0.9939 - val_recall: 0.9642 - val_auc: 0.9968\n",
      "Epoch 14/25\n",
      "160/160 [==============================] - 33s 207ms/step - loss: 0.0731 - accuracy: 0.9710 - precision: 0.9809 - recall: 0.9703 - auc: 0.9965 - val_loss: 0.0734 - val_accuracy: 0.9701 - val_precision: 0.9938 - val_recall: 0.9523 - val_auc: 0.9979\n",
      "Epoch 15/25\n",
      "160/160 [==============================] - 33s 207ms/step - loss: 0.0680 - accuracy: 0.9749 - precision: 0.9859 - recall: 0.9717 - auc: 0.9965 - val_loss: 0.0588 - val_accuracy: 0.9778 - val_precision: 0.9859 - val_recall: 0.9742 - val_auc: 0.9980\n",
      "Epoch 16/25\n",
      "160/160 [==============================] - 33s 206ms/step - loss: 0.0713 - accuracy: 0.9737 - precision: 0.9840 - recall: 0.9715 - auc: 0.9964 - val_loss: 0.0597 - val_accuracy: 0.9800 - val_precision: 0.9899 - val_recall: 0.9742 - val_auc: 0.9976\n",
      "Epoch 17/25\n",
      "160/160 [==============================] - 33s 207ms/step - loss: 0.0689 - accuracy: 0.9742 - precision: 0.9827 - recall: 0.9725 - auc: 0.9965 - val_loss: 0.1202 - val_accuracy: 0.9601 - val_precision: 0.9958 - val_recall: 0.9324 - val_auc: 0.9942\n",
      "Epoch 18/25\n",
      "160/160 [==============================] - 33s 207ms/step - loss: 0.0632 - accuracy: 0.9734 - precision: 0.9846 - recall: 0.9705 - auc: 0.9972 - val_loss: 0.0549 - val_accuracy: 0.9812 - val_precision: 0.9880 - val_recall: 0.9781 - val_auc: 0.9972\n",
      "Epoch 19/25\n",
      "160/160 [==============================] - 33s 207ms/step - loss: 0.0598 - accuracy: 0.9799 - precision: 0.9896 - recall: 0.9762 - auc: 0.9972 - val_loss: 0.0568 - val_accuracy: 0.9812 - val_precision: 0.9860 - val_recall: 0.9801 - val_auc: 0.9964\n",
      "Epoch 20/25\n",
      "160/160 [==============================] - 33s 208ms/step - loss: 0.0649 - accuracy: 0.9755 - precision: 0.9827 - recall: 0.9761 - auc: 0.9974 - val_loss: 0.0522 - val_accuracy: 0.9800 - val_precision: 0.9840 - val_recall: 0.9801 - val_auc: 0.9982\n",
      "Epoch 21/25\n",
      "160/160 [==============================] - 33s 209ms/step - loss: 0.0490 - accuracy: 0.9824 - precision: 0.9885 - recall: 0.9815 - auc: 0.9981 - val_loss: 0.0511 - val_accuracy: 0.9823 - val_precision: 0.9939 - val_recall: 0.9742 - val_auc: 0.9985\n",
      "Epoch 22/25\n",
      "160/160 [==============================] - 33s 207ms/step - loss: 0.0495 - accuracy: 0.9800 - precision: 0.9873 - recall: 0.9785 - auc: 0.9982 - val_loss: 0.0606 - val_accuracy: 0.9823 - val_precision: 0.9899 - val_recall: 0.9781 - val_auc: 0.9966\n",
      "Epoch 23/25\n",
      "160/160 [==============================] - 33s 208ms/step - loss: 0.0675 - accuracy: 0.9766 - precision: 0.9881 - recall: 0.9709 - auc: 0.9960 - val_loss: 0.0515 - val_accuracy: 0.9845 - val_precision: 0.9939 - val_recall: 0.9781 - val_auc: 0.9978\n",
      "Epoch 24/25\n",
      "160/160 [==============================] - 33s 206ms/step - loss: 0.0578 - accuracy: 0.9779 - precision: 0.9860 - recall: 0.9753 - auc: 0.9974 - val_loss: 0.0667 - val_accuracy: 0.9789 - val_precision: 0.9979 - val_recall: 0.9642 - val_auc: 0.9967\n",
      "Epoch 25/25\n",
      "160/160 [==============================] - 33s 210ms/step - loss: 0.0531 - accuracy: 0.9819 - precision: 0.9905 - recall: 0.9790 - auc: 0.9975 - val_loss: 0.0614 - val_accuracy: 0.9789 - val_precision: 0.9939 - val_recall: 0.9682 - val_auc: 0.9966\n"
     ]
    }
   ],
   "source": [
    "# NOTE - cannot use the validation_split when using data set generators so need to split the dataframe manually\n",
    "# into train and validation set. This was done above\n",
    "\n",
    "#callback = tf.keras.callbacks.EarlyStopping(monitor='loss', mode=\"min\", patience=3, restore_best_weights=True)\n",
    "#history = cnn.fit(x = train_set, class_weight=class_weight, validation_data = validation_set, epochs=100, callbacks=[callback] )\n",
    "history_cnn_1 = cnn_1.fit(x = train_set, class_weight=class_weight, validation_data = validation_set, epochs=25 )"
   ]
  },
  {
   "cell_type": "markdown",
   "metadata": {},
   "source": [
    "#### 3.2 Train CNN-2"
   ]
  },
  {
   "cell_type": "code",
   "execution_count": 189,
   "metadata": {},
   "outputs": [
    {
     "name": "stdout",
     "output_type": "stream",
     "text": [
      "Epoch 1/25\n",
      "160/160 [==============================] - 35s 213ms/step - loss: 0.5284 - accuracy: 0.6720 - precision: 0.8788 - recall: 0.7545 - auc: 0.9093 - val_loss: 0.1561 - val_accuracy: 0.9557 - val_precision: 0.9754 - val_recall: 0.9443 - val_auc: 0.9931\n",
      "Epoch 2/25\n",
      "160/160 [==============================] - 33s 209ms/step - loss: 0.1610 - accuracy: 0.9459 - precision: 0.9671 - recall: 0.9408 - auc: 0.9830 - val_loss: 0.1003 - val_accuracy: 0.9667 - val_precision: 0.9797 - val_recall: 0.9602 - val_auc: 0.9957\n",
      "Epoch 3/25\n",
      "160/160 [==============================] - 34s 210ms/step - loss: 0.1273 - accuracy: 0.9513 - precision: 0.9694 - recall: 0.9464 - auc: 0.9891 - val_loss: 0.0886 - val_accuracy: 0.9712 - val_precision: 0.9857 - val_recall: 0.9622 - val_auc: 0.9951\n",
      "Epoch 4/25\n",
      "160/160 [==============================] - 33s 209ms/step - loss: 0.1073 - accuracy: 0.9627 - precision: 0.9784 - recall: 0.9578 - auc: 0.9920 - val_loss: 0.1106 - val_accuracy: 0.9579 - val_precision: 0.9979 - val_recall: 0.9264 - val_auc: 0.9969\n",
      "Epoch 5/25\n",
      "160/160 [==============================] - 34s 210ms/step - loss: 0.1039 - accuracy: 0.9615 - precision: 0.9801 - recall: 0.9551 - auc: 0.9926 - val_loss: 0.0604 - val_accuracy: 0.9734 - val_precision: 0.9838 - val_recall: 0.9682 - val_auc: 0.9977\n",
      "Epoch 6/25\n",
      "160/160 [==============================] - 34s 211ms/step - loss: 0.1249 - accuracy: 0.9539 - precision: 0.9711 - recall: 0.9505 - auc: 0.9889 - val_loss: 0.0829 - val_accuracy: 0.9656 - val_precision: 0.9701 - val_recall: 0.9682 - val_auc: 0.9970\n",
      "Epoch 7/25\n",
      "160/160 [==============================] - 34s 212ms/step - loss: 0.0975 - accuracy: 0.9676 - precision: 0.9810 - recall: 0.9626 - auc: 0.9928 - val_loss: 0.0727 - val_accuracy: 0.9723 - val_precision: 0.9819 - val_recall: 0.9682 - val_auc: 0.9968\n",
      "Epoch 8/25\n",
      "160/160 [==============================] - 33s 209ms/step - loss: 0.0791 - accuracy: 0.9697 - precision: 0.9848 - recall: 0.9632 - auc: 0.9957 - val_loss: 0.0740 - val_accuracy: 0.9767 - val_precision: 0.9859 - val_recall: 0.9722 - val_auc: 0.9970\n",
      "Epoch 9/25\n",
      "160/160 [==============================] - 33s 208ms/step - loss: 0.0806 - accuracy: 0.9705 - precision: 0.9833 - recall: 0.9667 - auc: 0.9955 - val_loss: 0.0619 - val_accuracy: 0.9778 - val_precision: 0.9820 - val_recall: 0.9781 - val_auc: 0.9976\n",
      "Epoch 10/25\n",
      "160/160 [==============================] - 33s 207ms/step - loss: 0.0700 - accuracy: 0.9745 - precision: 0.9853 - recall: 0.9706 - auc: 0.9961 - val_loss: 0.0619 - val_accuracy: 0.9789 - val_precision: 0.9859 - val_recall: 0.9761 - val_auc: 0.9978\n",
      "Epoch 11/25\n",
      "160/160 [==============================] - 33s 208ms/step - loss: 0.0689 - accuracy: 0.9730 - precision: 0.9864 - recall: 0.9676 - auc: 0.9964 - val_loss: 0.0539 - val_accuracy: 0.9778 - val_precision: 0.9745 - val_recall: 0.9861 - val_auc: 0.9987\n",
      "Epoch 12/25\n",
      "160/160 [==============================] - 33s 207ms/step - loss: 0.0834 - accuracy: 0.9699 - precision: 0.9791 - recall: 0.9697 - auc: 0.9955 - val_loss: 0.0530 - val_accuracy: 0.9834 - val_precision: 0.9900 - val_recall: 0.9801 - val_auc: 0.9979\n",
      "Epoch 13/25\n",
      "160/160 [==============================] - 33s 206ms/step - loss: 0.0718 - accuracy: 0.9706 - precision: 0.9810 - recall: 0.9682 - auc: 0.9964 - val_loss: 0.0753 - val_accuracy: 0.9712 - val_precision: 0.9857 - val_recall: 0.9622 - val_auc: 0.9964\n",
      "Epoch 14/25\n",
      "160/160 [==============================] - 33s 206ms/step - loss: 0.0715 - accuracy: 0.9725 - precision: 0.9873 - recall: 0.9644 - auc: 0.9960 - val_loss: 0.0430 - val_accuracy: 0.9823 - val_precision: 0.9899 - val_recall: 0.9781 - val_auc: 0.9988\n",
      "Epoch 15/25\n",
      "160/160 [==============================] - 33s 207ms/step - loss: 0.0636 - accuracy: 0.9778 - precision: 0.9876 - recall: 0.9745 - auc: 0.9966 - val_loss: 0.0571 - val_accuracy: 0.9778 - val_precision: 0.9939 - val_recall: 0.9662 - val_auc: 0.9983\n",
      "Epoch 16/25\n",
      "160/160 [==============================] - 33s 206ms/step - loss: 0.0569 - accuracy: 0.9770 - precision: 0.9862 - recall: 0.9747 - auc: 0.9979 - val_loss: 0.0531 - val_accuracy: 0.9812 - val_precision: 0.9919 - val_recall: 0.9742 - val_auc: 0.9984\n",
      "Epoch 17/25\n",
      "160/160 [==============================] - 34s 210ms/step - loss: 0.0572 - accuracy: 0.9794 - precision: 0.9881 - recall: 0.9767 - auc: 0.9973 - val_loss: 0.0573 - val_accuracy: 0.9812 - val_precision: 0.9841 - val_recall: 0.9821 - val_auc: 0.9978\n",
      "Epoch 18/25\n",
      "160/160 [==============================] - 33s 209ms/step - loss: 0.0605 - accuracy: 0.9750 - precision: 0.9805 - recall: 0.9768 - auc: 0.9975 - val_loss: 0.0552 - val_accuracy: 0.9789 - val_precision: 0.9939 - val_recall: 0.9682 - val_auc: 0.9982\n",
      "Epoch 19/25\n",
      "160/160 [==============================] - 33s 208ms/step - loss: 0.0540 - accuracy: 0.9786 - precision: 0.9870 - recall: 0.9767 - auc: 0.9980 - val_loss: 0.0591 - val_accuracy: 0.9812 - val_precision: 0.9939 - val_recall: 0.9722 - val_auc: 0.9983\n",
      "Epoch 20/25\n",
      "160/160 [==============================] - 33s 207ms/step - loss: 0.0480 - accuracy: 0.9832 - precision: 0.9900 - recall: 0.9814 - auc: 0.9984 - val_loss: 0.0555 - val_accuracy: 0.9789 - val_precision: 0.9979 - val_recall: 0.9642 - val_auc: 0.9989\n",
      "Epoch 21/25\n",
      "160/160 [==============================] - 33s 207ms/step - loss: 0.0546 - accuracy: 0.9809 - precision: 0.9909 - recall: 0.9764 - auc: 0.9979 - val_loss: 0.0400 - val_accuracy: 0.9856 - val_precision: 0.9960 - val_recall: 0.9781 - val_auc: 0.9990\n",
      "Epoch 22/25\n",
      "160/160 [==============================] - 33s 209ms/step - loss: 0.0426 - accuracy: 0.9839 - precision: 0.9912 - recall: 0.9811 - auc: 0.9987 - val_loss: 0.0413 - val_accuracy: 0.9878 - val_precision: 0.9881 - val_recall: 0.9901 - val_auc: 0.9989\n",
      "Epoch 23/25\n",
      "160/160 [==============================] - 33s 207ms/step - loss: 0.0475 - accuracy: 0.9824 - precision: 0.9899 - recall: 0.9805 - auc: 0.9982 - val_loss: 0.0488 - val_accuracy: 0.9845 - val_precision: 0.9980 - val_recall: 0.9742 - val_auc: 0.9987\n",
      "Epoch 24/25\n",
      "160/160 [==============================] - 33s 206ms/step - loss: 0.0519 - accuracy: 0.9796 - precision: 0.9887 - recall: 0.9768 - auc: 0.9977 - val_loss: 0.0394 - val_accuracy: 0.9856 - val_precision: 0.9861 - val_recall: 0.9881 - val_auc: 0.9988\n",
      "Epoch 25/25\n",
      "160/160 [==============================] - 33s 208ms/step - loss: 0.0447 - accuracy: 0.9820 - precision: 0.9914 - recall: 0.9783 - auc: 0.9986 - val_loss: 0.0432 - val_accuracy: 0.9834 - val_precision: 0.9980 - val_recall: 0.9722 - val_auc: 0.9991\n"
     ]
    }
   ],
   "source": [
    "history_cnn_2 = cnn_2.fit(x = train_set, class_weight=class_weight, validation_data = validation_set, epochs=25 )"
   ]
  },
  {
   "cell_type": "code",
   "execution_count": null,
   "metadata": {},
   "outputs": [],
   "source": []
  },
  {
   "cell_type": "markdown",
   "metadata": {},
   "source": [
    "### Evaluating"
   ]
  },
  {
   "cell_type": "markdown",
   "metadata": {},
   "source": [
    "#### 1. Examine the loss and accuracy curves"
   ]
  },
  {
   "cell_type": "code",
   "execution_count": 190,
   "metadata": {},
   "outputs": [
    {
     "data": {
      "image/png": "[encoded data removed]",
      "text/plain": [
       "<Figure size 1440x720 with 2 Axes>"
      ]
     },
     "metadata": {
      "needs_background": "light"
     },
     "output_type": "display_data"
    }
   ],
   "source": [
    "plt.figure(figsize=(20,10))\n",
    "\n",
    "# plot loss & val loss\n",
    "plt.subplot(1,2,1)\n",
    "\n",
    "# cnn-1\n",
    "sns.lineplot(x=history_cnn_1.epoch, y=history_cnn_1.history['loss'], color='red', label='cnn1 Train Loss')\n",
    "sns.lineplot(x=history_cnn_1.epoch, y=history_cnn_1.history['val_loss'], color='orange', label='cnn1 Val Loss')\n",
    "\n",
    "# cnn-2\n",
    "sns.lineplot(x=history_cnn_2.epoch, y=history_cnn_2.history['loss'], color='purple', label='cnn2 Train Loss')\n",
    "sns.lineplot(x=history_cnn_2.epoch, y=history_cnn_2.history['val_loss'], color='magenta', label='cnn2 Val Loss')\n",
    "\n",
    "#plt.ylim(0, 3)\n",
    "plt.title('Loss on train vs validation')\n",
    "plt.legend(loc='best')\n",
    "plt.xlabel('epoch')\n",
    "plt.ylabel('loss')\n",
    "\n",
    "# plot accuracy and val accuracy\n",
    "plt.subplot(1,2,2)\n",
    "\n",
    "# cnn-1\n",
    "sns.lineplot(x=history_cnn_1.epoch, y=history_cnn_1.history['accuracy'], color='red', label='cnn1 Train Accuracy')\n",
    "sns.lineplot(x=history_cnn_1.epoch, y=history_cnn_1.history['val_accuracy'], color='orange', label='cnn1 Val Accuracy')\n",
    "\n",
    "# cnn-2\n",
    "sns.lineplot(x=history_cnn_2.epoch, y=history_cnn_2.history['accuracy'], color='purple', label='cnn2 Train Accuracy')\n",
    "sns.lineplot(x=history_cnn_2.epoch, y=history_cnn_2.history['val_accuracy'], color='magenta', label='cnn2 Val Accuracy')\n",
    "\n",
    "plt.title('Accuracy on train vs validation')\n",
    "plt.legend(loc='best')\n",
    "plt.xlabel('epoch')\n",
    "plt.ylabel('accuracy')\n",
    "\n",
    "plt.show()"
   ]
  },
  {
   "cell_type": "markdown",
   "metadata": {},
   "source": [
    "#### 2.1 Evaluate performance of the CNN-1 model on the test set"
   ]
  },
  {
   "cell_type": "code",
   "execution_count": 191,
   "metadata": {},
   "outputs": [
    {
     "name": "stdout",
     "output_type": "stream",
     "text": [
      "metrics on validation set\n",
      "29/29 [==============================] - 4s 155ms/step - loss: 0.0614 - accuracy: 0.9789 - precision: 0.9939 - recall: 0.9682 - auc: 0.9966\n",
      "[0.06137869134545326, 0.978935718536377, 0.9938775300979614, 0.9681908488273621, 0.996634304523468]\n",
      "metrics on test set\n",
      "34/34 [==============================] - 4s 112ms/step - loss: 0.5180 - accuracy: 0.8821 - precision: 0.8484 - recall: 0.9797 - auc: 0.9451\n",
      "[0.5180197954177856, 0.8820754885673523, 0.848443865776062, 0.979687511920929, 0.9451283812522888]\n",
      "number of train labels  5109\n",
      "number of validation labels  902\n",
      "number of test labels  1060\n"
     ]
    }
   ],
   "source": [
    "print(\"metrics on validation set\")\n",
    "validation_accu = cnn_1.evaluate(validation_set)\n",
    "print(validation_accu)\n",
    "\n",
    "print(\"metrics on test set\")\n",
    "test_accu = cnn_1.evaluate(test_set)\n",
    "print(test_accu)\n",
    "\n",
    "# get the ground truth of your data. \n",
    "train_labels = train_set.classes \n",
    "validation_labels = validation_set.classes\n",
    "test_labels = test_set.classes\n",
    "print(\"number of train labels \",len(train_labels))\n",
    "print(\"number of validation labels \",len(validation_labels))\n",
    "print(\"number of test labels \",len(test_labels))"
   ]
  },
  {
   "cell_type": "code",
   "execution_count": null,
   "metadata": {},
   "outputs": [],
   "source": []
  },
  {
   "cell_type": "code",
   "execution_count": 192,
   "metadata": {},
   "outputs": [
    {
     "name": "stdout",
     "output_type": "stream",
     "text": [
      "predicting...\n",
      "34/34 [==============================] - 4s 111ms/step\n",
      "number of predictions  1060\n",
      "classification report\n",
      "              precision    recall  f1-score   support\n",
      "\n",
      "           0       0.96      0.73      0.83       420\n",
      "           1       0.85      0.98      0.91       640\n",
      "\n",
      "    accuracy                           0.88      1060\n",
      "   macro avg       0.90      0.86      0.87      1060\n",
      "weighted avg       0.89      0.88      0.88      1060\n",
      "\n",
      "confusion matrix\n",
      "[[308 112]\n",
      " [ 13 627]]\n"
     ]
    },
    {
     "data": {
      "image/png": "[encoded data removed]",
      "text/plain": [
       "<Figure size 360x360 with 1 Axes>"
      ]
     },
     "metadata": {
      "needs_background": "light"
     },
     "output_type": "display_data"
    }
   ],
   "source": [
    "# predict the probability distribution of the data\n",
    "\n",
    "# WARNING:tensorflow:From <ipython-input-72-9913226a8330>:3: Sequential.predict_classes (from tensorflow.python.keras.engine.sequential) is deprecated and will be removed after 2021-01-01.\n",
    "# Instructions for updating:\n",
    "# Please use instead:* \n",
    "# `np.argmax(model.predict(x), axis=-1)`,   if your model does multi-class classification   (e.g. if it uses a `softmax` last-layer activation).* \n",
    "# `(model.predict(x) > 0.5).astype(\"int32\")`,   if your model does binary classification   (e.g. if it uses a `sigmoid` last-layer activation).\n",
    "\n",
    "print(\"predicting...\")\n",
    "predictions_cnn_1 = (cnn_1.predict(test_set, verbose=1) > 0.5).astype(\"int32\")\n",
    "print(\"number of predictions \", len(predictions_cnn_1))\n",
    "\n",
    "# get the class with highest probability for each sample\n",
    "#y_pred = (predictions > 0.5).astype(\"int32\")\n",
    "\n",
    "# get the classification report\n",
    "print(\"classification report\")\n",
    "print(classification_report(test_labels, predictions_cnn_1))\n",
    "#print(classification_report(train_set.labels, predictions, target_names = ['Pneumonia (Class 0)','Normal (Class 1)']))\n",
    "\n",
    "CM = confusion_matrix(test_set.classes, predictions_cnn_1)\n",
    "print(\"confusion matrix\")\n",
    "print(CM)\n",
    "\n",
    "fig, ax = plot_confusion_matrix(conf_mat=CM ,  figsize=(5, 5))\n",
    "plt.show()"
   ]
  },
  {
   "cell_type": "code",
   "execution_count": null,
   "metadata": {},
   "outputs": [],
   "source": [
    "fpr, tpr, thresholds = metrics.roc_curve(y_test, prob)\n",
    "auc = metrics.roc_auc_score(y_test, pred_svm)\n",
    "roc['svm'] = [fpr,tpr,auc]\n",
    "\n",
    "plt.plot(fpr, tpr, label='%s ROC (area = %0.2f)' % ('svm', auc))\n",
    "plt.legend(loc=0)"
   ]
  },
  {
   "cell_type": "markdown",
   "metadata": {},
   "source": [
    "#### 2.2 Evaluate performance of CNN-2 model on Test Set"
   ]
  },
  {
   "cell_type": "code",
   "execution_count": 194,
   "metadata": {},
   "outputs": [
    {
     "name": "stdout",
     "output_type": "stream",
     "text": [
      "cnn2 metrics on validation set\n",
      "29/29 [==============================] - 4s 154ms/step - loss: 0.0432 - accuracy: 0.9834 - precision: 0.9980 - recall: 0.9722 - auc: 0.9991\n",
      "[0.04318968951702118, 0.983370304107666, 0.9979591965675354, 0.9721670150756836, 0.9990782141685486]\n",
      "cnn2 metrics on test set\n",
      "34/34 [==============================] - 4s 111ms/step - loss: 0.4655 - accuracy: 0.8906 - precision: 0.8541 - recall: 0.9875 - auc: 0.9473\n",
      "[0.4654683768749237, 0.8905660510063171, 0.8540540337562561, 0.987500011920929, 0.9472843408584595]\n",
      "number of train labels  5109\n",
      "number of validation labels  902\n",
      "number of test labels  1060\n"
     ]
    }
   ],
   "source": [
    "print(\"cnn2 metrics on validation set\")\n",
    "validation_accu = cnn_2.evaluate(validation_set)\n",
    "print(validation_accu)\n",
    "\n",
    "print(\"cnn2 metrics on test set\")\n",
    "test_accu = cnn_2.evaluate(test_set)\n",
    "print(test_accu)\n",
    "\n",
    "# get the ground truth of your data. \n",
    "train_labels = train_set.classes \n",
    "validation_labels = validation_set.classes\n",
    "test_labels = test_set.classes\n",
    "print(\"number of train labels \",len(train_labels))\n",
    "print(\"number of validation labels \",len(validation_labels))\n",
    "print(\"number of test labels \",len(test_labels))"
   ]
  },
  {
   "cell_type": "code",
   "execution_count": 193,
   "metadata": {},
   "outputs": [
    {
     "name": "stdout",
     "output_type": "stream",
     "text": [
      "predicting...\n",
      "34/34 [==============================] - 4s 113ms/step\n",
      "number of predictions  1060\n",
      "classification report\n",
      "              precision    recall  f1-score   support\n",
      "\n",
      "           0       0.97      0.74      0.84       420\n",
      "           1       0.85      0.99      0.92       640\n",
      "\n",
      "    accuracy                           0.89      1060\n",
      "   macro avg       0.91      0.87      0.88      1060\n",
      "weighted avg       0.90      0.89      0.89      1060\n",
      "\n",
      "confusion matrix\n",
      "[[312 108]\n",
      " [  8 632]]\n"
     ]
    },
    {
     "data": {
      "image/png": "[encoded data removed]",
      "text/plain": [
       "<Figure size 360x360 with 1 Axes>"
      ]
     },
     "metadata": {
      "needs_background": "light"
     },
     "output_type": "display_data"
    }
   ],
   "source": [
    "print(\"predicting...\")\n",
    "predictions_cnn_2 = (cnn_2.predict(test_set, verbose=1) > 0.5).astype(\"int32\")\n",
    "print(\"number of predictions \", len(predictions_cnn_2))\n",
    "\n",
    "# get the class with highest probability for each sample\n",
    "#y_pred = (predictions > 0.5).astype(\"int32\")\n",
    "\n",
    "# get the classification report\n",
    "print(\"classification report\")\n",
    "print(classification_report(test_labels, predictions_cnn_2))\n",
    "#print(classification_report(train_set.labels, predictions, target_names = ['Pneumonia (Class 0)','Normal (Class 1)']))\n",
    "\n",
    "CM = confusion_matrix(test_set.classes, predictions_cnn_2)\n",
    "print(\"confusion matrix\")\n",
    "print(CM)\n",
    "\n",
    "fig, ax = plot_confusion_matrix(conf_mat=CM ,  figsize=(5, 5))\n",
    "plt.show()"
   ]
  },
  {
   "cell_type": "code",
   "execution_count": null,
   "metadata": {},
   "outputs": [],
   "source": []
  },
  {
   "cell_type": "code",
   "execution_count": null,
   "metadata": {},
   "outputs": [],
   "source": []
  },
  {
   "cell_type": "code",
   "execution_count": null,
   "metadata": {},
   "outputs": [],
   "source": []
  },
  {
   "cell_type": "code",
   "execution_count": null,
   "metadata": {},
   "outputs": [],
   "source": []
  }
 ],
 "metadata": {
  "kernelspec": {
   "display_name": "Python 3",
   "language": "python",
   "name": "python3"
  },
  "language_info": {
   "codemirror_mode": {
    "name": "ipython",
    "version": 3
   },
   "file_extension": ".py",
   "mimetype": "text/x-python",
   "name": "python",
   "nbconvert_exporter": "python",
   "pygments_lexer": "ipython3",
   "version": "3.6.8"
  }
 },
 "nbformat": 4,
 "nbformat_minor": 4
}
