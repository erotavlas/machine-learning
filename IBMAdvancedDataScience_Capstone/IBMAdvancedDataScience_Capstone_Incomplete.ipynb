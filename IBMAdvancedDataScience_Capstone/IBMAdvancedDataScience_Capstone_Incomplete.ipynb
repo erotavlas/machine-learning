{
 "cells": [
  {
   "cell_type": "code",
   "execution_count": 1,
   "metadata": {},
   "outputs": [],
   "source": [
    "from IPython.display import Image"
   ]
  },
  {
   "cell_type": "markdown",
   "metadata": {},
   "source": [
    "### IBM Advanced Data Science Capstone Project\n",
    "#### Salvatore Salpietro\n",
    "\n",
    "<hr/>\n",
    "\n",
    "###### Purpose\n",
    "\n",
    "The scope pf this project is to build a classifier to detect diseased lung from chest x-ray images, where the disease is pneumonia.\n",
    "\n",
    "###### What is pneumonia\n",
    "\n",
    "Pneumonia is an inflammatory lung disease that affects the small air sacs called alvioli.  \n",
    "\n",
    "<img src=\"https://github.com/erotavlas/machine-learning/raw/main/IBMAdvancedDataScience_Capstone/images/pneumonia.jpg\" width=350 />\n",
    "\n",
    "###### Types\n",
    "There are three main classification of pneumonia by location in the lungs, these are,\n",
    "\n",
    "- Lobar and Multilobar pneumonia is an infection that involves one or more lobes, or section, of a lung. Lobar pneumonia is often due to Streptococcus pneumoniae (though Klebsiella pneumoniae is also possible.) Multilobar pneumonia involves more than one lobe, and it often causes a more severe illness.\n",
    "- Bronchial pneumonia affects the lungs in patches around the tubes (bronchi or bronchioles).\n",
    "- Interstitial pneumonia involves the areas in between the alveoli, and it may be called \"interstitial pneumonitis.\" It is more likely to be caused by viruses or by atypical bacteria.\n",
    "\n",
    "<img src=\"https://github.com/erotavlas/machine-learning/raw/main/IBMAdvancedDataScience_Capstone/images/types-of-pneumonia.jpeg\" width=350 />\n",
    "\n",
    "###### Symptoms\n",
    "People with this condition typically exhibit the following symptoms of variable severity \n",
    "- cough \n",
    "- chest pain \n",
    "- fever \n",
    "- difficulty breathing. \n",
    "\n",
    "###### Causes\n",
    "The causes are mainly due to viruses and bacteris but can also be from fungii, parasites or noninfectious causes.  \n",
    "\n",
    "<img src=\"https://github.com/erotavlas/machine-learning/raw/main/IBMAdvancedDataScience_Capstone/images/causes.jpg\" width=500>\n",
    "\n",
    "###### Diagnosis\n",
    "In order to verify a case of pneumonia in a patient, doctors rely on a combination of methods including observing physical signs, blood tests, and often a chest X-ray.  The chest X-ray is useful not only for diagnosis, but also to determine the extent of disease in the lungs.  \n",
    "\n",
    "###### How does a doctor determine if a lung is diseased or not from chest X-rays?  \n",
    "A chest X-ray is a radiology test that involves exposing the chest briefly to radiation to produce an image of the chest and the internal organs of the chest. An X-ray film is positioned against the body opposite the camera, which sends out a very small dose of a radiation beam. As the radiation penetrates the body, it is absorbed in varying amounts by different body tissues depending on the tissue's composition of air, water, blood, bone, or muscle. The X-ray image records these difference in penetration of the X-ray beam to produce an image of body tissue structures. The white shadows on chest X-ray represent areas where the beam is blocked by more dense or solid tissues, such as bone or heart.  The darker shadows on the chest X-ray represent areas where the x-ray beam penetrates more easily such as in air filled tissues like the lungs. \n",
    "\n",
    "Here is an example of chest x-rays for normal lung vs lung affected by pneumonia.\n",
    "<img src=\"https://github.com/erotavlas/machine-learning/raw/main/IBMAdvancedDataScience_Capstone/images/normal_vs_pneumonia.png\" width=500 />\n",
    "\n",
    "Doctors look for lighter areas in the lung indicating the precense of inflammation and fluid buildup.  This causes areas of the lung to become lighter on the x-ray image compared to the darker air filled areas of healthy lungs.\n",
    "\n",
    "###### Can AI assist in this process?\n",
    "In this project we will attempt to create a machine learning model that will effectively automate what the doctor is doing when they screen a patient for lung disease, in this case the disease is pneumonia. By training the model on a set of healthy and diseased lung X-ray images, it will be able to distinguish between the two types."
   ]
  },
  {
   "cell_type": "markdown",
   "metadata": {},
   "source": [
    "### Importing libraries"
   ]
  },
  {
   "cell_type": "code",
   "execution_count": 2,
   "metadata": {},
   "outputs": [],
   "source": [
    "from skimage import io # allows to read images\n",
    "from matplotlib import pyplot\n",
    "from pathlib import Path\n",
    "from natsort import natsorted, ns # natural sorting\n",
    "from sklearn.metrics import classification_report, confusion_matrix\n",
    "from mlxtend.plotting import plot_confusion_matrix\n",
    "\n",
    "import pandas as pd\n",
    "import statistics\n",
    "import random\n",
    "import os\n",
    "import seaborn as sns\n",
    "\n",
    "import tensorflow as tf\n",
    "from keras.preprocessing.image import ImageDataGenerator"
   ]
  },
  {
   "cell_type": "code",
   "execution_count": 3,
   "metadata": {},
   "outputs": [
    {
     "name": "stdout",
     "output_type": "stream",
     "text": [
      "2.4.0\n"
     ]
    }
   ],
   "source": [
    "print(tf.__version__)"
   ]
  },
  {
   "cell_type": "markdown",
   "metadata": {},
   "source": [
    "### Data analysis step\n",
    "\n",
    "Determine the characteristics of the data and statistics "
   ]
  },
  {
   "cell_type": "markdown",
   "metadata": {},
   "source": [
    "#### 1. Data source\n",
    "\n",
    "Data was obtained from the following source \n",
    "https://data.mendeley.com/datasets/rscbjbr9sj/3\n",
    "\n",
    "We are provided with an archive file containing a set of chest x-rays.  Images are provided in two separate folders, test and train.  Within those folders images are separated into two classes - normal and pneumonia.  "
   ]
  },
  {
   "cell_type": "markdown",
   "metadata": {},
   "source": [
    "```text\n",
    "chest-xray\n",
    "|__test\n",
    "|  |__NORMAL\n",
    "|  |__PNEUMONIA\n",
    "|\n",
    "|__train\n",
    "   |__NORMAL\n",
    "   |__PNEUMONIA```"
   ]
  },
  {
   "cell_type": "markdown",
   "metadata": {},
   "source": [
    "#### 2. Characteristics of files"
   ]
  },
  {
   "cell_type": "code",
   "execution_count": 4,
   "metadata": {},
   "outputs": [],
   "source": [
    "sizes = [] # sizes in kb\n",
    "all_extensions = set([])\n",
    "filenum = []\n",
    "count = 0\n",
    "\n",
    "test_images = []\n",
    "test_labels = []\n",
    "\n",
    "train_images = []\n",
    "train_labels = []\n",
    "\n",
    "# training set folder\n",
    "for root, dirs, files in os.walk(\"E:\\COURSES\\Advanced Data Science With IBM\\Advanced Data Science Capstone\\\\assignment\\data\\chest_xray\\\\train\"):\n",
    "    #print('dirs', dirs)\n",
    "    for name in files:\n",
    "        #print('name', name)\n",
    "        #print(os.path.basename(root))\n",
    "        \n",
    "        file_name, file_extension = os.path.splitext(name)\n",
    "        all_extensions.add(file_extension)\n",
    "        \n",
    "        stats = os.stat(os.path.join(root, name))\n",
    "        count = count + 1\n",
    "        \n",
    "        sizes.append(stats.st_size/1000) \n",
    "        \n",
    "        #if(stats.st_size/1000 < 12):\n",
    "        #    discarded.append(os.path.join(root, name))\n",
    "        #else:\n",
    "        train_images.append(os.path.join(root, name))\n",
    "        train_labels.append(os.path.basename(root))\n",
    "        \n",
    "        filenum.append(count)\n",
    "\n",
    "# test set folder\n",
    "for root, dirs, files in os.walk(\"E:\\COURSES\\Advanced Data Science With IBM\\Advanced Data Science Capstone\\\\assignment\\data\\chest_xray\\\\test\"):\n",
    "    #print('dirs', dirs)\n",
    "    for name in files:\n",
    "        #print('name', name)\n",
    "        #print(os.path.basename(root))\n",
    "        \n",
    "        file_name, file_extension = os.path.splitext(name)\n",
    "        all_extensions.add(file_extension)\n",
    "\n",
    "        stats = os.stat(os.path.join(root, name))\n",
    "        count = count + 1\n",
    "        \n",
    "        sizes.append(stats.st_size/1000)\n",
    "        \n",
    "        #if(stats.st_size/1000 < 12):\n",
    "        #    discarded.append(os.path.join(root, name))\n",
    "        #else:\n",
    "        test_images.append(os.path.join(root, name))\n",
    "        test_labels.append(os.path.basename(root))\n",
    "        \n",
    "        filenum.append(count)"
   ]
  },
  {
   "cell_type": "markdown",
   "metadata": {},
   "source": [
    "##### 2.1. File names"
   ]
  },
  {
   "cell_type": "markdown",
   "metadata": {},
   "source": [
    "File names for images of dieases lungs contain a unique anonymized person number as well as the text 'bacteris' or 'virus' indicating if the pnemonia was caused by a virus or bacteris.  Example person426_virus_873\n",
    "\n",
    "File names for images of normal lungs contain the work 'NORMAL'. Example - NORMAL2-IM-1250-0001"
   ]
  },
  {
   "cell_type": "markdown",
   "metadata": {},
   "source": [
    "##### 2.2. File extensions"
   ]
  },
  {
   "cell_type": "code",
   "execution_count": 5,
   "metadata": {},
   "outputs": [
    {
     "name": "stdout",
     "output_type": "stream",
     "text": [
      "{'.png', '.jpeg'}\n"
     ]
    }
   ],
   "source": [
    "print(all_extensions)"
   ]
  },
  {
   "cell_type": "markdown",
   "metadata": {},
   "source": [
    "Files are all the same type - jpeg"
   ]
  },
  {
   "cell_type": "markdown",
   "metadata": {},
   "source": [
    "##### 2.3. Total number of image files"
   ]
  },
  {
   "cell_type": "code",
   "execution_count": 6,
   "metadata": {},
   "outputs": [],
   "source": [
    "total_image_files = len(train_images) + len(test_images)"
   ]
  },
  {
   "cell_type": "code",
   "execution_count": 7,
   "metadata": {},
   "outputs": [
    {
     "name": "stdout",
     "output_type": "stream",
     "text": [
      "7197\n"
     ]
    }
   ],
   "source": [
    "print(total_image_files)"
   ]
  },
  {
   "cell_type": "markdown",
   "metadata": {},
   "source": [
    "There are a total of 5856 files across both folders (test and train)"
   ]
  },
  {
   "cell_type": "markdown",
   "metadata": {},
   "source": [
    "##### 2.4. Distribution of image files in test and train folders"
   ]
  },
  {
   "cell_type": "code",
   "execution_count": 8,
   "metadata": {},
   "outputs": [
    {
     "data": {
      "text/plain": [
       "624"
      ]
     },
     "execution_count": 8,
     "metadata": {},
     "output_type": "execute_result"
    }
   ],
   "source": [
    "len(test_images)"
   ]
  },
  {
   "cell_type": "code",
   "execution_count": 9,
   "metadata": {},
   "outputs": [
    {
     "data": {
      "text/plain": [
       "6573"
      ]
     },
     "execution_count": 9,
     "metadata": {},
     "output_type": "execute_result"
    }
   ],
   "source": [
    "len(train_images)"
   ]
  },
  {
   "cell_type": "markdown",
   "metadata": {},
   "source": [
    "Train / Test split is about 89.4 / 10.6. "
   ]
  },
  {
   "cell_type": "markdown",
   "metadata": {},
   "source": [
    "##### 2.5 Class distribution for training set"
   ]
  },
  {
   "cell_type": "code",
   "execution_count": 10,
   "metadata": {},
   "outputs": [],
   "source": [
    "pneumonia = [i for i in train_labels if i == 'PNEUMONIA']\n",
    "normal = [i for i in train_labels if i == 'NORMAL']"
   ]
  },
  {
   "cell_type": "code",
   "execution_count": 11,
   "metadata": {},
   "outputs": [
    {
     "data": {
      "text/plain": [
       "2690"
      ]
     },
     "execution_count": 11,
     "metadata": {},
     "output_type": "execute_result"
    }
   ],
   "source": [
    "len(normal)"
   ]
  },
  {
   "cell_type": "code",
   "execution_count": 12,
   "metadata": {},
   "outputs": [
    {
     "data": {
      "text/plain": [
       "3883"
      ]
     },
     "execution_count": 12,
     "metadata": {},
     "output_type": "execute_result"
    }
   ],
   "source": [
    "len(pneumonia)"
   ]
  },
  {
   "cell_type": "code",
   "execution_count": 13,
   "metadata": {},
   "outputs": [
    {
     "name": "stdout",
     "output_type": "stream",
     "text": [
      "There are  1.4434944237918215  more pneumonia images than normal images in the training set\n"
     ]
    }
   ],
   "source": [
    "print('There are ', len(pneumonia)/len(normal), ' more pneumonia images than normal images in the training set')"
   ]
  },
  {
   "cell_type": "markdown",
   "metadata": {},
   "source": [
    "#### 4. Size of the images"
   ]
  },
  {
   "cell_type": "code",
   "execution_count": 14,
   "metadata": {},
   "outputs": [
    {
     "data": {
      "image/png": "[encoded data removed]",
      "text/plain": [
       "<Figure size 432x288 with 1 Axes>"
      ]
     },
     "metadata": {
      "needs_background": "light"
     },
     "output_type": "display_data"
    }
   ],
   "source": [
    "import matplotlib.pyplot as plt\n",
    "\n",
    "b = [i for i in range(0,2500,10)]\n",
    "\n",
    "plt.xlabel('file size (kb)')\n",
    "plt.ylabel('# of files')\n",
    "plt.hist(sizes, bins=b,  color='#184A45FF')\n",
    "plt.show()"
   ]
  },
  {
   "cell_type": "markdown",
   "metadata": {},
   "source": [
    "Above is a histogram plot to show the ditribution of file sizes.  Most of the files are of size less than 1000 kb."
   ]
  },
  {
   "cell_type": "code",
   "execution_count": 15,
   "metadata": {},
   "outputs": [
    {
     "name": "stdout",
     "output_type": "stream",
     "text": [
      "256.44553591774263\n"
     ]
    }
   ],
   "source": [
    "avg = sum(sizes)/len(sizes)\n",
    "print(avg)"
   ]
  },
  {
   "cell_type": "code",
   "execution_count": 16,
   "metadata": {},
   "outputs": [
    {
     "name": "stdout",
     "output_type": "stream",
     "text": [
      "125.716\n"
     ]
    }
   ],
   "source": [
    "print(statistics.median(sizes))"
   ]
  },
  {
   "cell_type": "code",
   "execution_count": 17,
   "metadata": {},
   "outputs": [
    {
     "name": "stdout",
     "output_type": "stream",
     "text": [
      "5.441\n"
     ]
    }
   ],
   "source": [
    "print(min(sizes))"
   ]
  },
  {
   "cell_type": "code",
   "execution_count": 18,
   "metadata": {},
   "outputs": [
    {
     "name": "stdout",
     "output_type": "stream",
     "text": [
      "2414.342\n"
     ]
    }
   ],
   "source": [
    "print(max(sizes))"
   ]
  },
  {
   "cell_type": "markdown",
   "metadata": {},
   "source": [
    "The mean file size is 211.148\n",
    "\n",
    "The median file size is 95.839\n",
    "\n",
    "The minimum file size observed is 5.441 kb\n",
    "\n",
    "The maximum file size observed is 2412.342 kb"
   ]
  },
  {
   "cell_type": "markdown",
   "metadata": {},
   "source": [
    "Sonce the file sizes are not all the same, some examination of the really small ans really large image files revealed that the really small images aspect ratio did not match those of the majority of images (i.e. they were longer in width than height and did not reveal the full chest/lung view).  These images might be considered outliers.  Further examination of the images below will attempt to exclude such outliers.  "
   ]
  },
  {
   "cell_type": "markdown",
   "metadata": {},
   "source": [
    "#### 4. Aspect ratio of the images"
   ]
  },
  {
   "cell_type": "markdown",
   "metadata": {},
   "source": [
    "The aspect ratio of an image is the ratio of its width to its height.\n",
    "The formula is width / height.\n",
    "\n",
    "Not all the images are of the same aspect ratio. On examining some of the images of smaller size, some did not show the full view of the chest and lungs.  We will remove these images.\n",
    "\n",
    "If the shape of the image is longer in the x axis than it is in the y axis by certain threshold, then discard those images as they only show a section of the full chest image.\n",
    "\n",
    "Choose something x/y must be less than or equal to 2 to constitute an acceptible image. (i.e. if the width is two or more times longer than the height then discard image)"
   ]
  },
  {
   "cell_type": "code",
   "execution_count": 19,
   "metadata": {},
   "outputs": [],
   "source": [
    "temp_train_images = []\n",
    "temp_train_labels = []\n",
    "\n",
    "temp_test_images = []\n",
    "temp_test_labels = []\n",
    "\n",
    "discarded = []\n",
    "\n",
    "for i in range(len(train_images)):\n",
    "    xray = io.imread(train_images[i])\n",
    "    y = xray.shape[0]\n",
    "    x = xray.shape[1]\n",
    "    ratio = x/y\n",
    "    if ratio <= 2:\n",
    "        temp_train_images.append(train_images[i])\n",
    "        temp_train_labels.append(train_labels[i])\n",
    "    else:\n",
    "        discarded.append(train_images[i])\n",
    "        \n",
    "for i in range(len(test_images)):\n",
    "    xray = io.imread(test_images[i])\n",
    "    y = xray.shape[0]\n",
    "    x = xray.shape[1]\n",
    "    ratio = x/y\n",
    "    if ratio <= 2:\n",
    "        temp_test_images.append(test_images[i])\n",
    "        temp_test_labels.append(test_labels[i])\n",
    "    else:\n",
    "        discarded.append(test_images[i])"
   ]
  },
  {
   "cell_type": "code",
   "execution_count": 20,
   "metadata": {},
   "outputs": [
    {
     "name": "stdout",
     "output_type": "stream",
     "text": [
      "updated train set, labels  6457 6457\n",
      "updated test set, labels  614 614\n",
      "discarded images  126\n"
     ]
    }
   ],
   "source": [
    "print('updated train set, labels ', len(temp_train_images), len(temp_train_labels))\n",
    "print('updated test set, labels ', len(temp_test_images), len(temp_test_labels))\n",
    "print('discarded images ', len(discarded))"
   ]
  },
  {
   "cell_type": "markdown",
   "metadata": {},
   "source": [
    "Compare a discarded image to a remaining image in train set."
   ]
  },
  {
   "cell_type": "code",
   "execution_count": 21,
   "metadata": {},
   "outputs": [
    {
     "data": {
      "image/png": "[encoded data removed]",
      "text/plain": [
       "<Figure size 432x288 with 1 Axes>"
      ]
     },
     "metadata": {
      "needs_background": "light"
     },
     "output_type": "display_data"
    },
    {
     "name": "stdout",
     "output_type": "stream",
     "text": [
      "(229, 549, 3)\n"
     ]
    }
   ],
   "source": [
    "import matplotlib.pyplot as plt\n",
    "im = io.imread(discarded[35])\n",
    "imgplot = plt.imshow(im, cmap=\"gray\")\n",
    "plt.show()\n",
    "print(im.shape)"
   ]
  },
  {
   "cell_type": "code",
   "execution_count": 22,
   "metadata": {},
   "outputs": [
    {
     "data": {
      "image/png": "[encoded data removed]",
      "text/plain": [
       "<Figure size 432x288 with 1 Axes>"
      ]
     },
     "metadata": {
      "needs_background": "light"
     },
     "output_type": "display_data"
    },
    {
     "name": "stdout",
     "output_type": "stream",
     "text": [
      "(1152, 1422)\n"
     ]
    }
   ],
   "source": [
    "im = io.imread(temp_train_images[1])\n",
    "imgplot = plt.imshow(im, cmap=\"gray\")\n",
    "plt.show()\n",
    "print(im.shape)"
   ]
  },
  {
   "cell_type": "markdown",
   "metadata": {},
   "source": [
    "#### 4. Redistribute data to a train/validation / test split of 85/15/15\n",
    "\n",
    "Now that the outliers have been removed, we can redistribute the data set to add some more images to the test set to bring the value up to 15%, and then split the remaining test set into a test and validation split of 85/15.\n",
    "\n",
    "We won't touch the images in the test set, rather we will simply move some of the ones from the train set into the test set.\n",
    "\n",
    "Using 15% instead of 20% because we son't have that many images to work with."
   ]
  },
  {
   "cell_type": "code",
   "execution_count": 23,
   "metadata": {},
   "outputs": [
    {
     "name": "stdout",
     "output_type": "stream",
     "text": [
      "total images =  7071\n",
      "percent test  8.683354546740206\n",
      "percent train  91.3166454532598\n"
     ]
    }
   ],
   "source": [
    "# new ratios after removing some outliers\n",
    "\n",
    "total = len(temp_train_images) + len(temp_test_images)\n",
    "print('total images = ', total)\n",
    "\n",
    "percent_test = len(temp_test_images)/total\n",
    "print('percent test ', percent_test*100)\n",
    "\n",
    "percent_train = len(temp_train_images)/total\n",
    "print('percent train ', percent_train*100)"
   ]
  },
  {
   "cell_type": "code",
   "execution_count": 24,
   "metadata": {},
   "outputs": [
    {
     "name": "stdout",
     "output_type": "stream",
     "text": [
      "1060.6499999999999\n",
      "614\n",
      "need to add an additional  446.64999999999986  images\n"
     ]
    }
   ],
   "source": [
    "# calculate number of images to move from train set to test set\n",
    "\n",
    "needed = 0.15*total\n",
    "print(needed)\n",
    "\n",
    "have = len(temp_test_images)\n",
    "print(have)\n",
    "\n",
    "difference = needed - have\n",
    "print(\"need to add an additional \", difference, \" images\")"
   ]
  },
  {
   "cell_type": "code",
   "execution_count": 25,
   "metadata": {},
   "outputs": [],
   "source": [
    "# convert to pandas dataframe\n",
    "\n",
    "# train set\n",
    "data_train = {'file':temp_train_images,'label':temp_train_labels}\n",
    "train_df = pd.DataFrame(data_train)\n",
    "\n",
    "# test set\n",
    "data_test = {'file':temp_test_images,'label':temp_test_labels}\n",
    "test_df = pd.DataFrame(data_test)"
   ]
  },
  {
   "cell_type": "code",
   "execution_count": 26,
   "metadata": {},
   "outputs": [
    {
     "data": {
      "text/html": [
       "<div>\n",
       "<style scoped>\n",
       "    .dataframe tbody tr th:only-of-type {\n",
       "        vertical-align: middle;\n",
       "    }\n",
       "\n",
       "    .dataframe tbody tr th {\n",
       "        vertical-align: top;\n",
       "    }\n",
       "\n",
       "    .dataframe thead th {\n",
       "        text-align: right;\n",
       "    }\n",
       "</style>\n",
       "<table border=\"1\" class=\"dataframe\">\n",
       "  <thead>\n",
       "    <tr style=\"text-align: right;\">\n",
       "      <th></th>\n",
       "      <th>file</th>\n",
       "      <th>label</th>\n",
       "    </tr>\n",
       "  </thead>\n",
       "  <tbody>\n",
       "    <tr>\n",
       "      <th>0</th>\n",
       "      <td>E:\\COURSES\\Advanced Data Science With IBM\\Adva...</td>\n",
       "      <td>NORMAL</td>\n",
       "    </tr>\n",
       "    <tr>\n",
       "      <th>1</th>\n",
       "      <td>E:\\COURSES\\Advanced Data Science With IBM\\Adva...</td>\n",
       "      <td>NORMAL</td>\n",
       "    </tr>\n",
       "    <tr>\n",
       "      <th>2</th>\n",
       "      <td>E:\\COURSES\\Advanced Data Science With IBM\\Adva...</td>\n",
       "      <td>NORMAL</td>\n",
       "    </tr>\n",
       "    <tr>\n",
       "      <th>3</th>\n",
       "      <td>E:\\COURSES\\Advanced Data Science With IBM\\Adva...</td>\n",
       "      <td>NORMAL</td>\n",
       "    </tr>\n",
       "    <tr>\n",
       "      <th>4</th>\n",
       "      <td>E:\\COURSES\\Advanced Data Science With IBM\\Adva...</td>\n",
       "      <td>NORMAL</td>\n",
       "    </tr>\n",
       "    <tr>\n",
       "      <th>...</th>\n",
       "      <td>...</td>\n",
       "      <td>...</td>\n",
       "    </tr>\n",
       "    <tr>\n",
       "      <th>6452</th>\n",
       "      <td>E:\\COURSES\\Advanced Data Science With IBM\\Adva...</td>\n",
       "      <td>PNEUMONIA</td>\n",
       "    </tr>\n",
       "    <tr>\n",
       "      <th>6453</th>\n",
       "      <td>E:\\COURSES\\Advanced Data Science With IBM\\Adva...</td>\n",
       "      <td>PNEUMONIA</td>\n",
       "    </tr>\n",
       "    <tr>\n",
       "      <th>6454</th>\n",
       "      <td>E:\\COURSES\\Advanced Data Science With IBM\\Adva...</td>\n",
       "      <td>PNEUMONIA</td>\n",
       "    </tr>\n",
       "    <tr>\n",
       "      <th>6455</th>\n",
       "      <td>E:\\COURSES\\Advanced Data Science With IBM\\Adva...</td>\n",
       "      <td>PNEUMONIA</td>\n",
       "    </tr>\n",
       "    <tr>\n",
       "      <th>6456</th>\n",
       "      <td>E:\\COURSES\\Advanced Data Science With IBM\\Adva...</td>\n",
       "      <td>PNEUMONIA</td>\n",
       "    </tr>\n",
       "  </tbody>\n",
       "</table>\n",
       "<p>6457 rows × 2 columns</p>\n",
       "</div>"
      ],
      "text/plain": [
       "                                                   file      label\n",
       "0     E:\\COURSES\\Advanced Data Science With IBM\\Adva...     NORMAL\n",
       "1     E:\\COURSES\\Advanced Data Science With IBM\\Adva...     NORMAL\n",
       "2     E:\\COURSES\\Advanced Data Science With IBM\\Adva...     NORMAL\n",
       "3     E:\\COURSES\\Advanced Data Science With IBM\\Adva...     NORMAL\n",
       "4     E:\\COURSES\\Advanced Data Science With IBM\\Adva...     NORMAL\n",
       "...                                                 ...        ...\n",
       "6452  E:\\COURSES\\Advanced Data Science With IBM\\Adva...  PNEUMONIA\n",
       "6453  E:\\COURSES\\Advanced Data Science With IBM\\Adva...  PNEUMONIA\n",
       "6454  E:\\COURSES\\Advanced Data Science With IBM\\Adva...  PNEUMONIA\n",
       "6455  E:\\COURSES\\Advanced Data Science With IBM\\Adva...  PNEUMONIA\n",
       "6456  E:\\COURSES\\Advanced Data Science With IBM\\Adva...  PNEUMONIA\n",
       "\n",
       "[6457 rows x 2 columns]"
      ]
     },
     "execution_count": 26,
     "metadata": {},
     "output_type": "execute_result"
    }
   ],
   "source": [
    "train_df"
   ]
  },
  {
   "cell_type": "code",
   "execution_count": 27,
   "metadata": {},
   "outputs": [
    {
     "data": {
      "text/plain": [
       "('E:\\\\COURSES\\\\Advanced Data Science With IBM\\\\Advanced Data Science Capstone\\\\assignment\\\\data\\\\chest_xray\\\\train\\\\NORMAL\\\\NORMAL2-IM-0460-0001.jpeg',\n",
       " 'NORMAL')"
      ]
     },
     "execution_count": 27,
     "metadata": {},
     "output_type": "execute_result"
    }
   ],
   "source": [
    "train_df['file'][2000], train_df['label'][2000]"
   ]
  },
  {
   "cell_type": "code",
   "execution_count": 28,
   "metadata": {},
   "outputs": [
    {
     "data": {
      "text/plain": [
       "('E:\\\\COURSES\\\\Advanced Data Science With IBM\\\\Advanced Data Science Capstone\\\\assignment\\\\data\\\\chest_xray\\\\test\\\\NORMAL\\\\NORMAL2-IM-0340-0001.jpeg',\n",
       " 'NORMAL')"
      ]
     },
     "execution_count": 28,
     "metadata": {},
     "output_type": "execute_result"
    }
   ],
   "source": [
    "test_df['file'][200], test_df['label'][200]"
   ]
  },
  {
   "cell_type": "code",
   "execution_count": 29,
   "metadata": {},
   "outputs": [],
   "source": [
    "# first shuffle rows in train dataframe\n",
    "train_df = train_df.sample(n = len(train_df), random_state=200).reset_index(drop=True)"
   ]
  },
  {
   "cell_type": "code",
   "execution_count": 30,
   "metadata": {},
   "outputs": [],
   "source": [
    "# then move 245 rows from train dataframe to test dataframe\n",
    "transferdata_df = train_df.iloc[-446:, 0:]\n",
    "\n",
    "test_df = test_df.append(transferdata_df)\n",
    "\n",
    "train_df = train_df.drop(transferdata_df.index)"
   ]
  },
  {
   "cell_type": "code",
   "execution_count": 31,
   "metadata": {},
   "outputs": [],
   "source": [
    "# reset index of test_df\n",
    "test_df = test_df.reset_index(drop=True)"
   ]
  },
  {
   "cell_type": "code",
   "execution_count": 32,
   "metadata": {},
   "outputs": [
    {
     "data": {
      "text/html": [
       "<div>\n",
       "<style scoped>\n",
       "    .dataframe tbody tr th:only-of-type {\n",
       "        vertical-align: middle;\n",
       "    }\n",
       "\n",
       "    .dataframe tbody tr th {\n",
       "        vertical-align: top;\n",
       "    }\n",
       "\n",
       "    .dataframe thead th {\n",
       "        text-align: right;\n",
       "    }\n",
       "</style>\n",
       "<table border=\"1\" class=\"dataframe\">\n",
       "  <thead>\n",
       "    <tr style=\"text-align: right;\">\n",
       "      <th></th>\n",
       "      <th>file</th>\n",
       "      <th>label</th>\n",
       "    </tr>\n",
       "  </thead>\n",
       "  <tbody>\n",
       "    <tr>\n",
       "      <th>0</th>\n",
       "      <td>E:\\COURSES\\Advanced Data Science With IBM\\Adva...</td>\n",
       "      <td>NORMAL</td>\n",
       "    </tr>\n",
       "    <tr>\n",
       "      <th>1</th>\n",
       "      <td>E:\\COURSES\\Advanced Data Science With IBM\\Adva...</td>\n",
       "      <td>PNEUMONIA</td>\n",
       "    </tr>\n",
       "    <tr>\n",
       "      <th>2</th>\n",
       "      <td>E:\\COURSES\\Advanced Data Science With IBM\\Adva...</td>\n",
       "      <td>PNEUMONIA</td>\n",
       "    </tr>\n",
       "    <tr>\n",
       "      <th>3</th>\n",
       "      <td>E:\\COURSES\\Advanced Data Science With IBM\\Adva...</td>\n",
       "      <td>NORMAL</td>\n",
       "    </tr>\n",
       "    <tr>\n",
       "      <th>4</th>\n",
       "      <td>E:\\COURSES\\Advanced Data Science With IBM\\Adva...</td>\n",
       "      <td>NORMAL</td>\n",
       "    </tr>\n",
       "    <tr>\n",
       "      <th>...</th>\n",
       "      <td>...</td>\n",
       "      <td>...</td>\n",
       "    </tr>\n",
       "    <tr>\n",
       "      <th>6006</th>\n",
       "      <td>E:\\COURSES\\Advanced Data Science With IBM\\Adva...</td>\n",
       "      <td>NORMAL</td>\n",
       "    </tr>\n",
       "    <tr>\n",
       "      <th>6007</th>\n",
       "      <td>E:\\COURSES\\Advanced Data Science With IBM\\Adva...</td>\n",
       "      <td>NORMAL</td>\n",
       "    </tr>\n",
       "    <tr>\n",
       "      <th>6008</th>\n",
       "      <td>E:\\COURSES\\Advanced Data Science With IBM\\Adva...</td>\n",
       "      <td>PNEUMONIA</td>\n",
       "    </tr>\n",
       "    <tr>\n",
       "      <th>6009</th>\n",
       "      <td>E:\\COURSES\\Advanced Data Science With IBM\\Adva...</td>\n",
       "      <td>PNEUMONIA</td>\n",
       "    </tr>\n",
       "    <tr>\n",
       "      <th>6010</th>\n",
       "      <td>E:\\COURSES\\Advanced Data Science With IBM\\Adva...</td>\n",
       "      <td>PNEUMONIA</td>\n",
       "    </tr>\n",
       "  </tbody>\n",
       "</table>\n",
       "<p>6011 rows × 2 columns</p>\n",
       "</div>"
      ],
      "text/plain": [
       "                                                   file      label\n",
       "0     E:\\COURSES\\Advanced Data Science With IBM\\Adva...     NORMAL\n",
       "1     E:\\COURSES\\Advanced Data Science With IBM\\Adva...  PNEUMONIA\n",
       "2     E:\\COURSES\\Advanced Data Science With IBM\\Adva...  PNEUMONIA\n",
       "3     E:\\COURSES\\Advanced Data Science With IBM\\Adva...     NORMAL\n",
       "4     E:\\COURSES\\Advanced Data Science With IBM\\Adva...     NORMAL\n",
       "...                                                 ...        ...\n",
       "6006  E:\\COURSES\\Advanced Data Science With IBM\\Adva...     NORMAL\n",
       "6007  E:\\COURSES\\Advanced Data Science With IBM\\Adva...     NORMAL\n",
       "6008  E:\\COURSES\\Advanced Data Science With IBM\\Adva...  PNEUMONIA\n",
       "6009  E:\\COURSES\\Advanced Data Science With IBM\\Adva...  PNEUMONIA\n",
       "6010  E:\\COURSES\\Advanced Data Science With IBM\\Adva...  PNEUMONIA\n",
       "\n",
       "[6011 rows x 2 columns]"
      ]
     },
     "execution_count": 32,
     "metadata": {},
     "output_type": "execute_result"
    }
   ],
   "source": [
    "train_df"
   ]
  },
  {
   "cell_type": "code",
   "execution_count": 33,
   "metadata": {},
   "outputs": [
    {
     "data": {
      "text/html": [
       "<div>\n",
       "<style scoped>\n",
       "    .dataframe tbody tr th:only-of-type {\n",
       "        vertical-align: middle;\n",
       "    }\n",
       "\n",
       "    .dataframe tbody tr th {\n",
       "        vertical-align: top;\n",
       "    }\n",
       "\n",
       "    .dataframe thead th {\n",
       "        text-align: right;\n",
       "    }\n",
       "</style>\n",
       "<table border=\"1\" class=\"dataframe\">\n",
       "  <thead>\n",
       "    <tr style=\"text-align: right;\">\n",
       "      <th></th>\n",
       "      <th>file</th>\n",
       "      <th>label</th>\n",
       "    </tr>\n",
       "  </thead>\n",
       "  <tbody>\n",
       "    <tr>\n",
       "      <th>0</th>\n",
       "      <td>E:\\COURSES\\Advanced Data Science With IBM\\Adva...</td>\n",
       "      <td>NORMAL</td>\n",
       "    </tr>\n",
       "    <tr>\n",
       "      <th>1</th>\n",
       "      <td>E:\\COURSES\\Advanced Data Science With IBM\\Adva...</td>\n",
       "      <td>NORMAL</td>\n",
       "    </tr>\n",
       "    <tr>\n",
       "      <th>2</th>\n",
       "      <td>E:\\COURSES\\Advanced Data Science With IBM\\Adva...</td>\n",
       "      <td>NORMAL</td>\n",
       "    </tr>\n",
       "    <tr>\n",
       "      <th>3</th>\n",
       "      <td>E:\\COURSES\\Advanced Data Science With IBM\\Adva...</td>\n",
       "      <td>NORMAL</td>\n",
       "    </tr>\n",
       "    <tr>\n",
       "      <th>4</th>\n",
       "      <td>E:\\COURSES\\Advanced Data Science With IBM\\Adva...</td>\n",
       "      <td>NORMAL</td>\n",
       "    </tr>\n",
       "    <tr>\n",
       "      <th>...</th>\n",
       "      <td>...</td>\n",
       "      <td>...</td>\n",
       "    </tr>\n",
       "    <tr>\n",
       "      <th>1055</th>\n",
       "      <td>E:\\COURSES\\Advanced Data Science With IBM\\Adva...</td>\n",
       "      <td>PNEUMONIA</td>\n",
       "    </tr>\n",
       "    <tr>\n",
       "      <th>1056</th>\n",
       "      <td>E:\\COURSES\\Advanced Data Science With IBM\\Adva...</td>\n",
       "      <td>PNEUMONIA</td>\n",
       "    </tr>\n",
       "    <tr>\n",
       "      <th>1057</th>\n",
       "      <td>E:\\COURSES\\Advanced Data Science With IBM\\Adva...</td>\n",
       "      <td>NORMAL</td>\n",
       "    </tr>\n",
       "    <tr>\n",
       "      <th>1058</th>\n",
       "      <td>E:\\COURSES\\Advanced Data Science With IBM\\Adva...</td>\n",
       "      <td>PNEUMONIA</td>\n",
       "    </tr>\n",
       "    <tr>\n",
       "      <th>1059</th>\n",
       "      <td>E:\\COURSES\\Advanced Data Science With IBM\\Adva...</td>\n",
       "      <td>NORMAL</td>\n",
       "    </tr>\n",
       "  </tbody>\n",
       "</table>\n",
       "<p>1060 rows × 2 columns</p>\n",
       "</div>"
      ],
      "text/plain": [
       "                                                   file      label\n",
       "0     E:\\COURSES\\Advanced Data Science With IBM\\Adva...     NORMAL\n",
       "1     E:\\COURSES\\Advanced Data Science With IBM\\Adva...     NORMAL\n",
       "2     E:\\COURSES\\Advanced Data Science With IBM\\Adva...     NORMAL\n",
       "3     E:\\COURSES\\Advanced Data Science With IBM\\Adva...     NORMAL\n",
       "4     E:\\COURSES\\Advanced Data Science With IBM\\Adva...     NORMAL\n",
       "...                                                 ...        ...\n",
       "1055  E:\\COURSES\\Advanced Data Science With IBM\\Adva...  PNEUMONIA\n",
       "1056  E:\\COURSES\\Advanced Data Science With IBM\\Adva...  PNEUMONIA\n",
       "1057  E:\\COURSES\\Advanced Data Science With IBM\\Adva...     NORMAL\n",
       "1058  E:\\COURSES\\Advanced Data Science With IBM\\Adva...  PNEUMONIA\n",
       "1059  E:\\COURSES\\Advanced Data Science With IBM\\Adva...     NORMAL\n",
       "\n",
       "[1060 rows x 2 columns]"
      ]
     },
     "execution_count": 33,
     "metadata": {},
     "output_type": "execute_result"
    }
   ],
   "source": [
    "test_df"
   ]
  },
  {
   "cell_type": "code",
   "execution_count": 34,
   "metadata": {},
   "outputs": [],
   "source": [
    "# split train set further into train and validation set\n",
    "\n",
    "newtrain_df = train_df.sample(frac=0.85,random_state=200) #random state is a seed value\n",
    "validation_df = train_df.drop(newtrain_df.index)"
   ]
  },
  {
   "cell_type": "code",
   "execution_count": 35,
   "metadata": {},
   "outputs": [],
   "source": [
    "train_df = newtrain_df.reset_index(drop=True)\n",
    "validation_df = validation_df.reset_index(drop=True)"
   ]
  },
  {
   "cell_type": "code",
   "execution_count": 36,
   "metadata": {},
   "outputs": [
    {
     "data": {
      "text/html": [
       "<div>\n",
       "<style scoped>\n",
       "    .dataframe tbody tr th:only-of-type {\n",
       "        vertical-align: middle;\n",
       "    }\n",
       "\n",
       "    .dataframe tbody tr th {\n",
       "        vertical-align: top;\n",
       "    }\n",
       "\n",
       "    .dataframe thead th {\n",
       "        text-align: right;\n",
       "    }\n",
       "</style>\n",
       "<table border=\"1\" class=\"dataframe\">\n",
       "  <thead>\n",
       "    <tr style=\"text-align: right;\">\n",
       "      <th></th>\n",
       "      <th>file</th>\n",
       "      <th>label</th>\n",
       "    </tr>\n",
       "  </thead>\n",
       "  <tbody>\n",
       "    <tr>\n",
       "      <th>0</th>\n",
       "      <td>E:\\COURSES\\Advanced Data Science With IBM\\Adva...</td>\n",
       "      <td>PNEUMONIA</td>\n",
       "    </tr>\n",
       "    <tr>\n",
       "      <th>1</th>\n",
       "      <td>E:\\COURSES\\Advanced Data Science With IBM\\Adva...</td>\n",
       "      <td>PNEUMONIA</td>\n",
       "    </tr>\n",
       "    <tr>\n",
       "      <th>2</th>\n",
       "      <td>E:\\COURSES\\Advanced Data Science With IBM\\Adva...</td>\n",
       "      <td>NORMAL</td>\n",
       "    </tr>\n",
       "    <tr>\n",
       "      <th>3</th>\n",
       "      <td>E:\\COURSES\\Advanced Data Science With IBM\\Adva...</td>\n",
       "      <td>NORMAL</td>\n",
       "    </tr>\n",
       "    <tr>\n",
       "      <th>4</th>\n",
       "      <td>E:\\COURSES\\Advanced Data Science With IBM\\Adva...</td>\n",
       "      <td>PNEUMONIA</td>\n",
       "    </tr>\n",
       "    <tr>\n",
       "      <th>...</th>\n",
       "      <td>...</td>\n",
       "      <td>...</td>\n",
       "    </tr>\n",
       "    <tr>\n",
       "      <th>5104</th>\n",
       "      <td>E:\\COURSES\\Advanced Data Science With IBM\\Adva...</td>\n",
       "      <td>PNEUMONIA</td>\n",
       "    </tr>\n",
       "    <tr>\n",
       "      <th>5105</th>\n",
       "      <td>E:\\COURSES\\Advanced Data Science With IBM\\Adva...</td>\n",
       "      <td>NORMAL</td>\n",
       "    </tr>\n",
       "    <tr>\n",
       "      <th>5106</th>\n",
       "      <td>E:\\COURSES\\Advanced Data Science With IBM\\Adva...</td>\n",
       "      <td>PNEUMONIA</td>\n",
       "    </tr>\n",
       "    <tr>\n",
       "      <th>5107</th>\n",
       "      <td>E:\\COURSES\\Advanced Data Science With IBM\\Adva...</td>\n",
       "      <td>PNEUMONIA</td>\n",
       "    </tr>\n",
       "    <tr>\n",
       "      <th>5108</th>\n",
       "      <td>E:\\COURSES\\Advanced Data Science With IBM\\Adva...</td>\n",
       "      <td>NORMAL</td>\n",
       "    </tr>\n",
       "  </tbody>\n",
       "</table>\n",
       "<p>5109 rows × 2 columns</p>\n",
       "</div>"
      ],
      "text/plain": [
       "                                                   file      label\n",
       "0     E:\\COURSES\\Advanced Data Science With IBM\\Adva...  PNEUMONIA\n",
       "1     E:\\COURSES\\Advanced Data Science With IBM\\Adva...  PNEUMONIA\n",
       "2     E:\\COURSES\\Advanced Data Science With IBM\\Adva...     NORMAL\n",
       "3     E:\\COURSES\\Advanced Data Science With IBM\\Adva...     NORMAL\n",
       "4     E:\\COURSES\\Advanced Data Science With IBM\\Adva...  PNEUMONIA\n",
       "...                                                 ...        ...\n",
       "5104  E:\\COURSES\\Advanced Data Science With IBM\\Adva...  PNEUMONIA\n",
       "5105  E:\\COURSES\\Advanced Data Science With IBM\\Adva...     NORMAL\n",
       "5106  E:\\COURSES\\Advanced Data Science With IBM\\Adva...  PNEUMONIA\n",
       "5107  E:\\COURSES\\Advanced Data Science With IBM\\Adva...  PNEUMONIA\n",
       "5108  E:\\COURSES\\Advanced Data Science With IBM\\Adva...     NORMAL\n",
       "\n",
       "[5109 rows x 2 columns]"
      ]
     },
     "execution_count": 36,
     "metadata": {},
     "output_type": "execute_result"
    }
   ],
   "source": [
    "train_df"
   ]
  },
  {
   "cell_type": "code",
   "execution_count": 37,
   "metadata": {},
   "outputs": [
    {
     "data": {
      "text/html": [
       "<div>\n",
       "<style scoped>\n",
       "    .dataframe tbody tr th:only-of-type {\n",
       "        vertical-align: middle;\n",
       "    }\n",
       "\n",
       "    .dataframe tbody tr th {\n",
       "        vertical-align: top;\n",
       "    }\n",
       "\n",
       "    .dataframe thead th {\n",
       "        text-align: right;\n",
       "    }\n",
       "</style>\n",
       "<table border=\"1\" class=\"dataframe\">\n",
       "  <thead>\n",
       "    <tr style=\"text-align: right;\">\n",
       "      <th></th>\n",
       "      <th>file</th>\n",
       "      <th>label</th>\n",
       "    </tr>\n",
       "  </thead>\n",
       "  <tbody>\n",
       "    <tr>\n",
       "      <th>0</th>\n",
       "      <td>E:\\COURSES\\Advanced Data Science With IBM\\Adva...</td>\n",
       "      <td>NORMAL</td>\n",
       "    </tr>\n",
       "    <tr>\n",
       "      <th>1</th>\n",
       "      <td>E:\\COURSES\\Advanced Data Science With IBM\\Adva...</td>\n",
       "      <td>NORMAL</td>\n",
       "    </tr>\n",
       "    <tr>\n",
       "      <th>2</th>\n",
       "      <td>E:\\COURSES\\Advanced Data Science With IBM\\Adva...</td>\n",
       "      <td>PNEUMONIA</td>\n",
       "    </tr>\n",
       "    <tr>\n",
       "      <th>3</th>\n",
       "      <td>E:\\COURSES\\Advanced Data Science With IBM\\Adva...</td>\n",
       "      <td>PNEUMONIA</td>\n",
       "    </tr>\n",
       "    <tr>\n",
       "      <th>4</th>\n",
       "      <td>E:\\COURSES\\Advanced Data Science With IBM\\Adva...</td>\n",
       "      <td>NORMAL</td>\n",
       "    </tr>\n",
       "    <tr>\n",
       "      <th>...</th>\n",
       "      <td>...</td>\n",
       "      <td>...</td>\n",
       "    </tr>\n",
       "    <tr>\n",
       "      <th>897</th>\n",
       "      <td>E:\\COURSES\\Advanced Data Science With IBM\\Adva...</td>\n",
       "      <td>NORMAL</td>\n",
       "    </tr>\n",
       "    <tr>\n",
       "      <th>898</th>\n",
       "      <td>E:\\COURSES\\Advanced Data Science With IBM\\Adva...</td>\n",
       "      <td>PNEUMONIA</td>\n",
       "    </tr>\n",
       "    <tr>\n",
       "      <th>899</th>\n",
       "      <td>E:\\COURSES\\Advanced Data Science With IBM\\Adva...</td>\n",
       "      <td>NORMAL</td>\n",
       "    </tr>\n",
       "    <tr>\n",
       "      <th>900</th>\n",
       "      <td>E:\\COURSES\\Advanced Data Science With IBM\\Adva...</td>\n",
       "      <td>PNEUMONIA</td>\n",
       "    </tr>\n",
       "    <tr>\n",
       "      <th>901</th>\n",
       "      <td>E:\\COURSES\\Advanced Data Science With IBM\\Adva...</td>\n",
       "      <td>NORMAL</td>\n",
       "    </tr>\n",
       "  </tbody>\n",
       "</table>\n",
       "<p>902 rows × 2 columns</p>\n",
       "</div>"
      ],
      "text/plain": [
       "                                                  file      label\n",
       "0    E:\\COURSES\\Advanced Data Science With IBM\\Adva...     NORMAL\n",
       "1    E:\\COURSES\\Advanced Data Science With IBM\\Adva...     NORMAL\n",
       "2    E:\\COURSES\\Advanced Data Science With IBM\\Adva...  PNEUMONIA\n",
       "3    E:\\COURSES\\Advanced Data Science With IBM\\Adva...  PNEUMONIA\n",
       "4    E:\\COURSES\\Advanced Data Science With IBM\\Adva...     NORMAL\n",
       "..                                                 ...        ...\n",
       "897  E:\\COURSES\\Advanced Data Science With IBM\\Adva...     NORMAL\n",
       "898  E:\\COURSES\\Advanced Data Science With IBM\\Adva...  PNEUMONIA\n",
       "899  E:\\COURSES\\Advanced Data Science With IBM\\Adva...     NORMAL\n",
       "900  E:\\COURSES\\Advanced Data Science With IBM\\Adva...  PNEUMONIA\n",
       "901  E:\\COURSES\\Advanced Data Science With IBM\\Adva...     NORMAL\n",
       "\n",
       "[902 rows x 2 columns]"
      ]
     },
     "execution_count": 37,
     "metadata": {},
     "output_type": "execute_result"
    }
   ],
   "source": [
    "validation_df"
   ]
  },
  {
   "cell_type": "markdown",
   "metadata": {},
   "source": [
    "We now have three data sets\n",
    "- train_df (training set)\n",
    "- validation_df (validation set)\n",
    "\n",
    "- test_df (final test set)"
   ]
  },
  {
   "cell_type": "markdown",
   "metadata": {},
   "source": [
    "#### 5. Shape and color of images"
   ]
  },
  {
   "cell_type": "code",
   "execution_count": 38,
   "metadata": {},
   "outputs": [],
   "source": [
    "# Retrieving the geometry of the image and the number of pixels\n",
    "# Images in scikit-image are represented by NumPy ndarrays. \n",
    "# Hence, many common operations can be achieved using standard NumPy methods for manipulating arrays\n",
    "\n",
    "x = []\n",
    "y = []\n",
    "z = []\n",
    "listofdataframes = [train_df, validation_df, test_df]\n",
    "\n",
    "for df in listofdataframes:\n",
    "    for index, row in df.iterrows():\n",
    "        image = row['file']\n",
    "        s = io.imread(image)\n",
    "        x.append(s.shape[0])\n",
    "        y.append(s.shape[1])\n",
    "        if(len(s.shape) == 3):\n",
    "            z.append(1)\n",
    "        else:\n",
    "            z.append(0)"
   ]
  },
  {
   "cell_type": "code",
   "execution_count": 39,
   "metadata": {},
   "outputs": [],
   "source": [
    "import numpy as np\n",
    "import pandas as pd\n",
    "\n",
    "df = pd.DataFrame({'x': x,\n",
    "                   'y': y,\n",
    "                   'z': z})"
   ]
  },
  {
   "cell_type": "code",
   "execution_count": 40,
   "metadata": {},
   "outputs": [
    {
     "data": {
      "image/png": "[encoded data removed]",
      "text/plain": [
       "<Figure size 432x288 with 1 Axes>"
      ]
     },
     "metadata": {
      "needs_background": "light"
     },
     "output_type": "display_data"
    }
   ],
   "source": [
    "area = 2\n",
    "plt.scatter(x, y, c=df.z, s=area,  alpha=0.5)\n",
    "plt.title('Image sizes and color')\n",
    "plt.xlabel('x (width)')\n",
    "plt.ylabel('y (height)')\n",
    "classes = [ 'Greyscale', 'RGB']\n",
    "groups = df.groupby('z')\n",
    "for name, group in groups:\n",
    "    name = classes[0] if name == 0 else classes[1]\n",
    "    plt.plot(group.x, group.y, marker='.', linestyle='', markersize=1, label=name)\n",
    "\n",
    "plt.legend(title=\"color\", markerscale=10)\n",
    "\n",
    "plt.show()"
   ]
  },
  {
   "cell_type": "markdown",
   "metadata": {},
   "source": [
    " Since all the images are of different sizes, it will be necessary to reshape them to the same size.\n",
    " Also some are greyscale while other are RGB, so it will be necessary to normalize all images to the same color space (greyscale) "
   ]
  },
  {
   "cell_type": "markdown",
   "metadata": {},
   "source": [
    "## Data Preprocessing\n",
    "\n",
    "The following steps need to be done in the data preprocessing step\n",
    "\n",
    "\n",
    "We perform a grayscale normalization to reduce the effect of illumination's differences.\n",
    "Divide values by 255 to get a value between 0 and 1. \n",
    "\n",
    "#### Image Resize\n",
    "images need to be resized to the same size - both training and test set\n",
    "\n",
    "NOTE: this step will be done within train_datagen.flow_from_dataframe function by setting parameter 'target_size'"
   ]
  },
  {
   "cell_type": "markdown",
   "metadata": {},
   "source": [
    "This is an example using skimage (we are not using this here)"
   ]
  },
  {
   "cell_type": "code",
   "execution_count": 41,
   "metadata": {},
   "outputs": [
    {
     "data": {
      "image/png": "[encoded data removed]",
      "text/plain": [
       "<Figure size 432x288 with 1 Axes>"
      ]
     },
     "metadata": {
      "needs_background": "light"
     },
     "output_type": "display_data"
    },
    {
     "name": "stdout",
     "output_type": "stream",
     "text": [
      "(150, 150)\n"
     ]
    }
   ],
   "source": [
    "from skimage.transform import resize\n",
    "img = io.imread(train_df['file'][0])\n",
    "img_rescaled = resize(img, (150,150))\n",
    "\n",
    "imgplot = plt.imshow(img_rescaled, cmap=\"gray\")\n",
    "plt.show()\n",
    "print(img_rescaled.shape)"
   ]
  },
  {
   "cell_type": "markdown",
   "metadata": {},
   "source": [
    "### Image Augmentation Step"
   ]
  },
  {
   "cell_type": "markdown",
   "metadata": {},
   "source": [
    "In order to avoid overfitting problem, alter the training data with small transformations to reproduce the variations. Approaches that alter the training data in ways that change the array representation while keeping the label the same are known as data augmentation techniques. Some popular augmentations people use are grayscales, horizontal flips, vertical flips, random crops, color jitters, translations, rotations, and much more. By applying just a couple of these transformations to our training data, we can easily double or triple the number of training examples and create a very robust model."
   ]
  },
  {
   "cell_type": "code",
   "execution_count": null,
   "metadata": {},
   "outputs": [],
   "source": []
  },
  {
   "cell_type": "code",
   "execution_count": null,
   "metadata": {},
   "outputs": [],
   "source": []
  },
  {
   "cell_type": "markdown",
   "metadata": {},
   "source": [
    "#### 1. Preprocessing the Training Set\n",
    "\n",
    "Transformation on the images of the training set to avoid overfitting (data augmentation - see above)"
   ]
  },
  {
   "cell_type": "markdown",
   "metadata": {},
   "source": [
    "Randomly zoom by max 5% (zoom will vary randomly between 0 and 5%)\n",
    "\n",
    "Randomly shift images horizontally by max 5% of the width\n",
    "\n",
    "Randomly shift images vertically by max 5% of the height\n",
    "\n",
    "Randomly flip images horizontally. \n",
    "\n",
    "\n",
    "rescale=1./255 divides all the pixels by 255 so they end up between 0 and 1 - normalization"
   ]
  },
  {
   "cell_type": "code",
   "execution_count": 42,
   "metadata": {},
   "outputs": [],
   "source": [
    "#train_datagen = ImageDataGenerator(\n",
    "#        rescale=1./255,\n",
    "#        zoom_range=0.1,\n",
    "#        horizontal_flip=True,\n",
    "#        width_shift_range=0.1,\n",
    "#        height_shift_range=0.1)\n",
    "\n",
    "train_datagen = ImageDataGenerator(\n",
    "        rescale=1./255,\n",
    "        horizontal_flip=True,\n",
    "        width_shift_range=0.05,\n",
    "        height_shift_range=0.05)"
   ]
  },
  {
   "cell_type": "code",
   "execution_count": 43,
   "metadata": {},
   "outputs": [
    {
     "name": "stdout",
     "output_type": "stream",
     "text": [
      "Found 5109 validated image filenames belonging to 2 classes.\n"
     ]
    }
   ],
   "source": [
    "train_set = train_datagen.flow_from_dataframe(\n",
    "    train_df,\n",
    "    directory=None,\n",
    "    x_col=\"file\",\n",
    "    y_col=\"label\",\n",
    "    weight_col=None,\n",
    "    target_size=(256, 256),\n",
    "    color_mode=\"grayscale\",\n",
    "    classes=None,\n",
    "    class_mode=\"binary\",\n",
    "    batch_size=32,\n",
    "    shuffle=True,\n",
    "    seed=200,\n",
    "    save_to_dir=None,\n",
    "    save_prefix=\"\",\n",
    "    save_format=\"png\",\n",
    "    subset=None,\n",
    "    interpolation=\"nearest\",\n",
    ")"
   ]
  },
  {
   "cell_type": "markdown",
   "metadata": {},
   "source": [
    "#### 2. Preprocesing the validation and test set\n",
    "\n",
    "Here we need to keep the images as they were with no modifications but we have to feature scale the images to match the feature scaling done to the test images."
   ]
  },
  {
   "cell_type": "code",
   "execution_count": 44,
   "metadata": {},
   "outputs": [],
   "source": [
    "test_datagen = ImageDataGenerator(\n",
    "        rescale=1./255\n",
    "        )"
   ]
  },
  {
   "cell_type": "code",
   "execution_count": 45,
   "metadata": {},
   "outputs": [],
   "source": [
    "validation_datagen = ImageDataGenerator(\n",
    "        rescale=1./255\n",
    "        )"
   ]
  },
  {
   "cell_type": "code",
   "execution_count": 46,
   "metadata": {},
   "outputs": [
    {
     "name": "stdout",
     "output_type": "stream",
     "text": [
      "Found 902 validated image filenames belonging to 2 classes.\n"
     ]
    }
   ],
   "source": [
    "validation_set = validation_datagen.flow_from_dataframe(\n",
    "    validation_df,\n",
    "    directory=None,\n",
    "    x_col=\"file\",\n",
    "    y_col=\"label\",\n",
    "    weight_col=None,\n",
    "    target_size=(256, 256),\n",
    "    color_mode=\"grayscale\",\n",
    "    classes=None,\n",
    "    class_mode=\"binary\",\n",
    "    batch_size=32,\n",
    "    shuffle=False,\n",
    "    seed=None,\n",
    "    save_to_dir=None,\n",
    "    save_prefix=\"\",\n",
    "    save_format=\"png\",\n",
    "    subset=None,\n",
    "    interpolation=\"nearest\",\n",
    ")"
   ]
  },
  {
   "cell_type": "code",
   "execution_count": 47,
   "metadata": {},
   "outputs": [
    {
     "name": "stdout",
     "output_type": "stream",
     "text": [
      "Found 1060 validated image filenames belonging to 2 classes.\n"
     ]
    }
   ],
   "source": [
    "test_set = test_datagen.flow_from_dataframe(\n",
    "    test_df,\n",
    "    directory=None,\n",
    "    x_col=\"file\",\n",
    "    y_col=\"label\",\n",
    "    weight_col=None,\n",
    "    target_size=(256, 256),\n",
    "    color_mode=\"grayscale\",\n",
    "    classes=None,\n",
    "    class_mode=\"binary\",\n",
    "    batch_size=32,\n",
    "    shuffle=False,\n",
    "    seed=None,\n",
    "    save_to_dir=None,\n",
    "    save_prefix=\"\",\n",
    "    save_format=\"png\",\n",
    "    subset=None,\n",
    "    interpolation=\"nearest\",\n",
    ")"
   ]
  },
  {
   "cell_type": "markdown",
   "metadata": {},
   "source": [
    "### Baseline Model"
   ]
  },
  {
   "cell_type": "code",
   "execution_count": 74,
   "metadata": {},
   "outputs": [],
   "source": [
    "METRICS = [\n",
    "        'accuracy',\n",
    "        tf.keras.metrics.Precision(name='precision'),\n",
    "        tf.keras.metrics.Recall(name='recall')\n",
    "    ]"
   ]
  },
  {
   "cell_type": "code",
   "execution_count": 81,
   "metadata": {},
   "outputs": [],
   "source": [
    "baseline_model = tf.keras.Sequential()\n",
    "baseline_model.add(tf.keras.layers.Flatten(input_shape=(256,256,1)))\n",
    "baseline_model.add(tf.keras.layers.Dense(units=1, activation='sigmoid'))\n",
    "\n",
    "baseline_model.compile(optimizer='sgd', loss='binary_crossentropy', metrics=METRICS)"
   ]
  },
  {
   "cell_type": "code",
   "execution_count": 82,
   "metadata": {},
   "outputs": [
    {
     "name": "stdout",
     "output_type": "stream",
     "text": [
      "Model: \"sequential_5\"\n",
      "_________________________________________________________________\n",
      "Layer (type)                 Output Shape              Param #   \n",
      "=================================================================\n",
      "flatten_1 (Flatten)          (None, 65536)             0         \n",
      "_________________________________________________________________\n",
      "dense_6 (Dense)              (None, 1)                 65537     \n",
      "=================================================================\n",
      "Total params: 65,537\n",
      "Trainable params: 65,537\n",
      "Non-trainable params: 0\n",
      "_________________________________________________________________\n"
     ]
    }
   ],
   "source": [
    "baseline_model.summary()"
   ]
  },
  {
   "cell_type": "markdown",
   "metadata": {},
   "source": [
    "### Building the CNN"
   ]
  },
  {
   "cell_type": "code",
   "execution_count": 48,
   "metadata": {},
   "outputs": [],
   "source": [
    "cnn = tf.keras.models.Sequential()"
   ]
  },
  {
   "cell_type": "markdown",
   "metadata": {},
   "source": [
    "#### 1. Convolution"
   ]
  },
  {
   "cell_type": "code",
   "execution_count": 49,
   "metadata": {},
   "outputs": [],
   "source": [
    "cnn.add(tf.keras.layers.Conv2D(filters=8, kernel_size=3, activation='relu', input_shape=(256,256,1) ))"
   ]
  },
  {
   "cell_type": "markdown",
   "metadata": {},
   "source": [
    "#### 2. Pooling"
   ]
  },
  {
   "cell_type": "code",
   "execution_count": 50,
   "metadata": {},
   "outputs": [],
   "source": [
    "cnn.add(tf.keras.layers.MaxPool2D(pool_size=2, strides=2, padding = 'same'))"
   ]
  },
  {
   "cell_type": "markdown",
   "metadata": {},
   "source": [
    "#### 3. Add a additional Convolutional and Pooling Layer"
   ]
  },
  {
   "cell_type": "code",
   "execution_count": 51,
   "metadata": {},
   "outputs": [],
   "source": [
    "cnn.add(tf.keras.layers.Conv2D(filters = 16, kernel_size = 3, activation='relu'))\n",
    "cnn.add(tf.keras.layers.MaxPool2D(pool_size=2, strides=2, padding = 'same'))\n",
    "\n",
    "cnn.add(tf.keras.layers.Conv2D(filters = 32, kernel_size = 3, activation = 'relu'))\n",
    "cnn.add(tf.keras.layers.MaxPool2D(pool_size=2, strides=2, padding = 'same'))\n",
    "\n",
    "#cnn.add(tf.keras.layers.Conv2D(filters = 128, kernel_size = 3, activation = 'relu'))\n",
    "#cnn.add(tf.keras.layers.MaxPool2D(pool_size=2, strides=2, padding = 'same'))"
   ]
  },
  {
   "cell_type": "markdown",
   "metadata": {},
   "source": [
    "#### 4. Flattening"
   ]
  },
  {
   "cell_type": "code",
   "execution_count": 52,
   "metadata": {},
   "outputs": [],
   "source": [
    "cnn.add(tf.keras.layers.Flatten())"
   ]
  },
  {
   "cell_type": "markdown",
   "metadata": {},
   "source": [
    "#### 5. Full Connection"
   ]
  },
  {
   "cell_type": "code",
   "execution_count": 53,
   "metadata": {},
   "outputs": [],
   "source": [
    "#units = number of hidden neurons - larger number better for images\n",
    "cnn.add(tf.keras.layers.Dense(units=128, activation='relu'))\n",
    "cnn.add(tf.keras.layers.Dropout(0.5))"
   ]
  },
  {
   "cell_type": "markdown",
   "metadata": {},
   "source": [
    "#### 6. Output Layer"
   ]
  },
  {
   "cell_type": "code",
   "execution_count": 54,
   "metadata": {},
   "outputs": [],
   "source": [
    "#units = 1 for binary classification\n",
    "cnn.add(tf.keras.layers.Dense(units=1, activation='sigmoid'))"
   ]
  },
  {
   "cell_type": "markdown",
   "metadata": {},
   "source": [
    "#### 7. Compiling the CNN"
   ]
  },
  {
   "cell_type": "code",
   "execution_count": 61,
   "metadata": {},
   "outputs": [],
   "source": [
    "cnn.compile(optimizer='adam', loss='binary_crossentropy', metrics=METRICS)"
   ]
  },
  {
   "cell_type": "markdown",
   "metadata": {},
   "source": [
    " "
   ]
  },
  {
   "cell_type": "markdown",
   "metadata": {},
   "source": [
    "###  Calculate class weights\n",
    "\n",
    "We will use the class_weights to correct for class imbalance to avoid a bias towards the majority class.\n",
    "\n",
    "Formula to calculate the weight for a class\n",
    "\n",
    "wj=n_samples / (n_classes * n_samplesj)"
   ]
  },
  {
   "cell_type": "markdown",
   "metadata": {},
   "source": [
    "wj is the weight for class j\n",
    "\n",
    "n_samples is the total number of samples or rows in the dataset\n",
    "\n",
    "n_classes is the total number of unique classes in the target\n",
    "\n",
    "n_samplesj is the total number of rows of the respective class"
   ]
  },
  {
   "cell_type": "code",
   "execution_count": 55,
   "metadata": {},
   "outputs": [
    {
     "name": "stdout",
     "output_type": "stream",
     "text": [
      "                                                   file      label\n",
      "0     E:\\COURSES\\Advanced Data Science With IBM\\Adva...  PNEUMONIA\n",
      "1     E:\\COURSES\\Advanced Data Science With IBM\\Adva...  PNEUMONIA\n",
      "4     E:\\COURSES\\Advanced Data Science With IBM\\Adva...  PNEUMONIA\n",
      "5     E:\\COURSES\\Advanced Data Science With IBM\\Adva...  PNEUMONIA\n",
      "6     E:\\COURSES\\Advanced Data Science With IBM\\Adva...  PNEUMONIA\n",
      "...                                                 ...        ...\n",
      "5101  E:\\COURSES\\Advanced Data Science With IBM\\Adva...  PNEUMONIA\n",
      "5103  E:\\COURSES\\Advanced Data Science With IBM\\Adva...  PNEUMONIA\n",
      "5104  E:\\COURSES\\Advanced Data Science With IBM\\Adva...  PNEUMONIA\n",
      "5106  E:\\COURSES\\Advanced Data Science With IBM\\Adva...  PNEUMONIA\n",
      "5107  E:\\COURSES\\Advanced Data Science With IBM\\Adva...  PNEUMONIA\n",
      "\n",
      "[3006 rows x 2 columns]\n"
     ]
    }
   ],
   "source": [
    "pneumonia_df = train_df.loc[train_df['label'] == 'PNEUMONIA']\n",
    "print(pneumonia_df)"
   ]
  },
  {
   "cell_type": "code",
   "execution_count": 56,
   "metadata": {},
   "outputs": [
    {
     "name": "stdout",
     "output_type": "stream",
     "text": [
      "                                                   file   label\n",
      "2     E:\\COURSES\\Advanced Data Science With IBM\\Adva...  NORMAL\n",
      "3     E:\\COURSES\\Advanced Data Science With IBM\\Adva...  NORMAL\n",
      "9     E:\\COURSES\\Advanced Data Science With IBM\\Adva...  NORMAL\n",
      "10    E:\\COURSES\\Advanced Data Science With IBM\\Adva...  NORMAL\n",
      "18    E:\\COURSES\\Advanced Data Science With IBM\\Adva...  NORMAL\n",
      "...                                                 ...     ...\n",
      "5098  E:\\COURSES\\Advanced Data Science With IBM\\Adva...  NORMAL\n",
      "5100  E:\\COURSES\\Advanced Data Science With IBM\\Adva...  NORMAL\n",
      "5102  E:\\COURSES\\Advanced Data Science With IBM\\Adva...  NORMAL\n",
      "5105  E:\\COURSES\\Advanced Data Science With IBM\\Adva...  NORMAL\n",
      "5108  E:\\COURSES\\Advanced Data Science With IBM\\Adva...  NORMAL\n",
      "\n",
      "[2103 rows x 2 columns]\n"
     ]
    }
   ],
   "source": [
    "normal_df = train_df.loc[train_df['label'] == 'NORMAL']\n",
    "print(normal_df)"
   ]
  },
  {
   "cell_type": "code",
   "execution_count": 57,
   "metadata": {},
   "outputs": [
    {
     "name": "stdout",
     "output_type": "stream",
     "text": [
      "Number of pneumonia  3006  and Number of normal  2103\n",
      "weights: pneumonia =  0.8498003992015968 , normal =  1.2146932952924394\n"
     ]
    }
   ],
   "source": [
    "n_samples = len(train_df)\n",
    "n_classes = 2\n",
    "n_pneumonia = len(pneumonia_df)\n",
    "n_normal = len(normal_df)\n",
    "\n",
    "w_pneumonia = n_samples/(n_classes*n_pneumonia)\n",
    "w_normal = n_samples/(n_classes*n_normal)\n",
    "\n",
    "print(\"Number of pneumonia \", n_pneumonia, \" and Number of normal \", n_normal)\n",
    "print(\"weights: pneumonia = \", w_pneumonia, \", normal = \", w_normal)"
   ]
  },
  {
   "cell_type": "code",
   "execution_count": 58,
   "metadata": {},
   "outputs": [
    {
     "data": {
      "text/plain": [
       "{'NORMAL': 0, 'PNEUMONIA': 1}"
      ]
     },
     "execution_count": 58,
     "metadata": {},
     "output_type": "execute_result"
    }
   ],
   "source": [
    "# get the class indices\n",
    "\n",
    "train_set.class_indices\n"
   ]
  },
  {
   "cell_type": "code",
   "execution_count": 59,
   "metadata": {},
   "outputs": [],
   "source": [
    "# assign the class weights calculated above\n",
    "# we will use this in the fit() method below\n",
    "\n",
    "class_weight = {0: w_normal, 1: w_pneumonia}\n"
   ]
  },
  {
   "cell_type": "code",
   "execution_count": 60,
   "metadata": {},
   "outputs": [],
   "source": []
  },
  {
   "cell_type": "markdown",
   "metadata": {},
   "source": [
    "#### 3.0 Train the baseline Model"
   ]
  },
  {
   "cell_type": "code",
   "execution_count": 83,
   "metadata": {},
   "outputs": [
    {
     "name": "stdout",
     "output_type": "stream",
     "text": [
      "Epoch 1/25\n",
      "160/160 [==============================] - 46s 284ms/step - loss: 15.5609 - accuracy: 0.5442 - precision: 0.6198 - recall: 0.5451 - val_loss: 3.1344 - val_accuracy: 0.7761 - val_precision: 0.7210 - val_recall: 0.9761\n",
      "Epoch 2/25\n",
      "160/160 [==============================] - 45s 282ms/step - loss: 4.9743 - accuracy: 0.7437 - precision: 0.8046 - recall: 0.7498 - val_loss: 1.0392 - val_accuracy: 0.8869 - val_precision: 0.8762 - val_recall: 0.9284\n",
      "Epoch 3/25\n",
      "160/160 [==============================] - 45s 282ms/step - loss: 2.4030 - accuracy: 0.8269 - precision: 0.8725 - recall: 0.8306 - val_loss: 1.2267 - val_accuracy: 0.8980 - val_precision: 0.9597 - val_recall: 0.8529\n",
      "Epoch 4/25\n",
      "160/160 [==============================] - 45s 283ms/step - loss: 1.7746 - accuracy: 0.8549 - precision: 0.8957 - recall: 0.8552 - val_loss: 1.0716 - val_accuracy: 0.9035 - val_precision: 0.9561 - val_recall: 0.8668\n",
      "Epoch 5/25\n",
      "160/160 [==============================] - 45s 283ms/step - loss: 2.1020 - accuracy: 0.8485 - precision: 0.8841 - recall: 0.8493 - val_loss: 2.2345 - val_accuracy: 0.8226 - val_precision: 0.7676 - val_recall: 0.9781\n",
      "Epoch 6/25\n",
      "160/160 [==============================] - 45s 283ms/step - loss: 1.9814 - accuracy: 0.8491 - precision: 0.8845 - recall: 0.8547 - val_loss: 0.9191 - val_accuracy: 0.9124 - val_precision: 0.9454 - val_recall: 0.8946\n",
      "Epoch 7/25\n",
      "160/160 [==============================] - 45s 283ms/step - loss: 1.2662 - accuracy: 0.8869 - precision: 0.9193 - recall: 0.8865 - val_loss: 0.8464 - val_accuracy: 0.9091 - val_precision: 0.9218 - val_recall: 0.9145\n",
      "Epoch 8/25\n",
      "160/160 [==============================] - 45s 283ms/step - loss: 1.5443 - accuracy: 0.8752 - precision: 0.9074 - recall: 0.8773 - val_loss: 1.4746 - val_accuracy: 0.8847 - val_precision: 0.9854 - val_recall: 0.8052\n",
      "Epoch 9/25\n",
      "160/160 [==============================] - 45s 283ms/step - loss: 1.7650 - accuracy: 0.8524 - precision: 0.8930 - recall: 0.8523 - val_loss: 1.7016 - val_accuracy: 0.8692 - val_precision: 0.9873 - val_recall: 0.7753\n",
      "Epoch 10/25\n",
      "160/160 [==============================] - 45s 284ms/step - loss: 1.1819 - accuracy: 0.8924 - precision: 0.9227 - recall: 0.8925 - val_loss: 2.7492 - val_accuracy: 0.8182 - val_precision: 0.9942 - val_recall: 0.6779\n",
      "Epoch 11/25\n",
      "160/160 [==============================] - 46s 284ms/step - loss: 1.6294 - accuracy: 0.8672 - precision: 0.9036 - recall: 0.8640 - val_loss: 0.9770 - val_accuracy: 0.9157 - val_precision: 0.8976 - val_recall: 0.9583\n",
      "Epoch 12/25\n",
      "160/160 [==============================] - 46s 285ms/step - loss: 2.0588 - accuracy: 0.8494 - precision: 0.8872 - recall: 0.8525 - val_loss: 1.2689 - val_accuracy: 0.9002 - val_precision: 0.9683 - val_recall: 0.8489\n",
      "Epoch 13/25\n",
      "160/160 [==============================] - 46s 285ms/step - loss: 1.0743 - accuracy: 0.8983 - precision: 0.9268 - recall: 0.8993 - val_loss: 1.0004 - val_accuracy: 0.9069 - val_precision: 0.9448 - val_recall: 0.8847\n",
      "Epoch 14/25\n",
      "160/160 [==============================] - 45s 283ms/step - loss: 1.0923 - accuracy: 0.9016 - precision: 0.9270 - recall: 0.9031 - val_loss: 1.3943 - val_accuracy: 0.8914 - val_precision: 0.9742 - val_recall: 0.8270\n",
      "Epoch 15/25\n",
      "160/160 [==============================] - 45s 283ms/step - loss: 1.2305 - accuracy: 0.8851 - precision: 0.9146 - recall: 0.8849 - val_loss: 1.3673 - val_accuracy: 0.8880 - val_precision: 0.9741 - val_recall: 0.8211\n",
      "Epoch 16/25\n",
      "160/160 [==============================] - 45s 283ms/step - loss: 1.3005 - accuracy: 0.8891 - precision: 0.9180 - recall: 0.8901 - val_loss: 1.6391 - val_accuracy: 0.8725 - val_precision: 0.9802 - val_recall: 0.7873\n",
      "Epoch 17/25\n",
      "160/160 [==============================] - 45s 283ms/step - loss: 1.0233 - accuracy: 0.9037 - precision: 0.9328 - recall: 0.9014 - val_loss: 0.8658 - val_accuracy: 0.9091 - val_precision: 0.9202 - val_recall: 0.9165\n",
      "Epoch 18/25\n",
      "160/160 [==============================] - 45s 283ms/step - loss: 1.5965 - accuracy: 0.8721 - precision: 0.9037 - recall: 0.8739 - val_loss: 1.0280 - val_accuracy: 0.9102 - val_precision: 0.9567 - val_recall: 0.8787\n",
      "Epoch 19/25\n",
      "160/160 [==============================] - 45s 283ms/step - loss: 1.6535 - accuracy: 0.8656 - precision: 0.9029 - recall: 0.8684 - val_loss: 0.8470 - val_accuracy: 0.9191 - val_precision: 0.9167 - val_recall: 0.9404\n",
      "Epoch 20/25\n",
      "160/160 [==============================] - 45s 283ms/step - loss: 1.1730 - accuracy: 0.8896 - precision: 0.9163 - recall: 0.8920 - val_loss: 1.0335 - val_accuracy: 0.9102 - val_precision: 0.8822 - val_recall: 0.9682\n",
      "Epoch 21/25\n",
      "160/160 [==============================] - 45s 284ms/step - loss: 1.0437 - accuracy: 0.8936 - precision: 0.9221 - recall: 0.8973 - val_loss: 0.8810 - val_accuracy: 0.9146 - val_precision: 0.9096 - val_recall: 0.9404\n",
      "Epoch 22/25\n",
      "160/160 [==============================] - 45s 284ms/step - loss: 1.3003 - accuracy: 0.8825 - precision: 0.9132 - recall: 0.8839 - val_loss: 1.6199 - val_accuracy: 0.8725 - val_precision: 0.9826 - val_recall: 0.7853\n",
      "Epoch 23/25\n",
      "160/160 [==============================] - 45s 283ms/step - loss: 1.0217 - accuracy: 0.9014 - precision: 0.9296 - recall: 0.9010 - val_loss: 1.6575 - val_accuracy: 0.8703 - val_precision: 0.9874 - val_recall: 0.7773\n",
      "Epoch 24/25\n",
      "160/160 [==============================] - 45s 284ms/step - loss: 1.5252 - accuracy: 0.8791 - precision: 0.9149 - recall: 0.8823 - val_loss: 1.8220 - val_accuracy: 0.8603 - val_precision: 0.9896 - val_recall: 0.7575\n",
      "Epoch 25/25\n",
      "160/160 [==============================] - 45s 284ms/step - loss: 2.0574 - accuracy: 0.8530 - precision: 0.8926 - recall: 0.8537 - val_loss: 1.3945 - val_accuracy: 0.8869 - val_precision: 0.9785 - val_recall: 0.8151\n"
     ]
    }
   ],
   "source": [
    "baseline_history = baseline_model.fit(x = train_set, class_weight=class_weight, validation_data = validation_set, epochs=25 )"
   ]
  },
  {
   "cell_type": "markdown",
   "metadata": {},
   "source": [
    "#### 3.1 Training the CNN"
   ]
  },
  {
   "cell_type": "code",
   "execution_count": 62,
   "metadata": {
    "scrolled": false
   },
   "outputs": [
    {
     "name": "stdout",
     "output_type": "stream",
     "text": [
      "Epoch 1/25\n",
      "160/160 [==============================] - 49s 289ms/step - loss: 0.8571 - accuracy: 0.6675 - precision: 0.7789 - recall: 0.6054 - val_loss: 0.2549 - val_accuracy: 0.8991 - val_precision: 0.9882 - val_recall: 0.8290\n",
      "Epoch 2/25\n",
      "160/160 [==============================] - 45s 284ms/step - loss: 0.2120 - accuracy: 0.9183 - precision: 0.9461 - recall: 0.9102 - val_loss: 0.1690 - val_accuracy: 0.9368 - val_precision: 0.9912 - val_recall: 0.8946\n",
      "Epoch 3/25\n",
      "160/160 [==============================] - 49s 304ms/step - loss: 0.1712 - accuracy: 0.9393 - precision: 0.9599 - recall: 0.9365 - val_loss: 0.1390 - val_accuracy: 0.9424 - val_precision: 0.9870 - val_recall: 0.9085\n",
      "Epoch 4/25\n",
      "160/160 [==============================] - 50s 314ms/step - loss: 0.1486 - accuracy: 0.9456 - precision: 0.9677 - recall: 0.9394 - val_loss: 0.1085 - val_accuracy: 0.9590 - val_precision: 0.9854 - val_recall: 0.9404\n",
      "Epoch 5/25\n",
      "160/160 [==============================] - 50s 313ms/step - loss: 0.1550 - accuracy: 0.9434 - precision: 0.9628 - recall: 0.9400 - val_loss: 0.1222 - val_accuracy: 0.9479 - val_precision: 0.9935 - val_recall: 0.9125\n",
      "Epoch 6/25\n",
      "160/160 [==============================] - 51s 316ms/step - loss: 0.1387 - accuracy: 0.9488 - precision: 0.9654 - recall: 0.9466 - val_loss: 0.1251 - val_accuracy: 0.9468 - val_precision: 0.9935 - val_recall: 0.9105\n",
      "Epoch 7/25\n",
      "160/160 [==============================] - 50s 314ms/step - loss: 0.1410 - accuracy: 0.9484 - precision: 0.9683 - recall: 0.9414 - val_loss: 0.0936 - val_accuracy: 0.9590 - val_precision: 0.9834 - val_recall: 0.9423\n",
      "Epoch 8/25\n",
      "160/160 [==============================] - 50s 312ms/step - loss: 0.1321 - accuracy: 0.9521 - precision: 0.9703 - recall: 0.9487 - val_loss: 0.1290 - val_accuracy: 0.9568 - val_precision: 0.9957 - val_recall: 0.9264\n",
      "Epoch 9/25\n",
      "160/160 [==============================] - 50s 313ms/step - loss: 0.1299 - accuracy: 0.9517 - precision: 0.9681 - recall: 0.9495 - val_loss: 0.0977 - val_accuracy: 0.9612 - val_precision: 0.9895 - val_recall: 0.9404\n",
      "Epoch 10/25\n",
      "160/160 [==============================] - 49s 304ms/step - loss: 0.1024 - accuracy: 0.9617 - precision: 0.9794 - recall: 0.9545 - val_loss: 0.0790 - val_accuracy: 0.9723 - val_precision: 0.9761 - val_recall: 0.9742\n",
      "Epoch 11/25\n",
      "160/160 [==============================] - 48s 301ms/step - loss: 0.1057 - accuracy: 0.9590 - precision: 0.9717 - recall: 0.9588 - val_loss: 0.0772 - val_accuracy: 0.9745 - val_precision: 0.9839 - val_recall: 0.9702\n",
      "Epoch 12/25\n",
      "160/160 [==============================] - 48s 302ms/step - loss: 0.1015 - accuracy: 0.9658 - precision: 0.9761 - recall: 0.9654 - val_loss: 0.0921 - val_accuracy: 0.9590 - val_precision: 0.9895 - val_recall: 0.9364\n",
      "Epoch 13/25\n",
      "160/160 [==============================] - 49s 307ms/step - loss: 0.0960 - accuracy: 0.9648 - precision: 0.9772 - recall: 0.9613 - val_loss: 0.0692 - val_accuracy: 0.9745 - val_precision: 0.9878 - val_recall: 0.9662\n",
      "Epoch 14/25\n",
      "160/160 [==============================] - 49s 309ms/step - loss: 0.0848 - accuracy: 0.9701 - precision: 0.9826 - recall: 0.9668 - val_loss: 0.0884 - val_accuracy: 0.9656 - val_precision: 0.9739 - val_recall: 0.9642\n",
      "Epoch 15/25\n",
      "160/160 [==============================] - 47s 292ms/step - loss: 0.0894 - accuracy: 0.9677 - precision: 0.9801 - recall: 0.9646 - val_loss: 0.0781 - val_accuracy: 0.9678 - val_precision: 0.9937 - val_recall: 0.9483\n",
      "Epoch 16/25\n",
      "160/160 [==============================] - 48s 299ms/step - loss: 0.0717 - accuracy: 0.9716 - precision: 0.9799 - recall: 0.9715 - val_loss: 0.0728 - val_accuracy: 0.9701 - val_precision: 0.9818 - val_recall: 0.9642\n",
      "Epoch 17/25\n",
      "160/160 [==============================] - 48s 298ms/step - loss: 0.0927 - accuracy: 0.9707 - precision: 0.9803 - recall: 0.9701 - val_loss: 0.0877 - val_accuracy: 0.9634 - val_precision: 0.9958 - val_recall: 0.9384\n",
      "Epoch 18/25\n",
      "160/160 [==============================] - 49s 304ms/step - loss: 0.0851 - accuracy: 0.9670 - precision: 0.9854 - recall: 0.9591 - val_loss: 0.0657 - val_accuracy: 0.9734 - val_precision: 0.9838 - val_recall: 0.9682\n",
      "Epoch 19/25\n",
      "160/160 [==============================] - 46s 285ms/step - loss: 0.0681 - accuracy: 0.9766 - precision: 0.9842 - recall: 0.9763 - val_loss: 0.0749 - val_accuracy: 0.9690 - val_precision: 0.9877 - val_recall: 0.9563\n",
      "Epoch 20/25\n",
      "160/160 [==============================] - 46s 289ms/step - loss: 0.0862 - accuracy: 0.9694 - precision: 0.9787 - recall: 0.9682 - val_loss: 0.0886 - val_accuracy: 0.9634 - val_precision: 1.0000 - val_recall: 0.9344\n",
      "Epoch 21/25\n",
      "160/160 [==============================] - 47s 293ms/step - loss: 0.0897 - accuracy: 0.9712 - precision: 0.9813 - recall: 0.9693 - val_loss: 0.0774 - val_accuracy: 0.9678 - val_precision: 0.9897 - val_recall: 0.9523\n",
      "Epoch 22/25\n",
      "160/160 [==============================] - 46s 289ms/step - loss: 0.0842 - accuracy: 0.9669 - precision: 0.9774 - recall: 0.9661 - val_loss: 0.0691 - val_accuracy: 0.9712 - val_precision: 0.9918 - val_recall: 0.9563\n",
      "Epoch 23/25\n",
      "160/160 [==============================] - 46s 288ms/step - loss: 0.0737 - accuracy: 0.9726 - precision: 0.9807 - recall: 0.9725 - val_loss: 0.0753 - val_accuracy: 0.9678 - val_precision: 0.9897 - val_recall: 0.9523\n",
      "Epoch 24/25\n",
      "160/160 [==============================] - 46s 288ms/step - loss: 0.0694 - accuracy: 0.9731 - precision: 0.9835 - recall: 0.9707 - val_loss: 0.0676 - val_accuracy: 0.9712 - val_precision: 0.9877 - val_recall: 0.9602\n",
      "Epoch 25/25\n",
      "160/160 [==============================] - 46s 287ms/step - loss: 0.0631 - accuracy: 0.9771 - precision: 0.9873 - recall: 0.9731 - val_loss: 0.0836 - val_accuracy: 0.9712 - val_precision: 0.9938 - val_recall: 0.9543\n"
     ]
    }
   ],
   "source": [
    "# NOTE - cannot use the validation_split when using data set generators so need to split the dataframe manually\n",
    "# into train and validation set. This was done above\n",
    "\n",
    "#callback = tf.keras.callbacks.EarlyStopping(monitor='loss', mode=\"min\", patience=3, restore_best_weights=True)\n",
    "#history = cnn.fit(x = train_set, class_weight=class_weight, validation_data = validation_set, epochs=100, callbacks=[callback] )\n",
    "history = cnn.fit(x = train_set, class_weight=class_weight, validation_data = validation_set, epochs=25 )"
   ]
  },
  {
   "cell_type": "markdown",
   "metadata": {},
   "source": [
    "### Evaluating"
   ]
  },
  {
   "cell_type": "markdown",
   "metadata": {},
   "source": [
    "#### 1. Examine the loss and accuracy curves"
   ]
  },
  {
   "cell_type": "code",
   "execution_count": 104,
   "metadata": {},
   "outputs": [
    {
     "data": {
      "image/png": "[encoded data removed]",
      "text/plain": [
       "<Figure size 1440x720 with 2 Axes>"
      ]
     },
     "metadata": {
      "needs_background": "light"
     },
     "output_type": "display_data"
    }
   ],
   "source": [
    "plt.figure(figsize=(20,10))\n",
    "\n",
    "# plot loss & val loss\n",
    "plt.subplot(1,2,1)\n",
    "# baseline\n",
    "sns.lineplot(x=baseline_history.epoch, y=baseline_history.history['loss'], color='blue',  dashes=True,markers=True, label='baseline Train Loss')\n",
    "sns.lineplot(x=baseline_history.epoch, y=baseline_history.history['val_loss'], color='lightblue', label='baseline Val Loss')\n",
    "# cnn\n",
    "sns.lineplot(x=history.epoch, y=history.history['loss'], color='red', label='Train Loss')\n",
    "sns.lineplot(x=history.epoch, y=history.history['val_loss'], color='orange', label='Val Loss')\n",
    "plt.ylim(0, 3)\n",
    "plt.title('Loss on train vs validation')\n",
    "plt.legend(loc='best')\n",
    "plt.xlabel('epoch')\n",
    "plt.ylabel('loss')\n",
    "\n",
    "# plot accuracy and val accuracy\n",
    "plt.subplot(1,2,2)\n",
    "# baseline\n",
    "sns.lineplot(x=baseline_history.epoch, y=baseline_history.history['accuracy'], color='purple', label='baseline Train Accuracy')\n",
    "sns.lineplot(x=baseline_history.epoch, y=baseline_history.history['val_accuracy'], color='magenta', label='baseline Val Accuracy')\n",
    "# cnn\n",
    "sns.lineplot(x=history.epoch, y=history.history['accuracy'], color='blue', label='Train Accuracy')\n",
    "sns.lineplot(x=history.epoch, y=history.history['val_accuracy'], color='green', label='Val Accuracy')\n",
    "\n",
    "plt.title('Accuracy on train vs validation')\n",
    "plt.legend(loc='best')\n",
    "plt.xlabel('epoch')\n",
    "plt.ylabel('accuracy')\n",
    "\n",
    "plt.show()"
   ]
  },
  {
   "cell_type": "markdown",
   "metadata": {},
   "source": [
    "#### 2.0 Evaluate performance of the baseline model on the test set"
   ]
  },
  {
   "cell_type": "code",
   "execution_count": 106,
   "metadata": {},
   "outputs": [
    {
     "name": "stdout",
     "output_type": "stream",
     "text": [
      "metrics on validation set\n",
      "29/29 [==============================] - 5s 161ms/step - loss: 1.3945 - accuracy: 0.8869 - precision: 0.9785 - recall: 0.8151\n",
      "[1.3944711685180664, 0.8869179487228394, 0.9785202741622925, 0.815109372138977]\n",
      "metrics on test set\n",
      "34/34 [==============================] - 4s 118ms/step - loss: 2.0121 - accuracy: 0.8311 - precision: 0.8630 - recall: 0.8562\n",
      "[2.0121426582336426, 0.8311320543289185, 0.8629921078681946, 0.856249988079071]\n",
      "number of train labels  5109\n",
      "number of validation labels  902\n",
      "number of test labels  1060\n"
     ]
    }
   ],
   "source": [
    "print(\"metrics on validation set\")\n",
    "validation_accu = baseline_model.evaluate(validation_set)\n",
    "print(validation_accu)\n",
    "\n",
    "print(\"metrics on test set\")\n",
    "test_accu = baseline_model.evaluate(test_set)\n",
    "print(test_accu)\n",
    "\n",
    "# get the ground truth of your data. \n",
    "train_labels = train_set.classes \n",
    "validation_labels = validation_set.classes\n",
    "test_labels = test_set.classes\n",
    "print(\"number of train labels \",len(train_labels))\n",
    "print(\"number of validation labels \",len(validation_labels))\n",
    "print(\"number of test labels \",len(test_labels))"
   ]
  },
  {
   "cell_type": "code",
   "execution_count": 107,
   "metadata": {},
   "outputs": [
    {
     "name": "stdout",
     "output_type": "stream",
     "text": [
      "predicting...\n",
      "34/34 [==============================] - 4s 118ms/step\n",
      "number of predictions  1060\n"
     ]
    }
   ],
   "source": [
    "print(\"predicting...\")\n",
    "predictions = (baseline_model.predict(test_set, verbose=1) > 0.5).astype(\"int32\")\n",
    "print(\"number of predictions \", len(predictions))"
   ]
  },
  {
   "cell_type": "code",
   "execution_count": 110,
   "metadata": {},
   "outputs": [
    {
     "name": "stdout",
     "output_type": "stream",
     "text": [
      "classification report\n",
      "              precision    recall  f1-score   support\n",
      "\n",
      "           0       0.78      0.79      0.79       420\n",
      "           1       0.86      0.86      0.86       640\n",
      "\n",
      "    accuracy                           0.83      1060\n",
      "   macro avg       0.82      0.82      0.82      1060\n",
      "weighted avg       0.83      0.83      0.83      1060\n",
      "\n",
      "confusion matrix\n",
      "[[333  87]\n",
      " [ 92 548]]\n"
     ]
    },
    {
     "data": {
      "image/png": "[encoded data removed]",
      "text/plain": [
       "<Figure size 360x360 with 1 Axes>"
      ]
     },
     "metadata": {
      "needs_background": "light"
     },
     "output_type": "display_data"
    }
   ],
   "source": [
    "# get the class with highest probability for each sample\n",
    "#y_pred = (predictions > 0.5).astype(\"int32\")\n",
    "\n",
    "# get the classification report\n",
    "print(\"classification report\")\n",
    "print(classification_report(test_labels, predictions))\n",
    "#print(classification_report(train_set.labels, predictions, target_names = ['Pneumonia (Class 0)','Normal (Class 1)']))\n",
    "\n",
    "CM = confusion_matrix(test_set.classes, predictions)\n",
    "print(\"confusion matrix\")\n",
    "print(CM)\n",
    "\n",
    "fig, ax = plot_confusion_matrix(conf_mat=CM ,  figsize=(5, 5))\n",
    "plt.show()"
   ]
  },
  {
   "cell_type": "markdown",
   "metadata": {},
   "source": [
    "#### 2.1 Evaluate performance of the CNN model on the test set"
   ]
  },
  {
   "cell_type": "code",
   "execution_count": 64,
   "metadata": {},
   "outputs": [
    {
     "name": "stdout",
     "output_type": "stream",
     "text": [
      "metrics on validation set\n",
      "29/29 [==============================] - 5s 162ms/step - loss: 0.0836 - accuracy: 0.9712 - precision: 0.9938 - recall: 0.9543\n",
      "[0.08361438661813736, 0.9711751937866211, 0.9937888383865356, 0.9542743563652039]\n",
      "metrics on test set\n",
      "34/34 [==============================] - 4s 121ms/step - loss: 0.6830 - accuracy: 0.8642 - precision: 0.8324 - recall: 0.9703\n",
      "[0.6829967498779297, 0.8641509413719177, 0.832439661026001, 0.9703124761581421]\n",
      "number of train labels  5109\n",
      "number of validation labels  902\n",
      "number of test labels  1060\n"
     ]
    }
   ],
   "source": [
    "print(\"metrics on validation set\")\n",
    "validation_accu = cnn.evaluate(validation_set)\n",
    "print(validation_accu)\n",
    "\n",
    "print(\"metrics on test set\")\n",
    "test_accu = cnn.evaluate(test_set)\n",
    "print(test_accu)\n",
    "\n",
    "# get the ground truth of your data. \n",
    "train_labels = train_set.classes \n",
    "validation_labels = validation_set.classes\n",
    "test_labels = test_set.classes\n",
    "print(\"number of train labels \",len(train_labels))\n",
    "print(\"number of validation labels \",len(validation_labels))\n",
    "print(\"number of test labels \",len(test_labels))"
   ]
  },
  {
   "cell_type": "code",
   "execution_count": null,
   "metadata": {},
   "outputs": [],
   "source": []
  },
  {
   "cell_type": "code",
   "execution_count": 65,
   "metadata": {},
   "outputs": [
    {
     "name": "stdout",
     "output_type": "stream",
     "text": [
      "predicting...\n",
      "34/34 [==============================] - 4s 119ms/step\n",
      "number of predictions  1060\n"
     ]
    }
   ],
   "source": [
    "# predict the probability distribution of the data\n",
    "\n",
    "# WARNING:tensorflow:From <ipython-input-72-9913226a8330>:3: Sequential.predict_classes (from tensorflow.python.keras.engine.sequential) is deprecated and will be removed after 2021-01-01.\n",
    "# Instructions for updating:\n",
    "# Please use instead:* \n",
    "# `np.argmax(model.predict(x), axis=-1)`,   if your model does multi-class classification   (e.g. if it uses a `softmax` last-layer activation).* \n",
    "# `(model.predict(x) > 0.5).astype(\"int32\")`,   if your model does binary classification   (e.g. if it uses a `sigmoid` last-layer activation).\n",
    "\n",
    "print(\"predicting...\")\n",
    "predictions = (cnn.predict(test_set, verbose=1) > 0.5).astype(\"int32\")\n",
    "print(\"number of predictions \", len(predictions))"
   ]
  },
  {
   "cell_type": "code",
   "execution_count": 66,
   "metadata": {},
   "outputs": [
    {
     "name": "stdout",
     "output_type": "stream",
     "text": [
      "classification report\n",
      "              precision    recall  f1-score   support\n",
      "\n",
      "           0       0.94      0.70      0.80       420\n",
      "           1       0.83      0.97      0.90       640\n",
      "\n",
      "    accuracy                           0.86      1060\n",
      "   macro avg       0.89      0.84      0.85      1060\n",
      "weighted avg       0.87      0.86      0.86      1060\n",
      "\n",
      "confusion matrix\n",
      "[[295 125]\n",
      " [ 19 621]]\n"
     ]
    },
    {
     "data": {
      "image/png": "[encoded data removed]",
      "text/plain": [
       "<Figure size 360x360 with 1 Axes>"
      ]
     },
     "metadata": {
      "needs_background": "light"
     },
     "output_type": "display_data"
    }
   ],
   "source": [
    "# get the class with highest probability for each sample\n",
    "#y_pred = (predictions > 0.5).astype(\"int32\")\n",
    "\n",
    "# get the classification report\n",
    "print(\"classification report\")\n",
    "print(classification_report(test_labels, predictions))\n",
    "#print(classification_report(train_set.labels, predictions, target_names = ['Pneumonia (Class 0)','Normal (Class 1)']))\n",
    "\n",
    "CM = confusion_matrix(test_set.classes, predictions)\n",
    "print(\"confusion matrix\")\n",
    "print(CM)\n",
    "\n",
    "fig, ax = plot_confusion_matrix(conf_mat=CM ,  figsize=(5, 5))\n",
    "plt.show()"
   ]
  },
  {
   "cell_type": "markdown",
   "metadata": {},
   "source": [
    "TODO:\n",
    "\n",
    "- compare some different algorithms/nn architectures to the baseline model and plot the results\n",
    "- then pick the best performing model\n",
    "- run hyperparameter tuning on the chosen model to improve further\n",
    "\n",
    "- The CNN model is not doing very good on the 'normal' images (class 0) probably because there are not very many of them to learn from compared to pneumonia images. adding the class weights didn't seem to help very much. - Try and find some more normal lung chest x-rays online and supplement the training set with them\n"
   ]
  },
  {
   "cell_type": "code",
   "execution_count": null,
   "metadata": {},
   "outputs": [],
   "source": []
  }
 ],
 "metadata": {
  "kernelspec": {
   "display_name": "Python 3",
   "language": "python",
   "name": "python3"
  },
  "language_info": {
   "codemirror_mode": {
    "name": "ipython",
    "version": 3
   },
   "file_extension": ".py",
   "mimetype": "text/x-python",
   "name": "python",
   "nbconvert_exporter": "python",
   "pygments_lexer": "ipython3",
   "version": "3.6.8"
  }
 },
 "nbformat": 4,
 "nbformat_minor": 4
}
