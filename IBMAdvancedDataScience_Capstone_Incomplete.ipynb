{
 "cells": [
  {
   "cell_type": "markdown",
   "metadata": {},
   "source": [
    "### IBM Advanced Data Science Capstone Project\n",
    "\n",
    "#### Salvatore Salpietro\n",
    "\n",
    "Building a classifier to detect diseased lung from chest x-ray images.\n",
    "\n",
    "##### Summary\n",
    "\n",
    "TODO"
   ]
  },
  {
   "cell_type": "code",
   "execution_count": 81,
   "metadata": {},
   "outputs": [],
   "source": [
    "from skimage import io # allows to read images\n",
    "from matplotlib import pyplot\n",
    "from pathlib import Path\n",
    "from natsort import natsorted, ns # natural sorting\n",
    "\n",
    "import pandas as pd\n",
    "import statistics\n",
    "import random\n",
    "import os\n",
    "import seaborn as sns"
   ]
  },
  {
   "cell_type": "markdown",
   "metadata": {},
   "source": [
    "### Data analysis step\n",
    "\n",
    "Determine the characteristics of the data and statistics "
   ]
  },
  {
   "cell_type": "markdown",
   "metadata": {},
   "source": [
    "#### 1. Data source\n",
    "\n",
    "Data was obtained from the following source \n",
    "https://data.mendeley.com/datasets/rscbjbr9sj/3\n",
    "\n",
    "We are provided with an archive file containing a set of chest x-rays.  Images are provided in two separate folders, test and train.  Within those folders images are separated into two classes - normal and pneumonia.  "
   ]
  },
  {
   "cell_type": "raw",
   "metadata": {},
   "source": [
    "chest-xray\n",
    "|__test\n",
    "|  |__NORMAL\n",
    "|  |__PNEUMONIA\n",
    "|\n",
    "|__train\n",
    "   |__NORMAL\n",
    "   |__PNEUMONIA"
   ]
  },
  {
   "cell_type": "markdown",
   "metadata": {},
   "source": [
    "#### 2. Characteristics of files"
   ]
  },
  {
   "cell_type": "code",
   "execution_count": 2,
   "metadata": {},
   "outputs": [],
   "source": [
    "sizes = [] # sizes in kb\n",
    "all_extensions = set([])\n",
    "filenum = []\n",
    "count = 0\n",
    "\n",
    "test_images = []\n",
    "test_labels = []\n",
    "\n",
    "train_images = []\n",
    "train_labels = []\n",
    "\n",
    "#training set\n",
    "for root, dirs, files in os.walk(\"E:\\COURSES\\Advanced Data Science With IBM\\Advanced Data Science Capstone\\\\assignment\\data\\chest_xray\\\\train\"):\n",
    "    #print('dirs', dirs)\n",
    "    for name in files:\n",
    "        #print('name', name)\n",
    "        #print(os.path.basename(root))\n",
    "        \n",
    "        file_name, file_extension = os.path.splitext(name)\n",
    "        all_extensions.add(file_extension)\n",
    "        \n",
    "        stats = os.stat(os.path.join(root, name))\n",
    "        count = count + 1\n",
    "        \n",
    "        sizes.append(stats.st_size/1000) \n",
    "        \n",
    "        #if(stats.st_size/1000 < 12):\n",
    "        #    discarded.append(os.path.join(root, name))\n",
    "        #else:\n",
    "        train_images.append(os.path.join(root, name))\n",
    "        train_labels.append(os.path.basename(root))\n",
    "        \n",
    "        filenum.append(count)\n",
    "\n",
    "#test set\n",
    "for root, dirs, files in os.walk(\"E:\\COURSES\\Advanced Data Science With IBM\\Advanced Data Science Capstone\\\\assignment\\data\\chest_xray\\\\test\"):\n",
    "    #print('dirs', dirs)\n",
    "    for name in files:\n",
    "        #print('name', name)\n",
    "        #print(os.path.basename(root))\n",
    "        \n",
    "        file_name, file_extension = os.path.splitext(name)\n",
    "        all_extensions.add(file_extension)\n",
    "\n",
    "        stats = os.stat(os.path.join(root, name))\n",
    "        count = count + 1\n",
    "        \n",
    "        sizes.append(stats.st_size/1000)\n",
    "        \n",
    "        #if(stats.st_size/1000 < 12):\n",
    "        #    discarded.append(os.path.join(root, name))\n",
    "        #else:\n",
    "        test_images.append(os.path.join(root, name))\n",
    "        test_labels.append(os.path.basename(root))\n",
    "        \n",
    "        filenum.append(count)"
   ]
  },
  {
   "cell_type": "markdown",
   "metadata": {},
   "source": [
    "##### 2.1. File names"
   ]
  },
  {
   "cell_type": "markdown",
   "metadata": {},
   "source": [
    "File names for images of dieases lungs contain a unique anonymized person number as well as the text 'bacteris' or 'virus' indicating if the pnemonia was caused by a virus or bacteris.  Example person426_virus_873\n",
    "\n",
    "File names for images of normal lungs contain the work 'NORMAL'. Example - NORMAL2-IM-1250-0001"
   ]
  },
  {
   "cell_type": "markdown",
   "metadata": {},
   "source": [
    "##### 2.2. File extensions"
   ]
  },
  {
   "cell_type": "code",
   "execution_count": 3,
   "metadata": {},
   "outputs": [
    {
     "name": "stdout",
     "output_type": "stream",
     "text": [
      "{'.jpeg'}\n"
     ]
    }
   ],
   "source": [
    "print(all_extensions)"
   ]
  },
  {
   "cell_type": "markdown",
   "metadata": {},
   "source": [
    "Files are all the same type - jpeg"
   ]
  },
  {
   "cell_type": "markdown",
   "metadata": {},
   "source": [
    "##### 2.3. Total number of image files"
   ]
  },
  {
   "cell_type": "code",
   "execution_count": 4,
   "metadata": {},
   "outputs": [],
   "source": [
    "total_image_files = len(train_images) + len(test_images)"
   ]
  },
  {
   "cell_type": "code",
   "execution_count": 5,
   "metadata": {},
   "outputs": [
    {
     "name": "stdout",
     "output_type": "stream",
     "text": [
      "5856\n"
     ]
    }
   ],
   "source": [
    "print(total_image_files)"
   ]
  },
  {
   "cell_type": "markdown",
   "metadata": {},
   "source": [
    "There are a total of 5856 files across both folders (test and train)"
   ]
  },
  {
   "cell_type": "markdown",
   "metadata": {},
   "source": [
    "##### 2.4. Distribution of image files in test and train folders"
   ]
  },
  {
   "cell_type": "code",
   "execution_count": 6,
   "metadata": {},
   "outputs": [
    {
     "data": {
      "text/plain": [
       "624"
      ]
     },
     "execution_count": 6,
     "metadata": {},
     "output_type": "execute_result"
    }
   ],
   "source": [
    "len(test_images)"
   ]
  },
  {
   "cell_type": "code",
   "execution_count": 7,
   "metadata": {},
   "outputs": [
    {
     "data": {
      "text/plain": [
       "5232"
      ]
     },
     "execution_count": 7,
     "metadata": {},
     "output_type": "execute_result"
    }
   ],
   "source": [
    "len(train_images)"
   ]
  },
  {
   "cell_type": "markdown",
   "metadata": {},
   "source": [
    "Train / Test split is about 89.4 / 10.6. "
   ]
  },
  {
   "cell_type": "markdown",
   "metadata": {},
   "source": [
    "##### 2.5 Class distribution"
   ]
  },
  {
   "cell_type": "code",
   "execution_count": 59,
   "metadata": {},
   "outputs": [],
   "source": [
    "pneumonia = [i for i in train_labels if i == 'PNEUMONIA']\n",
    "normal = [i for i in train_labels if i == 'NORMAL']"
   ]
  },
  {
   "cell_type": "code",
   "execution_count": 60,
   "metadata": {},
   "outputs": [
    {
     "data": {
      "text/plain": [
       "1349"
      ]
     },
     "execution_count": 60,
     "metadata": {},
     "output_type": "execute_result"
    }
   ],
   "source": [
    "len(normal)"
   ]
  },
  {
   "cell_type": "code",
   "execution_count": 61,
   "metadata": {},
   "outputs": [
    {
     "data": {
      "text/plain": [
       "3883"
      ]
     },
     "execution_count": 61,
     "metadata": {},
     "output_type": "execute_result"
    }
   ],
   "source": [
    "len(pneumonia)"
   ]
  },
  {
   "cell_type": "code",
   "execution_count": 65,
   "metadata": {},
   "outputs": [
    {
     "name": "stdout",
     "output_type": "stream",
     "text": [
      "There are  2.878428465530022  more pneumonia images than normal images\n"
     ]
    }
   ],
   "source": [
    "print('There are ', len(pneumonia)/len(normal), ' more pneumonia images than normal images')"
   ]
  },
  {
   "cell_type": "markdown",
   "metadata": {},
   "source": [
    "#### 4. Size of the images"
   ]
  },
  {
   "cell_type": "code",
   "execution_count": 8,
   "metadata": {},
   "outputs": [
    {
     "data": {
      "image/png": "[encoded data removed]",
      "text/plain": [
       "<Figure size 432x288 with 1 Axes>"
      ]
     },
     "metadata": {
      "needs_background": "light"
     },
     "output_type": "display_data"
    }
   ],
   "source": [
    "import matplotlib.pyplot as plt\n",
    "\n",
    "b = [i for i in range(0,2500,10)]\n",
    "\n",
    "plt.xlabel('file size (kb)')\n",
    "plt.ylabel('# of files')\n",
    "plt.hist(sizes, bins=b,  color='#184A45FF')\n",
    "plt.show()"
   ]
  },
  {
   "cell_type": "markdown",
   "metadata": {},
   "source": [
    "Above is a histogram plot to show the ditribution of file sizes.  Most of the files are of size less than 1000 kb."
   ]
  },
  {
   "cell_type": "code",
   "execution_count": 9,
   "metadata": {},
   "outputs": [
    {
     "name": "stdout",
     "output_type": "stream",
     "text": [
      "211.14802015027237\n"
     ]
    }
   ],
   "source": [
    "avg = sum(sizes)/len(sizes)\n",
    "print(avg)"
   ]
  },
  {
   "cell_type": "code",
   "execution_count": 10,
   "metadata": {},
   "outputs": [
    {
     "name": "stdout",
     "output_type": "stream",
     "text": [
      "95.839\n"
     ]
    }
   ],
   "source": [
    "print(statistics.median(sizes))"
   ]
  },
  {
   "cell_type": "code",
   "execution_count": 11,
   "metadata": {},
   "outputs": [
    {
     "name": "stdout",
     "output_type": "stream",
     "text": [
      "5.441\n"
     ]
    }
   ],
   "source": [
    "print(min(sizes))"
   ]
  },
  {
   "cell_type": "code",
   "execution_count": 12,
   "metadata": {},
   "outputs": [
    {
     "name": "stdout",
     "output_type": "stream",
     "text": [
      "2414.342\n"
     ]
    }
   ],
   "source": [
    "print(max(sizes))"
   ]
  },
  {
   "cell_type": "markdown",
   "metadata": {},
   "source": [
    "The mean file size is 211.148\n",
    "\n",
    "The median file size is 95.839\n",
    "\n",
    "The minimum file size observed is 5.441 kb\n",
    "\n",
    "The maximum file size observed is 2412.342 kb"
   ]
  },
  {
   "cell_type": "markdown",
   "metadata": {},
   "source": [
    "Sonce the file sizes are not all the same, some examination of the really small ans really large image files revealed that the really small images aspect ratio did not match those of the majority of images (i.e. they were longer in width than height and did not reveal the full chest/lung view).  These images might be considered outliers.  Further examination of the images below will attempt to exclude such outliers.  "
   ]
  },
  {
   "cell_type": "markdown",
   "metadata": {},
   "source": [
    "#### 4. Aspect ratio of the images"
   ]
  },
  {
   "cell_type": "markdown",
   "metadata": {},
   "source": [
    "The aspect ratio of an image is the ratio of its width to its height.\n",
    "The formula is width / height.\n",
    "\n",
    "Not all the images are of the same aspect ratio. On examining some of the images of smaller size, some did not show the full view of the chest and lungs.  We will remove these images.\n",
    "\n",
    "If the shape of the image is longer in the x axis than it is in the y axis by certain threshold, then discard those images as they only show a section of the full chest image.\n",
    "\n",
    "Choose something x/y must be less than or equal to 2 to constitute an acceptible image. (i.e. if the width is two or more times longer than the height then discard image)"
   ]
  },
  {
   "cell_type": "code",
   "execution_count": 13,
   "metadata": {},
   "outputs": [],
   "source": [
    "temp_train_images = []\n",
    "temp_train_labels = []\n",
    "\n",
    "temp_test_images = []\n",
    "temp_test_labels = []\n",
    "\n",
    "discarded = []\n",
    "\n",
    "for i in range(len(train_images)):\n",
    "    xray = io.imread(train_images[i])\n",
    "    y = xray.shape[0]\n",
    "    x = xray.shape[1]\n",
    "    ratio = x/y\n",
    "    if ratio <= 2:\n",
    "        temp_train_images.append(train_images[i])\n",
    "        temp_train_labels.append(train_labels[i])\n",
    "    else:\n",
    "        discarded.append(train_images[i])\n",
    "        \n",
    "for i in range(len(test_images)):\n",
    "    xray = io.imread(test_images[i])\n",
    "    y = xray.shape[0]\n",
    "    x = xray.shape[1]\n",
    "    ratio = x/y\n",
    "    if ratio <= 2:\n",
    "        temp_test_images.append(test_images[i])\n",
    "        temp_test_labels.append(test_labels[i])\n",
    "    else:\n",
    "        discarded.append(test_images[i])"
   ]
  },
  {
   "cell_type": "code",
   "execution_count": 14,
   "metadata": {},
   "outputs": [
    {
     "name": "stdout",
     "output_type": "stream",
     "text": [
      "updated train set, labels  5116 5116\n",
      "updated test set, labels  614 614\n",
      "discarded images  126\n"
     ]
    }
   ],
   "source": [
    "print('updated train set, labels ', len(temp_train_images), len(temp_train_labels))\n",
    "print('updated test set, labels ', len(temp_test_images), len(temp_test_labels))\n",
    "print('discarded images ', len(discarded))"
   ]
  },
  {
   "cell_type": "markdown",
   "metadata": {},
   "source": [
    "Compare a discarded image to a remaining image in train set."
   ]
  },
  {
   "cell_type": "code",
   "execution_count": 15,
   "metadata": {},
   "outputs": [
    {
     "data": {
      "image/png": "[encoded data removed]",
      "text/plain": [
       "<Figure size 432x288 with 1 Axes>"
      ]
     },
     "metadata": {
      "needs_background": "light"
     },
     "output_type": "display_data"
    },
    {
     "name": "stdout",
     "output_type": "stream",
     "text": [
      "(229, 549, 3)\n"
     ]
    }
   ],
   "source": [
    "import matplotlib.pyplot as plt\n",
    "im = io.imread(discarded[35])\n",
    "imgplot = plt.imshow(im, cmap=\"gray\")\n",
    "plt.show()\n",
    "print(im.shape)"
   ]
  },
  {
   "cell_type": "code",
   "execution_count": 16,
   "metadata": {},
   "outputs": [
    {
     "data": {
      "image/png": "[encoded data removed]",
      "text/plain": [
       "<Figure size 432x288 with 1 Axes>"
      ]
     },
     "metadata": {
      "needs_background": "light"
     },
     "output_type": "display_data"
    },
    {
     "name": "stdout",
     "output_type": "stream",
     "text": [
      "(1152, 1422)\n"
     ]
    }
   ],
   "source": [
    "im = io.imread(temp_train_images[1])\n",
    "imgplot = plt.imshow(im, cmap=\"gray\")\n",
    "plt.show()\n",
    "print(im.shape)"
   ]
  },
  {
   "cell_type": "markdown",
   "metadata": {},
   "source": [
    "#### 4. Redistribute data to a train/validation/test split of 85/15/15\n",
    "\n",
    "Now that the outliers have been removed, we can redistribute the data set to add some more images to the test set to bring the value up to 15%, and then split the remaining test set into a test and validation split of 85/15.\n",
    "\n",
    "We won't touch the images in the test set, rather we will simply move some of the ones from the train set into the test set.\n",
    "\n",
    "Using 15% instead of 20% because we son't have that many images to work with."
   ]
  },
  {
   "cell_type": "code",
   "execution_count": 17,
   "metadata": {},
   "outputs": [
    {
     "name": "stdout",
     "output_type": "stream",
     "text": [
      "total images =  5730\n",
      "percent test  10.715532286212914\n",
      "percent train  89.28446771378708\n"
     ]
    }
   ],
   "source": [
    "# new ratios after removing some outliers\n",
    "\n",
    "total = len(temp_train_images) + len(temp_test_images)\n",
    "print('total images = ', total)\n",
    "\n",
    "percent_test = len(temp_test_images)/total\n",
    "print('percent test ', percent_test*100)\n",
    "\n",
    "percent_train = len(temp_train_images)/total\n",
    "print('percent train ', percent_train*100)"
   ]
  },
  {
   "cell_type": "code",
   "execution_count": 18,
   "metadata": {},
   "outputs": [
    {
     "name": "stdout",
     "output_type": "stream",
     "text": [
      "859.5\n",
      "614\n",
      "need to add an additional  245.5  images\n"
     ]
    }
   ],
   "source": [
    "# calculate number of images to move from train set to test set\n",
    "\n",
    "needed = 0.15*total\n",
    "print(needed)\n",
    "\n",
    "have = len(temp_test_images)\n",
    "print(have)\n",
    "\n",
    "difference = needed - have\n",
    "print(\"need to add an additional \", difference, \" images\")"
   ]
  },
  {
   "cell_type": "code",
   "execution_count": 19,
   "metadata": {},
   "outputs": [],
   "source": [
    "# convert to pandas dataframe\n",
    "\n",
    "# train set\n",
    "data_train = {'file':temp_train_images,'label':temp_train_labels}\n",
    "train_df = pd.DataFrame(data_train)\n",
    "\n",
    "# test set\n",
    "data_test = {'file':temp_test_images,'label':temp_test_labels}\n",
    "test_df = pd.DataFrame(data_test)"
   ]
  },
  {
   "cell_type": "code",
   "execution_count": 20,
   "metadata": {},
   "outputs": [
    {
     "data": {
      "text/html": [
       "<div>\n",
       "<style scoped>\n",
       "    .dataframe tbody tr th:only-of-type {\n",
       "        vertical-align: middle;\n",
       "    }\n",
       "\n",
       "    .dataframe tbody tr th {\n",
       "        vertical-align: top;\n",
       "    }\n",
       "\n",
       "    .dataframe thead th {\n",
       "        text-align: right;\n",
       "    }\n",
       "</style>\n",
       "<table border=\"1\" class=\"dataframe\">\n",
       "  <thead>\n",
       "    <tr style=\"text-align: right;\">\n",
       "      <th></th>\n",
       "      <th>file</th>\n",
       "      <th>label</th>\n",
       "    </tr>\n",
       "  </thead>\n",
       "  <tbody>\n",
       "    <tr>\n",
       "      <th>0</th>\n",
       "      <td>E:\\COURSES\\Advanced Data Science With IBM\\Adva...</td>\n",
       "      <td>NORMAL</td>\n",
       "    </tr>\n",
       "    <tr>\n",
       "      <th>1</th>\n",
       "      <td>E:\\COURSES\\Advanced Data Science With IBM\\Adva...</td>\n",
       "      <td>NORMAL</td>\n",
       "    </tr>\n",
       "    <tr>\n",
       "      <th>2</th>\n",
       "      <td>E:\\COURSES\\Advanced Data Science With IBM\\Adva...</td>\n",
       "      <td>NORMAL</td>\n",
       "    </tr>\n",
       "    <tr>\n",
       "      <th>3</th>\n",
       "      <td>E:\\COURSES\\Advanced Data Science With IBM\\Adva...</td>\n",
       "      <td>NORMAL</td>\n",
       "    </tr>\n",
       "    <tr>\n",
       "      <th>4</th>\n",
       "      <td>E:\\COURSES\\Advanced Data Science With IBM\\Adva...</td>\n",
       "      <td>NORMAL</td>\n",
       "    </tr>\n",
       "    <tr>\n",
       "      <th>...</th>\n",
       "      <td>...</td>\n",
       "      <td>...</td>\n",
       "    </tr>\n",
       "    <tr>\n",
       "      <th>5111</th>\n",
       "      <td>E:\\COURSES\\Advanced Data Science With IBM\\Adva...</td>\n",
       "      <td>PNEUMONIA</td>\n",
       "    </tr>\n",
       "    <tr>\n",
       "      <th>5112</th>\n",
       "      <td>E:\\COURSES\\Advanced Data Science With IBM\\Adva...</td>\n",
       "      <td>PNEUMONIA</td>\n",
       "    </tr>\n",
       "    <tr>\n",
       "      <th>5113</th>\n",
       "      <td>E:\\COURSES\\Advanced Data Science With IBM\\Adva...</td>\n",
       "      <td>PNEUMONIA</td>\n",
       "    </tr>\n",
       "    <tr>\n",
       "      <th>5114</th>\n",
       "      <td>E:\\COURSES\\Advanced Data Science With IBM\\Adva...</td>\n",
       "      <td>PNEUMONIA</td>\n",
       "    </tr>\n",
       "    <tr>\n",
       "      <th>5115</th>\n",
       "      <td>E:\\COURSES\\Advanced Data Science With IBM\\Adva...</td>\n",
       "      <td>PNEUMONIA</td>\n",
       "    </tr>\n",
       "  </tbody>\n",
       "</table>\n",
       "<p>5116 rows × 2 columns</p>\n",
       "</div>"
      ],
      "text/plain": [
       "                                                   file      label\n",
       "0     E:\\COURSES\\Advanced Data Science With IBM\\Adva...     NORMAL\n",
       "1     E:\\COURSES\\Advanced Data Science With IBM\\Adva...     NORMAL\n",
       "2     E:\\COURSES\\Advanced Data Science With IBM\\Adva...     NORMAL\n",
       "3     E:\\COURSES\\Advanced Data Science With IBM\\Adva...     NORMAL\n",
       "4     E:\\COURSES\\Advanced Data Science With IBM\\Adva...     NORMAL\n",
       "...                                                 ...        ...\n",
       "5111  E:\\COURSES\\Advanced Data Science With IBM\\Adva...  PNEUMONIA\n",
       "5112  E:\\COURSES\\Advanced Data Science With IBM\\Adva...  PNEUMONIA\n",
       "5113  E:\\COURSES\\Advanced Data Science With IBM\\Adva...  PNEUMONIA\n",
       "5114  E:\\COURSES\\Advanced Data Science With IBM\\Adva...  PNEUMONIA\n",
       "5115  E:\\COURSES\\Advanced Data Science With IBM\\Adva...  PNEUMONIA\n",
       "\n",
       "[5116 rows x 2 columns]"
      ]
     },
     "execution_count": 20,
     "metadata": {},
     "output_type": "execute_result"
    }
   ],
   "source": [
    "train_df"
   ]
  },
  {
   "cell_type": "code",
   "execution_count": 21,
   "metadata": {},
   "outputs": [
    {
     "data": {
      "text/plain": [
       "('E:\\\\COURSES\\\\Advanced Data Science With IBM\\\\Advanced Data Science Capstone\\\\assignment\\\\data\\\\chest_xray\\\\train\\\\PNEUMONIA\\\\person1326_bacteria_3372.jpeg',\n",
       " 'PNEUMONIA')"
      ]
     },
     "execution_count": 21,
     "metadata": {},
     "output_type": "execute_result"
    }
   ],
   "source": [
    "train_df['file'][2000], train_df['label'][2000]"
   ]
  },
  {
   "cell_type": "code",
   "execution_count": 22,
   "metadata": {},
   "outputs": [
    {
     "data": {
      "text/plain": [
       "('E:\\\\COURSES\\\\Advanced Data Science With IBM\\\\Advanced Data Science Capstone\\\\assignment\\\\data\\\\chest_xray\\\\test\\\\NORMAL\\\\NORMAL2-IM-0340-0001.jpeg',\n",
       " 'NORMAL')"
      ]
     },
     "execution_count": 22,
     "metadata": {},
     "output_type": "execute_result"
    }
   ],
   "source": [
    "test_df['file'][200], test_df['label'][200]"
   ]
  },
  {
   "cell_type": "code",
   "execution_count": 23,
   "metadata": {},
   "outputs": [],
   "source": [
    "# first shuffle rows in train dataframe\n",
    "train_df = train_df.sample(n = len(train_df)).reset_index(drop=True)"
   ]
  },
  {
   "cell_type": "code",
   "execution_count": 24,
   "metadata": {},
   "outputs": [],
   "source": [
    "# then move 245 rows from train dataframe to test dataframe\n",
    "transferdata_df = train_df.iloc[-245:, 0:]\n",
    "\n",
    "test_df = test_df.append(transferdata_df)\n",
    "\n",
    "train_df = train_df.drop(transferdata_df.index)"
   ]
  },
  {
   "cell_type": "code",
   "execution_count": 25,
   "metadata": {},
   "outputs": [],
   "source": [
    "# reset index of test_df\n",
    "test_df = test_df.reset_index(drop=True)"
   ]
  },
  {
   "cell_type": "code",
   "execution_count": 26,
   "metadata": {},
   "outputs": [
    {
     "data": {
      "text/html": [
       "<div>\n",
       "<style scoped>\n",
       "    .dataframe tbody tr th:only-of-type {\n",
       "        vertical-align: middle;\n",
       "    }\n",
       "\n",
       "    .dataframe tbody tr th {\n",
       "        vertical-align: top;\n",
       "    }\n",
       "\n",
       "    .dataframe thead th {\n",
       "        text-align: right;\n",
       "    }\n",
       "</style>\n",
       "<table border=\"1\" class=\"dataframe\">\n",
       "  <thead>\n",
       "    <tr style=\"text-align: right;\">\n",
       "      <th></th>\n",
       "      <th>file</th>\n",
       "      <th>label</th>\n",
       "    </tr>\n",
       "  </thead>\n",
       "  <tbody>\n",
       "    <tr>\n",
       "      <th>0</th>\n",
       "      <td>E:\\COURSES\\Advanced Data Science With IBM\\Adva...</td>\n",
       "      <td>NORMAL</td>\n",
       "    </tr>\n",
       "    <tr>\n",
       "      <th>1</th>\n",
       "      <td>E:\\COURSES\\Advanced Data Science With IBM\\Adva...</td>\n",
       "      <td>PNEUMONIA</td>\n",
       "    </tr>\n",
       "    <tr>\n",
       "      <th>2</th>\n",
       "      <td>E:\\COURSES\\Advanced Data Science With IBM\\Adva...</td>\n",
       "      <td>PNEUMONIA</td>\n",
       "    </tr>\n",
       "    <tr>\n",
       "      <th>3</th>\n",
       "      <td>E:\\COURSES\\Advanced Data Science With IBM\\Adva...</td>\n",
       "      <td>PNEUMONIA</td>\n",
       "    </tr>\n",
       "    <tr>\n",
       "      <th>4</th>\n",
       "      <td>E:\\COURSES\\Advanced Data Science With IBM\\Adva...</td>\n",
       "      <td>PNEUMONIA</td>\n",
       "    </tr>\n",
       "    <tr>\n",
       "      <th>...</th>\n",
       "      <td>...</td>\n",
       "      <td>...</td>\n",
       "    </tr>\n",
       "    <tr>\n",
       "      <th>4866</th>\n",
       "      <td>E:\\COURSES\\Advanced Data Science With IBM\\Adva...</td>\n",
       "      <td>PNEUMONIA</td>\n",
       "    </tr>\n",
       "    <tr>\n",
       "      <th>4867</th>\n",
       "      <td>E:\\COURSES\\Advanced Data Science With IBM\\Adva...</td>\n",
       "      <td>PNEUMONIA</td>\n",
       "    </tr>\n",
       "    <tr>\n",
       "      <th>4868</th>\n",
       "      <td>E:\\COURSES\\Advanced Data Science With IBM\\Adva...</td>\n",
       "      <td>PNEUMONIA</td>\n",
       "    </tr>\n",
       "    <tr>\n",
       "      <th>4869</th>\n",
       "      <td>E:\\COURSES\\Advanced Data Science With IBM\\Adva...</td>\n",
       "      <td>PNEUMONIA</td>\n",
       "    </tr>\n",
       "    <tr>\n",
       "      <th>4870</th>\n",
       "      <td>E:\\COURSES\\Advanced Data Science With IBM\\Adva...</td>\n",
       "      <td>NORMAL</td>\n",
       "    </tr>\n",
       "  </tbody>\n",
       "</table>\n",
       "<p>4871 rows × 2 columns</p>\n",
       "</div>"
      ],
      "text/plain": [
       "                                                   file      label\n",
       "0     E:\\COURSES\\Advanced Data Science With IBM\\Adva...     NORMAL\n",
       "1     E:\\COURSES\\Advanced Data Science With IBM\\Adva...  PNEUMONIA\n",
       "2     E:\\COURSES\\Advanced Data Science With IBM\\Adva...  PNEUMONIA\n",
       "3     E:\\COURSES\\Advanced Data Science With IBM\\Adva...  PNEUMONIA\n",
       "4     E:\\COURSES\\Advanced Data Science With IBM\\Adva...  PNEUMONIA\n",
       "...                                                 ...        ...\n",
       "4866  E:\\COURSES\\Advanced Data Science With IBM\\Adva...  PNEUMONIA\n",
       "4867  E:\\COURSES\\Advanced Data Science With IBM\\Adva...  PNEUMONIA\n",
       "4868  E:\\COURSES\\Advanced Data Science With IBM\\Adva...  PNEUMONIA\n",
       "4869  E:\\COURSES\\Advanced Data Science With IBM\\Adva...  PNEUMONIA\n",
       "4870  E:\\COURSES\\Advanced Data Science With IBM\\Adva...     NORMAL\n",
       "\n",
       "[4871 rows x 2 columns]"
      ]
     },
     "execution_count": 26,
     "metadata": {},
     "output_type": "execute_result"
    }
   ],
   "source": [
    "train_df"
   ]
  },
  {
   "cell_type": "code",
   "execution_count": 27,
   "metadata": {},
   "outputs": [
    {
     "data": {
      "text/html": [
       "<div>\n",
       "<style scoped>\n",
       "    .dataframe tbody tr th:only-of-type {\n",
       "        vertical-align: middle;\n",
       "    }\n",
       "\n",
       "    .dataframe tbody tr th {\n",
       "        vertical-align: top;\n",
       "    }\n",
       "\n",
       "    .dataframe thead th {\n",
       "        text-align: right;\n",
       "    }\n",
       "</style>\n",
       "<table border=\"1\" class=\"dataframe\">\n",
       "  <thead>\n",
       "    <tr style=\"text-align: right;\">\n",
       "      <th></th>\n",
       "      <th>file</th>\n",
       "      <th>label</th>\n",
       "    </tr>\n",
       "  </thead>\n",
       "  <tbody>\n",
       "    <tr>\n",
       "      <th>0</th>\n",
       "      <td>E:\\COURSES\\Advanced Data Science With IBM\\Adva...</td>\n",
       "      <td>NORMAL</td>\n",
       "    </tr>\n",
       "    <tr>\n",
       "      <th>1</th>\n",
       "      <td>E:\\COURSES\\Advanced Data Science With IBM\\Adva...</td>\n",
       "      <td>NORMAL</td>\n",
       "    </tr>\n",
       "    <tr>\n",
       "      <th>2</th>\n",
       "      <td>E:\\COURSES\\Advanced Data Science With IBM\\Adva...</td>\n",
       "      <td>NORMAL</td>\n",
       "    </tr>\n",
       "    <tr>\n",
       "      <th>3</th>\n",
       "      <td>E:\\COURSES\\Advanced Data Science With IBM\\Adva...</td>\n",
       "      <td>NORMAL</td>\n",
       "    </tr>\n",
       "    <tr>\n",
       "      <th>4</th>\n",
       "      <td>E:\\COURSES\\Advanced Data Science With IBM\\Adva...</td>\n",
       "      <td>NORMAL</td>\n",
       "    </tr>\n",
       "    <tr>\n",
       "      <th>...</th>\n",
       "      <td>...</td>\n",
       "      <td>...</td>\n",
       "    </tr>\n",
       "    <tr>\n",
       "      <th>854</th>\n",
       "      <td>E:\\COURSES\\Advanced Data Science With IBM\\Adva...</td>\n",
       "      <td>PNEUMONIA</td>\n",
       "    </tr>\n",
       "    <tr>\n",
       "      <th>855</th>\n",
       "      <td>E:\\COURSES\\Advanced Data Science With IBM\\Adva...</td>\n",
       "      <td>PNEUMONIA</td>\n",
       "    </tr>\n",
       "    <tr>\n",
       "      <th>856</th>\n",
       "      <td>E:\\COURSES\\Advanced Data Science With IBM\\Adva...</td>\n",
       "      <td>NORMAL</td>\n",
       "    </tr>\n",
       "    <tr>\n",
       "      <th>857</th>\n",
       "      <td>E:\\COURSES\\Advanced Data Science With IBM\\Adva...</td>\n",
       "      <td>PNEUMONIA</td>\n",
       "    </tr>\n",
       "    <tr>\n",
       "      <th>858</th>\n",
       "      <td>E:\\COURSES\\Advanced Data Science With IBM\\Adva...</td>\n",
       "      <td>PNEUMONIA</td>\n",
       "    </tr>\n",
       "  </tbody>\n",
       "</table>\n",
       "<p>859 rows × 2 columns</p>\n",
       "</div>"
      ],
      "text/plain": [
       "                                                  file      label\n",
       "0    E:\\COURSES\\Advanced Data Science With IBM\\Adva...     NORMAL\n",
       "1    E:\\COURSES\\Advanced Data Science With IBM\\Adva...     NORMAL\n",
       "2    E:\\COURSES\\Advanced Data Science With IBM\\Adva...     NORMAL\n",
       "3    E:\\COURSES\\Advanced Data Science With IBM\\Adva...     NORMAL\n",
       "4    E:\\COURSES\\Advanced Data Science With IBM\\Adva...     NORMAL\n",
       "..                                                 ...        ...\n",
       "854  E:\\COURSES\\Advanced Data Science With IBM\\Adva...  PNEUMONIA\n",
       "855  E:\\COURSES\\Advanced Data Science With IBM\\Adva...  PNEUMONIA\n",
       "856  E:\\COURSES\\Advanced Data Science With IBM\\Adva...     NORMAL\n",
       "857  E:\\COURSES\\Advanced Data Science With IBM\\Adva...  PNEUMONIA\n",
       "858  E:\\COURSES\\Advanced Data Science With IBM\\Adva...  PNEUMONIA\n",
       "\n",
       "[859 rows x 2 columns]"
      ]
     },
     "execution_count": 27,
     "metadata": {},
     "output_type": "execute_result"
    }
   ],
   "source": [
    "test_df"
   ]
  },
  {
   "cell_type": "code",
   "execution_count": 28,
   "metadata": {},
   "outputs": [],
   "source": [
    "# split train set further into train and validation set\n",
    "\n",
    "newtrain_df = train_df.sample(frac=0.85,random_state=200) #random state is a seed value\n",
    "validation_df = train_df.drop(newtrain_df.index)"
   ]
  },
  {
   "cell_type": "code",
   "execution_count": 29,
   "metadata": {},
   "outputs": [],
   "source": [
    "train_df = newtrain_df.reset_index(drop=True)\n",
    "validation_df = validation_df.reset_index(drop=True)"
   ]
  },
  {
   "cell_type": "code",
   "execution_count": 30,
   "metadata": {},
   "outputs": [
    {
     "data": {
      "text/html": [
       "<div>\n",
       "<style scoped>\n",
       "    .dataframe tbody tr th:only-of-type {\n",
       "        vertical-align: middle;\n",
       "    }\n",
       "\n",
       "    .dataframe tbody tr th {\n",
       "        vertical-align: top;\n",
       "    }\n",
       "\n",
       "    .dataframe thead th {\n",
       "        text-align: right;\n",
       "    }\n",
       "</style>\n",
       "<table border=\"1\" class=\"dataframe\">\n",
       "  <thead>\n",
       "    <tr style=\"text-align: right;\">\n",
       "      <th></th>\n",
       "      <th>file</th>\n",
       "      <th>label</th>\n",
       "    </tr>\n",
       "  </thead>\n",
       "  <tbody>\n",
       "    <tr>\n",
       "      <th>0</th>\n",
       "      <td>E:\\COURSES\\Advanced Data Science With IBM\\Adva...</td>\n",
       "      <td>PNEUMONIA</td>\n",
       "    </tr>\n",
       "    <tr>\n",
       "      <th>1</th>\n",
       "      <td>E:\\COURSES\\Advanced Data Science With IBM\\Adva...</td>\n",
       "      <td>PNEUMONIA</td>\n",
       "    </tr>\n",
       "    <tr>\n",
       "      <th>2</th>\n",
       "      <td>E:\\COURSES\\Advanced Data Science With IBM\\Adva...</td>\n",
       "      <td>NORMAL</td>\n",
       "    </tr>\n",
       "    <tr>\n",
       "      <th>3</th>\n",
       "      <td>E:\\COURSES\\Advanced Data Science With IBM\\Adva...</td>\n",
       "      <td>NORMAL</td>\n",
       "    </tr>\n",
       "    <tr>\n",
       "      <th>4</th>\n",
       "      <td>E:\\COURSES\\Advanced Data Science With IBM\\Adva...</td>\n",
       "      <td>NORMAL</td>\n",
       "    </tr>\n",
       "    <tr>\n",
       "      <th>...</th>\n",
       "      <td>...</td>\n",
       "      <td>...</td>\n",
       "    </tr>\n",
       "    <tr>\n",
       "      <th>4135</th>\n",
       "      <td>E:\\COURSES\\Advanced Data Science With IBM\\Adva...</td>\n",
       "      <td>NORMAL</td>\n",
       "    </tr>\n",
       "    <tr>\n",
       "      <th>4136</th>\n",
       "      <td>E:\\COURSES\\Advanced Data Science With IBM\\Adva...</td>\n",
       "      <td>PNEUMONIA</td>\n",
       "    </tr>\n",
       "    <tr>\n",
       "      <th>4137</th>\n",
       "      <td>E:\\COURSES\\Advanced Data Science With IBM\\Adva...</td>\n",
       "      <td>PNEUMONIA</td>\n",
       "    </tr>\n",
       "    <tr>\n",
       "      <th>4138</th>\n",
       "      <td>E:\\COURSES\\Advanced Data Science With IBM\\Adva...</td>\n",
       "      <td>PNEUMONIA</td>\n",
       "    </tr>\n",
       "    <tr>\n",
       "      <th>4139</th>\n",
       "      <td>E:\\COURSES\\Advanced Data Science With IBM\\Adva...</td>\n",
       "      <td>NORMAL</td>\n",
       "    </tr>\n",
       "  </tbody>\n",
       "</table>\n",
       "<p>4140 rows × 2 columns</p>\n",
       "</div>"
      ],
      "text/plain": [
       "                                                   file      label\n",
       "0     E:\\COURSES\\Advanced Data Science With IBM\\Adva...  PNEUMONIA\n",
       "1     E:\\COURSES\\Advanced Data Science With IBM\\Adva...  PNEUMONIA\n",
       "2     E:\\COURSES\\Advanced Data Science With IBM\\Adva...     NORMAL\n",
       "3     E:\\COURSES\\Advanced Data Science With IBM\\Adva...     NORMAL\n",
       "4     E:\\COURSES\\Advanced Data Science With IBM\\Adva...     NORMAL\n",
       "...                                                 ...        ...\n",
       "4135  E:\\COURSES\\Advanced Data Science With IBM\\Adva...     NORMAL\n",
       "4136  E:\\COURSES\\Advanced Data Science With IBM\\Adva...  PNEUMONIA\n",
       "4137  E:\\COURSES\\Advanced Data Science With IBM\\Adva...  PNEUMONIA\n",
       "4138  E:\\COURSES\\Advanced Data Science With IBM\\Adva...  PNEUMONIA\n",
       "4139  E:\\COURSES\\Advanced Data Science With IBM\\Adva...     NORMAL\n",
       "\n",
       "[4140 rows x 2 columns]"
      ]
     },
     "execution_count": 30,
     "metadata": {},
     "output_type": "execute_result"
    }
   ],
   "source": [
    "train_df"
   ]
  },
  {
   "cell_type": "code",
   "execution_count": 31,
   "metadata": {},
   "outputs": [
    {
     "data": {
      "text/html": [
       "<div>\n",
       "<style scoped>\n",
       "    .dataframe tbody tr th:only-of-type {\n",
       "        vertical-align: middle;\n",
       "    }\n",
       "\n",
       "    .dataframe tbody tr th {\n",
       "        vertical-align: top;\n",
       "    }\n",
       "\n",
       "    .dataframe thead th {\n",
       "        text-align: right;\n",
       "    }\n",
       "</style>\n",
       "<table border=\"1\" class=\"dataframe\">\n",
       "  <thead>\n",
       "    <tr style=\"text-align: right;\">\n",
       "      <th></th>\n",
       "      <th>file</th>\n",
       "      <th>label</th>\n",
       "    </tr>\n",
       "  </thead>\n",
       "  <tbody>\n",
       "    <tr>\n",
       "      <th>0</th>\n",
       "      <td>E:\\COURSES\\Advanced Data Science With IBM\\Adva...</td>\n",
       "      <td>NORMAL</td>\n",
       "    </tr>\n",
       "    <tr>\n",
       "      <th>1</th>\n",
       "      <td>E:\\COURSES\\Advanced Data Science With IBM\\Adva...</td>\n",
       "      <td>PNEUMONIA</td>\n",
       "    </tr>\n",
       "    <tr>\n",
       "      <th>2</th>\n",
       "      <td>E:\\COURSES\\Advanced Data Science With IBM\\Adva...</td>\n",
       "      <td>PNEUMONIA</td>\n",
       "    </tr>\n",
       "    <tr>\n",
       "      <th>3</th>\n",
       "      <td>E:\\COURSES\\Advanced Data Science With IBM\\Adva...</td>\n",
       "      <td>NORMAL</td>\n",
       "    </tr>\n",
       "    <tr>\n",
       "      <th>4</th>\n",
       "      <td>E:\\COURSES\\Advanced Data Science With IBM\\Adva...</td>\n",
       "      <td>NORMAL</td>\n",
       "    </tr>\n",
       "    <tr>\n",
       "      <th>...</th>\n",
       "      <td>...</td>\n",
       "      <td>...</td>\n",
       "    </tr>\n",
       "    <tr>\n",
       "      <th>726</th>\n",
       "      <td>E:\\COURSES\\Advanced Data Science With IBM\\Adva...</td>\n",
       "      <td>PNEUMONIA</td>\n",
       "    </tr>\n",
       "    <tr>\n",
       "      <th>727</th>\n",
       "      <td>E:\\COURSES\\Advanced Data Science With IBM\\Adva...</td>\n",
       "      <td>PNEUMONIA</td>\n",
       "    </tr>\n",
       "    <tr>\n",
       "      <th>728</th>\n",
       "      <td>E:\\COURSES\\Advanced Data Science With IBM\\Adva...</td>\n",
       "      <td>PNEUMONIA</td>\n",
       "    </tr>\n",
       "    <tr>\n",
       "      <th>729</th>\n",
       "      <td>E:\\COURSES\\Advanced Data Science With IBM\\Adva...</td>\n",
       "      <td>PNEUMONIA</td>\n",
       "    </tr>\n",
       "    <tr>\n",
       "      <th>730</th>\n",
       "      <td>E:\\COURSES\\Advanced Data Science With IBM\\Adva...</td>\n",
       "      <td>PNEUMONIA</td>\n",
       "    </tr>\n",
       "  </tbody>\n",
       "</table>\n",
       "<p>731 rows × 2 columns</p>\n",
       "</div>"
      ],
      "text/plain": [
       "                                                  file      label\n",
       "0    E:\\COURSES\\Advanced Data Science With IBM\\Adva...     NORMAL\n",
       "1    E:\\COURSES\\Advanced Data Science With IBM\\Adva...  PNEUMONIA\n",
       "2    E:\\COURSES\\Advanced Data Science With IBM\\Adva...  PNEUMONIA\n",
       "3    E:\\COURSES\\Advanced Data Science With IBM\\Adva...     NORMAL\n",
       "4    E:\\COURSES\\Advanced Data Science With IBM\\Adva...     NORMAL\n",
       "..                                                 ...        ...\n",
       "726  E:\\COURSES\\Advanced Data Science With IBM\\Adva...  PNEUMONIA\n",
       "727  E:\\COURSES\\Advanced Data Science With IBM\\Adva...  PNEUMONIA\n",
       "728  E:\\COURSES\\Advanced Data Science With IBM\\Adva...  PNEUMONIA\n",
       "729  E:\\COURSES\\Advanced Data Science With IBM\\Adva...  PNEUMONIA\n",
       "730  E:\\COURSES\\Advanced Data Science With IBM\\Adva...  PNEUMONIA\n",
       "\n",
       "[731 rows x 2 columns]"
      ]
     },
     "execution_count": 31,
     "metadata": {},
     "output_type": "execute_result"
    }
   ],
   "source": [
    "validation_df"
   ]
  },
  {
   "cell_type": "markdown",
   "metadata": {},
   "source": [
    "We now have three data sets\n",
    "- train_df (training set)\n",
    "- validation_df (validation set)\n",
    "\n",
    "- test_df (final test set)"
   ]
  },
  {
   "cell_type": "markdown",
   "metadata": {},
   "source": [
    "#### 5. Shape and color of images"
   ]
  },
  {
   "cell_type": "code",
   "execution_count": 32,
   "metadata": {},
   "outputs": [],
   "source": [
    "# Retrieving the geometry of the image and the number of pixels\n",
    "# Images in scikit-image are represented by NumPy ndarrays. \n",
    "# Hence, many common operations can be achieved using standard NumPy methods for manipulating arrays\n",
    "\n",
    "x = []\n",
    "y = []\n",
    "z = []\n",
    "listofdataframes = [train_df, validation_df, test_df]\n",
    "\n",
    "for df in listofdataframes:\n",
    "    for index, row in df.iterrows():\n",
    "        image = row['file']\n",
    "        s = io.imread(image)\n",
    "        x.append(s.shape[0])\n",
    "        y.append(s.shape[1])\n",
    "        if(len(s.shape) == 3):\n",
    "            z.append(1)\n",
    "        else:\n",
    "            z.append(0)"
   ]
  },
  {
   "cell_type": "code",
   "execution_count": 33,
   "metadata": {},
   "outputs": [],
   "source": [
    "import numpy as np\n",
    "import pandas as pd\n",
    "\n",
    "df = pd.DataFrame({'x': x,\n",
    "                   'y': y,\n",
    "                   'z': z})"
   ]
  },
  {
   "cell_type": "code",
   "execution_count": 34,
   "metadata": {},
   "outputs": [
    {
     "data": {
      "image/png": "[encoded data removed]",
      "text/plain": [
       "<Figure size 432x288 with 1 Axes>"
      ]
     },
     "metadata": {
      "needs_background": "light"
     },
     "output_type": "display_data"
    }
   ],
   "source": [
    "area = 2\n",
    "plt.scatter(x, y, c=df.z, s=area,  alpha=0.5)\n",
    "plt.title('Image sizes and color')\n",
    "plt.xlabel('x (width)')\n",
    "plt.ylabel('y (height)')\n",
    "classes = [ 'Greyscale', 'RGB']\n",
    "groups = df.groupby('z')\n",
    "for name, group in groups:\n",
    "    name = classes[0] if name == 0 else classes[1]\n",
    "    plt.plot(group.x, group.y, marker='.', linestyle='', markersize=1, label=name)\n",
    "\n",
    "plt.legend(title=\"color\", markerscale=10)\n",
    "\n",
    "plt.show()"
   ]
  },
  {
   "cell_type": "markdown",
   "metadata": {},
   "source": [
    " Since all the images are of different sizes, it will be necessary to reshape them to the same size.\n",
    " Also some are greyscale while other are RGB, so it will be necessary to normalize all images to the same color space (greyscale) "
   ]
  },
  {
   "cell_type": "markdown",
   "metadata": {},
   "source": [
    "## Data Preprocessing\n",
    "\n",
    "The following steps need to be done in the data preprocessing step\n",
    "\n",
    "#### Data Normalization Step\n",
    "\n",
    "We perform a grayscale normalization to reduce the effect of illumination's differences.\n",
    "Divide values by 255 to get a value between 0 and 1. \n",
    "\n",
    "#### Image Resize\n",
    "images need to be resized to the same size - both training and test set\n",
    "\n",
    "NOTE: this step will be done within train_datagen.flow_from_dataframe function by setting parameter 'target_size'"
   ]
  },
  {
   "cell_type": "markdown",
   "metadata": {},
   "source": [
    "This is an example using skimage (we are not using this here)"
   ]
  },
  {
   "cell_type": "code",
   "execution_count": 35,
   "metadata": {},
   "outputs": [
    {
     "data": {
      "image/png": "[encoded data removed]",
      "text/plain": [
       "<Figure size 432x288 with 1 Axes>"
      ]
     },
     "metadata": {
      "needs_background": "light"
     },
     "output_type": "display_data"
    },
    {
     "name": "stdout",
     "output_type": "stream",
     "text": [
      "(150, 150)\n"
     ]
    }
   ],
   "source": [
    "from skimage.transform import resize\n",
    "img = io.imread(train_df['file'][0])\n",
    "img_rescaled = resize(img, (150,150))\n",
    "\n",
    "imgplot = plt.imshow(img_rescaled, cmap=\"gray\")\n",
    "plt.show()\n",
    "print(img_rescaled.shape)"
   ]
  },
  {
   "cell_type": "markdown",
   "metadata": {},
   "source": [
    "### Image Augmentation Step"
   ]
  },
  {
   "cell_type": "markdown",
   "metadata": {},
   "source": [
    "In order to avoid overfitting problem, alter the training data with small transformations to reproduce the variations. Approaches that alter the training data in ways that change the array representation while keeping the label the same are known as data augmentation techniques. Some popular augmentations people use are grayscales, horizontal flips, vertical flips, random crops, color jitters, translations, rotations, and much more. By applying just a couple of these transformations to our training data, we can easily double or triple the number of training examples and create a very robust model."
   ]
  },
  {
   "cell_type": "code",
   "execution_count": 36,
   "metadata": {},
   "outputs": [
    {
     "name": "stdout",
     "output_type": "stream",
     "text": [
      "2.2.0\n"
     ]
    }
   ],
   "source": [
    "import tensorflow as tf\n",
    "print(tf.__version__)"
   ]
  },
  {
   "cell_type": "code",
   "execution_count": 37,
   "metadata": {},
   "outputs": [],
   "source": [
    "from keras.preprocessing.image import ImageDataGenerator"
   ]
  },
  {
   "cell_type": "markdown",
   "metadata": {},
   "source": [
    "#### 1. Preprocessing the Training Set\n",
    "\n",
    "Transformation on the images of the training set to avoid overfitting (data augmentation - see above)"
   ]
  },
  {
   "cell_type": "raw",
   "metadata": {},
   "source": [
    "Randomly Zoom by 5% some training images\n",
    "Randomly shift images horizontally by 5% of the width\n",
    "Randomly shift images vertically by 5% of the height\n",
    "Randomly flip images horizontally. \n",
    "\n",
    "rescale=1./255 divides all the pixels by 255 so they end up between 0 and 1 - normalization"
   ]
  },
  {
   "cell_type": "code",
   "execution_count": 38,
   "metadata": {},
   "outputs": [],
   "source": [
    "train_datagen = ImageDataGenerator(\n",
    "        rescale=1./255,\n",
    "        zoom_range=0.05,\n",
    "        horizontal_flip=True,\n",
    "        width_shift_range=0.05,\n",
    "        height_shift_range=0.05)"
   ]
  },
  {
   "cell_type": "code",
   "execution_count": 39,
   "metadata": {},
   "outputs": [
    {
     "name": "stdout",
     "output_type": "stream",
     "text": [
      "Found 4140 validated image filenames belonging to 2 classes.\n"
     ]
    }
   ],
   "source": [
    "train_set = train_datagen.flow_from_dataframe(\n",
    "    train_df,\n",
    "    directory=None,\n",
    "    x_col=\"file\",\n",
    "    y_col=\"label\",\n",
    "    weight_col=None,\n",
    "    target_size=(128, 128),\n",
    "    color_mode=\"grayscale\",\n",
    "    classes=None,\n",
    "    class_mode=\"binary\",\n",
    "    batch_size=32,\n",
    "    shuffle=True,\n",
    "    seed=None,\n",
    "    save_to_dir=None,\n",
    "    save_prefix=\"\",\n",
    "    save_format=\"png\",\n",
    "    subset=None,\n",
    "    interpolation=\"nearest\",\n",
    ")"
   ]
  },
  {
   "cell_type": "markdown",
   "metadata": {},
   "source": [
    "#### 2. Preprocesing the validation and test set\n",
    "\n",
    "Here we need to keep the images as they were with no modifications but we have to feature scale the images to match the feature scaling done to the test images."
   ]
  },
  {
   "cell_type": "code",
   "execution_count": 40,
   "metadata": {},
   "outputs": [],
   "source": [
    "test_datagen = ImageDataGenerator(\n",
    "        rescale=1./255\n",
    "        )"
   ]
  },
  {
   "cell_type": "code",
   "execution_count": 41,
   "metadata": {},
   "outputs": [],
   "source": [
    "validation_datagen = ImageDataGenerator(\n",
    "        rescale=1./255\n",
    "        )"
   ]
  },
  {
   "cell_type": "code",
   "execution_count": 42,
   "metadata": {},
   "outputs": [
    {
     "name": "stdout",
     "output_type": "stream",
     "text": [
      "Found 731 validated image filenames belonging to 2 classes.\n"
     ]
    }
   ],
   "source": [
    "validation_set = validation_datagen.flow_from_dataframe(\n",
    "    validation_df,\n",
    "    directory=None,\n",
    "    x_col=\"file\",\n",
    "    y_col=\"label\",\n",
    "    weight_col=None,\n",
    "    target_size=(128, 128),\n",
    "    color_mode=\"grayscale\",\n",
    "    classes=None,\n",
    "    class_mode=\"binary\",\n",
    "    batch_size=32,\n",
    "    shuffle=True,\n",
    "    seed=None,\n",
    "    save_to_dir=None,\n",
    "    save_prefix=\"\",\n",
    "    save_format=\"png\",\n",
    "    subset=None,\n",
    "    interpolation=\"nearest\",\n",
    ")"
   ]
  },
  {
   "cell_type": "code",
   "execution_count": 43,
   "metadata": {},
   "outputs": [
    {
     "name": "stdout",
     "output_type": "stream",
     "text": [
      "Found 859 validated image filenames belonging to 2 classes.\n"
     ]
    }
   ],
   "source": [
    "test_set = test_datagen.flow_from_dataframe(\n",
    "    test_df,\n",
    "    directory=None,\n",
    "    x_col=\"file\",\n",
    "    y_col=\"label\",\n",
    "    weight_col=None,\n",
    "    target_size=(128, 128),\n",
    "    color_mode=\"grayscale\",\n",
    "    classes=None,\n",
    "    class_mode=\"binary\",\n",
    "    batch_size=32,\n",
    "    shuffle=True,\n",
    "    seed=None,\n",
    "    save_to_dir=None,\n",
    "    save_prefix=\"\",\n",
    "    save_format=\"png\",\n",
    "    subset=None,\n",
    "    interpolation=\"nearest\",\n",
    ")"
   ]
  },
  {
   "cell_type": "markdown",
   "metadata": {},
   "source": [
    "### Building the CNN"
   ]
  },
  {
   "cell_type": "markdown",
   "metadata": {},
   "source": [
    "#### 1. Convolution"
   ]
  },
  {
   "cell_type": "code",
   "execution_count": 44,
   "metadata": {},
   "outputs": [],
   "source": [
    "cnn = tf.keras.models.Sequential()"
   ]
  },
  {
   "cell_type": "code",
   "execution_count": 45,
   "metadata": {},
   "outputs": [],
   "source": [
    "cnn.add(tf.keras.layers.Conv2D(filters=32, \n",
    "                               kernel_size=3,\n",
    "                               activation='relu',\n",
    "                               input_shape=(128,128,1)\n",
    "                              ))"
   ]
  },
  {
   "cell_type": "markdown",
   "metadata": {},
   "source": [
    "#### 2. Pooling"
   ]
  },
  {
   "cell_type": "code",
   "execution_count": 46,
   "metadata": {},
   "outputs": [],
   "source": [
    "cnn.add(tf.keras.layers.MaxPool2D(pool_size=2, strides=2))"
   ]
  },
  {
   "cell_type": "markdown",
   "metadata": {},
   "source": [
    "#### Add a second Convolutional Layer"
   ]
  },
  {
   "cell_type": "code",
   "execution_count": 47,
   "metadata": {},
   "outputs": [],
   "source": [
    "cnn.add(tf.keras.layers.Conv2D(filters=32, \n",
    "                               kernel_size=3,\n",
    "                               activation='relu'\n",
    "                              ))\n",
    "cnn.add(tf.keras.layers.MaxPool2D(pool_size=2, strides=2))"
   ]
  },
  {
   "cell_type": "markdown",
   "metadata": {},
   "source": [
    "#### 3. Flattening"
   ]
  },
  {
   "cell_type": "code",
   "execution_count": 48,
   "metadata": {},
   "outputs": [],
   "source": [
    "cnn.add(tf.keras.layers.Flatten())"
   ]
  },
  {
   "cell_type": "markdown",
   "metadata": {},
   "source": [
    "#### 4. Full Connection"
   ]
  },
  {
   "cell_type": "code",
   "execution_count": 49,
   "metadata": {},
   "outputs": [],
   "source": [
    "#units = number of hidden neurons - larger number better for images\n",
    "cnn.add(tf.keras.layers.Dense(units=128, activation='relu'))"
   ]
  },
  {
   "cell_type": "markdown",
   "metadata": {},
   "source": [
    "#### 5. Output Layer"
   ]
  },
  {
   "cell_type": "code",
   "execution_count": 50,
   "metadata": {},
   "outputs": [],
   "source": [
    "#units = 1 for binary classification\n",
    "cnn.add(tf.keras.layers.Dense(units=1, activation='sigmoid'))"
   ]
  },
  {
   "cell_type": "markdown",
   "metadata": {},
   "source": [
    "### Training The CNN"
   ]
  },
  {
   "cell_type": "markdown",
   "metadata": {},
   "source": [
    "#### 1. Calculate class weights\n",
    "\n",
    "We will use the class_weights to correct for class imbalance to avoid a bias towards the majority class.\n",
    "\n",
    "Formula to calculate the weight for a class\n",
    "\n",
    "wj=n_samples / (n_classes * n_samplesj)"
   ]
  },
  {
   "cell_type": "raw",
   "metadata": {},
   "source": [
    "wj is the weight for class j\n",
    "n_samples is the total number of samples or rows in the dataset\n",
    "n_classes is the total number of unique classes in the target\n",
    "n_samplesj is the total number of rows of the respective class"
   ]
  },
  {
   "cell_type": "code",
   "execution_count": 72,
   "metadata": {},
   "outputs": [
    {
     "name": "stdout",
     "output_type": "stream",
     "text": [
      "                                                   file      label\n",
      "0     E:\\COURSES\\Advanced Data Science With IBM\\Adva...  PNEUMONIA\n",
      "1     E:\\COURSES\\Advanced Data Science With IBM\\Adva...  PNEUMONIA\n",
      "6     E:\\COURSES\\Advanced Data Science With IBM\\Adva...  PNEUMONIA\n",
      "8     E:\\COURSES\\Advanced Data Science With IBM\\Adva...  PNEUMONIA\n",
      "9     E:\\COURSES\\Advanced Data Science With IBM\\Adva...  PNEUMONIA\n",
      "...                                                 ...        ...\n",
      "4133  E:\\COURSES\\Advanced Data Science With IBM\\Adva...  PNEUMONIA\n",
      "4134  E:\\COURSES\\Advanced Data Science With IBM\\Adva...  PNEUMONIA\n",
      "4136  E:\\COURSES\\Advanced Data Science With IBM\\Adva...  PNEUMONIA\n",
      "4137  E:\\COURSES\\Advanced Data Science With IBM\\Adva...  PNEUMONIA\n",
      "4138  E:\\COURSES\\Advanced Data Science With IBM\\Adva...  PNEUMONIA\n",
      "\n",
      "[3036 rows x 2 columns]\n"
     ]
    }
   ],
   "source": [
    "pneumonia_df = train_df.loc[train_df['label'] == 'PNEUMONIA']\n",
    "print(pneumonia_df)"
   ]
  },
  {
   "cell_type": "code",
   "execution_count": 73,
   "metadata": {},
   "outputs": [
    {
     "name": "stdout",
     "output_type": "stream",
     "text": [
      "                                                   file   label\n",
      "2     E:\\COURSES\\Advanced Data Science With IBM\\Adva...  NORMAL\n",
      "3     E:\\COURSES\\Advanced Data Science With IBM\\Adva...  NORMAL\n",
      "4     E:\\COURSES\\Advanced Data Science With IBM\\Adva...  NORMAL\n",
      "5     E:\\COURSES\\Advanced Data Science With IBM\\Adva...  NORMAL\n",
      "7     E:\\COURSES\\Advanced Data Science With IBM\\Adva...  NORMAL\n",
      "...                                                 ...     ...\n",
      "4121  E:\\COURSES\\Advanced Data Science With IBM\\Adva...  NORMAL\n",
      "4122  E:\\COURSES\\Advanced Data Science With IBM\\Adva...  NORMAL\n",
      "4128  E:\\COURSES\\Advanced Data Science With IBM\\Adva...  NORMAL\n",
      "4135  E:\\COURSES\\Advanced Data Science With IBM\\Adva...  NORMAL\n",
      "4139  E:\\COURSES\\Advanced Data Science With IBM\\Adva...  NORMAL\n",
      "\n",
      "[1104 rows x 2 columns]\n"
     ]
    }
   ],
   "source": [
    "normal_df = train_df.loc[train_df['label'] == 'NORMAL']\n",
    "print(normal_df)"
   ]
  },
  {
   "cell_type": "code",
   "execution_count": 74,
   "metadata": {},
   "outputs": [
    {
     "name": "stdout",
     "output_type": "stream",
     "text": [
      "weights: pneumonia =  0.6818181818181818 , normal =  1.875\n"
     ]
    }
   ],
   "source": [
    "n_samples = len(train_df)\n",
    "n_classes = 2\n",
    "n_pneumonia = len(pneumonia_df)\n",
    "n_normal = len(normal_df)\n",
    "\n",
    "w_pneumonia = n_samples/(n_classes*n_pneumonia)\n",
    "w_normal = n_samples/(n_classes*n_normal)\n",
    "\n",
    "print(\"weights: pneumonia = \", w_pneumonia, \", normal = \", w_normal)"
   ]
  },
  {
   "cell_type": "code",
   "execution_count": 76,
   "metadata": {},
   "outputs": [
    {
     "data": {
      "text/plain": [
       "{'NORMAL': 0, 'PNEUMONIA': 1}"
      ]
     },
     "execution_count": 76,
     "metadata": {},
     "output_type": "execute_result"
    }
   ],
   "source": [
    "# get the class indices\n",
    "\n",
    "train_set.class_indices\n"
   ]
  },
  {
   "cell_type": "code",
   "execution_count": 78,
   "metadata": {},
   "outputs": [],
   "source": [
    "# assign the class weights calculated above\n",
    "# we will use this in the fit() method below\n",
    "\n",
    "class_weight = {0: w_normal, 1: w_pneumonia}\n"
   ]
  },
  {
   "cell_type": "markdown",
   "metadata": {},
   "source": [
    "#### 2. Compiling the CNN"
   ]
  },
  {
   "cell_type": "code",
   "execution_count": 51,
   "metadata": {},
   "outputs": [],
   "source": [
    "METRICS = [\n",
    "        'accuracy',\n",
    "        tf.keras.metrics.Precision(name='precision'),\n",
    "        tf.keras.metrics.Recall(name='recall')\n",
    "    ]"
   ]
  },
  {
   "cell_type": "code",
   "execution_count": 52,
   "metadata": {},
   "outputs": [],
   "source": [
    "cnn.compile(optimizer='adam', loss='binary_crossentropy', metrics=METRICS)"
   ]
  },
  {
   "cell_type": "markdown",
   "metadata": {},
   "source": [
    "#### 3. Training the CNN"
   ]
  },
  {
   "cell_type": "code",
   "execution_count": null,
   "metadata": {
    "scrolled": true
   },
   "outputs": [
    {
     "name": "stdout",
     "output_type": "stream",
     "text": [
      "Epoch 1/50\n",
      "130/130 [==============================] - 21s 165ms/step - loss: 0.0306 - accuracy: 0.9870 - precision: 0.9957 - recall: 0.9865 - val_loss: 0.8637 - val_accuracy: 0.8591 - val_precision: 0.8284 - val_recall: 0.9893\n",
      "Epoch 2/50\n",
      "130/130 [==============================] - 22s 166ms/step - loss: 0.0277 - accuracy: 0.9899 - precision: 0.9967 - recall: 0.9895 - val_loss: 1.1784 - val_accuracy: 0.8219 - val_precision: 0.7881 - val_recall: 0.9947\n",
      "Epoch 3/50\n",
      "130/130 [==============================] - 22s 167ms/step - loss: 0.0239 - accuracy: 0.9906 - precision: 0.9973 - recall: 0.9898 - val_loss: 0.6337 - val_accuracy: 0.8789 - val_precision: 0.8565 - val_recall: 0.9786\n",
      "Epoch 4/50\n",
      "130/130 [==============================] - 21s 165ms/step - loss: 0.0296 - accuracy: 0.9879 - precision: 0.9954 - recall: 0.9881 - val_loss: 0.6787 - val_accuracy: 0.8836 - val_precision: 0.8552 - val_recall: 0.9893\n",
      "Epoch 5/50\n",
      "130/130 [==============================] - 21s 165ms/step - loss: 0.0280 - accuracy: 0.9879 - precision: 0.9970 - recall: 0.9865 - val_loss: 0.4500 - val_accuracy: 0.8987 - val_precision: 0.8774 - val_recall: 0.9822\n",
      "Epoch 6/50\n",
      "130/130 [==============================] - 22s 166ms/step - loss: 0.0330 - accuracy: 0.9841 - precision: 0.9957 - recall: 0.9825 - val_loss: 0.8604 - val_accuracy: 0.8580 - val_precision: 0.8262 - val_recall: 0.9911\n",
      "Epoch 7/50\n",
      "130/130 [==============================] - 22s 168ms/step - loss: 0.0209 - accuracy: 0.9915 - precision: 0.9970 - recall: 0.9914 - val_loss: 0.7940 - val_accuracy: 0.8754 - val_precision: 0.8450 - val_recall: 0.9911\n",
      "Epoch 8/50\n",
      "130/130 [==============================] - 22s 166ms/step - loss: 0.0239 - accuracy: 0.9889 - precision: 0.9967 - recall: 0.9881 - val_loss: 1.0275 - val_accuracy: 0.8463 - val_precision: 0.8131 - val_recall: 0.9929\n",
      "Epoch 9/50\n",
      "130/130 [==============================] - 22s 166ms/step - loss: 0.0350 - accuracy: 0.9850 - precision: 0.9947 - recall: 0.9848 - val_loss: 0.8157 - val_accuracy: 0.8743 - val_precision: 0.8469 - val_recall: 0.9857\n",
      "Epoch 10/50\n",
      "130/130 [==============================] - 22s 166ms/step - loss: 0.0254 - accuracy: 0.9920 - precision: 0.9977 - recall: 0.9914 - val_loss: 0.5823 - val_accuracy: 0.8987 - val_precision: 0.8774 - val_recall: 0.9822\n",
      "Epoch 11/50\n",
      "130/130 [==============================] - 22s 167ms/step - loss: 0.0260 - accuracy: 0.9894 - precision: 0.9970 - recall: 0.9885 - val_loss: 0.8446 - val_accuracy: 0.8754 - val_precision: 0.8450 - val_recall: 0.9911\n",
      "Epoch 12/50\n",
      "130/130 [==============================] - 22s 167ms/step - loss: 0.0220 - accuracy: 0.9908 - precision: 0.9973 - recall: 0.9901 - val_loss: 0.8427 - val_accuracy: 0.8696 - val_precision: 0.8396 - val_recall: 0.9893\n",
      "Epoch 13/50\n",
      "130/130 [==============================] - 22s 167ms/step - loss: 0.0185 - accuracy: 0.9915 - precision: 0.9980 - recall: 0.9904 - val_loss: 0.8313 - val_accuracy: 0.8766 - val_precision: 0.8452 - val_recall: 0.9929\n",
      "Epoch 14/50\n",
      "  6/130 [>.............................] - ETA: 14s - loss: 0.0065 - accuracy: 0.9948 - precision: 1.0000 - recall: 0.9928"
     ]
    }
   ],
   "source": [
    "# NOTE - cannot use the validation_split when using data set generators so need to split the dataframe manually\n",
    "# into train and validation set. This was done above\n",
    "\n",
    "history = cnn.fit(x = train_set, class_weight=class_weight, validation_data = test_set, epochs=50 )\n"
   ]
  },
  {
   "cell_type": "markdown",
   "metadata": {},
   "source": [
    "### Evaluating"
   ]
  },
  {
   "cell_type": "code",
   "execution_count": 83,
   "metadata": {},
   "outputs": [
    {
     "data": {
      "image/png": "[encoded data removed]",
      "text/plain": [
       "<Figure size 1440x360 with 2 Axes>"
      ]
     },
     "metadata": {
      "needs_background": "light"
     },
     "output_type": "display_data"
    }
   ],
   "source": [
    "plt.figure(figsize=(20,5))\n",
    "\n",
    "# plot loss & val loss\n",
    "plt.subplot(1,2,1)\n",
    "sns.lineplot(x=history.epoch, y=history.history['loss'], color='red', label='Loss')\n",
    "sns.lineplot(x=history.epoch, y=history.history['val_loss'], color='orange', label='Val Loss')\n",
    "plt.title('Loss on train vs validation')\n",
    "plt.legend(loc='best')\n",
    "\n",
    "# plot accuracy and val accuracy\n",
    "plt.subplot(1,2,2)\n",
    "sns.lineplot(x=history.epoch, y=history.history['accuracy'], color='blue', label='Accuracy')\n",
    "sns.lineplot(x=history.epoch, y=history.history['val_accuracy'], color='green', label='Val Accuracy')\n",
    "plt.title('Accuracy on train vs validation')\n",
    "plt.legend(loc='best')\n",
    "\n",
    "plt.show()"
   ]
  },
  {
   "cell_type": "code",
   "execution_count": null,
   "metadata": {},
   "outputs": [],
   "source": [
    "# something is wrong - need to determine why the cirves look like this"
   ]
  },
  {
   "cell_type": "code",
   "execution_count": null,
   "metadata": {},
   "outputs": [],
   "source": []
  }
 ],
 "metadata": {
  "kernelspec": {
   "display_name": "Python 3",
   "language": "python",
   "name": "python3"
  },
  "language_info": {
   "codemirror_mode": {
    "name": "ipython",
    "version": 3
   },
   "file_extension": ".py",
   "mimetype": "text/x-python",
   "name": "python",
   "nbconvert_exporter": "python",
   "pygments_lexer": "ipython3",
   "version": "3.6.8"
  }
 },
 "nbformat": 4,
 "nbformat_minor": 4
}
